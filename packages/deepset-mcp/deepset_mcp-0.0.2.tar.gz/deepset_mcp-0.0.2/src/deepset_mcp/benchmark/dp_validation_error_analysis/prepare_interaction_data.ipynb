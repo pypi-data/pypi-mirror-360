{
 "cells": [
  {
   "cell_type": "code",
   "id": "initial_id",
   "metadata": {
    "collapsed": true
   },
   "source": "from deepset_mcp.benchmark.dp_validation_error_analysis.preprocessing_utils import drop_common_columns, rename_common_columns",
   "outputs": [],
   "execution_count": null
  },
  {
   "metadata": {},
   "cell_type": "code",
   "source": "import pandas as pd",
   "id": "5da2787af99aacb5",
   "outputs": [],
   "execution_count": null
  },
  {
   "metadata": {},
   "cell_type": "code",
   "source": "df_deployed = pd.read_csv(\"../../../../data/raw/metabase_pipeline_deployed_last_3_months_exported_30-05-2025.csv\")",
   "id": "d0f95cd76cba4183",
   "outputs": [],
   "execution_count": null
  },
  {
   "metadata": {},
   "cell_type": "code",
   "source": "len(df_deployed)",
   "id": "fe9618bca374d999",
   "outputs": [],
   "execution_count": null
  },
  {
   "metadata": {},
   "cell_type": "code",
   "source": [
    "df_deployed = drop_common_columns(df_deployed)\n",
    "df_deployed = rename_common_columns(df_deployed)\n",
    "df_deployed = df_deployed.drop(columns=['Deployment ID'])"
   ],
   "id": "f4ca30b2b962f75d",
   "outputs": [],
   "execution_count": null
  },
  {
   "metadata": {},
   "cell_type": "code",
   "source": "df_updated = pd.read_csv(\"../../../../data/raw/metabase_pipeline_updated_last_3_months_exported_30-05-2025.csv\")",
   "id": "f0ecb5eac5b0f179",
   "outputs": [],
   "execution_count": null
  },
  {
   "metadata": {},
   "cell_type": "code",
   "source": "len(df_updated)",
   "id": "b33f53618e8781a6",
   "outputs": [],
   "execution_count": null
  },
  {
   "metadata": {},
   "cell_type": "code",
   "source": [
    "df_updated = drop_common_columns(df_updated)\n",
    "df_updated = rename_common_columns(df_updated)\n",
    "df_updated = df_updated.drop(columns=['Pipeline Status'])"
   ],
   "id": "4f50ccfab0abc9b6",
   "outputs": [],
   "execution_count": null
  },
  {
   "metadata": {},
   "cell_type": "code",
   "source": "",
   "id": "eb76bfb9c789c8c0",
   "outputs": [],
   "execution_count": null
  },
  {
   "metadata": {},
   "cell_type": "code",
   "source": "df_created = pd.read_csv(\"../../../../data/raw/metabase_pipeline_created_last_3_months_exported_30-05-2025.csv\")",
   "id": "bd98e81e8409849d",
   "outputs": [],
   "execution_count": null
  },
  {
   "metadata": {},
   "cell_type": "code",
   "source": [
    "df_created = drop_common_columns(df_created)\n",
    "df_created = rename_common_columns(df_created)\n",
    "df_created = df_created.drop(columns=['Origin'])"
   ],
   "id": "74f10cd77832a58",
   "outputs": [],
   "execution_count": null
  },
  {
   "metadata": {},
   "cell_type": "code",
   "source": "len(df_created)",
   "id": "94eb65b1fca7b6e6",
   "outputs": [],
   "execution_count": null
  },
  {
   "metadata": {},
   "cell_type": "code",
   "source": "df_combined = pd.concat([df_created, df_deployed, df_updated])",
   "id": "a20170fc5dcc60f6",
   "outputs": [],
   "execution_count": null
  },
  {
   "metadata": {},
   "cell_type": "code",
   "source": "len(df_combined)",
   "id": "e89107d10cae3081",
   "outputs": [],
   "execution_count": null
  },
  {
   "metadata": {},
   "cell_type": "code",
   "source": "df_combined.to_csv(\"../../../data/processed/created_updated_deployed_events.csv\")",
   "id": "57c6dd0af364a0e0",
   "outputs": [],
   "execution_count": null
  },
  {
   "metadata": {},
   "cell_type": "code",
   "source": "",
   "id": "5a55efb7e9da2273",
   "outputs": [],
   "execution_count": null
  }
 ],
 "metadata": {
  "kernelspec": {
   "display_name": "Python 3",
   "language": "python",
   "name": "python3"
  },
  "language_info": {
   "codemirror_mode": {
    "name": "ipython",
    "version": 2
   },
   "file_extension": ".py",
   "mimetype": "text/x-python",
   "name": "python",
   "nbconvert_exporter": "python",
   "pygments_lexer": "ipython2",
   "version": "2.7.6"
  }
 },
 "nbformat": 4,
 "nbformat_minor": 5
}
