{
 "cells": [
  {
   "cell_type": "markdown",
   "id": "0",
   "metadata": {},
   "source": [
    "# Unit Conversion\n",
    "\n",
    "The `figure-scale` library provides a flexible unit conversion system that allows you to work with different measurement units and even define your own custom units. Let's explore how to work with the unit conversion system, but first, we need to import the necessary components:"
   ]
  },
  {
   "cell_type": "code",
   "execution_count": null,
   "id": "1",
   "metadata": {},
   "outputs": [],
   "source": [
    "import matplotlib.pyplot as plt\n",
    "import figure_scale as fs\n",
    "import math  # this is used to get demonstration data"
   ]
  },
  {
   "cell_type": "markdown",
   "id": "2",
   "metadata": {},
   "source": [
    "## Built-in Units"
   ]
  },
  {
   "cell_type": "markdown",
   "id": "3",
   "metadata": {},
   "source": [
    "The `UnitConversionMapping` is a dict-like class that holds all conversion factors to inches, the unit matplotlib operates on. It follows the Singleton pattern to ensure that only one instance exists, and any update from end-users reflect on all references, including the internal details on `FigureScale`. You can access it to view existing units or add new ones:"
   ]
  },
  {
   "cell_type": "code",
   "execution_count": null,
   "id": "4",
   "metadata": {},
   "outputs": [],
   "source": [
    "unit_mapping = fs.UnitConversionMapping()"
   ]
  },
  {
   "cell_type": "markdown",
   "id": "5",
   "metadata": {},
   "source": [
    "Let's examine what units are available by default:"
   ]
  },
  {
   "cell_type": "code",
   "execution_count": null,
   "id": "6",
   "metadata": {},
   "outputs": [],
   "source": [
    "print(\"Built-in units and their conversion factors to inches:\")\n",
    "for unit, factor in unit_mapping.items():\n",
    "    print(f\"  {unit:>8}: {float(factor):>8.4f} inches\")\n",
    "\n",
    "print(f\"\\nTotal number of units: {len(unit_mapping)}\")"
   ]
  },
  {
   "cell_type": "markdown",
   "id": "7",
   "metadata": {},
   "source": [
    "## Adding Custom Units\n",
    "\n",
    "One of the powerful features of the unit conversion system is the ability to add your own custom units. You can define any unit with its conversion factor to inches.\n",
    "\n",
    "Let's add a custom unit called `my_unit` with a conversion factor of 2.0 (meaning `1 my_unit = 2 inches`):"
   ]
  },
  {
   "cell_type": "code",
   "execution_count": null,
   "id": "8",
   "metadata": {},
   "outputs": [],
   "source": [
    "unit_mapping[\"my_unit\"] = 2.0"
   ]
  },
  {
   "cell_type": "markdown",
   "id": "9",
   "metadata": {},
   "source": [
    "Just to double-check it was indeed added:"
   ]
  },
  {
   "cell_type": "code",
   "execution_count": null,
   "id": "10",
   "metadata": {},
   "outputs": [],
   "source": [
    "\"my_unit\" in unit_mapping"
   ]
  },
  {
   "cell_type": "markdown",
   "id": "11",
   "metadata": {},
   "source": [
    "## Using Custom Units with FigureScale\n",
    "\n",
    "Now that we've added our custom unit, we can use it with `FigureScale` just like any built-in unit. Let's create a figure using our custom unit and some demo data:"
   ]
  },
  {
   "cell_type": "code",
   "execution_count": null,
   "id": "12",
   "metadata": {},
   "outputs": [],
   "source": [
    "demo_figure_size = fs.FigureScale(units=\"my_unit\", width=2, height=1.5)\n",
    "x = [i * math.pi / 180 for i in range(0, 360, 10)]\n",
    "y = [math.sin(i) for i in x]"
   ]
  },
  {
   "cell_type": "markdown",
   "id": "13",
   "metadata": {},
   "source": [
    "This creates a figure in our custom unit system, and generates sine wave data for demonstration:"
   ]
  },
  {
   "cell_type": "code",
   "execution_count": null,
   "id": "14",
   "metadata": {},
   "outputs": [],
   "source": [
    "fig, ax = plt.subplots(figsize=demo_figure_size)\n",
    "ax.plot(x, y);"
   ]
  }
 ],
 "metadata": {
  "kernelspec": {
   "display_name": ".venv",
   "language": "python",
   "name": "python3"
  },
  "language_info": {
   "codemirror_mode": {
    "name": "ipython",
    "version": 3
   },
   "file_extension": ".py",
   "mimetype": "text/x-python",
   "name": "python",
   "nbconvert_exporter": "python",
   "pygments_lexer": "ipython3",
   "version": "3.12.10"
  }
 },
 "nbformat": 4,
 "nbformat_minor": 5
}
