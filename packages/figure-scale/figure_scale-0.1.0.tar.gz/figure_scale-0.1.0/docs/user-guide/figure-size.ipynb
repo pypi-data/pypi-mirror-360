{
 "cells": [
  {
   "cell_type": "markdown",
   "id": "0",
   "metadata": {},
   "source": [
    "# Figure Size\n",
    "Let's explore how to use the `FigureScale` class to create precisely sized figures. We first need to import the packages:"
   ]
  },
  {
   "cell_type": "code",
   "execution_count": null,
   "id": "1",
   "metadata": {},
   "outputs": [],
   "source": [
    "import matplotlib.pyplot as plt\n",
    "import figure_scale as fs\n",
    "import math  # this is used to get demonstration data"
   ]
  },
  {
   "cell_type": "markdown",
   "id": "2",
   "metadata": {},
   "source": [
    "## FigureScale Object\n",
    "\n",
    "The `FigureScale` class is the core component of the library. It allows you to define figure dimensions in different ways:\n",
    "\n",
    "1. **Width and Height**: Specify both dimensions explicitly\n",
    "2. **Width and Aspect Ratio**: Specify width and let height be calculated from aspect ratio\n",
    "3. **Height and Aspect Ratio**: Specify height and let width be calculated from aspect ratio\n",
    "\n",
    "All dimensions can be specified in various units. Let's explore each approach:"
   ]
  },
  {
   "cell_type": "code",
   "execution_count": null,
   "id": "3",
   "metadata": {},
   "outputs": [],
   "source": [
    "size_a = fs.FigureScale(units=\"mm\", width=100, height=100)\n",
    "size_b = fs.FigureScale(units=\"mm\", width=100, aspect=1.0)\n",
    "size_c = fs.FigureScale(units=\"mm\", height=100, aspect=1.0)"
   ]
  },
  {
   "cell_type": "markdown",
   "id": "4",
   "metadata": {},
   "source": [
    "Providing all `width`, `height`, and `aspect` arguments will raise an `ValueError`, the same will happen if any of them is small than or equal to zero."
   ]
  },
  {
   "cell_type": "markdown",
   "id": "5",
   "metadata": {},
   "source": [
    "The available units are:"
   ]
  },
  {
   "cell_type": "code",
   "execution_count": null,
   "id": "6",
   "metadata": {},
   "outputs": [],
   "source": [
    "unit_mapping = fs.UnitConversionMapping()\n",
    "\", \".join(unit_mapping.keys())"
   ]
  },
  {
   "cell_type": "markdown",
   "id": "7",
   "metadata": {},
   "source": [
    "Check {ref}`Unit Conversion` for examples on how to add user provided units if needed."
   ]
  },
  {
   "cell_type": "markdown",
   "id": "8",
   "metadata": {},
   "source": [
    "`FigureScale` is set as a frozen dataclass to ensure constancy and immutability after its creation.\n",
    "The `replace` method allows you to create a new instance with modified attributes, whenever convenient:"
   ]
  },
  {
   "cell_type": "code",
   "execution_count": null,
   "id": "9",
   "metadata": {},
   "outputs": [],
   "source": [
    "size_a.replace(width=200)"
   ]
  },
  {
   "cell_type": "code",
   "execution_count": null,
   "id": "10",
   "metadata": {},
   "outputs": [],
   "source": [
    "size_a.replace(units=\"cm\")"
   ]
  },
  {
   "cell_type": "markdown",
   "id": "11",
   "metadata": {},
   "source": [
    "Notice arguments not provided to `replace` will be copied from the original instance. Remember just two out of `width`, `height`, and `aspect` can be provided at a time, so disable one of them by setting it to `None` if you need to set the third one:"
   ]
  },
  {
   "cell_type": "code",
   "execution_count": null,
   "id": "12",
   "metadata": {},
   "outputs": [],
   "source": [
    "size_a.replace(height=None, aspect=2.0)"
   ]
  },
  {
   "cell_type": "markdown",
   "id": "13",
   "metadata": {},
   "source": [
    "## Using FigureScale with Matplotlib\n",
    "\n",
    "Now let's explore the different ways to use `FigureScale` with matplotlib figures.\n",
    "Under the hood, `FigureScale` implements the `Sequence` interface allowing it to be used as a tuple-like object for the `figure.figsize` parameter in matplotlib.\n",
    "The values on such sequence are always in inches, as expected by matplotlib."
   ]
  },
  {
   "cell_type": "markdown",
   "id": "14",
   "metadata": {},
   "source": [
    "First, let's create a figure size and some demo data to demonstrate the different ways to apply figure scaling:"
   ]
  },
  {
   "cell_type": "code",
   "execution_count": null,
   "id": "15",
   "metadata": {},
   "outputs": [],
   "source": [
    "demo_figure_size = fs.FigureScale(units=\"mm\", width=100, height=100)\n",
    "x = [i * math.pi / 180 for i in range(0, 360, 10)]\n",
    "y = [math.sin(i) for i in x]"
   ]
  },
  {
   "cell_type": "markdown",
   "id": "16",
   "metadata": {},
   "source": [
    "### Set as Default\n",
    "\n",
    "You can set the figure scale as the default size for all figures by modifying matplotlib's rcParams:"
   ]
  },
  {
   "cell_type": "code",
   "execution_count": null,
   "id": "17",
   "metadata": {},
   "outputs": [],
   "source": [
    "plt.rcParams[\"figure.figsize\"] = demo_figure_size"
   ]
  },
  {
   "cell_type": "markdown",
   "id": "18",
   "metadata": {},
   "source": [
    "or just by using the `set_as_default` method:"
   ]
  },
  {
   "cell_type": "code",
   "execution_count": null,
   "id": "19",
   "metadata": {},
   "outputs": [],
   "source": [
    "demo_figure_size.set_as_default()"
   ]
  },
  {
   "cell_type": "markdown",
   "id": "20",
   "metadata": {},
   "source": [
    "Any new figure created after this will use the specified size by default:"
   ]
  },
  {
   "cell_type": "code",
   "execution_count": null,
   "id": "21",
   "metadata": {},
   "outputs": [],
   "source": [
    "plt.plot(x, y);"
   ]
  },
  {
   "cell_type": "markdown",
   "id": "22",
   "metadata": {},
   "source": [
    "### Set per Figure\n",
    "\n",
    "You can pass the `FigureScale` object directly to matplotlib functions that accept a `figsize` parameter:"
   ]
  },
  {
   "cell_type": "code",
   "execution_count": null,
   "id": "23",
   "metadata": {},
   "outputs": [],
   "source": [
    "fig, ax = plt.subplots(figsize=demo_figure_size)\n",
    "ax.plot(x, y);"
   ]
  },
  {
   "cell_type": "markdown",
   "id": "24",
   "metadata": {},
   "source": [
    "### Change it Locally\n",
    "\n",
    "You can use the `FigureScale` object as a callable to create a context manager that temporarily sets the figure size for the duration of the `with` block:"
   ]
  },
  {
   "cell_type": "code",
   "execution_count": null,
   "id": "25",
   "metadata": {},
   "outputs": [],
   "source": [
    "with demo_figure_size():\n",
    "    plt.plot(x, y)"
   ]
  },
  {
   "cell_type": "markdown",
   "id": "26",
   "metadata": {},
   "source": [
    "As a syntax sugar, you can pass extra keyword arguments that are forwarded to [matplotlib.pyplot.rc_context](https://matplotlib.org/stable/api/_as_gen/matplotlib.pyplot.rc_context.html), for instance:"
   ]
  },
  {
   "cell_type": "code",
   "execution_count": null,
   "id": "27",
   "metadata": {},
   "outputs": [],
   "source": [
    "with demo_figure_size(**{\"axes.grid\": True}):\n",
    "    plt.plot(x, y)"
   ]
  },
  {
   "cell_type": "markdown",
   "id": "28",
   "metadata": {},
   "source": [
    "In a similar fashion, you can call the `FigureScale` object and use it as a decorator to apply the figure size to a function:"
   ]
  },
  {
   "cell_type": "code",
   "execution_count": null,
   "id": "29",
   "metadata": {},
   "outputs": [],
   "source": [
    "@demo_figure_size()\n",
    "def plot_demo_figure():\n",
    "    plt.plot(x, y)\n",
    "\n",
    "\n",
    "plot_demo_figure()"
   ]
  },
  {
   "cell_type": "markdown",
   "id": "30",
   "metadata": {},
   "source": [
    "Extra keyword arguments are also forwarded to [matplotlib.pyplot.rc_context](https://matplotlib.org/stable/api/_as_gen/matplotlib.pyplot.rc_context.html), for instance:"
   ]
  },
  {
   "cell_type": "code",
   "execution_count": null,
   "id": "31",
   "metadata": {},
   "outputs": [],
   "source": [
    "@demo_figure_size(**{\"axes.grid\": True})\n",
    "def plot_demo_figure():\n",
    "    plt.plot(x, y)\n",
    "\n",
    "\n",
    "plot_demo_figure()"
   ]
  }
 ],
 "metadata": {
  "kernelspec": {
   "display_name": ".venv",
   "language": "python",
   "name": "python3"
  },
  "language_info": {
   "codemirror_mode": {
    "name": "ipython",
    "version": 3
   },
   "file_extension": ".py",
   "mimetype": "text/x-python",
   "name": "python",
   "nbconvert_exporter": "python",
   "pygments_lexer": "ipython3",
   "version": "3.12.10"
  }
 },
 "nbformat": 4,
 "nbformat_minor": 5
}
