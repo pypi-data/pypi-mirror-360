{
 "cells": [
  {
   "cell_type": "code",
   "execution_count": null,
   "metadata": {},
   "outputs": [],
   "source": [
    "from fmu.sumo.explorer import Explorer\n",
    "\n",
    "%matplotlib inline"
   ]
  },
  {
   "attachments": {},
   "cell_type": "markdown",
   "metadata": {},
   "source": [
    "### Initialize Explorer"
   ]
  },
  {
   "cell_type": "code",
   "execution_count": null,
   "metadata": {},
   "outputs": [],
   "source": [
    "sumo = Explorer()"
   ]
  },
  {
   "attachments": {},
   "cell_type": "markdown",
   "metadata": {},
   "source": [
    "### Find cases"
   ]
  },
  {
   "cell_type": "code",
   "execution_count": null,
   "metadata": {},
   "outputs": [],
   "source": [
    "# Get Drogon cases\n",
    "myassetname = \"Drogon\"  # Must be a valid asset on Sumo\n",
    "cases = sumo.cases.filter(asset=myassetname)\n",
    "\n",
    "# Get available status filters\n",
    "print(\"Statuses:\", cases.statuses)\n",
    "\n",
    "# Filter on status\n",
    "cases = cases.filter(status=\"keep\")\n",
    "\n",
    "# Get available user filters\n",
    "print(\"Users:\", cases.users)\n",
    "\n",
    "# Filer on user\n",
    "cases = cases.filter(user=\"dbs\")\n",
    "\n",
    "# Iterate over results\n",
    "print(\"\\nResults:\", len(cases))\n",
    "\n",
    "for case in cases:\n",
    "    print(\"ID:\", case.uuid)\n",
    "    print(\"Name:\", case.name)\n",
    "    print(\"\\n\")\n",
    "\n",
    "# Get case by name (name is not guaranteed to be unique)\n",
    "mycasename = cases[0].name  # for sake of example\n",
    "case = sumo.cases.filter(name=mycasename)[0]\n",
    "\n",
    "# Get case by id\n",
    "mycaseuuid = cases[0].uuid  # for sake of example\n",
    "case = sumo.cases.filter(uuid=mycaseuuid)[0]\n",
    "\n",
    "# Select case\n",
    "case = cases[0]\n",
    "\n",
    "print(\"\\nSelected case:\")\n",
    "print(\"ID:\", case.uuid)\n",
    "print(\"Name:\", case.name)\n",
    "print(\"Status:\", case.status)\n",
    "print(\"Asset:\", case.asset)\n",
    "print(\"Field:\", case.field)\n",
    "print(\"User:\", case.user)\n",
    "print(\"Surfaces:\", len(case.surfaces))\n",
    "print(\"Polygons:\", len(case.polygons))\n",
    "print(\"Tables:\", len(case.polygons))"
   ]
  },
  {
   "attachments": {},
   "cell_type": "markdown",
   "metadata": {},
   "source": [
    "### Find data\n"
   ]
  },
  {
   "cell_type": "code",
   "execution_count": null,
   "metadata": {},
   "outputs": [],
   "source": [
    "# Get case surfaces\n",
    "surfs = case.surfaces.filter(realization=True)\n",
    "\n",
    "# Get available ensembles\n",
    "print(\"Ensembles:\", surfs.ensembles)\n",
    "\n",
    "# Filter on ensemble\n",
    "surfs = surfs.filter(ensemble=\"iter-0\")\n",
    "\n",
    "# Get available contents\n",
    "print(\"Contents:\", surfs.contents)\n",
    "\n",
    "# Filter on content\n",
    "surfs = surfs.filter(content=\"depth\")\n",
    "\n",
    "# Get available names\n",
    "print(\"Names:\", surfs.names)\n",
    "\n",
    "# Filter on name\n",
    "surfs = surfs.filter(name=\"Valysar Fm.\")\n",
    "\n",
    "# Filter on format\n",
    "surfs = surfs.filter(dataformat=\"irap_binary\")\n",
    "\n",
    "# Get available tagnames\n",
    "print(\"Tagnames:\", surfs.tagnames)\n",
    "\n",
    "# Filter on tagnames\n",
    "surfs = surfs.filter(tagname=\"FACIES_Fraction_Channel\")\n",
    "\n",
    "# Iterate over results\n",
    "print(\"\\nResults:\", len(surfs))\n",
    "\n",
    "for surf in surfs:\n",
    "    print(\"\\n\")\n",
    "    print(\"ID:\", surf.uuid)\n",
    "    print(\"Format:\", surf.dataformat)\n",
    "    print(\"Realization:\", surf.realization)\n",
    "\n",
    "# Select one surface instance\n",
    "surf = surfs[0]\n",
    "\n",
    "print(\"\\nSelected surface:\")\n",
    "print(\"Uuid:\", surf.uuid)\n",
    "print(\"Name:\", surf.name)\n",
    "print(\"Content:\", surf.content)\n",
    "print(\"Tagname:\", surf.tagname)\n",
    "print(\"Format:\", surf.dataformat)\n",
    "print(\"Ensemble:\", surf.ensemble)\n",
    "print(\"Realization:\", surf.realization)\n",
    "print(\"vertical domain:\", surf.vertical_domain)\n",
    "\n",
    "# xtgeo.RegularSurface\n",
    "reg_surf = surf.to_regular_surface()\n",
    "reg_surf.quickplot()"
   ]
  },
  {
   "attachments": {},
   "cell_type": "markdown",
   "metadata": {},
   "source": [
    "### Seismic - OpenVDS"
   ]
  },
  {
   "cell_type": "code",
   "execution_count": null,
   "metadata": {},
   "outputs": [],
   "source": [
    "# Case containing seismic cubes\n",
    "seismic_case = sumo.filter(has={\"term\": {\"class.keyword\": \"cube\"}})[0]\n",
    "\n",
    "cubes = seismic_case.cubes\n",
    "\n",
    "print(\"Ensembles\\t\", cubes.ensembles)\n",
    "\n",
    "cubes.filter(ensemble=\"iter-0\")\n",
    "\n",
    "print(\"Names:\\t\\t\", cubes.names)\n",
    "\n",
    "cubes = cubes.filter(name=\"seismic\")\n",
    "\n",
    "print(\"Tagnames:\\t\", cubes.tagnames)\n",
    "\n",
    "cubes = cubes.filter(tagname=\"amplitude_depth\")\n",
    "\n",
    "print(\"Num cubes:\\t\", len(cubes))\n",
    "\n",
    "# Select cube instance\n",
    "cube = cubes[0]\n",
    "\n",
    "print(\"\\nSelected cube:\")\n",
    "print(\"ID:\", cube.uuid)\n",
    "print(\"Name:\", cube.name)\n",
    "print(\"Tagname:\", cube.tagname)\n",
    "print(\"Ensemble:\", cube.ensemble)\n",
    "print(\"Realization:\", cube.realization)\n",
    "print(\"is_observation:\", cube[\"data\"][\"is_observation\"])\n",
    "print(\"is_prediction:\", cube[\"data\"][\"is_prediction\"])\n",
    "\n",
    "print(\"\\nOpenVDS data:\")\n",
    "openvds_handle = cube.openvds_handle\n",
    "\n",
    "layout = openvds.getLayout(openvds_handle)\n",
    "channel_count = layout.getChannelCount()\n",
    "print(\"Channel count: \", channel_count)\n",
    "print(\"Channel names: \")\n",
    "for i in range(channel_count):\n",
    "    print(\"   \", layout.getChannelName(i))"
   ]
  },
  {
   "attachments": {},
   "cell_type": "markdown",
   "metadata": {},
   "source": [
    "### Aggregate"
   ]
  },
  {
   "cell_type": "code",
   "execution_count": null,
   "metadata": {},
   "outputs": [],
   "source": [
    "# Perform aggregation on SurfaceCollection\n",
    "\n",
    "regsurf = surfs.aggregate(\n",
    "    operation=\"min\"\n",
    ")  # operations: max, mean, std, p10, p90, p50\n",
    "regsurf.to_regular_surface().quickplot()"
   ]
  },
  {
   "attachments": {},
   "cell_type": "markdown",
   "metadata": {},
   "source": [
    "### Time filtration\n",
    "The `TimeFilter` class can be used to construct a time filter which can be passed to the `SurfaceCollection.filter` method."
   ]
  },
  {
   "cell_type": "code",
   "execution_count": null,
   "metadata": {},
   "outputs": [],
   "source": [
    "from fmu.sumo.explorer import TimeFilter, TimeType\n",
    "\n",
    "# get surfaces with timestamps\n",
    "time = TimeFilter(time_type=TimeType.TIMESTAMP)\n",
    "surfs = case.surfaces.filter(time=time)\n",
    "print(\"Timestamp:\", len(surfs))\n",
    "\n",
    "# get surfaces with time intervals\n",
    "time = TimeFilter(time_type=TimeType.INTERVAL)\n",
    "surfs = case.surfaces.filter(time=time)\n",
    "print(\"Interval:\", len(surfs))\n",
    "\n",
    "\n",
    "# get surfaces with time data (timestamp or interval)\n",
    "time = TimeFilter(time_type=TimeType.ALL)\n",
    "surfs = case.surfaces.filter(time=time)\n",
    "print(\"Time data:\", len(surfs))\n",
    "\n",
    "\n",
    "# get surfaces without time data\n",
    "time = TimeFilter(time_type=TimeType.NONE)\n",
    "surfs = case.surfaces.filter(time=time)\n",
    "print(\"No time data:\", len(surfs))\n",
    "\n",
    "\n",
    "# get avaiable timestamps\n",
    "timestamps = case.surfaces.timestamps\n",
    "print(\"\\nTimestamps:\", timestamps)\n",
    "\n",
    "# get available intervals\n",
    "intervals = case.surfaces.intervals\n",
    "print(\"Intervals:\", intervals)\n",
    "\n",
    "\n",
    "# get surfaces with timestamp in range\n",
    "time = TimeFilter(\n",
    "    time_type=TimeType.TIMESTAMP, start=\"2018-01-01\", end=\"2022-01-01\"\n",
    ")\n",
    "surfs = case.surfaces.filter(time=time)\n",
    "\n",
    "# get surfaces with time intervals in range\n",
    "time = TimeFilter(\n",
    "    time_type=TimeType.INTERVAL, start=\"2018-01-01\", end=\"2022-01-01\"\n",
    ")\n",
    "surfs = case.surfaces.filter(time=time)\n",
    "\n",
    "# get surfaces where intervals overlap with range\n",
    "time = TimeFilter(\n",
    "    time_type=TimeType.INTERVAL,\n",
    "    start=\"2018-01-01\",\n",
    "    end=\"2022-01-01\",\n",
    "    overlap=True,\n",
    ")\n",
    "surfs = case.surfaces.filter(time=time)\n",
    "\n",
    "# get surfaces with exact timestamp matching (t0 == start)\n",
    "time = TimeFilter(time_type=TimeType.TIMESTAMP, start=\"2018-01-01\", exact=True)\n",
    "surfs = case.surfaces.filter(time=time)\n",
    "\n",
    "# get surfaces with exact interval matching (t0 == start AND t1 == end)\n",
    "time = TimeFilter(\n",
    "    time_type=TimeType.INTERVAL,\n",
    "    start=\"2018-01-01\",\n",
    "    end=\"2022-01-01\",\n",
    "    exact=True,\n",
    ")\n",
    "surfs = case.surfaces.filter(time=time)"
   ]
  },
  {
   "cell_type": "code",
   "execution_count": null,
   "metadata": {},
   "outputs": [],
   "source": []
  }
 ],
 "metadata": {
  "kernelspec": {
   "display_name": "Python 3 (ipykernel)",
   "language": "python",
   "name": "python3"
  },
  "language_info": {
   "codemirror_mode": {
    "name": "ipython",
    "version": 3
   },
   "file_extension": ".py",
   "mimetype": "text/x-python",
   "name": "python",
   "nbconvert_exporter": "python",
   "pygments_lexer": "ipython3",
   "version": "3.9.6"
  },
  "vscode": {
   "interpreter": {
    "hash": "886a3bf2c68989186a10fcef5692724f98e2557aca959586571e913a0aec80e7"
   }
  }
 },
 "nbformat": 4,
 "nbformat_minor": 4
}
