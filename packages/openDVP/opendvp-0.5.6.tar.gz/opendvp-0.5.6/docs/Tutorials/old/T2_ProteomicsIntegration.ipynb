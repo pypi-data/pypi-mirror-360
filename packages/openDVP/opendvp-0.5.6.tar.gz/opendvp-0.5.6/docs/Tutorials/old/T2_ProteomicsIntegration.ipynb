{
 "cells": [
  {
   "cell_type": "markdown",
   "id": "a44cbb39",
   "metadata": {},
   "source": [
    "# Integrating proteomics and imaging data"
   ]
  },
  {
   "cell_type": "markdown",
   "id": "e07c2e72",
   "metadata": {},
   "source": [
    "### Import necessary packages"
   ]
  },
  {
   "cell_type": "code",
   "execution_count": 36,
   "id": "3c56f7e9",
   "metadata": {},
   "outputs": [],
   "source": [
    "import opendvp as dvp\n",
    "import geopandas as gpd\n",
    "import ast\n",
    "import spatialdata\n",
    "import napari_spatialdata\n",
    "from dask_image import imread"
   ]
  },
  {
   "cell_type": "markdown",
   "id": "e8556899",
   "metadata": {},
   "source": [
    "### Load DIANN data into an adata object"
   ]
  },
  {
   "cell_type": "code",
   "execution_count": 37,
   "id": "565044a7",
   "metadata": {},
   "outputs": [
    {
     "name": "stdout",
     "output_type": "stream",
     "text": [
      "\u001b[32m13:50:10.86\u001b[0m | \u001b[1mINFO\u001b[0m | Starting DIANN matrix shape (7030, 14)\n",
      "\u001b[32m13:50:10.87\u001b[0m | \u001b[1mINFO\u001b[0m | Removing 264 contaminants\n",
      "\u001b[32m13:50:10.87\u001b[0m | \u001b[1mINFO\u001b[0m | Filtering 3 genes that are NaN\n",
      "\u001b[32m13:50:10.87\u001b[0m | \u001b[1mINFO\u001b[0m | ['A0A0G2JRQ6_HUMAN', 'A0A0J9YY99_HUMAN', 'YJ005_HUMAN']\n",
      "\u001b[32m13:50:10.87\u001b[0m | \u001b[1mINFO\u001b[0m | 10 samples, and 6763 proteins\n",
      "\u001b[32m13:50:10.88\u001b[0m | \u001b[1mINFO\u001b[0m | 52 gene lists (eg 'TMA7;TMA7B') were simplified to ('TMA7').\n",
      "\u001b[32m13:50:10.88\u001b[0m | \u001b[32m\u001b[1mSUCCESS\u001b[0m | Anndata object has been created :) \n"
     ]
    },
    {
     "data": {
      "text/plain": [
       "AnnData object with n_obs × n_vars = 10 × 6763\n",
       "    obs: 'Precursors.Identified', 'Proteins.Identified', 'Average.Missed.Tryptic.Cleavages', 'LCMS_run_id', 'RCN', 'RCN_long', 'QuPath_class'\n",
       "    var: 'Protein.Group', 'Protein.Names', 'Genes', 'First.Protein.Description'"
      ]
     },
     "execution_count": 37,
     "metadata": {},
     "output_type": "execute_result"
    }
   ],
   "source": [
    "adata = dvp.io.DIANN_to_adata(\n",
    "    DIANN_path=\"data/proteomics/DIANN_subset_demo.pg_matrix.csv\",\n",
    "    DIANN_sep=\"\\t\",\n",
    "    metadata_path=\"data/proteomics/DIANN_metadata_subset_demo.csv\",\n",
    "    metadata_sep=\";\",\n",
    "    n_of_protein_metadata_cols=4\n",
    ")\n",
    "adata"
   ]
  },
  {
   "cell_type": "markdown",
   "id": "17be62f7",
   "metadata": {},
   "source": [
    "Let's see the loaded metadata"
   ]
  },
  {
   "cell_type": "code",
   "execution_count": 9,
   "id": "da3c770e",
   "metadata": {},
   "outputs": [
    {
     "data": {
      "text/html": [
       "<div>\n",
       "<style scoped>\n",
       "    .dataframe tbody tr th:only-of-type {\n",
       "        vertical-align: middle;\n",
       "    }\n",
       "\n",
       "    .dataframe tbody tr th {\n",
       "        vertical-align: top;\n",
       "    }\n",
       "\n",
       "    .dataframe thead th {\n",
       "        text-align: right;\n",
       "    }\n",
       "</style>\n",
       "<table border=\"1\" class=\"dataframe\">\n",
       "  <thead>\n",
       "    <tr style=\"text-align: right;\">\n",
       "      <th></th>\n",
       "      <th>Precursors.Identified</th>\n",
       "      <th>Proteins.Identified</th>\n",
       "      <th>Average.Missed.Tryptic.Cleavages</th>\n",
       "      <th>LCMS_run_id</th>\n",
       "      <th>RCN</th>\n",
       "      <th>RCN_long</th>\n",
       "      <th>QuPath_class</th>\n",
       "    </tr>\n",
       "    <tr>\n",
       "      <th>Sample_filepath</th>\n",
       "      <th></th>\n",
       "      <th></th>\n",
       "      <th></th>\n",
       "      <th></th>\n",
       "      <th></th>\n",
       "      <th></th>\n",
       "      <th></th>\n",
       "    </tr>\n",
       "  </thead>\n",
       "  <tbody>\n",
       "    <tr>\n",
       "      <th>E:\\Proteomics\\Jose\\P26E17\\rawfiles\\Olive_20241204_JoN_Evo2_80SPD_Rplate_P26E17_K20_S6-G4_1_8674.d</th>\n",
       "      <td>26358</td>\n",
       "      <td>4760</td>\n",
       "      <td>0.139</td>\n",
       "      <td>8674</td>\n",
       "      <td>RCN1</td>\n",
       "      <td>Tumor enriched</td>\n",
       "      <td>P12_Tumor_1</td>\n",
       "    </tr>\n",
       "    <tr>\n",
       "      <th>E:\\Proteomics\\Jose\\P26E17\\rawfiles\\Olive_20241129_JoN_Evo2_80SPD_P26E17_991_H21_S3-F9_1_8452.d</th>\n",
       "      <td>24705</td>\n",
       "      <td>4553</td>\n",
       "      <td>0.134</td>\n",
       "      <td>8452</td>\n",
       "      <td>RCN1</td>\n",
       "      <td>Tumor enriched</td>\n",
       "      <td>P12_Tumor_2</td>\n",
       "    </tr>\n",
       "    <tr>\n",
       "      <th>E:\\Proteomics\\Jose\\P26E17\\rawfiles\\Olive_20241129_JoN_Evo2_80SPD_P26E17_991_E4_S2-C2_1_8414.d</th>\n",
       "      <td>26750</td>\n",
       "      <td>4835</td>\n",
       "      <td>0.134</td>\n",
       "      <td>8414</td>\n",
       "      <td>RCN1</td>\n",
       "      <td>Tumor enriched</td>\n",
       "      <td>P12_Tumor_3</td>\n",
       "    </tr>\n",
       "    <tr>\n",
       "      <th>E:\\Proteomics\\Jose\\P26E17\\rawfiles\\Olive_20241204_JoN_Evo2_80SPD_Rplate_P26E17_L10_S4-H8_1_8551.d</th>\n",
       "      <td>24268</td>\n",
       "      <td>4502</td>\n",
       "      <td>0.116</td>\n",
       "      <td>8551</td>\n",
       "      <td>RCN1</td>\n",
       "      <td>Tumor enriched</td>\n",
       "      <td>P12_Tumor_4</td>\n",
       "    </tr>\n",
       "    <tr>\n",
       "      <th>E:\\Proteomics\\Jose\\P26E17\\rawfiles\\Olive_20241129_JoN_Evo2_80SPD_P26E17_991_F4_S2-D2_1_8424.d</th>\n",
       "      <td>27883</td>\n",
       "      <td>4858</td>\n",
       "      <td>0.136</td>\n",
       "      <td>8424</td>\n",
       "      <td>RCN1</td>\n",
       "      <td>Tumor enriched</td>\n",
       "      <td>P12_Tumor_5</td>\n",
       "    </tr>\n",
       "    <tr>\n",
       "      <th>E:\\Proteomics\\Jose\\P26E17\\rawfiles\\Olive_20241129_JoN_Evo2_80SPD_P26E17_991_C22_S3-A10_1_8521.d</th>\n",
       "      <td>20460</td>\n",
       "      <td>4116</td>\n",
       "      <td>0.129</td>\n",
       "      <td>8521</td>\n",
       "      <td>RCN3</td>\n",
       "      <td>Immune enriched</td>\n",
       "      <td>P12_Immune_1</td>\n",
       "    </tr>\n",
       "    <tr>\n",
       "      <th>E:\\Proteomics\\Jose\\P26E17\\rawfiles\\Olive_20241129_JoN_Evo2_80SPD_P26E17_991_D4_S2-B2_1_8404.d</th>\n",
       "      <td>20446</td>\n",
       "      <td>3955</td>\n",
       "      <td>0.129</td>\n",
       "      <td>8404</td>\n",
       "      <td>RCN3</td>\n",
       "      <td>Immune enriched</td>\n",
       "      <td>P12_Immune_2</td>\n",
       "    </tr>\n",
       "    <tr>\n",
       "      <th>E:\\Proteomics\\Jose\\P26E17\\rawfiles\\Olive_20241129_JoN_Evo2_80SPD_P26E17_991_D3_S2-B1_1_8403.d</th>\n",
       "      <td>21077</td>\n",
       "      <td>4212</td>\n",
       "      <td>0.127</td>\n",
       "      <td>8403</td>\n",
       "      <td>RCN3</td>\n",
       "      <td>Immune enriched</td>\n",
       "      <td>P12_Immune_3</td>\n",
       "    </tr>\n",
       "    <tr>\n",
       "      <th>E:\\Proteomics\\Jose\\P26E17\\rawfiles\\Olive_20241129_JoN_Evo2_80SPD_P26E17_991_C10_S2-A8_1_8390.d</th>\n",
       "      <td>18013</td>\n",
       "      <td>3749</td>\n",
       "      <td>0.117</td>\n",
       "      <td>8390</td>\n",
       "      <td>RCN3</td>\n",
       "      <td>Immune enriched</td>\n",
       "      <td>P12_Immune_4</td>\n",
       "    </tr>\n",
       "    <tr>\n",
       "      <th>E:\\Proteomics\\Jose\\P26E17\\rawfiles\\Olive_20241129_JoN_Evo2_80SPD_P26E17_991_C23_S3-A11_1_8520.d</th>\n",
       "      <td>19740</td>\n",
       "      <td>3799</td>\n",
       "      <td>0.123</td>\n",
       "      <td>8520</td>\n",
       "      <td>RCN3</td>\n",
       "      <td>Immune enriched</td>\n",
       "      <td>P12_Immune_5</td>\n",
       "    </tr>\n",
       "  </tbody>\n",
       "</table>\n",
       "</div>"
      ],
      "text/plain": [
       "                                                    Precursors.Identified  \\\n",
       "Sample_filepath                                                             \n",
       "E:\\Proteomics\\Jose\\P26E17\\rawfiles\\Olive_202412...                  26358   \n",
       "E:\\Proteomics\\Jose\\P26E17\\rawfiles\\Olive_202411...                  24705   \n",
       "E:\\Proteomics\\Jose\\P26E17\\rawfiles\\Olive_202411...                  26750   \n",
       "E:\\Proteomics\\Jose\\P26E17\\rawfiles\\Olive_202412...                  24268   \n",
       "E:\\Proteomics\\Jose\\P26E17\\rawfiles\\Olive_202411...                  27883   \n",
       "E:\\Proteomics\\Jose\\P26E17\\rawfiles\\Olive_202411...                  20460   \n",
       "E:\\Proteomics\\Jose\\P26E17\\rawfiles\\Olive_202411...                  20446   \n",
       "E:\\Proteomics\\Jose\\P26E17\\rawfiles\\Olive_202411...                  21077   \n",
       "E:\\Proteomics\\Jose\\P26E17\\rawfiles\\Olive_202411...                  18013   \n",
       "E:\\Proteomics\\Jose\\P26E17\\rawfiles\\Olive_202411...                  19740   \n",
       "\n",
       "                                                    Proteins.Identified  \\\n",
       "Sample_filepath                                                           \n",
       "E:\\Proteomics\\Jose\\P26E17\\rawfiles\\Olive_202412...                 4760   \n",
       "E:\\Proteomics\\Jose\\P26E17\\rawfiles\\Olive_202411...                 4553   \n",
       "E:\\Proteomics\\Jose\\P26E17\\rawfiles\\Olive_202411...                 4835   \n",
       "E:\\Proteomics\\Jose\\P26E17\\rawfiles\\Olive_202412...                 4502   \n",
       "E:\\Proteomics\\Jose\\P26E17\\rawfiles\\Olive_202411...                 4858   \n",
       "E:\\Proteomics\\Jose\\P26E17\\rawfiles\\Olive_202411...                 4116   \n",
       "E:\\Proteomics\\Jose\\P26E17\\rawfiles\\Olive_202411...                 3955   \n",
       "E:\\Proteomics\\Jose\\P26E17\\rawfiles\\Olive_202411...                 4212   \n",
       "E:\\Proteomics\\Jose\\P26E17\\rawfiles\\Olive_202411...                 3749   \n",
       "E:\\Proteomics\\Jose\\P26E17\\rawfiles\\Olive_202411...                 3799   \n",
       "\n",
       "                                                    Average.Missed.Tryptic.Cleavages  \\\n",
       "Sample_filepath                                                                        \n",
       "E:\\Proteomics\\Jose\\P26E17\\rawfiles\\Olive_202412...                             0.139   \n",
       "E:\\Proteomics\\Jose\\P26E17\\rawfiles\\Olive_202411...                             0.134   \n",
       "E:\\Proteomics\\Jose\\P26E17\\rawfiles\\Olive_202411...                             0.134   \n",
       "E:\\Proteomics\\Jose\\P26E17\\rawfiles\\Olive_202412...                             0.116   \n",
       "E:\\Proteomics\\Jose\\P26E17\\rawfiles\\Olive_202411...                             0.136   \n",
       "E:\\Proteomics\\Jose\\P26E17\\rawfiles\\Olive_202411...                             0.129   \n",
       "E:\\Proteomics\\Jose\\P26E17\\rawfiles\\Olive_202411...                             0.129   \n",
       "E:\\Proteomics\\Jose\\P26E17\\rawfiles\\Olive_202411...                             0.127   \n",
       "E:\\Proteomics\\Jose\\P26E17\\rawfiles\\Olive_202411...                             0.117   \n",
       "E:\\Proteomics\\Jose\\P26E17\\rawfiles\\Olive_202411...                             0.123   \n",
       "\n",
       "                                                    LCMS_run_id   RCN  \\\n",
       "Sample_filepath                                                         \n",
       "E:\\Proteomics\\Jose\\P26E17\\rawfiles\\Olive_202412...         8674  RCN1   \n",
       "E:\\Proteomics\\Jose\\P26E17\\rawfiles\\Olive_202411...         8452  RCN1   \n",
       "E:\\Proteomics\\Jose\\P26E17\\rawfiles\\Olive_202411...         8414  RCN1   \n",
       "E:\\Proteomics\\Jose\\P26E17\\rawfiles\\Olive_202412...         8551  RCN1   \n",
       "E:\\Proteomics\\Jose\\P26E17\\rawfiles\\Olive_202411...         8424  RCN1   \n",
       "E:\\Proteomics\\Jose\\P26E17\\rawfiles\\Olive_202411...         8521  RCN3   \n",
       "E:\\Proteomics\\Jose\\P26E17\\rawfiles\\Olive_202411...         8404  RCN3   \n",
       "E:\\Proteomics\\Jose\\P26E17\\rawfiles\\Olive_202411...         8403  RCN3   \n",
       "E:\\Proteomics\\Jose\\P26E17\\rawfiles\\Olive_202411...         8390  RCN3   \n",
       "E:\\Proteomics\\Jose\\P26E17\\rawfiles\\Olive_202411...         8520  RCN3   \n",
       "\n",
       "                                                           RCN_long  \\\n",
       "Sample_filepath                                                       \n",
       "E:\\Proteomics\\Jose\\P26E17\\rawfiles\\Olive_202412...   Tumor enriched   \n",
       "E:\\Proteomics\\Jose\\P26E17\\rawfiles\\Olive_202411...   Tumor enriched   \n",
       "E:\\Proteomics\\Jose\\P26E17\\rawfiles\\Olive_202411...   Tumor enriched   \n",
       "E:\\Proteomics\\Jose\\P26E17\\rawfiles\\Olive_202412...   Tumor enriched   \n",
       "E:\\Proteomics\\Jose\\P26E17\\rawfiles\\Olive_202411...   Tumor enriched   \n",
       "E:\\Proteomics\\Jose\\P26E17\\rawfiles\\Olive_202411...  Immune enriched   \n",
       "E:\\Proteomics\\Jose\\P26E17\\rawfiles\\Olive_202411...  Immune enriched   \n",
       "E:\\Proteomics\\Jose\\P26E17\\rawfiles\\Olive_202411...  Immune enriched   \n",
       "E:\\Proteomics\\Jose\\P26E17\\rawfiles\\Olive_202411...  Immune enriched   \n",
       "E:\\Proteomics\\Jose\\P26E17\\rawfiles\\Olive_202411...  Immune enriched   \n",
       "\n",
       "                                                    QuPath_class  \n",
       "Sample_filepath                                                   \n",
       "E:\\Proteomics\\Jose\\P26E17\\rawfiles\\Olive_202412...   P12_Tumor_1  \n",
       "E:\\Proteomics\\Jose\\P26E17\\rawfiles\\Olive_202411...   P12_Tumor_2  \n",
       "E:\\Proteomics\\Jose\\P26E17\\rawfiles\\Olive_202411...   P12_Tumor_3  \n",
       "E:\\Proteomics\\Jose\\P26E17\\rawfiles\\Olive_202412...   P12_Tumor_4  \n",
       "E:\\Proteomics\\Jose\\P26E17\\rawfiles\\Olive_202411...   P12_Tumor_5  \n",
       "E:\\Proteomics\\Jose\\P26E17\\rawfiles\\Olive_202411...  P12_Immune_1  \n",
       "E:\\Proteomics\\Jose\\P26E17\\rawfiles\\Olive_202411...  P12_Immune_2  \n",
       "E:\\Proteomics\\Jose\\P26E17\\rawfiles\\Olive_202411...  P12_Immune_3  \n",
       "E:\\Proteomics\\Jose\\P26E17\\rawfiles\\Olive_202411...  P12_Immune_4  \n",
       "E:\\Proteomics\\Jose\\P26E17\\rawfiles\\Olive_202411...  P12_Immune_5  "
      ]
     },
     "execution_count": 9,
     "metadata": {},
     "output_type": "execute_result"
    }
   ],
   "source": [
    "adata.obs"
   ]
  },
  {
   "cell_type": "markdown",
   "id": "d7129b8f",
   "metadata": {},
   "source": [
    "### Export adata for transparency"
   ]
  },
  {
   "cell_type": "code",
   "execution_count": null,
   "id": "11008fb6",
   "metadata": {},
   "outputs": [
    {
     "name": "stdout",
     "output_type": "stream",
     "text": [
      "\u001b[32m12:52:16.33\u001b[0m | \u001b[1mINFO\u001b[0m | Writing h5ad\n",
      "\u001b[32m12:52:16.37\u001b[0m | \u001b[32m\u001b[1mSUCCESS\u001b[0m | Wrote h5ad file\n"
     ]
    }
   ],
   "source": [
    "dvp.io.export_adata(adata=adata, path_to_dir=\"data/checkpoints\", checkpoint_name=\"1_loaded\")"
   ]
  },
  {
   "cell_type": "markdown",
   "id": "4d73cbff",
   "metadata": {},
   "source": [
    "### Load shapes of cut samples"
   ]
  },
  {
   "cell_type": "code",
   "execution_count": 26,
   "id": "899bc996",
   "metadata": {},
   "outputs": [
    {
     "data": {
      "text/html": [
       "<div>\n",
       "<style scoped>\n",
       "    .dataframe tbody tr th:only-of-type {\n",
       "        vertical-align: middle;\n",
       "    }\n",
       "\n",
       "    .dataframe tbody tr th {\n",
       "        vertical-align: top;\n",
       "    }\n",
       "\n",
       "    .dataframe thead th {\n",
       "        text-align: right;\n",
       "    }\n",
       "</style>\n",
       "<table border=\"1\" class=\"dataframe\">\n",
       "  <thead>\n",
       "    <tr style=\"text-align: right;\">\n",
       "      <th></th>\n",
       "      <th>id</th>\n",
       "      <th>objectType</th>\n",
       "      <th>classification</th>\n",
       "      <th>geometry</th>\n",
       "    </tr>\n",
       "  </thead>\n",
       "  <tbody>\n",
       "    <tr>\n",
       "      <th>0</th>\n",
       "      <td>78422794-3ed4-4e09-a9aa-6486c467149d</td>\n",
       "      <td>annotation</td>\n",
       "      <td>{ \"name\": \"P12_Immune_3\", \"color\": [ 0, 255, 2...</td>\n",
       "      <td>POLYGON ((3417 955.5, 3417.23 962.94, 3417.93 ...</td>\n",
       "    </tr>\n",
       "    <tr>\n",
       "      <th>1</th>\n",
       "      <td>70a57ffd-50a0-4449-b873-2dd2a38bf190</td>\n",
       "      <td>annotation</td>\n",
       "      <td>{ \"name\": \"P12_Immune_3\", \"color\": [ 0, 255, 2...</td>\n",
       "      <td>POLYGON ((3547 715.5, 3547.23 722.94, 3547.93 ...</td>\n",
       "    </tr>\n",
       "    <tr>\n",
       "      <th>2</th>\n",
       "      <td>edfda1ca-8de8-44f5-af4e-f16e15bcd4ca</td>\n",
       "      <td>annotation</td>\n",
       "      <td>{ \"name\": \"P12_Immune_3\", \"color\": [ 0, 255, 2...</td>\n",
       "      <td>POLYGON ((3324 568.5, 3324.23 575.94, 3324.93 ...</td>\n",
       "    </tr>\n",
       "    <tr>\n",
       "      <th>3</th>\n",
       "      <td>a0a868c6-c7e3-4fb0-8f4f-071454565080</td>\n",
       "      <td>annotation</td>\n",
       "      <td>{ \"name\": \"P12_Immune_4\", \"color\": [ 0, 255, 2...</td>\n",
       "      <td>POLYGON ((4398 2191.5, 4398.21 2198.06, 4398.8...</td>\n",
       "    </tr>\n",
       "    <tr>\n",
       "      <th>4</th>\n",
       "      <td>ce97d787-321e-4b7d-97e7-55b203fb0373</td>\n",
       "      <td>annotation</td>\n",
       "      <td>{ \"name\": \"P12_Immune_4\", \"color\": [ 0, 255, 2...</td>\n",
       "      <td>POLYGON ((4173 2349, 4173.22 2356.16, 4173.9 2...</td>\n",
       "    </tr>\n",
       "  </tbody>\n",
       "</table>\n",
       "</div>"
      ],
      "text/plain": [
       "                                     id  objectType  \\\n",
       "0  78422794-3ed4-4e09-a9aa-6486c467149d  annotation   \n",
       "1  70a57ffd-50a0-4449-b873-2dd2a38bf190  annotation   \n",
       "2  edfda1ca-8de8-44f5-af4e-f16e15bcd4ca  annotation   \n",
       "3  a0a868c6-c7e3-4fb0-8f4f-071454565080  annotation   \n",
       "4  ce97d787-321e-4b7d-97e7-55b203fb0373  annotation   \n",
       "\n",
       "                                      classification  \\\n",
       "0  { \"name\": \"P12_Immune_3\", \"color\": [ 0, 255, 2...   \n",
       "1  { \"name\": \"P12_Immune_3\", \"color\": [ 0, 255, 2...   \n",
       "2  { \"name\": \"P12_Immune_3\", \"color\": [ 0, 255, 2...   \n",
       "3  { \"name\": \"P12_Immune_4\", \"color\": [ 0, 255, 2...   \n",
       "4  { \"name\": \"P12_Immune_4\", \"color\": [ 0, 255, 2...   \n",
       "\n",
       "                                            geometry  \n",
       "0  POLYGON ((3417 955.5, 3417.23 962.94, 3417.93 ...  \n",
       "1  POLYGON ((3547 715.5, 3547.23 722.94, 3547.93 ...  \n",
       "2  POLYGON ((3324 568.5, 3324.23 575.94, 3324.93 ...  \n",
       "3  POLYGON ((4398 2191.5, 4398.21 2198.06, 4398.8...  \n",
       "4  POLYGON ((4173 2349, 4173.22 2356.16, 4173.9 2...  "
      ]
     },
     "execution_count": 26,
     "metadata": {},
     "output_type": "execute_result"
    }
   ],
   "source": [
    "gdf = gpd.read_file(\"data/proteomics/collection_shapes.geojson\")\n",
    "gdf.head()"
   ]
  },
  {
   "cell_type": "markdown",
   "id": "356e22ea",
   "metadata": {},
   "source": [
    "### Create spatialdata object"
   ]
  },
  {
   "cell_type": "code",
   "execution_count": 10,
   "id": "112b915c",
   "metadata": {},
   "outputs": [],
   "source": [
    "sdata = spatialdata.SpatialData()"
   ]
  },
  {
   "cell_type": "markdown",
   "id": "8516c0be",
   "metadata": {},
   "source": [
    "### Load multiplex immunofluorescence into spatialdata object"
   ]
  },
  {
   "cell_type": "code",
   "execution_count": 12,
   "id": "0683a726",
   "metadata": {},
   "outputs": [
    {
     "data": {
      "text/html": [
       "<table>\n",
       "    <tr>\n",
       "        <td>\n",
       "            <table style=\"border-collapse: collapse;\">\n",
       "                <thead>\n",
       "                    <tr>\n",
       "                        <td> </td>\n",
       "                        <th> Array </th>\n",
       "                        <th> Chunk </th>\n",
       "                    </tr>\n",
       "                </thead>\n",
       "                <tbody>\n",
       "                    \n",
       "                    <tr>\n",
       "                        <th> Bytes </th>\n",
       "                        <td> 357.63 MiB </td>\n",
       "                        <td> 23.84 MiB </td>\n",
       "                    </tr>\n",
       "                    \n",
       "                    <tr>\n",
       "                        <th> Shape </th>\n",
       "                        <td> (15, 5000, 5000) </td>\n",
       "                        <td> (1, 5000, 5000) </td>\n",
       "                    </tr>\n",
       "                    <tr>\n",
       "                        <th> Dask graph </th>\n",
       "                        <td colspan=\"2\"> 15 chunks in 4 graph layers </td>\n",
       "                    </tr>\n",
       "                    <tr>\n",
       "                        <th> Data type </th>\n",
       "                        <td colspan=\"2\"> uint8 numpy.ndarray </td>\n",
       "                    </tr>\n",
       "                </tbody>\n",
       "            </table>\n",
       "        </td>\n",
       "        <td>\n",
       "        <svg width=\"194\" height=\"184\" style=\"stroke:rgb(0,0,0);stroke-width:1\" >\n",
       "\n",
       "  <!-- Horizontal lines -->\n",
       "  <line x1=\"10\" y1=\"0\" x2=\"24\" y2=\"14\" style=\"stroke-width:2\" />\n",
       "  <line x1=\"10\" y1=\"120\" x2=\"24\" y2=\"134\" style=\"stroke-width:2\" />\n",
       "\n",
       "  <!-- Vertical lines -->\n",
       "  <line x1=\"10\" y1=\"0\" x2=\"10\" y2=\"120\" style=\"stroke-width:2\" />\n",
       "  <line x1=\"10\" y1=\"0\" x2=\"10\" y2=\"120\" />\n",
       "  <line x1=\"11\" y1=\"1\" x2=\"11\" y2=\"121\" />\n",
       "  <line x1=\"12\" y1=\"2\" x2=\"12\" y2=\"122\" />\n",
       "  <line x1=\"13\" y1=\"3\" x2=\"13\" y2=\"123\" />\n",
       "  <line x1=\"14\" y1=\"4\" x2=\"14\" y2=\"124\" />\n",
       "  <line x1=\"15\" y1=\"5\" x2=\"15\" y2=\"125\" />\n",
       "  <line x1=\"16\" y1=\"6\" x2=\"16\" y2=\"126\" />\n",
       "  <line x1=\"17\" y1=\"7\" x2=\"17\" y2=\"127\" />\n",
       "  <line x1=\"18\" y1=\"8\" x2=\"18\" y2=\"128\" />\n",
       "  <line x1=\"19\" y1=\"9\" x2=\"19\" y2=\"129\" />\n",
       "  <line x1=\"20\" y1=\"10\" x2=\"20\" y2=\"130\" />\n",
       "  <line x1=\"21\" y1=\"11\" x2=\"21\" y2=\"131\" />\n",
       "  <line x1=\"22\" y1=\"12\" x2=\"22\" y2=\"132\" />\n",
       "  <line x1=\"23\" y1=\"13\" x2=\"23\" y2=\"133\" />\n",
       "  <line x1=\"24\" y1=\"14\" x2=\"24\" y2=\"134\" style=\"stroke-width:2\" />\n",
       "\n",
       "  <!-- Colored Rectangle -->\n",
       "  <polygon points=\"10.0,0.0 24.9485979497544,14.948597949754403 24.9485979497544,134.9485979497544 10.0,120.0\" style=\"fill:#ECB172A0;stroke-width:0\"/>\n",
       "\n",
       "  <!-- Horizontal lines -->\n",
       "  <line x1=\"10\" y1=\"0\" x2=\"130\" y2=\"0\" style=\"stroke-width:2\" />\n",
       "  <line x1=\"10\" y1=\"0\" x2=\"130\" y2=\"0\" />\n",
       "  <line x1=\"11\" y1=\"1\" x2=\"131\" y2=\"1\" />\n",
       "  <line x1=\"12\" y1=\"2\" x2=\"132\" y2=\"2\" />\n",
       "  <line x1=\"13\" y1=\"3\" x2=\"133\" y2=\"3\" />\n",
       "  <line x1=\"14\" y1=\"4\" x2=\"134\" y2=\"4\" />\n",
       "  <line x1=\"15\" y1=\"5\" x2=\"135\" y2=\"5\" />\n",
       "  <line x1=\"16\" y1=\"6\" x2=\"136\" y2=\"6\" />\n",
       "  <line x1=\"17\" y1=\"7\" x2=\"137\" y2=\"7\" />\n",
       "  <line x1=\"18\" y1=\"8\" x2=\"138\" y2=\"8\" />\n",
       "  <line x1=\"19\" y1=\"9\" x2=\"139\" y2=\"9\" />\n",
       "  <line x1=\"20\" y1=\"10\" x2=\"140\" y2=\"10\" />\n",
       "  <line x1=\"21\" y1=\"11\" x2=\"141\" y2=\"11\" />\n",
       "  <line x1=\"22\" y1=\"12\" x2=\"142\" y2=\"12\" />\n",
       "  <line x1=\"23\" y1=\"13\" x2=\"143\" y2=\"13\" />\n",
       "  <line x1=\"24\" y1=\"14\" x2=\"144\" y2=\"14\" style=\"stroke-width:2\" />\n",
       "\n",
       "  <!-- Vertical lines -->\n",
       "  <line x1=\"10\" y1=\"0\" x2=\"24\" y2=\"14\" style=\"stroke-width:2\" />\n",
       "  <line x1=\"130\" y1=\"0\" x2=\"144\" y2=\"14\" style=\"stroke-width:2\" />\n",
       "\n",
       "  <!-- Colored Rectangle -->\n",
       "  <polygon points=\"10.0,0.0 130.0,0.0 144.9485979497544,14.948597949754403 24.9485979497544,14.948597949754403\" style=\"fill:#ECB172A0;stroke-width:0\"/>\n",
       "\n",
       "  <!-- Horizontal lines -->\n",
       "  <line x1=\"24\" y1=\"14\" x2=\"144\" y2=\"14\" style=\"stroke-width:2\" />\n",
       "  <line x1=\"24\" y1=\"134\" x2=\"144\" y2=\"134\" style=\"stroke-width:2\" />\n",
       "\n",
       "  <!-- Vertical lines -->\n",
       "  <line x1=\"24\" y1=\"14\" x2=\"24\" y2=\"134\" style=\"stroke-width:2\" />\n",
       "  <line x1=\"144\" y1=\"14\" x2=\"144\" y2=\"134\" style=\"stroke-width:2\" />\n",
       "\n",
       "  <!-- Colored Rectangle -->\n",
       "  <polygon points=\"24.9485979497544,14.948597949754403 144.9485979497544,14.948597949754403 144.9485979497544,134.9485979497544 24.9485979497544,134.9485979497544\" style=\"fill:#ECB172A0;stroke-width:0\"/>\n",
       "\n",
       "  <!-- Text -->\n",
       "  <text x=\"84.948598\" y=\"154.948598\" font-size=\"1.0rem\" font-weight=\"100\" text-anchor=\"middle\" >5000</text>\n",
       "  <text x=\"164.948598\" y=\"74.948598\" font-size=\"1.0rem\" font-weight=\"100\" text-anchor=\"middle\" transform=\"rotate(-90,164.948598,74.948598)\">5000</text>\n",
       "  <text x=\"7.474299\" y=\"147.474299\" font-size=\"1.0rem\" font-weight=\"100\" text-anchor=\"middle\" transform=\"rotate(45,7.474299,147.474299)\">15</text>\n",
       "</svg>\n",
       "        </td>\n",
       "    </tr>\n",
       "</table>"
      ],
      "text/plain": [
       "dask.array<_map_read_frame, shape=(15, 5000, 5000), dtype=uint8, chunksize=(1, 5000, 5000), chunktype=numpy.ndarray>"
      ]
     },
     "execution_count": 12,
     "metadata": {},
     "output_type": "execute_result"
    }
   ],
   "source": [
    "# first load as array using dask-image\n",
    "image_array = imread.imread(\"data/image/mIF.ome.tif\")\n",
    "image_array"
   ]
  },
  {
   "cell_type": "code",
   "execution_count": 13,
   "id": "4102accf",
   "metadata": {},
   "outputs": [
    {
     "name": "stdout",
     "output_type": "stream",
     "text": [
      "\u001b[34mINFO    \u001b[0m no axes information specified in the object, setting `dims` to: \u001b[1m(\u001b[0m\u001b[32m'c'\u001b[0m, \u001b[32m'y'\u001b[0m, \u001b[32m'x'\u001b[0m\u001b[1m)\u001b[0m                           \n"
     ]
    }
   ],
   "source": [
    "# load image to spatialdata object\n",
    "sdata['mIF'] = spatialdata.models.Image2DModel.parse(image_array)"
   ]
  },
  {
   "cell_type": "code",
   "execution_count": 14,
   "id": "1e6dd165",
   "metadata": {},
   "outputs": [
    {
     "data": {
      "text/plain": [
       "SpatialData object\n",
       "└── Images\n",
       "      └── 'mIF': DataArray[cyx] (15, 5000, 5000)\n",
       "with coordinate systems:\n",
       "    ▸ 'global', with elements:\n",
       "        mIF (Images)"
      ]
     },
     "execution_count": 14,
     "metadata": {},
     "output_type": "execute_result"
    }
   ],
   "source": [
    "sdata"
   ]
  },
  {
   "cell_type": "markdown",
   "id": "fdca3ed9",
   "metadata": {},
   "source": [
    "### Load proteomics matrix (adata object) to spatialdata object"
   ]
  },
  {
   "cell_type": "markdown",
   "id": "c890906f",
   "metadata": {},
   "source": [
    "First we must label the matrix, to let spatialdata know which coordinate system to use.  \n",
    "In this case, this means labelling which slide it was."
   ]
  },
  {
   "cell_type": "code",
   "execution_count": 15,
   "id": "4f4c977c",
   "metadata": {},
   "outputs": [],
   "source": [
    "adata.obs[\"Slide_id\"] = \"Slide_P12\""
   ]
  },
  {
   "cell_type": "code",
   "execution_count": 18,
   "id": "5e2db2d5",
   "metadata": {},
   "outputs": [
    {
     "data": {
      "text/plain": [
       "AnnData object with n_obs × n_vars = 10 × 6763\n",
       "    obs: 'Precursors.Identified', 'Proteins.Identified', 'Average.Missed.Tryptic.Cleavages', 'LCMS_run_id', 'RCN', 'RCN_long', 'QuPath_class', 'Slide_id'\n",
       "    var: 'Protein.Group', 'Protein.Names', 'Genes', 'First.Protein.Description'"
      ]
     },
     "execution_count": 18,
     "metadata": {},
     "output_type": "execute_result"
    }
   ],
   "source": [
    "adata"
   ]
  },
  {
   "cell_type": "markdown",
   "id": "11aa76da",
   "metadata": {},
   "source": [
    "Now we will pass the matrix to spatialdata.  \n",
    "We need to tell spatialdata what parts of the adata object to use for visualization.  \n",
    "`region` is which set of shapes to project these data into, in this case `Slide_P12`.  \n",
    "`region_key` is which column in adata.obs to use for finding the `region` parameter.  \n",
    "`instance_key` refers to the column that links this adata object to the shapes.  \n",
    "We use `QuPath_class` because that is the column that matches between the adata and the geodataframe."
   ]
  },
  {
   "cell_type": "code",
   "execution_count": 23,
   "id": "8f7ca2b8",
   "metadata": {},
   "outputs": [
    {
     "name": "stderr",
     "output_type": "stream",
     "text": [
      "/opt/homebrew/Caskroom/mambaforge/base/envs/opendvp_tut/lib/python3.11/site-packages/spatialdata/models/models.py:1144: UserWarning: Converting `region_key: Slide_id` to categorical dtype.\n",
      "  return convert_region_column_to_categorical(adata)\n"
     ]
    }
   ],
   "source": [
    "sdata['proteomics'] = spatialdata.models.TableModel.parse(\n",
    "                            adata=adata, \n",
    "                            region=\"Slide_P12\",\n",
    "                            region_key=\"Slide_id\",\n",
    "                            instance_key=\"QuPath_class\"\n",
    "                            )"
   ]
  },
  {
   "cell_type": "code",
   "execution_count": 24,
   "id": "92e32aa6",
   "metadata": {},
   "outputs": [
    {
     "data": {
      "text/plain": [
       "SpatialData object\n",
       "├── Images\n",
       "│     └── 'mIF': DataArray[cyx] (15, 5000, 5000)\n",
       "└── Tables\n",
       "      └── 'proteomics': AnnData (10, 6763)\n",
       "with coordinate systems:\n",
       "    ▸ 'global', with elements:\n",
       "        mIF (Images)"
      ]
     },
     "execution_count": 24,
     "metadata": {},
     "output_type": "execute_result"
    }
   ],
   "source": [
    "sdata"
   ]
  },
  {
   "cell_type": "markdown",
   "id": "a2588fab",
   "metadata": {},
   "source": [
    "### Load the geodataframe with shapes that match proteomic samples"
   ]
  },
  {
   "cell_type": "code",
   "execution_count": 27,
   "id": "aea2e4e8",
   "metadata": {},
   "outputs": [
    {
     "data": {
      "text/html": [
       "<div>\n",
       "<style scoped>\n",
       "    .dataframe tbody tr th:only-of-type {\n",
       "        vertical-align: middle;\n",
       "    }\n",
       "\n",
       "    .dataframe tbody tr th {\n",
       "        vertical-align: top;\n",
       "    }\n",
       "\n",
       "    .dataframe thead th {\n",
       "        text-align: right;\n",
       "    }\n",
       "</style>\n",
       "<table border=\"1\" class=\"dataframe\">\n",
       "  <thead>\n",
       "    <tr style=\"text-align: right;\">\n",
       "      <th></th>\n",
       "      <th>id</th>\n",
       "      <th>objectType</th>\n",
       "      <th>classification</th>\n",
       "      <th>geometry</th>\n",
       "    </tr>\n",
       "  </thead>\n",
       "  <tbody>\n",
       "    <tr>\n",
       "      <th>0</th>\n",
       "      <td>78422794-3ed4-4e09-a9aa-6486c467149d</td>\n",
       "      <td>annotation</td>\n",
       "      <td>{ \"name\": \"P12_Immune_3\", \"color\": [ 0, 255, 2...</td>\n",
       "      <td>POLYGON ((3417 955.5, 3417.23 962.94, 3417.93 ...</td>\n",
       "    </tr>\n",
       "    <tr>\n",
       "      <th>1</th>\n",
       "      <td>70a57ffd-50a0-4449-b873-2dd2a38bf190</td>\n",
       "      <td>annotation</td>\n",
       "      <td>{ \"name\": \"P12_Immune_3\", \"color\": [ 0, 255, 2...</td>\n",
       "      <td>POLYGON ((3547 715.5, 3547.23 722.94, 3547.93 ...</td>\n",
       "    </tr>\n",
       "    <tr>\n",
       "      <th>2</th>\n",
       "      <td>edfda1ca-8de8-44f5-af4e-f16e15bcd4ca</td>\n",
       "      <td>annotation</td>\n",
       "      <td>{ \"name\": \"P12_Immune_3\", \"color\": [ 0, 255, 2...</td>\n",
       "      <td>POLYGON ((3324 568.5, 3324.23 575.94, 3324.93 ...</td>\n",
       "    </tr>\n",
       "    <tr>\n",
       "      <th>3</th>\n",
       "      <td>a0a868c6-c7e3-4fb0-8f4f-071454565080</td>\n",
       "      <td>annotation</td>\n",
       "      <td>{ \"name\": \"P12_Immune_4\", \"color\": [ 0, 255, 2...</td>\n",
       "      <td>POLYGON ((4398 2191.5, 4398.21 2198.06, 4398.8...</td>\n",
       "    </tr>\n",
       "    <tr>\n",
       "      <th>4</th>\n",
       "      <td>ce97d787-321e-4b7d-97e7-55b203fb0373</td>\n",
       "      <td>annotation</td>\n",
       "      <td>{ \"name\": \"P12_Immune_4\", \"color\": [ 0, 255, 2...</td>\n",
       "      <td>POLYGON ((4173 2349, 4173.22 2356.16, 4173.9 2...</td>\n",
       "    </tr>\n",
       "  </tbody>\n",
       "</table>\n",
       "</div>"
      ],
      "text/plain": [
       "                                     id  objectType  \\\n",
       "0  78422794-3ed4-4e09-a9aa-6486c467149d  annotation   \n",
       "1  70a57ffd-50a0-4449-b873-2dd2a38bf190  annotation   \n",
       "2  edfda1ca-8de8-44f5-af4e-f16e15bcd4ca  annotation   \n",
       "3  a0a868c6-c7e3-4fb0-8f4f-071454565080  annotation   \n",
       "4  ce97d787-321e-4b7d-97e7-55b203fb0373  annotation   \n",
       "\n",
       "                                      classification  \\\n",
       "0  { \"name\": \"P12_Immune_3\", \"color\": [ 0, 255, 2...   \n",
       "1  { \"name\": \"P12_Immune_3\", \"color\": [ 0, 255, 2...   \n",
       "2  { \"name\": \"P12_Immune_3\", \"color\": [ 0, 255, 2...   \n",
       "3  { \"name\": \"P12_Immune_4\", \"color\": [ 0, 255, 2...   \n",
       "4  { \"name\": \"P12_Immune_4\", \"color\": [ 0, 255, 2...   \n",
       "\n",
       "                                            geometry  \n",
       "0  POLYGON ((3417 955.5, 3417.23 962.94, 3417.93 ...  \n",
       "1  POLYGON ((3547 715.5, 3547.23 722.94, 3547.93 ...  \n",
       "2  POLYGON ((3324 568.5, 3324.23 575.94, 3324.93 ...  \n",
       "3  POLYGON ((4398 2191.5, 4398.21 2198.06, 4398.8...  \n",
       "4  POLYGON ((4173 2349, 4173.22 2356.16, 4173.9 2...  "
      ]
     },
     "execution_count": 27,
     "metadata": {},
     "output_type": "execute_result"
    }
   ],
   "source": [
    "gdf.head()"
   ]
  },
  {
   "cell_type": "markdown",
   "id": "ba8928f5",
   "metadata": {},
   "source": [
    "Here we see that the QuPath class name is inside that classification column.  \n",
    "Let's get it out"
   ]
  },
  {
   "cell_type": "code",
   "execution_count": null,
   "id": "c88f97a1",
   "metadata": {},
   "outputs": [],
   "source": [
    "gdf['QuPath_class'] = gdf['classification'].apply(\n",
    "    lambda row: ast.literal_eval(row).get('name') if isinstance(row,str) else row.get('name'))\n",
    "\n",
    "# this line of code says, if classification cells are strings, \n",
    "# convert to a dictionary and get name attribute, \n",
    "# otherwise we assume it is already a dictionary and we get the name attribute."
   ]
  },
  {
   "cell_type": "code",
   "execution_count": 29,
   "id": "ea31d7d4",
   "metadata": {},
   "outputs": [
    {
     "data": {
      "text/html": [
       "<div>\n",
       "<style scoped>\n",
       "    .dataframe tbody tr th:only-of-type {\n",
       "        vertical-align: middle;\n",
       "    }\n",
       "\n",
       "    .dataframe tbody tr th {\n",
       "        vertical-align: top;\n",
       "    }\n",
       "\n",
       "    .dataframe thead th {\n",
       "        text-align: right;\n",
       "    }\n",
       "</style>\n",
       "<table border=\"1\" class=\"dataframe\">\n",
       "  <thead>\n",
       "    <tr style=\"text-align: right;\">\n",
       "      <th></th>\n",
       "      <th>id</th>\n",
       "      <th>objectType</th>\n",
       "      <th>classification</th>\n",
       "      <th>geometry</th>\n",
       "      <th>QuPath_class</th>\n",
       "    </tr>\n",
       "  </thead>\n",
       "  <tbody>\n",
       "    <tr>\n",
       "      <th>0</th>\n",
       "      <td>78422794-3ed4-4e09-a9aa-6486c467149d</td>\n",
       "      <td>annotation</td>\n",
       "      <td>{ \"name\": \"P12_Immune_3\", \"color\": [ 0, 255, 2...</td>\n",
       "      <td>POLYGON ((3417 955.5, 3417.23 962.94, 3417.93 ...</td>\n",
       "      <td>P12_Immune_3</td>\n",
       "    </tr>\n",
       "    <tr>\n",
       "      <th>1</th>\n",
       "      <td>70a57ffd-50a0-4449-b873-2dd2a38bf190</td>\n",
       "      <td>annotation</td>\n",
       "      <td>{ \"name\": \"P12_Immune_3\", \"color\": [ 0, 255, 2...</td>\n",
       "      <td>POLYGON ((3547 715.5, 3547.23 722.94, 3547.93 ...</td>\n",
       "      <td>P12_Immune_3</td>\n",
       "    </tr>\n",
       "    <tr>\n",
       "      <th>2</th>\n",
       "      <td>edfda1ca-8de8-44f5-af4e-f16e15bcd4ca</td>\n",
       "      <td>annotation</td>\n",
       "      <td>{ \"name\": \"P12_Immune_3\", \"color\": [ 0, 255, 2...</td>\n",
       "      <td>POLYGON ((3324 568.5, 3324.23 575.94, 3324.93 ...</td>\n",
       "      <td>P12_Immune_3</td>\n",
       "    </tr>\n",
       "    <tr>\n",
       "      <th>3</th>\n",
       "      <td>a0a868c6-c7e3-4fb0-8f4f-071454565080</td>\n",
       "      <td>annotation</td>\n",
       "      <td>{ \"name\": \"P12_Immune_4\", \"color\": [ 0, 255, 2...</td>\n",
       "      <td>POLYGON ((4398 2191.5, 4398.21 2198.06, 4398.8...</td>\n",
       "      <td>P12_Immune_4</td>\n",
       "    </tr>\n",
       "    <tr>\n",
       "      <th>4</th>\n",
       "      <td>ce97d787-321e-4b7d-97e7-55b203fb0373</td>\n",
       "      <td>annotation</td>\n",
       "      <td>{ \"name\": \"P12_Immune_4\", \"color\": [ 0, 255, 2...</td>\n",
       "      <td>POLYGON ((4173 2349, 4173.22 2356.16, 4173.9 2...</td>\n",
       "      <td>P12_Immune_4</td>\n",
       "    </tr>\n",
       "  </tbody>\n",
       "</table>\n",
       "</div>"
      ],
      "text/plain": [
       "                                     id  objectType  \\\n",
       "0  78422794-3ed4-4e09-a9aa-6486c467149d  annotation   \n",
       "1  70a57ffd-50a0-4449-b873-2dd2a38bf190  annotation   \n",
       "2  edfda1ca-8de8-44f5-af4e-f16e15bcd4ca  annotation   \n",
       "3  a0a868c6-c7e3-4fb0-8f4f-071454565080  annotation   \n",
       "4  ce97d787-321e-4b7d-97e7-55b203fb0373  annotation   \n",
       "\n",
       "                                      classification  \\\n",
       "0  { \"name\": \"P12_Immune_3\", \"color\": [ 0, 255, 2...   \n",
       "1  { \"name\": \"P12_Immune_3\", \"color\": [ 0, 255, 2...   \n",
       "2  { \"name\": \"P12_Immune_3\", \"color\": [ 0, 255, 2...   \n",
       "3  { \"name\": \"P12_Immune_4\", \"color\": [ 0, 255, 2...   \n",
       "4  { \"name\": \"P12_Immune_4\", \"color\": [ 0, 255, 2...   \n",
       "\n",
       "                                            geometry  QuPath_class  \n",
       "0  POLYGON ((3417 955.5, 3417.23 962.94, 3417.93 ...  P12_Immune_3  \n",
       "1  POLYGON ((3547 715.5, 3547.23 722.94, 3547.93 ...  P12_Immune_3  \n",
       "2  POLYGON ((3324 568.5, 3324.23 575.94, 3324.93 ...  P12_Immune_3  \n",
       "3  POLYGON ((4398 2191.5, 4398.21 2198.06, 4398.8...  P12_Immune_4  \n",
       "4  POLYGON ((4173 2349, 4173.22 2356.16, 4173.9 2...  P12_Immune_4  "
      ]
     },
     "execution_count": 29,
     "metadata": {},
     "output_type": "execute_result"
    }
   ],
   "source": [
    "gdf.head()"
   ]
  },
  {
   "cell_type": "markdown",
   "id": "0cae66dc",
   "metadata": {},
   "source": [
    "Now we see that the `QuPath_class` column has our matching names.  \n",
    "One last thing we must do, is set these names as the index of the geodataframe."
   ]
  },
  {
   "cell_type": "code",
   "execution_count": 30,
   "id": "cde5ba46",
   "metadata": {},
   "outputs": [
    {
     "data": {
      "text/html": [
       "<div>\n",
       "<style scoped>\n",
       "    .dataframe tbody tr th:only-of-type {\n",
       "        vertical-align: middle;\n",
       "    }\n",
       "\n",
       "    .dataframe tbody tr th {\n",
       "        vertical-align: top;\n",
       "    }\n",
       "\n",
       "    .dataframe thead th {\n",
       "        text-align: right;\n",
       "    }\n",
       "</style>\n",
       "<table border=\"1\" class=\"dataframe\">\n",
       "  <thead>\n",
       "    <tr style=\"text-align: right;\">\n",
       "      <th></th>\n",
       "      <th>id</th>\n",
       "      <th>objectType</th>\n",
       "      <th>classification</th>\n",
       "      <th>geometry</th>\n",
       "    </tr>\n",
       "    <tr>\n",
       "      <th>QuPath_class</th>\n",
       "      <th></th>\n",
       "      <th></th>\n",
       "      <th></th>\n",
       "      <th></th>\n",
       "    </tr>\n",
       "  </thead>\n",
       "  <tbody>\n",
       "    <tr>\n",
       "      <th>P12_Immune_3</th>\n",
       "      <td>78422794-3ed4-4e09-a9aa-6486c467149d</td>\n",
       "      <td>annotation</td>\n",
       "      <td>{ \"name\": \"P12_Immune_3\", \"color\": [ 0, 255, 2...</td>\n",
       "      <td>POLYGON ((3417 955.5, 3417.23 962.94, 3417.93 ...</td>\n",
       "    </tr>\n",
       "    <tr>\n",
       "      <th>P12_Immune_3</th>\n",
       "      <td>70a57ffd-50a0-4449-b873-2dd2a38bf190</td>\n",
       "      <td>annotation</td>\n",
       "      <td>{ \"name\": \"P12_Immune_3\", \"color\": [ 0, 255, 2...</td>\n",
       "      <td>POLYGON ((3547 715.5, 3547.23 722.94, 3547.93 ...</td>\n",
       "    </tr>\n",
       "    <tr>\n",
       "      <th>P12_Immune_3</th>\n",
       "      <td>edfda1ca-8de8-44f5-af4e-f16e15bcd4ca</td>\n",
       "      <td>annotation</td>\n",
       "      <td>{ \"name\": \"P12_Immune_3\", \"color\": [ 0, 255, 2...</td>\n",
       "      <td>POLYGON ((3324 568.5, 3324.23 575.94, 3324.93 ...</td>\n",
       "    </tr>\n",
       "    <tr>\n",
       "      <th>P12_Immune_4</th>\n",
       "      <td>a0a868c6-c7e3-4fb0-8f4f-071454565080</td>\n",
       "      <td>annotation</td>\n",
       "      <td>{ \"name\": \"P12_Immune_4\", \"color\": [ 0, 255, 2...</td>\n",
       "      <td>POLYGON ((4398 2191.5, 4398.21 2198.06, 4398.8...</td>\n",
       "    </tr>\n",
       "    <tr>\n",
       "      <th>P12_Immune_4</th>\n",
       "      <td>ce97d787-321e-4b7d-97e7-55b203fb0373</td>\n",
       "      <td>annotation</td>\n",
       "      <td>{ \"name\": \"P12_Immune_4\", \"color\": [ 0, 255, 2...</td>\n",
       "      <td>POLYGON ((4173 2349, 4173.22 2356.16, 4173.9 2...</td>\n",
       "    </tr>\n",
       "  </tbody>\n",
       "</table>\n",
       "</div>"
      ],
      "text/plain": [
       "                                                id  objectType  \\\n",
       "QuPath_class                                                     \n",
       "P12_Immune_3  78422794-3ed4-4e09-a9aa-6486c467149d  annotation   \n",
       "P12_Immune_3  70a57ffd-50a0-4449-b873-2dd2a38bf190  annotation   \n",
       "P12_Immune_3  edfda1ca-8de8-44f5-af4e-f16e15bcd4ca  annotation   \n",
       "P12_Immune_4  a0a868c6-c7e3-4fb0-8f4f-071454565080  annotation   \n",
       "P12_Immune_4  ce97d787-321e-4b7d-97e7-55b203fb0373  annotation   \n",
       "\n",
       "                                                 classification  \\\n",
       "QuPath_class                                                      \n",
       "P12_Immune_3  { \"name\": \"P12_Immune_3\", \"color\": [ 0, 255, 2...   \n",
       "P12_Immune_3  { \"name\": \"P12_Immune_3\", \"color\": [ 0, 255, 2...   \n",
       "P12_Immune_3  { \"name\": \"P12_Immune_3\", \"color\": [ 0, 255, 2...   \n",
       "P12_Immune_4  { \"name\": \"P12_Immune_4\", \"color\": [ 0, 255, 2...   \n",
       "P12_Immune_4  { \"name\": \"P12_Immune_4\", \"color\": [ 0, 255, 2...   \n",
       "\n",
       "                                                       geometry  \n",
       "QuPath_class                                                     \n",
       "P12_Immune_3  POLYGON ((3417 955.5, 3417.23 962.94, 3417.93 ...  \n",
       "P12_Immune_3  POLYGON ((3547 715.5, 3547.23 722.94, 3547.93 ...  \n",
       "P12_Immune_3  POLYGON ((3324 568.5, 3324.23 575.94, 3324.93 ...  \n",
       "P12_Immune_4  POLYGON ((4398 2191.5, 4398.21 2198.06, 4398.8...  \n",
       "P12_Immune_4  POLYGON ((4173 2349, 4173.22 2356.16, 4173.9 2...  "
      ]
     },
     "execution_count": 30,
     "metadata": {},
     "output_type": "execute_result"
    }
   ],
   "source": [
    "gdf = gdf.set_index(\"QuPath_class\")\n",
    "gdf.head()"
   ]
  },
  {
   "cell_type": "markdown",
   "id": "cf4a89fe",
   "metadata": {},
   "source": [
    "Now we see that `QuPath_class` is the index.  \n",
    "Spatialdata needs this to match the proteomics adata object to these shapes.  \n",
    "Let's add these prepared shapes to the spatialdata object."
   ]
  },
  {
   "cell_type": "code",
   "execution_count": 31,
   "id": "8bfdfebe",
   "metadata": {},
   "outputs": [],
   "source": [
    "sdata['Slide_P12'] = spatialdata.models.ShapesModel.parse(gdf)"
   ]
  },
  {
   "cell_type": "code",
   "execution_count": 32,
   "id": "6cad5db4",
   "metadata": {},
   "outputs": [
    {
     "data": {
      "text/plain": [
       "SpatialData object\n",
       "├── Images\n",
       "│     └── 'mIF': DataArray[cyx] (15, 5000, 5000)\n",
       "├── Shapes\n",
       "│     └── 'Slide_P12': GeoDataFrame shape: (20, 4) (2D shapes)\n",
       "└── Tables\n",
       "      └── 'proteomics': AnnData (10, 6763)\n",
       "with coordinate systems:\n",
       "    ▸ 'global', with elements:\n",
       "        mIF (Images), Slide_P12 (Shapes)"
      ]
     },
     "execution_count": 32,
     "metadata": {},
     "output_type": "execute_result"
    }
   ],
   "source": [
    "sdata"
   ]
  },
  {
   "cell_type": "markdown",
   "id": "ac8fe6c9",
   "metadata": {},
   "source": [
    "### Visualize data interactively"
   ]
  },
  {
   "cell_type": "code",
   "execution_count": 38,
   "id": "9fe9e307",
   "metadata": {},
   "outputs": [
    {
     "data": {
      "text/plain": [
       "<napari_spatialdata._interactive.Interactive at 0x2ad487610>"
      ]
     },
     "execution_count": 38,
     "metadata": {},
     "output_type": "execute_result"
    }
   ],
   "source": [
    "napari_spatialdata.Interactive(sdata)"
   ]
  },
  {
   "cell_type": "markdown",
   "id": "f6946404",
   "metadata": {},
   "source": [
    "### Write spatialdata object for future use"
   ]
  },
  {
   "cell_type": "code",
   "execution_count": 35,
   "id": "be59d307",
   "metadata": {},
   "outputs": [
    {
     "name": "stdout",
     "output_type": "stream",
     "text": [
      "\u001b[34mINFO    \u001b[0m The Zarr backing store has been changed from \u001b[3;35mNone\u001b[0m the new file path: outputs/spatialdata.zarr             \n"
     ]
    }
   ],
   "source": [
    "sdata.write(\"outputs/spatialdata.zarr\")"
   ]
  }
 ],
 "metadata": {
  "kernelspec": {
   "display_name": "opendvp_tut",
   "language": "python",
   "name": "python3"
  },
  "language_info": {
   "codemirror_mode": {
    "name": "ipython",
    "version": 3
   },
   "file_extension": ".py",
   "mimetype": "text/x-python",
   "name": "python",
   "nbconvert_exporter": "python",
   "pygments_lexer": "ipython3",
   "version": "3.11.0"
  }
 },
 "nbformat": 4,
 "nbformat_minor": 5
}
