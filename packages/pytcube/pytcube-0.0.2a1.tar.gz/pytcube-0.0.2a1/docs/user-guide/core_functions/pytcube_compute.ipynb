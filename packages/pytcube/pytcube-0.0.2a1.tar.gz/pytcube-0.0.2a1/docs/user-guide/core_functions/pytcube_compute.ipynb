{
 "cells": [
  {
   "cell_type": "markdown",
   "id": "4db63828-7153-4c5b-a438-9682a2c2482c",
   "metadata": {
    "editable": true,
    "slideshow": {
     "slide_type": ""
    },
    "tags": []
   },
   "source": [
    "# Compute"
   ]
  },
  {
   "cell_type": "markdown",
   "id": "a090d1d2-270d-4cbc-ad82-33d54c99c402",
   "metadata": {},
   "source": [
    "## Overview\n",
    "\n",
    "The `pytcube.compute` function processes a list of batches extracted from a spatiotemporal `DataCube`. It allows users to compute results in parallel, handling multiple batches at once. This is particularly useful when working with large datasets, enabling efficient computation and resource management."
   ]
  },
  {
   "cell_type": "markdown",
   "id": "03592494-9216-477f-9cfa-82e69e2a5c6c",
   "metadata": {},
   "source": [
    "## Function Signature\n",
    "\n",
    "```python\n",
    "pytcube.compute(\n",
    "    batches: list,\n",
    "    n_batches_per_block: int = -1,\n",
    ") -> list\n",
    "```"
   ]
  },
  {
   "cell_type": "markdown",
   "id": "3594be22-48ba-4e5e-860b-7b7280fb1d07",
   "metadata": {},
   "source": [
    "## Parameters"
   ]
  },
  {
   "cell_type": "markdown",
   "id": "5077f7e0-4a2b-46d9-8cd7-be01848e0188",
   "metadata": {},
   "source": [
    "- `batches` `(list)`: A list of batches, where each batch contains extracted Minicubes from the input DataCube. Each batch should be in a format suitable for computation.\n",
    "- `n_batches_per_block` `(int, optional)`: The number of batches to process in each computation block. If set to -1, all batches will be processed at once. The default value is -1."
   ]
  },
  {
   "cell_type": "markdown",
   "id": "1b8856a7-583d-47c5-9413-f903ab4b5f1d",
   "metadata": {},
   "source": [
    "## Returns"
   ]
  },
  {
   "cell_type": "markdown",
   "id": "7438070a-b9ca-4bd0-a953-5e3250fd685c",
   "metadata": {},
   "source": [
    "- `(list)`: A list of results from the computation, where each result corresponds to the respective batch processed."
   ]
  },
  {
   "cell_type": "markdown",
   "id": "f51444a0-cffa-4249-8d39-3a224a39c683",
   "metadata": {},
   "source": [
    "## Example Usage"
   ]
  },
  {
   "cell_type": "code",
   "execution_count": 10,
   "id": "2078fb5a-b877-4818-8729-74a4cf93915f",
   "metadata": {
    "editable": true,
    "nbsphinx": "hidden",
    "slideshow": {
     "slide_type": ""
    },
    "tags": []
   },
   "outputs": [
    {
     "name": "stderr",
     "output_type": "stream",
     "text": [
      "2024-10-31 15:03:46,087|INFO    |Formatting of the datacube                                                                          |datacube.py:28@_format()\n",
      "2024-10-31 15:03:46,088|INFO    |Formatting of the dataset                                                                           |dataset.py:34@_format()\n",
      "2024-10-31 15:03:46,090|INFO    |Calculation of buffer indices                                                                       |datacube.py:42@get_ibuffer()\n",
      "2024-10-31 15:03:46,091|INFO    |Setup of the DataCube and the Dataset                                                               |processing.py:44@setup()\n",
      "2024-10-31 15:03:46,106|INFO    |Processing of observations and creation of batches                                                  |processing.py:190@processing()\n"
     ]
    },
    {
     "data": {
      "text/plain": [
       "[Delayed('batch-473359ac-0cfc-4218-b1d0-d3f10f67a6a7'),\n",
       " Delayed('batch-f55bffe2-c9d5-49f3-861c-273be32e3e66')]"
      ]
     },
     "execution_count": 10,
     "metadata": {},
     "output_type": "execute_result"
    }
   ],
   "source": [
    "import pytcube\n",
    "from pytcube.utils import datacube, dataset\n",
    "\n",
    "# Define buffer sizes\n",
    "buffer = {\n",
    "    \"time\": 360, # in minutes\n",
    "    \"lon\": 100, # in kilometers\n",
    "    \"lat\": 100 # in kilometers\n",
    "}\n",
    "\n",
    "# Specify number of observations per batch\n",
    "n_obs_per_batch = 50\n",
    "\n",
    "# Perform extraction\n",
    "batches = pytcube.extraction(\n",
    "    datacube=datacube,\n",
    "    dataset=dataset,\n",
    "    buffer=buffer,\n",
    "    n_obs_per_batch=n_obs_per_batch\n",
    ")\n",
    "\n",
    "# Display the results\n",
    "batches"
   ]
  },
  {
   "cell_type": "code",
   "execution_count": 11,
   "id": "4d0d474e-0923-4025-bb71-ceab4f07392b",
   "metadata": {
    "editable": true,
    "slideshow": {
     "slide_type": ""
    },
    "tags": []
   },
   "outputs": [
    {
     "name": "stderr",
     "output_type": "stream",
     "text": [
      "2024-10-31 15:03:46,168|INFO    |Start of computation                                                                                |api.py:110@compute()\n",
      "2024-10-31 15:03:46,168|INFO    |Computation of the block 1/2 with 1 batches                                                         |api.py:116@compute()\n",
      "2024-10-31 15:03:46,197|INFO    |Computation of the block 2/2 with 1 batches                                                         |api.py:116@compute()\n"
     ]
    },
    {
     "data": {
      "text/plain": [
       "[(<xarray.Dataset> Size: 16kB\n",
       "  Dimensions:        (id: 50, t: 3, x: 3, y: 3)\n",
       "  Coordinates:\n",
       "      datacube_time  (id, t) datetime64[ns] 1kB 2018-01-01 ... 2018-01-17\n",
       "      datacube_lon   (id, x) float64 1kB 122.5 123.5 124.5 ... 144.5 145.5 146.5\n",
       "      datacube_lat   (id, y) float64 1kB 13.5 14.5 15.5 6.5 ... -15.5 -14.5 -13.5\n",
       "      obs            (id) int64 400B 11 47 52 85 98 1 3 ... 17 22 79 14 19 36 67\n",
       "      dataset_time   (id) datetime64[ns] 400B 2018-01-02 2018-01-02 ... 2018-01-16\n",
       "      dataset_lon    (id) float64 400B 123.2 4.726 58.16 ... 45.81 -36.65 145.9\n",
       "      dataset_lat    (id) float64 400B 14.88 7.674 13.28 ... 64.69 14.79 -14.89\n",
       "    * id             (id) int64 400B 0 1 2 3 4 5 6 7 8 ... 42 43 44 45 46 47 48 49\n",
       "  Dimensions without coordinates: t, x, y\n",
       "  Data variables:\n",
       "      datacube_data  (id, t, x, y) float64 11kB 0.8798 0.5489 ... 0.3328 0.449,),\n",
       " (<xarray.Dataset> Size: 13kB\n",
       "  Dimensions:        (id: 40, t: 3, x: 3, y: 3)\n",
       "  Coordinates:\n",
       "      datacube_time  (id, t) datetime64[ns] 960B 2018-01-16 ... 2018-01-30\n",
       "      datacube_lon   (id, x) float64 960B 69.5 70.5 71.5 ... -37.5 -36.5 -35.5\n",
       "      datacube_lat   (id, y) float64 960B -14.5 -13.5 -12.5 ... 43.5 44.5 45.5\n",
       "      obs            (id) int64 320B 26 39 77 5 13 28 94 97 ... 61 76 8 69 2 43 44\n",
       "      dataset_time   (id) datetime64[ns] 320B 2018-01-17 2018-01-17 ... 2018-01-29\n",
       "      dataset_lon    (id) float64 320B 70.39 -51.87 83.19 ... -70.52 -125.6 -36.4\n",
       "      dataset_lat    (id) float64 320B -13.62 -21.78 -46.5 ... -69.95 -84.2 44.06\n",
       "    * id             (id) int64 320B 50 51 52 53 54 55 56 ... 83 84 85 86 87 88 89\n",
       "  Dimensions without coordinates: t, x, y\n",
       "  Data variables:\n",
       "      datacube_data  (id, t, x, y) float64 9kB 0.3448 0.2686 ... 0.1971 0.8623,)]"
      ]
     },
     "execution_count": 11,
     "metadata": {},
     "output_type": "execute_result"
    }
   ],
   "source": [
    "import pytcube\n",
    "\n",
    "# Specify number of batch per block\n",
    "n_batches_per_block=1\n",
    "\n",
    "results = pytcube.compute(\n",
    "    batches=batches, \n",
    "    n_batches_per_block=n_batches_per_block)\n",
    "\n",
    "# Display the results\n",
    "results"
   ]
  }
 ],
 "metadata": {
  "kernelspec": {
   "display_name": "Python [conda env:data-env]",
   "language": "python",
   "name": "conda-env-data-env-py"
  },
  "language_info": {
   "codemirror_mode": {
    "name": "ipython",
    "version": 3
   },
   "file_extension": ".py",
   "mimetype": "text/x-python",
   "name": "python",
   "nbconvert_exporter": "python",
   "pygments_lexer": "ipython3",
   "version": "3.12.7"
  }
 },
 "nbformat": 4,
 "nbformat_minor": 5
}
