{
 "cells": [
  {
   "cell_type": "markdown",
   "id": "bbd6582e-4b99-481b-8faf-d840da6be43a",
   "metadata": {},
   "source": [
    "# How to use?"
   ]
  },
  {
   "cell_type": "markdown",
   "id": "02f5b64f-1e4d-489e-acb7-2db783eef395",
   "metadata": {},
   "source": [
    "## Let’s look at an example"
   ]
  },
  {
   "cell_type": "code",
   "execution_count": null,
   "id": "e0004815-fa9a-45d8-a790-469a6a55e082",
   "metadata": {},
   "outputs": [],
   "source": [
    "from pytcube import (\n",
    "    prepare_for_colocate,\n",
    "    colocate\n",
    ")"
   ]
  }
 ],
 "metadata": {
  "kernelspec": {
   "display_name": "Python [conda env:odatis-dev] *",
   "language": "python",
   "name": "conda-env-odatis-dev-py"
  },
  "language_info": {
   "codemirror_mode": {
    "name": "ipython",
    "version": 3
   },
   "file_extension": ".py",
   "mimetype": "text/x-python",
   "name": "python",
   "nbconvert_exporter": "python",
   "pygments_lexer": "ipython3",
   "version": "3.12.8"
  }
 },
 "nbformat": 4,
 "nbformat_minor": 5
}
