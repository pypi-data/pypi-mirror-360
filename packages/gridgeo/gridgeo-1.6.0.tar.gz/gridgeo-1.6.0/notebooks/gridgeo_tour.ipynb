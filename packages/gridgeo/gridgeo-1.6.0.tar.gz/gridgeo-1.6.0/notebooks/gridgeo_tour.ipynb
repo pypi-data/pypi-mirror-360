{
 "cells": [
  {
   "cell_type": "markdown",
   "metadata": {},
   "source": [
    "# gridgeo tour"
   ]
  },
  {
   "cell_type": "code",
   "execution_count": null,
   "metadata": {},
   "outputs": [],
   "source": [
    "import pooch\n",
    "\n",
    "fname = \"ugrid.nc\"\n",
    "url = f\"https://github.com/pyoceans/gridgeo/raw/refs/heads/main/tests/data/{fname}\"\n",
    "\n",
    "fname = pooch.retrieve(\n",
    "    url,\n",
    "    known_hash=\"sha256:4588e39f63e4c832f232cca42ff1e9eaec0428de46ff007482ee57cb3e03c285\",\n",
    ")"
   ]
  },
  {
   "cell_type": "code",
   "execution_count": null,
   "metadata": {},
   "outputs": [],
   "source": [
    "import gridgeo\n",
    "\n",
    "grid = gridgeo.GridGeo(fname, standard_name=\"sea_water_potential_temperature\")"
   ]
  },
  {
   "cell_type": "code",
   "execution_count": null,
   "metadata": {},
   "outputs": [],
   "source": [
    "import fiona\n",
    "\n",
    "schema = {\n",
    "    \"geometry\": \"MultiPolygon\",\n",
    "    \"properties\": {\"name\": f\"str:{len(grid.mesh)}\"},\n",
    "}\n",
    "with fiona.open(\"grid.shp\", \"w\", \"ESRI Shapefile\", schema) as f:\n",
    "    f.write(\n",
    "        {\"geometry\": grid.__geo_interface__, \"properties\": {\"name\": grid.mesh}}\n",
    "    )"
   ]
  },
  {
   "cell_type": "markdown",
   "metadata": {},
   "source": [
    "Methods"
   ]
  },
  {
   "cell_type": "code",
   "execution_count": null,
   "metadata": {},
   "outputs": [],
   "source": [
    "[s for s in dir(grid) if not s.startswith(\"_\")]"
   ]
  },
  {
   "cell_type": "code",
   "execution_count": null,
   "metadata": {},
   "outputs": [],
   "source": [
    "grid.mesh"
   ]
  },
  {
   "cell_type": "code",
   "execution_count": null,
   "metadata": {},
   "outputs": [],
   "source": [
    "print(f\"The grid has {len(grid.polygons)} polygons, showing the first 5.\")\n",
    "\n",
    "grid.geometry.geoms[:5]"
   ]
  },
  {
   "cell_type": "code",
   "execution_count": null,
   "metadata": {},
   "outputs": [],
   "source": [
    "grid.outline"
   ]
  },
  {
   "cell_type": "markdown",
   "metadata": {},
   "source": [
    "Displaying all the polygons as vectors can be costly and crash jupyter! Let's make a raster representation of them using cartopy instead."
   ]
  },
  {
   "cell_type": "code",
   "execution_count": null,
   "metadata": {},
   "outputs": [],
   "source": [
    "import cartopy.crs as ccrs\n",
    "import matplotlib.pyplot as plt\n",
    "\n",
    "fig, ax = plt.subplots(\n",
    "    figsize=(12, 12), subplot_kw={\"projection\": ccrs.PlateCarree()}\n",
    ")\n",
    "\n",
    "kw = {\n",
    "    \"linestyle\": \"-\",\n",
    "    \"alpha\": 0.25,\n",
    "    \"color\": \"darkgray\",\n",
    "}\n",
    "ax.triplot(grid.triang, **kw)\n",
    "ax.coastlines(resolution=\"10m\");"
   ]
  },
  {
   "cell_type": "markdown",
   "metadata": {},
   "source": [
    "`to_geojson()` method returns a styled geojson-like `dict`\n",
    "\n",
    "See https://github.com/mapbox/simplestyle-spec/tree/master/1.1.0 for styling options."
   ]
  },
  {
   "cell_type": "code",
   "execution_count": null,
   "metadata": {},
   "outputs": [],
   "source": [
    "kw = {\n",
    "    \"fill\": \"#fd7d11\",\n",
    "    \"fill_opacity\": 0.2,\n",
    "    \"stroke_opacity\": 1,\n",
    "    \"float_precision\": 2,\n",
    "}\n",
    "\n",
    "geojson = grid.to_geojson(**kw)\n",
    "geojson[\"properties\"]"
   ]
  },
  {
   "cell_type": "markdown",
   "metadata": {},
   "source": [
    "or just use the `__geo_interface__`."
   ]
  },
  {
   "cell_type": "code",
   "execution_count": null,
   "metadata": {},
   "outputs": [],
   "source": [
    "grid.__geo_interface__.keys()"
   ]
  },
  {
   "cell_type": "markdown",
   "metadata": {},
   "source": [
    "Saving the grid to as geojson file"
   ]
  },
  {
   "cell_type": "code",
   "execution_count": null,
   "metadata": {},
   "outputs": [],
   "source": [
    "grid.save(\"grid.geojson\", **kw)"
   ]
  },
  {
   "cell_type": "markdown",
   "metadata": {},
   "source": [
    "shapefile"
   ]
  },
  {
   "cell_type": "code",
   "execution_count": null,
   "metadata": {},
   "outputs": [],
   "source": [
    "grid.save(\"grid.shp\")"
   ]
  },
  {
   "cell_type": "markdown",
   "metadata": {},
   "source": [
    "or just plot using folium ;-)"
   ]
  },
  {
   "cell_type": "code",
   "execution_count": null,
   "metadata": {},
   "outputs": [],
   "source": [
    "import folium\n",
    "\n",
    "x, y = grid.outline.centroid.xy\n",
    "\n",
    "m = folium.Map(location=[y[0], x[0]])\n",
    "folium.GeoJson(grid.outline.__geo_interface__).add_to(m)\n",
    "m.fit_bounds(m.get_bounds())\n",
    "\n",
    "m"
   ]
  }
 ],
 "metadata": {
  "kernelspec": {
   "display_name": "Python 3 (ipykernel)",
   "language": "python",
   "name": "python3"
  },
  "language_info": {
   "codemirror_mode": {
    "name": "ipython",
    "version": 3
   },
   "file_extension": ".py",
   "mimetype": "text/x-python",
   "name": "python",
   "nbconvert_exporter": "python",
   "pygments_lexer": "ipython3",
   "version": "3.13.5"
  }
 },
 "nbformat": 4,
 "nbformat_minor": 1
}
