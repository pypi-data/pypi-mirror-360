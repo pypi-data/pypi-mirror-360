{
 "cells": [
  {
   "cell_type": "markdown",
   "metadata": {},
   "source": [
    "# pyugrid and gridgeo.ugrid comparison\n",
    "\n",
    "Let's load both objects from a netCDF4.Dataset instance."
   ]
  },
  {
   "cell_type": "code",
   "execution_count": 1,
   "metadata": {},
   "outputs": [],
   "source": [
    "import pooch\n",
    "\n",
    "fname = \"ugrid.nc\"\n",
    "url = f\"https://github.com/pyoceans/gridgeo/raw/refs/heads/main/tests/data/{fname}\"\n",
    "\n",
    "fname = pooch.retrieve(\n",
    "    url,\n",
    "    known_hash=\"sha256:4588e39f63e4c832f232cca42ff1e9eaec0428de46ff007482ee57cb3e03c285\",\n",
    ")"
   ]
  },
  {
   "cell_type": "code",
   "execution_count": 2,
   "metadata": {},
   "outputs": [],
   "source": [
    "from netCDF4 import Dataset\n",
    "\n",
    "nc = Dataset(fname)"
   ]
  },
  {
   "cell_type": "markdown",
   "metadata": {},
   "source": [
    "Import times"
   ]
  },
  {
   "cell_type": "code",
   "execution_count": 3,
   "metadata": {},
   "outputs": [
    {
     "name": "stdout",
     "output_type": "stream",
     "text": [
      "CPU times: user 14 ms, sys: 142 μs, total: 14.1 ms\n",
      "Wall time: 1.6 ms\n"
     ]
    }
   ],
   "source": [
    "%time import pyugrid"
   ]
  },
  {
   "cell_type": "code",
   "execution_count": 4,
   "metadata": {},
   "outputs": [
    {
     "name": "stdout",
     "output_type": "stream",
     "text": [
      "CPU times: user 499 ms, sys: 13.3 ms, total: 512 ms\n",
      "Wall time: 161 ms\n"
     ]
    }
   ],
   "source": [
    "%time from gridgeo.ugrid import ugrid"
   ]
  },
  {
   "cell_type": "code",
   "execution_count": 5,
   "metadata": {},
   "outputs": [
    {
     "name": "stdout",
     "output_type": "stream",
     "text": [
      "CPU times: user 5.74 ms, sys: 6.9 ms, total: 12.6 ms\n",
      "Wall time: 11.7 ms\n"
     ]
    }
   ],
   "source": [
    "%%time\n",
    "\n",
    "with Dataset(fname) as nc:\n",
    "    g = pyugrid.UGrid.from_nc_dataset(nc)"
   ]
  },
  {
   "cell_type": "code",
   "execution_count": 6,
   "metadata": {},
   "outputs": [
    {
     "name": "stdout",
     "output_type": "stream",
     "text": [
      "CPU times: user 3.78 ms, sys: 4.85 ms, total: 8.63 ms\n",
      "Wall time: 8.21 ms\n"
     ]
    }
   ],
   "source": [
    "%%time\n",
    "\n",
    "with Dataset(fname) as nc:\n",
    "    grid = ugrid(nc)"
   ]
  },
  {
   "cell_type": "markdown",
   "metadata": {},
   "source": [
    "And now from the URL."
   ]
  },
  {
   "cell_type": "code",
   "execution_count": 7,
   "metadata": {},
   "outputs": [
    {
     "name": "stdout",
     "output_type": "stream",
     "text": [
      "CPU times: user 5.95 ms, sys: 4.97 ms, total: 10.9 ms\n",
      "Wall time: 9.86 ms\n"
     ]
    }
   ],
   "source": [
    "%%time\n",
    "\n",
    "g = pyugrid.UGrid.from_ncfile(fname)"
   ]
  },
  {
   "cell_type": "code",
   "execution_count": 8,
   "metadata": {},
   "outputs": [
    {
     "name": "stdout",
     "output_type": "stream",
     "text": [
      "CPU times: user 5.18 ms, sys: 3.06 ms, total: 8.24 ms\n",
      "Wall time: 7.43 ms\n"
     ]
    }
   ],
   "source": [
    "%%time\n",
    "\n",
    "grid = ugrid(fname)"
   ]
  },
  {
   "cell_type": "markdown",
   "metadata": {},
   "source": [
    "# face_coordinates"
   ]
  },
  {
   "cell_type": "code",
   "execution_count": 9,
   "metadata": {},
   "outputs": [
    {
     "data": {
      "text/plain": [
       "array([[-87.23542786,  30.31456947],\n",
       "       [-87.24060059,  30.30747032],\n",
       "       [-87.23737335,  30.29593086],\n",
       "       ...,\n",
       "       [-82.24633026,  27.00633049],\n",
       "       [-82.2491684 ,  27.00720024],\n",
       "       [-82.24759674,  27.00742912]], shape=(98818, 2))"
      ]
     },
     "execution_count": 9,
     "metadata": {},
     "output_type": "execute_result"
    }
   ],
   "source": [
    "g.face_coordinates"
   ]
  },
  {
   "cell_type": "code",
   "execution_count": 10,
   "metadata": {},
   "outputs": [
    {
     "data": {
      "text/plain": [
       "{'x': masked_array(data=[-87.23542786, -87.24060059, -87.23737335, ...,\n",
       "                    -82.24633026, -82.2491684 , -82.24759674],\n",
       "              mask=False,\n",
       "        fill_value=1e+20),\n",
       " 'y': masked_array(data=[30.31456947, 30.30747032, 30.29593086, ...,\n",
       "                    27.00633049, 27.00720024, 27.00742912],\n",
       "              mask=False,\n",
       "        fill_value=1e+20)}"
      ]
     },
     "execution_count": 10,
     "metadata": {},
     "output_type": "execute_result"
    }
   ],
   "source": [
    "grid[\"face_coordinates\"]  # you get back the rich netCDF4.Variable, slice it to get the the array"
   ]
  },
  {
   "cell_type": "code",
   "execution_count": 11,
   "metadata": {},
   "outputs": [
    {
     "data": {
      "text/plain": [
       "masked_array(data=[-87.23542786, -87.24060059, -87.23737335, ...,\n",
       "                   -82.24633026, -82.2491684 , -82.24759674],\n",
       "             mask=False,\n",
       "       fill_value=1e+20)"
      ]
     },
     "execution_count": 11,
     "metadata": {},
     "output_type": "execute_result"
    }
   ],
   "source": [
    "grid[\"face_coordinates\"][\"x\"][:]"
   ]
  },
  {
   "cell_type": "code",
   "execution_count": 12,
   "metadata": {},
   "outputs": [
    {
     "data": {
      "text/plain": [
       "masked_array(data=[30.31456947, 30.30747032, 30.29593086, ...,\n",
       "                   27.00633049, 27.00720024, 27.00742912],\n",
       "             mask=False,\n",
       "       fill_value=1e+20)"
      ]
     },
     "execution_count": 12,
     "metadata": {},
     "output_type": "execute_result"
    }
   ],
   "source": [
    "grid[\"face_coordinates\"][\"y\"][:]"
   ]
  },
  {
   "cell_type": "markdown",
   "metadata": {},
   "source": [
    "# nodes"
   ]
  },
  {
   "cell_type": "code",
   "execution_count": 13,
   "metadata": {},
   "outputs": [
    {
     "data": {
      "text/plain": [
       "array([[-87.24949646,  30.3178997 ],\n",
       "       [-87.24459839,  30.30019951],\n",
       "       [-87.2397995 ,  30.2833004 ],\n",
       "       ...,\n",
       "       [-82.2480011 ,  27.00600052],\n",
       "       [-82.24620056,  27.00769997],\n",
       "       [-82.24859619,  27.00860023]], shape=(51391, 2))"
      ]
     },
     "execution_count": 13,
     "metadata": {},
     "output_type": "execute_result"
    }
   ],
   "source": [
    "g.nodes"
   ]
  },
  {
   "cell_type": "code",
   "execution_count": 14,
   "metadata": {},
   "outputs": [
    {
     "data": {
      "text/plain": [
       "masked_array(data=[-87.24949646, -87.24459839, -87.2397995 , ...,\n",
       "                   -82.2480011 , -82.24620056, -82.24859619],\n",
       "             mask=False,\n",
       "       fill_value=1e+20)"
      ]
     },
     "execution_count": 14,
     "metadata": {},
     "output_type": "execute_result"
    }
   ],
   "source": [
    "grid[\"nodes\"][\"x\"][:]"
   ]
  },
  {
   "cell_type": "code",
   "execution_count": 15,
   "metadata": {},
   "outputs": [
    {
     "data": {
      "text/plain": [
       "masked_array(data=[30.3178997 , 30.30019951, 30.2833004 , ...,\n",
       "                   27.00600052, 27.00769997, 27.00860023],\n",
       "             mask=False,\n",
       "       fill_value=1e+20)"
      ]
     },
     "execution_count": 15,
     "metadata": {},
     "output_type": "execute_result"
    }
   ],
   "source": [
    "grid[\"nodes\"][\"y\"][:]"
   ]
  },
  {
   "cell_type": "markdown",
   "metadata": {},
   "source": [
    "**pyugrid** changed the precision of the original coordinate data :-/"
   ]
  },
  {
   "cell_type": "markdown",
   "metadata": {},
   "source": [
    "# faces"
   ]
  },
  {
   "cell_type": "code",
   "execution_count": 16,
   "metadata": {},
   "outputs": [
    {
     "data": {
      "text/plain": [
       "masked_array(\n",
       "  data=[[    0,   189,   190],\n",
       "        [    0,     1,   189],\n",
       "        [    1,     2,   189],\n",
       "        ...,\n",
       "        [51384, 51389, 51388],\n",
       "        [51387, 51388, 51390],\n",
       "        [51389, 51390, 51388]],\n",
       "  mask=False,\n",
       "  fill_value=np.int64(999999),\n",
       "  dtype=int32)"
      ]
     },
     "execution_count": 16,
     "metadata": {},
     "output_type": "execute_result"
    }
   ],
   "source": [
    "g.faces"
   ]
  },
  {
   "cell_type": "code",
   "execution_count": 17,
   "metadata": {},
   "outputs": [
    {
     "data": {
      "text/plain": [
       "masked_array(\n",
       "  data=[[    0,   189,   190],\n",
       "        [    0,     1,   189],\n",
       "        [    1,     2,   189],\n",
       "        ...,\n",
       "        [51384, 51389, 51388],\n",
       "        [51387, 51388, 51390],\n",
       "        [51389, 51390, 51388]],\n",
       "  mask=False,\n",
       "  fill_value=np.int64(999999),\n",
       "  dtype=int32)"
      ]
     },
     "execution_count": 17,
     "metadata": {},
     "output_type": "execute_result"
    }
   ],
   "source": [
    "grid[\"faces\"]"
   ]
  }
 ],
 "metadata": {
  "_draft": {
   "nbviewer_url": "https://gist.github.com/ed6809f9972d2b52b1a3d0331db7b704"
  },
  "gist": {
   "data": {
    "description": "pyugrid_gridgeo",
    "public": true
   },
   "id": "ed6809f9972d2b52b1a3d0331db7b704"
  },
  "kernelspec": {
   "display_name": "Python 3 (ipykernel)",
   "language": "python",
   "name": "python3"
  },
  "language_info": {
   "codemirror_mode": {
    "name": "ipython",
    "version": 3
   },
   "file_extension": ".py",
   "mimetype": "text/x-python",
   "name": "python",
   "nbconvert_exporter": "python",
   "pygments_lexer": "ipython3",
   "version": "3.13.5"
  }
 },
 "nbformat": 4,
 "nbformat_minor": 2
}
