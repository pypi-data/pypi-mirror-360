{
 "cells": [
  {
   "cell_type": "code",
   "execution_count": null,
   "metadata": {},
   "outputs": [],
   "source": [
    "import gridgeo\n",
    "\n",
    "gridgeo.__version__"
   ]
  },
  {
   "cell_type": "code",
   "execution_count": null,
   "metadata": {},
   "outputs": [],
   "source": [
    "import pooch\n",
    "\n",
    "fname = \"sgrid.nc\"\n",
    "url = f\"https://github.com/pyoceans/gridgeo/raw/refs/heads/main/tests/data/{fname}\"\n",
    "\n",
    "fname = pooch.retrieve(\n",
    "    url,\n",
    "    known_hash=\"sha256:afc9bb24df698e2b8159428a84e758d25ee92327ce69b5b1bcf7888f270074e8\",\n",
    ")\n",
    "\n",
    "grid = gridgeo.GridGeo(fname, standard_name=\"sea_water_potential_temperature\")"
   ]
  },
  {
   "cell_type": "code",
   "execution_count": null,
   "metadata": {},
   "outputs": [],
   "source": [
    "grid.mesh"
   ]
  },
  {
   "cell_type": "code",
   "execution_count": null,
   "metadata": {},
   "outputs": [],
   "source": [
    "print(f\"The grid has {len(grid.polygons)} polygons, showing the first 5.\")\n",
    "\n",
    "grid.geometry.geoms[:5]"
   ]
  },
  {
   "cell_type": "code",
   "execution_count": null,
   "metadata": {},
   "outputs": [],
   "source": [
    "grid.outline"
   ]
  },
  {
   "cell_type": "code",
   "execution_count": null,
   "metadata": {
    "scrolled": false
   },
   "outputs": [],
   "source": [
    "import cartopy.crs as ccrs\n",
    "import matplotlib.pyplot as plt\n",
    "\n",
    "fig, ax = plt.subplots(\n",
    "    figsize=(9, 9), subplot_kw={\"projection\": ccrs.PlateCarree()}\n",
    ")\n",
    "\n",
    "ax.plot(\n",
    "    grid.x,\n",
    "    grid.y,\n",
    "    \"darkgray\",\n",
    "    grid.x.T,\n",
    "    grid.y.T,\n",
    "    \"darkgray\",\n",
    "    alpha=0.25,\n",
    ")\n",
    "\n",
    "ax.coastlines(resolution=\"10m\");"
   ]
  },
  {
   "cell_type": "code",
   "execution_count": null,
   "metadata": {},
   "outputs": [],
   "source": [
    "import folium\n",
    "\n",
    "x, y = grid.outline.centroid.xy\n",
    "\n",
    "m = folium.Map(location=[y[0], x[0]])\n",
    "folium.GeoJson(grid.outline.__geo_interface__).add_to(m)\n",
    "m.fit_bounds(m.get_bounds())\n",
    "\n",
    "m"
   ]
  }
 ],
 "metadata": {
  "kernelspec": {
   "display_name": "Python 3 (ipykernel)",
   "language": "python",
   "name": "python3"
  },
  "language_info": {
   "codemirror_mode": {
    "name": "ipython",
    "version": 3
   },
   "file_extension": ".py",
   "mimetype": "text/x-python",
   "name": "python",
   "nbconvert_exporter": "python",
   "pygments_lexer": "ipython3",
   "version": "3.13.5"
  }
 },
 "nbformat": 4,
 "nbformat_minor": 1
}
