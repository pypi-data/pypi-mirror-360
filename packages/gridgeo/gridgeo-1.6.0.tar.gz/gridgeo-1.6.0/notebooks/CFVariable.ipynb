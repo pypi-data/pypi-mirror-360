{
 "cells": [
  {
   "cell_type": "code",
   "execution_count": null,
   "metadata": {
    "scrolled": true
   },
   "outputs": [],
   "source": [
    "from netCDF4 import Dataset\n",
    "\n",
    "\n",
    "class EnhancedDataset(Dataset):\n",
    "    def get_variable_by_attributes(self, **kwargs):\n",
    "        variables = self.get_variables_by_attributes(**kwargs)\n",
    "        if len(variables) > 1:\n",
    "            raise ValueError(f\"Found more than 1 variable with criteria {kwargs}\")\n",
    "        if not variables:\n",
    "            raise ValueError(f\"Could not find any variables with criteria {kwargs}\")\n",
    "        return variables[0]\n",
    "\n",
    "url = \"http://thredds.secoora.org/thredds/dodsC/SECOORA_NCSU_CNAPS.nc\"\n",
    "\n",
    "nc = EnhancedDataset(url)"
   ]
  },
  {
   "cell_type": "code",
   "execution_count": null,
   "metadata": {},
   "outputs": [],
   "source": [
    "nc.get_variable_by_attributes(standard_name=\"sea_water_potential_temperature\")"
   ]
  },
  {
   "cell_type": "code",
   "execution_count": null,
   "metadata": {},
   "outputs": [],
   "source": [
    "from netCDF4 import Dataset\n",
    "\n",
    "models = {\n",
    "    \"CNAPS\": \"http://thredds.secoora.org/thredds/dodsC/SECOORA_NCSU_CNAPS.nc\",\n",
    "#     'WCOFS': 'http://data.oceansmap.com/thredds/dodsC/EDS/WCOFS',\n",
    "#     'NYHOPS': 'http://colossus.dl.stevens-tech.edu:8080/thredds/dodsC/latest/Complete_gcmplt.nc',\n",
    "#     'NECOFS': 'http://www.smast.umassd.edu:8080/thredds/dodsC/FVCOM/NECOFS/Forecasts/NECOFS_FVCOM_OCEAN_BOSTON_FORECAST.nc',\n",
    "}\n",
    "\n",
    "\n",
    "ncs = {model: Dataset(url) for model, url in models.items()}"
   ]
  },
  {
   "cell_type": "code",
   "execution_count": null,
   "metadata": {},
   "outputs": [],
   "source": [
    "from gridgeo.cfvariable import CFVariable\n",
    "\n",
    "temp = CFVariable(ncs[\"CNAPS\"], standard_name=\"sea_water_potential_temperature\")\n",
    "\n",
    "[var.standard_name for var in [temp.t_axis(), temp.x_axis(), temp.y_axis(), temp.z_axis()]]"
   ]
  },
  {
   "cell_type": "code",
   "execution_count": null,
   "metadata": {},
   "outputs": [],
   "source": [
    "[s for s in dir(temp) if not s.startswith(\"_\")]"
   ]
  },
  {
   "cell_type": "code",
   "execution_count": null,
   "metadata": {
    "scrolled": false
   },
   "outputs": [],
   "source": [
    "[s for s in dir(temp._variable) if not s.startswith(\"_\")]"
   ]
  },
  {
   "cell_type": "code",
   "execution_count": null,
   "metadata": {},
   "outputs": [],
   "source": [
    "[s for s in dir(temp) if not s.startswith(\"_\")]"
   ]
  },
  {
   "cell_type": "code",
   "execution_count": null,
   "metadata": {},
   "outputs": [],
   "source": [
    "temp[0, 0, ...]"
   ]
  },
  {
   "cell_type": "markdown",
   "metadata": {},
   "source": [
    "The axis are shortcuts to the coordinates `netCDF4.Variable` referenced in the variable attributes.\n",
    "TODO: return a dimensional `z` using `odvc`."
   ]
  },
  {
   "cell_type": "code",
   "execution_count": null,
   "metadata": {},
   "outputs": [],
   "source": [
    "temp.axis(\"z\")"
   ]
  },
  {
   "cell_type": "code",
   "execution_count": null,
   "metadata": {
    "scrolled": false
   },
   "outputs": [],
   "source": [
    "temp.topology()"
   ]
  },
  {
   "cell_type": "code",
   "execution_count": null,
   "metadata": {},
   "outputs": [],
   "source": [
    "temp = CFVariable(ncs[\"WCOFS\"], long_name=\"model surface potential temperature\")\n",
    "temp"
   ]
  },
  {
   "cell_type": "code",
   "execution_count": null,
   "metadata": {},
   "outputs": [],
   "source": [
    "temp.topology()"
   ]
  },
  {
   "cell_type": "code",
   "execution_count": null,
   "metadata": {},
   "outputs": [],
   "source": [
    "temp = CFVariable(ncs[\"NYHOPS\"], standard_name=\"sea_water_temperature\")\n",
    "temp"
   ]
  },
  {
   "cell_type": "code",
   "execution_count": null,
   "metadata": {},
   "outputs": [],
   "source": [
    "temp.topology()"
   ]
  },
  {
   "cell_type": "code",
   "execution_count": null,
   "metadata": {},
   "outputs": [],
   "source": [
    "temp = CFVariable(ncs[\"NECOFS\"], standard_name=\"sea_water_potential_temperature\")\n",
    "temp"
   ]
  },
  {
   "cell_type": "code",
   "execution_count": null,
   "metadata": {},
   "outputs": [],
   "source": [
    "temp.topology()"
   ]
  },
  {
   "cell_type": "markdown",
   "metadata": {},
   "source": [
    "This is quick b/c it is a polygon generator and not the actual polygons."
   ]
  },
  {
   "cell_type": "code",
   "execution_count": null,
   "metadata": {},
   "outputs": [],
   "source": [
    "polygons = temp.polygons()\n",
    "\n",
    "polygons"
   ]
  },
  {
   "cell_type": "markdown",
   "metadata": {},
   "source": [
    "Displaying the full grid as a shapely object is costly that is why I'm showing only elements from `0:30` there."
   ]
  },
  {
   "cell_type": "code",
   "execution_count": null,
   "metadata": {},
   "outputs": [],
   "source": [
    "from shapely.geometry import MultiPolygon\n",
    "\n",
    "MultiPolygon(list(polygons)[0:30])"
   ]
  }
 ],
 "metadata": {
  "_draft": {
   "nbviewer_url": "https://gist.github.com/bc74da087067be5cd94b5343327705fe"
  },
  "gist": {
   "data": {
    "description": "CFVariable",
    "public": true
   },
   "id": "bc74da087067be5cd94b5343327705fe"
  },
  "kernelspec": {
   "display_name": "Python 3 (ipykernel)",
   "language": "python",
   "name": "python3"
  },
  "language_info": {
   "codemirror_mode": {
    "name": "ipython",
    "version": 3
   },
   "file_extension": ".py",
   "mimetype": "text/x-python",
   "name": "python",
   "nbconvert_exporter": "python",
   "pygments_lexer": "ipython3",
   "version": "3.13.5"
  }
 },
 "nbformat": 4,
 "nbformat_minor": 2
}
