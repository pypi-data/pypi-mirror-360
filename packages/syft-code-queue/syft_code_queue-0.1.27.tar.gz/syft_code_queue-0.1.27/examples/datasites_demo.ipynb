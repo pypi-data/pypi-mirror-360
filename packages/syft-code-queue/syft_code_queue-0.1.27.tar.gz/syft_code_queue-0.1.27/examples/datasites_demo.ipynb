{
  "cells": [
    {
      "cell_type": "code",
      "execution_count": null,
      "metadata": {
        "vscode": {
          "languageId": "plaintext"
        }
      },
      "outputs": [],
      "source": [
        "# 📡 DataSites Discovery Demo\n",
        "\n",
        "This notebook demonstrates the new `q.datasites` functionality that shows all datasites with open syft-code-queues in a nice table format.\n",
        "\n",
        "Inspired by the `syft-objects` pattern, this feature makes it easy to discover and explore available datasites for code execution.\n"
      ]
    },
    {
      "cell_type": "code",
      "execution_count": null,
      "metadata": {},
      "outputs": [],
      "source": [
        "# Import syft-code-queue\n",
        "import syft_code_queue as q\n",
        "\n",
        "print(\"🎯 SyftBox Code Queue loaded!\")\n",
        "print(f\"📧 Connected as: {q.email}\")\n"
      ]
    },
    {
      "cell_type": "code",
      "execution_count": null,
      "metadata": {},
      "outputs": [],
      "source": [
        "## 🔍 Discover All DataSites\n",
        "\n",
        "Use `q.datasites` to see all datasites that have syft-code-queues available:\n"
      ]
    },
    {
      "cell_type": "code",
      "execution_count": null,
      "metadata": {},
      "outputs": [],
      "source": [
        "# Show all datasites with code queues\n",
        "q.datasites\n"
      ]
    },
    {
      "cell_type": "code",
      "execution_count": null,
      "metadata": {},
      "outputs": [],
      "source": [
        "## 🔍 DataSite Responsiveness\n",
        "\n",
        "Filter datasites by their responsiveness history - which ones have actually responded to job requests:\n"
      ]
    },
    {
      "cell_type": "code",
      "execution_count": null,
      "metadata": {},
      "outputs": [],
      "source": [
        "# Show datasites that have responded to MY jobs before (highest chance of response)\n",
        "print(\"🟢 Responsive to Me:\")\n",
        "responsive_to_me = q.datasites.responsive_to_me()\n",
        "print(responsive_to_me)\n",
        "\n",
        "print(\"\\n🟡 Responsive to Others (but not me):\")\n",
        "responsive_to_others = q.datasites.responsive()\n",
        "print(responsive_to_others)\n",
        "\n",
        "print(\"\\n⏳ Datasites with pending jobs:\")\n",
        "pending_sites = q.datasites.with_pending_jobs()\n",
        "print(pending_sites)\n",
        "\n",
        "print(f\"\\n📊 Responsiveness Statistics:\")\n",
        "print(f\"📡 Total datasites: {len(q.datasites)}\")\n",
        "print(f\"🟢 Responsive to me: {len(responsive_to_me)}\")\n",
        "print(f\"🟡 Responsive to anyone: {len(responsive_to_others)}\")\n",
        "print(f\"⏳ With pending jobs: {len(pending_sites)}\")\n"
      ]
    },
    {
      "cell_type": "code",
      "execution_count": null,
      "metadata": {},
      "outputs": [],
      "source": [
        "## ❓ Get Help\n",
        "\n",
        "Use the help method to learn more about datasites functionality:\n"
      ]
    },
    {
      "cell_type": "code",
      "execution_count": null,
      "metadata": {},
      "outputs": [],
      "source": [
        "# Get help about datasites functionality\n",
        "q.datasites.help()\n"
      ]
    },
    {
      "cell_type": "code",
      "execution_count": null,
      "metadata": {},
      "outputs": [],
      "source": [
        "## 🎉 Summary\n",
        "\n",
        "The new `q.datasites` feature provides:\n",
        "\n",
        "- 📡 **Discovery**: Find all datasites with open code queues\n",
        "- 🔍 **Responsiveness Analysis**: See which datasites actually respond to job requests\n",
        "- 📊 **Statistics**: Job counts, response history tracking\n",
        "- 🎨 **Nice Display**: Beautiful tables in Jupyter notebooks with color-coded responsiveness\n",
        "- 🚀 **Smart Filtering**: Prioritize datasites that have responded to you before\n",
        "\n",
        "### Responsiveness Categories:\n",
        "- 🟢 **Responsive to Me**: Have responded to MY job requests before (highest chance of response)\n",
        "- 🟡 **Responsive to Others**: Have responded to someone's jobs but not mine yet\n",
        "- 🔴 **Unresponsive**: Have never responded to anyone's job requests\n",
        "\n",
        "This makes it much easier to discover and work with **responsive** datasites in the SyftBox ecosystem!\n",
        "\n",
        "### Quick Usage Examples:\n",
        "```python\n",
        "# Basic usage\n",
        "q.datasites                        # Show all datasites\n",
        "q.datasites.responsive_to_me()     # Show datasites that respond to me\n",
        "q.datasites.responsive()           # Show any responsive datasites\n",
        "q.datasites.with_pending_jobs()    # Show with pending jobs\n",
        "\n",
        "# Get individual datasite responsiveness info\n",
        "site = q.datasites[0]\n",
        "print(f\"Email: {site['email']}\")\n",
        "print(f\"Responsiveness: {site['responsiveness']}\")\n",
        "print(f\"Has responded to me: {site['responded_to_me']}\")\n",
        "print(f\"Total responses: {site['total_responses']}\")\n",
        "```\n"
      ]
    }
  ],
  "metadata": {
    "language_info": {
      "name": "python"
    }
  },
  "nbformat": 4,
  "nbformat_minor": 2
}
