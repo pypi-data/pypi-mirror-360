{
  "cells": [
    {
      "cell_type": "code",
      "execution_count": null,
      "metadata": {
        "vscode": {
          "languageId": "plaintext"
        }
      },
      "outputs": [],
      "source": [
        "# 🏓 SyftBox Code Queue - Ping Network Test\n",
        "\n",
        "This notebook demonstrates the new ping functionality that allows you to test connectivity to all datasites running Code Queues.\n",
        "\n",
        "## What does ping do?\n",
        "\n",
        "- Sends a simple job to all datasites to check if they're alive and accepting jobs\n",
        "- Creates a quick \"ping.txt\" file as output\n",
        "- Uses a short timeout (default 10 minutes) to avoid cluttering pending queues\n",
        "- Updates the datasites view with responsiveness information\n"
      ]
    }
  ],
  "metadata": {
    "language_info": {
      "name": "python"
    }
  },
  "nbformat": 4,
  "nbformat_minor": 2
}
