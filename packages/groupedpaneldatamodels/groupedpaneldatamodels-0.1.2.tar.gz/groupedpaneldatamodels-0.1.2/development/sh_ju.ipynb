{
 "cells": [
  {
   "cell_type": "code",
   "execution_count": 34,
   "id": "a159229a",
   "metadata": {},
   "outputs": [],
   "source": [
    "import pandas as pd\n",
    "import numpy as np\n",
    "import scipy.optimize as opt\n",
    "\n",
    "from statsmodels.api import add_constant\n",
    "from numpy.linalg import lstsq, eigh, eigvalsh\n",
    "from sklearn.cluster import KMeans\n",
    "from sklearn.decomposition import PCA\n",
    "from scipy.optimize import minimize\n",
    "from matplotlib import pyplot as plt\n",
    "\n",
    "from skglm import GeneralizedLinearEstimator\n",
    "from skglm.penalties import SCAD\n",
    "\n",
    "import jax, jax.numpy as jnp\n",
    "from jaxopt import LBFGS\n",
    "\n",
    "from numba import njit, jit\n",
    "import optax"
   ]
  },
  {
   "cell_type": "code",
   "execution_count": 35,
   "id": "597c3daf",
   "metadata": {},
   "outputs": [],
   "source": [
    "import warnings\n",
    "\n",
    "warnings.simplefilter(action=\"ignore\", category=FutureWarning)"
   ]
  },
  {
   "cell_type": "code",
   "execution_count": 36,
   "id": "df69260a",
   "metadata": {},
   "outputs": [],
   "source": [
    "G = 3\n",
    "R = 3 # NOTE number of factors\n",
    "GF = np.array((1, 1, 1))"
   ]
  },
  {
   "cell_type": "code",
   "execution_count": 37,
   "id": "f8a8d220",
   "metadata": {},
   "outputs": [],
   "source": [
    "# NOTE this objective value is always without individual effects\n",
    "def objective_value_without_individual_effects(y, x, beta, alpha, kappa, N, R):\n",
    "    y = np.squeeze(y, axis=2) # FIXME preferably this should be done outside\n",
    "    # base = ((y - np.sum(x * beta.T[:, None, :], axis=2)) ** 2).mean()\n",
    "    res = (y - np.sum(x * beta.T[:, None, :], axis=2))\n",
    "    display(res)\n",
    "    raise NotImplementedError(\"This function is not implemented yet.\")\n",
    "    penalty = np.mean(np.prod(np.linalg.norm(beta[:, :, None] - alpha[:, None, :], axis=0), axis=1)) * kappa\n",
    "    return base + penalty"
   ]
  },
  {
   "cell_type": "code",
   "execution_count": 38,
   "id": "490411c8",
   "metadata": {},
   "outputs": [],
   "source": [
    "# NOTE for some reason this is slower than the non-jnp version\n",
    "@jax.jit\n",
    "def jnp_objective_value(y, x, beta, alpha, mu, kappa):\n",
    "    base = ((y - jnp.sum(x * beta.T[:, None, :], axis=2) - mu) ** 2).mean()\n",
    "    penalty = jnp.mean(jnp.prod(jnp.linalg.norm(beta[:, :, None] - alpha[:, None, :], axis=0), axis=1)) * kappa\n",
    "    return base + penalty"
   ]
  },
  {
   "cell_type": "code",
   "execution_count": 39,
   "id": "7244302a",
   "metadata": {},
   "outputs": [],
   "source": [
    "def unpack(theta):\n",
    "    beta = theta[:K * N].reshape(K, N)\n",
    "    mu = theta[K * N:K * N + N].reshape(N, 1)\n",
    "    alpha = theta[K * N + N:].reshape(K, G)\n",
    "    return beta, mu, alpha\n",
    "\n",
    "def pack(beta, mu, alpha):\n",
    "    return np.concatenate((beta.flatten(), mu.flatten(), alpha.flatten()), axis=0)"
   ]
  },
  {
   "cell_type": "code",
   "execution_count": 40,
   "id": "b5c35bfd",
   "metadata": {},
   "outputs": [],
   "source": [
    "# @njit\n",
    "def obj(theta, kappa=1):\n",
    "    beta, mu, alpha = unpack(theta)\n",
    "    return objective_value(y, x, beta, alpha, mu, kappa)"
   ]
  },
  {
   "cell_type": "code",
   "execution_count": 41,
   "id": "c518dd12",
   "metadata": {},
   "outputs": [],
   "source": [
    "# Get Initial\n",
    "# TODO think of better initialization technique\n",
    "def _generate_initial_estimates(y, x, N, T, K, G):\n",
    "    beta_init = np.zeros_like(beta)\n",
    "\n",
    "    for i in range(N):\n",
    "        beta_init[:, i:i+1] = lstsq(x[i].reshape(T, K), y[i].reshape(T, 1))[0]\n",
    "    alpha_init = KMeans(n_clusters=G).fit(beta_init.T).cluster_centers_.T\n",
    "\n",
    "    for j in range(G):\n",
    "        if (np.abs(beta_init.T - alpha_init[:, j]).min() < 1e-2):\n",
    "            alpha_init[:, j] += 1e-1 * np.sign(alpha_init[:, j])\n",
    "\n",
    "    mu_init = np.mean(y, axis=1)\n",
    "\n",
    "    return beta_init, alpha_init, mu_init"
   ]
  },
  {
   "cell_type": "code",
   "execution_count": 42,
   "id": "3bff0888",
   "metadata": {},
   "outputs": [],
   "source": [
    "import pickle\n",
    "\n",
    "example = pickle.load(open(\"dgp3-example-2.pkl\", \"rb\"))"
   ]
  },
  {
   "cell_type": "code",
   "execution_count": 43,
   "id": "dd9cb964",
   "metadata": {},
   "outputs": [
    {
     "data": {
      "text/plain": [
       "array([[1, 1, 1],\n",
       "       [2, 2, 2],\n",
       "       [3, 3, 3]])"
      ]
     },
     "execution_count": 43,
     "metadata": {},
     "output_type": "execute_result"
    }
   ],
   "source": [
    "x_example = example[0]\n",
    "y_example = np.reshape(example[1], (30, 10, 1))\n",
    "g_example = example[2]\n",
    "alpha_example = example[3]\n",
    "beta_example = example[4]\n",
    "beta_example"
   ]
  },
  {
   "cell_type": "code",
   "execution_count": 44,
   "id": "73c71ad5",
   "metadata": {},
   "outputs": [
    {
     "data": {
      "text/plain": [
       "(30, 10, 1)"
      ]
     },
     "execution_count": 44,
     "metadata": {},
     "output_type": "execute_result"
    }
   ],
   "source": [
    "y_example.shape"
   ]
  },
  {
   "cell_type": "code",
   "execution_count": 45,
   "id": "b4dbd009",
   "metadata": {},
   "outputs": [],
   "source": [
    "x = x_example\n",
    "y = y_example\n",
    "N, T, K = x.shape\n",
    "G = 3"
   ]
  },
  {
   "cell_type": "code",
   "execution_count": 46,
   "id": "f4cdd23b",
   "metadata": {},
   "outputs": [],
   "source": [
    "y = np.float32(y)\n",
    "x = np.float32(x)"
   ]
  },
  {
   "cell_type": "code",
   "execution_count": 47,
   "id": "6b76dc8f",
   "metadata": {},
   "outputs": [],
   "source": [
    "from joblib import Memory\n",
    "\n",
    "memory = Memory(location=None, verbose=0)"
   ]
  },
  {
   "cell_type": "code",
   "execution_count": 48,
   "id": "e200d02d",
   "metadata": {},
   "outputs": [],
   "source": [
    "# NOTE this objective value is always without individual effects\n",
    "def objective_value_without_individual_effects(y, x, beta, alpha, kappa, N, R, T):\n",
    "    y = np.squeeze(y, axis=2)  # FIXME preferably this should be done outside\n",
    "    res = (y - np.sum(x * beta.T[:, None, :], axis=2)).T\n",
    "    v_res = (res @ res.T) / N\n",
    "    base = eigvalsh(v_res)[:-R].sum() / T\n",
    "    penalty = np.mean(np.prod(np.linalg.norm(beta[:, :, None] - alpha[:, None, :], axis=0), axis=1)) * kappa\n",
    "    return base + penalty"
   ]
  },
  {
   "cell_type": "code",
   "execution_count": 49,
   "id": "965c1d1a",
   "metadata": {},
   "outputs": [],
   "source": [
    "def _generate_initial_estimates(y, x, N, T, K, G):\n",
    "    beta = np.zeros((K, N))\n",
    "    beta_init = np.zeros_like(beta)\n",
    "\n",
    "    for i in range(N):\n",
    "        beta_init[:, i : i + 1] = lstsq(x[i].reshape(T, K), y[i].reshape(T, 1))[0]\n",
    "    alpha_init = KMeans(n_clusters=G).fit(beta_init.T).cluster_centers_.T\n",
    "\n",
    "    for j in range(G):\n",
    "        if np.abs(beta_init.T - alpha_init[:, j]).min() < 1e-2:\n",
    "            alpha_init[:, j] += 1e-1 * np.sign(alpha_init[:, j])\n",
    "\n",
    "    mu_init = np.mean(y, axis=1)\n",
    "\n",
    "    return beta_init, alpha_init, mu_init"
   ]
  },
  {
   "cell_type": "code",
   "execution_count": 50,
   "id": "04dfaa1d",
   "metadata": {},
   "outputs": [
    {
     "name": "stdout",
     "output_type": "stream",
     "text": [
      "BFGS Iteration 0, Group 0, Objective Value: 69.194739\n",
      "BFGS Iteration 0, Group 1, Objective Value: 23.044047\n",
      "BFGS Iteration 0, Group 2, Objective Value: 12.323498\n",
      "Nelder-Mead Iteration 1, Group 0, Objective Value: 11.320218\n",
      "Nelder-Mead Iteration 1, Group 1, Objective Value: 10.717608\n",
      "Nelder-Mead Iteration 1, Group 2, Objective Value: 10.438239\n",
      "BFGS Iteration 2, Group 0, Objective Value: 6.368859\n",
      "BFGS Iteration 2, Group 1, Objective Value: 5.429720\n",
      "BFGS Iteration 2, Group 2, Objective Value: 5.058691\n",
      "Nelder-Mead Iteration 3, Group 0, Objective Value: 4.896532\n",
      "Nelder-Mead Iteration 3, Group 1, Objective Value: 4.699788\n",
      "Nelder-Mead Iteration 3, Group 2, Objective Value: 4.699788\n",
      "BFGS Iteration 4, Group 0, Objective Value: 4.448026\n",
      "BFGS Iteration 4, Group 1, Objective Value: 4.325433\n",
      "BFGS Iteration 4, Group 2, Objective Value: 4.284573\n",
      "Nelder-Mead Iteration 5, Group 0, Objective Value: 4.284573\n",
      "Nelder-Mead Iteration 5, Group 1, Objective Value: 4.284573\n",
      "Nelder-Mead Iteration 5, Group 2, Objective Value: 4.284573\n",
      "BFGS Iteration 6, Group 0, Objective Value: 4.265560\n",
      "BFGS Iteration 6, Group 1, Objective Value: 4.255186\n",
      "BFGS Iteration 6, Group 2, Objective Value: 4.251946\n",
      "Nelder-Mead Iteration 7, Group 0, Objective Value: 4.251946\n",
      "Nelder-Mead Iteration 7, Group 1, Objective Value: 4.251946\n",
      "Nelder-Mead Iteration 7, Group 2, Objective Value: 4.251946\n",
      "BFGS Iteration 8, Group 0, Objective Value: 4.250442\n",
      "BFGS Iteration 8, Group 1, Objective Value: 4.249849\n",
      "BFGS Iteration 8, Group 2, Objective Value: 4.249695\n",
      "Nelder-Mead Iteration 9, Group 0, Objective Value: 4.249695\n",
      "Nelder-Mead Iteration 9, Group 1, Objective Value: 4.249695\n",
      "Nelder-Mead Iteration 9, Group 2, Objective Value: 4.249695\n",
      "BFGS Iteration 10, Group 0, Objective Value: 4.249644\n",
      "BFGS Iteration 10, Group 1, Objective Value: 4.249624\n",
      "BFGS Iteration 10, Group 2, Objective Value: 4.249617\n",
      "Convergence reached.\n"
     ]
    },
    {
     "data": {
      "text/plain": [
       "(array([[1.29424459, 1.29424458, 2.89008032, 1.29424461, 2.08900036,\n",
       "         2.08900032, 1.2942446 , 2.89008033, 1.29424459, 2.08900037,\n",
       "         2.89008028, 1.2942446 , 2.10305237, 2.08900033, 1.2942446 ,\n",
       "         2.4945258 , 2.89008034, 2.89008034, 2.08900037, 1.29424462,\n",
       "         2.89008034, 1.2942446 , 2.08900035, 2.89008033, 1.2942446 ,\n",
       "         1.29424462, 2.89008031, 2.08900035, 2.08900035, 1.2942446 ],\n",
       "        [1.46285931, 1.46285929, 2.78542398, 1.46285932, 1.95959681,\n",
       "         1.95959679, 1.46285931, 2.785424  , 1.46285932, 1.95959685,\n",
       "         2.78542401, 1.46285933, 1.92387523, 1.95959681, 1.46285932,\n",
       "         2.40859262, 2.78542399, 2.78542401, 1.95959685, 1.46285932,\n",
       "         2.785424  , 1.46285931, 1.9595968 , 2.78542401, 1.46285932,\n",
       "         1.46285932, 2.78542399, 1.95959681, 1.95959681, 1.46285932],\n",
       "        [1.3361986 , 1.33619859, 2.92839577, 1.3361986 , 2.0535309 ,\n",
       "         2.05353088, 1.3361986 , 2.92839571, 1.3361986 , 2.05353081,\n",
       "         2.92839566, 1.33619861, 2.07353971, 2.05353088, 1.3361986 ,\n",
       "         2.51377576, 2.92839572, 2.92839572, 2.05353082, 1.3361986 ,\n",
       "         2.92839572, 1.3361986 , 2.05353085, 2.92839572, 1.3361986 ,\n",
       "         1.33619859, 2.92839571, 2.05353087, 2.05353087, 1.3361986 ]]),\n",
       " array([[1.29424461, 2.89008034, 2.08900035],\n",
       "        [1.46285932, 2.78542401, 1.95959681],\n",
       "        [1.33619861, 2.92839573, 2.05353087]]),\n",
       " array([[-0.58401669,  4.29593839,  0.97660614, -2.30259959,  0.20787307,\n",
       "          3.57347637, -1.43723013, -0.60863229, -0.19796555, -1.75416217,\n",
       "          0.50030413, -0.48895743, -2.48315308,  1.22633283, -3.71030738,\n",
       "          0.07721332, -1.09709774,  1.15978013,  0.75387448, -0.15711598,\n",
       "          0.44937601, -0.68119828,  0.02747558, -1.8220745 ,  1.16888868,\n",
       "         -0.41944344, -3.7923434 ,  2.58504776,  0.07400986, -0.06007521],\n",
       "        [-1.41412271, -0.56729749, -2.19970342,  0.25502096, -0.71878648,\n",
       "          2.00474073, -0.86484632,  0.02846929, -0.94780322, -1.60923193,\n",
       "         -3.31475009,  0.33347908, -1.64411071, -1.52140833,  0.33260294,\n",
       "          1.98517648, -0.98592491, -1.21401226,  0.83849607, -0.49828376,\n",
       "         -0.37104805, -0.66380002, -1.41940666, -0.7733385 , -0.56791871,\n",
       "          1.0724942 ,  2.32255938,  0.63441059,  1.2102016 ,  1.10009789],\n",
       "        [ 1.48910395,  0.46538526, -2.25094095,  0.70815675,  1.43909417,\n",
       "          1.07842648,  1.19551872, -1.70461568,  0.04586212,  0.95420253,\n",
       "         -2.26548721, -1.12260207,  1.79605312, -0.5689171 , -0.94339538,\n",
       "         -0.41573979,  0.85502997,  1.18347237, -1.00911102, -1.38773716,\n",
       "         -0.5450866 , -0.9254671 ,  3.03396131, -1.18587669,  0.82418009,\n",
       "         -1.1541949 ,  0.47639597,  0.41638385, -0.31005396,  0.52785094]]),\n",
       " array([[-0.01972838,  0.62126953,  0.36267539],\n",
       "        [ 0.30635801,  0.176706  , -0.13779747],\n",
       "        [ 0.16946277,  0.16681231,  0.34174521],\n",
       "        [-0.46713143, -0.1163624 ,  0.22093145],\n",
       "        [ 0.18522039, -0.22269234, -0.39919055],\n",
       "        [-0.02856248,  0.50300443, -0.52467144],\n",
       "        [ 0.20350019,  0.16873553,  0.30380074],\n",
       "        [-0.01431323, -0.3842172 ,  0.33073718],\n",
       "        [-0.75486887,  0.11110856, -0.15095587],\n",
       "        [-0.11072281,  0.22447187,  0.15740095]]))"
      ]
     },
     "execution_count": 50,
     "metadata": {},
     "output_type": "execute_result"
    }
   ],
   "source": [
    "R = 3\n",
    "beta, alpha, _ = _generate_initial_estimates(y, x, N, T, K, G)\n",
    "\n",
    "# NOTE may have to change to include multiple starting points\n",
    "# but estimation is valid\n",
    "\n",
    "obj_value = np.inf\n",
    "last_obj_value = np.inf\n",
    "for i in range(50):\n",
    "    for j in range(G):\n",
    "        alpha_fixed = alpha.copy()\n",
    "\n",
    "        def unpack_local(theta):\n",
    "            beta = theta[: K * N].reshape(K, N)\n",
    "            alpha = alpha_fixed.copy()\n",
    "            alpha[:, j : j + 1] = theta[K * N:].reshape(K, 1)\n",
    "            return beta, alpha\n",
    "\n",
    "        def obj_local(theta, kappa=0.1):\n",
    "            beta, alpha = unpack_local(theta)\n",
    "            return objective_value_without_individual_effects(y, x, beta, alpha, 100, N, R, T)\n",
    "\n",
    "        def pack_local(beta, alpha):\n",
    "            return np.concatenate((beta.flatten(), alpha[:, j].flatten()), axis=0)\n",
    "\n",
    "        if i % 2 == 0:\n",
    "            minimizer = opt.minimize(\n",
    "                obj_local, pack_local(beta, alpha), method=\"BFGS\", options={\"maxiter\": 10}, tol=1e-6\n",
    "            )\n",
    "            beta, alpha = unpack_local(minimizer.x)\n",
    "            obj_value = minimizer.fun\n",
    "            print(f\"BFGS Iteration {i}, Group {j}, Objective Value: {obj_value:.6f}\")\n",
    "        else:\n",
    "            minimizer = opt.minimize(\n",
    "                obj_local, pack_local(beta, alpha), method=\"Nelder-Mead\", options={\"adaptive\": True, \"maxiter\": 100}, tol=1e-6\n",
    "            )\n",
    "            beta, alpha = unpack_local(minimizer.x)\n",
    "            obj_value = minimizer.fun\n",
    "            print(f\"Nelder-Mead Iteration {i}, Group {j}, Objective Value: {obj_value:.6f}\")\n",
    "    if np.abs(obj_value - last_obj_value) < 1e-4 and i % 2 == 0:\n",
    "        print(\"Convergence reached.\")\n",
    "        break\n",
    "    last_obj_value = obj_value\n",
    "\n",
    "res = (np.squeeze(y) - np.sum(x * beta.T[:, None, :], axis=2)).T\n",
    "res_var = (res @ res.T) / N\n",
    "factors = eigh(res_var).eigenvectors[:, -R:]\n",
    "factors = factors[:, ::-1]  # Reverse to have descending order\n",
    "\n",
    "lambdas = np.zeros((R, N))\n",
    "\n",
    "for i in range(R):\n",
    "    lambdas[i, :] = factors[:, i].T @ res\n",
    "\n",
    "beta, alpha, lambdas, factors"
   ]
  }
 ],
 "metadata": {
  "kernelspec": {
   "display_name": "Python 3",
   "language": "python",
   "name": "python3"
  },
  "language_info": {
   "codemirror_mode": {
    "name": "ipython",
    "version": 3
   },
   "file_extension": ".py",
   "mimetype": "text/x-python",
   "name": "python",
   "nbconvert_exporter": "python",
   "pygments_lexer": "ipython3",
   "version": "3.13.3"
  }
 },
 "nbformat": 4,
 "nbformat_minor": 5
}
