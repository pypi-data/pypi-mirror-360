{
 "cells": [
  {
   "cell_type": "markdown",
   "metadata": {},
   "source": [
    "# **Multiprocessing**"
   ]
  },
  {
   "cell_type": "markdown",
   "metadata": {},
   "source": [
    "[![Open In Colab](https://colab.research.google.com/assets/colab-badge.svg)](https://colab.research.google.com/github/kenoz/SITS_utils/blob/main/docs/source/tutorials/colab_sits_ex02.ipynb)"
   ]
  },
  {
   "cell_type": "markdown",
   "metadata": {
    "id": "K2FIkbDYrq9l"
   },
   "source": [
    "---\n",
    "\n",
    "We aim to retrieve satellite time series for a set of points randomly located in Europe. Rather than processing the points sequentially, we use here the capacities offered by the `sits.Multiproc()` class to distribute the calculations and thus optimize the processing times.\n",
    "\n",
    "<p align=\"center\"><img src=\"img/eu_random_pts.png\" alt=\"random points\"></p>\n",
    "<p align=\"center\">\n",
    "\n",
    "\n",
    "> _`sits.Multiproc()` method needs a multi-core CPU to work efficiently._\n",
    "\n",
    "---\n",
    "\n",
    "## 1. Installation of SITS package and its depedencies\n",
    "\n",
    "First, install `sits` package with [pip](https://pypi.org/project/SITS/). We also need some other packages for displaying data."
   ]
  },
  {
   "cell_type": "code",
   "execution_count": 1,
   "metadata": {
    "colab": {
     "base_uri": "https://localhost:8080/"
    },
    "executionInfo": {
     "elapsed": 33951,
     "status": "ok",
     "timestamp": 1738164860034,
     "user": {
      "displayName": "kose tetistraining",
      "userId": "06823399031118728700"
     },
     "user_tz": -60
    },
    "id": "xoL6NstiVcp9",
    "outputId": "07ba85a1-4718-4771-db40-2b371dd55b9b"
   },
   "outputs": [],
   "source": [
    "# SITS package\n",
    "!pip install -q --upgrade sits\n",
    "\n",
    "# other packages\n",
    "!pip install -q \"dask[dataframe]\"\n",
    "!pip install -q mapclassify\n",
    "#!pip install -q netCDF4\n",
    "#!pip install -q folium\n",
    "#!pip install -q matplotlib"
   ]
  },
  {
   "cell_type": "markdown",
   "metadata": {
    "id": "OYAb0l91zqj4"
   },
   "source": [
    "Now we can import `sits` and some other libraries."
   ]
  },
  {
   "cell_type": "code",
   "execution_count": null,
   "metadata": {
    "executionInfo": {
     "elapsed": 11651,
     "status": "ok",
     "timestamp": 1738164875497,
     "user": {
      "displayName": "kose tetistraining",
      "userId": "06823399031118728700"
     },
     "user_tz": -60
    },
    "id": "neqafgGHWIkj"
   },
   "outputs": [],
   "source": [
    "import os\n",
    "# sits lib\n",
    "from sits import sits\n",
    "# geospatial libs\n",
    "import geopandas as gpd\n",
    "import pandas as pd\n",
    "# date format\n",
    "from datetime import datetime\n",
    "# ignore warnings messages\n",
    "import warnings\n",
    "warnings.filterwarnings('ignore')"
   ]
  },
  {
   "cell_type": "markdown",
   "metadata": {
    "id": "o4n__qxr0Kqi"
   },
   "source": [
    "## 2. Handling the input vector file\n",
    "\n",
    "### 2.1. Data loading\n",
    "\n",
    "The geojson vector file, stored in the [Github repository](https://github.com/kenoz/SITS_utils), includes 24 points over Europe. We download it into our current workspace.  "
   ]
  },
  {
   "cell_type": "code",
   "execution_count": 3,
   "metadata": {
    "colab": {
     "base_uri": "https://localhost:8080/"
    },
    "executionInfo": {
     "elapsed": 732,
     "status": "ok",
     "timestamp": 1738164882882,
     "user": {
      "displayName": "kose tetistraining",
      "userId": "06823399031118728700"
     },
     "user_tz": -60
    },
    "id": "soIORtc8bGDd",
    "outputId": "6cb289c1-0ecd-4958-ff6b-c461c70f67d2"
   },
   "outputs": [],
   "source": [
    "!mkdir -p test_data\n",
    "![ ! -f test_data/rand_pts.geojson ] && wget https://raw.githubusercontent.com/kenoz/SITS_utils/refs/heads/main/data/rand_pts.geojson -P test_data"
   ]
  },
  {
   "cell_type": "markdown",
   "metadata": {
    "id": "n0jbqcwQ1ppL"
   },
   "source": [
    "We load the vector file, named `rand_pts.geojson`, as a geoDataFrame object with the `sits` method: `sits.Vec2gdf()`."
   ]
  },
  {
   "cell_type": "code",
   "execution_count": 4,
   "metadata": {
    "colab": {
     "base_uri": "https://localhost:8080/",
     "height": 206
    },
    "executionInfo": {
     "elapsed": 715,
     "status": "ok",
     "timestamp": 1738164886246,
     "user": {
      "displayName": "kose tetistraining",
      "userId": "06823399031118728700"
     },
     "user_tz": -60
    },
    "id": "7MWDWpr7nxB3",
    "outputId": "ccf75a57-6edf-4bd1-ba96-5499a2a0f34c"
   },
   "outputs": [
    {
     "data": {
      "text/html": [
       "<div>\n",
       "<style scoped>\n",
       "    .dataframe tbody tr th:only-of-type {\n",
       "        vertical-align: middle;\n",
       "    }\n",
       "\n",
       "    .dataframe tbody tr th {\n",
       "        vertical-align: top;\n",
       "    }\n",
       "\n",
       "    .dataframe thead th {\n",
       "        text-align: right;\n",
       "    }\n",
       "</style>\n",
       "<table border=\"1\" class=\"dataframe\">\n",
       "  <thead>\n",
       "    <tr style=\"text-align: right;\">\n",
       "      <th></th>\n",
       "      <th>id</th>\n",
       "      <th>pt_id</th>\n",
       "      <th>geometry</th>\n",
       "    </tr>\n",
       "  </thead>\n",
       "  <tbody>\n",
       "    <tr>\n",
       "      <th>0</th>\n",
       "      <td>1</td>\n",
       "      <td>1</td>\n",
       "      <td>POINT (8.49138 49.85437)</td>\n",
       "    </tr>\n",
       "    <tr>\n",
       "      <th>1</th>\n",
       "      <td>3</td>\n",
       "      <td>2</td>\n",
       "      <td>POINT (8.41277 53.14555)</td>\n",
       "    </tr>\n",
       "    <tr>\n",
       "      <th>2</th>\n",
       "      <td>7</td>\n",
       "      <td>3</td>\n",
       "      <td>POINT (11.17678 50.01380)</td>\n",
       "    </tr>\n",
       "    <tr>\n",
       "      <th>3</th>\n",
       "      <td>9</td>\n",
       "      <td>4</td>\n",
       "      <td>POINT (23.79724 40.06894)</td>\n",
       "    </tr>\n",
       "    <tr>\n",
       "      <th>4</th>\n",
       "      <td>10</td>\n",
       "      <td>5</td>\n",
       "      <td>POINT (16.80020 48.98809)</td>\n",
       "    </tr>\n",
       "  </tbody>\n",
       "</table>\n",
       "</div>"
      ],
      "text/plain": [
       "   id  pt_id                   geometry\n",
       "0   1      1   POINT (8.49138 49.85437)\n",
       "1   3      2   POINT (8.41277 53.14555)\n",
       "2   7      3  POINT (11.17678 50.01380)\n",
       "3   9      4  POINT (23.79724 40.06894)\n",
       "4  10      5  POINT (16.80020 48.98809)"
      ]
     },
     "execution_count": 4,
     "metadata": {},
     "output_type": "execute_result"
    }
   ],
   "source": [
    "data_dir = 'test_data'\n",
    "random_pts = sits.Vec2gdf(os.path.join(data_dir, 'rand_pts.geojson'))\n",
    "random_pts.gdf.head()"
   ]
  },
  {
   "cell_type": "code",
   "execution_count": 5,
   "metadata": {
    "colab": {
     "base_uri": "https://localhost:8080/"
    },
    "executionInfo": {
     "elapsed": 332,
     "status": "ok",
     "timestamp": 1738164889222,
     "user": {
      "displayName": "kose tetistraining",
      "userId": "06823399031118728700"
     },
     "user_tz": -60
    },
    "id": "1Godd47g2qoL",
    "outputId": "d56be488-a437-4077-8a58-bb1f48834626"
   },
   "outputs": [
    {
     "name": "stdout",
     "output_type": "stream",
     "text": [
      "epsg code for 'random_pts.gdf':  4326\n"
     ]
    }
   ],
   "source": [
    "# check epsg\n",
    "print(f\"epsg code for 'random_pts.gdf':  {random_pts.gdf.crs.to_epsg()}\")"
   ]
  },
  {
   "cell_type": "markdown",
   "metadata": {
    "id": "ipDQq-9jqWjo"
   },
   "source": [
    "### 2.2. Buffer and Bounding box calculation\n",
    "\n",
    "We check the coordinate reference system (CRS). We calculate a polygon for each point according to a given buffer distance with the method `set_buffer()` of class `sits.Vec2gdf`. Then we extract the bounding box with the method `set_bbox()` of class `sits.Vec2gdf`."
   ]
  },
  {
   "cell_type": "code",
   "execution_count": 6,
   "metadata": {
    "executionInfo": {
     "elapsed": 451,
     "status": "ok",
     "timestamp": 1738164892681,
     "user": {
      "displayName": "kose tetistraining",
      "userId": "06823399031118728700"
     },
     "user_tz": -60
    },
    "id": "NeEJovzoICUn"
   },
   "outputs": [],
   "source": [
    "# buffer distance of 0.01 degree (1.11 km approx.)\n",
    "random_pts.set_buffer('gdf', 0.01)\n",
    "\n",
    "# bbox of buffer polygon\n",
    "random_pts.set_bbox('buffer')"
   ]
  },
  {
   "cell_type": "markdown",
   "metadata": {
    "id": "s_EwD_3SyNqF"
   },
   "source": [
    "We display the `sits.Vec2gdf` objects on an interactive map.\n",
    "\n",
    "*   `.gdf` _in green_\n",
    "*   `.buffer` _in blue_\n",
    "*   `.bbox` in _red_"
   ]
  },
  {
   "cell_type": "code",
   "execution_count": 7,
   "metadata": {
    "colab": {
     "base_uri": "https://localhost:8080/",
     "height": 321
    },
    "executionInfo": {
     "elapsed": 7795,
     "status": "ok",
     "timestamp": 1738164902990,
     "user": {
      "displayName": "kose tetistraining",
      "userId": "06823399031118728700"
     },
     "user_tz": -60
    },
    "id": "G4br5m8AoOKQ",
    "outputId": "2b9c9ffd-a527-4d1b-8b6c-1445b768b470"
   },
   "outputs": [
    {
     "data": {
      "text/html": [
       "<iframe srcdoc=\"&lt;!DOCTYPE html&gt;\n",
       "&lt;html&gt;\n",
       "&lt;head&gt;\n",
       "    \n",
       "    &lt;meta http-equiv=&quot;content-type&quot; content=&quot;text/html; charset=UTF-8&quot; /&gt;\n",
       "    \n",
       "        &lt;script&gt;\n",
       "            L_NO_TOUCH = false;\n",
       "            L_DISABLE_3D = false;\n",
       "        &lt;/script&gt;\n",
       "    \n",
       "    &lt;style&gt;html, body {width: 100%;height: 100%;margin: 0;padding: 0;}&lt;/style&gt;\n",
       "    &lt;style&gt;#map {position:absolute;top:0;bottom:0;right:0;left:0;}&lt;/style&gt;\n",
       "    &lt;script src=&quot;https://cdn.jsdelivr.net/npm/leaflet@1.9.3/dist/leaflet.js&quot;&gt;&lt;/script&gt;\n",
       "    &lt;script src=&quot;https://code.jquery.com/jquery-3.7.1.min.js&quot;&gt;&lt;/script&gt;\n",
       "    &lt;script src=&quot;https://cdn.jsdelivr.net/npm/bootstrap@5.2.2/dist/js/bootstrap.bundle.min.js&quot;&gt;&lt;/script&gt;\n",
       "    &lt;script src=&quot;https://cdnjs.cloudflare.com/ajax/libs/Leaflet.awesome-markers/2.0.2/leaflet.awesome-markers.js&quot;&gt;&lt;/script&gt;\n",
       "    &lt;link rel=&quot;stylesheet&quot; href=&quot;https://cdn.jsdelivr.net/npm/leaflet@1.9.3/dist/leaflet.css&quot;/&gt;\n",
       "    &lt;link rel=&quot;stylesheet&quot; href=&quot;https://cdn.jsdelivr.net/npm/bootstrap@5.2.2/dist/css/bootstrap.min.css&quot;/&gt;\n",
       "    &lt;link rel=&quot;stylesheet&quot; href=&quot;https://netdna.bootstrapcdn.com/bootstrap/3.0.0/css/bootstrap.min.css&quot;/&gt;\n",
       "    &lt;link rel=&quot;stylesheet&quot; href=&quot;https://cdn.jsdelivr.net/npm/@fortawesome/fontawesome-free@6.2.0/css/all.min.css&quot;/&gt;\n",
       "    &lt;link rel=&quot;stylesheet&quot; href=&quot;https://cdnjs.cloudflare.com/ajax/libs/Leaflet.awesome-markers/2.0.2/leaflet.awesome-markers.css&quot;/&gt;\n",
       "    &lt;link rel=&quot;stylesheet&quot; href=&quot;https://cdn.jsdelivr.net/gh/python-visualization/folium/folium/templates/leaflet.awesome.rotate.min.css&quot;/&gt;\n",
       "    \n",
       "            &lt;meta name=&quot;viewport&quot; content=&quot;width=device-width,\n",
       "                initial-scale=1.0, maximum-scale=1.0, user-scalable=no&quot; /&gt;\n",
       "            &lt;style&gt;\n",
       "                #map_ad7e08ec283f42d4b008099f3ee69d09 {\n",
       "                    position: relative;\n",
       "                    width: 100.0%;\n",
       "                    height: 100.0%;\n",
       "                    left: 0.0%;\n",
       "                    top: 0.0%;\n",
       "                }\n",
       "                .leaflet-container { font-size: 1rem; }\n",
       "            &lt;/style&gt;\n",
       "        \n",
       "    \n",
       "                    &lt;style&gt;\n",
       "                        .foliumtooltip {\n",
       "                            \n",
       "                        }\n",
       "                       .foliumtooltip table{\n",
       "                            margin: auto;\n",
       "                        }\n",
       "                        .foliumtooltip tr{\n",
       "                            text-align: left;\n",
       "                        }\n",
       "                        .foliumtooltip th{\n",
       "                            padding: 2px; padding-right: 8px;\n",
       "                        }\n",
       "                    &lt;/style&gt;\n",
       "            \n",
       "    \n",
       "                    &lt;style&gt;\n",
       "                        .foliumtooltip {\n",
       "                            \n",
       "                        }\n",
       "                       .foliumtooltip table{\n",
       "                            margin: auto;\n",
       "                        }\n",
       "                        .foliumtooltip tr{\n",
       "                            text-align: left;\n",
       "                        }\n",
       "                        .foliumtooltip th{\n",
       "                            padding: 2px; padding-right: 8px;\n",
       "                        }\n",
       "                    &lt;/style&gt;\n",
       "            \n",
       "    \n",
       "                    &lt;style&gt;\n",
       "                        .foliumtooltip {\n",
       "                            \n",
       "                        }\n",
       "                       .foliumtooltip table{\n",
       "                            margin: auto;\n",
       "                        }\n",
       "                        .foliumtooltip tr{\n",
       "                            text-align: left;\n",
       "                        }\n",
       "                        .foliumtooltip th{\n",
       "                            padding: 2px; padding-right: 8px;\n",
       "                        }\n",
       "                    &lt;/style&gt;\n",
       "            \n",
       "&lt;/head&gt;\n",
       "&lt;body&gt;\n",
       "    \n",
       "    \n",
       "            &lt;div class=&quot;folium-map&quot; id=&quot;map_ad7e08ec283f42d4b008099f3ee69d09&quot; &gt;&lt;/div&gt;\n",
       "        \n",
       "&lt;/body&gt;\n",
       "&lt;script&gt;\n",
       "    \n",
       "    \n",
       "            var map_ad7e08ec283f42d4b008099f3ee69d09 = L.map(\n",
       "                &quot;map_ad7e08ec283f42d4b008099f3ee69d09&quot;,\n",
       "                {\n",
       "                    center: [45.0, 10.0],\n",
       "                    crs: L.CRS.EPSG3857,\n",
       "                    zoom: 4,\n",
       "                    zoomControl: true,\n",
       "                    preferCanvas: false,\n",
       "                }\n",
       "            );\n",
       "\n",
       "            \n",
       "\n",
       "        \n",
       "    \n",
       "            var tile_layer_379730a3af69c916913f719d523cd249 = L.tileLayer(\n",
       "                &quot;https://tile.openstreetmap.org/{z}/{x}/{y}.png&quot;,\n",
       "                {&quot;attribution&quot;: &quot;\\u0026copy; \\u003ca href=\\&quot;https://www.openstreetmap.org/copyright\\&quot;\\u003eOpenStreetMap\\u003c/a\\u003e contributors&quot;, &quot;detectRetina&quot;: false, &quot;maxNativeZoom&quot;: 19, &quot;maxZoom&quot;: 19, &quot;minZoom&quot;: 0, &quot;noWrap&quot;: false, &quot;opacity&quot;: 1, &quot;subdomains&quot;: &quot;abc&quot;, &quot;tms&quot;: false}\n",
       "            );\n",
       "        \n",
       "    \n",
       "            tile_layer_379730a3af69c916913f719d523cd249.addTo(map_ad7e08ec283f42d4b008099f3ee69d09);\n",
       "        \n",
       "    \n",
       "        function geo_json_8af823228c15c92d3d801b1ea5fd6c65_styler(feature) {\n",
       "            switch(feature.id) {\n",
       "                default:\n",
       "                    return {&quot;color&quot;: &quot;green&quot;, &quot;fillColor&quot;: &quot;green&quot;, &quot;fillOpacity&quot;: 0.5, &quot;weight&quot;: 2};\n",
       "            }\n",
       "        }\n",
       "        function geo_json_8af823228c15c92d3d801b1ea5fd6c65_highlighter(feature) {\n",
       "            switch(feature.id) {\n",
       "                default:\n",
       "                    return {&quot;fillOpacity&quot;: 0.75};\n",
       "            }\n",
       "        }\n",
       "        function geo_json_8af823228c15c92d3d801b1ea5fd6c65_pointToLayer(feature, latlng) {\n",
       "            var opts = {&quot;bubblingMouseEvents&quot;: true, &quot;color&quot;: &quot;#3388ff&quot;, &quot;dashArray&quot;: null, &quot;dashOffset&quot;: null, &quot;fill&quot;: true, &quot;fillColor&quot;: &quot;#3388ff&quot;, &quot;fillOpacity&quot;: 0.2, &quot;fillRule&quot;: &quot;evenodd&quot;, &quot;lineCap&quot;: &quot;round&quot;, &quot;lineJoin&quot;: &quot;round&quot;, &quot;opacity&quot;: 1.0, &quot;radius&quot;: 2, &quot;stroke&quot;: true, &quot;weight&quot;: 3};\n",
       "            \n",
       "            let style = geo_json_8af823228c15c92d3d801b1ea5fd6c65_styler(feature)\n",
       "            Object.assign(opts, style)\n",
       "            \n",
       "            return new L.CircleMarker(latlng, opts)\n",
       "        }\n",
       "\n",
       "        function geo_json_8af823228c15c92d3d801b1ea5fd6c65_onEachFeature(feature, layer) {\n",
       "            layer.on({\n",
       "                mouseout: function(e) {\n",
       "                    if(typeof e.target.setStyle === &quot;function&quot;){\n",
       "                            geo_json_8af823228c15c92d3d801b1ea5fd6c65.resetStyle(e.target);\n",
       "                    }\n",
       "                },\n",
       "                mouseover: function(e) {\n",
       "                    if(typeof e.target.setStyle === &quot;function&quot;){\n",
       "                        const highlightStyle = geo_json_8af823228c15c92d3d801b1ea5fd6c65_highlighter(e.target.feature)\n",
       "                        e.target.setStyle(highlightStyle);\n",
       "                    }\n",
       "                },\n",
       "            });\n",
       "        };\n",
       "        var geo_json_8af823228c15c92d3d801b1ea5fd6c65 = L.geoJson(null, {\n",
       "                onEachFeature: geo_json_8af823228c15c92d3d801b1ea5fd6c65_onEachFeature,\n",
       "            \n",
       "                style: geo_json_8af823228c15c92d3d801b1ea5fd6c65_styler,\n",
       "                pointToLayer: geo_json_8af823228c15c92d3d801b1ea5fd6c65_pointToLayer,\n",
       "        });\n",
       "\n",
       "        function geo_json_8af823228c15c92d3d801b1ea5fd6c65_add (data) {\n",
       "            geo_json_8af823228c15c92d3d801b1ea5fd6c65\n",
       "                .addData(data);\n",
       "        }\n",
       "            geo_json_8af823228c15c92d3d801b1ea5fd6c65_add({&quot;bbox&quot;: [-6.518121246822126, 39.320350374262404, 27.545029830308383, 53.14555021709921], &quot;features&quot;: [{&quot;bbox&quot;: [8.491383388733258, 49.854370172191935, 8.491383388733258, 49.854370172191935], &quot;geometry&quot;: {&quot;coordinates&quot;: [8.491383388733258, 49.854370172191935], &quot;type&quot;: &quot;Point&quot;}, &quot;id&quot;: &quot;0&quot;, &quot;properties&quot;: {&quot;__folium_color&quot;: &quot;green&quot;, &quot;id&quot;: 1, &quot;pt_id&quot;: 1}, &quot;type&quot;: &quot;Feature&quot;}, {&quot;bbox&quot;: [8.412773153496353, 53.14555021709921, 8.412773153496353, 53.14555021709921], &quot;geometry&quot;: {&quot;coordinates&quot;: [8.412773153496353, 53.14555021709921], &quot;type&quot;: &quot;Point&quot;}, &quot;id&quot;: &quot;1&quot;, &quot;properties&quot;: {&quot;__folium_color&quot;: &quot;green&quot;, &quot;id&quot;: 3, &quot;pt_id&quot;: 2}, &quot;type&quot;: &quot;Feature&quot;}, {&quot;bbox&quot;: [11.176778399392497, 50.01380142653234, 11.176778399392497, 50.01380142653234], &quot;geometry&quot;: {&quot;coordinates&quot;: [11.176778399392497, 50.01380142653234], &quot;type&quot;: &quot;Point&quot;}, &quot;id&quot;: &quot;2&quot;, &quot;properties&quot;: {&quot;__folium_color&quot;: &quot;green&quot;, &quot;id&quot;: 7, &quot;pt_id&quot;: 3}, &quot;type&quot;: &quot;Feature&quot;}, {&quot;bbox&quot;: [23.79724480625752, 40.068944725253125, 23.79724480625752, 40.068944725253125], &quot;geometry&quot;: {&quot;coordinates&quot;: [23.79724480625752, 40.068944725253125], &quot;type&quot;: &quot;Point&quot;}, &quot;id&quot;: &quot;3&quot;, &quot;properties&quot;: {&quot;__folium_color&quot;: &quot;green&quot;, &quot;id&quot;: 9, &quot;pt_id&quot;: 4}, &quot;type&quot;: &quot;Feature&quot;}, {&quot;bbox&quot;: [16.800197637816158, 48.988094737864614, 16.800197637816158, 48.988094737864614], &quot;geometry&quot;: {&quot;coordinates&quot;: [16.800197637816158, 48.988094737864614], &quot;type&quot;: &quot;Point&quot;}, &quot;id&quot;: &quot;4&quot;, &quot;properties&quot;: {&quot;__folium_color&quot;: &quot;green&quot;, &quot;id&quot;: 10, &quot;pt_id&quot;: 5}, &quot;type&quot;: &quot;Feature&quot;}, {&quot;bbox&quot;: [22.492039545813252, 42.363236538804706, 22.492039545813252, 42.363236538804706], &quot;geometry&quot;: {&quot;coordinates&quot;: [22.492039545813252, 42.363236538804706], &quot;type&quot;: &quot;Point&quot;}, &quot;id&quot;: &quot;5&quot;, &quot;properties&quot;: {&quot;__folium_color&quot;: &quot;green&quot;, &quot;id&quot;: 12, &quot;pt_id&quot;: 6}, &quot;type&quot;: &quot;Feature&quot;}, {&quot;bbox&quot;: [-6.518121246822126, 39.320350374262404, -6.518121246822126, 39.320350374262404], &quot;geometry&quot;: {&quot;coordinates&quot;: [-6.518121246822126, 39.320350374262404], &quot;type&quot;: &quot;Point&quot;}, &quot;id&quot;: &quot;6&quot;, &quot;properties&quot;: {&quot;__folium_color&quot;: &quot;green&quot;, &quot;id&quot;: 14, &quot;pt_id&quot;: 7}, &quot;type&quot;: &quot;Feature&quot;}, {&quot;bbox&quot;: [27.545029830308383, 40.232134752417494, 27.545029830308383, 40.232134752417494], &quot;geometry&quot;: {&quot;coordinates&quot;: [27.545029830308383, 40.232134752417494], &quot;type&quot;: &quot;Point&quot;}, &quot;id&quot;: &quot;7&quot;, &quot;properties&quot;: {&quot;__folium_color&quot;: &quot;green&quot;, &quot;id&quot;: 16, &quot;pt_id&quot;: 8}, &quot;type&quot;: &quot;Feature&quot;}, {&quot;bbox&quot;: [22.845053396692283, 41.476642291120434, 22.845053396692283, 41.476642291120434], &quot;geometry&quot;: {&quot;coordinates&quot;: [22.845053396692283, 41.476642291120434], &quot;type&quot;: &quot;Point&quot;}, &quot;id&quot;: &quot;8&quot;, &quot;properties&quot;: {&quot;__folium_color&quot;: &quot;green&quot;, &quot;id&quot;: 19, &quot;pt_id&quot;: 9}, &quot;type&quot;: &quot;Feature&quot;}, {&quot;bbox&quot;: [1.293856849082509, 44.31059119306229, 1.293856849082509, 44.31059119306229], &quot;geometry&quot;: {&quot;coordinates&quot;: [1.293856849082509, 44.31059119306229], &quot;type&quot;: &quot;Point&quot;}, &quot;id&quot;: &quot;9&quot;, &quot;properties&quot;: {&quot;__folium_color&quot;: &quot;green&quot;, &quot;id&quot;: 21, &quot;pt_id&quot;: 10}, &quot;type&quot;: &quot;Feature&quot;}, {&quot;bbox&quot;: [14.219172720242849, 51.104190660069015, 14.219172720242849, 51.104190660069015], &quot;geometry&quot;: {&quot;coordinates&quot;: [14.219172720242849, 51.104190660069015], &quot;type&quot;: &quot;Point&quot;}, &quot;id&quot;: &quot;10&quot;, &quot;properties&quot;: {&quot;__folium_color&quot;: &quot;green&quot;, &quot;id&quot;: 24, &quot;pt_id&quot;: 11}, &quot;type&quot;: &quot;Feature&quot;}, {&quot;bbox&quot;: [18.645450043222336, 49.35534207292801, 18.645450043222336, 49.35534207292801], &quot;geometry&quot;: {&quot;coordinates&quot;: [18.645450043222336, 49.35534207292801], &quot;type&quot;: &quot;Point&quot;}, &quot;id&quot;: &quot;11&quot;, &quot;properties&quot;: {&quot;__folium_color&quot;: &quot;green&quot;, &quot;id&quot;: 25, &quot;pt_id&quot;: 12}, &quot;type&quot;: &quot;Feature&quot;}, {&quot;bbox&quot;: [-4.730023067021765, 51.68015233289876, -4.730023067021765, 51.68015233289876], &quot;geometry&quot;: {&quot;coordinates&quot;: [-4.730023067021765, 51.68015233289876], &quot;type&quot;: &quot;Point&quot;}, &quot;id&quot;: &quot;12&quot;, &quot;properties&quot;: {&quot;__folium_color&quot;: &quot;green&quot;, &quot;id&quot;: 26, &quot;pt_id&quot;: 13}, &quot;type&quot;: &quot;Feature&quot;}, {&quot;bbox&quot;: [6.72387681357819, 50.93489340914344, 6.72387681357819, 50.93489340914344], &quot;geometry&quot;: {&quot;coordinates&quot;: [6.72387681357819, 50.93489340914344], &quot;type&quot;: &quot;Point&quot;}, &quot;id&quot;: &quot;13&quot;, &quot;properties&quot;: {&quot;__folium_color&quot;: &quot;green&quot;, &quot;id&quot;: 27, &quot;pt_id&quot;: 14}, &quot;type&quot;: &quot;Feature&quot;}, {&quot;bbox&quot;: [-3.463809414283007, 40.096427420178834, -3.463809414283007, 40.096427420178834], &quot;geometry&quot;: {&quot;coordinates&quot;: [-3.463809414283007, 40.096427420178834], &quot;type&quot;: &quot;Point&quot;}, &quot;id&quot;: &quot;14&quot;, &quot;properties&quot;: {&quot;__folium_color&quot;: &quot;green&quot;, &quot;id&quot;: 28, &quot;pt_id&quot;: 15}, &quot;type&quot;: &quot;Feature&quot;}, {&quot;bbox&quot;: [5.896446208968975, 43.44185855072491, 5.896446208968975, 43.44185855072491], &quot;geometry&quot;: {&quot;coordinates&quot;: [5.896446208968975, 43.44185855072491], &quot;type&quot;: &quot;Point&quot;}, &quot;id&quot;: &quot;15&quot;, &quot;properties&quot;: {&quot;__folium_color&quot;: &quot;green&quot;, &quot;id&quot;: 30, &quot;pt_id&quot;: 16}, &quot;type&quot;: &quot;Feature&quot;}, {&quot;bbox&quot;: [12.563106206419175, 51.03231563278817, 12.563106206419175, 51.03231563278817], &quot;geometry&quot;: {&quot;coordinates&quot;: [12.563106206419175, 51.03231563278817], &quot;type&quot;: &quot;Point&quot;}, &quot;id&quot;: &quot;16&quot;, &quot;properties&quot;: {&quot;__folium_color&quot;: &quot;green&quot;, &quot;id&quot;: 31, &quot;pt_id&quot;: 17}, &quot;type&quot;: &quot;Feature&quot;}, {&quot;bbox&quot;: [13.778994902378564, 44.74860132489755, 13.778994902378564, 44.74860132489755], &quot;geometry&quot;: {&quot;coordinates&quot;: [13.778994902378564, 44.74860132489755], &quot;type&quot;: &quot;Point&quot;}, &quot;id&quot;: &quot;17&quot;, &quot;properties&quot;: {&quot;__folium_color&quot;: &quot;green&quot;, &quot;id&quot;: 32, &quot;pt_id&quot;: 18}, &quot;type&quot;: &quot;Feature&quot;}, {&quot;bbox&quot;: [5.82368624750606, 48.18655390814669, 5.82368624750606, 48.18655390814669], &quot;geometry&quot;: {&quot;coordinates&quot;: [5.82368624750606, 48.18655390814669], &quot;type&quot;: &quot;Point&quot;}, &quot;id&quot;: &quot;18&quot;, &quot;properties&quot;: {&quot;__folium_color&quot;: &quot;green&quot;, &quot;id&quot;: 35, &quot;pt_id&quot;: 19}, &quot;type&quot;: &quot;Feature&quot;}, {&quot;bbox&quot;: [17.79891646467136, 45.05641523233541, 17.79891646467136, 45.05641523233541], &quot;geometry&quot;: {&quot;coordinates&quot;: [17.79891646467136, 45.05641523233541], &quot;type&quot;: &quot;Point&quot;}, &quot;id&quot;: &quot;19&quot;, &quot;properties&quot;: {&quot;__folium_color&quot;: &quot;green&quot;, &quot;id&quot;: 41, &quot;pt_id&quot;: 20}, &quot;type&quot;: &quot;Feature&quot;}, {&quot;bbox&quot;: [0.336769704346818, 48.21062129963985, 0.336769704346818, 48.21062129963985], &quot;geometry&quot;: {&quot;coordinates&quot;: [0.336769704346818, 48.21062129963985], &quot;type&quot;: &quot;Point&quot;}, &quot;id&quot;: &quot;20&quot;, &quot;properties&quot;: {&quot;__folium_color&quot;: &quot;green&quot;, &quot;id&quot;: 42, &quot;pt_id&quot;: 21}, &quot;type&quot;: &quot;Feature&quot;}, {&quot;bbox&quot;: [24.966391265000926, 42.502842968813226, 24.966391265000926, 42.502842968813226], &quot;geometry&quot;: {&quot;coordinates&quot;: [24.966391265000926, 42.502842968813226], &quot;type&quot;: &quot;Point&quot;}, &quot;id&quot;: &quot;21&quot;, &quot;properties&quot;: {&quot;__folium_color&quot;: &quot;green&quot;, &quot;id&quot;: 43, &quot;pt_id&quot;: 22}, &quot;type&quot;: &quot;Feature&quot;}, {&quot;bbox&quot;: [13.36912888007998, 52.74848732597937, 13.36912888007998, 52.74848732597937], &quot;geometry&quot;: {&quot;coordinates&quot;: [13.36912888007998, 52.74848732597937], &quot;type&quot;: &quot;Point&quot;}, &quot;id&quot;: &quot;22&quot;, &quot;properties&quot;: {&quot;__folium_color&quot;: &quot;green&quot;, &quot;id&quot;: 44, &quot;pt_id&quot;: 23}, &quot;type&quot;: &quot;Feature&quot;}, {&quot;bbox&quot;: [22.53590660190179, 46.913977617833666, 22.53590660190179, 46.913977617833666], &quot;geometry&quot;: {&quot;coordinates&quot;: [22.53590660190179, 46.913977617833666], &quot;type&quot;: &quot;Point&quot;}, &quot;id&quot;: &quot;23&quot;, &quot;properties&quot;: {&quot;__folium_color&quot;: &quot;green&quot;, &quot;id&quot;: 48, &quot;pt_id&quot;: 24}, &quot;type&quot;: &quot;Feature&quot;}], &quot;type&quot;: &quot;FeatureCollection&quot;});\n",
       "\n",
       "        \n",
       "    \n",
       "    geo_json_8af823228c15c92d3d801b1ea5fd6c65.bindTooltip(\n",
       "    function(layer){\n",
       "    let div = L.DomUtil.create(&#x27;div&#x27;);\n",
       "    \n",
       "    let handleObject = feature=&gt;typeof(feature)==&#x27;object&#x27; ? JSON.stringify(feature) : feature;\n",
       "    let fields = [&quot;id&quot;, &quot;pt_id&quot;];\n",
       "    let aliases = [&quot;id&quot;, &quot;pt_id&quot;];\n",
       "    let table = &#x27;&lt;table&gt;&#x27; +\n",
       "        String(\n",
       "        fields.map(\n",
       "        (v,i)=&gt;\n",
       "        `&lt;tr&gt;\n",
       "            &lt;th&gt;${aliases[i]}&lt;/th&gt;\n",
       "            \n",
       "            &lt;td&gt;${handleObject(layer.feature.properties[v])}&lt;/td&gt;\n",
       "        &lt;/tr&gt;`).join(&#x27;&#x27;))\n",
       "    +&#x27;&lt;/table&gt;&#x27;;\n",
       "    div.innerHTML=table;\n",
       "    \n",
       "    return div\n",
       "    }\n",
       "    ,{&quot;className&quot;: &quot;foliumtooltip&quot;, &quot;sticky&quot;: true});\n",
       "                     \n",
       "    \n",
       "            geo_json_8af823228c15c92d3d801b1ea5fd6c65.addTo(map_ad7e08ec283f42d4b008099f3ee69d09);\n",
       "        \n",
       "    \n",
       "        function geo_json_4ac61d67d37b50ae060d6dd923d3b5b4_styler(feature) {\n",
       "            switch(feature.id) {\n",
       "                default:\n",
       "                    return {&quot;fillOpacity&quot;: 0.5, &quot;weight&quot;: 2};\n",
       "            }\n",
       "        }\n",
       "        function geo_json_4ac61d67d37b50ae060d6dd923d3b5b4_highlighter(feature) {\n",
       "            switch(feature.id) {\n",
       "                default:\n",
       "                    return {&quot;fillOpacity&quot;: 0.75};\n",
       "            }\n",
       "        }\n",
       "        function geo_json_4ac61d67d37b50ae060d6dd923d3b5b4_pointToLayer(feature, latlng) {\n",
       "            var opts = {&quot;bubblingMouseEvents&quot;: true, &quot;color&quot;: &quot;#3388ff&quot;, &quot;dashArray&quot;: null, &quot;dashOffset&quot;: null, &quot;fill&quot;: true, &quot;fillColor&quot;: &quot;#3388ff&quot;, &quot;fillOpacity&quot;: 0.2, &quot;fillRule&quot;: &quot;evenodd&quot;, &quot;lineCap&quot;: &quot;round&quot;, &quot;lineJoin&quot;: &quot;round&quot;, &quot;opacity&quot;: 1.0, &quot;radius&quot;: 2, &quot;stroke&quot;: true, &quot;weight&quot;: 3};\n",
       "            \n",
       "            let style = geo_json_4ac61d67d37b50ae060d6dd923d3b5b4_styler(feature)\n",
       "            Object.assign(opts, style)\n",
       "            \n",
       "            return new L.CircleMarker(latlng, opts)\n",
       "        }\n",
       "\n",
       "        function geo_json_4ac61d67d37b50ae060d6dd923d3b5b4_onEachFeature(feature, layer) {\n",
       "            layer.on({\n",
       "                mouseout: function(e) {\n",
       "                    if(typeof e.target.setStyle === &quot;function&quot;){\n",
       "                            geo_json_4ac61d67d37b50ae060d6dd923d3b5b4.resetStyle(e.target);\n",
       "                    }\n",
       "                },\n",
       "                mouseover: function(e) {\n",
       "                    if(typeof e.target.setStyle === &quot;function&quot;){\n",
       "                        const highlightStyle = geo_json_4ac61d67d37b50ae060d6dd923d3b5b4_highlighter(e.target.feature)\n",
       "                        e.target.setStyle(highlightStyle);\n",
       "                    }\n",
       "                },\n",
       "            });\n",
       "        };\n",
       "        var geo_json_4ac61d67d37b50ae060d6dd923d3b5b4 = L.geoJson(null, {\n",
       "                onEachFeature: geo_json_4ac61d67d37b50ae060d6dd923d3b5b4_onEachFeature,\n",
       "            \n",
       "                style: geo_json_4ac61d67d37b50ae060d6dd923d3b5b4_styler,\n",
       "                pointToLayer: geo_json_4ac61d67d37b50ae060d6dd923d3b5b4_pointToLayer,\n",
       "        });\n",
       "\n",
       "        function geo_json_4ac61d67d37b50ae060d6dd923d3b5b4_add (data) {\n",
       "            geo_json_4ac61d67d37b50ae060d6dd923d3b5b4\n",
       "                .addData(data);\n",
       "        }\n",
       "            geo_json_4ac61d67d37b50ae060d6dd923d3b5b4_add({&quot;bbox&quot;: [-6.528121246822126, 39.310350374262406, 27.555029830308385, 53.15555021709921], &quot;features&quot;: [{&quot;bbox&quot;: [8.481383388733258, 49.84437017219194, 8.501383388733258, 49.86437017219193], &quot;geometry&quot;: {&quot;coordinates&quot;: [[[8.501383388733258, 49.854370172191935], [8.50133523599998, 49.853390000788636], [8.50119124153729, 49.85241926897177], [8.50095279209058, 49.85146732541939], [8.50062218405837, 49.85054333786828], [8.500202601376742, 49.849656204823674], [8.499698084856284, 49.848814469861736], [8.499113493266885, 49.8480262393503], [8.498454456545124, 49.84729910438007], [8.497727321574894, 49.846640067658306], [8.496939091063455, 49.84605547606891], [8.496097356101519, 49.845550959548454], [8.495210223056908, 49.845131376866824], [8.494286235505802, 49.84480076883461], [8.493334291953419, 49.844562319387904], [8.492363560136553, 49.844418324925215], [8.491383388733258, 49.84437017219194], [8.490403217329963, 49.844418324925215], [8.489432485513097, 49.844562319387904], [8.488480541960714, 49.84480076883461], [8.487556554409608, 49.845131376866824], [8.486669421364997, 49.845550959548454], [8.485827686403061, 49.84605547606891], [8.485039455891622, 49.846640067658306], [8.484312320921392, 49.84729910438007], [8.483653284199631, 49.8480262393503], [8.483068692610232, 49.848814469861736], [8.482564176089774, 49.849656204823674], [8.482144593408146, 49.85054333786828], [8.481813985375936, 49.85146732541939], [8.481575535929226, 49.85241926897177], [8.481431541466536, 49.853390000788636], [8.481383388733258, 49.854370172191935], [8.481431541466536, 49.855350343595234], [8.481575535929226, 49.8563210754121], [8.481813985375936, 49.85727301896448], [8.482144593408146, 49.85819700651559], [8.482564176089774, 49.859084139560196], [8.483068692610232, 49.85992587452213], [8.483653284199631, 49.86071410503357], [8.484312320921392, 49.8614412400038], [8.485039455891622, 49.86210027672556], [8.485827686403061, 49.86268486831496], [8.486669421364997, 49.863189384835415], [8.487556554409608, 49.863608967517045], [8.488480541960714, 49.86393957554926], [8.489432485513097, 49.864178024995965], [8.490403217329963, 49.864322019458655], [8.491383388733258, 49.86437017219193], [8.492363560136553, 49.864322019458655], [8.493334291953419, 49.864178024995965], [8.494286235505802, 49.86393957554926], [8.495210223056908, 49.863608967517045], [8.496097356101519, 49.863189384835415], [8.496939091063455, 49.86268486831496], [8.497727321574894, 49.86210027672556], [8.498454456545124, 49.8614412400038], [8.499113493266885, 49.86071410503357], [8.499698084856284, 49.85992587452213], [8.500202601376742, 49.859084139560196], [8.50062218405837, 49.85819700651559], [8.50095279209058, 49.85727301896448], [8.50119124153729, 49.8563210754121], [8.50133523599998, 49.855350343595234], [8.501383388733258, 49.854370172191935]]], &quot;type&quot;: &quot;Polygon&quot;}, &quot;id&quot;: &quot;0&quot;, &quot;properties&quot;: {&quot;id&quot;: 1, &quot;pt_id&quot;: 1}, &quot;type&quot;: &quot;Feature&quot;}, {&quot;bbox&quot;: [8.402773153496353, 53.135550217099215, 8.422773153496353, 53.15555021709921], &quot;geometry&quot;: {&quot;coordinates&quot;: [[[8.422773153496353, 53.14555021709921], [8.422725000763075, 53.144570045695914], [8.422581006300385, 53.14359931387905], [8.422342556853675, 53.14264737032667], [8.422011948821465, 53.14172338277556], [8.421592366139837, 53.14083624973095], [8.42108784961938, 53.139994514769015], [8.42050325802998, 53.139206284257575], [8.41984422130822, 53.13847914928735], [8.41911708633799, 53.137820112565585], [8.41832885582655, 53.13723552097619], [8.417487120864614, 53.13673100445573], [8.416599987820003, 53.1363114217741], [8.415676000268897, 53.13598081374189], [8.414724056716514, 53.13574236429518], [8.413753324899648, 53.13559836983249], [8.412773153496353, 53.135550217099215], [8.411792982093058, 53.13559836983249], [8.410822250276192, 53.13574236429518], [8.409870306723809, 53.13598081374189], [8.408946319172703, 53.1363114217741], [8.408059186128092, 53.13673100445573], [8.407217451166156, 53.13723552097619], [8.406429220654717, 53.137820112565585], [8.405702085684487, 53.13847914928735], [8.405043048962726, 53.139206284257575], [8.404458457373327, 53.139994514769015], [8.403953940852869, 53.14083624973095], [8.40353435817124, 53.14172338277556], [8.403203750139031, 53.14264737032667], [8.40296530069232, 53.14359931387905], [8.402821306229631, 53.144570045695914], [8.402773153496353, 53.14555021709921], [8.402821306229631, 53.14653038850251], [8.40296530069232, 53.147501120319376], [8.403203750139031, 53.148453063871756], [8.40353435817124, 53.14937705142287], [8.403953940852869, 53.150264184467474], [8.404458457373327, 53.15110591942941], [8.405043048962726, 53.15189414994085], [8.405702085684487, 53.15262128491108], [8.406429220654717, 53.15328032163284], [8.407217451166156, 53.153864913222236], [8.408059186128092, 53.154369429742694], [8.408946319172703, 53.154789012424324], [8.409870306723809, 53.15511962045654], [8.410822250276192, 53.155358069903244], [8.411792982093058, 53.15550206436593], [8.412773153496353, 53.15555021709921], [8.413753324899648, 53.15550206436593], [8.414724056716514, 53.155358069903244], [8.415676000268897, 53.15511962045654], [8.416599987820003, 53.154789012424324], [8.417487120864614, 53.154369429742694], [8.41832885582655, 53.153864913222236], [8.41911708633799, 53.15328032163284], [8.41984422130822, 53.15262128491108], [8.42050325802998, 53.15189414994085], [8.42108784961938, 53.15110591942941], [8.421592366139837, 53.150264184467474], [8.422011948821465, 53.14937705142287], [8.422342556853675, 53.148453063871756], [8.422581006300385, 53.147501120319376], [8.422725000763075, 53.14653038850251], [8.422773153496353, 53.14555021709921]]], &quot;type&quot;: &quot;Polygon&quot;}, &quot;id&quot;: &quot;1&quot;, &quot;properties&quot;: {&quot;id&quot;: 3, &quot;pt_id&quot;: 2}, &quot;type&quot;: &quot;Feature&quot;}, {&quot;bbox&quot;: [11.166778399392497, 50.00380142653234, 11.186778399392496, 50.02380142653234], &quot;geometry&quot;: {&quot;coordinates&quot;: [[[11.186778399392496, 50.01380142653234], [11.186730246659218, 50.01282125512904], [11.186586252196529, 50.01185052331218], [11.186347802749818, 50.0108985797598], [11.186017194717609, 50.009974592208685], [11.18559761203598, 50.00908745916408], [11.185093095515523, 50.00824572420214], [11.184508503926123, 50.0074574936907], [11.183849467204363, 50.006730358720475], [11.183122332234133, 50.00607132199871], [11.182334101722693, 50.00548673040932], [11.181492366760757, 50.00498221388886], [11.180605233716147, 50.00456263120723], [11.17968124616504, 50.004232023175014], [11.178729302612657, 50.00399357372831], [11.177758570795792, 50.00384957926562], [11.176778399392497, 50.00380142653234], [11.175798227989201, 50.00384957926562], [11.174827496172336, 50.00399357372831], [11.173875552619952, 50.004232023175014], [11.172951565068846, 50.00456263120723], [11.172064432024236, 50.00498221388886], [11.1712226970623, 50.00548673040932], [11.17043446655086, 50.00607132199871], [11.16970733158063, 50.006730358720475], [11.16904829485887, 50.0074574936907], [11.16846370326947, 50.00824572420214], [11.167959186749012, 50.00908745916408], [11.167539604067384, 50.009974592208685], [11.167208996035175, 50.0108985797598], [11.166970546588464, 50.01185052331218], [11.166826552125775, 50.01282125512904], [11.166778399392497, 50.01380142653234], [11.166826552125775, 50.01478159793564], [11.166970546588464, 50.0157523297525], [11.167208996035175, 50.01670427330488], [11.167539604067384, 50.01762826085599], [11.167959186749012, 50.0185153939006], [11.16846370326947, 50.01935712886254], [11.16904829485887, 50.02014535937398], [11.16970733158063, 50.020872494344204], [11.17043446655086, 50.02153153106597], [11.1712226970623, 50.02211612265536], [11.172064432024236, 50.02262063917582], [11.172951565068846, 50.02304022185745], [11.173875552619952, 50.023370829889664], [11.174827496172336, 50.02360927933637], [11.175798227989201, 50.02375327379906], [11.176778399392497, 50.02380142653234], [11.177758570795792, 50.02375327379906], [11.178729302612657, 50.02360927933637], [11.17968124616504, 50.023370829889664], [11.180605233716147, 50.02304022185745], [11.181492366760757, 50.02262063917582], [11.182334101722693, 50.02211612265536], [11.183122332234133, 50.02153153106597], [11.183849467204363, 50.020872494344204], [11.184508503926123, 50.02014535937398], [11.185093095515523, 50.01935712886254], [11.18559761203598, 50.0185153939006], [11.186017194717609, 50.01762826085599], [11.186347802749818, 50.01670427330488], [11.186586252196529, 50.0157523297525], [11.186730246659218, 50.01478159793564], [11.186778399392496, 50.01380142653234]]], &quot;type&quot;: &quot;Polygon&quot;}, &quot;id&quot;: &quot;2&quot;, &quot;properties&quot;: {&quot;id&quot;: 7, &quot;pt_id&quot;: 3}, &quot;type&quot;: &quot;Feature&quot;}, {&quot;bbox&quot;: [23.78724480625752, 40.05894472525313, 23.807244806257522, 40.07894472525312], &quot;geometry&quot;: {&quot;coordinates&quot;: [[[23.807244806257522, 40.068944725253125], [23.807196653524244, 40.067964553849826], [23.807052659061554, 40.06699382203296], [23.806814209614842, 40.06604187848058], [23.806483601582634, 40.06511789092947], [23.806064018901004, 40.064230757884864], [23.805559502380547, 40.06338902292293], [23.80497491079115, 40.06260079241149], [23.804315874069385, 40.06187365744126], [23.80358873909916, 40.0612146207195], [23.802800508587715, 40.0606300291301], [23.80195877362578, 40.060125512609645], [23.80107164058117, 40.059705929928015], [23.800147653030066, 40.0593753218958], [23.799195709477683, 40.059136872449095], [23.798224977660816, 40.058992877986405], [23.79724480625752, 40.05894472525313], [23.796264634854225, 40.058992877986405], [23.795293903037358, 40.059136872449095], [23.794341959484974, 40.0593753218958], [23.79341797193387, 40.059705929928015], [23.79253083888926, 40.060125512609645], [23.791689103927325, 40.0606300291301], [23.790900873415882, 40.0612146207195], [23.790173738445656, 40.06187365744126], [23.789514701723892, 40.06260079241149], [23.788930110134494, 40.06338902292293], [23.788425593614036, 40.064230757884864], [23.788006010932406, 40.06511789092947], [23.7876754029002, 40.06604187848058], [23.787436953453486, 40.06699382203296], [23.787292958990797, 40.067964553849826], [23.78724480625752, 40.068944725253125], [23.787292958990797, 40.069924896656424], [23.787436953453486, 40.07089562847329], [23.7876754029002, 40.07184757202567], [23.788006010932406, 40.07277155957678], [23.788425593614036, 40.073658692621386], [23.788930110134494, 40.074500427583324], [23.789514701723892, 40.07528865809476], [23.790173738445656, 40.07601579306499], [23.790900873415882, 40.076674829786754], [23.791689103927325, 40.07725942137615], [23.79253083888926, 40.077763937896606], [23.79341797193387, 40.078183520578236], [23.794341959484974, 40.07851412861045], [23.795293903037358, 40.078752578057156], [23.796264634854225, 40.078896572519845], [23.79724480625752, 40.07894472525312], [23.798224977660816, 40.078896572519845], [23.799195709477683, 40.078752578057156], [23.800147653030066, 40.07851412861045], [23.80107164058117, 40.078183520578236], [23.80195877362578, 40.077763937896606], [23.802800508587715, 40.07725942137615], [23.80358873909916, 40.076674829786754], [23.804315874069385, 40.07601579306499], [23.80497491079115, 40.07528865809476], [23.805559502380547, 40.074500427583324], [23.806064018901004, 40.073658692621386], [23.806483601582634, 40.07277155957678], [23.806814209614842, 40.07184757202567], [23.807052659061554, 40.07089562847329], [23.807196653524244, 40.069924896656424], [23.807244806257522, 40.068944725253125]]], &quot;type&quot;: &quot;Polygon&quot;}, &quot;id&quot;: &quot;3&quot;, &quot;properties&quot;: {&quot;id&quot;: 9, &quot;pt_id&quot;: 4}, &quot;type&quot;: &quot;Feature&quot;}, {&quot;bbox&quot;: [16.790197637816156, 48.978094737864616, 16.81019763781616, 48.99809473786461], &quot;geometry&quot;: {&quot;coordinates&quot;: [[[16.81019763781616, 48.988094737864614], [16.81014948508288, 48.987114566461315], [16.810005490620192, 48.98614383464445], [16.80976704117348, 48.98519189109207], [16.809436433141272, 48.98426790354096], [16.809016850459642, 48.98338077049635], [16.808512333939184, 48.982539035534415], [16.807927742349786, 48.981750805022976], [16.807268705628022, 48.98102367005275], [16.806541570657796, 48.980364633330986], [16.805753340146353, 48.97978004174159], [16.80491160518442, 48.979275525221134], [16.804024472139808, 48.978855942539504], [16.803100484588704, 48.97852533450729], [16.80214854103632, 48.978286885060584], [16.801177809219453, 48.978142890597894], [16.800197637816158, 48.978094737864616], [16.799217466412863, 48.978142890597894], [16.798246734595995, 48.978286885060584], [16.797294791043612, 48.97852533450729], [16.796370803492508, 48.978855942539504], [16.795483670447897, 48.979275525221134], [16.794641935485963, 48.97978004174159], [16.79385370497452, 48.980364633330986], [16.793126570004294, 48.98102367005275], [16.79246753328253, 48.981750805022976], [16.79188294169313, 48.982539035534415], [16.791378425172674, 48.98338077049635], [16.790958842491044, 48.98426790354096], [16.790628234458836, 48.98519189109207], [16.790389785012124, 48.98614383464445], [16.790245790549434, 48.987114566461315], [16.790197637816156, 48.988094737864614], [16.790245790549434, 48.98907490926791], [16.790389785012124, 48.99004564108478], [16.790628234458836, 48.99099758463716], [16.790958842491044, 48.99192157218827], [16.791378425172674, 48.992808705232875], [16.79188294169313, 48.99365044019481], [16.79246753328253, 48.99443867070625], [16.793126570004294, 48.99516580567648], [16.79385370497452, 48.99582484239824], [16.794641935485963, 48.99640943398764], [16.795483670447897, 48.996913950508095], [16.796370803492508, 48.997333533189725], [16.797294791043612, 48.99766414122194], [16.798246734595995, 48.997902590668645], [16.799217466412863, 48.998046585131334], [16.800197637816158, 48.99809473786461], [16.801177809219453, 48.998046585131334], [16.80214854103632, 48.997902590668645], [16.803100484588704, 48.99766414122194], [16.804024472139808, 48.997333533189725], [16.80491160518442, 48.996913950508095], [16.805753340146353, 48.99640943398764], [16.806541570657796, 48.99582484239824], [16.807268705628022, 48.99516580567648], [16.807927742349786, 48.99443867070625], [16.808512333939184, 48.99365044019481], [16.809016850459642, 48.992808705232875], [16.809436433141272, 48.99192157218827], [16.80976704117348, 48.99099758463716], [16.810005490620192, 48.99004564108478], [16.81014948508288, 48.98907490926791], [16.81019763781616, 48.988094737864614]]], &quot;type&quot;: &quot;Polygon&quot;}, &quot;id&quot;: &quot;4&quot;, &quot;properties&quot;: {&quot;id&quot;: 10, &quot;pt_id&quot;: 5}, &quot;type&quot;: &quot;Feature&quot;}, {&quot;bbox&quot;: [22.48203954581325, 42.35323653880471, 22.502039545813254, 42.373236538804704], &quot;geometry&quot;: {&quot;coordinates&quot;: [[[22.502039545813254, 42.363236538804706], [22.501991393079976, 42.36225636740141], [22.501847398617286, 42.361285635584544], [22.501608949170574, 42.360333692032164], [22.501278341138367, 42.35940970448105], [22.500858758456737, 42.358522571436446], [22.50035424193628, 42.35768083647451], [22.49976965034688, 42.35689260596307], [22.499110613625117, 42.35616547099284], [22.49838347865489, 42.35550643427108], [22.497595248143448, 42.354921842681684], [22.496753513181513, 42.354417326161226], [22.495866380136903, 42.353997743479596], [22.4949423925858, 42.35366713544738], [22.493990449033415, 42.353428686000676], [22.493019717216548, 42.353284691537986], [22.492039545813252, 42.35323653880471], [22.491059374409957, 42.353284691537986], [22.49008864259309, 42.353428686000676], [22.489136699040706, 42.35366713544738], [22.488212711489602, 42.353997743479596], [22.48732557844499, 42.354417326161226], [22.486483843483057, 42.354921842681684], [22.485695612971615, 42.35550643427108], [22.484968478001388, 42.35616547099284], [22.484309441279624, 42.35689260596307], [22.483724849690226, 42.35768083647451], [22.48322033316977, 42.358522571436446], [22.48280075048814, 42.35940970448105], [22.48247014245593, 42.360333692032164], [22.48223169300922, 42.361285635584544], [22.48208769854653, 42.36225636740141], [22.48203954581325, 42.363236538804706], [22.48208769854653, 42.364216710208005], [22.48223169300922, 42.36518744202487], [22.48247014245593, 42.36613938557725], [22.48280075048814, 42.36706337312836], [22.48322033316977, 42.36795050617297], [22.483724849690226, 42.368792241134905], [22.484309441279624, 42.369580471646344], [22.484968478001388, 42.37030760661657], [22.485695612971615, 42.370966643338335], [22.486483843483057, 42.37155123492773], [22.48732557844499, 42.37205575144819], [22.488212711489602, 42.37247533412982], [22.489136699040706, 42.37280594216203], [22.49008864259309, 42.37304439160874], [22.491059374409957, 42.373188386071426], [22.492039545813252, 42.373236538804704], [22.493019717216548, 42.373188386071426], [22.493990449033415, 42.37304439160874], [22.4949423925858, 42.37280594216203], [22.495866380136903, 42.37247533412982], [22.496753513181513, 42.37205575144819], [22.497595248143448, 42.37155123492773], [22.49838347865489, 42.370966643338335], [22.499110613625117, 42.37030760661657], [22.49976965034688, 42.369580471646344], [22.50035424193628, 42.368792241134905], [22.500858758456737, 42.36795050617297], [22.501278341138367, 42.36706337312836], [22.501608949170574, 42.36613938557725], [22.501847398617286, 42.36518744202487], [22.501991393079976, 42.364216710208005], [22.502039545813254, 42.363236538804706]]], &quot;type&quot;: &quot;Polygon&quot;}, &quot;id&quot;: &quot;5&quot;, &quot;properties&quot;: {&quot;id&quot;: 12, &quot;pt_id&quot;: 6}, &quot;type&quot;: &quot;Feature&quot;}, {&quot;bbox&quot;: [-6.528121246822126, 39.310350374262406, -6.508121246822126, 39.3303503742624], &quot;geometry&quot;: {&quot;coordinates&quot;: [[[-6.508121246822126, 39.320350374262404], [-6.508169399555404, 39.319370202859105], [-6.508313394018094, 39.31839947104224], [-6.508551843464804, 39.31744752748986], [-6.508882451497013, 39.31652353993875], [-6.509302034178643, 39.31563640689414], [-6.509806550699101, 39.314794671932205], [-6.510391142288499, 39.314006441420766], [-6.511050179010261, 39.31327930645054], [-6.51177731398049, 39.312620269728775], [-6.51256554449193, 39.31203567813938], [-6.513407279453866, 39.31153116161892], [-6.514294412498475, 39.31111157893729], [-6.515218400049582, 39.31078097090508], [-6.5161703436019645, 39.31054252145837], [-6.517141075418831, 39.310398526995684], [-6.518121246822126, 39.310350374262406], [-6.519101418225421, 39.310398526995684], [-6.520072150042288, 39.31054252145837], [-6.52102409359467, 39.31078097090508], [-6.521948081145777, 39.31111157893729], [-6.522835214190386, 39.31153116161892], [-6.523676949152322, 39.31203567813938], [-6.524465179663762, 39.312620269728775], [-6.525192314633991, 39.31327930645054], [-6.525851351355754, 39.314006441420766], [-6.5264359429451515, 39.314794671932205], [-6.526940459465609, 39.31563640689414], [-6.527360042147239, 39.31652353993875], [-6.527690650179448, 39.31744752748986], [-6.527929099626158, 39.31839947104224], [-6.528073094088848, 39.319370202859105], [-6.528121246822126, 39.320350374262404], [-6.528073094088848, 39.3213305456657], [-6.527929099626158, 39.322301277482566], [-6.527690650179448, 39.323253221034946], [-6.527360042147239, 39.32417720858606], [-6.526940459465609, 39.325064341630664], [-6.5264359429451515, 39.3259060765926], [-6.525851351355754, 39.32669430710404], [-6.525192314633991, 39.32742144207427], [-6.524465179663762, 39.32808047879603], [-6.523676949152322, 39.328665070385426], [-6.522835214190386, 39.329169586905884], [-6.521948081145777, 39.329589169587514], [-6.52102409359467, 39.32991977761973], [-6.520072150042288, 39.330158227066434], [-6.519101418225421, 39.330302221529124], [-6.518121246822126, 39.3303503742624], [-6.517141075418831, 39.330302221529124], [-6.5161703436019645, 39.330158227066434], [-6.515218400049582, 39.32991977761973], [-6.514294412498475, 39.329589169587514], [-6.513407279453866, 39.329169586905884], [-6.51256554449193, 39.328665070385426], [-6.51177731398049, 39.32808047879603], [-6.511050179010261, 39.32742144207427], [-6.510391142288499, 39.32669430710404], [-6.509806550699101, 39.3259060765926], [-6.509302034178643, 39.325064341630664], [-6.508882451497013, 39.32417720858606], [-6.508551843464804, 39.323253221034946], [-6.508313394018094, 39.322301277482566], [-6.508169399555404, 39.3213305456657], [-6.508121246822126, 39.320350374262404]]], &quot;type&quot;: &quot;Polygon&quot;}, &quot;id&quot;: &quot;6&quot;, &quot;properties&quot;: {&quot;id&quot;: 14, &quot;pt_id&quot;: 7}, &quot;type&quot;: &quot;Feature&quot;}, {&quot;bbox&quot;: [27.535029830308382, 40.222134752417496, 27.555029830308385, 40.24213475241749], &quot;geometry&quot;: {&quot;coordinates&quot;: [[[27.555029830308385, 40.232134752417494], [27.554981677575107, 40.231154581014195], [27.554837683112417, 40.23018384919733], [27.554599233665705, 40.22923190564495], [27.554268625633497, 40.22830791809384], [27.553849042951867, 40.22742078504923], [27.55334452643141, 40.226579050087295], [27.552759934842012, 40.225790819575856], [27.552100898120248, 40.22506368460563], [27.55137376315002, 40.224404647883865], [27.55058553263858, 40.22382005629447], [27.549743797676644, 40.22331553977401], [27.548856664632034, 40.22289595709238], [27.54793267708093, 40.22256534906017], [27.546980733528546, 40.22232689961346], [27.54601000171168, 40.222182905150774], [27.545029830308383, 40.222134752417496], [27.544049658905088, 40.222182905150774], [27.54307892708822, 40.22232689961346], [27.542126983535837, 40.22256534906017], [27.541202995984733, 40.22289595709238], [27.540315862940123, 40.22331553977401], [27.53947412797819, 40.22382005629447], [27.538685897466745, 40.224404647883865], [27.53795876249652, 40.22506368460563], [27.537299725774755, 40.225790819575856], [27.536715134185357, 40.226579050087295], [27.5362106176649, 40.22742078504923], [27.53579103498327, 40.22830791809384], [27.53546042695106, 40.22923190564495], [27.53522197750435, 40.23018384919733], [27.53507798304166, 40.231154581014195], [27.535029830308382, 40.232134752417494], [27.53507798304166, 40.23311492382079], [27.53522197750435, 40.23408565563766], [27.53546042695106, 40.235037599190036], [27.53579103498327, 40.23596158674115], [27.5362106176649, 40.236848719785755], [27.536715134185357, 40.23769045474769], [27.537299725774755, 40.23847868525913], [27.53795876249652, 40.23920582022936], [27.538685897466745, 40.23986485695112], [27.53947412797819, 40.24044944854052], [27.540315862940123, 40.240953965060974], [27.541202995984733, 40.241373547742604], [27.542126983535837, 40.24170415577482], [27.54307892708822, 40.241942605221524], [27.544049658905088, 40.242086599684214], [27.545029830308383, 40.24213475241749], [27.54601000171168, 40.242086599684214], [27.546980733528546, 40.241942605221524], [27.54793267708093, 40.24170415577482], [27.548856664632034, 40.241373547742604], [27.549743797676644, 40.240953965060974], [27.55058553263858, 40.24044944854052], [27.55137376315002, 40.23986485695112], [27.552100898120248, 40.23920582022936], [27.552759934842012, 40.23847868525913], [27.55334452643141, 40.23769045474769], [27.553849042951867, 40.236848719785755], [27.554268625633497, 40.23596158674115], [27.554599233665705, 40.235037599190036], [27.554837683112417, 40.23408565563766], [27.554981677575107, 40.23311492382079], [27.555029830308385, 40.232134752417494]]], &quot;type&quot;: &quot;Polygon&quot;}, &quot;id&quot;: &quot;7&quot;, &quot;properties&quot;: {&quot;id&quot;: 16, &quot;pt_id&quot;: 8}, &quot;type&quot;: &quot;Feature&quot;}, {&quot;bbox&quot;: [22.83505339669228, 41.466642291120436, 22.855053396692284, 41.48664229112043], &quot;geometry&quot;: {&quot;coordinates&quot;: [[[22.855053396692284, 41.476642291120434], [22.855005243959006, 41.475662119717136], [22.854861249496317, 41.47469138790027], [22.854622800049604, 41.47373944434789], [22.854292192017397, 41.47281545679678], [22.853872609335767, 41.471928323752174], [22.85336809281531, 41.471086588790236], [22.85278350122591, 41.4702983582788], [22.852124464504147, 41.46957122330857], [22.85139732953392, 41.468912186586806], [22.850609099022478, 41.46832759499741], [22.849767364060543, 41.467823078476954], [22.848880231015933, 41.467403495795324], [22.84795624346483, 41.46707288776311], [22.847004299912445, 41.466834438316404], [22.846033568095578, 41.466690443853714], [22.845053396692283, 41.466642291120436], [22.844073225288987, 41.466690443853714], [22.84310249347212, 41.466834438316404], [22.842150549919737, 41.46707288776311], [22.841226562368632, 41.467403495795324], [22.840339429324022, 41.467823078476954], [22.839497694362088, 41.46832759499741], [22.838709463850645, 41.468912186586806], [22.83798232888042, 41.46957122330857], [22.837323292158654, 41.4702983582788], [22.836738700569256, 41.471086588790236], [22.8362341840488, 41.471928323752174], [22.83581460136717, 41.47281545679678], [22.83548399333496, 41.47373944434789], [22.83524554388825, 41.47469138790027], [22.83510154942556, 41.475662119717136], [22.83505339669228, 41.476642291120434], [22.83510154942556, 41.47762246252373], [22.83524554388825, 41.4785931943406], [22.83548399333496, 41.47954513789298], [22.83581460136717, 41.48046912544409], [22.8362341840488, 41.481356258488695], [22.836738700569256, 41.48219799345063], [22.837323292158654, 41.48298622396207], [22.83798232888042, 41.4837133589323], [22.838709463850645, 41.48437239565406], [22.839497694362088, 41.48495698724346], [22.840339429324022, 41.485461503763915], [22.841226562368632, 41.485881086445545], [22.842150549919737, 41.48621169447776], [22.84310249347212, 41.486450143924465], [22.844073225288987, 41.486594138387154], [22.845053396692283, 41.48664229112043], [22.846033568095578, 41.486594138387154], [22.847004299912445, 41.486450143924465], [22.84795624346483, 41.48621169447776], [22.848880231015933, 41.485881086445545], [22.849767364060543, 41.485461503763915], [22.850609099022478, 41.48495698724346], [22.85139732953392, 41.48437239565406], [22.852124464504147, 41.4837133589323], [22.85278350122591, 41.48298622396207], [22.85336809281531, 41.48219799345063], [22.853872609335767, 41.481356258488695], [22.854292192017397, 41.48046912544409], [22.854622800049604, 41.47954513789298], [22.854861249496317, 41.4785931943406], [22.855005243959006, 41.47762246252373], [22.855053396692284, 41.476642291120434]]], &quot;type&quot;: &quot;Polygon&quot;}, &quot;id&quot;: &quot;8&quot;, &quot;properties&quot;: {&quot;id&quot;: 19, &quot;pt_id&quot;: 9}, &quot;type&quot;: &quot;Feature&quot;}, {&quot;bbox&quot;: [1.283856849082509, 44.30059119306229, 1.303856849082509, 44.320591193062285], &quot;geometry&quot;: {&quot;coordinates&quot;: [[[1.303856849082509, 44.31059119306229], [1.303808696349231, 44.30961102165899], [1.3036647018865415, 44.308640289842124], [1.3034262524398312, 44.307688346289744], [1.303095644407622, 44.30676435873863], [1.3026760617259927, 44.305877225694026], [1.3021715452055345, 44.30503549073209], [1.3015869536161364, 44.30424726022065], [1.3009279168943746, 44.30352012525042], [1.3002007819241455, 44.30286108852866], [1.299412551412705, 44.302276496939264], [1.298570816450769, 44.301771980418806], [1.29768368340616, 44.301352397737176], [1.2967596958550538, 44.30102178970496], [1.2958077523026703, 44.300783340258256], [1.2948370204858046, 44.30063934579557], [1.293856849082509, 44.30059119306229], [1.2928766776792135, 44.30063934579557], [1.2919059458623479, 44.300783340258256], [1.2909540023099644, 44.30102178970496], [1.2900300147588581, 44.301352397737176], [1.2891428817142492, 44.301771980418806], [1.288301146752313, 44.302276496939264], [1.2875129162408727, 44.30286108852866], [1.2867857812706436, 44.30352012525042], [1.2861267445488818, 44.30424726022065], [1.2855421529594837, 44.30503549073209], [1.2850376364390255, 44.305877225694026], [1.2846180537573961, 44.30676435873863], [1.284287445725187, 44.307688346289744], [1.2840489962784767, 44.308640289842124], [1.2839050018157872, 44.30961102165899], [1.283856849082509, 44.31059119306229], [1.2839050018157872, 44.311571364465586], [1.2840489962784767, 44.31254209628245], [1.284287445725187, 44.31349403983483], [1.2846180537573961, 44.31441802738594], [1.2850376364390255, 44.31530516043055], [1.2855421529594837, 44.316146895392485], [1.2861267445488818, 44.316935125903925], [1.2867857812706436, 44.31766226087415], [1.2875129162408727, 44.318321297595915], [1.288301146752313, 44.31890588918531], [1.2891428817142492, 44.31941040570577], [1.2900300147588581, 44.3198299883874], [1.2909540023099644, 44.32016059641961], [1.2919059458623479, 44.32039904586632], [1.2928766776792135, 44.32054304032901], [1.293856849082509, 44.320591193062285], [1.2948370204858046, 44.32054304032901], [1.2958077523026703, 44.32039904586632], [1.2967596958550538, 44.32016059641961], [1.29768368340616, 44.3198299883874], [1.298570816450769, 44.31941040570577], [1.299412551412705, 44.31890588918531], [1.3002007819241455, 44.318321297595915], [1.3009279168943746, 44.31766226087415], [1.3015869536161364, 44.316935125903925], [1.3021715452055345, 44.316146895392485], [1.3026760617259927, 44.31530516043055], [1.303095644407622, 44.31441802738594], [1.3034262524398312, 44.31349403983483], [1.3036647018865415, 44.31254209628245], [1.303808696349231, 44.311571364465586], [1.303856849082509, 44.31059119306229]]], &quot;type&quot;: &quot;Polygon&quot;}, &quot;id&quot;: &quot;9&quot;, &quot;properties&quot;: {&quot;id&quot;: 21, &quot;pt_id&quot;: 10}, &quot;type&quot;: &quot;Feature&quot;}, {&quot;bbox&quot;: [14.209172720242849, 51.09419066006902, 14.229172720242849, 51.11419066006901], &quot;geometry&quot;: {&quot;coordinates&quot;: [[[14.229172720242849, 51.104190660069015], [14.22912456750957, 51.10321048866572], [14.228980573046881, 51.10223975684885], [14.22874212360017, 51.10128781329647], [14.228411515567961, 51.10036382574536], [14.227991932886333, 51.099476692700755], [14.227487416365875, 51.09863495773882], [14.226902824776475, 51.09784672722738], [14.226243788054715, 51.09711959225715], [14.225516653084485, 51.09646055553539], [14.224728422573046, 51.09587596394599], [14.22388668761111, 51.095371447425535], [14.2229995545665, 51.094951864743905], [14.222075567015393, 51.09462125671169], [14.22112362346301, 51.094382807264985], [14.220152891646144, 51.094238812802296], [14.219172720242849, 51.09419066006902], [14.218192548839554, 51.094238812802296], [14.217221817022688, 51.094382807264985], [14.216269873470305, 51.09462125671169], [14.215345885919199, 51.094951864743905], [14.214458752874588, 51.095371447425535], [14.213617017912652, 51.09587596394599], [14.212828787401213, 51.09646055553539], [14.212101652430983, 51.09711959225715], [14.211442615709222, 51.09784672722738], [14.210858024119823, 51.09863495773882], [14.210353507599365, 51.099476692700755], [14.209933924917737, 51.10036382574536], [14.209603316885527, 51.10128781329647], [14.209364867438817, 51.10223975684885], [14.209220872976127, 51.10321048866572], [14.209172720242849, 51.104190660069015], [14.209220872976127, 51.105170831472314], [14.209364867438817, 51.10614156328918], [14.209603316885527, 51.10709350684156], [14.209933924917737, 51.10801749439267], [14.210353507599365, 51.108904627437276], [14.210858024119823, 51.109746362399214], [14.211442615709222, 51.11053459291065], [14.212101652430983, 51.11126172788088], [14.212828787401213, 51.111920764602644], [14.213617017912652, 51.11250535619204], [14.214458752874588, 51.113009872712496], [14.215345885919199, 51.113429455394126], [14.216269873470305, 51.11376006342634], [14.217221817022688, 51.113998512873046], [14.218192548839554, 51.114142507335735], [14.219172720242849, 51.11419066006901], [14.220152891646144, 51.114142507335735], [14.22112362346301, 51.113998512873046], [14.222075567015393, 51.11376006342634], [14.2229995545665, 51.113429455394126], [14.22388668761111, 51.113009872712496], [14.224728422573046, 51.11250535619204], [14.225516653084485, 51.111920764602644], [14.226243788054715, 51.11126172788088], [14.226902824776475, 51.11053459291065], [14.227487416365875, 51.109746362399214], [14.227991932886333, 51.108904627437276], [14.228411515567961, 51.10801749439267], [14.22874212360017, 51.10709350684156], [14.228980573046881, 51.10614156328918], [14.22912456750957, 51.105170831472314], [14.229172720242849, 51.104190660069015]]], &quot;type&quot;: &quot;Polygon&quot;}, &quot;id&quot;: &quot;10&quot;, &quot;properties&quot;: {&quot;id&quot;: 24, &quot;pt_id&quot;: 11}, &quot;type&quot;: &quot;Feature&quot;}, {&quot;bbox&quot;: [18.635450043222335, 49.34534207292801, 18.655450043222338, 49.36534207292801], &quot;geometry&quot;: {&quot;coordinates&quot;: [[[18.655450043222338, 49.35534207292801], [18.65540189048906, 49.35436190152471], [18.65525789602637, 49.35339116970785], [18.655019446579658, 49.35243922615547], [18.65468883854745, 49.35151523860436], [18.65426925586582, 49.35062810555975], [18.653764739345362, 49.34978637059781], [18.653180147755965, 49.34899814008637], [18.6525211110342, 49.348271005116146], [18.651793976063974, 49.34761196839438], [18.65100574555253, 49.34702737680499], [18.650164010590597, 49.34652286028453], [18.649276877545987, 49.3461032776029], [18.648352889994882, 49.345772669570685], [18.6474009464425, 49.34553422012398], [18.64643021462563, 49.34539022566129], [18.645450043222336, 49.34534207292801], [18.64446987181904, 49.34539022566129], [18.643499140002174, 49.34553422012398], [18.64254719644979, 49.345772669570685], [18.641623208898686, 49.3461032776029], [18.640736075854075, 49.34652286028453], [18.63989434089214, 49.34702737680499], [18.6391061103807, 49.34761196839438], [18.638378975410472, 49.348271005116146], [18.637719938688708, 49.34899814008637], [18.63713534709931, 49.34978637059781], [18.636630830578852, 49.35062810555975], [18.636211247897222, 49.35151523860436], [18.635880639865015, 49.35243922615547], [18.635642190418302, 49.35339116970785], [18.635498195955613, 49.35436190152471], [18.635450043222335, 49.35534207292801], [18.635498195955613, 49.35632224433131], [18.635642190418302, 49.35729297614817], [18.635880639865015, 49.35824491970055], [18.636211247897222, 49.359168907251664], [18.636630830578852, 49.36005604029627], [18.63713534709931, 49.36089777525821], [18.637719938688708, 49.36168600576965], [18.638378975410472, 49.362413140739875], [18.6391061103807, 49.36307217746164], [18.63989434089214, 49.36365676905103], [18.640736075854075, 49.36416128557149], [18.641623208898686, 49.36458086825312], [18.64254719644979, 49.364911476285336], [18.643499140002174, 49.36514992573204], [18.64446987181904, 49.36529392019473], [18.645450043222336, 49.36534207292801], [18.64643021462563, 49.36529392019473], [18.6474009464425, 49.36514992573204], [18.648352889994882, 49.364911476285336], [18.649276877545987, 49.36458086825312], [18.650164010590597, 49.36416128557149], [18.65100574555253, 49.36365676905103], [18.651793976063974, 49.36307217746164], [18.6525211110342, 49.362413140739875], [18.653180147755965, 49.36168600576965], [18.653764739345362, 49.36089777525821], [18.65426925586582, 49.36005604029627], [18.65468883854745, 49.359168907251664], [18.655019446579658, 49.35824491970055], [18.65525789602637, 49.35729297614817], [18.65540189048906, 49.35632224433131], [18.655450043222338, 49.35534207292801]]], &quot;type&quot;: &quot;Polygon&quot;}, &quot;id&quot;: &quot;11&quot;, &quot;properties&quot;: {&quot;id&quot;: 25, &quot;pt_id&quot;: 12}, &quot;type&quot;: &quot;Feature&quot;}, {&quot;bbox&quot;: [-4.740023067021765, 51.67015233289876, -4.720023067021765, 51.690152332898755], &quot;geometry&quot;: {&quot;coordinates&quot;: [[[-4.720023067021765, 51.68015233289876], [-4.720071219755043, 51.67917216149546], [-4.720215214217733, 51.678201429678595], [-4.720453663664443, 51.677249486126215], [-4.720784271696652, 51.6763254985751], [-4.721203854378282, 51.675438365530496], [-4.72170837089874, 51.67459663056856], [-4.722292962488138, 51.67380840005712], [-4.7229519992099, 51.67308126508689], [-4.723679134180129, 51.67242222836513], [-4.724467364691569, 51.671837636775734], [-4.725309099653505, 51.67133312025528], [-4.726196232698114, 51.67091353757365], [-4.727120220249221, 51.67058292954143], [-4.7280721638016034, 51.67034448009473], [-4.72904289561847, 51.67020048563204], [-4.730023067021765, 51.67015233289876], [-4.73100323842506, 51.67020048563204], [-4.731973970241927, 51.67034448009473], [-4.732925913794309, 51.67058292954143], [-4.733849901345416, 51.67091353757365], [-4.734737034390025, 51.67133312025528], [-4.735578769351961, 51.671837636775734], [-4.736366999863401, 51.67242222836513], [-4.73709413483363, 51.67308126508689], [-4.737753171555393, 51.67380840005712], [-4.7383377631447905, 51.67459663056856], [-4.738842279665248, 51.675438365530496], [-4.739261862346878, 51.6763254985751], [-4.739592470379087, 51.677249486126215], [-4.739830919825797, 51.678201429678595], [-4.739974914288487, 51.67917216149546], [-4.740023067021765, 51.68015233289876], [-4.739974914288487, 51.681132504302056], [-4.739830919825797, 51.68210323611892], [-4.739592470379087, 51.6830551796713], [-4.739261862346878, 51.68397916722241], [-4.738842279665248, 51.68486630026702], [-4.7383377631447905, 51.685708035228956], [-4.737753171555393, 51.686496265740395], [-4.73709413483363, 51.68722340071062], [-4.736366999863401, 51.687882437432386], [-4.735578769351961, 51.68846702902178], [-4.734737034390025, 51.68897154554224], [-4.733849901345416, 51.68939112822387], [-4.732925913794309, 51.68972173625608], [-4.731973970241927, 51.68996018570279], [-4.73100323842506, 51.69010418016548], [-4.730023067021765, 51.690152332898755], [-4.72904289561847, 51.69010418016548], [-4.7280721638016034, 51.68996018570279], [-4.727120220249221, 51.68972173625608], [-4.726196232698114, 51.68939112822387], [-4.725309099653505, 51.68897154554224], [-4.724467364691569, 51.68846702902178], [-4.723679134180129, 51.687882437432386], [-4.7229519992099, 51.68722340071062], [-4.722292962488138, 51.686496265740395], [-4.72170837089874, 51.685708035228956], [-4.721203854378282, 51.68486630026702], [-4.720784271696652, 51.68397916722241], [-4.720453663664443, 51.6830551796713], [-4.720215214217733, 51.68210323611892], [-4.720071219755043, 51.681132504302056], [-4.720023067021765, 51.68015233289876]]], &quot;type&quot;: &quot;Polygon&quot;}, &quot;id&quot;: &quot;12&quot;, &quot;properties&quot;: {&quot;id&quot;: 26, &quot;pt_id&quot;: 13}, &quot;type&quot;: &quot;Feature&quot;}, {&quot;bbox&quot;: [6.7138768135781905, 50.92489340914344, 6.73387681357819, 50.94489340914344], &quot;geometry&quot;: {&quot;coordinates&quot;: [[[6.73387681357819, 50.93489340914344], [6.733828660844912, 50.93391323774014], [6.7336846663822225, 50.93294250592328], [6.733446216935512, 50.9319905623709], [6.7331156089033035, 50.93106657481979], [6.7326960262216735, 50.93017944177518], [6.732191509701216, 50.92933770681324], [6.731606918111818, 50.928549476301804], [6.730947881390056, 50.92782234133158], [6.7302207464198265, 50.92716330460981], [6.729432515908386, 50.92657871302042], [6.72859078094645, 50.92607419649996], [6.7277036479018415, 50.92565461381833], [6.726779660350735, 50.925324005786116], [6.725827716798352, 50.92508555633941], [6.724856984981486, 50.92494156187672], [6.72387681357819, 50.92489340914344], [6.722896642174895, 50.92494156187672], [6.721925910358029, 50.92508555633941], [6.720973966805646, 50.925324005786116], [6.720049979254539, 50.92565461381833], [6.71916284620993, 50.92607419649996], [6.718321111247994, 50.92657871302042], [6.717532880736554, 50.92716330460981], [6.716805745766325, 50.92782234133158], [6.716146709044563, 50.928549476301804], [6.715562117455165, 50.92933770681324], [6.715057600934707, 50.93017944177518], [6.714638018253077, 50.93106657481979], [6.714307410220869, 50.9319905623709], [6.714068960774158, 50.93294250592328], [6.713924966311469, 50.93391323774014], [6.7138768135781905, 50.93489340914344], [6.713924966311469, 50.93587358054674], [6.714068960774158, 50.936844312363604], [6.714307410220869, 50.937796255915984], [6.714638018253077, 50.938720243467095], [6.715057600934707, 50.9396073765117], [6.715562117455165, 50.94044911147364], [6.716146709044563, 50.94123734198508], [6.716805745766325, 50.941964476955306], [6.717532880736554, 50.94262351367707], [6.718321111247994, 50.943208105266464], [6.71916284620993, 50.94371262178692], [6.720049979254539, 50.94413220446855], [6.720973966805646, 50.94446281250077], [6.721925910358029, 50.94470126194747], [6.722896642174895, 50.94484525641016], [6.72387681357819, 50.94489340914344], [6.724856984981486, 50.94484525641016], [6.725827716798352, 50.94470126194747], [6.726779660350735, 50.94446281250077], [6.7277036479018415, 50.94413220446855], [6.72859078094645, 50.94371262178692], [6.729432515908386, 50.943208105266464], [6.7302207464198265, 50.94262351367707], [6.730947881390056, 50.941964476955306], [6.731606918111818, 50.94123734198508], [6.732191509701216, 50.94044911147364], [6.7326960262216735, 50.9396073765117], [6.7331156089033035, 50.938720243467095], [6.733446216935512, 50.937796255915984], [6.7336846663822225, 50.936844312363604], [6.733828660844912, 50.93587358054674], [6.73387681357819, 50.93489340914344]]], &quot;type&quot;: &quot;Polygon&quot;}, &quot;id&quot;: &quot;13&quot;, &quot;properties&quot;: {&quot;id&quot;: 27, &quot;pt_id&quot;: 14}, &quot;type&quot;: &quot;Feature&quot;}, {&quot;bbox&quot;: [-3.4738094142830067, 40.086427420178836, -3.453809414283007, 40.10642742017883], &quot;geometry&quot;: {&quot;coordinates&quot;: [[[-3.453809414283007, 40.096427420178834], [-3.4538575670162848, 40.095447248775535], [-3.4540015614789747, 40.09447651695867], [-3.454240010925685, 40.09352457340629], [-3.454570618957894, 40.09260058585518], [-3.4549902016395233, 40.09171345281057], [-3.4554947181599815, 40.090871717848636], [-3.4560793097493794, 40.090083487337196], [-3.4567383464711416, 40.08935635236697], [-3.4574654814413703, 40.088697315645206], [-3.458253711952811, 40.08811272405581], [-3.459095446914747, 40.087608207535354], [-3.459982579959356, 40.087188624853724], [-3.460906567510462, 40.08685801682151], [-3.4618585110628457, 40.086619567374804], [-3.462829242879711, 40.086475572912114], [-3.463809414283007, 40.086427420178836], [-3.4647895856863027, 40.086475572912114], [-3.465760317503168, 40.086619567374804], [-3.4667122610555516, 40.08685801682151], [-3.4676362486066576, 40.087188624853724], [-3.468523381651267, 40.087608207535354], [-3.469365116613203, 40.08811272405581], [-3.4701533471246435, 40.088697315645206], [-3.470880482094872, 40.08935635236697], [-3.4715395188166345, 40.090083487337196], [-3.4721241104060323, 40.090871717848636], [-3.4726286269264905, 40.09171345281057], [-3.4730482096081197, 40.09260058585518], [-3.473378817640329, 40.09352457340629], [-3.473617267087039, 40.09447651695867], [-3.473761261549729, 40.095447248775535], [-3.4738094142830067, 40.096427420178834], [-3.473761261549729, 40.09740759158213], [-3.473617267087039, 40.098378323399], [-3.473378817640329, 40.09933026695138], [-3.4730482096081197, 40.10025425450249], [-3.4726286269264905, 40.101141387547095], [-3.4721241104060323, 40.10198312250903], [-3.4715395188166345, 40.10277135302047], [-3.470880482094872, 40.1034984879907], [-3.4701533471246435, 40.10415752471246], [-3.469365116613203, 40.10474211630186], [-3.468523381651267, 40.105246632822315], [-3.4676362486066576, 40.105666215503945], [-3.4667122610555516, 40.10599682353616], [-3.465760317503168, 40.106235272982865], [-3.4647895856863027, 40.106379267445554], [-3.463809414283007, 40.10642742017883], [-3.462829242879711, 40.106379267445554], [-3.4618585110628457, 40.106235272982865], [-3.460906567510462, 40.10599682353616], [-3.459982579959356, 40.105666215503945], [-3.459095446914747, 40.105246632822315], [-3.458253711952811, 40.10474211630186], [-3.4574654814413703, 40.10415752471246], [-3.4567383464711416, 40.1034984879907], [-3.4560793097493794, 40.10277135302047], [-3.4554947181599815, 40.10198312250903], [-3.4549902016395233, 40.101141387547095], [-3.454570618957894, 40.10025425450249], [-3.454240010925685, 40.09933026695138], [-3.4540015614789747, 40.098378323399], [-3.4538575670162848, 40.09740759158213], [-3.453809414283007, 40.096427420178834]]], &quot;type&quot;: &quot;Polygon&quot;}, &quot;id&quot;: &quot;14&quot;, &quot;properties&quot;: {&quot;id&quot;: 28, &quot;pt_id&quot;: 15}, &quot;type&quot;: &quot;Feature&quot;}, {&quot;bbox&quot;: [5.886446208968975, 43.43185855072491, 5.906446208968974, 43.45185855072491], &quot;geometry&quot;: {&quot;coordinates&quot;: [[[5.906446208968974, 43.44185855072491], [5.906398056235696, 43.44087837932161], [5.906254061773007, 43.43990764750475], [5.906015612326296, 43.43895570395237], [5.905685004294088, 43.438031716401255], [5.905265421612458, 43.43714458335665], [5.904760905092, 43.43630284839471], [5.904176313502602, 43.43551461788327], [5.90351727678084, 43.434787482913045], [5.902790141810611, 43.43412844619128], [5.902001911299171, 43.433543854601886], [5.9011601763372346, 43.43303933808143], [5.900273043292626, 43.4326197553998], [5.899349055741519, 43.432289147367584], [5.898397112189136, 43.43205069792088], [5.89742638037227, 43.43190670345819], [5.896446208968975, 43.43185855072491], [5.895466037565679, 43.43190670345819], [5.894495305748813, 43.43205069792088], [5.89354336219643, 43.432289147367584], [5.8926193746453235, 43.4326197553998], [5.891732241600715, 43.43303933808143], [5.890890506638779, 43.433543854601886], [5.8901022761273385, 43.43412844619128], [5.889375141157109, 43.434787482913045], [5.888716104435347, 43.43551461788327], [5.888131512845949, 43.43630284839471], [5.8876269963254915, 43.43714458335665], [5.8872074136438615, 43.438031716401255], [5.886876805611653, 43.43895570395237], [5.8866383561649425, 43.43990764750475], [5.886494361702253, 43.44087837932161], [5.886446208968975, 43.44185855072491], [5.886494361702253, 43.44283872212821], [5.8866383561649425, 43.44380945394507], [5.886876805611653, 43.44476139749745], [5.8872074136438615, 43.44568538504856], [5.8876269963254915, 43.44657251809317], [5.888131512845949, 43.44741425305511], [5.888716104435347, 43.44820248356655], [5.889375141157109, 43.44892961853677], [5.8901022761273385, 43.44958865525854], [5.890890506638779, 43.45017324684793], [5.891732241600715, 43.45067776336839], [5.8926193746453235, 43.45109734605002], [5.89354336219643, 43.451427954082234], [5.894495305748813, 43.45166640352894], [5.895466037565679, 43.45181039799163], [5.896446208968975, 43.45185855072491], [5.89742638037227, 43.45181039799163], [5.898397112189136, 43.45166640352894], [5.899349055741519, 43.451427954082234], [5.900273043292626, 43.45109734605002], [5.9011601763372346, 43.45067776336839], [5.902001911299171, 43.45017324684793], [5.902790141810611, 43.44958865525854], [5.90351727678084, 43.44892961853677], [5.904176313502602, 43.44820248356655], [5.904760905092, 43.44741425305511], [5.905265421612458, 43.44657251809317], [5.905685004294088, 43.44568538504856], [5.906015612326296, 43.44476139749745], [5.906254061773007, 43.44380945394507], [5.906398056235696, 43.44283872212821], [5.906446208968974, 43.44185855072491]]], &quot;type&quot;: &quot;Polygon&quot;}, &quot;id&quot;: &quot;15&quot;, &quot;properties&quot;: {&quot;id&quot;: 30, &quot;pt_id&quot;: 16}, &quot;type&quot;: &quot;Feature&quot;}, {&quot;bbox&quot;: [12.553106206419175, 51.02231563278817, 12.573106206419174, 51.04231563278817], &quot;geometry&quot;: {&quot;coordinates&quot;: [[[12.573106206419174, 51.03231563278817], [12.573058053685896, 51.03133546138487], [12.572914059223207, 51.03036472956801], [12.572675609776496, 51.02941278601563], [12.572345001744287, 51.028488798464515], [12.571925419062659, 51.02760166541991], [12.5714209025422, 51.02675993045797], [12.570836310952801, 51.02597169994653], [12.57017727423104, 51.025244564976305], [12.56945013926081, 51.02458552825454], [12.568661908749371, 51.024000936665146], [12.567820173787435, 51.02349642014469], [12.566933040742825, 51.02307683746306], [12.566009053191719, 51.022746229430844], [12.565057109639335, 51.02250777998414], [12.56408637782247, 51.02236378552145], [12.563106206419175, 51.02231563278817], [12.56212603501588, 51.02236378552145], [12.561155303199014, 51.02250777998414], [12.56020335964663, 51.022746229430844], [12.559279372095524, 51.02307683746306], [12.558392239050914, 51.02349642014469], [12.557550504088978, 51.024000936665146], [12.556762273577538, 51.02458552825454], [12.556035138607308, 51.025244564976305], [12.555376101885548, 51.02597169994653], [12.554791510296148, 51.02675993045797], [12.55428699377569, 51.02760166541991], [12.553867411094062, 51.028488798464515], [12.553536803061853, 51.02941278601563], [12.553298353615142, 51.03036472956801], [12.553154359152453, 51.03133546138487], [12.553106206419175, 51.03231563278817], [12.553154359152453, 51.03329580419147], [12.553298353615142, 51.03426653600833], [12.553536803061853, 51.03521847956071], [12.553867411094062, 51.03614246711182], [12.55428699377569, 51.03702960015643], [12.554791510296148, 51.03787133511837], [12.555376101885548, 51.03865956562981], [12.556035138607308, 51.03938670060003], [12.556762273577538, 51.0400457373218], [12.557550504088978, 51.04063032891119], [12.558392239050914, 51.04113484543165], [12.559279372095524, 51.04155442811328], [12.56020335964663, 51.041885036145494], [12.561155303199014, 51.0421234855922], [12.56212603501588, 51.04226748005489], [12.563106206419175, 51.04231563278817], [12.56408637782247, 51.04226748005489], [12.565057109639335, 51.0421234855922], [12.566009053191719, 51.041885036145494], [12.566933040742825, 51.04155442811328], [12.567820173787435, 51.04113484543165], [12.568661908749371, 51.04063032891119], [12.56945013926081, 51.0400457373218], [12.57017727423104, 51.03938670060003], [12.570836310952801, 51.03865956562981], [12.5714209025422, 51.03787133511837], [12.571925419062659, 51.03702960015643], [12.572345001744287, 51.03614246711182], [12.572675609776496, 51.03521847956071], [12.572914059223207, 51.03426653600833], [12.573058053685896, 51.03329580419147], [12.573106206419174, 51.03231563278817]]], &quot;type&quot;: &quot;Polygon&quot;}, &quot;id&quot;: &quot;16&quot;, &quot;properties&quot;: {&quot;id&quot;: 31, &quot;pt_id&quot;: 17}, &quot;type&quot;: &quot;Feature&quot;}, {&quot;bbox&quot;: [13.768994902378564, 44.73860132489755, 13.788994902378564, 44.75860132489755], &quot;geometry&quot;: {&quot;coordinates&quot;: [[[13.788994902378564, 44.74860132489755], [13.788946749645286, 44.74762115349425], [13.788802755182596, 44.74665042167739], [13.788564305735886, 44.74569847812501], [13.788233697703676, 44.744774490573896], [13.787814115022048, 44.74388735752929], [13.78730959850159, 44.74304562256735], [13.78672500691219, 44.74225739205591], [13.78606597019043, 44.741530257085685], [13.7853388352202, 44.74087122036392], [13.78455060470876, 44.74028662877453], [13.783708869746825, 44.73978211225407], [13.782821736702214, 44.73936252957244], [13.781897749151108, 44.739031921540224], [13.780945805598725, 44.73879347209352], [13.77997507378186, 44.73864947763083], [13.778994902378564, 44.73860132489755], [13.778014730975269, 44.73864947763083], [13.777043999158403, 44.73879347209352], [13.77609205560602, 44.739031921540224], [13.775168068054914, 44.73936252957244], [13.774280935010303, 44.73978211225407], [13.773439200048367, 44.74028662877453], [13.772650969536928, 44.74087122036392], [13.771923834566698, 44.741530257085685], [13.771264797844937, 44.74225739205591], [13.770680206255538, 44.74304562256735], [13.77017568973508, 44.74388735752929], [13.769756107053452, 44.744774490573896], [13.769425499021242, 44.74569847812501], [13.769187049574532, 44.74665042167739], [13.769043055111842, 44.74762115349425], [13.768994902378564, 44.74860132489755], [13.769043055111842, 44.74958149630085], [13.769187049574532, 44.75055222811771], [13.769425499021242, 44.75150417167009], [13.769756107053452, 44.7524281592212], [13.77017568973508, 44.75331529226581], [13.770680206255538, 44.75415702722775], [13.771264797844937, 44.75494525773919], [13.771923834566698, 44.755672392709414], [13.772650969536928, 44.75633142943118], [13.773439200048367, 44.75691602102057], [13.774280935010303, 44.75742053754103], [13.775168068054914, 44.75784012022266], [13.77609205560602, 44.758170728254875], [13.777043999158403, 44.75840917770158], [13.778014730975269, 44.75855317216427], [13.778994902378564, 44.75860132489755], [13.77997507378186, 44.75855317216427], [13.780945805598725, 44.75840917770158], [13.781897749151108, 44.758170728254875], [13.782821736702214, 44.75784012022266], [13.783708869746825, 44.75742053754103], [13.78455060470876, 44.75691602102057], [13.7853388352202, 44.75633142943118], [13.78606597019043, 44.755672392709414], [13.78672500691219, 44.75494525773919], [13.78730959850159, 44.75415702722775], [13.787814115022048, 44.75331529226581], [13.788233697703676, 44.7524281592212], [13.788564305735886, 44.75150417167009], [13.788802755182596, 44.75055222811771], [13.788946749645286, 44.74958149630085], [13.788994902378564, 44.74860132489755]]], &quot;type&quot;: &quot;Polygon&quot;}, &quot;id&quot;: &quot;17&quot;, &quot;properties&quot;: {&quot;id&quot;: 32, &quot;pt_id&quot;: 18}, &quot;type&quot;: &quot;Feature&quot;}, {&quot;bbox&quot;: [5.81368624750606, 48.176553908146694, 5.833686247506059, 48.19655390814669], &quot;geometry&quot;: {&quot;coordinates&quot;: [[[5.833686247506059, 48.18655390814669], [5.833638094772781, 48.18557373674339], [5.833494100310092, 48.18460300492653], [5.833255650863381, 48.18365106137415], [5.832925042831173, 48.18272707382304], [5.832505460149543, 48.18183994077843], [5.832000943629085, 48.18099820581649], [5.831416352039687, 48.180209975305054], [5.830757315317925, 48.17948284033483], [5.830030180347696, 48.178823803613064], [5.8292419498362555, 48.17823921202367], [5.8284002148743195, 48.17773469550321], [5.827513081829711, 48.17731511282158], [5.826589094278604, 48.17698450478937], [5.825637150726221, 48.17674605534266], [5.824666418909355, 48.17660206087997], [5.82368624750606, 48.176553908146694], [5.822706076102764, 48.17660206087997], [5.821735344285898, 48.17674605534266], [5.820783400733515, 48.17698450478937], [5.819859413182408, 48.17731511282158], [5.8189722801378, 48.17773469550321], [5.818130545175864, 48.17823921202367], [5.817342314664423, 48.178823803613064], [5.816615179694194, 48.17948284033483], [5.815956142972432, 48.180209975305054], [5.815371551383034, 48.18099820581649], [5.814867034862576, 48.18183994077843], [5.814447452180946, 48.18272707382304], [5.814116844148738, 48.18365106137415], [5.813878394702027, 48.18460300492653], [5.813734400239338, 48.18557373674339], [5.81368624750606, 48.18655390814669], [5.813734400239338, 48.18753407954999], [5.813878394702027, 48.188504811366855], [5.814116844148738, 48.189456754919235], [5.814447452180946, 48.190380742470346], [5.814867034862576, 48.19126787551495], [5.815371551383034, 48.19210961047689], [5.815956142972432, 48.19289784098833], [5.816615179694194, 48.193624975958556], [5.817342314664423, 48.19428401268032], [5.818130545175864, 48.194868604269715], [5.8189722801378, 48.19537312079017], [5.819859413182408, 48.1957927034718], [5.820783400733515, 48.19612331150402], [5.821735344285898, 48.19636176095072], [5.822706076102764, 48.19650575541341], [5.82368624750606, 48.19655390814669], [5.824666418909355, 48.19650575541341], [5.825637150726221, 48.19636176095072], [5.826589094278604, 48.19612331150402], [5.827513081829711, 48.1957927034718], [5.8284002148743195, 48.19537312079017], [5.8292419498362555, 48.194868604269715], [5.830030180347696, 48.19428401268032], [5.830757315317925, 48.193624975958556], [5.831416352039687, 48.19289784098833], [5.832000943629085, 48.19210961047689], [5.832505460149543, 48.19126787551495], [5.832925042831173, 48.190380742470346], [5.833255650863381, 48.189456754919235], [5.833494100310092, 48.188504811366855], [5.833638094772781, 48.18753407954999], [5.833686247506059, 48.18655390814669]]], &quot;type&quot;: &quot;Polygon&quot;}, &quot;id&quot;: &quot;18&quot;, &quot;properties&quot;: {&quot;id&quot;: 35, &quot;pt_id&quot;: 19}, &quot;type&quot;: &quot;Feature&quot;}, {&quot;bbox&quot;: [17.78891646467136, 45.04641523233541, 17.808916464671363, 45.06641523233541], &quot;geometry&quot;: {&quot;coordinates&quot;: [[[17.808916464671363, 45.05641523233541], [17.808868311938085, 45.05543506093211], [17.808724317475395, 45.05446432911525], [17.808485868028683, 45.05351238556287], [17.808155259996475, 45.05258839801176], [17.807735677314845, 45.05170126496715], [17.807231160794387, 45.05085953000521], [17.80664656920499, 45.05007129949377], [17.805987532483226, 45.049344164523546], [17.805260397513, 45.04868512780178], [17.804472167001556, 45.04810053621239], [17.803630432039622, 45.04759601969193], [17.80274329899501, 45.0471764370103], [17.801819311443907, 45.046845828978086], [17.800867367891524, 45.04660737953138], [17.799896636074656, 45.04646338506869], [17.79891646467136, 45.04641523233541], [17.797936293268066, 45.04646338506869], [17.7969655614512, 45.04660737953138], [17.796013617898815, 45.046845828978086], [17.79508963034771, 45.0471764370103], [17.7942024973031, 45.04759601969193], [17.793360762341166, 45.04810053621239], [17.792572531829723, 45.04868512780178], [17.791845396859497, 45.049344164523546], [17.791186360137733, 45.05007129949377], [17.790601768548335, 45.05085953000521], [17.790097252027877, 45.05170126496715], [17.789677669346247, 45.05258839801176], [17.78934706131404, 45.05351238556287], [17.789108611867327, 45.05446432911525], [17.788964617404638, 45.05543506093211], [17.78891646467136, 45.05641523233541], [17.788964617404638, 45.05739540373871], [17.789108611867327, 45.05836613555557], [17.78934706131404, 45.05931807910795], [17.789677669346247, 45.060242066659065], [17.790097252027877, 45.06112919970367], [17.790601768548335, 45.06197093466561], [17.791186360137733, 45.06275916517705], [17.791845396859497, 45.063486300147275], [17.792572531829723, 45.06414533686904], [17.793360762341166, 45.06472992845843], [17.7942024973031, 45.06523444497889], [17.79508963034771, 45.06565402766052], [17.796013617898815, 45.065984635692736], [17.7969655614512, 45.06622308513944], [17.797936293268066, 45.06636707960213], [17.79891646467136, 45.06641523233541], [17.799896636074656, 45.06636707960213], [17.800867367891524, 45.06622308513944], [17.801819311443907, 45.065984635692736], [17.80274329899501, 45.06565402766052], [17.803630432039622, 45.06523444497889], [17.804472167001556, 45.06472992845843], [17.805260397513, 45.06414533686904], [17.805987532483226, 45.063486300147275], [17.80664656920499, 45.06275916517705], [17.807231160794387, 45.06197093466561], [17.807735677314845, 45.06112919970367], [17.808155259996475, 45.060242066659065], [17.808485868028683, 45.05931807910795], [17.808724317475395, 45.05836613555557], [17.808868311938085, 45.05739540373871], [17.808916464671363, 45.05641523233541]]], &quot;type&quot;: &quot;Polygon&quot;}, &quot;id&quot;: &quot;19&quot;, &quot;properties&quot;: {&quot;id&quot;: 41, &quot;pt_id&quot;: 20}, &quot;type&quot;: &quot;Feature&quot;}, {&quot;bbox&quot;: [0.326769704346818, 48.20062129963985, 0.34676970434681803, 48.220621299639845], &quot;geometry&quot;: {&quot;coordinates&quot;: [[[0.34676970434681803, 48.21062129963985], [0.34672155161354, 48.20964112823655], [0.3465775571508503, 48.208670396419684], [0.3463391077041401, 48.207718452867304], [0.34600849967193087, 48.20679446531619], [0.3455889169903016, 48.205907332271586], [0.34508440046984346, 48.20506559730965], [0.3444998088804454, 48.20427736679821], [0.34384077215868347, 48.20355023182798], [0.3431136371884545, 48.20289119510622], [0.34232540667701405, 48.202306603516824], [0.341483671715078, 48.201802086996366], [0.3405965386704689, 48.201382504314736], [0.3396725511193626, 48.20105189628252], [0.3387206075669793, 48.20081344683582], [0.3377498757501136, 48.20066945237313], [0.336769704346818, 48.20062129963985], [0.33578953294352243, 48.20066945237313], [0.33481880112665674, 48.20081344683582], [0.3338668575742734, 48.20105189628252], [0.33294287002316714, 48.201382504314736], [0.33205573697855806, 48.201802086996366], [0.331214002016622, 48.202306603516824], [0.33042577150518154, 48.20289119510622], [0.32969863653495257, 48.20355023182798], [0.32903959981319064, 48.20427736679821], [0.3284550082237926, 48.20506559730965], [0.32795049170333446, 48.205907332271586], [0.3275309090217052, 48.20679446531619], [0.32720030098949593, 48.207718452867304], [0.32696185154278573, 48.208670396419684], [0.32681785708009603, 48.20964112823655], [0.326769704346818, 48.21062129963985], [0.32681785708009603, 48.211601471043146], [0.32696185154278573, 48.21257220286001], [0.32720030098949593, 48.21352414641239], [0.3275309090217052, 48.2144481339635], [0.32795049170333446, 48.21533526700811], [0.3284550082237926, 48.216177001970046], [0.32903959981319064, 48.216965232481485], [0.32969863653495257, 48.21769236745171], [0.33042577150518154, 48.218351404173475], [0.331214002016622, 48.21893599576287], [0.33205573697855806, 48.21944051228333], [0.33294287002316714, 48.21986009496496], [0.3338668575742734, 48.22019070299717], [0.33481880112665674, 48.22042915244388], [0.33578953294352243, 48.22057314690657], [0.336769704346818, 48.220621299639845], [0.3377498757501136, 48.22057314690657], [0.3387206075669793, 48.22042915244388], [0.3396725511193626, 48.22019070299717], [0.3405965386704689, 48.21986009496496], [0.341483671715078, 48.21944051228333], [0.34232540667701405, 48.21893599576287], [0.3431136371884545, 48.218351404173475], [0.34384077215868347, 48.21769236745171], [0.3444998088804454, 48.216965232481485], [0.34508440046984346, 48.216177001970046], [0.3455889169903016, 48.21533526700811], [0.34600849967193087, 48.2144481339635], [0.3463391077041401, 48.21352414641239], [0.3465775571508503, 48.21257220286001], [0.34672155161354, 48.211601471043146], [0.34676970434681803, 48.21062129963985]]], &quot;type&quot;: &quot;Polygon&quot;}, &quot;id&quot;: &quot;20&quot;, &quot;properties&quot;: {&quot;id&quot;: 42, &quot;pt_id&quot;: 21}, &quot;type&quot;: &quot;Feature&quot;}, {&quot;bbox&quot;: [24.956391265000924, 42.49284296881323, 24.976391265000927, 42.512842968813224], &quot;geometry&quot;: {&quot;coordinates&quot;: [[[24.976391265000927, 42.502842968813226], [24.97634311226765, 42.50186279740993], [24.97619911780496, 42.500892065593064], [24.975960668358248, 42.499940122040684], [24.97563006032604, 42.49901613448957], [24.97521047764441, 42.498129001444966], [24.974705961123952, 42.49728726648303], [24.974121369534554, 42.49649903597159], [24.97346233281279, 42.49577190100136], [24.972735197842564, 42.4951128642796], [24.97194696733112, 42.494528272690204], [24.971105232369187, 42.494023756169746], [24.970218099324576, 42.493604173488116], [24.969294111773472, 42.4932735654559], [24.96834216822109, 42.493035116009196], [24.96737143640422, 42.492891121546506], [24.966391265000926, 42.49284296881323], [24.96541109359763, 42.492891121546506], [24.964440361780763, 42.493035116009196], [24.96348841822838, 42.4932735654559], [24.962564430677276, 42.493604173488116], [24.961677297632665, 42.494023756169746], [24.96083556267073, 42.494528272690204], [24.960047332159288, 42.4951128642796], [24.95932019718906, 42.49577190100136], [24.958661160467297, 42.49649903597159], [24.9580765688779, 42.49728726648303], [24.957572052357442, 42.498129001444966], [24.957152469675812, 42.49901613448957], [24.956821861643604, 42.499940122040684], [24.956583412196892, 42.500892065593064], [24.956439417734202, 42.50186279740993], [24.956391265000924, 42.502842968813226], [24.956439417734202, 42.503823140216525], [24.956583412196892, 42.50479387203339], [24.956821861643604, 42.50574581558577], [24.957152469675812, 42.50666980313688], [24.957572052357442, 42.50755693618149], [24.9580765688779, 42.508398671143425], [24.958661160467297, 42.509186901654864], [24.95932019718906, 42.50991403662509], [24.960047332159288, 42.510573073346855], [24.96083556267073, 42.51115766493625], [24.961677297632665, 42.51166218145671], [24.962564430677276, 42.51208176413834], [24.96348841822838, 42.51241237217055], [24.964440361780763, 42.51265082161726], [24.96541109359763, 42.512794816079946], [24.966391265000926, 42.512842968813224], [24.96737143640422, 42.512794816079946], [24.96834216822109, 42.51265082161726], [24.969294111773472, 42.51241237217055], [24.970218099324576, 42.51208176413834], [24.971105232369187, 42.51166218145671], [24.97194696733112, 42.51115766493625], [24.972735197842564, 42.510573073346855], [24.97346233281279, 42.50991403662509], [24.974121369534554, 42.509186901654864], [24.974705961123952, 42.508398671143425], [24.97521047764441, 42.50755693618149], [24.97563006032604, 42.50666980313688], [24.975960668358248, 42.50574581558577], [24.97619911780496, 42.50479387203339], [24.97634311226765, 42.503823140216525], [24.976391265000927, 42.502842968813226]]], &quot;type&quot;: &quot;Polygon&quot;}, &quot;id&quot;: &quot;21&quot;, &quot;properties&quot;: {&quot;id&quot;: 43, &quot;pt_id&quot;: 22}, &quot;type&quot;: &quot;Feature&quot;}, {&quot;bbox&quot;: [13.35912888007998, 52.73848732597937, 13.37912888007998, 52.75848732597937], &quot;geometry&quot;: {&quot;coordinates&quot;: [[[13.37912888007998, 52.74848732597937], [13.379080727346702, 52.74750715457607], [13.378936732884013, 52.746536422759206], [13.378698283437302, 52.745584479206826], [13.378367675405093, 52.744660491655715], [13.377948092723464, 52.74377335861111], [13.377443576203007, 52.74293162364917], [13.376858984613607, 52.74214339313773], [13.376199947891847, 52.741416258167504], [13.375472812921616, 52.74075722144574], [13.374684582410177, 52.740172629856346], [13.373842847448241, 52.73966811333589], [13.37295571440363, 52.73924853065426], [13.372031726852525, 52.73891792262204], [13.371079783300141, 52.73867947317534], [13.370109051483276, 52.73853547871265], [13.36912888007998, 52.73848732597937], [13.368148708676685, 52.73853547871265], [13.36717797685982, 52.73867947317534], [13.366226033307436, 52.73891792262204], [13.36530204575633, 52.73924853065426], [13.36441491271172, 52.73966811333589], [13.363573177749783, 52.740172629856346], [13.362784947238344, 52.74075722144574], [13.362057812268114, 52.741416258167504], [13.361398775546354, 52.74214339313773], [13.360814183956954, 52.74293162364917], [13.360309667436496, 52.74377335861111], [13.359890084754868, 52.744660491655715], [13.359559476722659, 52.745584479206826], [13.359321027275948, 52.746536422759206], [13.359177032813259, 52.74750715457607], [13.35912888007998, 52.74848732597937], [13.359177032813259, 52.74946749738267], [13.359321027275948, 52.75043822919953], [13.359559476722659, 52.75139017275191], [13.359890084754868, 52.75231416030302], [13.360309667436496, 52.75320129334763], [13.360814183956954, 52.75404302830957], [13.361398775546354, 52.75483125882101], [13.362057812268114, 52.75555839379123], [13.362784947238344, 52.756217430513], [13.363573177749783, 52.75680202210239], [13.36441491271172, 52.75730653862285], [13.36530204575633, 52.75772612130448], [13.366226033307436, 52.758056729336694], [13.36717797685982, 52.7582951787834], [13.368148708676685, 52.75843917324609], [13.36912888007998, 52.75848732597937], [13.370109051483276, 52.75843917324609], [13.371079783300141, 52.7582951787834], [13.372031726852525, 52.758056729336694], [13.37295571440363, 52.75772612130448], [13.373842847448241, 52.75730653862285], [13.374684582410177, 52.75680202210239], [13.375472812921616, 52.756217430513], [13.376199947891847, 52.75555839379123], [13.376858984613607, 52.75483125882101], [13.377443576203007, 52.75404302830957], [13.377948092723464, 52.75320129334763], [13.378367675405093, 52.75231416030302], [13.378698283437302, 52.75139017275191], [13.378936732884013, 52.75043822919953], [13.379080727346702, 52.74946749738267], [13.37912888007998, 52.74848732597937]]], &quot;type&quot;: &quot;Polygon&quot;}, &quot;id&quot;: &quot;22&quot;, &quot;properties&quot;: {&quot;id&quot;: 44, &quot;pt_id&quot;: 23}, &quot;type&quot;: &quot;Feature&quot;}, {&quot;bbox&quot;: [22.525906601901788, 46.90397761783367, 22.54590660190179, 46.923977617833664], &quot;geometry&quot;: {&quot;coordinates&quot;: [[[22.54590660190179, 46.913977617833666], [22.545858449168513, 46.91299744643037], [22.545714454705823, 46.9120267146135], [22.54547600525911, 46.911074771061124], [22.545145397226904, 46.91015078351001], [22.544725814545274, 46.909263650465405], [22.544221298024816, 46.90842191550347], [22.543636706435418, 46.90763368499203], [22.542977669713654, 46.9069065500218], [22.542250534743427, 46.90624751330004], [22.541462304231985, 46.90566292171064], [22.54062056927005, 46.905158405190186], [22.53973343622544, 46.904738822508556], [22.538809448674336, 46.90440821447634], [22.537857505121952, 46.904169765029636], [22.536886773305085, 46.904025770566946], [22.53590660190179, 46.90397761783367], [22.534926430498494, 46.904025770566946], [22.533955698681627, 46.904169765029636], [22.533003755129243, 46.90440821447634], [22.53207976757814, 46.904738822508556], [22.53119263453353, 46.905158405190186], [22.530350899571594, 46.90566292171064], [22.52956266906015, 46.90624751330004], [22.528835534089925, 46.9069065500218], [22.52817649736816, 46.90763368499203], [22.527591905778763, 46.90842191550347], [22.527087389258305, 46.909263650465405], [22.526667806576675, 46.91015078351001], [22.526337198544468, 46.911074771061124], [22.526098749097756, 46.9120267146135], [22.525954754635066, 46.91299744643037], [22.525906601901788, 46.913977617833666], [22.525954754635066, 46.914957789236965], [22.526098749097756, 46.91592852105383], [22.526337198544468, 46.91688046460621], [22.526667806576675, 46.91780445215732], [22.527087389258305, 46.91869158520193], [22.527591905778763, 46.919533320163865], [22.52817649736816, 46.920321550675304], [22.528835534089925, 46.92104868564553], [22.52956266906015, 46.921707722367294], [22.530350899571594, 46.92229231395669], [22.53119263453353, 46.92279683047715], [22.53207976757814, 46.92321641315878], [22.533003755129243, 46.92354702119099], [22.533955698681627, 46.9237854706377], [22.534926430498494, 46.923929465100386], [22.53590660190179, 46.923977617833664], [22.536886773305085, 46.923929465100386], [22.537857505121952, 46.9237854706377], [22.538809448674336, 46.92354702119099], [22.53973343622544, 46.92321641315878], [22.54062056927005, 46.92279683047715], [22.541462304231985, 46.92229231395669], [22.542250534743427, 46.921707722367294], [22.542977669713654, 46.92104868564553], [22.543636706435418, 46.920321550675304], [22.544221298024816, 46.919533320163865], [22.544725814545274, 46.91869158520193], [22.545145397226904, 46.91780445215732], [22.54547600525911, 46.91688046460621], [22.545714454705823, 46.91592852105383], [22.545858449168513, 46.914957789236965], [22.54590660190179, 46.913977617833666]]], &quot;type&quot;: &quot;Polygon&quot;}, &quot;id&quot;: &quot;23&quot;, &quot;properties&quot;: {&quot;id&quot;: 48, &quot;pt_id&quot;: 24}, &quot;type&quot;: &quot;Feature&quot;}], &quot;type&quot;: &quot;FeatureCollection&quot;});\n",
       "\n",
       "        \n",
       "    \n",
       "    geo_json_4ac61d67d37b50ae060d6dd923d3b5b4.bindTooltip(\n",
       "    function(layer){\n",
       "    let div = L.DomUtil.create(&#x27;div&#x27;);\n",
       "    \n",
       "    let handleObject = feature=&gt;typeof(feature)==&#x27;object&#x27; ? JSON.stringify(feature) : feature;\n",
       "    let fields = [&quot;id&quot;, &quot;pt_id&quot;];\n",
       "    let aliases = [&quot;id&quot;, &quot;pt_id&quot;];\n",
       "    let table = &#x27;&lt;table&gt;&#x27; +\n",
       "        String(\n",
       "        fields.map(\n",
       "        (v,i)=&gt;\n",
       "        `&lt;tr&gt;\n",
       "            &lt;th&gt;${aliases[i]}&lt;/th&gt;\n",
       "            \n",
       "            &lt;td&gt;${handleObject(layer.feature.properties[v])}&lt;/td&gt;\n",
       "        &lt;/tr&gt;`).join(&#x27;&#x27;))\n",
       "    +&#x27;&lt;/table&gt;&#x27;;\n",
       "    div.innerHTML=table;\n",
       "    \n",
       "    return div\n",
       "    }\n",
       "    ,{&quot;className&quot;: &quot;foliumtooltip&quot;, &quot;sticky&quot;: true});\n",
       "                     \n",
       "    \n",
       "            geo_json_4ac61d67d37b50ae060d6dd923d3b5b4.addTo(map_ad7e08ec283f42d4b008099f3ee69d09);\n",
       "        \n",
       "    \n",
       "        function geo_json_02f9910aa8fe8f19b1e41948d8b3028b_styler(feature) {\n",
       "            switch(feature.id) {\n",
       "                default:\n",
       "                    return {&quot;color&quot;: &quot;red&quot;, &quot;fillColor&quot;: &quot;red&quot;, &quot;fillOpacity&quot;: 0.5, &quot;weight&quot;: 2};\n",
       "            }\n",
       "        }\n",
       "        function geo_json_02f9910aa8fe8f19b1e41948d8b3028b_highlighter(feature) {\n",
       "            switch(feature.id) {\n",
       "                default:\n",
       "                    return {&quot;fillOpacity&quot;: 0.75};\n",
       "            }\n",
       "        }\n",
       "        function geo_json_02f9910aa8fe8f19b1e41948d8b3028b_pointToLayer(feature, latlng) {\n",
       "            var opts = {&quot;bubblingMouseEvents&quot;: true, &quot;color&quot;: &quot;#3388ff&quot;, &quot;dashArray&quot;: null, &quot;dashOffset&quot;: null, &quot;fill&quot;: true, &quot;fillColor&quot;: &quot;#3388ff&quot;, &quot;fillOpacity&quot;: 0.2, &quot;fillRule&quot;: &quot;evenodd&quot;, &quot;lineCap&quot;: &quot;round&quot;, &quot;lineJoin&quot;: &quot;round&quot;, &quot;opacity&quot;: 1.0, &quot;radius&quot;: 2, &quot;stroke&quot;: true, &quot;weight&quot;: 3};\n",
       "            \n",
       "            let style = geo_json_02f9910aa8fe8f19b1e41948d8b3028b_styler(feature)\n",
       "            Object.assign(opts, style)\n",
       "            \n",
       "            return new L.CircleMarker(latlng, opts)\n",
       "        }\n",
       "\n",
       "        function geo_json_02f9910aa8fe8f19b1e41948d8b3028b_onEachFeature(feature, layer) {\n",
       "            layer.on({\n",
       "                mouseout: function(e) {\n",
       "                    if(typeof e.target.setStyle === &quot;function&quot;){\n",
       "                            geo_json_02f9910aa8fe8f19b1e41948d8b3028b.resetStyle(e.target);\n",
       "                    }\n",
       "                },\n",
       "                mouseover: function(e) {\n",
       "                    if(typeof e.target.setStyle === &quot;function&quot;){\n",
       "                        const highlightStyle = geo_json_02f9910aa8fe8f19b1e41948d8b3028b_highlighter(e.target.feature)\n",
       "                        e.target.setStyle(highlightStyle);\n",
       "                    }\n",
       "                },\n",
       "            });\n",
       "        };\n",
       "        var geo_json_02f9910aa8fe8f19b1e41948d8b3028b = L.geoJson(null, {\n",
       "                onEachFeature: geo_json_02f9910aa8fe8f19b1e41948d8b3028b_onEachFeature,\n",
       "            \n",
       "                style: geo_json_02f9910aa8fe8f19b1e41948d8b3028b_styler,\n",
       "                pointToLayer: geo_json_02f9910aa8fe8f19b1e41948d8b3028b_pointToLayer,\n",
       "        });\n",
       "\n",
       "        function geo_json_02f9910aa8fe8f19b1e41948d8b3028b_add (data) {\n",
       "            geo_json_02f9910aa8fe8f19b1e41948d8b3028b\n",
       "                .addData(data);\n",
       "        }\n",
       "            geo_json_02f9910aa8fe8f19b1e41948d8b3028b_add({&quot;bbox&quot;: [-6.528121246822126, 39.310350374262406, 27.555029830308385, 53.15555021709921], &quot;features&quot;: [{&quot;bbox&quot;: [8.481383388733258, 49.84437017219194, 8.501383388733258, 49.86437017219193], &quot;geometry&quot;: {&quot;coordinates&quot;: [[[8.501383388733258, 49.84437017219194], [8.501383388733258, 49.86437017219193], [8.481383388733258, 49.86437017219193], [8.481383388733258, 49.84437017219194], [8.501383388733258, 49.84437017219194]]], &quot;type&quot;: &quot;Polygon&quot;}, &quot;id&quot;: &quot;0&quot;, &quot;properties&quot;: {&quot;__folium_color&quot;: &quot;red&quot;, &quot;id&quot;: 1, &quot;pt_id&quot;: 1}, &quot;type&quot;: &quot;Feature&quot;}, {&quot;bbox&quot;: [8.402773153496353, 53.135550217099215, 8.422773153496353, 53.15555021709921], &quot;geometry&quot;: {&quot;coordinates&quot;: [[[8.422773153496353, 53.135550217099215], [8.422773153496353, 53.15555021709921], [8.402773153496353, 53.15555021709921], [8.402773153496353, 53.135550217099215], [8.422773153496353, 53.135550217099215]]], &quot;type&quot;: &quot;Polygon&quot;}, &quot;id&quot;: &quot;1&quot;, &quot;properties&quot;: {&quot;__folium_color&quot;: &quot;red&quot;, &quot;id&quot;: 3, &quot;pt_id&quot;: 2}, &quot;type&quot;: &quot;Feature&quot;}, {&quot;bbox&quot;: [11.166778399392497, 50.00380142653234, 11.186778399392496, 50.02380142653234], &quot;geometry&quot;: {&quot;coordinates&quot;: [[[11.186778399392496, 50.00380142653234], [11.186778399392496, 50.02380142653234], [11.166778399392497, 50.02380142653234], [11.166778399392497, 50.00380142653234], [11.186778399392496, 50.00380142653234]]], &quot;type&quot;: &quot;Polygon&quot;}, &quot;id&quot;: &quot;2&quot;, &quot;properties&quot;: {&quot;__folium_color&quot;: &quot;red&quot;, &quot;id&quot;: 7, &quot;pt_id&quot;: 3}, &quot;type&quot;: &quot;Feature&quot;}, {&quot;bbox&quot;: [23.78724480625752, 40.05894472525313, 23.807244806257522, 40.07894472525312], &quot;geometry&quot;: {&quot;coordinates&quot;: [[[23.807244806257522, 40.05894472525313], [23.807244806257522, 40.07894472525312], [23.78724480625752, 40.07894472525312], [23.78724480625752, 40.05894472525313], [23.807244806257522, 40.05894472525313]]], &quot;type&quot;: &quot;Polygon&quot;}, &quot;id&quot;: &quot;3&quot;, &quot;properties&quot;: {&quot;__folium_color&quot;: &quot;red&quot;, &quot;id&quot;: 9, &quot;pt_id&quot;: 4}, &quot;type&quot;: &quot;Feature&quot;}, {&quot;bbox&quot;: [16.790197637816156, 48.978094737864616, 16.81019763781616, 48.99809473786461], &quot;geometry&quot;: {&quot;coordinates&quot;: [[[16.81019763781616, 48.978094737864616], [16.81019763781616, 48.99809473786461], [16.790197637816156, 48.99809473786461], [16.790197637816156, 48.978094737864616], [16.81019763781616, 48.978094737864616]]], &quot;type&quot;: &quot;Polygon&quot;}, &quot;id&quot;: &quot;4&quot;, &quot;properties&quot;: {&quot;__folium_color&quot;: &quot;red&quot;, &quot;id&quot;: 10, &quot;pt_id&quot;: 5}, &quot;type&quot;: &quot;Feature&quot;}, {&quot;bbox&quot;: [22.48203954581325, 42.35323653880471, 22.502039545813254, 42.373236538804704], &quot;geometry&quot;: {&quot;coordinates&quot;: [[[22.502039545813254, 42.35323653880471], [22.502039545813254, 42.373236538804704], [22.48203954581325, 42.373236538804704], [22.48203954581325, 42.35323653880471], [22.502039545813254, 42.35323653880471]]], &quot;type&quot;: &quot;Polygon&quot;}, &quot;id&quot;: &quot;5&quot;, &quot;properties&quot;: {&quot;__folium_color&quot;: &quot;red&quot;, &quot;id&quot;: 12, &quot;pt_id&quot;: 6}, &quot;type&quot;: &quot;Feature&quot;}, {&quot;bbox&quot;: [-6.528121246822126, 39.310350374262406, -6.508121246822126, 39.3303503742624], &quot;geometry&quot;: {&quot;coordinates&quot;: [[[-6.508121246822126, 39.310350374262406], [-6.508121246822126, 39.3303503742624], [-6.528121246822126, 39.3303503742624], [-6.528121246822126, 39.310350374262406], [-6.508121246822126, 39.310350374262406]]], &quot;type&quot;: &quot;Polygon&quot;}, &quot;id&quot;: &quot;6&quot;, &quot;properties&quot;: {&quot;__folium_color&quot;: &quot;red&quot;, &quot;id&quot;: 14, &quot;pt_id&quot;: 7}, &quot;type&quot;: &quot;Feature&quot;}, {&quot;bbox&quot;: [27.535029830308382, 40.222134752417496, 27.555029830308385, 40.24213475241749], &quot;geometry&quot;: {&quot;coordinates&quot;: [[[27.555029830308385, 40.222134752417496], [27.555029830308385, 40.24213475241749], [27.535029830308382, 40.24213475241749], [27.535029830308382, 40.222134752417496], [27.555029830308385, 40.222134752417496]]], &quot;type&quot;: &quot;Polygon&quot;}, &quot;id&quot;: &quot;7&quot;, &quot;properties&quot;: {&quot;__folium_color&quot;: &quot;red&quot;, &quot;id&quot;: 16, &quot;pt_id&quot;: 8}, &quot;type&quot;: &quot;Feature&quot;}, {&quot;bbox&quot;: [22.83505339669228, 41.466642291120436, 22.855053396692284, 41.48664229112043], &quot;geometry&quot;: {&quot;coordinates&quot;: [[[22.855053396692284, 41.466642291120436], [22.855053396692284, 41.48664229112043], [22.83505339669228, 41.48664229112043], [22.83505339669228, 41.466642291120436], [22.855053396692284, 41.466642291120436]]], &quot;type&quot;: &quot;Polygon&quot;}, &quot;id&quot;: &quot;8&quot;, &quot;properties&quot;: {&quot;__folium_color&quot;: &quot;red&quot;, &quot;id&quot;: 19, &quot;pt_id&quot;: 9}, &quot;type&quot;: &quot;Feature&quot;}, {&quot;bbox&quot;: [1.283856849082509, 44.30059119306229, 1.303856849082509, 44.320591193062285], &quot;geometry&quot;: {&quot;coordinates&quot;: [[[1.303856849082509, 44.30059119306229], [1.303856849082509, 44.320591193062285], [1.283856849082509, 44.320591193062285], [1.283856849082509, 44.30059119306229], [1.303856849082509, 44.30059119306229]]], &quot;type&quot;: &quot;Polygon&quot;}, &quot;id&quot;: &quot;9&quot;, &quot;properties&quot;: {&quot;__folium_color&quot;: &quot;red&quot;, &quot;id&quot;: 21, &quot;pt_id&quot;: 10}, &quot;type&quot;: &quot;Feature&quot;}, {&quot;bbox&quot;: [14.209172720242849, 51.09419066006902, 14.229172720242849, 51.11419066006901], &quot;geometry&quot;: {&quot;coordinates&quot;: [[[14.229172720242849, 51.09419066006902], [14.229172720242849, 51.11419066006901], [14.209172720242849, 51.11419066006901], [14.209172720242849, 51.09419066006902], [14.229172720242849, 51.09419066006902]]], &quot;type&quot;: &quot;Polygon&quot;}, &quot;id&quot;: &quot;10&quot;, &quot;properties&quot;: {&quot;__folium_color&quot;: &quot;red&quot;, &quot;id&quot;: 24, &quot;pt_id&quot;: 11}, &quot;type&quot;: &quot;Feature&quot;}, {&quot;bbox&quot;: [18.635450043222335, 49.34534207292801, 18.655450043222338, 49.36534207292801], &quot;geometry&quot;: {&quot;coordinates&quot;: [[[18.655450043222338, 49.34534207292801], [18.655450043222338, 49.36534207292801], [18.635450043222335, 49.36534207292801], [18.635450043222335, 49.34534207292801], [18.655450043222338, 49.34534207292801]]], &quot;type&quot;: &quot;Polygon&quot;}, &quot;id&quot;: &quot;11&quot;, &quot;properties&quot;: {&quot;__folium_color&quot;: &quot;red&quot;, &quot;id&quot;: 25, &quot;pt_id&quot;: 12}, &quot;type&quot;: &quot;Feature&quot;}, {&quot;bbox&quot;: [-4.740023067021765, 51.67015233289876, -4.720023067021765, 51.690152332898755], &quot;geometry&quot;: {&quot;coordinates&quot;: [[[-4.720023067021765, 51.67015233289876], [-4.720023067021765, 51.690152332898755], [-4.740023067021765, 51.690152332898755], [-4.740023067021765, 51.67015233289876], [-4.720023067021765, 51.67015233289876]]], &quot;type&quot;: &quot;Polygon&quot;}, &quot;id&quot;: &quot;12&quot;, &quot;properties&quot;: {&quot;__folium_color&quot;: &quot;red&quot;, &quot;id&quot;: 26, &quot;pt_id&quot;: 13}, &quot;type&quot;: &quot;Feature&quot;}, {&quot;bbox&quot;: [6.7138768135781905, 50.92489340914344, 6.73387681357819, 50.94489340914344], &quot;geometry&quot;: {&quot;coordinates&quot;: [[[6.73387681357819, 50.92489340914344], [6.73387681357819, 50.94489340914344], [6.7138768135781905, 50.94489340914344], [6.7138768135781905, 50.92489340914344], [6.73387681357819, 50.92489340914344]]], &quot;type&quot;: &quot;Polygon&quot;}, &quot;id&quot;: &quot;13&quot;, &quot;properties&quot;: {&quot;__folium_color&quot;: &quot;red&quot;, &quot;id&quot;: 27, &quot;pt_id&quot;: 14}, &quot;type&quot;: &quot;Feature&quot;}, {&quot;bbox&quot;: [-3.4738094142830067, 40.086427420178836, -3.453809414283007, 40.10642742017883], &quot;geometry&quot;: {&quot;coordinates&quot;: [[[-3.453809414283007, 40.086427420178836], [-3.453809414283007, 40.10642742017883], [-3.4738094142830067, 40.10642742017883], [-3.4738094142830067, 40.086427420178836], [-3.453809414283007, 40.086427420178836]]], &quot;type&quot;: &quot;Polygon&quot;}, &quot;id&quot;: &quot;14&quot;, &quot;properties&quot;: {&quot;__folium_color&quot;: &quot;red&quot;, &quot;id&quot;: 28, &quot;pt_id&quot;: 15}, &quot;type&quot;: &quot;Feature&quot;}, {&quot;bbox&quot;: [5.886446208968975, 43.43185855072491, 5.906446208968974, 43.45185855072491], &quot;geometry&quot;: {&quot;coordinates&quot;: [[[5.906446208968974, 43.43185855072491], [5.906446208968974, 43.45185855072491], [5.886446208968975, 43.45185855072491], [5.886446208968975, 43.43185855072491], [5.906446208968974, 43.43185855072491]]], &quot;type&quot;: &quot;Polygon&quot;}, &quot;id&quot;: &quot;15&quot;, &quot;properties&quot;: {&quot;__folium_color&quot;: &quot;red&quot;, &quot;id&quot;: 30, &quot;pt_id&quot;: 16}, &quot;type&quot;: &quot;Feature&quot;}, {&quot;bbox&quot;: [12.553106206419175, 51.02231563278817, 12.573106206419174, 51.04231563278817], &quot;geometry&quot;: {&quot;coordinates&quot;: [[[12.573106206419174, 51.02231563278817], [12.573106206419174, 51.04231563278817], [12.553106206419175, 51.04231563278817], [12.553106206419175, 51.02231563278817], [12.573106206419174, 51.02231563278817]]], &quot;type&quot;: &quot;Polygon&quot;}, &quot;id&quot;: &quot;16&quot;, &quot;properties&quot;: {&quot;__folium_color&quot;: &quot;red&quot;, &quot;id&quot;: 31, &quot;pt_id&quot;: 17}, &quot;type&quot;: &quot;Feature&quot;}, {&quot;bbox&quot;: [13.768994902378564, 44.73860132489755, 13.788994902378564, 44.75860132489755], &quot;geometry&quot;: {&quot;coordinates&quot;: [[[13.788994902378564, 44.73860132489755], [13.788994902378564, 44.75860132489755], [13.768994902378564, 44.75860132489755], [13.768994902378564, 44.73860132489755], [13.788994902378564, 44.73860132489755]]], &quot;type&quot;: &quot;Polygon&quot;}, &quot;id&quot;: &quot;17&quot;, &quot;properties&quot;: {&quot;__folium_color&quot;: &quot;red&quot;, &quot;id&quot;: 32, &quot;pt_id&quot;: 18}, &quot;type&quot;: &quot;Feature&quot;}, {&quot;bbox&quot;: [5.81368624750606, 48.176553908146694, 5.833686247506059, 48.19655390814669], &quot;geometry&quot;: {&quot;coordinates&quot;: [[[5.833686247506059, 48.176553908146694], [5.833686247506059, 48.19655390814669], [5.81368624750606, 48.19655390814669], [5.81368624750606, 48.176553908146694], [5.833686247506059, 48.176553908146694]]], &quot;type&quot;: &quot;Polygon&quot;}, &quot;id&quot;: &quot;18&quot;, &quot;properties&quot;: {&quot;__folium_color&quot;: &quot;red&quot;, &quot;id&quot;: 35, &quot;pt_id&quot;: 19}, &quot;type&quot;: &quot;Feature&quot;}, {&quot;bbox&quot;: [17.78891646467136, 45.04641523233541, 17.808916464671363, 45.06641523233541], &quot;geometry&quot;: {&quot;coordinates&quot;: [[[17.808916464671363, 45.04641523233541], [17.808916464671363, 45.06641523233541], [17.78891646467136, 45.06641523233541], [17.78891646467136, 45.04641523233541], [17.808916464671363, 45.04641523233541]]], &quot;type&quot;: &quot;Polygon&quot;}, &quot;id&quot;: &quot;19&quot;, &quot;properties&quot;: {&quot;__folium_color&quot;: &quot;red&quot;, &quot;id&quot;: 41, &quot;pt_id&quot;: 20}, &quot;type&quot;: &quot;Feature&quot;}, {&quot;bbox&quot;: [0.326769704346818, 48.20062129963985, 0.34676970434681803, 48.220621299639845], &quot;geometry&quot;: {&quot;coordinates&quot;: [[[0.34676970434681803, 48.20062129963985], [0.34676970434681803, 48.220621299639845], [0.326769704346818, 48.220621299639845], [0.326769704346818, 48.20062129963985], [0.34676970434681803, 48.20062129963985]]], &quot;type&quot;: &quot;Polygon&quot;}, &quot;id&quot;: &quot;20&quot;, &quot;properties&quot;: {&quot;__folium_color&quot;: &quot;red&quot;, &quot;id&quot;: 42, &quot;pt_id&quot;: 21}, &quot;type&quot;: &quot;Feature&quot;}, {&quot;bbox&quot;: [24.956391265000924, 42.49284296881323, 24.976391265000927, 42.512842968813224], &quot;geometry&quot;: {&quot;coordinates&quot;: [[[24.976391265000927, 42.49284296881323], [24.976391265000927, 42.512842968813224], [24.956391265000924, 42.512842968813224], [24.956391265000924, 42.49284296881323], [24.976391265000927, 42.49284296881323]]], &quot;type&quot;: &quot;Polygon&quot;}, &quot;id&quot;: &quot;21&quot;, &quot;properties&quot;: {&quot;__folium_color&quot;: &quot;red&quot;, &quot;id&quot;: 43, &quot;pt_id&quot;: 22}, &quot;type&quot;: &quot;Feature&quot;}, {&quot;bbox&quot;: [13.35912888007998, 52.73848732597937, 13.37912888007998, 52.75848732597937], &quot;geometry&quot;: {&quot;coordinates&quot;: [[[13.37912888007998, 52.73848732597937], [13.37912888007998, 52.75848732597937], [13.35912888007998, 52.75848732597937], [13.35912888007998, 52.73848732597937], [13.37912888007998, 52.73848732597937]]], &quot;type&quot;: &quot;Polygon&quot;}, &quot;id&quot;: &quot;22&quot;, &quot;properties&quot;: {&quot;__folium_color&quot;: &quot;red&quot;, &quot;id&quot;: 44, &quot;pt_id&quot;: 23}, &quot;type&quot;: &quot;Feature&quot;}, {&quot;bbox&quot;: [22.525906601901788, 46.90397761783367, 22.54590660190179, 46.923977617833664], &quot;geometry&quot;: {&quot;coordinates&quot;: [[[22.54590660190179, 46.90397761783367], [22.54590660190179, 46.923977617833664], [22.525906601901788, 46.923977617833664], [22.525906601901788, 46.90397761783367], [22.54590660190179, 46.90397761783367]]], &quot;type&quot;: &quot;Polygon&quot;}, &quot;id&quot;: &quot;23&quot;, &quot;properties&quot;: {&quot;__folium_color&quot;: &quot;red&quot;, &quot;id&quot;: 48, &quot;pt_id&quot;: 24}, &quot;type&quot;: &quot;Feature&quot;}], &quot;type&quot;: &quot;FeatureCollection&quot;});\n",
       "\n",
       "        \n",
       "    \n",
       "    geo_json_02f9910aa8fe8f19b1e41948d8b3028b.bindTooltip(\n",
       "    function(layer){\n",
       "    let div = L.DomUtil.create(&#x27;div&#x27;);\n",
       "    \n",
       "    let handleObject = feature=&gt;typeof(feature)==&#x27;object&#x27; ? JSON.stringify(feature) : feature;\n",
       "    let fields = [&quot;id&quot;, &quot;pt_id&quot;];\n",
       "    let aliases = [&quot;id&quot;, &quot;pt_id&quot;];\n",
       "    let table = &#x27;&lt;table&gt;&#x27; +\n",
       "        String(\n",
       "        fields.map(\n",
       "        (v,i)=&gt;\n",
       "        `&lt;tr&gt;\n",
       "            &lt;th&gt;${aliases[i]}&lt;/th&gt;\n",
       "            \n",
       "            &lt;td&gt;${handleObject(layer.feature.properties[v])}&lt;/td&gt;\n",
       "        &lt;/tr&gt;`).join(&#x27;&#x27;))\n",
       "    +&#x27;&lt;/table&gt;&#x27;;\n",
       "    div.innerHTML=table;\n",
       "    \n",
       "    return div\n",
       "    }\n",
       "    ,{&quot;className&quot;: &quot;foliumtooltip&quot;, &quot;sticky&quot;: true});\n",
       "                     \n",
       "    \n",
       "            geo_json_02f9910aa8fe8f19b1e41948d8b3028b.addTo(map_ad7e08ec283f42d4b008099f3ee69d09);\n",
       "        \n",
       "&lt;/script&gt;\n",
       "&lt;/html&gt;\" width=\"100%\" height=\"300\"style=\"border:none !important;\" \"allowfullscreen\" \"webkitallowfullscreen\" \"mozallowfullscreen\"></iframe>"
      ],
      "text/plain": [
       "<folium.folium.Map at 0x7f4d4a3a1850>"
      ]
     },
     "execution_count": 7,
     "metadata": {},
     "output_type": "execute_result"
    }
   ],
   "source": [
    "import folium\n",
    "\n",
    "f = folium.Figure(height=300)\n",
    "m = folium.Map(location=[45.0, 10], zoom_start=4).add_to(f)\n",
    "random_pts.gdf.explore(m=m, height=400, color='green')\n",
    "random_pts.buffer.explore(m=m, height=400)\n",
    "random_pts.bbox.explore(m=m, height=400, color='red')"
   ]
  },
  {
   "cell_type": "markdown",
   "metadata": {
    "id": "wBDpvyb0y6ko"
   },
   "source": [
    "### 2.3. CRS management\n",
    "\n",
    "In order to request data on a STAC catalog, we need to provide the bounding box coordinates in Lat/Long, i.e the EPSG:4326. Then we also need to specify in which CRS we want to obtain the satellite time series. As we are working in Europe, one of the most appropriate CRS is the EPSG 3035 (ETRS89-extended).\n",
    "\n",
    "Here we calculate the coordinates in EPSG:4326 and EPSG:3035. Since there are several features (polygons), we keep the coordinates into a dataframe."
   ]
  },
  {
   "cell_type": "code",
   "execution_count": 8,
   "metadata": {
    "colab": {
     "base_uri": "https://localhost:8080/",
     "height": 206
    },
    "executionInfo": {
     "elapsed": 226,
     "status": "ok",
     "timestamp": 1738164908671,
     "user": {
      "displayName": "kose tetistraining",
      "userId": "06823399031118728700"
     },
     "user_tz": -60
    },
    "id": "fvx9nHWDjjyN",
    "outputId": "e37643e0-0906-47e0-d5d5-749ebc0677ee",
    "tags": []
   },
   "outputs": [
    {
     "data": {
      "text/html": [
       "<div>\n",
       "<style scoped>\n",
       "    .dataframe tbody tr th:only-of-type {\n",
       "        vertical-align: middle;\n",
       "    }\n",
       "\n",
       "    .dataframe tbody tr th {\n",
       "        vertical-align: top;\n",
       "    }\n",
       "\n",
       "    .dataframe thead th {\n",
       "        text-align: right;\n",
       "    }\n",
       "</style>\n",
       "<table border=\"1\" class=\"dataframe\">\n",
       "  <thead>\n",
       "    <tr style=\"text-align: right;\">\n",
       "      <th></th>\n",
       "      <th>bbox_4326</th>\n",
       "      <th>bbox_3035</th>\n",
       "      <th>bbox_tuple</th>\n",
       "    </tr>\n",
       "  </thead>\n",
       "  <tbody>\n",
       "    <tr>\n",
       "      <th>0</th>\n",
       "      <td>[8.481383388733258, 49.84437017219194, 8.50138...</td>\n",
       "      <td>[4211764.670013768, 2971302.3517032275, 421324...</td>\n",
       "      <td>([8.481383388733258, 49.84437017219194, 8.5013...</td>\n",
       "    </tr>\n",
       "    <tr>\n",
       "      <th>1</th>\n",
       "      <td>[8.402773153496353, 53.135550217099215, 8.4227...</td>\n",
       "      <td>[4214105.200943511, 3337504.924185555, 4215492...</td>\n",
       "      <td>([8.402773153496353, 53.135550217099215, 8.422...</td>\n",
       "    </tr>\n",
       "    <tr>\n",
       "      <th>2</th>\n",
       "      <td>[11.166778399392497, 50.00380142653234, 11.186...</td>\n",
       "      <td>[4404616.995128865, 2988598.266294405, 4406085...</td>\n",
       "      <td>([11.166778399392497, 50.00380142653234, 11.18...</td>\n",
       "    </tr>\n",
       "    <tr>\n",
       "      <th>3</th>\n",
       "      <td>[23.78724480625752, 40.05894472525313, 23.8072...</td>\n",
       "      <td>[5495790.682699846, 1992060.233281068, 5497840...</td>\n",
       "      <td>([23.78724480625752, 40.05894472525313, 23.807...</td>\n",
       "    </tr>\n",
       "    <tr>\n",
       "      <th>4</th>\n",
       "      <td>[16.790197637816156, 48.978094737864616, 16.81...</td>\n",
       "      <td>[4817203.221624014, 2896784.6045746827, 481886...</td>\n",
       "      <td>([16.790197637816156, 48.978094737864616, 16.8...</td>\n",
       "    </tr>\n",
       "  </tbody>\n",
       "</table>\n",
       "</div>"
      ],
      "text/plain": [
       "                                           bbox_4326  \\\n",
       "0  [8.481383388733258, 49.84437017219194, 8.50138...   \n",
       "1  [8.402773153496353, 53.135550217099215, 8.4227...   \n",
       "2  [11.166778399392497, 50.00380142653234, 11.186...   \n",
       "3  [23.78724480625752, 40.05894472525313, 23.8072...   \n",
       "4  [16.790197637816156, 48.978094737864616, 16.81...   \n",
       "\n",
       "                                           bbox_3035  \\\n",
       "0  [4211764.670013768, 2971302.3517032275, 421324...   \n",
       "1  [4214105.200943511, 3337504.924185555, 4215492...   \n",
       "2  [4404616.995128865, 2988598.266294405, 4406085...   \n",
       "3  [5495790.682699846, 1992060.233281068, 5497840...   \n",
       "4  [4817203.221624014, 2896784.6045746827, 481886...   \n",
       "\n",
       "                                          bbox_tuple  \n",
       "0  ([8.481383388733258, 49.84437017219194, 8.5013...  \n",
       "1  ([8.402773153496353, 53.135550217099215, 8.422...  \n",
       "2  ([11.166778399392497, 50.00380142653234, 11.18...  \n",
       "3  ([23.78724480625752, 40.05894472525313, 23.807...  \n",
       "4  ([16.790197637816156, 48.978094737864616, 16.8...  "
      ]
     },
     "execution_count": 8,
     "metadata": {},
     "output_type": "execute_result"
    }
   ],
   "source": [
    "# extraction of bbox coordinates in EPSG:4326\n",
    "bbox_latlong = pd.concat([random_pts.bbox, random_pts.bbox['geometry'].bounds], axis=1)\n",
    "bbox_latlong['bbox_4326'] = bbox_latlong[['minx', 'miny', 'maxx', 'maxy']].values.tolist()\n",
    "\n",
    "# extraction of bbox coordinates in EPSG:3035\n",
    "bbox_3035 = random_pts.bbox.to_crs(3035)\n",
    "test_3035_bounds = pd.concat([bbox_3035, bbox_3035['geometry'].bounds], axis=1)\n",
    "test_3035_bounds['bbox_3035'] = test_3035_bounds[['minx', 'miny', 'maxx', 'maxy']].values.tolist()\n",
    "\n",
    "# concatenation of both coordinates (EPSG:4326 + EPSG:3035)\n",
    "test_process = pd.concat([bbox_latlong['bbox_4326'], test_3035_bounds['bbox_3035']], axis=1)\n",
    "test_process['bbox_tuple'] = test_process.apply(lambda row: (row['bbox_4326'], row['bbox_3035']), axis=1)\n",
    "\n",
    "# quicklook of the output table\n",
    "test_process.head()"
   ]
  },
  {
   "cell_type": "markdown",
   "metadata": {
    "id": "RZ8CtvFHtH78"
   },
   "source": [
    "## 3. Multiprocessing approach\n",
    "\n",
    "### 3.1. How does it work?\n",
    "\n",
    "If you need to process several points or polygons, we recommand the use of `sits.Multiproc()` class. This class call in the background the `sits.stacAttack()` class, distributing the process through the available CPUs.\n",
    "\n",
    "You can tune the process with the `sits.Multiproc().addParams_*()` methods:\n",
    "\n",
    "*   `Multiproc().addParams_stacAttack()`: configure the `sits.stacAttack()` instance,\n",
    "*   `Multiproc().addParams_searchItems()`: configure the `sits.stacAttack.searchItems()` method,\n",
    "*   `Multiproc().addParams_loadCube()`: configure the `sits.stacAttack().loadCube()` method,\n",
    "*   `Multiproc().addParams_mask()`: configure the `sits.stacAttack().mask()` method.\n",
    "\n",
    "Then the `Multiproc().fetch_func()` calls `dask.delayed()` that is a function that defers execution of Python code, building a task graph for parallel computation. It turns functions/operations into lazy tasks. `Multiproc().dask_compute()` calls `dask.compute()` that schedules and runs efficiently (e.g., on multiple cores or a cluster) these operations.\n",
    "\n",
    "### 3.2. Producing images from the vector layer\n",
    "\n",
    "Here is an example of parallelization to produce images that have the same dimensions as the input bounding boxes (_see 'image' argument_). So the output images share only the same spatial resolution. The dimensions (size in x and y) will different.\n",
    "\n",
    "<p align=\"center\"><img src=\"img/fig_image.png\" alt=\"multiproc_image\" style=\"width:60%; height:auto;\"></p>\n",
    "<p align=\"center\">"
   ]
  },
  {
   "cell_type": "code",
   "execution_count": null,
   "metadata": {
    "colab": {
     "base_uri": "https://localhost:8080/"
    },
    "executionInfo": {
     "elapsed": 409682,
     "status": "ok",
     "timestamp": 1738168270835,
     "user": {
      "displayName": "kose tetistraining",
      "userId": "06823399031118728700"
     },
     "user_tz": -60
    },
    "id": "2wXfY_z_jjyN",
    "outputId": "98fad65a-c984-4563-e267-5d75baa2dca3",
    "tags": []
   },
   "outputs": [],
   "source": [
    "%%time\n",
    "\n",
    "multi = sits.Multiproc('image', 'nc', data_dir)\n",
    "\n",
    "multi.addParams_stacAttack(bands=['B03', 'B04', 'B08', 'SCL'])\n",
    "multi.addParams_searchItems(date_start=datetime(2024, 1, 1),\n",
    "                            date_end=datetime(2025, 1, 1),\n",
    "                            query={\"eo:cloud_cover\": {\"lt\": 10}})\n",
    "multi.addParams_loadCube(resolution=20)\n",
    "multi.addParams_mask(mask_values=[0, 1, 3, 8, 9, 10])\n",
    "\n",
    "for gid, i in enumerate(test_process['bbox_tuple'][:2]): # here we process only the two first images, remove or modify the slicing\n",
    "    multi.fetch_func(i[0], i[1], gid, mask=True, gapfill=True)\n",
    "multi.dask_compute();"
   ]
  },
  {
   "cell_type": "markdown",
   "metadata": {
    "id": "ww_Zjvx9391P"
   },
   "source": [
    "### 3.3. Producing patches from the vector layer\n",
    "\n",
    "It is also possible to specify the output image size. The option, called \"patch\", refers to a small, localized region or segment of an input image. These patches need to be of the same size in deep leaning models to ensure consistent processing, especially in architectures like convolutional neural networks (CNNs) or vision transformers (ViTs).\n",
    "\n",
    "<p align=\"center\"><img src=\"img/fig_patch.png\" alt=\"multiproc_patch\" style=\"width:60%; height:auto;\"></p>\n",
    "<p align=\"center\">"
   ]
  },
  {
   "cell_type": "code",
   "execution_count": null,
   "metadata": {
    "id": "-YudS0E8jjyN",
    "tags": []
   },
   "outputs": [],
   "source": [
    "%%time\n",
    "\n",
    "multi = sits.Multiproc('patch', 'nc', data_dir)\n",
    "\n",
    "multi.addParams_stacAttack(bands=['B03', 'B04', 'B08', 'SCL'])\n",
    "multi.addParams_searchItems(date_start=datetime(2024, 1, 1),\n",
    "                            date_end=datetime(2025, 2, 1),\n",
    "                            query={\"eo:cloud_cover\": {\"lt\": 10}})\n",
    "multi.addParams_loadCube(dimx=10, dimy=10, resolution=20)\n",
    "multi.addParams_mask()\n",
    "\n",
    "for gid, i in enumerate(test_process['bbox_tuple'][:2]): # here we process only the two first patches, remove or modify the slicing\n",
    "    multi.fetch_func(i[0], i[1], gid, mask=True, gapfill=True)\n",
    "multi.dask_compute();"
   ]
  }
 ],
 "metadata": {
  "colab": {
   "provenance": [
    {
     "file_id": "https://github.com/kenoz/SITS_utils/blob/main/examples/colab_sits_ex02.ipynb",
     "timestamp": 1738147041012
    }
   ]
  },
  "kernelspec": {
   "display_name": "Python 3 (ipykernel)",
   "language": "python",
   "name": "python3"
  },
  "language_info": {
   "codemirror_mode": {
    "name": "ipython",
    "version": 3
   },
   "file_extension": ".py",
   "mimetype": "text/x-python",
   "name": "python",
   "nbconvert_exporter": "python",
   "pygments_lexer": "ipython3",
   "version": "3.11.9"
  }
 },
 "nbformat": 4,
 "nbformat_minor": 4
}
