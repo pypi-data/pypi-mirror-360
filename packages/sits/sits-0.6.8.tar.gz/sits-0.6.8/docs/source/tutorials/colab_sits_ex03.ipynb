{
 "cells": [
  {
   "cell_type": "markdown",
   "metadata": {},
   "source": [
    "# **Spectral Indices**"
   ]
  },
  {
   "cell_type": "markdown",
   "metadata": {},
   "source": [
    "[![Open In Colab](https://colab.research.google.com/assets/colab-badge.svg)](https://colab.research.google.com/github/kenoz/SITS_utils/blob/main/docs/source/tutorials/colab_sits_ex03.ipynb)"
   ]
  },
  {
   "cell_type": "markdown",
   "metadata": {
    "id": "K2FIkbDYrq9l"
   },
   "source": [
    "---\n",
    "\n",
    "Using **Banc d'Arguin** as an example, we aim to **calculate one or more spectral indices**. To avoid reinventing the wheel, `sits` relies on the [spyndex](https://github.com/awesome-spectral-indices/spyndex) package. This package leverages spectral indices from the [Awesome Spectral Indices](https://github.com/awesome-spectral-indices/awesome-spectral-indices) list and provides an expression evaluation method compatible with Python object classes that support overloaded operators (e.g., `numpy.ndarray`, `pandas.Series`, `xarray.DataArray`).\n",
    "\n",
    "---\n",
    "\n",
    "## 1. Installation of SITS package and its depedencies\n",
    "\n",
    "First, install `sits` package with [pip](https://pypi.org/project/SITS/). We also need some other packages for displaying data."
   ]
  },
  {
   "cell_type": "code",
   "execution_count": null,
   "metadata": {
    "id": "xoL6NstiVcp9"
   },
   "outputs": [],
   "source": [
    "# SITS package\n",
    "!pip install -q --upgrade sits\n",
    "\n",
    "# other packages\n",
    "!pip install -q \"dask[dataframe]\""
   ]
  },
  {
   "cell_type": "markdown",
   "metadata": {
    "id": "OYAb0l91zqj4"
   },
   "source": [
    "Now we can import `sits` and some other libraries."
   ]
  },
  {
   "cell_type": "code",
   "execution_count": null,
   "metadata": {
    "executionInfo": {
     "elapsed": 8932,
     "status": "ok",
     "timestamp": 1737993800099,
     "user": {
      "displayName": "Kenji Ose",
      "userId": "04036279333112259084"
     },
     "user_tz": -60
    },
    "id": "neqafgGHWIkj"
   },
   "outputs": [],
   "source": [
    "import os\n",
    "# sits lib\n",
    "from sits import sits, export\n",
    "# geospatial libs\n",
    "import geopandas as gpd\n",
    "import pandas as pd\n",
    "import spyndex\n",
    "# date format\n",
    "from datetime import datetime\n",
    "# ignore warnings messages\n",
    "import warnings\n",
    "warnings.filterwarnings('ignore')"
   ]
  },
  {
   "cell_type": "markdown",
   "metadata": {},
   "source": [
    "## 2. Exploring spectral indices\n",
    "\n",
    "Scientific literature offers a wide array of **spectral indices** designed to reveal specific characteristics of objects or phenomena on the Earth's surface. The [**Awesome Spectral Indices**](https://awesome-ee-spectral-indices.readthedocs.io/en/latest/) (ASI) project, initiated in late 2021, catalogs these indices—both well-established and emerging—for **optical and radar** sensors. Each index is linked to a **standardized formula**, enabling consistent computation across imagery from various satellites. Furthermore, every index is accompanied by a scientific reference, ensuring transparency and traceability.\n",
    "\n",
    "The [**Spyndex**](https://spyndex.readthedocs.io/en/latest/) package provides seamless access to this library. It offers robust tools to **retrieve metadata** and efficiently **compute spectral indices**, streamlining their use in geospatial analyses.\n",
    "\n",
    "Reference:\n",
    "- Montero, D., Aybar, C., Mahecha, M.D. et al. A standardized catalogue of spectral indices to advance the use of remote sensing in Earth system research. *Sci Data* **10**, 197 (2023). https://doi.org/10.1038/s41597-023-02096-0\n",
    "\n",
    "### 2.1. Which indices? Which Spectral bands?\n",
    "\n",
    "Before loading satellite time series, we need to know which spectral indices we would like to calculate so that we can request the relevant spectral bands. First we list with Spyndex all the available indices."
   ]
  },
  {
   "cell_type": "code",
   "execution_count": null,
   "metadata": {
    "tags": []
   },
   "outputs": [],
   "source": [
    "idx_list = spyndex.indices\n",
    "\n",
    "print(f\"number of indices. {len(idx_list)}\")\n",
    "print(F\"---\\navailable indices:\")\n",
    "print(idx_list)"
   ]
  },
  {
   "cell_type": "markdown",
   "metadata": {},
   "source": [
    "To get details about an index, we can use the following spyndex attributes:\n",
    "- `spyndex.indices.[*index short name*]`: index's metadata\n",
    "- `spyndex.indices.[*index short name*].short_name`: Short name of the Spectral Index.\n",
    "- `spyndex.indices.[*index short name*].long_name`: Long name of the Spectral Index.\n",
    "- `spyndex.indices.[*index short name*].application_domain`: Required bands and parameters for the Spectral Index computation.\n",
    "- `spyndex.indices.[*index short name*].bands`: Required bands and parameters for the Spectral Index computation.\n",
    "- `spyndex.indices.[*index short name*].formula`: Formula (as expression) of the Spectral Index.\n",
    "- `spyndex.indices.[*index short name*].reference`: URL to the reference/DOI of the Spectral Index.\n",
    "- `spyndex.indices.[*index short name*].platforms`: Platforms with the required bands for the Spectral Index computation.\n",
    "\n",
    "For example, we explore here the quite unknown **NDVI**:"
   ]
  },
  {
   "cell_type": "code",
   "execution_count": null,
   "metadata": {
    "tags": []
   },
   "outputs": [],
   "source": [
    "print(f\"metadata:\\n{spyndex.indices.NDVI}\")\n",
    "\n",
    "print(f\"---\\n short name: {spyndex.indices.NDVI.short_name}\")\n",
    "print(f\"---\\n long name:{spyndex.indices.NDVI.long_name}\")\n",
    "print(f\"---\\n application domain: {spyndex.indices.NDVI.application_domain}\")\n",
    "print(f\"---\\n bands: {spyndex.indices.NDVI.bands}\")\n",
    "print(f\"---\\n formula: {spyndex.indices.NDVI.formula}\")\n",
    "print(f\"---\\n reference: {spyndex.indices.NDVI.reference}\")\n",
    "print(f\"---\\n platform: {spyndex.indices.NDVI.platforms}\")"
   ]
  },
  {
   "cell_type": "markdown",
   "metadata": {},
   "source": [
    "We will compute three spectral indices:\n",
    "\n",
    "- NDVI, \n",
    "- NDWI, and \n",
    "- BI\n",
    "\n",
    "All of which include accessible metadata, just like NDVI."
   ]
  },
  {
   "cell_type": "code",
   "execution_count": null,
   "metadata": {
    "tags": []
   },
   "outputs": [],
   "source": [
    "print(f\"NDWI metadata:\\n{spyndex.indices.NDWI}\")\n",
    "print(f\"EVI metadata:\\n{spyndex.indices.BI}\")"
   ]
  },
  {
   "cell_type": "markdown",
   "metadata": {},
   "source": [
    "### 2.2. Selection of spectral bands\n",
    "\n",
    "We search for all necessary spectral bands to calculate the indices. As the band names are standardized, we need to map them to the Sentinel-2 nomenclature."
   ]
  },
  {
   "cell_type": "code",
   "execution_count": null,
   "metadata": {
    "tags": []
   },
   "outputs": [],
   "source": [
    "common_bands = set()\n",
    "common_bands.update(spyndex.indices.NDVI.bands)\n",
    "common_bands.update(spyndex.indices.NDWI.bands)\n",
    "common_bands.update(spyndex.indices.BI.bands)\n",
    "\n",
    "print(\"We need to request the following bands:\")\n",
    "print(common_bands)"
   ]
  },
  {
   "cell_type": "markdown",
   "metadata": {},
   "source": [
    "Spyndex allows us to explore detailed information about spectral bands, including their corresponding names across different naming standards."
   ]
  },
  {
   "cell_type": "code",
   "execution_count": null,
   "metadata": {
    "tags": []
   },
   "outputs": [],
   "source": [
    "for band in common_bands:\n",
    "        print(f\"---\\nShort name of the Band: {spyndex.bands[band].short_name}\")\n",
    "        print(f\" - Description/Name of the Band: {spyndex.bands[band].long_name}\")\n",
    "        print(f\" - Common name of the Band according to the EO Ext. Specification for STAC.: {spyndex.bands[band].common_name}\")\n",
    "        print(f\" - Minimum wavelength of the spectral range of the band (nm): {spyndex.bands[band].min_wavelength}\")\n",
    "        print(f\" - Maximum wavelength of the spectral range of the band (nm): {spyndex.bands[band].max_wavelength}\")\n",
    "        print(f\" - Sentinel-2 band name: {spyndex.bands[band].sentinel2a.band}\")"
   ]
  },
  {
   "cell_type": "markdown",
   "metadata": {},
   "source": [
    "Unfortunately, the Sentinel-2 band names don’t align perfectly with those used in the STAC catalog of the Microsoft Planetary Computer, so we need to map them manually."
   ]
  },
  {
   "cell_type": "code",
   "execution_count": null,
   "metadata": {
    "tags": []
   },
   "outputs": [],
   "source": [
    "band_mapping = {'B': 'B02', 'G': 'B03', 'R': 'B04', 'N': 'B08', 'S1': 'B11'}"
   ]
  },
  {
   "cell_type": "markdown",
   "metadata": {
    "id": "o4n__qxr0Kqi"
   },
   "source": [
    "## 3. Loading the sentinel-2 time series\n",
    "\n",
    "### 3.1. Data loading\n",
    "\n",
    "The geojson vector file describing the position of the sandbank is stored in the [Github repository](https://github.com/kenoz/SITS_utils). We download it into our current workspace.  "
   ]
  },
  {
   "cell_type": "code",
   "execution_count": null,
   "metadata": {
    "executionInfo": {
     "elapsed": 218,
     "status": "ok",
     "timestamp": 1737993800315,
     "user": {
      "displayName": "Kenji Ose",
      "userId": "04036279333112259084"
     },
     "user_tz": -60
    },
    "id": "soIORtc8bGDd"
   },
   "outputs": [],
   "source": [
    "!mkdir -p test_data\n",
    "![ ! -f test_data/banc_arguin.geojson ] && wget https://raw.githubusercontent.com/kenoz/SITS_utils/refs/heads/main/data/banc_arguin.geojson -P test_data"
   ]
  },
  {
   "cell_type": "markdown",
   "metadata": {
    "id": "n0jbqcwQ1ppL"
   },
   "source": [
    "We load the vector file, named `banc_arguin.geojson`, as a geoDataFrame object with the `sits` method: `sits.Vec2gdf()`."
   ]
  },
  {
   "cell_type": "code",
   "execution_count": null,
   "metadata": {
    "colab": {
     "base_uri": "https://localhost:8080/",
     "height": 81
    },
    "executionInfo": {
     "elapsed": 697,
     "status": "ok",
     "timestamp": 1737993801010,
     "user": {
      "displayName": "Kenji Ose",
      "userId": "04036279333112259084"
     },
     "user_tz": -60
    },
    "id": "7MWDWpr7nxB3",
    "outputId": "cd939689-bad7-4b42-d469-a1a34f6a69ef"
   },
   "outputs": [],
   "source": [
    "data_dir = 'test_data'\n",
    "\n",
    "# Load vector\n",
    "v_arguin = sits.Vec2gdf(os.path.join(data_dir, 'banc_arguin.geojson'))\n",
    "\n",
    "# Define polygon bounding box\n",
    "v_arguin.set_bbox('gdf')\n",
    "\n",
    "# CRS management\n",
    "bbox_4326 = list(v_arguin.bbox.iloc[0]['geometry'].bounds)\n",
    "bbox_3035 = list(v_arguin.bbox.to_crs(3035).iloc[0]['geometry'].bounds)"
   ]
  },
  {
   "cell_type": "markdown",
   "metadata": {
    "id": "ipDQq-9jqWjo"
   },
   "source": [
    "### 3.2. Loading and preprocessing of a Satellite Image Time-Series (SITS)\n",
    "\n",
    "In this example, we have only one area (one polygon) to process. We use the class `sits.StacAttack` to request and preprocess the data. The request consists in retrieving Sentinel-2 images (level 2A) acquired from January 1, 2016 to January 1, 2025 with cloud cover less than 10%. Then we build a 4 bands geo-datacube ('B03', 'B04', 'B08' and 'SCL') in EPSG:3035 with a 20m spatial resolution."
   ]
  },
  {
   "cell_type": "code",
   "execution_count": null,
   "metadata": {
    "executionInfo": {
     "elapsed": 7130,
     "status": "ok",
     "timestamp": 1737993825234,
     "user": {
      "displayName": "Kenji Ose",
      "userId": "04036279333112259084"
     },
     "user_tz": -60
    },
    "id": "N8bn6ail-46F"
   },
   "outputs": [],
   "source": [
    "# instance of the class sits.StacAttack()\n",
    "ts_S2 = sits.StacAttack(provider='mpc',\n",
    "                        collection='sentinel-2-l2a',\n",
    "                        bands=['B02', 'B03', 'B04', 'B08', 'B11', 'SCL'])\n",
    "\n",
    "# search of items based on bbox coordinates and time interval criteria\n",
    "ts_S2.searchItems(bbox_4326,\n",
    "                  date_start=datetime(2016, 1, 1),\n",
    "                  date_end=datetime(2025, 1, 1),\n",
    "                  query={\"eo:cloud_cover\": {\"lt\": 10}}\n",
    "                 )\n",
    "# load of the time series in a lazy way\n",
    "ts_S2.loadCube(bbox_3035, resolution=20, crs_out=3035)\n",
    "\n",
    "ts_S2.cube"
   ]
  },
  {
   "cell_type": "markdown",
   "metadata": {
    "id": "wBDpvyb0y6ko"
   },
   "source": [
    "## 4. Computing spectral indices\n",
    "\n",
    "`Spyndex`’s index computation capabilities are directly embedded in the `sits` package via the `sits.StacAttack` class. Below, we demonstrate how to apply `sits` to compute one or more spectral indices from satellite time series data.\n",
    "\n",
    "### 4.1. Computing the NDVI\n",
    "\n",
    "The method `sits.StacAttack.spectral_index` allows us to compute one or more indices."
   ]
  },
  {
   "cell_type": "code",
   "execution_count": null,
   "metadata": {
    "tags": []
   },
   "outputs": [],
   "source": [
    "ts_S2.spectral_index('NDVI', band_mapping)"
   ]
  },
  {
   "cell_type": "markdown",
   "metadata": {},
   "source": [
    "Here, we produce a `xarray.Dataset` with **NDVI** as a variable."
   ]
  },
  {
   "cell_type": "code",
   "execution_count": null,
   "metadata": {
    "tags": []
   },
   "outputs": [],
   "source": [
    "ts_S2.indices"
   ]
  },
  {
   "cell_type": "markdown",
   "metadata": {},
   "source": [
    "The NDVI time series is plotted here with a sampling interval of 10 images. The index was derived directly from spectral bands, without masking or interpolating missing values."
   ]
  },
  {
   "cell_type": "code",
   "execution_count": null,
   "metadata": {
    "tags": []
   },
   "outputs": [],
   "source": [
    "ts_S2.indices.NDVI[8::10].plot.imshow(col_wrap=5, col=\"time\", cmap='viridis', robust=True, size=3)"
   ]
  },
  {
   "cell_type": "markdown",
   "metadata": {},
   "source": [
    "### 4.2. Computing a list of indices\n",
    "\n",
    "The `sits.StacAttack.spectral_index` method accepts a list of indices, allowing simultaneous computation of several spectral indices instead of just one.\n"
   ]
  },
  {
   "cell_type": "code",
   "execution_count": null,
   "metadata": {
    "tags": []
   },
   "outputs": [],
   "source": [
    "ts_S2.spectral_index(['NDVI', 'NDWI', 'BI'], band_mapping)"
   ]
  },
  {
   "cell_type": "markdown",
   "metadata": {},
   "source": [
    "Here, we produce a `xarray.Dataset` that stores indices as variables."
   ]
  },
  {
   "cell_type": "code",
   "execution_count": null,
   "metadata": {},
   "outputs": [],
   "source": [
    "ts_S2.indices"
   ]
  },
  {
   "cell_type": "markdown",
   "metadata": {},
   "source": [
    "The NDWI time series is plotted here with a sampling interval of 10 images. The index was derived directly from spectral bands, without masking or interpolating missing values."
   ]
  },
  {
   "cell_type": "code",
   "execution_count": null,
   "metadata": {
    "tags": []
   },
   "outputs": [],
   "source": [
    "ts_S2.indices.NDWI[8::10].plot.imshow(col_wrap=5, col=\"time\", cmap='viridis', robust=True, size=3)"
   ]
  },
  {
   "cell_type": "markdown",
   "metadata": {},
   "source": [
    "### 4.3. Saving Indices as a NetCDF file\n",
    "\n",
    "To save images, just write the following instruction:"
   ]
  },
  {
   "cell_type": "code",
   "execution_count": null,
   "metadata": {
    "tags": []
   },
   "outputs": [],
   "source": [
    "ts_S2.to_nc(data_dir, cube='indices')"
   ]
  },
  {
   "cell_type": "markdown",
   "metadata": {},
   "source": [
    "## 5. Spectral indices with multiprocessing\n",
    "### 5.1. Data loading\n",
    "\n",
    "The GeoJSON vector file, available in the [GitHub repository](https://github.com/kenoz/SITS_utils), contains 24 sampling points distributed across Europe. For a detailed explanation of the pre-processing steps, refer to the dedicated section in the [second notebook](https://colab.research.google.com/github/kenoz/SITS_utils/blob/main/docs/source/tutorials/colab_sits_ex02.ipynb)."
   ]
  },
  {
   "cell_type": "code",
   "execution_count": null,
   "metadata": {
    "tags": []
   },
   "outputs": [],
   "source": [
    "!mkdir -p test_data\n",
    "![ ! -f test_data/rand_pts.geojson ] && wget https://raw.githubusercontent.com/kenoz/SITS_utils/refs/heads/main/data/rand_pts.geojson -P test_data\n",
    "\n",
    "random_pts = sits.Vec2gdf(os.path.join(data_dir, 'rand_pts.geojson'))\n",
    "random_pts.gdf.head()\n",
    "\n",
    "# buffer distance of 0.01 degree (1.11 km approx.)\n",
    "random_pts.set_buffer('gdf', 0.01)\n",
    "\n",
    "# bbox of buffer polygon\n",
    "random_pts.set_bbox('buffer')\n",
    "\n",
    "# extraction of bbox coordinates in EPSG:4326\n",
    "bbox_latlong = pd.concat([random_pts.bbox, random_pts.bbox['geometry'].bounds], axis=1)\n",
    "bbox_latlong['bbox_4326'] = bbox_latlong[['minx', 'miny', 'maxx', 'maxy']].values.tolist()\n",
    "\n",
    "# extraction of bbox coordinates in EPSG:3035\n",
    "bbox_3035 = random_pts.bbox.to_crs(3035)\n",
    "test_3035_bounds = pd.concat([bbox_3035, bbox_3035['geometry'].bounds], axis=1)\n",
    "test_3035_bounds['bbox_3035'] = test_3035_bounds[['minx', 'miny', 'maxx', 'maxy']].values.tolist()\n",
    "\n",
    "# concatenation of both coordinates (EPSG:4326 + EPSG:3035)\n",
    "test_process = pd.concat([bbox_latlong['bbox_4326'], test_3035_bounds['bbox_3035']], axis=1)\n",
    "test_process['bbox_tuple'] = test_process.apply(lambda row: (row['bbox_4326'], row['bbox_3035']), axis=1)"
   ]
  },
  {
   "cell_type": "markdown",
   "metadata": {},
   "source": [
    "### 5.2. Producing indices patches from the vector layer\n",
    "\n",
    "To compute one or more spectral indices over patches, follow these steps:\n",
    "- Use `Multiproc().addParams_spectral_index()` to configure the `sits.stacAttack().spectral_index()` method.\n",
    "- Set the `indices` parameter to `True` when calling `Multiproc().fetch_func(i[0], i[1], gid, indices=True)`."
   ]
  },
  {
   "cell_type": "code",
   "execution_count": null,
   "metadata": {
    "tags": []
   },
   "outputs": [],
   "source": [
    "multi = sits.Multiproc('patch', 'nc', data_dir)\n",
    "\n",
    "multi.addParams_stacAttack(bands=['B02', 'B03', 'B04', 'B08', 'B11', 'SCL'])\n",
    "multi.addParams_searchItems(date_start=datetime(2024, 1, 1),\n",
    "                            date_end=datetime(2025, 2, 1),\n",
    "                            query={\"eo:cloud_cover\": {\"lt\": 10}})\n",
    "multi.addParams_loadCube(dimx=10, dimy=10, resolution=20)\n",
    "multi.addParams_spectral_index(['NDVI', 'NDWI', 'BI'], band_mapping)\n",
    "\n",
    "for gid, i in enumerate(test_process['bbox_tuple'][:2]): # here we process only the two first patches, remove or modify the slicing\n",
    "    multi.fetch_func(i[0], i[1], gid, indices=True)\n",
    "multi.dask_compute();"
   ]
  }
 ],
 "metadata": {
  "colab": {
   "authorship_tag": "ABX9TyOY/EdJvwMlIy0o+1iw6fTZ",
   "provenance": []
  },
  "kernelspec": {
   "display_name": "Python 3 (ipykernel)",
   "language": "python",
   "name": "python3"
  },
  "language_info": {
   "codemirror_mode": {
    "name": "ipython",
    "version": 3
   },
   "file_extension": ".py",
   "mimetype": "text/x-python",
   "name": "python",
   "nbconvert_exporter": "python",
   "pygments_lexer": "ipython3",
   "version": "3.11.9"
  }
 },
 "nbformat": 4,
 "nbformat_minor": 4
}
