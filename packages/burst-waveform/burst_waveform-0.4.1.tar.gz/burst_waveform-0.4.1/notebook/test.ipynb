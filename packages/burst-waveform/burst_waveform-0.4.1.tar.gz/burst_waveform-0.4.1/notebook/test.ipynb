{
 "cells": [
  {
   "cell_type": "code",
   "execution_count": 1,
   "outputs": [
    {
     "name": "stderr",
     "output_type": "stream",
     "text": [
      "/Users/yumengxu/miniforge3/envs/waveform/lib/python3.11/site-packages/lalsimulation/lalsimulation.py:8: UserWarning: Wswiglal-redir-stdio:\n",
      "\n",
      "SWIGLAL standard output/error redirection is enabled in IPython.\n",
      "This may lead to performance penalties. To disable locally, use:\n",
      "\n",
      "with lal.no_swig_redirect_standard_output_error():\n",
      "    ...\n",
      "\n",
      "To disable globally, use:\n",
      "\n",
      "lal.swig_redirect_standard_output_error(False)\n",
      "\n",
      "Note however that this will likely lead to error messages from\n",
      "LAL functions being either misdirected or lost when called from\n",
      "Jupyter notebooks.\n",
      "\n",
      "To suppress this warning, use:\n",
      "\n",
      "import warnings\n",
      "warnings.filterwarnings(\"ignore\", \"Wswiglal-redir-stdio\")\n",
      "import lal\n",
      "\n",
      "  import lal\n"
     ]
    },
    {
     "name": "stdout",
     "output_type": "stream",
     "text": [
      "The pyseobnr package has failed to load, you will not be able to employ SEOBNRv5 approximants.\n"
     ]
    }
   ],
   "source": [
    "import numpy as np\n",
    "\n",
    "\n",
    "class pySineGaussian:\n",
    "    def __init__(self, parameters):\n",
    "        \"\"\"\n",
    "        Initialize class. The ``parameters`` dictionary can\n",
    "        contain the following:\n",
    "\n",
    "        Parameters\n",
    "        ----------\n",
    "        waveform_dict: dict\n",
    "            Dictionary containing waveform parameters\n",
    "        model: str\n",
    "            Name of waveform model\n",
    "        \"\"\"\n",
    "        self.params = self._validate_params(parameters)\n",
    "\n",
    "    @staticmethod\n",
    "    def _validate_params(parameters):\n",
    "        default_params = {\n",
    "            \"amplitude\": 1.0,\n",
    "            \"frequency\": 100.0,\n",
    "            \"duration\": None,\n",
    "            \"delay\": 0.0,\n",
    "            \"sampling_rate\": 16384.0,\n",
    "        }\n",
    "\n",
    "        waveform_params = parameters.copy()\n",
    "        for key in default_params:\n",
    "            if key not in parameters:\n",
    "                waveform_params[key] = default_params[key]\n",
    "\n",
    "        if waveform_params[\"duration\"] is None:\n",
    "            raise ValueError(\"Duration is not specified\")\n",
    "\n",
    "        return waveform_params\n",
    "\n",
    "    def __call__(self):\n",
    "        return self._evaluate_model()\n",
    "\n",
    "    def _evaluate_model(self):\n",
    "        sample_rate = self.params[\"sampling_rate\"]\n",
    "        delay = self.params[\"delay\"]\n",
    "        duration = self.params[\"duration\"]\n",
    "        frequency = self.params[\"frequency\"]\n",
    "\n",
    "        m = int(6*duration*sample_rate)\n",
    "        if m > int(sample_rate)/2-1:\n",
    "            m = int(sample_rate)/2-2\n",
    "\n",
    "        t = np.arange(0, m, 1)/sample_rate\n",
    "        g = 2*np.exp(-t*t/2/duration/duration)*np.sin(2*np.pi*frequency*t)\n",
    "        sum = np.sum(g*g)\n",
    "\n",
    "        amplitude = self.params[\"amplitude\"]*np.sqrt(sample_rate/sum)\n",
    "\n",
    "        t = np.arange(1, m, 1)/sample_rate\n",
    "        g = amplitude*np.exp(-t*t/2/duration/duration)*np.sin(2*np.pi*frequency*t)\n",
    "\n",
    "        waveform = np.concatenate((-g[::-1], np.zeros(1), g))\n",
    "        return waveform\n",
    "\n",
    "\n",
    "class pySineGaussianQ(pySineGaussian):\n",
    "    def __init__(self, parameters):\n",
    "        \"\"\"\n",
    "        Initialize class. The ``parameters`` dictionary can\n",
    "        contain the following:\n",
    "\n",
    "        Parameters\n",
    "        ----------\n",
    "        waveform_dict: dict\n",
    "            Dictionary containing waveform parameters\n",
    "        model: str\n",
    "            Name of waveform model\n",
    "        \"\"\"\n",
    "        parameters = self._validate_params_SGQ(parameters)\n",
    "        super(pySineGaussianQ, self).__init__(parameters)\n",
    "\n",
    "    @staticmethod\n",
    "    def _validate_params_SGQ(parameters):\n",
    "        default_params = {\n",
    "            \"amplitude\": 1.0,\n",
    "            \"frequency\": None,\n",
    "            \"Q\": None,\n",
    "        }\n",
    "\n",
    "        waveform_params = parameters.copy()\n",
    "        for key in default_params:\n",
    "            if key not in parameters:\n",
    "                waveform_params[key] = default_params[key]\n",
    "\n",
    "        if waveform_params[\"frequency\"] is None:\n",
    "            raise ValueError(\"Frequency is not specified\")\n",
    "\n",
    "        if waveform_params[\"Q\"] is None:\n",
    "            raise ValueError(\"Q is not specified\")\n",
    "\n",
    "        waveform_params[\"duration\"] = waveform_params[\"Q\"] / (np.pi * 2 * waveform_params[\"frequency\"])\n",
    "\n",
    "        return waveform_params\n",
    "\n",
    "from lalsimulation.gwsignal.core.waveform import CompactBinaryCoalescenceGenerator\n",
    "from lalsimulation.gwsignal.core import gw as gw\n",
    "from gwpy.timeseries import TimeSeries\n",
    "\n",
    "class SineGaussianQ(CompactBinaryCoalescenceGenerator):\n",
    "    def __init__(self, **kwargs):\n",
    "        super(SineGaussianQ, self).__init__()\n",
    "        self.model = pySineGaussianQ\n",
    "        self._domain = \"time\"\n",
    "        self._implemented_domain = \"time\"\n",
    "        self._generation_domain = None\n",
    "\n",
    "    @property\n",
    "    def metadata(self):\n",
    "        metadata = {\n",
    "            \"type\": \"sine_gaussian\",\n",
    "            \"f_ref_spin\": False,\n",
    "            \"modes\": False,\n",
    "            \"polarizations\": True,\n",
    "            \"implemented_domain\": \"time\",\n",
    "            \"approximant\": \"SineGaussianQ\",\n",
    "            \"implementation\" : \"Python\",\n",
    "            \"conditioning_routines\" : 'gwsignal'\n",
    "        }\n",
    "        return metadata\n",
    "\n",
    "    def generate_td_modes(self, **parameters):\n",
    "        return 0\n",
    "\n",
    "    def generate_td_waveform(self, **parameters):\n",
    "\n",
    "        gen_wf = self.model(**parameters)\n",
    "        if self.waveform_dict.get(\"condition\"):\n",
    "            hp, hc = gen_wf()\n",
    "        else:\n",
    "            hp, hc = gen_wf()\n",
    "\n",
    "        hp = TimeSeries(hp, t0=0, sample_rate=parameters['sample_rate'])\n",
    "        hc = TimeSeries(hc, t0=0, sample_rate=parameters['sample_rate'])\n",
    "        return gw.GravitationalWavePolarizations(hp=hp, hc=hc)"
   ],
   "metadata": {
    "collapsed": false,
    "ExecuteTime": {
     "end_time": "2024-04-24T11:41:16.101622Z",
     "start_time": "2024-04-24T11:40:59.675492Z"
    }
   },
   "id": "e814bd746ec878c7"
  },
  {
   "cell_type": "code",
   "execution_count": 2,
   "outputs": [
    {
     "data": {
      "text/plain": "[<matplotlib.lines.Line2D at 0x17b7097d0>]"
     },
     "execution_count": 2,
     "metadata": {},
     "output_type": "execute_result"
    }
   ],
   "source": [
    "import matplotlib.pyplot as plt\n",
    "\n",
    "model = pySineGaussianQ({\n",
    "    \"amplitude\": 1.0,\n",
    "    \"frequency\": 300.0,\n",
    "    \"Q\": 9 \n",
    "})\n",
    "\n",
    "wave = model()\n",
    "\n",
    "plt.plot(wave)\n"
   ],
   "metadata": {
    "collapsed": false,
    "ExecuteTime": {
     "end_time": "2024-04-24T11:41:17.099340Z",
     "start_time": "2024-04-24T11:41:17.061955Z"
    }
   },
   "id": "cbd27e73f8d804bb"
  },
  {
   "cell_type": "code",
   "execution_count": 1,
   "outputs": [
    {
     "name": "stderr",
     "output_type": "stream",
     "text": [
      "/Users/yumengxu/miniforge3/envs/waveform/lib/python3.11/site-packages/lalsimulation/lalsimulation.py:8: UserWarning: Wswiglal-redir-stdio:\n",
      "\n",
      "SWIGLAL standard output/error redirection is enabled in IPython.\n",
      "This may lead to performance penalties. To disable locally, use:\n",
      "\n",
      "with lal.no_swig_redirect_standard_output_error():\n",
      "    ...\n",
      "\n",
      "To disable globally, use:\n",
      "\n",
      "lal.swig_redirect_standard_output_error(False)\n",
      "\n",
      "Note however that this will likely lead to error messages from\n",
      "LAL functions being either misdirected or lost when called from\n",
      "Jupyter notebooks.\n",
      "\n",
      "To suppress this warning, use:\n",
      "\n",
      "import warnings\n",
      "warnings.filterwarnings(\"ignore\", \"Wswiglal-redir-stdio\")\n",
      "import lal\n",
      "\n",
      "  import lal\n"
     ]
    },
    {
     "name": "stdout",
     "output_type": "stream",
     "text": [
      "The pyseobnr package has failed to load, you will not be able to employ SEOBNRv5 approximants.\n",
      "{'amplitude': 1.0, 'object': 'SineGaussianQ', 'module': 'burst_waveform.generate_waveform', 'Q': 9, 'frequency': 300.0}\n",
      "{'amplitude': 1.0, 'object': 'SineGaussianQ', 'module': 'burst_waveform.generate_waveform', 'Q': 9, 'frequency': 300.0, 'duration': 0.004774648292756861}\n"
     ]
    }
   ],
   "source": [
    "import lalsimulation.gwsignal.core.waveform as wfm\n",
    "import lalsimulation as lalsim\n",
    "import lal\n",
    "\n",
    "python_dict_nrsur = {\n",
    "    \"amplitude\": 1.0,\n",
    "    \"frequency\": 300.0,\n",
    "    \"Q\": 9\n",
    "}\n",
    "\n",
    "\n",
    "lal_dict = lalsim.gwsignal.core.utils.to_lal_dict(python_dict_nrsur)\n",
    "lal_approximant = lalsim.ExternalPython\n",
    "\n",
    "lal.DictInsertStringValue(lal_dict, \"module\", 'burst_waveform.generate_waveform')\n",
    "lal.DictInsertStringValue(lal_dict, \"object\", 'SineGaussianQ')\n",
    "\n",
    "generator = lalsim.SimInspiralChooseGenerator(lal_approximant, lal_dict)\n",
    "\n",
    "hp, hc = lalsim.SimInspiralGenerateTDWaveform(lal_dict, generator)"
   ],
   "metadata": {
    "collapsed": false,
    "ExecuteTime": {
     "end_time": "2024-04-24T11:59:55.968851Z",
     "start_time": "2024-04-24T11:59:52.998945Z"
    }
   },
   "id": "385d47a199a1ca56"
  },
  {
   "cell_type": "code",
   "execution_count": 2,
   "outputs": [
    {
     "name": "stderr",
     "output_type": "stream",
     "text": [
      "XLAL Error - initialize (LALSimInspiralGeneratorPython.c:18): Python generator not implemented\n",
      "XLAL Error - initialize (LALSimInspiralGeneratorPython.c:18): Invalid argument\n",
      "XLAL Error - XLALCreateSimInspiralGenerator (LALSimInspiral.c:426): Internal function call failed: Invalid argument\n"
     ]
    },
    {
     "ename": "RuntimeError",
     "evalue": "Internal function call failed: Invalid argument",
     "output_type": "error",
     "traceback": [
      "\u001B[0;31m---------------------------------------------------------------------------\u001B[0m",
      "\u001B[0;31mRuntimeError\u001B[0m                              Traceback (most recent call last)",
      "Cell \u001B[0;32mIn[2], line 10\u001B[0m\n\u001B[1;32m      7\u001B[0m lal\u001B[38;5;241m.\u001B[39mDictInsertStringValue(lal_dict, \u001B[38;5;124m\"\u001B[39m\u001B[38;5;124mmodule\u001B[39m\u001B[38;5;124m\"\u001B[39m, \u001B[38;5;124m'\u001B[39m\u001B[38;5;124mrandom_module\u001B[39m\u001B[38;5;124m'\u001B[39m)\n\u001B[1;32m      8\u001B[0m lal\u001B[38;5;241m.\u001B[39mDictInsertStringValue(lal_dict, \u001B[38;5;124m\"\u001B[39m\u001B[38;5;124mobject\u001B[39m\u001B[38;5;124m\"\u001B[39m, \u001B[38;5;124m'\u001B[39m\u001B[38;5;124mrandom_object\u001B[39m\u001B[38;5;124m'\u001B[39m)\n\u001B[0;32m---> 10\u001B[0m generator \u001B[38;5;241m=\u001B[39m \u001B[43mlalsim\u001B[49m\u001B[38;5;241;43m.\u001B[39;49m\u001B[43mSimInspiralChooseGenerator\u001B[49m\u001B[43m(\u001B[49m\u001B[43mlal_approximant\u001B[49m\u001B[43m,\u001B[49m\u001B[43m \u001B[49m\u001B[43mlal_dict\u001B[49m\u001B[43m)\u001B[49m\n\u001B[1;32m     12\u001B[0m hp, hc \u001B[38;5;241m=\u001B[39m lalsim\u001B[38;5;241m.\u001B[39mSimInspiralGenerateFDWaveform(lal_dict, generator)\n",
      "\u001B[0;31mRuntimeError\u001B[0m: Internal function call failed: Invalid argument"
     ]
    }
   ],
   "source": [
    "import lalsimulation as lalsim\n",
    "import lal\n",
    "\n",
    "lal_dict = lal.CreateDict()\n",
    "lal_approximant = lalsim.ExternalPython\n",
    "\n",
    "lal.DictInsertStringValue(lal_dict, \"module\", 'random_module')\n",
    "lal.DictInsertStringValue(lal_dict, \"object\", 'random_object')\n",
    "\n",
    "generator = lalsim.SimInspiralChooseGenerator(lal_approximant, lal_dict)\n",
    "\n",
    "hp, hc = lalsim.SimInspiralGenerateFDWaveform(lal_dict, generator)"
   ],
   "metadata": {
    "collapsed": false,
    "ExecuteTime": {
     "end_time": "2023-12-12T12:58:43.202947Z",
     "start_time": "2023-12-12T12:58:43.179746Z"
    }
   },
   "id": "f5dd1367c98c8006"
  },
  {
   "cell_type": "code",
   "execution_count": 4,
   "outputs": [],
   "source": [
    "import numpy as np\n",
    "from scipy.fft import fft, ifft\n",
    "from scipy.stats import norm\n",
    "import matplotlib.pyplot as plt"
   ],
   "metadata": {
    "collapsed": false,
    "ExecuteTime": {
     "end_time": "2024-01-25T14:53:42.786791Z",
     "start_time": "2024-01-25T14:53:42.759172Z"
    }
   },
   "id": "dd258f384d871158"
  },
  {
   "cell_type": "code",
   "outputs": [
    {
     "data": {
      "text/plain": "<Figure size 640x480 with 1 Axes>",
      "image/png": "[encoded data removed]"
     },
     "metadata": {},
     "output_type": "display_data"
    }
   ],
   "source": [
    "%matplotlib inline\n",
    "sample_rate=16384.\n",
    "inj_length=1\n",
    "seed=0\n",
    "mode=0\n",
    "frequency = 10\n",
    "bandwidth = 10\n",
    "duration = 0.1\n",
    "np.random.seed(seed)\n",
    "\n",
    "# Generate white gaussian noise 1 sec\n",
    "x = np.random.normal(0, 1, int(inj_length * sample_rate))\n",
    "dt = 1.0 / sample_rate\n",
    "df = sample_rate / len(x)\n",
    "\n",
    "# plt.plot(x, label=\"original\")\n",
    "# Apply a band limited cut in frequency\n",
    "X = fft(x)\n",
    "\n",
    "\n",
    "# Asymmetric respect to the central frequency\n",
    "bLow = int(frequency / df)\n",
    "bHigh = int((frequency + bandwidth) / df)\n",
    "X[:2 * bLow] = 0\n",
    "X[2 * bHigh:2 * int(len(X) / 2)] = 0\n",
    "\n",
    "x = ifft(X)\n",
    "plt.plot(x, label=\"filtered\", alpha=0.5)\n",
    "\n",
    "# Apply a gaussian shape in time\n",
    "function_range = 1.\n",
    "t = np.linspace(0, inj_length, len(x))\n",
    "gaussian_envelope = np.exp(-((t - function_range / 2) / duration) **2)\n",
    "# gaussian_envelope = norm.pdf(t, 0, duration)\n",
    "# plt.plot(gaussian_envelope, label=\"gaussian\")\n",
    "x *= gaussian_envelope\n",
    "\n",
    "plt.plot(t, x, label=\"filtered + gaussian\", alpha=0.5)\n",
    "\n",
    "# Normalization\n",
    "hrss = np.sqrt(np.sum(x.real ** 2) * dt)\n",
    "x = (1. / np.sqrt(2.)) * x / hrss\n",
    "\n",
    "plt.plot(x, label=\"filtered + gaussian + normalized\", alpha=0.5)\n",
    "plt.legend()\n",
    "plt.show()"
   ],
   "metadata": {
    "collapsed": false,
    "ExecuteTime": {
     "end_time": "2024-01-25T16:19:37.665226Z",
     "start_time": "2024-01-25T16:19:36.968412Z"
    }
   },
   "id": "9809a928c300ea4e",
   "execution_count": 31
  },
  {
   "cell_type": "code",
   "outputs": [],
   "source": [],
   "metadata": {
    "collapsed": false
   },
   "id": "9e208c3b59596fe8"
  }
 ],
 "metadata": {
  "kernelspec": {
   "display_name": "Python 3",
   "language": "python",
   "name": "python3"
  },
  "language_info": {
   "codemirror_mode": {
    "name": "ipython",
    "version": 2
   },
   "file_extension": ".py",
   "mimetype": "text/x-python",
   "name": "python",
   "nbconvert_exporter": "python",
   "pygments_lexer": "ipython2",
   "version": "2.7.6"
  }
 },
 "nbformat": 4,
 "nbformat_minor": 5
}
