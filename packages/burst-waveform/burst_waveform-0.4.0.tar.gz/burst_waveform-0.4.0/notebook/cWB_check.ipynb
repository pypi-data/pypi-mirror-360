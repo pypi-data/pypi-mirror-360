{
 "cells": [
  {
   "cell_type": "code",
   "execution_count": null,
   "id": "initial_id",
   "metadata": {
    "collapsed": true
   },
   "outputs": [
    {
     "name": "stderr",
     "output_type": "stream",
     "text": [
      "C system headers (glibc/Xcode/Windows SDK) must be installed.\n",
      "In file included from input_line_4:36:\n",
      "/home/davidedi.piero/.conda/envs/burst-waveform/bin/../lib/gcc/x86_64-conda-linux-gnu/13.3.0/include/c++/cassert:44:10: fatal error: 'assert.h' file not found\n",
      "#include <assert.h>\n",
      "         ^~~~~~~~~~\n",
      "input_line_37:1:10: fatal error: 'dlfcn.h' file not found\n",
      "#include \"dlfcn.h\"\n",
      "         ^~~~~~~~~\n"
     ]
    },
    {
     "data": {
      "text/plain": [
       "-1"
      ]
     },
     "execution_count": 2,
     "metadata": {},
     "output_type": "execute_result"
    },
    {
     "name": "stderr",
     "output_type": "stream",
     "text": [
      "Error in <TUnixSystem::FindDynamicLibrary>: /Users/yumengxu/Project/Physics/cwb/cwb_source/tools/install/lib/cwb.dylib does not exist in .:/home/davidedi.piero/.conda/envs/burst-waveform/lib::/home/davidedi.piero/.conda/envs/burst-waveform/lib:/home/davidedi.piero/.conda/envs/burst-waveform/lib\n"
     ]
    }
   ],
   "source": [
    "import ROOT\n",
    "\n",
    "include_path = \"/cvmfs/software.igwn.org/conda/envs/igwn-py310-20240305/include\"\n",
    "wavelet_path = \"/cvmfs/software.igwn.org/conda/envs/igwn-py310-20240305/lib/cwb.so\"\n",
    "ROOT.gInterpreter.AddIncludePath(include_path)\n",
    "ROOT.gSystem.Load(wavelet_path)"
   ]
  },
  {
   "cell_type": "code",
   "execution_count": null,
   "id": "3fecfac3934b2497",
   "metadata": {
    "collapsed": false
   },
   "outputs": [],
   "source": [
    "MDC = ROOT.CWB.mdc()\n",
    "\n",
    "frequency = 30\n",
    "bandwidth = 10\n",
    "duration = 0.1\n",
    "wnb = MDC.GetWNB(frequency, bandwidth, duration)\n",
    "\n",
    "import matplotlib.pyplot as plt\n",
    "plt.plot(wnb)"
   ]
  },
  {
   "cell_type": "code",
   "execution_count": null,
   "id": "1536d4b4b5572f84",
   "metadata": {
    "collapsed": false
   },
   "outputs": [],
   "source": []
  }
 ],
 "metadata": {
  "kernelspec": {
   "display_name": "burst-waveform",
   "language": "python",
   "name": "python3"
  },
  "language_info": {
   "codemirror_mode": {
    "name": "ipython",
    "version": 3
   },
   "file_extension": ".py",
   "mimetype": "text/x-python",
   "name": "python",
   "nbconvert_exporter": "python",
   "pygments_lexer": "ipython3",
   "version": "3.13.2"
  }
 },
 "nbformat": 4,
 "nbformat_minor": 5
}
