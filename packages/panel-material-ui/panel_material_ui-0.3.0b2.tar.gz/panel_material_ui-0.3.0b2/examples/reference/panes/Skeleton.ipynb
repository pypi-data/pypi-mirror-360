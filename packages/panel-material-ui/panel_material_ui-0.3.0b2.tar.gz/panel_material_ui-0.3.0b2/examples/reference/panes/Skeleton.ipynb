{
 "cells": [
  {
   "cell_type": "code",
   "execution_count": null,
   "id": "f8603430",
   "metadata": {},
   "outputs": [],
   "source": [
    "import panel as pn\n",
    "import panel_material_ui as pmui\n",
    "\n",
    "pn.extension()"
   ]
  },
  {
   "cell_type": "markdown",
   "id": "b5336985",
   "metadata": {},
   "source": [
    "The `Skeleton` displays a placeholder preview of your content before the data gets loaded to reduce load-time frustration.\n",
    "\n",
    "#### Parameters:\n",
    "\n",
    "For details on other options for customizing the component see the [customization guides](https://panel-material-ui.holoviz.org/customization/index.html).\n",
    "\n",
    "##### Display\n",
    "\n",
    "* **`animation`** (str): Animation variant - including 'pulse' (default), 'wave' and None.\n",
    "* **`color`** (str): Background color for text and icon avatars - supports CSS color values and Mui palette colors.\n",
    "* **`variant`** (str): Shape variant - including 'text' (default), 'circular', 'rectangular', 'rounded'\n",
    "\n",
    "##### Styling\n",
    "\n",
    "- **`sx`** (dict): Component level styling API for advanced customization\n",
    "- **`theme_config`** (dict): Theming API for consistent design system integration\n",
    "\n",
    "___"
   ]
  },
  {
   "cell_type": "markdown",
   "id": "a357073f",
   "metadata": {},
   "source": [
    "### Basic Usage\n",
    "\n",
    "Create a simple `Skeleton` by providing a `width` and `height`:"
   ]
  },
  {
   "cell_type": "code",
   "execution_count": null,
   "id": "3c899dd7",
   "metadata": {},
   "outputs": [],
   "source": [
    "skeleton = pmui.Skeleton(width=300, height=24)\n",
    "\n",
    "skeleton"
   ]
  },
  {
   "cell_type": "markdown",
   "id": "ae6cf550-a950-4151-a8a9-5c82bd22e5fb",
   "metadata": {},
   "source": [
    "### Animation\n",
    "\n",
    "By default the Skeleton will pulse but the `animation` may also be set to wave or disabled by setting it to `None`:"
   ]
  },
  {
   "cell_type": "code",
   "execution_count": null,
   "id": "6bd5c75d-0d4e-4f46-8d80-69e29a5db380",
   "metadata": {},
   "outputs": [],
   "source": [
    "pmui.Column(\n",
    "    pmui.Skeleton(width=300, height=48, animation='pulse'),\n",
    "    pmui.Skeleton(width=300, height=48, animation='wave'),\n",
    "    pmui.Skeleton(width=300, height=48, animation=None),\n",
    ")"
   ]
  },
  {
   "cell_type": "markdown",
   "id": "97f0b54b",
   "metadata": {},
   "source": [
    "### Variants\n",
    "\n",
    "The `Variant` component offers different shape variants:\n",
    "\n",
    "- **text**: Default style emulating a line of text \n",
    "- **circular**: Circular shape\n",
    "- **rounded**: Rounded corners\n",
    "- **rectangular**: Sharp corners for a more geometric look"
   ]
  },
  {
   "cell_type": "code",
   "execution_count": null,
   "id": "6e38dac3",
   "metadata": {},
   "outputs": [],
   "source": [
    "pmui.Column(\n",
    "    pmui.Skeleton(width=300, height=24, variant='text', margin=(5, 0)),\n",
    "    pmui.Skeleton(width=48, height=48, variant='circular', margin=(5, 0)),\n",
    "    pmui.Skeleton(width=300, height=48, variant='rectangular', margin=(5, 0)),\n",
    "    pmui.Skeleton(width=300, height=48, variant='rounded', margin=(5, 0))\n",
    ")"
   ]
  },
  {
   "cell_type": "markdown",
   "id": "72a0facc",
   "metadata": {},
   "source": [
    "### Colors\n",
    "\n",
    "`Skeleton` can be given arbitrary color specification, either based on Mui palettes or valid CSS colors"
   ]
  },
  {
   "cell_type": "code",
   "execution_count": null,
   "id": "e01545c6",
   "metadata": {},
   "outputs": [],
   "source": [
    "pmui.Column(\n",
    "    pmui.Skeleton(width=300, height=24, color='gray.900', margin=(5, 0)),\n",
    "    pmui.Skeleton(width=300, height=24, color='#639f31', margin=(5, 0)),\n",
    "    pmui.Skeleton(width=300, height=24, color='red', margin=(5, 0)),\n",
    ")"
   ]
  },
  {
   "cell_type": "markdown",
   "id": "15005676",
   "metadata": {},
   "source": [
    "### API Reference\n",
    "\n",
    "#### Skeleton\n",
    "\n",
    "* **`animation`** (`Literal['pulse', 'wave'] | None`): Animation variant.\n",
    "* **`color`** (str): Background color for text and icon avatars - supports CSS color values and Mui palette colors.\n",
    "* **`variant`** (`Literal['text', 'circular', 'rectangular', 'rounded']`): Shape variant.\n",
    "- **sx** (dict, optional): Custom styling object\n",
    "- **theme_config** (dict, optional): Theme configuration"
   ]
  },
  {
   "cell_type": "markdown",
   "id": "a210ed3a",
   "metadata": {},
   "source": [
    "### References\n",
    "\n",
    "- [Material UI Avatar Component](https://mui.com/material-ui/react-avatar/)\n",
    "- [Panel Panes Documentation](https://panel.holoviz.org/reference/panes/index.html)"
   ]
  }
 ],
 "metadata": {
  "kernelspec": {
   "display_name": "Python 3 (ipykernel)",
   "language": "python",
   "name": "python3"
  },
  "language_info": {
   "codemirror_mode": {
    "name": "ipython",
    "version": 3
   },
   "file_extension": ".py",
   "mimetype": "text/x-python",
   "name": "python",
   "nbconvert_exporter": "python",
   "pygments_lexer": "ipython3",
   "version": "3.12.2"
  }
 },
 "nbformat": 4,
 "nbformat_minor": 5
}
