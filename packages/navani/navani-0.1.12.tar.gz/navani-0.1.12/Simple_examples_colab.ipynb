{
 "cells": [
  {
   "cell_type": "markdown",
   "metadata": {
    "colab_type": "text",
    "id": "view-in-github"
   },
   "source": [
    "<a href=\"https://colab.research.google.com/github/BenSmithGreyGroup/navani/blob/main/Simple_examples.ipynb\" target=\"_parent\"><img src=\"https://colab.research.google.com/assets/colab-badge.svg\" alt=\"Open In Colab\"/></a>"
   ]
  },
  {
   "cell_type": "markdown",
   "metadata": {},
   "source": [
    "This notebook is for colab! Don't run on your local machine as it will install the navani directory again!"
   ]
  },
  {
   "cell_type": "code",
   "execution_count": 1,
   "metadata": {
    "colab": {
     "base_uri": "https://localhost:8080/"
    },
    "id": "CCCdkeIGML1T",
    "outputId": "3cabde78-8ac9-4c90-8f84-3a0ea7aeb098"
   },
   "outputs": [
    {
     "name": "stdout",
     "output_type": "stream",
     "text": [
      "Reading package lists... Done\n",
      "Building dependency tree       \n",
      "Reading state information... Done\n",
      "The following additional packages will be installed:\n",
      "  libmdb2 libmdbsql2\n",
      "Suggested packages:\n",
      "  mdbtools-doc bash-completion\n",
      "The following NEW packages will be installed:\n",
      "  libmdb2 libmdbsql2 mdbtools\n",
      "0 upgraded, 3 newly installed, 0 to remove and 15 not upgraded.\n",
      "Need to get 109 kB of archives.\n",
      "After this operation, 387 kB of additional disk space will be used.\n",
      "Get:1 http://archive.ubuntu.com/ubuntu bionic/universe amd64 libmdb2 amd64 0.7.1-6 [46.4 kB]\n",
      "Get:2 http://archive.ubuntu.com/ubuntu bionic/universe amd64 libmdbsql2 amd64 0.7.1-6 [22.6 kB]\n",
      "Get:3 http://archive.ubuntu.com/ubuntu bionic/universe amd64 mdbtools amd64 0.7.1-6 [39.5 kB]\n",
      "Fetched 109 kB in 1s (133 kB/s)\n",
      "Selecting previously unselected package libmdb2:amd64.\n",
      "(Reading database ... 146456 files and directories currently installed.)\n",
      "Preparing to unpack .../libmdb2_0.7.1-6_amd64.deb ...\n",
      "Unpacking libmdb2:amd64 (0.7.1-6) ...\n",
      "Selecting previously unselected package libmdbsql2:amd64.\n",
      "Preparing to unpack .../libmdbsql2_0.7.1-6_amd64.deb ...\n",
      "Unpacking libmdbsql2:amd64 (0.7.1-6) ...\n",
      "Selecting previously unselected package mdbtools.\n",
      "Preparing to unpack .../mdbtools_0.7.1-6_amd64.deb ...\n",
      "Unpacking mdbtools (0.7.1-6) ...\n",
      "Setting up libmdb2:amd64 (0.7.1-6) ...\n",
      "Setting up libmdbsql2:amd64 (0.7.1-6) ...\n",
      "Setting up mdbtools (0.7.1-6) ...\n",
      "Processing triggers for libc-bin (2.27-3ubuntu1.3) ...\n",
      "/sbin/ldconfig.real: /usr/local/lib/python3.6/dist-packages/ideep4py/lib/libmkldnn.so.0 is not a symbolic link\n",
      "\n",
      "Processing triggers for man-db (2.8.3-2ubuntu0.1) ...\n",
      "Collecting galvani\n",
      "  Downloading https://files.pythonhosted.org/packages/57/77/c21507ad3145cc52242022ad116168e3475e5c5a83d5e4206b57ba69d586/galvani-0.2.0-py3-none-any.whl\n",
      "Requirement already satisfied: numpy in /usr/local/lib/python3.6/dist-packages (from galvani) (1.19.5)\n",
      "Installing collected packages: galvani\n",
      "Successfully installed galvani-0.2.0\n",
      "Cloning into 'navani'...\n",
      "remote: Enumerating objects: 17, done.\u001b[K\n",
      "remote: Counting objects: 100% (17/17), done.\u001b[K\n",
      "remote: Compressing objects: 100% (15/15), done.\u001b[K\n",
      "remote: Total 17 (delta 4), reused 0 (delta 0), pack-reused 0\u001b[K\n",
      "Unpacking objects: 100% (17/17), done.\n"
     ]
    }
   ],
   "source": [
    "!apt install mdbtools\n",
    "!pip install galvani\n",
    "!git clone https://github.com/BenSmithGreyGroup/navani.git"
   ]
  },
  {
   "cell_type": "code",
   "execution_count": 2,
   "metadata": {
    "id": "-4oSqYYzMdPb"
   },
   "outputs": [],
   "source": [
    "import navani.echem as ec\r\n",
    "import pandas as pd\r\n",
    "import matplotlib.pyplot as plt\r\n",
    "import os"
   ]
  },
  {
   "cell_type": "code",
   "execution_count": 4,
   "metadata": {
    "id": "asKOeujoMg0P"
   },
   "outputs": [],
   "source": [
    "directory = '/content/'\r\n",
    "file = 'bs542_004_gr_li_50ua_50mv_1v_191020_Channel_11.xlsx'\r\n",
    "df = ec.echem_file_loader(os.path.join(directory, file))"
   ]
  },
  {
   "cell_type": "code",
   "execution_count": 5,
   "metadata": {
    "colab": {
     "base_uri": "https://localhost:8080/",
     "height": 279
    },
    "id": "RraUF1vsMn0b",
    "outputId": "7046436f-48b0-43e5-8995-c2c4aaf06703"
   },
   "outputs": [
    {
     "data": {
      "image/png": "[encoded data removed]",
      "text/plain": [
       "<Figure size 432x288 with 1 Axes>"
      ]
     },
     "metadata": {
      "needs_background": "light",
      "tags": []
     },
     "output_type": "display_data"
    }
   ],
   "source": [
    "fig, ax = ec.charge_discharge_plot(df, 1)"
   ]
  },
  {
   "cell_type": "code",
   "execution_count": 6,
   "metadata": {
    "colab": {
     "base_uri": "https://localhost:8080/",
     "height": 297
    },
    "id": "f0IstKpMM-b6",
    "outputId": "96a23b6d-ea62-4afe-ff19-195584bcfad1"
   },
   "outputs": [
    {
     "data": {
      "text/plain": [
       "Text(0, 0.5, 'dQ/dV / mAhV$^{-1}$')"
      ]
     },
     "execution_count": 6,
     "metadata": {
      "tags": []
     },
     "output_type": "execute_result"
    },
    {
     "data": {
      "image/png": "[encoded data removed]",
      "text/plain": [
       "<Figure size 432x288 with 1 Axes>"
      ]
     },
     "metadata": {
      "needs_background": "light",
      "tags": []
     },
     "output_type": "display_data"
    }
   ],
   "source": [
    "for cycle in [1, 2]:\r\n",
    "    mask = df['half cycle'] == cycle\r\n",
    "    voltage, dqdv, capacity = ec.dqdv_single_cycle(df['Capacity'][mask], df['Voltage'][mask],\r\n",
    "                                                   window_size_1=51,\r\n",
    "                                                    polyorder_1=5,\r\n",
    "                                                    s_spline=0.0,\r\n",
    "                                                    window_size_2=51,\r\n",
    "                                                    polyorder_2=5,\r\n",
    "                                                    final_smooth=True)\r\n",
    "    plt.plot(voltage, dqdv)\r\n",
    "\r\n",
    "plt.xlim(0, 0.5)\r\n",
    "plt.xlabel('Voltage / V')\r\n",
    "plt.ylabel('dQ/dV / mAhV$^{-1}$')"
   ]
  },
  {
   "cell_type": "code",
   "execution_count": null,
   "metadata": {
    "id": "q5z7xz6jbo0c"
   },
   "outputs": [],
   "source": []
  }
 ],
 "metadata": {
  "colab": {
   "authorship_tag": "ABX9TyPKZid9yl8E2Sr5hOg0xEZk",
   "include_colab_link": true,
   "name": "Simple examples.ipynb",
   "provenance": []
  },
  "kernelspec": {
   "display_name": "Python 3",
   "language": "python",
   "name": "python3"
  },
  "language_info": {
   "codemirror_mode": {
    "name": "ipython",
    "version": 3
   },
   "file_extension": ".py",
   "mimetype": "text/x-python",
   "name": "python",
   "nbconvert_exporter": "python",
   "pygments_lexer": "ipython3",
   "version": "3.8.5"
  }
 },
 "nbformat": 4,
 "nbformat_minor": 4
}
