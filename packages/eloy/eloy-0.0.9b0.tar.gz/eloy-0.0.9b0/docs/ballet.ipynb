{
 "cells": [
  {
   "cell_type": "markdown",
   "id": "b00cac18",
   "metadata": {},
   "source": [
    "# Centroiding with *ballet*\n",
    "\n",
    ":::{important}\n",
    "You need to install the JAX dependencies to use this model\n",
    "\n",
    "```bash\n",
    "pip install \"eloy[jax]\"\n",
    "```\n",
    "\n",
    ":::\n"
   ]
  },
  {
   "cell_type": "markdown",
   "id": "13820dc6",
   "metadata": {},
   "source": [
    "To use the [Ballet](eloy.ballet.model.Ballet) centroiding model in your pipelines, first instantiate the model"
   ]
  },
  {
   "cell_type": "code",
   "execution_count": 1,
   "id": "dfed7e36",
   "metadata": {
    "execution": {
     "iopub.execute_input": "2025-06-20T15:57:10.486072Z",
     "iopub.status.busy": "2025-06-20T15:57:10.485935Z",
     "iopub.status.idle": "2025-06-20T15:57:11.242793Z",
     "shell.execute_reply": "2025-06-20T15:57:11.242318Z"
    }
   },
   "outputs": [],
   "source": [
    "from eloy.ballet import Ballet\n",
    "\n",
    "cnn = Ballet()"
   ]
  },
  {
   "cell_type": "markdown",
   "id": "e0580fc7",
   "metadata": {},
   "source": [
    "And then use it in [eloy.centroid.ballet_centroid](eloy.centroid.ballet_centroid). Here is an example on one of the [calibrated image dataset](calibration)"
   ]
  },
  {
   "cell_type": "code",
   "execution_count": 2,
   "id": "4b9078ce",
   "metadata": {
    "execution": {
     "iopub.execute_input": "2025-06-20T15:57:11.244832Z",
     "iopub.status.busy": "2025-06-20T15:57:11.244663Z",
     "iopub.status.idle": "2025-06-20T15:57:13.012014Z",
     "shell.execute_reply": "2025-06-20T15:57:13.011692Z"
    }
   },
   "outputs": [],
   "source": [
    "from astropy.io import fits\n",
    "from eloy import detection, centroid\n",
    "import numpy as np\n",
    "\n",
    "image = fits.getdata(\"calibrated_images/ESPC WASP-1245.000secs00000009.fits\").astype(\n",
    "    float\n",
    ")\n",
    "regions = detection.stars_detection(image)\n",
    "coords = np.array([region.centroid_weighted[::-1] for region in regions])\n",
    "\n",
    "centroids = centroid.ballet_centroid(image, coords, cnn)"
   ]
  },
  {
   "cell_type": "markdown",
   "id": "21f716dc",
   "metadata": {},
   "source": [
    "## The model\n",
    "\n",
    "Ballet is a convolutional neural network that computes the centroid of star cutouts. It is as accurate as fitting a 2D Gaussian to the profile but ~20x faster. Let's show that on our image.\n",
    "\n",
    "### Speed\n",
    "\n",
    "We compute the evaluation time from photutils `centroid_2dg` function against [eloy.centroid.ballet_centroid](eloy.centroid.ballet_centroid)"
   ]
  },
  {
   "cell_type": "code",
   "execution_count": 3,
   "id": "28e7d6a0",
   "metadata": {
    "execution": {
     "iopub.execute_input": "2025-06-20T15:57:13.013555Z",
     "iopub.status.busy": "2025-06-20T15:57:13.013473Z",
     "iopub.status.idle": "2025-06-20T15:57:17.506938Z",
     "shell.execute_reply": "2025-06-20T15:57:17.506527Z"
    }
   },
   "outputs": [
    {
     "name": "stdout",
     "output_type": "stream",
     "text": [
      "256 ms ± 26.9 ms per loop (mean ± std. dev. of 7 runs, 1 loop each)\n"
     ]
    },
    {
     "name": "stdout",
     "output_type": "stream",
     "text": [
      "29.2 ms ± 720 μs per loop (mean ± std. dev. of 7 runs, 10 loops each)\n"
     ]
    }
   ],
   "source": [
    "from photutils.centroids import centroid_2dg\n",
    "\n",
    "%timeit centroid.photutils_centroid(image, coords, centroid_fun=centroid_2dg)\n",
    "%timeit centroid.ballet_centroid(image, coords, cnn)"
   ]
  },
  {
   "cell_type": "markdown",
   "id": "82937ee2",
   "metadata": {},
   "source": [
    "### Precision\n",
    "\n",
    "As for the precision, let's simulate a set of Moffat profiles and compare the `centroid_2dg` function to [Ballet](eloy.ballet.model.Ballet)."
   ]
  },
  {
   "cell_type": "code",
   "execution_count": 4,
   "id": "ebbb4a9d",
   "metadata": {
    "execution": {
     "iopub.execute_input": "2025-06-20T15:57:17.508330Z",
     "iopub.status.busy": "2025-06-20T15:57:17.508165Z",
     "iopub.status.idle": "2025-06-20T15:58:17.518535Z",
     "shell.execute_reply": "2025-06-20T15:58:17.517139Z"
    }
   },
   "outputs": [
    {
     "name": "stderr",
     "output_type": "stream",
     "text": [
      "WARNING: The fit may be unsuccessful; check: \n",
      "    The maximum number of function evaluations is exceeded. [astropy.modeling.fitting]\n"
     ]
    },
    {
     "name": "stderr",
     "output_type": "stream",
     "text": [
      "WARNING: quadratic fit does not have a maximum [photutils.centroids.core]\n"
     ]
    },
    {
     "name": "stderr",
     "output_type": "stream",
     "text": [
      "WARNING: quadratic polynomial maximum value falls outside of the image [photutils.centroids.core]\n"
     ]
    }
   ],
   "source": [
    "from eloy.ballet.training import Moffat2D\n",
    "from photutils.centroids import centroid_2dg, centroid_1dg, centroid_quadratic\n",
    "\n",
    "cutouts, truth = Moffat2D(15).random_model_label(10000)\n",
    "\n",
    "# these will take a while\n",
    "centroid_c2dg = np.array([centroid_2dg(cutout)[::-1] for cutout in cutouts[..., 0]])\n",
    "centroid_c1dg = np.array([centroid_1dg(cutout)[::-1] for cutout in cutouts[..., 0]])\n",
    "centroid_qd = np.array([centroid_quadratic(cutout)[::-1] for cutout in cutouts[..., 0]])\n",
    "\n",
    "centroid_ballet = cnn.centroid(cutouts[..., 0])[:, ::-1]"
   ]
  },
  {
   "cell_type": "code",
   "execution_count": 5,
   "id": "1d62dcc2",
   "metadata": {
    "execution": {
     "iopub.execute_input": "2025-06-20T15:58:17.524690Z",
     "iopub.status.busy": "2025-06-20T15:58:17.524225Z",
     "iopub.status.idle": "2025-06-20T15:58:18.050249Z",
     "shell.execute_reply": "2025-06-20T15:58:18.049991Z"
    },
    "tags": [
     "hide-input"
    ]
   },
   "outputs": [
    {
     "data": {
      "image/png": "[encoded data removed]",
      "text/plain": [
       "<Figure size 700x300 with 4 Axes>"
      ]
     },
     "metadata": {},
     "output_type": "display_data"
    }
   ],
   "source": [
    "import matplotlib.pyplot as plt\n",
    "\n",
    "\n",
    "fig, axes = plt.subplots(1, 4, sharey=True, figsize=(7, 3))\n",
    "bins = np.linspace(-0.2, 0.2, 200)\n",
    "offset = 0.01\n",
    "\n",
    "methods = [centroid_qd, centroid_c1dg, centroid_c2dg, centroid_ballet]\n",
    "names = [\n",
    "    \"Quadratic\\n(photutils)\",\n",
    "    \"1D Gaussian\\n(photutils)\",\n",
    "    \"2D Gaussian\\n(photutils)\",\n",
    "    \"ballet\",\n",
    "]\n",
    "for i, method in enumerate(methods):\n",
    "    axes[i].step(\n",
    "        bins[1:],\n",
    "        np.histogram((method - truth), bins)[0],\n",
    "    )\n",
    "    axes[i].set_title(names[i])\n",
    "    axes[i].set_xlabel(\"Centroid error (pixels)\")\n",
    "\n",
    "\n",
    "axes[0].set_ylabel(\"Counts\")\n",
    "\n",
    "plt.tight_layout()"
   ]
  },
  {
   "cell_type": "markdown",
   "id": "e03dba7d",
   "metadata": {},
   "source": [
    "As precise as photutils 2D Gaussian fit, but much faster!"
   ]
  }
 ],
 "metadata": {
  "kernelspec": {
   "display_name": "eloy",
   "language": "python",
   "name": "python3"
  },
  "language_info": {
   "codemirror_mode": {
    "name": "ipython",
    "version": 3
   },
   "file_extension": ".py",
   "mimetype": "text/x-python",
   "name": "python",
   "nbconvert_exporter": "python",
   "pygments_lexer": "ipython3",
   "version": "3.11.11"
  }
 },
 "nbformat": 4,
 "nbformat_minor": 5
}
