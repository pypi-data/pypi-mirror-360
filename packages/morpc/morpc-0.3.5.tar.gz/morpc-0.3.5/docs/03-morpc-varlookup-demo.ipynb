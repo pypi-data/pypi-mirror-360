{
 "cells": [
  {
   "cell_type": "markdown",
   "id": "501899a3-47c3-4dbb-937b-43846c289079",
   "metadata": {
    "tags": []
   },
   "source": [
    "# Variable Lookup Tools"
   ]
  },
  {
   "cell_type": "markdown",
   "id": "e881c508-311a-4ac8-90d7-97c458e22f64",
   "metadata": {},
   "source": [
    "Standard variable lookup class\n",
    "\n",
    "Reads the list of \"standard\" variables from a lookup table.  Provides dataframe access to the list of variables, as well as an alias cross-reference table."
   ]
  },
  {
   "cell_type": "code",
   "execution_count": null,
   "id": "d2693bb3-5acc-41fa-8f73-50371047bd0d",
   "metadata": {
    "tags": []
   },
   "outputs": [],
   "source": [
    "## PLACEHOLDER FOR EXAMPLES"
   ]
  }
 ],
 "metadata": {
  "kernelspec": {
   "display_name": "Python 3 (ipykernel)",
   "language": "python",
   "name": "python3"
  },
  "language_info": {
   "codemirror_mode": {
    "name": "ipython",
    "version": 3
   },
   "file_extension": ".py",
   "mimetype": "text/x-python",
   "name": "python",
   "nbconvert_exporter": "python",
   "pygments_lexer": "ipython3",
   "version": "3.12.10"
  }
 },
 "nbformat": 4,
 "nbformat_minor": 5
}
