{
 "cells": [
  {
   "cell_type": "markdown",
   "id": "f4550ea3-78f7-4123-bafe-a7a343edff5b",
   "metadata": {},
   "source": [
    "# County Lookup Tools"
   ]
  },
  {
   "cell_type": "code",
   "execution_count": 4,
   "id": "52091faf-8249-4b92-90d0-0356f0d00b55",
   "metadata": {},
   "outputs": [],
   "source": [
    "import morpc"
   ]
  },
  {
   "cell_type": "markdown",
   "id": "48266f0d-3b95-461a-816c-0cd7f368b215",
   "metadata": {},
   "source": [
    "## Region definitions"
   ]
  },
  {
   "cell_type": "markdown",
   "id": "65c4818a-cdda-4c39-b00f-85eeefc4c82b",
   "metadata": {},
   "source": [
    "The following lists represent various definitions for \"Central Ohio\" based on collections of counties."
   ]
  },
  {
   "cell_type": "code",
   "execution_count": 5,
   "id": "73c21eac-daa7-4296-9470-3ec1d07c982c",
   "metadata": {
    "tags": []
   },
   "outputs": [
    {
     "name": "stdout",
     "output_type": "stream",
     "text": [
      "Region name: REGION7\n",
      "Counties in region: ['Delaware', 'Fairfield', 'Franklin', 'Licking', 'Madison', 'Pickaway', 'Union']\n",
      "\n",
      "Region name: 7-County Region\n",
      "Counties in region: ['Delaware', 'Fairfield', 'Franklin', 'Licking', 'Madison', 'Pickaway', 'Union']\n",
      "\n",
      "Region name: REGION10\n",
      "Counties in region: ['Delaware', 'Fairfield', 'Franklin', 'Licking', 'Madison', 'Pickaway', 'Union', 'Knox', 'Marion', 'Morrow']\n",
      "\n",
      "Region name: 10-County Region\n",
      "Counties in region: ['Delaware', 'Fairfield', 'Franklin', 'Licking', 'Madison', 'Pickaway', 'Union', 'Knox', 'Marion', 'Morrow']\n",
      "\n",
      "Region name: REGION15\n",
      "Counties in region: ['Delaware', 'Fairfield', 'Franklin', 'Licking', 'Madison', 'Pickaway', 'Union', 'Knox', 'Marion', 'Morrow', 'Fayette', 'Hocking', 'Logan', 'Perry', 'Ross']\n",
      "\n",
      "Region name: 15-County Region\n",
      "Counties in region: ['Delaware', 'Fairfield', 'Franklin', 'Licking', 'Madison', 'Pickaway', 'Union', 'Knox', 'Marion', 'Morrow', 'Fayette', 'Hocking', 'Logan', 'Perry', 'Ross']\n",
      "\n",
      "Region name: REGIONCORPO\n",
      "Counties in region: ['Fairfield', 'Knox', 'Madison', 'Marion', 'Morrow', 'Pickaway', 'Union']\n",
      "\n",
      "Region name: CORPO Region\n",
      "Counties in region: ['Fairfield', 'Knox', 'Madison', 'Marion', 'Morrow', 'Pickaway', 'Union']\n",
      "\n",
      "Region name: REGIONONECBUS\n",
      "Counties in region: ['Delaware', 'Fairfield', 'Franklin', 'Licking', 'Madison', 'Pickaway', 'Union', 'Knox', 'Marion', 'Morrow', 'Logan']\n",
      "\n",
      "Region name: OneColumbus Region\n",
      "Counties in region: ['Delaware', 'Fairfield', 'Franklin', 'Licking', 'Madison', 'Pickaway', 'Union', 'Knox', 'Marion', 'Morrow', 'Logan']\n",
      "\n",
      "Region name: REGIONCEDS\n",
      "Counties in region: ['Delaware', 'Fairfield', 'Franklin', 'Licking', 'Madison', 'Pickaway', 'Union', 'Knox', 'Marion', 'Morrow', 'Logan']\n",
      "\n",
      "Region name: CEDS Region\n",
      "Counties in region: ['Delaware', 'Fairfield', 'Franklin', 'Licking', 'Madison', 'Pickaway', 'Union', 'Knox', 'Marion', 'Morrow', 'Logan']\n",
      "\n",
      "Region name: REGIONMSA\n",
      "Counties in region: ['Delaware', 'Fairfield', 'Franklin', 'Licking', 'Madison', 'Pickaway', 'Union', 'Hocking', 'Morrow', 'Perry']\n",
      "\n"
     ]
    }
   ],
   "source": [
    "for name in morpc.CONST_REGIONS.keys():\n",
    "    print(\"Region name: {}\".format(name))\n",
    "    print(\"Counties in region: {}\\n\".format(morpc.CONST_REGIONS[name]))"
   ]
  },
  {
   "cell_type": "markdown",
   "id": "620a9d30-4ab4-421e-bf02-90a608323647",
   "metadata": {},
   "source": [
    "### County three-letter abbreviations"
   ]
  },
  {
   "cell_type": "markdown",
   "id": "b1e867fc-1425-425c-a50f-efab3de57f7a",
   "metadata": {},
   "source": [
    "Map each MORPC county name to its three-letter abbreviation."
   ]
  },
  {
   "cell_type": "code",
   "execution_count": 6,
   "id": "8376c6a7-99fd-473c-bf30-3b05c692c0dd",
   "metadata": {
    "tags": []
   },
   "outputs": [
    {
     "data": {
      "text/plain": [
       "{'Delaware': 'DEL',\n",
       " 'Fairfield': 'FAI',\n",
       " 'Fayette': 'FAY',\n",
       " 'Franklin': 'FRA',\n",
       " 'Hocking': 'HOC',\n",
       " 'Knox': 'KNO',\n",
       " 'Licking': 'LIC',\n",
       " 'Logan': 'LOG',\n",
       " 'Madison': 'MAD',\n",
       " 'Marion': 'MAR',\n",
       " 'Morrow': 'MRW',\n",
       " 'Perry': 'PER',\n",
       " 'Pickaway': 'PIC',\n",
       " 'Ross': 'ROS',\n",
       " 'Union': 'UNI'}"
      ]
     },
     "execution_count": 6,
     "metadata": {},
     "output_type": "execute_result"
    }
   ],
   "source": [
    "morpc.CONST_COUNTY_ABBREV"
   ]
  },
  {
   "cell_type": "markdown",
   "id": "96cfa5bd-5631-47e4-8a7b-4c3447ee53a5",
   "metadata": {},
   "source": [
    "Map each three-letter abbreviation back to its county name."
   ]
  },
  {
   "cell_type": "code",
   "execution_count": 7,
   "id": "8b3309ff-5bc8-424c-8c11-6dfcf76d5efa",
   "metadata": {
    "tags": []
   },
   "outputs": [
    {
     "data": {
      "text/plain": [
       "{'DEL': 'Delaware',\n",
       " 'FAI': 'Fairfield',\n",
       " 'FAY': 'Fayette',\n",
       " 'FRA': 'Franklin',\n",
       " 'HOC': 'Hocking',\n",
       " 'KNO': 'Knox',\n",
       " 'LIC': 'Licking',\n",
       " 'LOG': 'Logan',\n",
       " 'MAD': 'Madison',\n",
       " 'MAR': 'Marion',\n",
       " 'MRW': 'Morrow',\n",
       " 'PER': 'Perry',\n",
       " 'PIC': 'Pickaway',\n",
       " 'ROS': 'Ross',\n",
       " 'UNI': 'Union'}"
      ]
     },
     "execution_count": 7,
     "metadata": {},
     "output_type": "execute_result"
    }
   ],
   "source": [
    "morpc.CONST_COUNTY_EXPAND"
   ]
  },
  {
   "cell_type": "markdown",
   "id": "3fb16761-e7b5-4355-947d-089e7f079126",
   "metadata": {},
   "source": [
    "Note that 'MRW' is the three-letter abbreviation for Morrow county that is used by ODOT. Sometimes it may be desired to use 'MOR' instead.  In that case, you can use the following code to update both mappings."
   ]
  },
  {
   "cell_type": "code",
   "execution_count": 8,
   "id": "0baf0b1a-0bbf-4e47-8d0d-37603c31b510",
   "metadata": {
    "tags": []
   },
   "outputs": [],
   "source": [
    "morpc.CONST_COUNTY_ABBREV[\"Morrow\"] = 'MOR'\n",
    "morpc.CONST_COUNTY_EXPAND = {value: key for key, value in morpc.CONST_COUNTY_ABBREV.items()}"
   ]
  },
  {
   "cell_type": "markdown",
   "id": "da13100e-4836-4b98-b2ec-e631f460e249",
   "metadata": {},
   "source": [
    "Now you can see the new mappings:"
   ]
  },
  {
   "cell_type": "code",
   "execution_count": 9,
   "id": "a3077b11-c7ae-4813-979a-d22c1df9e97f",
   "metadata": {
    "tags": []
   },
   "outputs": [
    {
     "name": "stdout",
     "output_type": "stream",
     "text": [
      "MOR\n",
      "Morrow\n"
     ]
    }
   ],
   "source": [
    "print(morpc.CONST_COUNTY_ABBREV[\"Morrow\"])\n",
    "print(morpc.CONST_COUNTY_EXPAND[\"MOR\"])"
   ]
  },
  {
   "cell_type": "markdown",
   "id": "2d66cc26-ff56-448d-b3db-d9db9738eb54",
   "metadata": {},
   "source": [
    "To revert to the old mapping you can either use a code block similar to the one above, or simply reload the library:"
   ]
  },
  {
   "cell_type": "code",
   "execution_count": 10,
   "id": "0169d00b-ce4e-4f65-a642-70a773e0e622",
   "metadata": {
    "tags": []
   },
   "outputs": [
    {
     "data": {
      "text/plain": [
       "<module 'morpc' from 'C:\\\\Users\\\\jinskeep\\\\OneDrive - Mid-Ohio Regional Planning Commission\\\\Local Repo\\\\morpc-py\\\\morpc\\\\__init__.py'>"
      ]
     },
     "execution_count": 10,
     "metadata": {},
     "output_type": "execute_result"
    }
   ],
   "source": [
    "import importlib\n",
    "importlib.reload(morpc)"
   ]
  },
  {
   "cell_type": "markdown",
   "id": "f72e5c77-1395-495a-9301-28e1fc55f273",
   "metadata": {},
   "source": [
    "Now the original mappings are restored."
   ]
  },
  {
   "cell_type": "code",
   "execution_count": 11,
   "id": "4c17004a-a82c-48e3-8ecb-bc23d3fef578",
   "metadata": {
    "tags": []
   },
   "outputs": [
    {
     "name": "stdout",
     "output_type": "stream",
     "text": [
      "MOR\n",
      "Morrow\n"
     ]
    }
   ],
   "source": [
    "print(morpc.CONST_COUNTY_ABBREV[\"Morrow\"])\n",
    "print(morpc.CONST_COUNTY_EXPAND[\"MRW\"])"
   ]
  },
  {
   "cell_type": "markdown",
   "id": "7ab77a7e-79c6-4e98-bff8-c2c6cb06c6a7",
   "metadata": {
    "tags": []
   },
   "source": [
    "### County identifiers (GEOID)"
   ]
  },
  {
   "cell_type": "markdown",
   "id": "8dd3443e-aabc-4ebd-91dd-072c1c866186",
   "metadata": {},
   "source": [
    "Map each MORPC county name to its five-character Census GEOID.  Note that the IDs are strings.  They are not integers and should not be handled as such."
   ]
  },
  {
   "cell_type": "code",
   "execution_count": 12,
   "id": "89eb5ab5-da23-4a77-87bd-0bcbfef83ec0",
   "metadata": {
    "tags": []
   },
   "outputs": [
    {
     "data": {
      "text/plain": [
       "{'Delaware': '39041',\n",
       " 'Fairfield': '39045',\n",
       " 'Fayette': '39047',\n",
       " 'Franklin': '39049',\n",
       " 'Hocking': '39073',\n",
       " 'Knox': '39083',\n",
       " 'Licking': '39089',\n",
       " 'Logan': '39091',\n",
       " 'Madison': '39097',\n",
       " 'Marion': '39101',\n",
       " 'Morrow': '39117',\n",
       " 'Perry': '39127',\n",
       " 'Pickaway': '39129',\n",
       " 'Ross': '39141',\n",
       " 'Union': '39159'}"
      ]
     },
     "execution_count": 12,
     "metadata": {},
     "output_type": "execute_result"
    }
   ],
   "source": [
    "morpc.CONST_COUNTY_NAME_TO_ID"
   ]
  },
  {
   "cell_type": "markdown",
   "id": "5d57aa4f-d3b5-4a2c-b968-5751a1d7f0d4",
   "metadata": {},
   "source": [
    "Map each GEOID back to its county name."
   ]
  },
  {
   "cell_type": "code",
   "execution_count": 13,
   "id": "38098ba4-d2d4-4fa4-8f41-b7a2f57395af",
   "metadata": {
    "tags": []
   },
   "outputs": [
    {
     "data": {
      "text/plain": [
       "{'39041': 'Delaware',\n",
       " '39045': 'Fairfield',\n",
       " '39047': 'Fayette',\n",
       " '39049': 'Franklin',\n",
       " '39073': 'Hocking',\n",
       " '39083': 'Knox',\n",
       " '39089': 'Licking',\n",
       " '39091': 'Logan',\n",
       " '39097': 'Madison',\n",
       " '39101': 'Marion',\n",
       " '39117': 'Morrow',\n",
       " '39127': 'Perry',\n",
       " '39129': 'Pickaway',\n",
       " '39141': 'Ross',\n",
       " '39159': 'Union'}"
      ]
     },
     "execution_count": 13,
     "metadata": {},
     "output_type": "execute_result"
    }
   ],
   "source": [
    "morpc.CONST_COUNTY_ID_TO_NAME"
   ]
  },
  {
   "cell_type": "markdown",
   "id": "04e9b98d-01a4-4461-bd48-d670e4870962",
   "metadata": {
    "tags": []
   },
   "source": [
    "## Summary level identifiers."
   ]
  },
  {
   "cell_type": "markdown",
   "id": "d6d3e8d0-23d2-4a3b-8e9e-dec525256ba7",
   "metadata": {},
   "source": [
    "Summary level lookups for geographic jurisdictions. The summary levels include the Census sumlevel numbers, as well as some morpc summary levels, beginning with \"M\""
   ]
  },
  {
   "cell_type": "code",
   "execution_count": 14,
   "id": "28763fea-d71f-4f9e-b228-ffe0c2ef2198",
   "metadata": {
    "tags": []
   },
   "outputs": [
    {
     "data": {
      "text/plain": [
       "{'US': '010',\n",
       " 'CENSUSREGION': '020',\n",
       " 'DIVISION': '030',\n",
       " 'STATE': '040',\n",
       " 'COUNTY': '050',\n",
       " 'COUNTY-COUSUB': '060',\n",
       " 'COUNTY-TOWNSHIP-REMAINDER': '070',\n",
       " 'COUNTY-TRACT': '140',\n",
       " 'COUNTY-TRACT-BG': '150',\n",
       " 'PLACE-COUNTY': '155',\n",
       " 'PLACE': '160',\n",
       " 'CBSA': '310',\n",
       " 'URBANAREA': '400',\n",
       " 'CONGRESS': '500',\n",
       " 'STATESENATE': '610',\n",
       " 'STATEHOUSE': '620',\n",
       " 'COUNTY-TRACT-BG-BLOCK': '750',\n",
       " 'PUMA': '795',\n",
       " 'ZCTA3': '850',\n",
       " 'ZCTA5': '860',\n",
       " 'CENSUSMPOREGION': '930',\n",
       " 'SDELEM': '950',\n",
       " 'SDHIGH': '960',\n",
       " 'SDUNIFIED': '970',\n",
       " 'REGION15': 'M01',\n",
       " 'REGION10': 'M02',\n",
       " 'REGION7': 'M03',\n",
       " 'REGIONCORPO': 'M04',\n",
       " 'REGIONCEDS': 'M05',\n",
       " 'REGIONMPO': 'M06',\n",
       " 'REGIONTDM': 'M07',\n",
       " 'REGIONONECBUS': 'M08',\n",
       " 'JURIS': 'M10',\n",
       " 'JURIS-COUNTY': 'M11',\n",
       " 'COUNTY-TAZ': 'M20',\n",
       " 'COUNTY-TAZ-MAZ': 'M21',\n",
       " 'COUNTY-TAZ-MAZ-GRIDMAZ': 'M22'}"
      ]
     },
     "execution_count": 14,
     "metadata": {},
     "output_type": "execute_result"
    }
   ],
   "source": [
    "morpc.SUMLEVEL_LOOKUP"
   ]
  },
  {
   "cell_type": "code",
   "execution_count": 15,
   "id": "7cdd3b65-2b56-402b-9e3d-646af2254107",
   "metadata": {
    "tags": []
   },
   "outputs": [
    {
     "data": {
      "text/plain": [
       "{'010': 'US',\n",
       " '020': 'CENSUSREGION',\n",
       " '030': 'DIVISION',\n",
       " '040': 'STATE',\n",
       " '050': 'COUNTY',\n",
       " '060': 'COUNTY-COUSUB',\n",
       " '070': 'COUNTY-TOWNSHIP-REMAINDER',\n",
       " '140': 'COUNTY-TRACT',\n",
       " '150': 'COUNTY-TRACT-BG',\n",
       " '155': 'PLACE-COUNTY',\n",
       " '160': 'PLACE',\n",
       " '310': 'CBSA',\n",
       " '400': 'URBANAREA',\n",
       " '500': 'CONGRESS',\n",
       " '610': 'STATESENATE',\n",
       " '620': 'STATEHOUSE',\n",
       " '750': 'COUNTY-TRACT-BG-BLOCK',\n",
       " '795': 'PUMA',\n",
       " '850': 'ZCTA3',\n",
       " '860': 'ZCTA5',\n",
       " '930': 'CENSUSMPOREGION',\n",
       " '950': 'SDELEM',\n",
       " '960': 'SDHIGH',\n",
       " '970': 'SDUNIFIED',\n",
       " 'M01': 'REGION15',\n",
       " 'M02': 'REGION10',\n",
       " 'M03': 'REGION7',\n",
       " 'M04': 'REGIONCORPO',\n",
       " 'M05': 'REGIONCEDS',\n",
       " 'M06': 'REGIONMPO',\n",
       " 'M07': 'REGIONTDM',\n",
       " 'M08': 'REGIONONECBUS',\n",
       " 'M10': 'JURIS',\n",
       " 'M11': 'JURIS-COUNTY',\n",
       " 'M20': 'COUNTY-TAZ',\n",
       " 'M21': 'COUNTY-TAZ-MAZ',\n",
       " 'M22': 'COUNTY-TAZ-MAZ-GRIDMAZ'}"
      ]
     },
     "execution_count": 15,
     "metadata": {},
     "output_type": "execute_result"
    }
   ],
   "source": [
    "morpc.HIERARCHY_STRING_LOOKUP"
   ]
  },
  {
   "cell_type": "markdown",
   "id": "297209ab-cccb-482e-9af3-9396c72aab7a",
   "metadata": {
    "tags": []
   },
   "source": [
    "## countyLookup() Class "
   ]
  },
  {
   "cell_type": "markdown",
   "id": "3331c137-eb2d-4112-81c7-914c87416d5a",
   "metadata": {
    "tags": []
   },
   "source": [
    "### List counties and convert between county names and codes (Central Ohio, Ohio, or U.S.)"
   ]
  },
  {
   "cell_type": "markdown",
   "id": "89f92a26-ce15-46d9-80f7-9eb60a4d87d4",
   "metadata": {},
   "source": [
    "The library includes a Python class called `countyLookup`. Upon instantiation, this object is pre-loaded with a dataframe describing a set of counties whose scope is specified by the user.  The object includes methods for listing the counties by their names or GEOIDs and for two-way conversion between name and GEOID.\n",
    "\n",
    "  - `scope=\"morpc\"`     Default. Loads only the counties in the MORPC 15-county region (see `CONST_REGIONS['15-County Region']` above)\n",
    "  - `scope=\"corpo\"`     Loads only the counties in the CORPO region (see `CONST_REGIONS['CORPO Region']` above)\n",
    "  - `scope=\"ohio\"`      Loads all counties in Ohio\n",
    "  - `scope=\"us\"`      Loads all counties in the United States\n",
    "\n",
    "*NOTE: As of Jan 2024, some methods are not supported for scope=\"us\".  See details below.*"
   ]
  },
  {
   "cell_type": "markdown",
   "id": "d7c078d0-2a3e-4071-a7fe-63b53d871ec3",
   "metadata": {},
   "source": [
    "You can create an object containing the MORPC 15 counties as follows:"
   ]
  },
  {
   "cell_type": "code",
   "execution_count": 16,
   "id": "9e311883-2297-4407-91a0-08e7f7092dc0",
   "metadata": {
    "tags": []
   },
   "outputs": [
    {
     "name": "stdout",
     "output_type": "stream",
     "text": [
      "Loading data for MORPC 15-County region only\n"
     ]
    }
   ],
   "source": [
    "countyLookup = morpc.countyLookup()"
   ]
  },
  {
   "cell_type": "markdown",
   "id": "d32c9905-b64d-4264-aa99-fd7c61a389bb",
   "metadata": {},
   "source": [
    "Or if you prefer to be explicit:"
   ]
  },
  {
   "cell_type": "code",
   "execution_count": 17,
   "id": "157dd2dd-be31-4e6c-8b62-da98ea9aa294",
   "metadata": {
    "tags": []
   },
   "outputs": [
    {
     "name": "stdout",
     "output_type": "stream",
     "text": [
      "Loading data for MORPC 15-County region only\n"
     ]
    }
   ],
   "source": [
    "countyLookup = morpc.countyLookup(scope=\"morpc\")"
   ]
  },
  {
   "cell_type": "markdown",
   "id": "2bcd5a4a-5b26-4a9b-a323-a70b8671cda8",
   "metadata": {},
   "source": [
    "Either way, the object is populated with the following dataframe."
   ]
  },
  {
   "cell_type": "code",
   "execution_count": 18,
   "id": "7de53517-5703-40f0-a6ae-4f97cb1aaad3",
   "metadata": {
    "tags": []
   },
   "outputs": [
    {
     "data": {
      "text/html": [
       "<div>\n",
       "<style scoped>\n",
       "    .dataframe tbody tr th:only-of-type {\n",
       "        vertical-align: middle;\n",
       "    }\n",
       "\n",
       "    .dataframe tbody tr th {\n",
       "        vertical-align: top;\n",
       "    }\n",
       "\n",
       "    .dataframe thead th {\n",
       "        text-align: right;\n",
       "    }\n",
       "</style>\n",
       "<table border=\"1\" class=\"dataframe\">\n",
       "  <thead>\n",
       "    <tr style=\"text-align: right;\">\n",
       "      <th></th>\n",
       "      <th>GEOID</th>\n",
       "      <th>COUNTY_NAME</th>\n",
       "    </tr>\n",
       "  </thead>\n",
       "  <tbody>\n",
       "    <tr>\n",
       "      <th>2159</th>\n",
       "      <td>39041</td>\n",
       "      <td>Delaware</td>\n",
       "    </tr>\n",
       "    <tr>\n",
       "      <th>2160</th>\n",
       "      <td>39045</td>\n",
       "      <td>Fairfield</td>\n",
       "    </tr>\n",
       "    <tr>\n",
       "      <th>2161</th>\n",
       "      <td>39047</td>\n",
       "      <td>Fayette</td>\n",
       "    </tr>\n",
       "    <tr>\n",
       "      <th>649</th>\n",
       "      <td>39049</td>\n",
       "      <td>Franklin</td>\n",
       "    </tr>\n",
       "    <tr>\n",
       "      <th>2169</th>\n",
       "      <td>39073</td>\n",
       "      <td>Hocking</td>\n",
       "    </tr>\n",
       "    <tr>\n",
       "      <th>1358</th>\n",
       "      <td>39083</td>\n",
       "      <td>Knox</td>\n",
       "    </tr>\n",
       "    <tr>\n",
       "      <th>1359</th>\n",
       "      <td>39089</td>\n",
       "      <td>Licking</td>\n",
       "    </tr>\n",
       "    <tr>\n",
       "      <th>2175</th>\n",
       "      <td>39091</td>\n",
       "      <td>Logan</td>\n",
       "    </tr>\n",
       "    <tr>\n",
       "      <th>2177</th>\n",
       "      <td>39097</td>\n",
       "      <td>Madison</td>\n",
       "    </tr>\n",
       "    <tr>\n",
       "      <th>2178</th>\n",
       "      <td>39101</td>\n",
       "      <td>Marion</td>\n",
       "    </tr>\n",
       "    <tr>\n",
       "      <th>1364</th>\n",
       "      <td>39117</td>\n",
       "      <td>Morrow</td>\n",
       "    </tr>\n",
       "    <tr>\n",
       "      <th>2362</th>\n",
       "      <td>39127</td>\n",
       "      <td>Perry</td>\n",
       "    </tr>\n",
       "    <tr>\n",
       "      <th>1366</th>\n",
       "      <td>39129</td>\n",
       "      <td>Pickaway</td>\n",
       "    </tr>\n",
       "    <tr>\n",
       "      <th>2366</th>\n",
       "      <td>39141</td>\n",
       "      <td>Ross</td>\n",
       "    </tr>\n",
       "    <tr>\n",
       "      <th>2372</th>\n",
       "      <td>39159</td>\n",
       "      <td>Union</td>\n",
       "    </tr>\n",
       "  </tbody>\n",
       "</table>\n",
       "</div>"
      ],
      "text/plain": [
       "      GEOID COUNTY_NAME\n",
       "2159  39041    Delaware\n",
       "2160  39045   Fairfield\n",
       "2161  39047     Fayette\n",
       "649   39049    Franklin\n",
       "2169  39073     Hocking\n",
       "1358  39083        Knox\n",
       "1359  39089     Licking\n",
       "2175  39091       Logan\n",
       "2177  39097     Madison\n",
       "2178  39101      Marion\n",
       "1364  39117      Morrow\n",
       "2362  39127       Perry\n",
       "1366  39129    Pickaway\n",
       "2366  39141        Ross\n",
       "2372  39159       Union"
      ]
     },
     "execution_count": 18,
     "metadata": {},
     "output_type": "execute_result"
    }
   ],
   "source": [
    "countyLookup.df"
   ]
  },
  {
   "cell_type": "markdown",
   "id": "ec3c5a7e-8fca-4edf-90c8-524afca8412f",
   "metadata": {},
   "source": [
    "You can create a list of the names of the counties:"
   ]
  },
  {
   "cell_type": "code",
   "execution_count": 19,
   "id": "c785d10f-0f32-48be-a52d-95760d365e98",
   "metadata": {
    "tags": []
   },
   "outputs": [
    {
     "data": {
      "text/plain": [
       "['Delaware',\n",
       " 'Fairfield',\n",
       " 'Fayette',\n",
       " 'Franklin',\n",
       " 'Hocking',\n",
       " 'Knox',\n",
       " 'Licking',\n",
       " 'Logan',\n",
       " 'Madison',\n",
       " 'Marion',\n",
       " 'Morrow',\n",
       " 'Perry',\n",
       " 'Pickaway',\n",
       " 'Ross',\n",
       " 'Union']"
      ]
     },
     "execution_count": 19,
     "metadata": {},
     "output_type": "execute_result"
    }
   ],
   "source": [
    "countyLookup.list_names()"
   ]
  },
  {
   "cell_type": "markdown",
   "id": "e314b83f-d837-43fc-bb2b-2bb2ac461015",
   "metadata": {},
   "source": [
    "Or list their IDs:"
   ]
  },
  {
   "cell_type": "code",
   "execution_count": 20,
   "id": "fd95e559-dff4-486b-b944-8179588cafff",
   "metadata": {
    "tags": []
   },
   "outputs": [
    {
     "data": {
      "text/plain": [
       "['39041',\n",
       " '39045',\n",
       " '39047',\n",
       " '39049',\n",
       " '39073',\n",
       " '39083',\n",
       " '39089',\n",
       " '39091',\n",
       " '39097',\n",
       " '39101',\n",
       " '39117',\n",
       " '39127',\n",
       " '39129',\n",
       " '39141',\n",
       " '39159']"
      ]
     },
     "execution_count": 20,
     "metadata": {},
     "output_type": "execute_result"
    }
   ],
   "source": [
    "countyLookup.list_ids()"
   ]
  },
  {
   "cell_type": "markdown",
   "id": "7044d8c3-1391-41b2-9a65-44f679dd7bea",
   "metadata": {},
   "source": [
    "You can also look up the ID for a county given its name."
   ]
  },
  {
   "cell_type": "code",
   "execution_count": 21,
   "id": "6e8c761e-a2d8-4a40-8be3-6c8fd290ab2c",
   "metadata": {
    "tags": []
   },
   "outputs": [
    {
     "data": {
      "text/plain": [
       "'39073'"
      ]
     },
     "execution_count": 21,
     "metadata": {},
     "output_type": "execute_result"
    }
   ],
   "source": [
    "countyLookup.get_id(\"Hocking\")"
   ]
  },
  {
   "cell_type": "markdown",
   "id": "f15d85c3-c1a8-41d4-a721-158f07e1758d",
   "metadata": {},
   "source": [
    "Or look up its name given its ID."
   ]
  },
  {
   "cell_type": "code",
   "execution_count": 22,
   "id": "842bfb73-fe15-4ff7-8b4d-d7b0ddf936a7",
   "metadata": {
    "tags": []
   },
   "outputs": [
    {
     "data": {
      "text/plain": [
       "'Logan'"
      ]
     },
     "execution_count": 22,
     "metadata": {},
     "output_type": "execute_result"
    }
   ],
   "source": [
    "countyLookup.get_name(\"39091\")"
   ]
  }
 ],
 "metadata": {
  "kernelspec": {
   "display_name": "Python 3 (ipykernel)",
   "language": "python",
   "name": "python3"
  },
  "language_info": {
   "codemirror_mode": {
    "name": "ipython",
    "version": 3
   },
   "file_extension": ".py",
   "mimetype": "text/x-python",
   "name": "python",
   "nbconvert_exporter": "python",
   "pygments_lexer": "ipython3",
   "version": "3.12.10"
  }
 },
 "nbformat": 4,
 "nbformat_minor": 5
}
