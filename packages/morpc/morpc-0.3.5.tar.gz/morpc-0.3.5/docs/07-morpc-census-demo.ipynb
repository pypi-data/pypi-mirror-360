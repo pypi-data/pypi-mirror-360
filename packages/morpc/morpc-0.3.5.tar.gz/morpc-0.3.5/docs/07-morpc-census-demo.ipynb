{
 "cells": [
  {
   "cell_type": "markdown",
   "id": "67dd235a-bfeb-4083-9dbf-c2ea640fd7e9",
   "metadata": {},
   "source": [
    "# Census Data Tools"
   ]
  },
  {
   "cell_type": "markdown",
   "id": "7b8b20ce-a5fa-462f-bede-0ef5e2ae6bb5",
   "metadata": {
    "editable": true,
    "slideshow": {
     "slide_type": ""
    },
    "tags": []
   },
   "source": [
    "MORPC works regularly with census data, including but not limited to ACS 5 and 1-year, Decennial Census, PEP, and geographies. The following module is useful for gathering and organizing census data for processes in various workflow. Those workflows are linked when appropriate. "
   ]
  },
  {
   "cell_type": "code",
   "execution_count": 1,
   "id": "05fed715-960a-4ffe-95da-bf3a79b542dd",
   "metadata": {},
   "outputs": [],
   "source": [
    "import morpc"
   ]
  },
  {
   "cell_type": "markdown",
   "id": "b0b85d64-d991-4a4e-ad00-f6658aa82106",
   "metadata": {
    "editable": true,
    "slideshow": {
     "slide_type": ""
    },
    "tags": []
   },
   "source": [
    "## API functions and variables"
   ]
  },
  {
   "cell_type": "markdown",
   "id": "f7633fa8-5a34-4a92-b03f-eb6588706ba6",
   "metadata": {
    "editable": true,
    "slideshow": {
     "slide_type": ""
    },
    "tags": []
   },
   "source": [
    "api_get() is a low-level wrapper for Census API requests that returns the results as a pandas dataframe. If necessary, it splits the request into several smaller requests to bypass the 50-variable limit imposed by the API.  \n",
    "\n",
    "The resulting dataframe is indexed by GEOID (regardless of whether it was requested) and omits other fields that are not requested but which are returned automatically with each API request (e.g. \"state\", \"county\") "
   ]
  },
  {
   "cell_type": "code",
   "execution_count": 2,
   "id": "c4427da4-0688-4df4-869a-2c3c0bd7ac24",
   "metadata": {
    "editable": true,
    "slideshow": {
     "slide_type": ""
    },
    "tags": []
   },
   "outputs": [],
   "source": [
    "url = 'https://api.census.gov/data/2022/acs/acs1'\n",
    "params = {\n",
    "    \"get\": \"GEO_ID,NAME,B01001_001E\",\n",
    "    \"for\": \"county:049,041\",\n",
    "    \"in\": \"state:39\"\n",
    "}"
   ]
  },
  {
   "cell_type": "code",
   "execution_count": 3,
   "id": "6e899568-1d61-48f6-8bf7-40107991ee11",
   "metadata": {
    "editable": true,
    "slideshow": {
     "slide_type": ""
    },
    "tags": []
   },
   "outputs": [
    {
     "name": "stdout",
     "output_type": "stream",
     "text": [
      "Total variables requested: 3\n",
      "Starting request #1. 3 variables remain.\n"
     ]
    }
   ],
   "source": [
    "api = morpc.census.api_get(url, params)"
   ]
  },
  {
   "cell_type": "code",
   "execution_count": 4,
   "id": "47d8fe18-7e1b-4637-b5e1-e07536ba5b59",
   "metadata": {
    "editable": true,
    "slideshow": {
     "slide_type": ""
    },
    "tags": []
   },
   "outputs": [
    {
     "data": {
      "text/html": [
       "<div>\n",
       "<style scoped>\n",
       "    .dataframe tbody tr th:only-of-type {\n",
       "        vertical-align: middle;\n",
       "    }\n",
       "\n",
       "    .dataframe tbody tr th {\n",
       "        vertical-align: top;\n",
       "    }\n",
       "\n",
       "    .dataframe thead th {\n",
       "        text-align: right;\n",
       "    }\n",
       "</style>\n",
       "<table border=\"1\" class=\"dataframe\">\n",
       "  <thead>\n",
       "    <tr style=\"text-align: right;\">\n",
       "      <th></th>\n",
       "      <th>NAME</th>\n",
       "      <th>B01001_001E</th>\n",
       "    </tr>\n",
       "    <tr>\n",
       "      <th>GEO_ID</th>\n",
       "      <th></th>\n",
       "      <th></th>\n",
       "    </tr>\n",
       "  </thead>\n",
       "  <tbody>\n",
       "    <tr>\n",
       "      <th>0500000US39041</th>\n",
       "      <td>Delaware County, Ohio</td>\n",
       "      <td>226296</td>\n",
       "    </tr>\n",
       "    <tr>\n",
       "      <th>0500000US39049</th>\n",
       "      <td>Franklin County, Ohio</td>\n",
       "      <td>1321820</td>\n",
       "    </tr>\n",
       "  </tbody>\n",
       "</table>\n",
       "</div>"
      ],
      "text/plain": [
       "                                 NAME B01001_001E\n",
       "GEO_ID                                           \n",
       "0500000US39041  Delaware County, Ohio      226296\n",
       "0500000US39049  Franklin County, Ohio     1321820"
      ]
     },
     "execution_count": 4,
     "metadata": {},
     "output_type": "execute_result"
    }
   ],
   "source": [
    "api"
   ]
  },
  {
   "cell_type": "markdown",
   "id": "9c6072a9-4769-4119-81e8-3d84fdff2461",
   "metadata": {
    "editable": true,
    "slideshow": {
     "slide_type": ""
    },
    "tags": []
   },
   "source": [
    "## American Community Survey (ACS) Data Class"
   ]
  },
  {
   "cell_type": "markdown",
   "id": "5e3446b3-9ab5-47c0-b43d-9037a242318d",
   "metadata": {
    "editable": true,
    "slideshow": {
     "slide_type": ""
    },
    "tags": []
   },
   "source": [
    "When using ACS data, generally we will be digesting data produded using the [morpc-censusacs-fetch](https://github.com/morpc/morpc-censusacs-fetch) workflow. The data that is produced from that script is by default saved in its output_data folders ./morpc-censusacs-fetch/output_data/\n",
    "\n",
    "The Census ACS Fetch script leverages the `acs_data` class form `morpc.census`\n"
   ]
  },
  {
   "cell_type": "markdown",
   "id": "608f1325-7628-4406-ab85-57c2cdc1edcf",
   "metadata": {},
   "source": [
    "### Create an initial object which represents a variable in the ACS data api."
   ]
  },
  {
   "cell_type": "markdown",
   "id": "17518b8d-f37a-4d76-a9b7-28164604dddb",
   "metadata": {},
   "source": [
    "The class takes 3 arguments:\n",
    "\n",
    "1. variable group number\n",
    "2. the year\n",
    "3. the type of survey (1 or 5 year estimates)"
   ]
  },
  {
   "cell_type": "code",
   "execution_count": 5,
   "id": "2e12e814-e097-4448-9b13-321d63c2ee7a",
   "metadata": {},
   "outputs": [],
   "source": [
    "acs = morpc.census.acs_data('B11001', '2023', '5')"
   ]
  },
  {
   "cell_type": "markdown",
   "id": "6467c2db-d69d-4bbd-bb44-99f36d62be5a",
   "metadata": {},
   "source": [
    "The initial call creates queries the Census for the variable definitions and returns a dictionary of the available variables in the group. see `acs.VARS`"
   ]
  },
  {
   "cell_type": "code",
   "execution_count": 6,
   "id": "e29bca9d-9b85-4ab2-b74e-039721b32b06",
   "metadata": {},
   "outputs": [
    {
     "data": {
      "text/plain": [
       "{'B11001_001E': {'label': 'Estimate!!Total:',\n",
       "  'concept': 'Household Type (Including Living Alone)',\n",
       "  'predicateType': 'int',\n",
       "  'group': 'B11001',\n",
       "  'limit': 0,\n",
       "  'attributes': 'B11001_001EA,B11001_001M,B11001_001MA'},\n",
       " 'B11001_002E': {'label': 'Estimate!!Total:!!Family households:',\n",
       "  'concept': 'Household Type (Including Living Alone)',\n",
       "  'predicateType': 'int',\n",
       "  'group': 'B11001',\n",
       "  'limit': 0,\n",
       "  'attributes': 'B11001_002EA,B11001_002M,B11001_002MA'},\n",
       " 'B11001_003E': {'label': 'Estimate!!Total:!!Family households:!!Married-couple family',\n",
       "  'concept': 'Household Type (Including Living Alone)',\n",
       "  'predicateType': 'int',\n",
       "  'group': 'B11001',\n",
       "  'limit': 0,\n",
       "  'attributes': 'B11001_003EA,B11001_003M,B11001_003MA'},\n",
       " 'B11001_004E': {'label': 'Estimate!!Total:!!Family households:!!Other family:',\n",
       "  'concept': 'Household Type (Including Living Alone)',\n",
       "  'predicateType': 'int',\n",
       "  'group': 'B11001',\n",
       "  'limit': 0,\n",
       "  'attributes': 'B11001_004EA,B11001_004M,B11001_004MA'},\n",
       " 'B11001_005E': {'label': 'Estimate!!Total:!!Family households:!!Other family:!!Male householder, no spouse present',\n",
       "  'concept': 'Household Type (Including Living Alone)',\n",
       "  'predicateType': 'int',\n",
       "  'group': 'B11001',\n",
       "  'limit': 0,\n",
       "  'attributes': 'B11001_005EA,B11001_005M,B11001_005MA'},\n",
       " 'B11001_006E': {'label': 'Estimate!!Total:!!Family households:!!Other family:!!Female householder, no spouse present',\n",
       "  'concept': 'Household Type (Including Living Alone)',\n",
       "  'predicateType': 'int',\n",
       "  'group': 'B11001',\n",
       "  'limit': 0,\n",
       "  'attributes': 'B11001_006EA,B11001_006M,B11001_006MA'},\n",
       " 'B11001_007E': {'label': 'Estimate!!Total:!!Nonfamily households:',\n",
       "  'concept': 'Household Type (Including Living Alone)',\n",
       "  'predicateType': 'int',\n",
       "  'group': 'B11001',\n",
       "  'limit': 0,\n",
       "  'attributes': 'B11001_007EA,B11001_007M,B11001_007MA'},\n",
       " 'B11001_008E': {'label': 'Estimate!!Total:!!Nonfamily households:!!Householder living alone',\n",
       "  'concept': 'Household Type (Including Living Alone)',\n",
       "  'predicateType': 'int',\n",
       "  'group': 'B11001',\n",
       "  'limit': 0,\n",
       "  'attributes': 'B11001_008EA,B11001_008M,B11001_008MA'},\n",
       " 'B11001_009E': {'label': 'Estimate!!Total:!!Nonfamily households:!!Householder not living alone',\n",
       "  'concept': 'Household Type (Including Living Alone)',\n",
       "  'predicateType': 'int',\n",
       "  'group': 'B11001',\n",
       "  'limit': 0,\n",
       "  'attributes': 'B11001_009EA,B11001_009M,B11001_009MA'}}"
      ]
     },
     "execution_count": 6,
     "metadata": {},
     "output_type": "execute_result"
    }
   ],
   "source": [
    "acs.VARS"
   ]
  },
  {
   "cell_type": "markdown",
   "id": "b5a82123-0904-4430-a373-637d86f0ed4c",
   "metadata": {},
   "source": [
    "### Query the API for the deisred variables and geography"
   ]
  },
  {
   "cell_type": "markdown",
   "id": "a0dd814f-3173-4ca0-91c6-1d1ee792d4cf",
   "metadata": {},
   "source": [
    "The `.query()` method queries the API and caches the data in memory under `acs.DATA`. At the same time it creates a frictionless schema that corrosponds with the data. \n",
    "\n",
    "#### scope:\n",
    "These are pre-defined sumlevels and scopes for commonly queried geographies. see `morpc.census.SCOPES`."
   ]
  },
  {
   "cell_type": "code",
   "execution_count": 7,
   "id": "b2a95a1f-1b08-4576-bcad-26b823134263",
   "metadata": {},
   "outputs": [
    {
     "data": {
      "text/plain": [
       "{'us-states': {'desc': 'all states in the United States',\n",
       "  'for': 'state:*',\n",
       "  'in': 'us:*'},\n",
       " 'ohio': {'desc': 'the State of Ohio', 'for': 'state:39'},\n",
       " 'ohio-counties': {'desc': 'all counties in the State of Ohio',\n",
       "  'for': 'county:*',\n",
       "  'in': 'state:39'},\n",
       " 'ohio-tracts': {'desc': 'all Census tracts in the State of Ohio',\n",
       "  'for': 'tracts:*',\n",
       "  'in': 'state:39'},\n",
       " 'region15-counties': {'desc': 'all counties in the MORPC 15-county region',\n",
       "  'for': 'county:041,045,049,089,097,129,159,083,101,117,047,073,091,127,141',\n",
       "  'in': 'state:39'},\n",
       " 'region15-tracts': {'desc': 'all Census tracts in the MORPC 10-county region',\n",
       "  'for': 'tracts:*',\n",
       "  'in': ['state:39',\n",
       "   'county:041,045,049,089,097,129,159,083,101,117,047,073,091,127,141']},\n",
       " 'regionmpo-parts': {'desc': 'all Census township parts and place parts that are MORPC MPO members',\n",
       "  'ucgid': '1550000US3902582041,0700000US390410577499999,0700000US390410578899999,0700000US390410942899999,1550000US3918000041,0700000US390411814099999,1550000US3921434041,0700000US390412144899999,1550000US3922694041,1550000US3929148041,0700000US390412969499999,0700000US390413351699999,0700000US390414036299999,0700000US390414310699999,0700000US390414790899999,0700000US390415861899999,1550000US3958940041,0700000US390415926299999,0700000US390416417899999,1550000US3964486041,0700000US390416531299999,0700000US390417084299999,1550000US3971976041,1550000US3975602041,0700000US390417661799999,0700000US390417733699999,0700000US390417756099999,1550000US3983342041,0700000US390450695099999,1550000US3911332045,1550000US3918000045,1550000US3944086045,1550000US3962498045,1550000US3966390045,0700000US390458020699999,1550000US3906278049,0700000US390490692299999,1550000US3908532049,0700000US390490944299999,1550000US3911332049,0700000US390491611299999,1550000US3918000049,1550000US3922694049,0700000US390492828099999,1550000US3929106049,1550000US3931304049,1550000US3932592049,1550000US3932606049,0700000US390493302699999,1550000US3933740049,1550000US3935476049,0700000US390493777299999,0700000US390493861299999,1550000US3944086049,1550000US3944310049,0700000US390494641099999,1550000US3947474049,0700000US390495006499999,1550000US3950862049,1550000US3953970049,0700000US390495734499999,1550000US3957862049,0700000US390496184099999,1550000US3962498049,0700000US390496297499999,0700000US390496325499999,0700000US390496457099999,1550000US3966390049,1550000US3967440049,0700000US390497178799999,0700000US390497771499999,1550000US3979002049,1550000US3979100049,1550000US3979282049,0700000US390498124299999,1550000US3983342049,1550000US3984742049,1550000US3986604049,0700000US390892569099999,1550000US3939340089,1550000US3953970089,1550000US3961112089,1550000US3966390089,1550000US3963030097,1550000US3922694159,0700000US391593904699999,1550000US3963030159'}}"
      ]
     },
     "execution_count": 7,
     "metadata": {},
     "output_type": "execute_result"
    }
   ],
   "source": [
    "morpc.census.SCOPES"
   ]
  },
  {
   "cell_type": "code",
   "execution_count": 10,
   "id": "6edc98dd-d4ee-4463-924b-6e50414c9f91",
   "metadata": {},
   "outputs": [
    {
     "name": "stdout",
     "output_type": "stream",
     "text": [
      "morpc-acs5-2023-region15-counties-b11001 schema is valid\n",
      "Total variables requested: 19\n",
      "Starting request #1. 19 variables remain.\n"
     ]
    }
   ],
   "source": [
    "acs = acs.query(scope='region15-counties')"
   ]
  },
  {
   "cell_type": "code",
   "execution_count": 13,
   "id": "b1679733-7386-4617-b7d8-22e7000c397a",
   "metadata": {},
   "outputs": [
    {
     "data": {
      "text/html": [
       "<div>\n",
       "<style scoped>\n",
       "    .dataframe tbody tr th:only-of-type {\n",
       "        vertical-align: middle;\n",
       "    }\n",
       "\n",
       "    .dataframe tbody tr th {\n",
       "        vertical-align: top;\n",
       "    }\n",
       "\n",
       "    .dataframe thead th {\n",
       "        text-align: right;\n",
       "    }\n",
       "</style>\n",
       "<table border=\"1\" class=\"dataframe\">\n",
       "  <thead>\n",
       "    <tr style=\"text-align: right;\">\n",
       "      <th></th>\n",
       "      <th>B11001_001E</th>\n",
       "      <th>B11001_001M</th>\n",
       "      <th>B11001_002E</th>\n",
       "      <th>B11001_002M</th>\n",
       "      <th>B11001_003E</th>\n",
       "      <th>B11001_003M</th>\n",
       "      <th>B11001_004E</th>\n",
       "      <th>B11001_004M</th>\n",
       "      <th>B11001_005E</th>\n",
       "      <th>B11001_005M</th>\n",
       "      <th>B11001_006E</th>\n",
       "      <th>B11001_006M</th>\n",
       "      <th>B11001_007E</th>\n",
       "      <th>B11001_007M</th>\n",
       "      <th>B11001_008E</th>\n",
       "      <th>B11001_008M</th>\n",
       "      <th>B11001_009E</th>\n",
       "      <th>B11001_009M</th>\n",
       "    </tr>\n",
       "    <tr>\n",
       "      <th>GEO_ID</th>\n",
       "      <th></th>\n",
       "      <th></th>\n",
       "      <th></th>\n",
       "      <th></th>\n",
       "      <th></th>\n",
       "      <th></th>\n",
       "      <th></th>\n",
       "      <th></th>\n",
       "      <th></th>\n",
       "      <th></th>\n",
       "      <th></th>\n",
       "      <th></th>\n",
       "      <th></th>\n",
       "      <th></th>\n",
       "      <th></th>\n",
       "      <th></th>\n",
       "      <th></th>\n",
       "      <th></th>\n",
       "    </tr>\n",
       "  </thead>\n",
       "  <tbody>\n",
       "    <tr>\n",
       "      <th>0500000US39041</th>\n",
       "      <td>80455</td>\n",
       "      <td>530</td>\n",
       "      <td>61028</td>\n",
       "      <td>838</td>\n",
       "      <td>51755</td>\n",
       "      <td>1091</td>\n",
       "      <td>9273</td>\n",
       "      <td>752</td>\n",
       "      <td>3127</td>\n",
       "      <td>446</td>\n",
       "      <td>6146</td>\n",
       "      <td>586</td>\n",
       "      <td>19427</td>\n",
       "      <td>950</td>\n",
       "      <td>16217</td>\n",
       "      <td>917</td>\n",
       "      <td>3210</td>\n",
       "      <td>400</td>\n",
       "    </tr>\n",
       "    <tr>\n",
       "      <th>0500000US39045</th>\n",
       "      <td>59979</td>\n",
       "      <td>510</td>\n",
       "      <td>43253</td>\n",
       "      <td>884</td>\n",
       "      <td>33336</td>\n",
       "      <td>923</td>\n",
       "      <td>9917</td>\n",
       "      <td>792</td>\n",
       "      <td>3221</td>\n",
       "      <td>424</td>\n",
       "      <td>6696</td>\n",
       "      <td>662</td>\n",
       "      <td>16726</td>\n",
       "      <td>795</td>\n",
       "      <td>13678</td>\n",
       "      <td>805</td>\n",
       "      <td>3048</td>\n",
       "      <td>454</td>\n",
       "    </tr>\n",
       "    <tr>\n",
       "      <th>0500000US39047</th>\n",
       "      <td>11635</td>\n",
       "      <td>239</td>\n",
       "      <td>7341</td>\n",
       "      <td>347</td>\n",
       "      <td>5388</td>\n",
       "      <td>325</td>\n",
       "      <td>1953</td>\n",
       "      <td>260</td>\n",
       "      <td>693</td>\n",
       "      <td>161</td>\n",
       "      <td>1260</td>\n",
       "      <td>206</td>\n",
       "      <td>4294</td>\n",
       "      <td>372</td>\n",
       "      <td>3425</td>\n",
       "      <td>327</td>\n",
       "      <td>869</td>\n",
       "      <td>206</td>\n",
       "    </tr>\n",
       "    <tr>\n",
       "      <th>0500000US39049</th>\n",
       "      <td>547922</td>\n",
       "      <td>1767</td>\n",
       "      <td>312682</td>\n",
       "      <td>3140</td>\n",
       "      <td>210814</td>\n",
       "      <td>2936</td>\n",
       "      <td>101868</td>\n",
       "      <td>2740</td>\n",
       "      <td>27792</td>\n",
       "      <td>1453</td>\n",
       "      <td>74076</td>\n",
       "      <td>2069</td>\n",
       "      <td>235240</td>\n",
       "      <td>3220</td>\n",
       "      <td>181656</td>\n",
       "      <td>3175</td>\n",
       "      <td>53584</td>\n",
       "      <td>1904</td>\n",
       "    </tr>\n",
       "    <tr>\n",
       "      <th>0500000US39073</th>\n",
       "      <td>11565</td>\n",
       "      <td>286</td>\n",
       "      <td>8201</td>\n",
       "      <td>369</td>\n",
       "      <td>5923</td>\n",
       "      <td>417</td>\n",
       "      <td>2278</td>\n",
       "      <td>343</td>\n",
       "      <td>952</td>\n",
       "      <td>279</td>\n",
       "      <td>1326</td>\n",
       "      <td>257</td>\n",
       "      <td>3364</td>\n",
       "      <td>345</td>\n",
       "      <td>2816</td>\n",
       "      <td>329</td>\n",
       "      <td>548</td>\n",
       "      <td>120</td>\n",
       "    </tr>\n",
       "  </tbody>\n",
       "</table>\n",
       "</div>"
      ],
      "text/plain": [
       "                B11001_001E  B11001_001M  B11001_002E  B11001_002M  \\\n",
       "GEO_ID                                                               \n",
       "0500000US39041        80455          530        61028          838   \n",
       "0500000US39045        59979          510        43253          884   \n",
       "0500000US39047        11635          239         7341          347   \n",
       "0500000US39049       547922         1767       312682         3140   \n",
       "0500000US39073        11565          286         8201          369   \n",
       "\n",
       "                B11001_003E  B11001_003M  B11001_004E  B11001_004M  \\\n",
       "GEO_ID                                                               \n",
       "0500000US39041        51755         1091         9273          752   \n",
       "0500000US39045        33336          923         9917          792   \n",
       "0500000US39047         5388          325         1953          260   \n",
       "0500000US39049       210814         2936       101868         2740   \n",
       "0500000US39073         5923          417         2278          343   \n",
       "\n",
       "                B11001_005E  B11001_005M  B11001_006E  B11001_006M  \\\n",
       "GEO_ID                                                               \n",
       "0500000US39041         3127          446         6146          586   \n",
       "0500000US39045         3221          424         6696          662   \n",
       "0500000US39047          693          161         1260          206   \n",
       "0500000US39049        27792         1453        74076         2069   \n",
       "0500000US39073          952          279         1326          257   \n",
       "\n",
       "                B11001_007E  B11001_007M  B11001_008E  B11001_008M  \\\n",
       "GEO_ID                                                               \n",
       "0500000US39041        19427          950        16217          917   \n",
       "0500000US39045        16726          795        13678          805   \n",
       "0500000US39047         4294          372         3425          327   \n",
       "0500000US39049       235240         3220       181656         3175   \n",
       "0500000US39073         3364          345         2816          329   \n",
       "\n",
       "                B11001_009E  B11001_009M  \n",
       "GEO_ID                                    \n",
       "0500000US39041         3210          400  \n",
       "0500000US39045         3048          454  \n",
       "0500000US39047          869          206  \n",
       "0500000US39049        53584         1904  \n",
       "0500000US39073          548          120  "
      ]
     },
     "execution_count": 13,
     "metadata": {},
     "output_type": "execute_result"
    }
   ],
   "source": [
    "data = acs.DATA\n",
    "data.head()"
   ]
  },
  {
   "cell_type": "markdown",
   "id": "9d60a57d-c492-4709-b902-f3e4b6e330f0",
   "metadata": {},
   "source": [
    "### For custom queries, use for and in parameters to pass to api query. \n",
    "\n",
    "#### for_param:\n",
    "(optional) The geographies for which to call the the query \"state:*\" represents all states. \"state:39\" represent Ohio.\n",
    "\n",
    "#### in_param:\n",
    "(optional) A filter for the for parameter. In combinations this allows you do call for small geograhpies inside larger ones. \n",
    "\n",
    "> Examples: for_param=\"county:\\*\", in_param=\"state:39\" would get all counties in Ohio.\n",
    "> for_param=\"tract:\\*\", in_param='state:39,county:041,049' gets all census tracts in Delaware and Franklin Counties.\n",
    "\n",
    "### Filter the variables using the get parameter\n",
    "\n",
    "#### get_param:\n",
    "(Optional) If you want to return a subset of variables, they can be passed here as a list."
   ]
  },
  {
   "cell_type": "code",
   "execution_count": 15,
   "id": "d1630cf3-a0d1-4c37-847f-e089ac2c5fc5",
   "metadata": {},
   "outputs": [
    {
     "name": "stdout",
     "output_type": "stream",
     "text": [
      "morpc-acs5-2023-custom-ucgid-b11001-20250703-145508 schema is valid\n",
      "Total variables requested: 3\n",
      "Starting request #1. 3 variables remain.\n"
     ]
    }
   ],
   "source": [
    "acs = acs.query(get_param=['B11001_001E'], for_param='state:39')"
   ]
  },
  {
   "cell_type": "code",
   "execution_count": 16,
   "id": "2ac4234c-516d-4489-a627-8aba76c93214",
   "metadata": {},
   "outputs": [
    {
     "data": {
      "text/html": [
       "<div>\n",
       "<style scoped>\n",
       "    .dataframe tbody tr th:only-of-type {\n",
       "        vertical-align: middle;\n",
       "    }\n",
       "\n",
       "    .dataframe tbody tr th {\n",
       "        vertical-align: top;\n",
       "    }\n",
       "\n",
       "    .dataframe thead th {\n",
       "        text-align: right;\n",
       "    }\n",
       "</style>\n",
       "<table border=\"1\" class=\"dataframe\">\n",
       "  <thead>\n",
       "    <tr style=\"text-align: right;\">\n",
       "      <th></th>\n",
       "      <th>B11001_001E</th>\n",
       "      <th>B11001_001M</th>\n",
       "    </tr>\n",
       "    <tr>\n",
       "      <th>GEO_ID</th>\n",
       "      <th></th>\n",
       "      <th></th>\n",
       "    </tr>\n",
       "  </thead>\n",
       "  <tbody>\n",
       "    <tr>\n",
       "      <th>0400000US39</th>\n",
       "      <td>4829571</td>\n",
       "      <td>8204</td>\n",
       "    </tr>\n",
       "  </tbody>\n",
       "</table>\n",
       "</div>"
      ],
      "text/plain": [
       "             B11001_001E  B11001_001M\n",
       "GEO_ID                               \n",
       "0400000US39      4829571         8204"
      ]
     },
     "execution_count": 16,
     "metadata": {},
     "output_type": "execute_result"
    }
   ],
   "source": [
    "acs.DATA"
   ]
  },
  {
   "cell_type": "markdown",
   "id": "64db52d7-696d-4b1f-b200-a586e8f7541d",
   "metadata": {},
   "source": [
    "### Dimension Tables"
   ]
  },
  {
   "cell_type": "markdown",
   "id": "dc697c71-0e23-482c-80f0-a7fa5fbae7ec",
   "metadata": {},
   "source": [
    "When the query is called the class makes table with the dimensions included that can be used to get summaries of the data. \n",
    "\n",
    "This can be used to get quick queries for summaries. "
   ]
  },
  {
   "cell_type": "code",
   "execution_count": 26,
   "id": "e34ecb04-13c4-4f87-8db3-45ea7e984f23",
   "metadata": {},
   "outputs": [
    {
     "name": "stdout",
     "output_type": "stream",
     "text": [
      "morpc-acs5-2023-region15-counties-b11001 schema is valid\n",
      "Total variables requested: 5\n",
      "Starting request #1. 5 variables remain.\n"
     ]
    },
    {
     "data": {
      "text/html": [
       "<div>\n",
       "<style scoped>\n",
       "    .dataframe tbody tr th:only-of-type {\n",
       "        vertical-align: middle;\n",
       "    }\n",
       "\n",
       "    .dataframe tbody tr th {\n",
       "        vertical-align: top;\n",
       "    }\n",
       "\n",
       "    .dataframe thead th {\n",
       "        text-align: right;\n",
       "    }\n",
       "</style>\n",
       "<table border=\"1\" class=\"dataframe\">\n",
       "  <thead>\n",
       "    <tr style=\"text-align: right;\">\n",
       "      <th></th>\n",
       "      <th>GEO_ID</th>\n",
       "      <th>VARIABLE</th>\n",
       "      <th>VALUE</th>\n",
       "      <th>VAR_TYPE</th>\n",
       "      <th>DIM_1</th>\n",
       "    </tr>\n",
       "  </thead>\n",
       "  <tbody>\n",
       "    <tr>\n",
       "      <th>0</th>\n",
       "      <td>0500000US39041</td>\n",
       "      <td>B11001_002E</td>\n",
       "      <td>61028</td>\n",
       "      <td>Estimate</td>\n",
       "      <td>Family households</td>\n",
       "    </tr>\n",
       "    <tr>\n",
       "      <th>1</th>\n",
       "      <td>0500000US39045</td>\n",
       "      <td>B11001_002E</td>\n",
       "      <td>43253</td>\n",
       "      <td>Estimate</td>\n",
       "      <td>Family households</td>\n",
       "    </tr>\n",
       "    <tr>\n",
       "      <th>2</th>\n",
       "      <td>0500000US39047</td>\n",
       "      <td>B11001_002E</td>\n",
       "      <td>7341</td>\n",
       "      <td>Estimate</td>\n",
       "      <td>Family households</td>\n",
       "    </tr>\n",
       "    <tr>\n",
       "      <th>3</th>\n",
       "      <td>0500000US39049</td>\n",
       "      <td>B11001_002E</td>\n",
       "      <td>312682</td>\n",
       "      <td>Estimate</td>\n",
       "      <td>Family households</td>\n",
       "    </tr>\n",
       "    <tr>\n",
       "      <th>4</th>\n",
       "      <td>0500000US39073</td>\n",
       "      <td>B11001_002E</td>\n",
       "      <td>8201</td>\n",
       "      <td>Estimate</td>\n",
       "      <td>Family households</td>\n",
       "    </tr>\n",
       "    <tr>\n",
       "      <th>5</th>\n",
       "      <td>0500000US39083</td>\n",
       "      <td>B11001_002E</td>\n",
       "      <td>15762</td>\n",
       "      <td>Estimate</td>\n",
       "      <td>Family households</td>\n",
       "    </tr>\n",
       "    <tr>\n",
       "      <th>6</th>\n",
       "      <td>0500000US39089</td>\n",
       "      <td>B11001_002E</td>\n",
       "      <td>47574</td>\n",
       "      <td>Estimate</td>\n",
       "      <td>Family households</td>\n",
       "    </tr>\n",
       "    <tr>\n",
       "      <th>7</th>\n",
       "      <td>0500000US39091</td>\n",
       "      <td>B11001_002E</td>\n",
       "      <td>13049</td>\n",
       "      <td>Estimate</td>\n",
       "      <td>Family households</td>\n",
       "    </tr>\n",
       "    <tr>\n",
       "      <th>8</th>\n",
       "      <td>0500000US39097</td>\n",
       "      <td>B11001_002E</td>\n",
       "      <td>10139</td>\n",
       "      <td>Estimate</td>\n",
       "      <td>Family households</td>\n",
       "    </tr>\n",
       "    <tr>\n",
       "      <th>9</th>\n",
       "      <td>0500000US39101</td>\n",
       "      <td>B11001_002E</td>\n",
       "      <td>15263</td>\n",
       "      <td>Estimate</td>\n",
       "      <td>Family households</td>\n",
       "    </tr>\n",
       "    <tr>\n",
       "      <th>10</th>\n",
       "      <td>0500000US39117</td>\n",
       "      <td>B11001_002E</td>\n",
       "      <td>9617</td>\n",
       "      <td>Estimate</td>\n",
       "      <td>Family households</td>\n",
       "    </tr>\n",
       "    <tr>\n",
       "      <th>11</th>\n",
       "      <td>0500000US39127</td>\n",
       "      <td>B11001_002E</td>\n",
       "      <td>9537</td>\n",
       "      <td>Estimate</td>\n",
       "      <td>Family households</td>\n",
       "    </tr>\n",
       "    <tr>\n",
       "      <th>12</th>\n",
       "      <td>0500000US39129</td>\n",
       "      <td>B11001_002E</td>\n",
       "      <td>14808</td>\n",
       "      <td>Estimate</td>\n",
       "      <td>Family households</td>\n",
       "    </tr>\n",
       "    <tr>\n",
       "      <th>13</th>\n",
       "      <td>0500000US39141</td>\n",
       "      <td>B11001_002E</td>\n",
       "      <td>18539</td>\n",
       "      <td>Estimate</td>\n",
       "      <td>Family households</td>\n",
       "    </tr>\n",
       "    <tr>\n",
       "      <th>14</th>\n",
       "      <td>0500000US39159</td>\n",
       "      <td>B11001_002E</td>\n",
       "      <td>17567</td>\n",
       "      <td>Estimate</td>\n",
       "      <td>Family households</td>\n",
       "    </tr>\n",
       "    <tr>\n",
       "      <th>15</th>\n",
       "      <td>0500000US39041</td>\n",
       "      <td>B11001_002M</td>\n",
       "      <td>838</td>\n",
       "      <td>MOE</td>\n",
       "      <td>Family households</td>\n",
       "    </tr>\n",
       "    <tr>\n",
       "      <th>16</th>\n",
       "      <td>0500000US39045</td>\n",
       "      <td>B11001_002M</td>\n",
       "      <td>884</td>\n",
       "      <td>MOE</td>\n",
       "      <td>Family households</td>\n",
       "    </tr>\n",
       "    <tr>\n",
       "      <th>17</th>\n",
       "      <td>0500000US39047</td>\n",
       "      <td>B11001_002M</td>\n",
       "      <td>347</td>\n",
       "      <td>MOE</td>\n",
       "      <td>Family households</td>\n",
       "    </tr>\n",
       "    <tr>\n",
       "      <th>18</th>\n",
       "      <td>0500000US39049</td>\n",
       "      <td>B11001_002M</td>\n",
       "      <td>3140</td>\n",
       "      <td>MOE</td>\n",
       "      <td>Family households</td>\n",
       "    </tr>\n",
       "    <tr>\n",
       "      <th>19</th>\n",
       "      <td>0500000US39073</td>\n",
       "      <td>B11001_002M</td>\n",
       "      <td>369</td>\n",
       "      <td>MOE</td>\n",
       "      <td>Family households</td>\n",
       "    </tr>\n",
       "    <tr>\n",
       "      <th>20</th>\n",
       "      <td>0500000US39083</td>\n",
       "      <td>B11001_002M</td>\n",
       "      <td>610</td>\n",
       "      <td>MOE</td>\n",
       "      <td>Family households</td>\n",
       "    </tr>\n",
       "    <tr>\n",
       "      <th>21</th>\n",
       "      <td>0500000US39089</td>\n",
       "      <td>B11001_002M</td>\n",
       "      <td>847</td>\n",
       "      <td>MOE</td>\n",
       "      <td>Family households</td>\n",
       "    </tr>\n",
       "    <tr>\n",
       "      <th>22</th>\n",
       "      <td>0500000US39091</td>\n",
       "      <td>B11001_002M</td>\n",
       "      <td>374</td>\n",
       "      <td>MOE</td>\n",
       "      <td>Family households</td>\n",
       "    </tr>\n",
       "    <tr>\n",
       "      <th>23</th>\n",
       "      <td>0500000US39097</td>\n",
       "      <td>B11001_002M</td>\n",
       "      <td>419</td>\n",
       "      <td>MOE</td>\n",
       "      <td>Family households</td>\n",
       "    </tr>\n",
       "    <tr>\n",
       "      <th>24</th>\n",
       "      <td>0500000US39101</td>\n",
       "      <td>B11001_002M</td>\n",
       "      <td>600</td>\n",
       "      <td>MOE</td>\n",
       "      <td>Family households</td>\n",
       "    </tr>\n",
       "    <tr>\n",
       "      <th>25</th>\n",
       "      <td>0500000US39117</td>\n",
       "      <td>B11001_002M</td>\n",
       "      <td>472</td>\n",
       "      <td>MOE</td>\n",
       "      <td>Family households</td>\n",
       "    </tr>\n",
       "    <tr>\n",
       "      <th>26</th>\n",
       "      <td>0500000US39127</td>\n",
       "      <td>B11001_002M</td>\n",
       "      <td>396</td>\n",
       "      <td>MOE</td>\n",
       "      <td>Family households</td>\n",
       "    </tr>\n",
       "    <tr>\n",
       "      <th>27</th>\n",
       "      <td>0500000US39129</td>\n",
       "      <td>B11001_002M</td>\n",
       "      <td>474</td>\n",
       "      <td>MOE</td>\n",
       "      <td>Family households</td>\n",
       "    </tr>\n",
       "    <tr>\n",
       "      <th>28</th>\n",
       "      <td>0500000US39141</td>\n",
       "      <td>B11001_002M</td>\n",
       "      <td>699</td>\n",
       "      <td>MOE</td>\n",
       "      <td>Family households</td>\n",
       "    </tr>\n",
       "    <tr>\n",
       "      <th>29</th>\n",
       "      <td>0500000US39159</td>\n",
       "      <td>B11001_002M</td>\n",
       "      <td>529</td>\n",
       "      <td>MOE</td>\n",
       "      <td>Family households</td>\n",
       "    </tr>\n",
       "    <tr>\n",
       "      <th>30</th>\n",
       "      <td>0500000US39041</td>\n",
       "      <td>B11001_007E</td>\n",
       "      <td>19427</td>\n",
       "      <td>Estimate</td>\n",
       "      <td>Nonfamily households</td>\n",
       "    </tr>\n",
       "    <tr>\n",
       "      <th>31</th>\n",
       "      <td>0500000US39045</td>\n",
       "      <td>B11001_007E</td>\n",
       "      <td>16726</td>\n",
       "      <td>Estimate</td>\n",
       "      <td>Nonfamily households</td>\n",
       "    </tr>\n",
       "    <tr>\n",
       "      <th>32</th>\n",
       "      <td>0500000US39047</td>\n",
       "      <td>B11001_007E</td>\n",
       "      <td>4294</td>\n",
       "      <td>Estimate</td>\n",
       "      <td>Nonfamily households</td>\n",
       "    </tr>\n",
       "    <tr>\n",
       "      <th>33</th>\n",
       "      <td>0500000US39049</td>\n",
       "      <td>B11001_007E</td>\n",
       "      <td>235240</td>\n",
       "      <td>Estimate</td>\n",
       "      <td>Nonfamily households</td>\n",
       "    </tr>\n",
       "    <tr>\n",
       "      <th>34</th>\n",
       "      <td>0500000US39073</td>\n",
       "      <td>B11001_007E</td>\n",
       "      <td>3364</td>\n",
       "      <td>Estimate</td>\n",
       "      <td>Nonfamily households</td>\n",
       "    </tr>\n",
       "    <tr>\n",
       "      <th>35</th>\n",
       "      <td>0500000US39083</td>\n",
       "      <td>B11001_007E</td>\n",
       "      <td>7673</td>\n",
       "      <td>Estimate</td>\n",
       "      <td>Nonfamily households</td>\n",
       "    </tr>\n",
       "    <tr>\n",
       "      <th>36</th>\n",
       "      <td>0500000US39089</td>\n",
       "      <td>B11001_007E</td>\n",
       "      <td>20731</td>\n",
       "      <td>Estimate</td>\n",
       "      <td>Nonfamily households</td>\n",
       "    </tr>\n",
       "    <tr>\n",
       "      <th>37</th>\n",
       "      <td>0500000US39091</td>\n",
       "      <td>B11001_007E</td>\n",
       "      <td>6509</td>\n",
       "      <td>Estimate</td>\n",
       "      <td>Nonfamily households</td>\n",
       "    </tr>\n",
       "    <tr>\n",
       "      <th>38</th>\n",
       "      <td>0500000US39097</td>\n",
       "      <td>B11001_007E</td>\n",
       "      <td>5222</td>\n",
       "      <td>Estimate</td>\n",
       "      <td>Nonfamily households</td>\n",
       "    </tr>\n",
       "    <tr>\n",
       "      <th>39</th>\n",
       "      <td>0500000US39101</td>\n",
       "      <td>B11001_007E</td>\n",
       "      <td>9261</td>\n",
       "      <td>Estimate</td>\n",
       "      <td>Nonfamily households</td>\n",
       "    </tr>\n",
       "    <tr>\n",
       "      <th>40</th>\n",
       "      <td>0500000US39117</td>\n",
       "      <td>B11001_007E</td>\n",
       "      <td>3832</td>\n",
       "      <td>Estimate</td>\n",
       "      <td>Nonfamily households</td>\n",
       "    </tr>\n",
       "    <tr>\n",
       "      <th>41</th>\n",
       "      <td>0500000US39127</td>\n",
       "      <td>B11001_007E</td>\n",
       "      <td>3812</td>\n",
       "      <td>Estimate</td>\n",
       "      <td>Nonfamily households</td>\n",
       "    </tr>\n",
       "    <tr>\n",
       "      <th>42</th>\n",
       "      <td>0500000US39129</td>\n",
       "      <td>B11001_007E</td>\n",
       "      <td>6604</td>\n",
       "      <td>Estimate</td>\n",
       "      <td>Nonfamily households</td>\n",
       "    </tr>\n",
       "    <tr>\n",
       "      <th>43</th>\n",
       "      <td>0500000US39141</td>\n",
       "      <td>B11001_007E</td>\n",
       "      <td>10890</td>\n",
       "      <td>Estimate</td>\n",
       "      <td>Nonfamily households</td>\n",
       "    </tr>\n",
       "    <tr>\n",
       "      <th>44</th>\n",
       "      <td>0500000US39159</td>\n",
       "      <td>B11001_007E</td>\n",
       "      <td>5928</td>\n",
       "      <td>Estimate</td>\n",
       "      <td>Nonfamily households</td>\n",
       "    </tr>\n",
       "    <tr>\n",
       "      <th>45</th>\n",
       "      <td>0500000US39041</td>\n",
       "      <td>B11001_007M</td>\n",
       "      <td>950</td>\n",
       "      <td>MOE</td>\n",
       "      <td>Nonfamily households</td>\n",
       "    </tr>\n",
       "    <tr>\n",
       "      <th>46</th>\n",
       "      <td>0500000US39045</td>\n",
       "      <td>B11001_007M</td>\n",
       "      <td>795</td>\n",
       "      <td>MOE</td>\n",
       "      <td>Nonfamily households</td>\n",
       "    </tr>\n",
       "    <tr>\n",
       "      <th>47</th>\n",
       "      <td>0500000US39047</td>\n",
       "      <td>B11001_007M</td>\n",
       "      <td>372</td>\n",
       "      <td>MOE</td>\n",
       "      <td>Nonfamily households</td>\n",
       "    </tr>\n",
       "    <tr>\n",
       "      <th>48</th>\n",
       "      <td>0500000US39049</td>\n",
       "      <td>B11001_007M</td>\n",
       "      <td>3220</td>\n",
       "      <td>MOE</td>\n",
       "      <td>Nonfamily households</td>\n",
       "    </tr>\n",
       "    <tr>\n",
       "      <th>49</th>\n",
       "      <td>0500000US39073</td>\n",
       "      <td>B11001_007M</td>\n",
       "      <td>345</td>\n",
       "      <td>MOE</td>\n",
       "      <td>Nonfamily households</td>\n",
       "    </tr>\n",
       "    <tr>\n",
       "      <th>50</th>\n",
       "      <td>0500000US39083</td>\n",
       "      <td>B11001_007M</td>\n",
       "      <td>609</td>\n",
       "      <td>MOE</td>\n",
       "      <td>Nonfamily households</td>\n",
       "    </tr>\n",
       "    <tr>\n",
       "      <th>51</th>\n",
       "      <td>0500000US39089</td>\n",
       "      <td>B11001_007M</td>\n",
       "      <td>973</td>\n",
       "      <td>MOE</td>\n",
       "      <td>Nonfamily households</td>\n",
       "    </tr>\n",
       "    <tr>\n",
       "      <th>52</th>\n",
       "      <td>0500000US39091</td>\n",
       "      <td>B11001_007M</td>\n",
       "      <td>471</td>\n",
       "      <td>MOE</td>\n",
       "      <td>Nonfamily households</td>\n",
       "    </tr>\n",
       "    <tr>\n",
       "      <th>53</th>\n",
       "      <td>0500000US39097</td>\n",
       "      <td>B11001_007M</td>\n",
       "      <td>432</td>\n",
       "      <td>MOE</td>\n",
       "      <td>Nonfamily households</td>\n",
       "    </tr>\n",
       "    <tr>\n",
       "      <th>54</th>\n",
       "      <td>0500000US39101</td>\n",
       "      <td>B11001_007M</td>\n",
       "      <td>511</td>\n",
       "      <td>MOE</td>\n",
       "      <td>Nonfamily households</td>\n",
       "    </tr>\n",
       "    <tr>\n",
       "      <th>55</th>\n",
       "      <td>0500000US39117</td>\n",
       "      <td>B11001_007M</td>\n",
       "      <td>404</td>\n",
       "      <td>MOE</td>\n",
       "      <td>Nonfamily households</td>\n",
       "    </tr>\n",
       "    <tr>\n",
       "      <th>56</th>\n",
       "      <td>0500000US39127</td>\n",
       "      <td>B11001_007M</td>\n",
       "      <td>322</td>\n",
       "      <td>MOE</td>\n",
       "      <td>Nonfamily households</td>\n",
       "    </tr>\n",
       "    <tr>\n",
       "      <th>57</th>\n",
       "      <td>0500000US39129</td>\n",
       "      <td>B11001_007M</td>\n",
       "      <td>498</td>\n",
       "      <td>MOE</td>\n",
       "      <td>Nonfamily households</td>\n",
       "    </tr>\n",
       "    <tr>\n",
       "      <th>58</th>\n",
       "      <td>0500000US39141</td>\n",
       "      <td>B11001_007M</td>\n",
       "      <td>779</td>\n",
       "      <td>MOE</td>\n",
       "      <td>Nonfamily households</td>\n",
       "    </tr>\n",
       "    <tr>\n",
       "      <th>59</th>\n",
       "      <td>0500000US39159</td>\n",
       "      <td>B11001_007M</td>\n",
       "      <td>570</td>\n",
       "      <td>MOE</td>\n",
       "      <td>Nonfamily households</td>\n",
       "    </tr>\n",
       "  </tbody>\n",
       "</table>\n",
       "</div>"
      ],
      "text/plain": [
       "            GEO_ID     VARIABLE   VALUE  VAR_TYPE                 DIM_1\n",
       "0   0500000US39041  B11001_002E   61028  Estimate     Family households\n",
       "1   0500000US39045  B11001_002E   43253  Estimate     Family households\n",
       "2   0500000US39047  B11001_002E    7341  Estimate     Family households\n",
       "3   0500000US39049  B11001_002E  312682  Estimate     Family households\n",
       "4   0500000US39073  B11001_002E    8201  Estimate     Family households\n",
       "5   0500000US39083  B11001_002E   15762  Estimate     Family households\n",
       "6   0500000US39089  B11001_002E   47574  Estimate     Family households\n",
       "7   0500000US39091  B11001_002E   13049  Estimate     Family households\n",
       "8   0500000US39097  B11001_002E   10139  Estimate     Family households\n",
       "9   0500000US39101  B11001_002E   15263  Estimate     Family households\n",
       "10  0500000US39117  B11001_002E    9617  Estimate     Family households\n",
       "11  0500000US39127  B11001_002E    9537  Estimate     Family households\n",
       "12  0500000US39129  B11001_002E   14808  Estimate     Family households\n",
       "13  0500000US39141  B11001_002E   18539  Estimate     Family households\n",
       "14  0500000US39159  B11001_002E   17567  Estimate     Family households\n",
       "15  0500000US39041  B11001_002M     838       MOE     Family households\n",
       "16  0500000US39045  B11001_002M     884       MOE     Family households\n",
       "17  0500000US39047  B11001_002M     347       MOE     Family households\n",
       "18  0500000US39049  B11001_002M    3140       MOE     Family households\n",
       "19  0500000US39073  B11001_002M     369       MOE     Family households\n",
       "20  0500000US39083  B11001_002M     610       MOE     Family households\n",
       "21  0500000US39089  B11001_002M     847       MOE     Family households\n",
       "22  0500000US39091  B11001_002M     374       MOE     Family households\n",
       "23  0500000US39097  B11001_002M     419       MOE     Family households\n",
       "24  0500000US39101  B11001_002M     600       MOE     Family households\n",
       "25  0500000US39117  B11001_002M     472       MOE     Family households\n",
       "26  0500000US39127  B11001_002M     396       MOE     Family households\n",
       "27  0500000US39129  B11001_002M     474       MOE     Family households\n",
       "28  0500000US39141  B11001_002M     699       MOE     Family households\n",
       "29  0500000US39159  B11001_002M     529       MOE     Family households\n",
       "30  0500000US39041  B11001_007E   19427  Estimate  Nonfamily households\n",
       "31  0500000US39045  B11001_007E   16726  Estimate  Nonfamily households\n",
       "32  0500000US39047  B11001_007E    4294  Estimate  Nonfamily households\n",
       "33  0500000US39049  B11001_007E  235240  Estimate  Nonfamily households\n",
       "34  0500000US39073  B11001_007E    3364  Estimate  Nonfamily households\n",
       "35  0500000US39083  B11001_007E    7673  Estimate  Nonfamily households\n",
       "36  0500000US39089  B11001_007E   20731  Estimate  Nonfamily households\n",
       "37  0500000US39091  B11001_007E    6509  Estimate  Nonfamily households\n",
       "38  0500000US39097  B11001_007E    5222  Estimate  Nonfamily households\n",
       "39  0500000US39101  B11001_007E    9261  Estimate  Nonfamily households\n",
       "40  0500000US39117  B11001_007E    3832  Estimate  Nonfamily households\n",
       "41  0500000US39127  B11001_007E    3812  Estimate  Nonfamily households\n",
       "42  0500000US39129  B11001_007E    6604  Estimate  Nonfamily households\n",
       "43  0500000US39141  B11001_007E   10890  Estimate  Nonfamily households\n",
       "44  0500000US39159  B11001_007E    5928  Estimate  Nonfamily households\n",
       "45  0500000US39041  B11001_007M     950       MOE  Nonfamily households\n",
       "46  0500000US39045  B11001_007M     795       MOE  Nonfamily households\n",
       "47  0500000US39047  B11001_007M     372       MOE  Nonfamily households\n",
       "48  0500000US39049  B11001_007M    3220       MOE  Nonfamily households\n",
       "49  0500000US39073  B11001_007M     345       MOE  Nonfamily households\n",
       "50  0500000US39083  B11001_007M     609       MOE  Nonfamily households\n",
       "51  0500000US39089  B11001_007M     973       MOE  Nonfamily households\n",
       "52  0500000US39091  B11001_007M     471       MOE  Nonfamily households\n",
       "53  0500000US39097  B11001_007M     432       MOE  Nonfamily households\n",
       "54  0500000US39101  B11001_007M     511       MOE  Nonfamily households\n",
       "55  0500000US39117  B11001_007M     404       MOE  Nonfamily households\n",
       "56  0500000US39127  B11001_007M     322       MOE  Nonfamily households\n",
       "57  0500000US39129  B11001_007M     498       MOE  Nonfamily households\n",
       "58  0500000US39141  B11001_007M     779       MOE  Nonfamily households\n",
       "59  0500000US39159  B11001_007M     570       MOE  Nonfamily households"
      ]
     },
     "execution_count": 26,
     "metadata": {},
     "output_type": "execute_result"
    }
   ],
   "source": [
    "acs = morpc.census.acs_data('B11001', '2023', '5')\n",
    "acs = acs.query(scope='region15-counties', get_param=['B11001_002E', 'B11001_007E'])\n",
    "acs.DIM_TABLE"
   ]
  },
  {
   "cell_type": "markdown",
   "id": "a4338f6c-872e-4608-8175-1626df78ec53",
   "metadata": {},
   "source": [
    "### Save raw data (not dim table) as a frictionless resource with schema"
   ]
  },
  {
   "cell_type": "markdown",
   "id": "96f11ecb-e9c3-43d2-9187-8a680038b27a",
   "metadata": {},
   "source": [
    "After querying the data, save the data as a frictionless resource with reasonable descriptors. "
   ]
  },
  {
   "cell_type": "code",
   "execution_count": 27,
   "id": "e52439a5-b659-4641-adb6-9e1262071bb4",
   "metadata": {},
   "outputs": [
    {
     "data": {
      "text/plain": [
       "{'fields': [{'name': 'GEO_ID',\n",
       "             'type': 'string',\n",
       "             'description': 'Unique identifier for geography'},\n",
       "            {'name': 'B11001_002E',\n",
       "             'type': 'integer',\n",
       "             'description': 'Estimate!!Total:!!Family households: | Household '\n",
       "                            'Type (Including Living Alone) | Estimate'},\n",
       "            {'name': 'B11001_002M',\n",
       "             'type': 'integer',\n",
       "             'description': 'Estimate!!Total:!!Family households: | Household '\n",
       "                            'Type (Including Living Alone) | MOE'},\n",
       "            {'name': 'B11001_007E',\n",
       "             'type': 'integer',\n",
       "             'description': 'Estimate!!Total:!!Nonfamily households: | '\n",
       "                            'Household Type (Including Living Alone) | '\n",
       "                            'Estimate'},\n",
       "            {'name': 'B11001_007M',\n",
       "             'type': 'integer',\n",
       "             'description': 'Estimate!!Total:!!Nonfamily households: | '\n",
       "                            'Household Type (Including Living Alone) | MOE'}],\n",
       " 'missingValues': ['',\n",
       "                   '-222222222',\n",
       "                   '-333333333',\n",
       "                   '-555555555',\n",
       "                   '-666666666',\n",
       "                   '-888888888',\n",
       "                   '-999999999'],\n",
       " 'primaryKey': ['GEO_ID']}"
      ]
     },
     "execution_count": 27,
     "metadata": {},
     "output_type": "execute_result"
    }
   ],
   "source": [
    "acs.SCHEMA"
   ]
  },
  {
   "cell_type": "code",
   "execution_count": 28,
   "id": "76d44f80-a9a0-48ca-a2d7-b217c75a0dcc",
   "metadata": {},
   "outputs": [
    {
     "name": "stdout",
     "output_type": "stream",
     "text": [
      "Resource is valid.\n"
     ]
    }
   ],
   "source": [
    "acs.save(output_dir='./temp_data/')"
   ]
  },
  {
   "cell_type": "code",
   "execution_count": 29,
   "id": "f85a5f5e-d4ff-49b7-97e6-7c433dd1ed2b",
   "metadata": {},
   "outputs": [
    {
     "data": {
      "text/plain": [
       "{'name': 'morpc-acs5-2023-region15-counties-b11001',\n",
       " 'type': 'table',\n",
       " 'title': '2023 American Community Survey 5-Year Estimates for all counties in '\n",
       "          'the MORPC 15-county region.',\n",
       " 'description': 'Selected variables from 2023 ACS 5-Year estimates for all '\n",
       "                'counties in the MORPC 15-county region. Data was retrieved '\n",
       "                '2025-07-03',\n",
       " 'profile': 'tabular-data-resource',\n",
       " 'sources': [{'title': '2023 American Community Survey 5-Year Estimates, U.S. '\n",
       "                       'Census Bureau',\n",
       "              'path': 'https://api.census.gov/data/2023/acs/acs5',\n",
       "              '_params': {'get': 'GEO_ID,B11001_002E,B11001_002M,B11001_007E,B11001_007M',\n",
       "                          'for': 'county:041,045,049,089,097,129,159,083,101,117,047,073,091,127,141',\n",
       "                          'in': 'state:39'}}],\n",
       " 'path': 'morpc-acs5-2023-region15-counties-b11001.csv',\n",
       " 'scheme': 'file',\n",
       " 'format': 'csv',\n",
       " 'mediatype': 'text/csv',\n",
       " 'encoding': 'utf-8',\n",
       " 'hash': 'fd73f79e1ef156fa79f8a7a4e293be54',\n",
       " 'bytes': 586,\n",
       " 'rows': 15,\n",
       " 'schema': 'morpc-acs5-2023-region15-counties-b11001.schema.yaml',\n",
       " 'columns': 4}"
      ]
     },
     "execution_count": 29,
     "metadata": {},
     "output_type": "execute_result"
    }
   ],
   "source": [
    "acs.RESOURCE"
   ]
  },
  {
   "cell_type": "markdown",
   "id": "a4f1ebbf-3887-454b-9477-8154bb74f4cc",
   "metadata": {},
   "source": [
    "## Below should still be functional, but hoping to implement into ACS class"
   ]
  },
  {
   "cell_type": "markdown",
   "id": "191c40a3-88c8-443b-ad19-d6ac6913f322",
   "metadata": {
    "editable": true,
    "slideshow": {
     "slide_type": ""
    },
    "tags": []
   },
   "source": [
    "#### Load the data using frictionless.load_data()"
   ]
  },
  {
   "cell_type": "code",
   "execution_count": null,
   "id": "9b337ead-831e-4e03-98c5-62c5e8727136",
   "metadata": {
    "editable": true,
    "slideshow": {
     "slide_type": ""
    },
    "tags": []
   },
   "outputs": [],
   "source": [
    "data, resource, schema = morpc.frictionless.load_data('./temp_data/morpc-acs5-2023-state-B01001.resource.yaml', verbose=False)"
   ]
  },
  {
   "cell_type": "markdown",
   "id": "0fe8041e-fe36-4151-92d3-08e0c1a8e4ae",
   "metadata": {
    "editable": true,
    "slideshow": {
     "slide_type": ""
    },
    "tags": []
   },
   "source": [
    "#### Using ACS_ID_FIELDS to get the fields ids"
   ]
  },
  {
   "cell_type": "code",
   "execution_count": null,
   "id": "f82a9578-0a3a-4398-b0fd-b15bb9dbe9f6",
   "metadata": {
    "editable": true,
    "slideshow": {
     "slide_type": ""
    },
    "tags": []
   },
   "outputs": [],
   "source": [
    "morpc.census.acs_generate_universe_table(data.set_index(\"GEO_ID\"), \"B01001_001\")"
   ]
  },
  {
   "cell_type": "markdown",
   "id": "6a74b3d1-2458-4b02-944c-a9ab17257b7c",
   "metadata": {
    "editable": true,
    "slideshow": {
     "slide_type": ""
    },
    "tags": []
   },
   "source": [
    "#### Create a dimension table with the data and the dimension names"
   ]
  },
  {
   "cell_type": "code",
   "execution_count": null,
   "id": "0522e9a1-7a52-4e72-a0d0-f5ccf1571bcb",
   "metadata": {
    "editable": true,
    "slideshow": {
     "slide_type": ""
    },
    "tags": []
   },
   "outputs": [],
   "source": [
    "dim_table = morpc.census.acs_generate_dimension_table(data.set_index(\"GEO_ID\"), schema, idFields=idFields, dimensionNames=[\"Sex\", \"Age group\"])"
   ]
  },
  {
   "cell_type": "code",
   "execution_count": null,
   "id": "2703597a-da40-4636-8d24-31832903b911",
   "metadata": {
    "editable": true,
    "slideshow": {
     "slide_type": ""
    },
    "tags": []
   },
   "outputs": [],
   "source": [
    "dim_table.loc[dim_table['Variable type'] == 'Estimate'].head()"
   ]
  }
 ],
 "metadata": {
  "kernelspec": {
   "display_name": "Python 3 (ipykernel)",
   "language": "python",
   "name": "python3"
  },
  "language_info": {
   "codemirror_mode": {
    "name": "ipython",
    "version": 3
   },
   "file_extension": ".py",
   "mimetype": "text/x-python",
   "name": "python",
   "nbconvert_exporter": "python",
   "pygments_lexer": "ipython3",
   "version": "3.12.10"
  }
 },
 "nbformat": 4,
 "nbformat_minor": 5
}
