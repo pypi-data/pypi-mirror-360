{
 "cells": [
  {
   "cell_type": "markdown",
   "id": "2e7c0e95-72d3-4b78-85c1-7679c8b50d75",
   "metadata": {},
   "source": [
    "# Spatial Data Tools"
   ]
  },
  {
   "cell_type": "markdown",
   "id": "8f0a9134-295d-4a94-b91c-1f152350634d",
   "metadata": {
    "editable": true,
    "slideshow": {
     "slide_type": ""
    },
    "tags": []
   },
   "source": [
    "## Load spatial data"
   ]
  },
  {
   "cell_type": "markdown",
   "id": "63ec4df4-eec2-475d-936a-e93db94f52a3",
   "metadata": {},
   "source": [
    "Often we want to make a copy of some input data and work with the copy, for example to protect the original data or to create an archival copy of it so that we can replicate the process later.  With tabular data this is simple, but with spatial data it can be tricky.  Shapefiles actually consist of up to six files, so it is necessary to copy them all.  Geodatabases may contain many layers in addition to the one we care about.  The `load_spatial_data()` function simplifies the process of reading the data and (optionally) making an archival copy. It has three parameters:\n",
    "  - `sourcePath` - The path to the geospatial data. It may be a file path or URL. In the case of a Shapefile, this should point to the .shp file or a zipped file that contains all of the Shapefile components. You can point to other zipped contents as well, but see caveats below.\n",
    "  - `layerName` (required for GPKG and GDB, optional for SHP) - The name of the layer that you wish to extract from a GeoPackage or File Geodatabase.  Not required for Shapefiles, but may be specified for use in the archival copy (see below)\n",
    "  - `driverName` (required for zipped data or data with non-standard file extension) - which [GDAL driver](https://gdal.org/drivers/vector/index.html) to use to read the file. Script will attempt to infer this from the file extension, but you must specify it if the data is zipped, if the file extension is non-standard, or if the extension cannot be determined from the path (e.g. if the path is an API query)\n",
    "  - `archiveDir` (optional) - The path to the directory where a copy of a data should be archived.  If this is specified, the data will be archived in this location as a GeoPackage.  The function will determine the file name and layer name from the specified parameters, using generic values if necessary.\n",
    "  - `archiveFileName` (optional) - If `archiveDir` is specified, you may use this to specify the name of the archival GeoPackage.  Omit the extension.  If this is unspecified, the function will assign the file name automatically using a generic value if necessary.\n",
    "  \n",
    "The following example loads data from the MORPC Mid-Ohio Open Data website, however you can also load data from a local path or network drive."
   ]
  },
  {
   "cell_type": "code",
   "execution_count": 1,
   "id": "344971d0-83be-4410-b2d9-ee1ae90250cf",
   "metadata": {
    "tags": []
   },
   "outputs": [],
   "source": [
    "import geopandas as gpd\n",
    "import morpc\n",
    "import os"
   ]
  },
  {
   "cell_type": "code",
   "execution_count": 7,
   "id": "b8c36fa4-b7dd-43d4-9574-7a640d62a22b",
   "metadata": {},
   "outputs": [
    {
     "name": "stdout",
     "output_type": "stream",
     "text": [
      "morpc.load_spatial_data | INFO | Loading spatial data from location: https://www2.census.gov/geo/tiger/TIGER2024/METDIV/tl_2024_us_metdiv.zip\n",
      "morpc.load_spatial_data | INFO | Attempting to load data from Census FTP site. Using wget to archive file.\n",
      "morpc.load_spatial_data | WARNING | Data from Census FTP must be temp saved. Using ./temp_data.\n",
      "morpc.load_spatial_data | INFO | Using driver Census Shapefile as specified by user.\n",
      "morpc.load_spatial_data | INFO | Reading spatial data...\n",
      "morpc.load_spatial_data | INFO | File name is unspecified.  Will infer file name from source path.\n",
      "morpc.load_spatial_data | INFO | Using automatically-selected file name: tl_2024_us_metdiv\n",
      "morpc.load_spatial_data | INFO | Layer name is unspecified. Using automatically-selected layer name: tl_2024_us_metdiv\n",
      "morpc.load_spatial_data | INFO | Creating archival copy of geospatial layer at ./temp_data\\tl_2024_us_metdiv.gpkg, layer tl_2024_us_metdiv\n"
     ]
    },
    {
     "name": "stderr",
     "output_type": "stream",
     "text": [
      "C:\\Users\\jinskeep\\morpc_venv\\Lib\\site-packages\\pyogrio\\raw.py:198: RuntimeWarning: driver ESRI Shapefile does not support open option DRIVER\n"
     ]
    }
   ],
   "source": [
    "url = 'https://www2.census.gov/geo/tiger/TIGER2024/METDIV/tl_2024_us_metdiv.zip'\n",
    "gdf = morpc.load_spatial_data(url, archiveDir='./temp_data')"
   ]
  },
  {
   "cell_type": "code",
   "execution_count": null,
   "id": "3573a45b-048b-4223-9c99-92219ab4db59",
   "metadata": {
    "tags": []
   },
   "outputs": [],
   "source": [
    "# Create a directory to store the archival data (for demonstration purposes only)\n",
    "if not os.path.exists(\"./temp_data\"):\n",
    "    os.makedirs(\"./temp_data\")\n",
    "\n",
    "# Load the data and create an archival copy\n",
    "gdf = morpc.load_spatial_data(\n",
    "    sourcePath=\"https://opendata.arcgis.com/api/v3/datasets/e42b50fbd17a47739c2a7695778c498e_17/downloads/data?format=shp&spatialRefId=3735&where=1%3D1\", \n",
    "    layerName=\"MORPC MPO Boundary\",\n",
    "    driverName=\"ESRI Shapefile\",\n",
    "    archiveDir=\"./temp_data\"\n",
    ")"
   ]
  },
  {
   "cell_type": "markdown",
   "id": "534d5386-9d8c-490e-941b-92c0b67ec65a",
   "metadata": {},
   "source": [
    "Let's take a look at the data and make sure it loaded correctly."
   ]
  },
  {
   "cell_type": "code",
   "execution_count": null,
   "id": "f8ee189b-6326-4038-b193-2e3184a09ac6",
   "metadata": {
    "tags": []
   },
   "outputs": [],
   "source": [
    "gdf.drop(columns=\"Updated\").explore() ## avoid datetime column JSON error"
   ]
  },
  {
   "cell_type": "markdown",
   "id": "ba2a1e26-6d2f-469d-a71c-4a096bfeffc5",
   "metadata": {},
   "source": [
    "Now let's read the archival copy and make sure it looks the same.  We'll use the `load_spatial_data()` function again, but this time we won't make an archival copy."
   ]
  },
  {
   "cell_type": "code",
   "execution_count": null,
   "id": "d2cc1a3f-9f78-4044-86de-6f3a6502b6de",
   "metadata": {
    "tags": []
   },
   "outputs": [],
   "source": [
    "gdfArchive = morpc.load_spatial_data(\"./temp_data/MORPC MPO Boundary.gpkg\", layerName=\"MORPC MPO Boundary\")"
   ]
  },
  {
   "cell_type": "markdown",
   "id": "4ea6c47d-30fc-4e72-96b6-338666130bdd",
   "metadata": {
    "editable": true,
    "slideshow": {
     "slide_type": ""
    },
    "tags": []
   },
   "source": [
    "# Assign geographic identifiers"
   ]
  },
  {
   "cell_type": "markdown",
   "id": "29c482fe-76bc-4ae1-84cf-48e60dad52be",
   "metadata": {},
   "source": [
    "Sometimes we have a set of locations and we would like to know what geography (county, zipcode, etc.) they fall in. The `assign_geo_identifiers()` function takes a set of georeference points and a list of geography levels and determines for each level which area each point falls in.  The function takes two parameters:\n",
    "  - `points` - a GeoPandas GeoDataFrame consisting of the points of interest\n",
    "  - `geographies` - A Python list of one or more strings in which each element corresponds to a geography level. You can specify as many levels as you want from the following list, however note that the function must download the polygons and perform the analysis for each level so if you specify many levels it may take a long time.\n",
    "    - \"county\" - County (Census TIGER)\n",
    "    - \"tract\" - *Not currently implemented*\n",
    "    - \"blockgroup\" - *Not currently implemented*\n",
    "    - \"block\" - *Not currently implemented*\n",
    "    - \"zcta\" - *Not currently implemented*\n",
    "    - \"place\" - Census place (Census TIGER)\n",
    "    - \"placecombo\" - *Not currently implemented*\n",
    "    - \"juris\" - *Not currently implemented*\n",
    "    - \"region15County\" - *Not currently implemented*\n",
    "    - \"region10County\" - *Not currently implemented*\n",
    "    - \"regionCORPO\" - *Not currently implemented*\n",
    "    - \"regionMPO\" - *Not currently implemented*\n",
    "\n",
    "**NOTE:** Many of the geography levels are not currently implemented.  They are being implemented as they are needed.  If you need one that has not yet been implemented, please contact Adam Porr (or implement it yourself)."
   ]
  },
  {
   "cell_type": "markdown",
   "id": "cad973e5-cf05-4b46-8d18-a3fddd07e93f",
   "metadata": {},
   "source": [
    "In the following example, we will assign labels for the \"county\" and \"place\" geography levels to libraries in MORPC's Points of Interest layer.  First we'll download just the library locations from Mid-Ohio Open Data using the ArcGIS REST API."
   ]
  },
  {
   "cell_type": "code",
   "execution_count": null,
   "id": "2ee41a03-52bc-4e14-843a-54f70d73982a",
   "metadata": {
    "editable": true,
    "slideshow": {
     "slide_type": ""
    },
    "tags": []
   },
   "outputs": [],
   "source": [
    "url = \"https://services1.arcgis.com/EjjnBtwS9ivTGI8x/arcgis/rest/services/Points_of_Interest/FeatureServer/0/query?outFields=*&where=%22type%22=%27Library%27&f=geojson\"\n",
    "librariesRaw = gpd.read_file(url)"
   ]
  },
  {
   "cell_type": "markdown",
   "id": "1db0a93b-5f7a-4a6a-ade1-d25b33477da8",
   "metadata": {},
   "source": [
    "The data incudes a bunch of fields that we don't need.  For clarity, extract only the relevant fields."
   ]
  },
  {
   "cell_type": "code",
   "execution_count": null,
   "id": "61f3f15d-072d-486f-abf3-6fbdd4f71fda",
   "metadata": {
    "tags": []
   },
   "outputs": [],
   "source": [
    "libraries = librariesRaw.copy().filter(items=['NAME', 'ADDRESS','geometry'], axis=\"columns\")"
   ]
  },
  {
   "cell_type": "code",
   "execution_count": null,
   "id": "c6d75af5-6020-4e04-8245-298ddcf7ebb0",
   "metadata": {
    "tags": []
   },
   "outputs": [],
   "source": [
    "libraries.head()"
   ]
  },
  {
   "cell_type": "markdown",
   "id": "776f3718-24d5-4e56-b51b-89b796d9794b",
   "metadata": {},
   "source": [
    "Let's take a look at the library locations."
   ]
  },
  {
   "cell_type": "code",
   "execution_count": null,
   "id": "5f1c2dee-3fbb-4515-b04a-844efcab875d",
   "metadata": {
    "tags": []
   },
   "outputs": [],
   "source": [
    "libraries.explore(style_kwds={\"radius\":4})"
   ]
  },
  {
   "cell_type": "markdown",
   "id": "8ade8d86-39df-4f3f-8856-08c03d1f18a9",
   "metadata": {},
   "source": [
    "Use the `assign_geo_identifiers()` function to iterate through the requested geography levels (in this case \"county\" and \"place\"), labeling each point with the identifier of the geography in each level where the point is located."
   ]
  },
  {
   "cell_type": "markdown",
   "id": "a37eb22f-3cbd-4681-8715-a331b1a16703",
   "metadata": {},
   "source": [
    "## Assign Geographic Identifiers"
   ]
  },
  {
   "cell_type": "markdown",
   "id": "9ef7876e-8f9d-4539-99b1-02056e7d8251",
   "metadata": {},
   "source": [
    "This fuction is broken due to changes at the Census which prevents loading TigerLINE files from FTP site."
   ]
  },
  {
   "cell_type": "code",
   "execution_count": null,
   "id": "58025778-8cdc-4e25-9cd9-45895f165673",
   "metadata": {
    "editable": true,
    "slideshow": {
     "slide_type": ""
    },
    "tags": []
   },
   "outputs": [],
   "source": [
    "librariesEnriched = morpc.assign_geo_identifiers(libraries, [\"county\",\"place\"])"
   ]
  },
  {
   "cell_type": "markdown",
   "id": "af64d50e-779e-404c-92af-978205aa7f61",
   "metadata": {
    "editable": true,
    "slideshow": {
     "slide_type": ""
    },
    "tags": []
   },
   "source": [
    "Note that two columns have been added to the dataframe, one that contains the identifier for the county the library is located in and one that contains the identifier for the place.  "
   ]
  },
  {
   "cell_type": "code",
   "execution_count": null,
   "id": "c4a8debd-a9e8-4973-8d44-57012206449b",
   "metadata": {
    "editable": true,
    "slideshow": {
     "slide_type": ""
    },
    "tags": []
   },
   "outputs": [],
   "source": [
    "librariesEnriched.head()"
   ]
  },
  {
   "cell_type": "markdown",
   "id": "ffb89cbd-81f4-44f9-93da-f3a656e44323",
   "metadata": {
    "editable": true,
    "slideshow": {
     "slide_type": ""
    },
    "tags": []
   },
   "source": [
    "Let's take a look at libraries, symbolizing each according to the county where it is located."
   ]
  },
  {
   "cell_type": "code",
   "execution_count": null,
   "id": "576aeba6-9978-4b1b-b846-46d4db0d8087",
   "metadata": {
    "tags": []
   },
   "outputs": [],
   "source": [
    "librariesEnriched.explore(column=\"id_county\", style_kwds={\"radius\":4})"
   ]
  },
  {
   "cell_type": "markdown",
   "id": "614c48cc-36cc-44be-8211-a96ec3c7577d",
   "metadata": {},
   "source": [
    "Let's take another look, this time symbolizing each library according to the place where it is located.  The legend has been suppressed because there are too many unique values, but you can hover over each point to see the place identifier that has been assigned to it."
   ]
  },
  {
   "cell_type": "code",
   "execution_count": null,
   "id": "45ffcdad-dfa2-4e8d-b684-ffeb6fb1b12d",
   "metadata": {
    "tags": []
   },
   "outputs": [],
   "source": [
    "librariesEnriched.explore(column=\"id_place\", style_kwds={\"radius\":4}, legend=True)"
   ]
  },
  {
   "cell_type": "code",
   "execution_count": null,
   "id": "dcf66a7e-9f88-48c0-ad7c-e2ebf2876809",
   "metadata": {},
   "outputs": [],
   "source": []
  }
 ],
 "metadata": {
  "kernelspec": {
   "display_name": "Python 3 (ipykernel)",
   "language": "python",
   "name": "python3"
  },
  "language_info": {
   "codemirror_mode": {
    "name": "ipython",
    "version": 3
   },
   "file_extension": ".py",
   "mimetype": "text/x-python",
   "name": "python",
   "nbconvert_exporter": "python",
   "pygments_lexer": "ipython3",
   "version": "3.12.10"
  }
 },
 "nbformat": 4,
 "nbformat_minor": 5
}
