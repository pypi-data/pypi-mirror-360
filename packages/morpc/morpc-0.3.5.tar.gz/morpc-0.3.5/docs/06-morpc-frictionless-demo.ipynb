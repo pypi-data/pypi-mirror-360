{
 "cells": [
  {
   "cell_type": "markdown",
   "id": "b8c575fa-09b8-4f02-8272-09805a9b2dce",
   "metadata": {},
   "source": [
    "# Frictionless Tools"
   ]
  },
  {
   "cell_type": "markdown",
   "id": "77e1ab57-4e83-4239-8160-f8fbc73a8c5c",
   "metadata": {
    "editable": true,
    "slideshow": {
     "slide_type": ""
    },
    "tags": []
   },
   "source": [
    "As of January 2024 the Data Team is considering a new standard for machine-readable metadata, namely [TableSchema](https://specs.frictionlessdata.io/table-schema/).  TableSchema is a schema for tabular formats that includes many of the features for Avro (see above) plus rich types and constraints. TableSchema is supported in [Python](https://pypi.org/project/tableschema/) and [R](https://www.rdocumentation.org/packages/tableschema.r/), and the libraries include many utilty functions.\n",
    "\n",
    "The foundation of the morpc.frictionless is [frictionless-py](https://github.com/frictionlessdata/frictionless-py). The functions are written to create and load resources. "
   ]
  },
  {
   "cell_type": "markdown",
   "id": "a382a890-c433-4aad-81b2-6a3443a84c59",
   "metadata": {
    "editable": true,
    "slideshow": {
     "slide_type": ""
    },
    "tags": []
   },
   "source": [
    "The foundation of the frictionless framework are [resouces](https://framework.frictionlessdata.io/docs/resources/file.html). Resources are structured json or yaml files that include metadata for the a file or number of files. "
   ]
  },
  {
   "cell_type": "code",
   "execution_count": 18,
   "id": "b038e8fc-2aeb-4b51-a80a-62d510a53aef",
   "metadata": {},
   "outputs": [],
   "source": [
    "import pandas as pd\n",
    "import morpc\n",
    "import os"
   ]
  },
  {
   "cell_type": "code",
   "execution_count": 12,
   "id": "05d5b2a4-8a24-4ca0-8752-ebc35916d1d8",
   "metadata": {
    "editable": true,
    "slideshow": {
     "slide_type": ""
    },
    "tags": []
   },
   "outputs": [],
   "source": [
    "df = pd.read_excel('./temp_data/dataChartToExcelOutput.xlsx') ## import sample data from temp_data"
   ]
  },
  {
   "cell_type": "code",
   "execution_count": 13,
   "id": "8da6e236-ddd6-4846-87ac-0e8eb7ab1ae9",
   "metadata": {
    "editable": true,
    "slideshow": {
     "slide_type": ""
    },
    "tags": []
   },
   "outputs": [],
   "source": [
    "df.columns = [\"column1\", \"column2\", \"column3\"] ## give some reasonable names to columns"
   ]
  },
  {
   "cell_type": "code",
   "execution_count": 14,
   "id": "e36997d5-5e62-4a42-b42b-5971e058195a",
   "metadata": {
    "editable": true,
    "slideshow": {
     "slide_type": ""
    },
    "tags": []
   },
   "outputs": [],
   "source": [
    "df.to_csv('./temp_data/temp_df.csv', index=False) ## save a csv"
   ]
  },
  {
   "cell_type": "markdown",
   "id": "a678d3da-a421-4975-b8d5-a0422b550dfa",
   "metadata": {
    "editable": true,
    "slideshow": {
     "slide_type": ""
    },
    "tags": []
   },
   "source": [
    "Typically we will create some constant variable name for the file, resource, and schema. The resource and schema are stored in yaml files. "
   ]
  },
  {
   "cell_type": "code",
   "execution_count": 15,
   "id": "ea43afdc-e1d4-47bf-8c10-f5e32a7c9c3c",
   "metadata": {
    "editable": true,
    "slideshow": {
     "slide_type": ""
    },
    "tags": []
   },
   "outputs": [],
   "source": [
    "RESOURCE_DIR = './temp_data/'\n",
    "TABLE_FILE_NAME = 'temp_df.csv'\n",
    "TABLE_RESOURCE_NAME = TABLE_FILE_NAME.replace('.csv', '.resource.yaml')\n",
    "TABLE_SCHEMA_NAME = TABLE_FILE_NAME.replace('.csv', '.schema.yaml')"
   ]
  },
  {
   "cell_type": "markdown",
   "id": "a5468d56-4b11-4c01-b9b0-bb4f40205c34",
   "metadata": {
    "editable": true,
    "slideshow": {
     "slide_type": ""
    },
    "tags": []
   },
   "source": [
    "Schema can be defined manually, or can be created via standard frictionless functions. "
   ]
  },
  {
   "cell_type": "code",
   "execution_count": 16,
   "id": "ab7c33fc-a92b-42d5-b13f-b59e0d85cb01",
   "metadata": {
    "editable": true,
    "slideshow": {
     "slide_type": ""
    },
    "tags": []
   },
   "outputs": [],
   "source": [
    "import frictionless"
   ]
  },
  {
   "cell_type": "code",
   "execution_count": 19,
   "id": "82adf676-8d21-4f1c-a2e5-68c7df8ff208",
   "metadata": {
    "editable": true,
    "slideshow": {
     "slide_type": ""
    },
    "tags": []
   },
   "outputs": [
    {
     "data": {
      "text/plain": [
       "'fields:\\n  - name: column1\\n    type: integer\\n  - name: column2\\n    type: integer\\n  - name: column3\\n    type: integer\\n'"
      ]
     },
     "execution_count": 19,
     "metadata": {},
     "output_type": "execute_result"
    }
   ],
   "source": [
    "frictionless.Schema.describe(os.path.join(RESOURCE_DIR, TABLE_FILE_NAME)).to_yaml(os.path.join(RESOURCE_DIR, TABLE_SCHEMA_NAME)) ## Create a default schema and save as a yaml"
   ]
  },
  {
   "cell_type": "markdown",
   "id": "ce710fa9-f8f8-4d9c-9ee2-f5a11e8f3eda",
   "metadata": {
    "editable": true,
    "slideshow": {
     "slide_type": ""
    },
    "tags": []
   },
   "source": [
    "### Create a resource"
   ]
  },
  {
   "cell_type": "code",
   "execution_count": 20,
   "id": "91f8c4a2-f7f7-480b-87a2-f61030d6d41a",
   "metadata": {
    "editable": true,
    "slideshow": {
     "slide_type": ""
    },
    "tags": []
   },
   "outputs": [
    {
     "name": "stdout",
     "output_type": "stream",
     "text": [
      "morpc.create_resource | INFO | Writing Frictionless Resource file to temp_data\\temp_df.resource.yaml\n",
      "morpc.create_resource | INFO | Validating resource on disk.\n",
      "morpc.validate_resource | INFO | Validating resource on disk (including data and schema). This may take some time.\n",
      "morpc.validate_resource | INFO | Resource is valid\n"
     ]
    },
    {
     "data": {
      "text/plain": [
       "{'name': 'temp_df',\n",
       " 'type': 'table',\n",
       " 'title': 'A title for the resource',\n",
       " 'description': 'A description of the resource to explain what it contains.',\n",
       " 'profile': 'data-resource',\n",
       " 'path': 'temp_df.csv',\n",
       " 'scheme': 'file',\n",
       " 'format': 'csv',\n",
       " 'mediatype': 'text/csv',\n",
       " 'hash': '3f0fe472ad7bf42606eba5184f838dab',\n",
       " 'bytes': 53,\n",
       " 'schema': 'temp_df.schema.yaml'}"
      ]
     },
     "execution_count": 20,
     "metadata": {},
     "output_type": "execute_result"
    }
   ],
   "source": [
    "morpc.frictionless.create_resource(TABLE_FILE_NAME, # the filename relative to resource dir, often just filename\n",
    "                                   resourcePath=os.path.join(RESOURCE_DIR, TABLE_RESOURCE_NAME), # file path to resource location\n",
    "                                   schemaPath=TABLE_SCHEMA_NAME, # path of schema relative to resource dir\n",
    "                                   name = \"temp_df\", # simple name\n",
    "                                   title = \"A title for the resource\", # A human readable title\n",
    "                                   description = \"A description of the resource to explain what it contains.\", # A full description\n",
    "                                   writeResource = True, # Boolean - Whether to archive the resouce file \n",
    "                                   resFormat = \"csv\",\n",
    "                                   resMediaType= \"text/csv\",  \n",
    "                                   computeBytes= True, # Compute the size if the file in bytes\n",
    "                                   computeHash = True, # Create a md5 hash of the file, a unique string to check if file has been changed.\n",
    "                                   validate=True # Validate the resource after creating\n",
    "                                  )"
   ]
  },
  {
   "cell_type": "markdown",
   "id": "40e87758-75a3-4213-8faa-e02942a13b86",
   "metadata": {
    "editable": true,
    "slideshow": {
     "slide_type": ""
    },
    "tags": []
   },
   "source": [
    "Load data from a resource file. Returns the data, a resource, and the schema"
   ]
  },
  {
   "cell_type": "markdown",
   "id": "f1917929-18e2-497b-8880-b4da9c2737b1",
   "metadata": {
    "editable": true,
    "slideshow": {
     "slide_type": ""
    },
    "tags": []
   },
   "source": [
    "### Load data from a resource file"
   ]
  },
  {
   "cell_type": "code",
   "execution_count": 21,
   "id": "0817bf80-48c8-47e6-bcca-39514b915e28",
   "metadata": {
    "editable": true,
    "slideshow": {
     "slide_type": ""
    },
    "tags": []
   },
   "outputs": [
    {
     "name": "stdout",
     "output_type": "stream",
     "text": [
      "morpc.load_data | INFO | Loading Frictionless Resource file at location temp_data\\temp_df.resource.yaml\n",
      "morpc.load_data | INFO | Loading data, resource file, and schema from their source locations\n",
      "morpc.load_data | INFO | --> Data file: temp_data\\temp_df.csv\n",
      "morpc.load_data | INFO | --> Resource file: temp_data\\temp_df.resource.yaml\n",
      "morpc.load_data | INFO | --> Schema file: temp_data\\temp_df.schema.yaml\n",
      "morpc.load_data | INFO | Loading data.\n",
      "cast_field_types | INFO | Casting field column1 as type integer.\n",
      "cast_field_types | INFO | Casting field column2 as type integer.\n",
      "cast_field_types | INFO | Casting field column3 as type integer.\n"
     ]
    }
   ],
   "source": [
    "data, resource, schema = morpc.frictionless.load_data(os.path.join(RESOURCE_DIR, TABLE_RESOURCE_NAME))"
   ]
  },
  {
   "cell_type": "code",
   "execution_count": 22,
   "id": "0298f4fb-baf7-4054-a5c9-3c2555c15d53",
   "metadata": {
    "editable": true,
    "slideshow": {
     "slide_type": ""
    },
    "tags": []
   },
   "outputs": [
    {
     "data": {
      "text/html": [
       "<div>\n",
       "<style scoped>\n",
       "    .dataframe tbody tr th:only-of-type {\n",
       "        vertical-align: middle;\n",
       "    }\n",
       "\n",
       "    .dataframe tbody tr th {\n",
       "        vertical-align: top;\n",
       "    }\n",
       "\n",
       "    .dataframe thead th {\n",
       "        text-align: right;\n",
       "    }\n",
       "</style>\n",
       "<table border=\"1\" class=\"dataframe\">\n",
       "  <thead>\n",
       "    <tr style=\"text-align: right;\">\n",
       "      <th></th>\n",
       "      <th>column1</th>\n",
       "      <th>column2</th>\n",
       "      <th>column3</th>\n",
       "    </tr>\n",
       "  </thead>\n",
       "  <tbody>\n",
       "    <tr>\n",
       "      <th>0</th>\n",
       "      <td>0</td>\n",
       "      <td>1</td>\n",
       "      <td>3</td>\n",
       "    </tr>\n",
       "    <tr>\n",
       "      <th>1</th>\n",
       "      <td>1</td>\n",
       "      <td>2</td>\n",
       "      <td>4</td>\n",
       "    </tr>\n",
       "    <tr>\n",
       "      <th>2</th>\n",
       "      <td>2</td>\n",
       "      <td>3</td>\n",
       "      <td>5</td>\n",
       "    </tr>\n",
       "    <tr>\n",
       "      <th>3</th>\n",
       "      <td>3</td>\n",
       "      <td>4</td>\n",
       "      <td>6</td>\n",
       "    </tr>\n",
       "  </tbody>\n",
       "</table>\n",
       "</div>"
      ],
      "text/plain": [
       "   column1  column2  column3\n",
       "0        0        1        3\n",
       "1        1        2        4\n",
       "2        2        3        5\n",
       "3        3        4        6"
      ]
     },
     "execution_count": 22,
     "metadata": {},
     "output_type": "execute_result"
    }
   ],
   "source": [
    "data"
   ]
  },
  {
   "cell_type": "code",
   "execution_count": 23,
   "id": "f7fbabf8-1538-429e-81c5-c8c227fdd7f8",
   "metadata": {
    "editable": true,
    "slideshow": {
     "slide_type": ""
    },
    "tags": []
   },
   "outputs": [
    {
     "data": {
      "text/plain": [
       "{'name': 'temp_df',\n",
       " 'type': 'table',\n",
       " 'title': 'A title for the resource',\n",
       " 'description': 'A description of the resource to explain what it contains.',\n",
       " 'profile': 'data-resource',\n",
       " 'path': 'temp_df.csv',\n",
       " 'scheme': 'file',\n",
       " 'format': 'csv',\n",
       " 'mediatype': 'text/csv',\n",
       " 'hash': '3f0fe472ad7bf42606eba5184f838dab',\n",
       " 'bytes': 53,\n",
       " 'schema': 'temp_df.schema.yaml'}"
      ]
     },
     "execution_count": 23,
     "metadata": {},
     "output_type": "execute_result"
    }
   ],
   "source": [
    "resource"
   ]
  },
  {
   "cell_type": "code",
   "execution_count": 24,
   "id": "cef5b1b6-4efe-42f9-b48f-daaad6466784",
   "metadata": {
    "editable": true,
    "slideshow": {
     "slide_type": ""
    },
    "tags": []
   },
   "outputs": [
    {
     "data": {
      "text/plain": [
       "{'fields': [{'name': 'column1', 'type': 'integer'},\n",
       "            {'name': 'column2', 'type': 'integer'},\n",
       "            {'name': 'column3', 'type': 'integer'}]}"
      ]
     },
     "execution_count": 24,
     "metadata": {},
     "output_type": "execute_result"
    }
   ],
   "source": [
    "schema"
   ]
  },
  {
   "cell_type": "code",
   "execution_count": null,
   "id": "f355c35d-ef5a-4d09-992c-ec60ab58afa8",
   "metadata": {},
   "outputs": [],
   "source": []
  }
 ],
 "metadata": {
  "kernelspec": {
   "display_name": "Python 3 (ipykernel)",
   "language": "python",
   "name": "python3"
  },
  "language_info": {
   "codemirror_mode": {
    "name": "ipython",
    "version": 3
   },
   "file_extension": ".py",
   "mimetype": "text/x-python",
   "name": "python",
   "nbconvert_exporter": "python",
   "pygments_lexer": "ipython3",
   "version": "3.12.10"
  }
 },
 "nbformat": 4,
 "nbformat_minor": 5
}
