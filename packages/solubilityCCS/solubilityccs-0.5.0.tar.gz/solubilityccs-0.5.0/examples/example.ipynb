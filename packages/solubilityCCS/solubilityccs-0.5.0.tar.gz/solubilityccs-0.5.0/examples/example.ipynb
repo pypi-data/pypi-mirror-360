{
 "cells": [
  {
   "cell_type": "markdown",
   "metadata": {},
   "source": [
    "# SolubilityCCS Example - Acid Formation Analysis\n",
    "\n",
    "This notebook demonstrates how to use the SolubilityCCS package to analyze acid formation behavior in Carbon Capture and Storage (CCS) systems.\n",
    "\n",
    "**Requirements:**\n",
    "- Python 3.9+ \n",
    "- SolubilityCCS package with all dependencies\n",
    "\n",
    "**What this example covers:**\n",
    "- Setting up a fluid system with CO2, acid (H2SO4), and water\n",
    "- Calculating phase behavior and acid formation risk\n",
    "- Extracting CO2 thermodynamic properties"
   ]
  },
  {
   "cell_type": "code",
   "execution_count": 33,
   "metadata": {},
   "outputs": [],
   "source": [
    "from solubilityccs import Fluid\n",
    "from solubilityccs.neqsim_functions import get_co2_parameters"
   ]
  },
  {
   "cell_type": "code",
   "execution_count": 34,
   "metadata": {},
   "outputs": [
    {
     "name": "stdout",
     "output_type": "stream",
     "text": [
      "0.010850695247427211\n"
     ]
    }
   ],
   "source": [
    "temperature = 250  # C\n",
    "pressure = 1  # bara\n",
    "# Mt/year - flow rate for calculating liquid acid formation\n",
    "flow_rate = 100\n",
    "\n",
    "fluid = Fluid()\n",
    "fluid.add_component(\"CO2\", 0.001)  # mole\n",
    "fluid.add_component(\"H2SO4\", 0.99)  # mole\n",
    "fluid.set_temperature(temperature + 273.15)  # to Kelvin\n",
    "fluid.set_pressure(pressure)  # bara\n",
    "fluid.set_flow_rate(flow_rate * 1e6 * 1000 / (365 * 24), \"kg/hr\")\n",
    "fluid.calc_vapour_pressure()\n",
    "fluid.flash_activity()\n",
    "\n",
    "print(fluid.betta)"
   ]
  },
  {
   "cell_type": "code",
   "execution_count": 35,
   "metadata": {},
   "outputs": [
    {
     "name": "stdout",
     "output_type": "stream",
     "text": [
      "═════════════════════════════════════════════════════════════════\n",
      "                 SOLUBILITY CCS ANALYSIS RESULTS\n",
      "═════════════════════════════════════════════════════════════════\n",
      "\n",
      "📋 SYSTEM OVERVIEW\n",
      "───────────────────────────────────\n",
      "Acid Type:            H2SO4\n",
      "Temperature:          250.0 °C\n",
      "Pressure:             1.0 bara\n",
      "\n",
      "⚗️  PHASE BEHAVIOR ASSESSMENT\n",
      "───────────────────────────────────\n",
      "🚨 STATUS: ACID FORMATION RISK DETECTED!\n",
      "⚠️  RISK LEVEL: Two-phase system present\n",
      "\n",
      "GAS PHASE COMPOSITION\n",
      "───────────────────────────────────\n",
      "Water in CO₂:         0.00 ppm (mol)\n",
      "H2SO4 in CO₂:        907003.03 ppm (mol)\n",
      "\n",
      "LIQUID PHASE DETAILS\n",
      "───────────────────────────────────\n",
      "Phase Type:           ACIDIC\n",
      "Acid Concentration:   100.000 wt%\n",
      "Liquid Flow Rate:     98969950.014388 t/year\n",
      "Water Mol Fraction: 0.000000\n",
      "H2SO4 Mol Fraction: 1.000000\n",
      "\n",
      "PURE CO₂ PROPERTIES\n",
      "───────────────────────────────────\n",
      "Density:              1.0121900658142038 kg/m³\n",
      "Speed of Sound:       347.84315526688033 m/s\n",
      "Enthalpy:             233.00500685973972 kJ/kg\n",
      "Entropy:              26.444152539152242 J/K\n",
      "\n",
      "═════════════════════════════════════════════════════════════════\n",
      "              📊 Analysis Complete | SolubilityCCS\n",
      "═════════════════════════════════════════════════════════════════\n"
     ]
    }
   ],
   "source": [
    "# Using the ModelResults class for clean table output\n",
    "from solubilityccs import ModelResults\n",
    "\n",
    "# Create results object - note: 'results' here refers to the CO2 properties dict\n",
    "co2_properties = get_co2_parameters(\n",
    "    pressure, temperature + 273.15\n",
    ")  # Save the CO2 properties dict (temperature in Kelvin)\n",
    "results_obj = ModelResults(fluid, co2_properties=co2_properties)\n",
    "\n",
    "# Display results as a formatted table\n",
    "print(results_obj.generate_table())"
   ]
  }
 ],
 "metadata": {
  "kernelspec": {
   "display_name": "venv",
   "language": "python",
   "name": "python3"
  },
  "language_info": {
   "codemirror_mode": {
    "name": "ipython",
    "version": 3
   },
   "file_extension": ".py",
   "mimetype": "text/x-python",
   "name": "python",
   "nbconvert_exporter": "python",
   "pygments_lexer": "ipython3",
   "version": "3.9.2"
  }
 },
 "nbformat": 4,
 "nbformat_minor": 2
}
