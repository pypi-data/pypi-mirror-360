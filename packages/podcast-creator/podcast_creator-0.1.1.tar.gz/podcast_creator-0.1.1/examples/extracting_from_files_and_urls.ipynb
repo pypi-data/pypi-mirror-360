{
 "cells": [
  {
   "cell_type": "code",
   "execution_count": null,
   "id": "d53d63f4",
   "metadata": {},
   "outputs": [
    {
     "name": "stderr",
     "output_type": "stream",
     "text": [
      "\u001b[32m2025-07-06 17:16:00.657\u001b[0m | \u001b[34m\u001b[1mDEBUG   \u001b[0m | \u001b[36mpodcast_creator.config\u001b[0m:\u001b[36mget_template_prompter\u001b[0m:\u001b[36m231\u001b[0m - \u001b[34m\u001b[1mUsing bundled template for 'outline'\u001b[0m\n",
      "\u001b[32m2025-07-06 17:16:00.659\u001b[0m | \u001b[34m\u001b[1mDEBUG   \u001b[0m | \u001b[36mpodcast_creator.config\u001b[0m:\u001b[36mget_template_prompter\u001b[0m:\u001b[36m231\u001b[0m - \u001b[34m\u001b[1mUsing bundled template for 'transcript'\u001b[0m\n",
      "\u001b[32m2025-07-06 17:16:01.439\u001b[0m | \u001b[1mINFO    \u001b[0m | \u001b[36mpodcast_creator.graph\u001b[0m:\u001b[36m<module>\u001b[0m:\u001b[36m18\u001b[0m - \u001b[1mCreating podcast generation graph\u001b[0m\n",
      "\u001b[32m2025-07-06 17:16:07.172\u001b[0m | \u001b[1mINFO    \u001b[0m | \u001b[36mpodcast_creator.nodes\u001b[0m:\u001b[36mgenerate_outline_node\u001b[0m:\u001b[36m22\u001b[0m - \u001b[1mStarting outline generation\u001b[0m\n",
      "\u001b[32m2025-07-06 17:16:20.962\u001b[0m | \u001b[1mINFO    \u001b[0m | \u001b[36mpodcast_creator.nodes\u001b[0m:\u001b[36mgenerate_outline_node\u001b[0m:\u001b[36m52\u001b[0m - \u001b[1mGenerated outline with 7 segments\u001b[0m\n",
      "\u001b[32m2025-07-06 17:16:20.963\u001b[0m | \u001b[1mINFO    \u001b[0m | \u001b[36mpodcast_creator.nodes\u001b[0m:\u001b[36mgenerate_transcript_node\u001b[0m:\u001b[36m59\u001b[0m - \u001b[1mStarting transcript generation\u001b[0m\n",
      "\u001b[32m2025-07-06 17:16:21.292\u001b[0m | \u001b[1mINFO    \u001b[0m | \u001b[36mpodcast_creator.nodes\u001b[0m:\u001b[36mgenerate_transcript_node\u001b[0m:\u001b[36m87\u001b[0m - \u001b[1mGenerating transcript for segment 1/7: Welcome to the Future: An Introduction to Situational Awareness\u001b[0m\n"
     ]
    }
   ],
   "source": [
    "from podcast_creator.graph import create_podcast\n",
    "\n",
    "from content_core import extract_content\n",
    "\n",
    "# use the content core library to extract content from a URL\n",
    "# You can also use file_path for many types of files\n",
    "# For example, to extract content from a PDF file, you can use:\n",
    "# content = await extract_content(file_path=\"path/to/your/file.pdf\")\n",
    "content = await extract_content(dict(url=\"https://situational-awareness.ai/wp-content/uploads/2024/06/situationalawareness.pdf\"))\n",
    "\n",
    "briefing = \"\"\"\n",
    "Create an exciting podcast on the topic of situational awareness. \n",
    "\"\"\"\n",
    "\n",
    "# Test with 2-speaker setup\n",
    "\n",
    "result = await create_podcast(\n",
    "    content=content,\n",
    "    briefing=briefing,\n",
    "    episode_name=\"diverse_panel\",\n",
    "    output_dir=\"output/diverse_panel\",\n",
    "    speaker_config=\"diverse_panel\",\n",
    "    outline_provider=\"openai\",\n",
    "    outline_model=\"gpt-4o-mini\",\n",
    "    transcript_provider=\"anthropic\", \n",
    "    transcript_model=\"claude-3-5-sonnet-latest\",\n",
    "    num_segments=7\n",
    ")\n",
    "\n"
   ]
  }
 ],
 "metadata": {
  "kernelspec": {
   "display_name": ".venv",
   "language": "python",
   "name": "python3"
  },
  "language_info": {
   "codemirror_mode": {
    "name": "ipython",
    "version": 3
   },
   "file_extension": ".py",
   "mimetype": "text/x-python",
   "name": "python",
   "nbconvert_exporter": "python",
   "pygments_lexer": "ipython3",
   "version": "3.11.7"
  }
 },
 "nbformat": 4,
 "nbformat_minor": 5
}
