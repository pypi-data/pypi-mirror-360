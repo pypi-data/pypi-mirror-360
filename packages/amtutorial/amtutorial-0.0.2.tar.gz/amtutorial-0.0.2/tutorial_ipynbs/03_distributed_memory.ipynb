{
 "cells": [
  {
   "cell_type": "markdown",
   "id": "8870bc41-974f-4502-8024-8a3f0c558b39",
   "metadata": {},
   "source": [
    "# Distributed Memory\n",
    "> Random Features enable Dense Associative Memory to store patterns in a distributed manner across a large number of neurons.\n",
    "\n",
    ":::{.callout-warning}\n",
    "## Under Construction\n",
    ":::"
   ]
  },
  {
   "cell_type": "code",
   "execution_count": 1,
   "id": "6d4fa797-f476-4ed1-b685-d07a4da63410",
   "metadata": {},
   "outputs": [],
   "source": [
    "#| hide\n",
    "import jax\n",
    "import jax.numpy as jnp\n",
    "from jaxtyping import Float, Array, PyTree, jaxtyped, UInt, Bool\n",
    "import jax.random as jr\n",
    "import numpy as np\n",
    "import matplotlib.pyplot as plt\n",
    "from abc import ABC, abstractmethod\n",
    "from typing import *"
   ]
  },
  {
   "cell_type": "code",
   "execution_count": 2,
   "id": "02575f75-104f-45e9-84aa-a9dea5c7d076",
   "metadata": {},
   "outputs": [],
   "source": [
    "def sin_cos_phi(x: Float[Array, \"... D\"], RF:Float[Array, \"Y D\"], beta: float) -> Float[Array, \"... 2Y\"]:\n",
    "    \"\"\"The reigning champion, a basis function that uses sin and cos to encode the input into the feature space. \"\"\"\n",
    "    Y = RF.shape[0]\n",
    "    h = jnp.sqrt(beta) * (x @ RF.T)\n",
    "    return 1 / jnp.sqrt(Y) * jnp.concatenate( [ jnp.cos(h), jnp.sin(h)], axis=-1)"
   ]
  },
  {
   "cell_type": "code",
   "execution_count": 3,
   "id": "f506321c-c859-4056-a592-5a9a7a582872",
   "metadata": {},
   "outputs": [],
   "source": [
    "class DrDAM:\n",
    "    \"\"\"Defines the interface and basic methods for all KernelizableDAMs\"\"\"\n",
    "    def __init__(self, key, D, Y, beta):\n",
    "        self.RF = jr.normal(key, (Y, D))\n",
    "        self.beta = beta\n",
    "        self.Y = Y\n",
    "        self.Tdim = 2*Y\n",
    "        self.D = D\n",
    "\n",
    "    def phi(self, x: Float[Array, \"... D\"]) -> Float[Array, \"... 2Y\"]:\n",
    "        \"\"\"Compute the basis function \"\"\"\n",
    "        return sin_cos_phi(x, self.RF, self.beta)\n",
    "\n",
    "    def sim(self, x: Float[Array, \"D\"], y: Float[Array, \"D\"]) -> Float[Array, \"\"]:\n",
    "        \"\"\"Compute the standard L2 similarity between two vectors.\"\"\"\n",
    "        return jnp.exp(-self.beta / 2 * ((x - y) ** 2).sum())\n",
    "\n",
    "    def energy(\n",
    "        self, x: Float[Array, \"D\"], memories: Float[Array, \"M D\"]\n",
    "    ) -> Float[Array, \"\"]:\n",
    "        \"\"\"Compute the standard L2 energy\"\"\"\n",
    "        return -(1 / self.beta) * jax.nn.logsumexp(\n",
    "            -self.beta / 2 * ((x - memories) ** 2).sum(-1), axis=0\n",
    "        )\n",
    "\n",
    "    def kernel_energy(\n",
    "        self, x: Float[Array, \"D\"], T: Float[Array, \"2Y\"], eps=1e-10\n",
    "    ) -> Float[Array, \"\"]:\n",
    "        \"\"\"Compute the approximate kernelized energy\"\"\"\n",
    "        h = self.phi(x) @ T \n",
    "        h = jnp.clip(h,  a_min=eps)\n",
    "        return -(1 / self.beta) * jnp.log(h)\n",
    "    \n",
    "    def kernel_sim(\n",
    "        self, x: Float[Array, \"D\"], y: Float[Array, \"D\"]\n",
    "    ) -> Float[Array, \"\"]:\n",
    "        \"\"\"Compute the approximate kernel similarity of `x` and `y`\"\"\"\n",
    "        return self.phi(x) @ self.phi(y)\n",
    "\n",
    "    def kernelize_memories(self, memories: Float[Array, \"M D\"], **kwargs) -> Float[Array, \"2Y\"]:\n",
    "        \"\"\"\n",
    "        Naive implementation that BLOWS UP with many memories `n`,\n",
    "        since it creates the entire memory matrix from scratch\n",
    "        \"\"\"\n",
    "        return self.phi(memories).sum(0)\n",
    "\n",
    "    def recall( \n",
    "        self, q: Float[Array, \"D\"], memories: Float[Array, \"M D\"], \n",
    "        depth: int=1000, alpha: float = 0.1, return_grads=False, \n",
    "        clamp_idxs: Optional[Bool[Array, \"D\"]]=None\n",
    "    ) -> Float[Array, \"D\"]: \n",
    "        \"\"\"Using the normal similarity function, run energy dynamics\"\"\"\n",
    "        dEdxf = jax.jit(jax.value_and_grad(self.energy))\n",
    "        logs = {}\n",
    "        def step(x, i):\n",
    "            E, dEdx = dEdxf(x, memories)\n",
    "            if clamp_idxs is not None:\n",
    "                dEdx = jnp.where(clamp_idxs, 0, dEdx)\n",
    "            x = x - alpha * dEdx\n",
    "            aux = (E, dEdx) if return_grads else (E,)\n",
    "            return x, aux\n",
    "        x, aux = jax.lax.scan(step, q, jnp.arange(depth))\n",
    "        logs['energies'] = aux[0]\n",
    "        if return_grads:\n",
    "            logs['grads'] = aux[1]\n",
    "        return x, logs\n",
    "\n",
    "    def kernel_recall(\n",
    "        self, q: Float[Array, \"D\"], T: Float[Array, \"2Y\"], \n",
    "        depth: int=1000, alpha: float = 0.1, return_grads=False,\n",
    "        clamp_idxs: Optional[Bool[Array, \"D\"]]=None\n",
    "    ) -> Float[Array, \"D\"]: \n",
    "        \"\"\"Using the kernelized similarity function, run energy dynamics\"\"\"\n",
    "        dEdxf = jax.jit(jax.value_and_grad(self.kernel_energy))\n",
    "        logs = {}\n",
    "        @jax.jit\n",
    "        def step(x, i):\n",
    "            E, dEdx = dEdxf(x, T)\n",
    "            if clamp_idxs is not None:\n",
    "                dEdx = jnp.where(clamp_idxs, 0, dEdx)\n",
    "            x = x - alpha * dEdx\n",
    "            aux = (E, dEdx) if return_grads else (E,)\n",
    "            return x, aux\n",
    "        x, aux = jax.lax.scan(step, q, jnp.arange(depth))\n",
    "        logs['energies'] = aux[0]\n",
    "        if return_grads:\n",
    "            logs['grads'] = aux[1]\n",
    "        return x, logs"
   ]
  },
  {
   "cell_type": "code",
   "execution_count": 4,
   "id": "fe721ff1-f393-484e-a880-a7fa46194871",
   "metadata": {},
   "outputs": [],
   "source": [
    "rng = jr.PRNGKey(0)\n",
    "k1, k2, k3, k4, k5, rng = jr.split(rng, 6)\n",
    "D = 10\n",
    "Y = 100\n",
    "n_memories = 20\n",
    "n_queries = 100\n",
    "beta = 10\n",
    "kdam = DrDAM(k1, D=D, Y=Y, beta=beta)"
   ]
  },
  {
   "cell_type": "code",
   "execution_count": 5,
   "id": "502d6b31-3f10-44fa-8671-ca5ab3e45d5d",
   "metadata": {},
   "outputs": [
    {
     "name": "stdout",
     "output_type": "stream",
     "text": [
      "(10,)\n",
      "(10,)\n"
     ]
    }
   ],
   "source": [
    "x = (jr.uniform(k2, (D,)) > 0.5) / jnp.sqrt(D)\n",
    "y = (jr.uniform(k3, (D,)) > 0.5) / jnp.sqrt(D)\n",
    "print(x.shape)\n",
    "print(y.shape)"
   ]
  },
  {
   "cell_type": "code",
   "execution_count": 6,
   "id": "75c21359-a165-444b-b8b7-b22e19918285",
   "metadata": {},
   "outputs": [
    {
     "name": "stdout",
     "output_type": "stream",
     "text": [
      "0.011108992\n",
      "0.006203072\n"
     ]
    }
   ],
   "source": [
    "print(kdam.sim(x, y))\n",
    "print(kdam.kernel_sim(x, y))"
   ]
  },
  {
   "cell_type": "code",
   "execution_count": 7,
   "id": "05d0073a-5814-4818-bdcf-b12f6a582742",
   "metadata": {},
   "outputs": [
    {
     "name": "stdout",
     "output_type": "stream",
     "text": [
      "(100, 10) (20, 10)\n",
      "(200,)\n"
     ]
    }
   ],
   "source": [
    "memories = (jr.uniform(k4, (n_memories, D)) > 0.5) / jnp.sqrt(D)\n",
    "queries = (jr.uniform(k5, (n_queries, D)) > 0.5) / jnp.sqrt(D)\n",
    "print(queries.shape, memories.shape)\n",
    "T = kdam.kernelize_memories(memories)\n",
    "print(T.shape)"
   ]
  },
  {
   "cell_type": "code",
   "execution_count": 8,
   "id": "73a8a374-ea82-435c-911b-228f0aca2be0",
   "metadata": {},
   "outputs": [
    {
     "name": "stdout",
     "output_type": "stream",
     "text": [
      "-0.07309916\n",
      "-0.08676291\n"
     ]
    }
   ],
   "source": [
    "print(kdam.energy(x, memories))\n",
    "print(kdam.kernel_energy(x, T))"
   ]
  },
  {
   "cell_type": "code",
   "execution_count": 9,
   "id": "5b3fbc4c-059d-4036-8225-33fbdf0b06ad",
   "metadata": {},
   "outputs": [
    {
     "data": {
      "image/png": "[encoded data removed]",
      "text/plain": [
       "<Figure size 640x480 with 1 Axes>"
      ]
     },
     "metadata": {},
     "output_type": "display_data"
    }
   ],
   "source": [
    "exact_energies = jnp.array([kdam.energy(q, memories).item() for q in queries])\n",
    "kernelized_energies = kdam.kernel_energy(queries, T)\n",
    "plt.scatter(exact_energies, kernelized_energies)\n",
    "plt.xlabel(\"Exact\")\n",
    "plt.ylabel(\"Kernel\")\n",
    "plt.axis('square')\n",
    "# plt.gca().set_aspect('equal', 'box')\n",
    "plt.show()"
   ]
  },
  {
   "cell_type": "code",
   "execution_count": 10,
   "id": "b3741306-4beb-44c0-9f55-e0555187dc06",
   "metadata": {},
   "outputs": [
    {
     "name": "stdout",
     "output_type": "stream",
     "text": [
      "0.13190839\n"
     ]
    }
   ],
   "source": [
    "exact_out, _ = kdam.recall(queries[0], memories, depth=100, alpha=1)\n",
    "kernel_out, _ = kdam.kernel_recall(queries[0], T, depth=100, alpha=1)\n",
    "print(jnp.abs(exact_out - kernel_out).sum())"
   ]
  }
 ],
 "metadata": {
  "kernelspec": {
   "display_name": "Python 3 (ipykernel)",
   "language": "python",
   "name": "python3"
  },
  "language_info": {
   "codemirror_mode": {
    "name": "ipython",
    "version": 3
   },
   "file_extension": ".py",
   "mimetype": "text/x-python",
   "name": "python",
   "nbconvert_exporter": "python",
   "pygments_lexer": "ipython3",
   "version": "3.12.7"
  }
 },
 "nbformat": 4,
 "nbformat_minor": 5
}
