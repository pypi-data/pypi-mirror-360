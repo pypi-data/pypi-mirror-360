{
 "cells": [
  {
   "cell_type": "markdown",
   "id": "a5c35e4f",
   "metadata": {
    "collapsed": false,
    "jupyter": {
     "outputs_hidden": false,
     "source_hidden": false
    }
   },
   "source": [
    "# Isotropic Hyperelasticity\n",
    "\n",
    "[![Open in Colab](https://colab.research.google.com/assets/colab-badge.svg)](https://colab.sandbox.google.com/github/Drenderer/klax/blob/main/docs/examples/isotropic_hyperelasticity.ipynb)\n",
    "\n",
    "This notebook implements and calibrates an neural network-based isotropic, incompressible hyperelastic material model to Treloar's experimental data using the method presented in [Dammaß et al. (2025)](https://doi.org/10.48550/arXiv.2503.20598). It showcases the basic use of `klax`'s input covex neural network (`FICNN`) and `klax.fit()` function for building and calibrating physics-augmented neural network models.\n",
    "\n",
    "To run it locally install klax with plotting capability via `pip install 'klax[plot]'`.\n",
    "\n",
    "We start by importing the required packages for model creation, optimization and plotting. We also import some type aliases and import the `dataclass` module for some simple data handling."
   ]
  },
  {
   "cell_type": "code",
   "execution_count": 1,
   "id": "bd4103e5",
   "metadata": {
    "collapsed": false,
    "jupyter": {
     "outputs_hidden": false,
     "source_hidden": false
    }
   },
   "outputs": [],
   "source": [
    "from dataclasses import dataclass\n",
    "\n",
    "import equinox as eqx\n",
    "import jax\n",
    "import jax.numpy as jnp\n",
    "import jax.random as jrandom\n",
    "import optax\n",
    "from jaxtyping import Array, Float\n",
    "from matplotlib import pyplot as plt\n",
    "\n",
    "import klax"
   ]
  },
  {
   "cell_type": "markdown",
   "id": "58d1e5e0",
   "metadata": {
    "collapsed": false,
    "jupyter": {
     "outputs_hidden": false,
     "source_hidden": false
    }
   },
   "source": [
    "We start by defining a basic class `LoadCase`. It consists of an array of princible stretches `stretch` with shape `(dim, 3)` and the (1,1) component of the first Piola-Kirchhoff stress tensor with shape `(dim, 1)`, where `dim` denotes the number of data points in the load case. We also define a descriptive `title`, which will be used for plotting later on."
   ]
  },
  {
   "cell_type": "code",
   "execution_count": 2,
   "id": "f223f806",
   "metadata": {
    "collapsed": false,
    "jupyter": {
     "outputs_hidden": false,
     "source_hidden": false
    }
   },
   "outputs": [],
   "source": [
    "@dataclass\n",
    "class LoadCase:\n",
    "    \"\"\"A simple load case.\"\"\"\n",
    "\n",
    "    stretch: Float[Array, \"dim 3\"]\n",
    "    pk11_stress: Float[Array, \"dim 1\"]\n",
    "    title: str"
   ]
  },
  {
   "cell_type": "markdown",
   "id": "89a41d7d",
   "metadata": {
    "collapsed": false,
    "jupyter": {
     "outputs_hidden": false,
     "source_hidden": false
    }
   },
   "source": [
    "In the following, three load cases for *uniaxial tension*, *biaxial tension*, and *pure shear* are created. The data corresponds to Treloar`s experimental results, which were obtained from testing of a rubber material."
   ]
  },
  {
   "cell_type": "code",
   "execution_count": 3,
   "id": "8d422876",
   "metadata": {
    "collapsed": false,
    "jupyter": {
     "outputs_hidden": false,
     "source_hidden": false
    }
   },
   "outputs": [],
   "source": [
    "# Uniaxial load case\n",
    "stretch_1 = jnp.array(\n",
    "    [\n",
    "        1.0,\n",
    "        1.01,\n",
    "        1.12,\n",
    "        1.24,\n",
    "        1.39,\n",
    "        1.61,\n",
    "        1.89,\n",
    "        2.17,\n",
    "        2.42,\n",
    "        3.01,\n",
    "        3.58,\n",
    "        4.03,\n",
    "        4.76,\n",
    "        5.36,\n",
    "        5.76,\n",
    "        6.16,\n",
    "        6.4,\n",
    "        6.62,\n",
    "        6.87,\n",
    "        7.05,\n",
    "        7.16,\n",
    "        7.27,\n",
    "        7.43,\n",
    "        7.5,\n",
    "        7.61,\n",
    "    ]\n",
    ")\n",
    "pk11_stress = jnp.array(\n",
    "    [\n",
    "        0.0,\n",
    "        0.03,\n",
    "        0.14,\n",
    "        0.23,\n",
    "        0.32,\n",
    "        0.41,\n",
    "        0.5,\n",
    "        0.58,\n",
    "        0.67,\n",
    "        0.85,\n",
    "        1.04,\n",
    "        1.21,\n",
    "        1.58,\n",
    "        1.94,\n",
    "        2.29,\n",
    "        2.67,\n",
    "        3.02,\n",
    "        3.39,\n",
    "        3.75,\n",
    "        4.12,\n",
    "        4.47,\n",
    "        4.85,\n",
    "        5.21,\n",
    "        5.57,\n",
    "        6.3,\n",
    "    ]\n",
    ")\n",
    "stretch = jnp.stack(\n",
    "    [stretch_1, stretch_1 ** (-0.5), stretch_1 ** (-0.5)], axis=-1\n",
    ")\n",
    "\n",
    "uniaxial = LoadCase(stretch, pk11_stress, \"Uniaxial tension\")\n",
    "\n",
    "# Biaxial load case\n",
    "stretch_1 = jnp.array(\n",
    "    [\n",
    "        1.0,\n",
    "        1.04,\n",
    "        1.08,\n",
    "        1.12,\n",
    "        1.14,\n",
    "        1.2,\n",
    "        1.31,\n",
    "        1.42,\n",
    "        1.69,\n",
    "        1.94,\n",
    "        2.49,\n",
    "        3.03,\n",
    "        3.43,\n",
    "        3.75,\n",
    "        4.03,\n",
    "        4.26,\n",
    "        4.44,\n",
    "    ]\n",
    ")\n",
    "pk11_stress = jnp.array(\n",
    "    [\n",
    "        0.0,\n",
    "        0.09,\n",
    "        0.16,\n",
    "        0.24,\n",
    "        0.26,\n",
    "        0.33,\n",
    "        0.44,\n",
    "        0.51,\n",
    "        0.65,\n",
    "        0.77,\n",
    "        0.96,\n",
    "        1.24,\n",
    "        1.45,\n",
    "        1.72,\n",
    "        1.96,\n",
    "        2.22,\n",
    "        2.43,\n",
    "    ]\n",
    ")\n",
    "stretch = jnp.stack([stretch_1, stretch_1, stretch_1 ** (-2)], axis=-1)\n",
    "\n",
    "biaxial = LoadCase(stretch, pk11_stress, \"Biaxial tension\")\n",
    "\n",
    "# Pure shear load case\n",
    "stretch_1 = jnp.array(\n",
    "    [\n",
    "        1.0,\n",
    "        1.06,\n",
    "        1.14,\n",
    "        1.21,\n",
    "        1.32,\n",
    "        1.46,\n",
    "        1.87,\n",
    "        2.4,\n",
    "        2.98,\n",
    "        3.48,\n",
    "        3.96,\n",
    "        4.36,\n",
    "        4.69,\n",
    "        4.96,\n",
    "    ]\n",
    ")\n",
    "pk11_stress = jnp.array(\n",
    "    [\n",
    "        0.0,\n",
    "        0.07,\n",
    "        0.16,\n",
    "        0.24,\n",
    "        0.33,\n",
    "        0.42,\n",
    "        0.59,\n",
    "        0.76,\n",
    "        0.93,\n",
    "        1.11,\n",
    "        1.28,\n",
    "        1.46,\n",
    "        1.62,\n",
    "        1.79,\n",
    "    ]\n",
    ")\n",
    "stretch = jnp.stack(\n",
    "    [stretch_1, jnp.ones_like(stretch_1), stretch_1 ** (-1)], axis=-1\n",
    ")\n",
    "\n",
    "pure_shear = LoadCase(stretch, pk11_stress, \"Pure shear\")"
   ]
  },
  {
   "cell_type": "markdown",
   "id": "0cc13f0e",
   "metadata": {
    "collapsed": false,
    "jupyter": {
     "outputs_hidden": false,
     "source_hidden": false
    }
   },
   "source": [
    "Next, the neural network-based isotropic, incompressible hyperelastic material model according to Dammaß et al. is implemented."
   ]
  },
  {
   "cell_type": "code",
   "execution_count": 4,
   "id": "bcb671fd",
   "metadata": {
    "collapsed": false,
    "jupyter": {
     "outputs_hidden": false,
     "source_hidden": false
    }
   },
   "outputs": [],
   "source": [
    "class PANN(eqx.Module):\n",
    "    \"\"\"An neural-network based potential for incompressible hyperelasticity.\"\"\"\n",
    "\n",
    "    icnn: klax.nn.FICNN\n",
    "\n",
    "    def __init__(self, *, key):\n",
    "        self.icnn = klax.nn.FICNN(\n",
    "            2,\n",
    "            \"scalar\",\n",
    "            1 * [8],\n",
    "            use_passthrough=True,\n",
    "            non_decreasing=True,\n",
    "            key=key,\n",
    "        )\n",
    "\n",
    "    def __call__(self, stretch: Array) -> Array:\n",
    "        \"\"\"Evaluate the (1,1) compontent of the first Piola-Kirchhoff stress.\"\"\"\n",
    "        stress_coefficients = self.stress_coefficients(stretch)\n",
    "        return self.piola_kirchhoff_stress(stretch, stress_coefficients)\n",
    "\n",
    "    def potential(self, isochoric_invariants: Array) -> Array:\n",
    "        \"\"\"Compute the hyperelastic potential with energy normalization.\"\"\"\n",
    "        # Compute normalization term for F = I\n",
    "        isochoric_invariants_iden = jnp.array([3, 4])\n",
    "        pot_iden = self.icnn(isochoric_invariants_iden)\n",
    "        return self.icnn(isochoric_invariants) - pot_iden\n",
    "\n",
    "    def isochoric_invariants(self, stretch: Array) -> Array:\n",
    "        \"\"\"Compute the isotropic, isochoric invariants.\"\"\"\n",
    "        i1 = stretch[0] ** 2 + stretch[1] ** 2 + stretch[2] ** 2\n",
    "        i2 = (\n",
    "            (stretch[0] * stretch[1]) ** 2\n",
    "            + (stretch[0] * stretch[2]) ** 2\n",
    "            + (stretch[1] * stretch[2]) ** 2\n",
    "        )\n",
    "        j = stretch[0] * stretch[1] * stretch[2]\n",
    "\n",
    "        i1_ = j ** (-2 / 3) * i1\n",
    "        i2_ = j ** (-4 / 3) * i2\n",
    "        return jnp.array([i1_, i2_])\n",
    "\n",
    "    def stress_coefficients(self, stretch: Array) -> Array:\n",
    "        \"\"\"Compute the stress coefficients from the potential.\n",
    "\n",
    "        They correspond to the gradient of the potential with respect to the\n",
    "        isochoric invariants.\n",
    "        \"\"\"\n",
    "        isochoric_invariants = self.isochoric_invariants(stretch)\n",
    "        return jax.grad(self.potential)(isochoric_invariants)\n",
    "\n",
    "    def piola_kirchhoff_stress(\n",
    "        self, stretch: Array, stress_coefficients: Array\n",
    "    ):\n",
    "        \"\"\"Compute the (1,1) component of the Piola-Kirchoff stress.\"\"\"\n",
    "        return 2.0 * (\n",
    "            stress_coefficients[0]\n",
    "            * (stretch[0] - stretch[2] ** 2 * stretch[0] ** (-1))\n",
    "            + stress_coefficients[1]\n",
    "            * (\n",
    "                stretch[0] * (stretch[1] ** 2 + stretch[2] ** 2)\n",
    "                - stretch[2] ** 2\n",
    "                * stretch[0] ** (-1)\n",
    "                * (stretch[0] ** 2 + stretch[1] ** 2)\n",
    "            )\n",
    "        )"
   ]
  },
  {
   "cell_type": "markdown",
   "id": "eddd899d",
   "metadata": {
    "collapsed": false,
    "jupyter": {
     "outputs_hidden": false,
     "source_hidden": false
    }
   },
   "source": [
    "We choose the *uniaxial* and *biaxial* load cases as calibration data and fit the `PANN` model using `fit()` with the following arguments:\n",
    "\n",
    "The first argument corresponds to the model that shall be optimized. Its followed by the `data` argument, which could be any PyTree containing at least one Array. However, to use `klax`'s building loss functions the arguments must be of the form `(x, y)`, where both `x` and `y` are the input and output Array respectively.\n",
    "\n",
    "Next, we specify the number of samples per batch and the axis along which `x` and `y` shall be batched, by setting the `batch_size` and `batch_axis` arguments, respectively.\n",
    "\n",
    "A loss function is defined using the `loss_fn` argument.\n",
    "\n",
    "We can select an optimization algorithm by passing any `optax.GradientTransformation` object to the `optimizer` argument. Likewise we can pass a custom `Callback` to the `history` argument to record intermediate training results. In this case we are passing the default `HistoryCallback` with a value of `1000`, which ensures that loss-values are only computed after every 1000-th step, to reduce computational cost.\n",
    "\n",
    "Finally, a random `key` needs to be passed, which is used internally by the batch generation algorithm.\n",
    "\n",
    "If required, `fit()` delivers many more advanded capabilities such as passing validation data, defining custom batch axes/loss functions/batch generators as well as the use of `Callbacks` and optimizer states. See the documentation of `fit()` reference for the full list of options.\n",
    "\n",
    "After finishing calibration, the loss evluation can be plotted by calling the `HistoryCallback.plot()` method on our returne `history` object.\n"
   ]
  },
  {
   "cell_type": "code",
   "execution_count": 5,
   "id": "f979ea20",
   "metadata": {
    "collapsed": false,
    "jupyter": {
     "outputs_hidden": false,
     "source_hidden": false
    }
   },
   "outputs": [
    {
     "name": "stdout",
     "output_type": "stream",
     "text": [
      "Step: 0, Loss: 1.805e+02\n",
      "Step: 1000, Loss: 1.477e-01\n",
      "Step: 2000, Loss: 4.639e-02\n",
      "Step: 3000, Loss: 2.253e-02\n",
      "Step: 4000, Loss: 1.403e-02\n",
      "Step: 5000, Loss: 1.052e-02\n",
      "Step: 6000, Loss: 8.006e-03\n",
      "Step: 7000, Loss: 7.186e-03\n",
      "Step: 8000, Loss: 7.112e-03\n",
      "Step: 9000, Loss: 6.341e-03\n",
      "Step: 10000, Loss: 5.949e-03\n",
      "Step: 11000, Loss: 6.724e-03\n",
      "Step: 12000, Loss: 5.951e-03\n",
      "Step: 13000, Loss: 6.671e-03\n",
      "Step: 14000, Loss: 5.807e-03\n",
      "Step: 15000, Loss: 6.013e-03\n",
      "Step: 16000, Loss: 6.004e-03\n",
      "Step: 17000, Loss: 5.959e-03\n",
      "Step: 18000, Loss: 5.910e-03\n",
      "Step: 19000, Loss: 6.117e-03\n",
      "Step: 20000, Loss: 5.688e-03\n",
      "Training took: 0:00:17.094651\n"
     ]
    },
    {
     "data": {
      "image/png": "[encoded data removed]",
      "text/plain": [
       "<Figure size 640x480 with 1 Axes>"
      ]
     },
     "metadata": {},
     "output_type": "display_data"
    }
   ],
   "source": [
    "key = jrandom.PRNGKey(0)\n",
    "keys = jrandom.split(key, 2)\n",
    "\n",
    "model = PANN(key=keys[0])\n",
    "x = jnp.concatenate((uniaxial.stretch, biaxial.stretch), axis=0)\n",
    "y = jnp.concatenate((uniaxial.pk11_stress, biaxial.pk11_stress), axis=0)\n",
    "\n",
    "model, history = klax.fit(\n",
    "    model,\n",
    "    (x, y),\n",
    "    batch_size=32,\n",
    "    batch_axis=0,\n",
    "    steps=20_000,\n",
    "    loss_fn=klax.mse,\n",
    "    optimizer=optax.adam(2e-3),\n",
    "    history=klax.HistoryCallback(1000),\n",
    "    key=keys[1],\n",
    ")\n",
    "\n",
    "history.plot()"
   ]
  },
  {
   "cell_type": "markdown",
   "id": "01611684",
   "metadata": {
    "collapsed": false,
    "jupyter": {
     "outputs_hidden": false,
     "source_hidden": false
    }
   },
   "source": [
    "A simple utility function is defined to `evaluate` the calibared `model` on a tuple of load cases. Here, the model is jit-compiled using `eqx.filter_jit()` in order to speed up evaluation for large amounts of data."
   ]
  },
  {
   "cell_type": "code",
   "execution_count": 6,
   "id": "e763fb29",
   "metadata": {
    "collapsed": false,
    "jupyter": {
     "outputs_hidden": false,
     "source_hidden": false
    }
   },
   "outputs": [],
   "source": [
    "def evaluate(model, load_cases: tuple[LoadCase, ...]):\n",
    "    model = eqx.filter_jit(model)\n",
    "    _, axs = plt.subplots(1, len(load_cases), figsize=(5 * len(load_cases), 5))\n",
    "\n",
    "    def plot(ax, x, y, y_pred, title):\n",
    "        ax.plot(x, y, \"x\", label=\"data\", color=\"black\")\n",
    "        ax.plot(x, y_pred, \"-\", label=\"data\", color=\"blue\")\n",
    "        ax.set_xlabel(r\"$\\lambda_1$\")\n",
    "        ax.set_ylabel(r\"$P_{11}$/ MPa\")\n",
    "        ax.set_title(title)\n",
    "\n",
    "    for ax, lc in zip(axs, load_cases):\n",
    "        pk11_stress_pred = jax.vmap(model)(lc.stretch)\n",
    "        plot(ax, lc.stretch[:, 0], lc.pk11_stress, pk11_stress_pred, lc.title)"
   ]
  },
  {
   "cell_type": "markdown",
   "id": "bc3aad42",
   "metadata": {
    "collapsed": false,
    "jupyter": {
     "outputs_hidden": false,
     "source_hidden": false
    }
   },
   "source": [
    "We evaluate the model on the two training cases (*uniaxial*, *biaxial*) and on the *pure shear* test case. Note, that the model needs to be made callable using `klax.finalize`, since the `FICNN` module contains parameters of type `Unwrappable`, which need to be unwrapped before evaluation."
   ]
  },
  {
   "cell_type": "code",
   "execution_count": 7,
   "id": "eb790b37",
   "metadata": {
    "collapsed": false,
    "jupyter": {
     "outputs_hidden": false,
     "source_hidden": false
    }
   },
   "outputs": [
    {
     "data": {
      "image/png": "[encoded data removed]",
      "text/plain": [
       "<Figure size 1500x500 with 3 Axes>"
      ]
     },
     "metadata": {},
     "output_type": "display_data"
    }
   ],
   "source": [
    "model_ = klax.finalize(model)\n",
    "evaluate(model_, (uniaxial, biaxial, pure_shear))"
   ]
  },
  {
   "cell_type": "markdown",
   "id": "08400fc7",
   "metadata": {
    "collapsed": false,
    "jupyter": {
     "outputs_hidden": false,
     "source_hidden": false
    }
   },
   "source": [
    "Finally, the model parameters can be saved using Equinox's [`equinox.tree_serialize_leaves`](https://docs.kidger.site/equinox/api/serialisation/#equinox.tree_serialise_leaves) function. By default it exports to JAX's or Numpy's binary file format. However, to apply the trained model in a finite element simulation (FEM), we usually need to export the parameters in a more universal format.\n",
    "\n",
    "For this, the `klax.text_serialize_filter_spec` and `klax.text_deserialize_filter_spec` filter specifications are used, which enable exporting and reading parameters from text files."
   ]
  },
  {
   "cell_type": "code",
   "execution_count": 8,
   "id": "d0060ecf",
   "metadata": {},
   "outputs": [
    {
     "name": "stdout",
     "output_type": "stream",
     "text": [
      "PANN(\n",
      "  icnn=FICNN(\n",
      "    layers=(\n",
      "      Linear(\n",
      "        weight=NonNegative(parameter=f32[2,8]),\n",
      "        bias=f32[8],\n",
      "        in_features=2,\n",
      "        out_features=8,\n",
      "        use_bias=True\n",
      "      ),\n",
      "      InputSplitLinear(\n",
      "        weights=(\n",
      "          NonNegative(parameter=f32[8,1]), NonNegative(parameter=f32[2,1])\n",
      "        ),\n",
      "        bias=f32[1],\n",
      "        in_features=(8, 2),\n",
      "        out_features='scalar',\n",
      "        use_bias=True,\n",
      "        _num_inputs=2\n",
      "      )\n",
      "    ),\n",
      "    activations=(<PjitFunction of <function softplus at 0x000001D34E9CB1A0>>,),\n",
      "    final_activation=<function FICNN.<lambda>>,\n",
      "    use_bias=True,\n",
      "    use_final_bias=True,\n",
      "    use_passthrough=True,\n",
      "    non_decreasing=True,\n",
      "    in_size=2,\n",
      "    out_size='scalar',\n",
      "    width_sizes=(8,)\n",
      "  )\n",
      ")\n"
     ]
    }
   ],
   "source": [
    "# Save the model parameters to a text file\n",
    "eqx.tree_serialise_leaves(\n",
    "    \"model.txt\", model, filter_spec=klax.text_serialize_filter_spec\n",
    ")\n",
    "\n",
    "# Load the model parameters from a text file\n",
    "loaded_model = eqx.tree_deserialise_leaves(\n",
    "    \"model.txt\", model, filter_spec=klax.text_deserialize_filter_spec\n",
    ")\n",
    "\n",
    "eqx.tree_pprint(loaded_model)"
   ]
  }
 ],
 "metadata": {
  "kernelspec": {
   "display_name": ".venv",
   "language": "python",
   "name": "python3"
  },
  "language_info": {
   "codemirror_mode": {
    "name": "ipython",
    "version": 3
   },
   "file_extension": ".py",
   "mimetype": "text/x-python",
   "name": "python",
   "nbconvert_exporter": "python",
   "pygments_lexer": "ipython3",
   "version": "3.13.3"
  },
  "widgets": {
   "application/vnd.jupyter.widget-state+json": {
    "state": {},
    "version_major": 2,
    "version_minor": 0
   }
  }
 },
 "nbformat": 4,
 "nbformat_minor": 5
}
