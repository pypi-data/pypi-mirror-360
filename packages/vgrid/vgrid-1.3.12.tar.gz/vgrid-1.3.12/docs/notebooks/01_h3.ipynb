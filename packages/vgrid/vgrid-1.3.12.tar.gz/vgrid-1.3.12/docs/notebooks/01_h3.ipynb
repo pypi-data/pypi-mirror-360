{
 "cells": [
  {
   "cell_type": "markdown",
   "id": "0",
   "metadata": {},
   "source": [
    "# Working with H3 DGGS in Vgrid\n",
    "\n",
    "<!-- [![image](https://jupyterlite.rtfd.io/en/latest/_static/badge.svg)](https://demo.vgrid.org/lab/index.html?path=notebooks/00_conversion.ipynb) -->\n",
    "[![image](https://colab.research.google.com/assets/colab-badge.svg)](https://colab.research.google.com/github/opengeoshub/vgrid/blob/master)\n",
    "[![image](https://mybinder.org/badge_logo.svg)](https://mybinder.org/v2/gh/opengeoshub/vgrid/HEAD)"
   ]
  },
  {
   "cell_type": "markdown",
   "id": "1",
   "metadata": {},
   "source": [
    "## Install vgrid\n",
    "Uncomment the following line to install [vgrid](https://pypi.org/project/vgrid/) if needed."
   ]
  },
  {
   "cell_type": "code",
   "execution_count": 28,
   "id": "2",
   "metadata": {},
   "outputs": [],
   "source": [
    "# %pip install vgrid --upgrade"
   ]
  },
  {
   "cell_type": "markdown",
   "id": "3",
   "metadata": {},
   "source": [
    "## latlon2h3"
   ]
  },
  {
   "cell_type": "code",
   "execution_count": 29,
   "id": "4",
   "metadata": {},
   "outputs": [
    {
     "name": "stdout",
     "output_type": "stream",
     "text": [
      "8a65b56628e7fff\n"
     ]
    }
   ],
   "source": [
    "from vgrid.conversion.latlon2dggs import latlon2h3\n",
    "\n",
    "lat = 10.775276\n",
    "lon = 106.706797\n",
    "res = 9\n",
    "h3_id = latlon2h3(lat, lon, 10)\n",
    "print(h3_id)"
   ]
  },
  {
   "cell_type": "markdown",
   "id": "fea7cee6",
   "metadata": {},
   "source": [
    "### Convert H3 ID to GeoJSON        "
   ]
  },
  {
   "cell_type": "code",
   "execution_count": 30,
   "id": "08b12bfe",
   "metadata": {},
   "outputs": [
    {
     "name": "stdout",
     "output_type": "stream",
     "text": [
      "{'type': 'FeatureCollection', 'features': [{'type': 'Feature', 'geometry': {'type': 'Polygon', 'coordinates': (((106.70713615426936, 10.774978441229653), (106.70721514572995, 10.775713374905791), (106.70661718075799, 10.776150587194028), (106.70594022237229, 10.77585286364977), (106.70586123315323, 10.77511792678204), (106.70645920007833, 10.774680716650128), (106.70713615426936, 10.774978441229653)),)}, 'properties': {'h3': '8a65b56628e7fff', 'resolution': 10, 'center_lat': 10.7754157, 'center_lon': 106.7065382, 'avg_edge_len': 81.374, 'cell_area': 17202.984}}]}\n"
     ]
    }
   ],
   "source": [
    "from vgrid.conversion.dggs2geojson import h32geojson\n",
    "\n",
    "h3_geojson = h32geojson(h3_id)\n",
    "print(h3_geojson)"
   ]
  },
  {
   "cell_type": "markdown",
   "id": "079503b4",
   "metadata": {},
   "source": [
    "### Visualize H3 cells using folium\n",
    "Install folium"
   ]
  },
  {
   "cell_type": "code",
   "execution_count": 31,
   "id": "0e512227",
   "metadata": {},
   "outputs": [
    {
     "name": "stdout",
     "output_type": "stream",
     "text": [
      "Requirement already satisfied: folium in c:\\users\\techcraft-qdthang\\appdata\\local\\packages\\pythonsoftwarefoundation.python.3.11_qbz5n2kfra8p0\\localcache\\local-packages\\python311\\site-packages (0.14.0)\n",
      "Requirement already satisfied: branca>=0.6.0 in c:\\users\\techcraft-qdthang\\appdata\\local\\packages\\pythonsoftwarefoundation.python.3.11_qbz5n2kfra8p0\\localcache\\local-packages\\python311\\site-packages (from folium) (0.6.0)\n",
      "Requirement already satisfied: jinja2>=2.9 in c:\\users\\techcraft-qdthang\\appdata\\local\\packages\\pythonsoftwarefoundation.python.3.11_qbz5n2kfra8p0\\localcache\\local-packages\\python311\\site-packages (from folium) (3.1.6)\n",
      "Requirement already satisfied: numpy in c:\\users\\techcraft-qdthang\\appdata\\local\\packages\\pythonsoftwarefoundation.python.3.11_qbz5n2kfra8p0\\localcache\\local-packages\\python311\\site-packages (from folium) (1.26.4)\n",
      "Requirement already satisfied: requests in c:\\users\\techcraft-qdthang\\appdata\\local\\packages\\pythonsoftwarefoundation.python.3.11_qbz5n2kfra8p0\\localcache\\local-packages\\python311\\site-packages (from folium) (2.31.0)\n",
      "Requirement already satisfied: MarkupSafe>=2.0 in c:\\users\\techcraft-qdthang\\appdata\\local\\packages\\pythonsoftwarefoundation.python.3.11_qbz5n2kfra8p0\\localcache\\local-packages\\python311\\site-packages (from jinja2>=2.9->folium) (2.1.3)\n",
      "Requirement already satisfied: charset-normalizer<4,>=2 in c:\\users\\techcraft-qdthang\\appdata\\local\\packages\\pythonsoftwarefoundation.python.3.11_qbz5n2kfra8p0\\localcache\\local-packages\\python311\\site-packages (from requests->folium) (3.3.0)\n",
      "Requirement already satisfied: idna<4,>=2.5 in c:\\users\\techcraft-qdthang\\appdata\\local\\packages\\pythonsoftwarefoundation.python.3.11_qbz5n2kfra8p0\\localcache\\local-packages\\python311\\site-packages (from requests->folium) (2.10)\n",
      "Requirement already satisfied: urllib3<3,>=1.21.1 in c:\\users\\techcraft-qdthang\\appdata\\local\\packages\\pythonsoftwarefoundation.python.3.11_qbz5n2kfra8p0\\localcache\\local-packages\\python311\\site-packages (from requests->folium) (2.2.3)\n",
      "Requirement already satisfied: certifi>=2017.4.17 in c:\\users\\techcraft-qdthang\\appdata\\local\\packages\\pythonsoftwarefoundation.python.3.11_qbz5n2kfra8p0\\localcache\\local-packages\\python311\\site-packages (from requests->folium) (2024.8.30)\n",
      "Note: you may need to restart the kernel to use updated packages.\n"
     ]
    }
   ],
   "source": [
    "%pip install folium"
   ]
  },
  {
   "cell_type": "markdown",
   "id": "c3e23725",
   "metadata": {},
   "source": [
    "Initialize the map and visualize H3 GeoJSON"
   ]
  },
  {
   "cell_type": "code",
   "execution_count": 32,
   "id": "a2ebea84",
   "metadata": {},
   "outputs": [
    {
     "data": {
      "text/html": [
       "<div style=\"width:100%;\"><div style=\"position:relative;width:100%;height:0;padding-bottom:60%;\"><span style=\"color:#565656\">Make this Notebook Trusted to load map: File -> Trust Notebook</span><iframe srcdoc=\"&lt;!DOCTYPE html&gt;\n",
       "&lt;html&gt;\n",
       "&lt;head&gt;\n",
       "    \n",
       "    &lt;meta http-equiv=&quot;content-type&quot; content=&quot;text/html; charset=UTF-8&quot; /&gt;\n",
       "    \n",
       "        &lt;script&gt;\n",
       "            L_NO_TOUCH = false;\n",
       "            L_DISABLE_3D = false;\n",
       "        &lt;/script&gt;\n",
       "    \n",
       "    &lt;style&gt;html, body {width: 100%;height: 100%;margin: 0;padding: 0;}&lt;/style&gt;\n",
       "    &lt;style&gt;#map {position:absolute;top:0;bottom:0;right:0;left:0;}&lt;/style&gt;\n",
       "    &lt;script src=&quot;https://cdn.jsdelivr.net/npm/leaflet@1.9.3/dist/leaflet.js&quot;&gt;&lt;/script&gt;\n",
       "    &lt;script src=&quot;https://code.jquery.com/jquery-1.12.4.min.js&quot;&gt;&lt;/script&gt;\n",
       "    &lt;script src=&quot;https://cdn.jsdelivr.net/npm/bootstrap@5.2.2/dist/js/bootstrap.bundle.min.js&quot;&gt;&lt;/script&gt;\n",
       "    &lt;script src=&quot;https://cdnjs.cloudflare.com/ajax/libs/Leaflet.awesome-markers/2.0.2/leaflet.awesome-markers.js&quot;&gt;&lt;/script&gt;\n",
       "    &lt;link rel=&quot;stylesheet&quot; href=&quot;https://cdn.jsdelivr.net/npm/leaflet@1.9.3/dist/leaflet.css&quot;/&gt;\n",
       "    &lt;link rel=&quot;stylesheet&quot; href=&quot;https://cdn.jsdelivr.net/npm/bootstrap@5.2.2/dist/css/bootstrap.min.css&quot;/&gt;\n",
       "    &lt;link rel=&quot;stylesheet&quot; href=&quot;https://netdna.bootstrapcdn.com/bootstrap/3.0.0/css/bootstrap.min.css&quot;/&gt;\n",
       "    &lt;link rel=&quot;stylesheet&quot; href=&quot;https://cdn.jsdelivr.net/npm/@fortawesome/fontawesome-free@6.2.0/css/all.min.css&quot;/&gt;\n",
       "    &lt;link rel=&quot;stylesheet&quot; href=&quot;https://cdnjs.cloudflare.com/ajax/libs/Leaflet.awesome-markers/2.0.2/leaflet.awesome-markers.css&quot;/&gt;\n",
       "    &lt;link rel=&quot;stylesheet&quot; href=&quot;https://cdn.jsdelivr.net/gh/python-visualization/folium/folium/templates/leaflet.awesome.rotate.min.css&quot;/&gt;\n",
       "    \n",
       "            &lt;meta name=&quot;viewport&quot; content=&quot;width=device-width,\n",
       "                initial-scale=1.0, maximum-scale=1.0, user-scalable=no&quot; /&gt;\n",
       "            &lt;style&gt;\n",
       "                #map_178e1fd32db4a207a662da7ee498352d {\n",
       "                    position: relative;\n",
       "                    width: 100.0%;\n",
       "                    height: 100.0%;\n",
       "                    left: 0.0%;\n",
       "                    top: 0.0%;\n",
       "                }\n",
       "                .leaflet-container { font-size: 1rem; }\n",
       "            &lt;/style&gt;\n",
       "        \n",
       "    \n",
       "                    &lt;style&gt;\n",
       "                        .foliumtooltip {\n",
       "                            \n",
       "            background-color: white;\n",
       "            border: 2px solid black;\n",
       "            border-radius: 3px;\n",
       "            box-shadow: 3px;\n",
       "        \n",
       "                        }\n",
       "                       .foliumtooltip table{\n",
       "                            margin: auto;\n",
       "                        }\n",
       "                        .foliumtooltip tr{\n",
       "                            text-align: left;\n",
       "                        }\n",
       "                        .foliumtooltip th{\n",
       "                            padding: 2px; padding-right: 8px;\n",
       "                        }\n",
       "                    &lt;/style&gt;\n",
       "            \n",
       "&lt;/head&gt;\n",
       "&lt;body&gt;\n",
       "    \n",
       "    \n",
       "            &lt;div class=&quot;folium-map&quot; id=&quot;map_178e1fd32db4a207a662da7ee498352d&quot; &gt;&lt;/div&gt;\n",
       "        \n",
       "&lt;/body&gt;\n",
       "&lt;script&gt;\n",
       "    \n",
       "    \n",
       "            var map_178e1fd32db4a207a662da7ee498352d = L.map(\n",
       "                &quot;map_178e1fd32db4a207a662da7ee498352d&quot;,\n",
       "                {\n",
       "                    center: [10.7754157, 106.7065382],\n",
       "                    crs: L.CRS.EPSG3857,\n",
       "                    zoom: 17,\n",
       "                    zoomControl: true,\n",
       "                    preferCanvas: false,\n",
       "                }\n",
       "            );\n",
       "\n",
       "            \n",
       "\n",
       "        \n",
       "    \n",
       "            var tile_layer_e2bd4936b072c4425d52bcd98dd6f50e = L.tileLayer(\n",
       "                &quot;https://cartodb-basemaps-{s}.global.ssl.fastly.net/light_all/{z}/{x}/{y}.png&quot;,\n",
       "                {&quot;attribution&quot;: &quot;\\u0026copy; \\u003ca target=\\&quot;_blank\\&quot; href=\\&quot;http://www.openstreetmap.org/copyright\\&quot;\\u003eOpenStreetMap\\u003c/a\\u003e contributors \\u0026copy; \\u003ca target=\\&quot;_blank\\&quot; href=\\&quot;http://cartodb.com/attributions\\&quot;\\u003eCartoDB\\u003c/a\\u003e, CartoDB \\u003ca target=\\&quot;_blank\\&quot; href =\\&quot;http://cartodb.com/attributions\\&quot;\\u003eattributions\\u003c/a\\u003e&quot;, &quot;detectRetina&quot;: false, &quot;maxNativeZoom&quot;: 18, &quot;maxZoom&quot;: 18, &quot;minZoom&quot;: 0, &quot;noWrap&quot;: false, &quot;opacity&quot;: 1, &quot;subdomains&quot;: &quot;abc&quot;, &quot;tms&quot;: false}\n",
       "            ).addTo(map_178e1fd32db4a207a662da7ee498352d);\n",
       "        \n",
       "    \n",
       "        function geo_json_b27c4b8c684273cc2c43a1c548104a81_styler(feature) {\n",
       "            switch(feature.properties.h3) {\n",
       "                default:\n",
       "                    return {&quot;color&quot;: &quot;black&quot;, &quot;fillColor&quot;: &quot;blue&quot;, &quot;fillOpacity&quot;: 0.3, &quot;weight&quot;: 1};\n",
       "            }\n",
       "        }\n",
       "\n",
       "        function geo_json_b27c4b8c684273cc2c43a1c548104a81_onEachFeature(feature, layer) {\n",
       "            layer.on({\n",
       "            });\n",
       "        };\n",
       "        var geo_json_b27c4b8c684273cc2c43a1c548104a81 = L.geoJson(null, {\n",
       "                onEachFeature: geo_json_b27c4b8c684273cc2c43a1c548104a81_onEachFeature,\n",
       "            \n",
       "                style: geo_json_b27c4b8c684273cc2c43a1c548104a81_styler,\n",
       "        });\n",
       "\n",
       "        function geo_json_b27c4b8c684273cc2c43a1c548104a81_add (data) {\n",
       "            geo_json_b27c4b8c684273cc2c43a1c548104a81\n",
       "                .addData(data)\n",
       "                .addTo(map_178e1fd32db4a207a662da7ee498352d);\n",
       "        }\n",
       "            geo_json_b27c4b8c684273cc2c43a1c548104a81_add({&quot;features&quot;: [{&quot;geometry&quot;: {&quot;coordinates&quot;: [[[106.70713615426936, 10.774978441229653], [106.70721514572995, 10.775713374905791], [106.70661718075799, 10.776150587194028], [106.70594022237229, 10.77585286364977], [106.70586123315323, 10.77511792678204], [106.70645920007833, 10.774680716650128], [106.70713615426936, 10.774978441229653]]], &quot;type&quot;: &quot;Polygon&quot;}, &quot;properties&quot;: {&quot;avg_edge_len&quot;: 81.374, &quot;cell_area&quot;: 17202.984, &quot;center_lat&quot;: 10.7754157, &quot;center_lon&quot;: 106.7065382, &quot;h3&quot;: &quot;8a65b56628e7fff&quot;, &quot;resolution&quot;: 10}, &quot;type&quot;: &quot;Feature&quot;}], &quot;type&quot;: &quot;FeatureCollection&quot;});\n",
       "\n",
       "        \n",
       "    \n",
       "    geo_json_b27c4b8c684273cc2c43a1c548104a81.bindTooltip(\n",
       "    function(layer){\n",
       "    let div = L.DomUtil.create(&#x27;div&#x27;);\n",
       "    \n",
       "    let handleObject = feature=&gt;typeof(feature)==&#x27;object&#x27; ? JSON.stringify(feature) : feature;\n",
       "    let fields = [&quot;h3&quot;, &quot;resolution&quot;, &quot;cell_area&quot;];\n",
       "    let aliases = [&quot;H3 ID&quot;, &quot;Resolution&quot;, &quot;Area (m\\u00b2)&quot;];\n",
       "    let table = &#x27;&lt;table&gt;&#x27; +\n",
       "        String(\n",
       "        fields.map(\n",
       "        (v,i)=&gt;\n",
       "        `&lt;tr&gt;\n",
       "            &lt;th&gt;${aliases[i]}&lt;/th&gt;\n",
       "            \n",
       "            &lt;td&gt;${handleObject(layer.feature.properties[v])}&lt;/td&gt;\n",
       "        &lt;/tr&gt;`).join(&#x27;&#x27;))\n",
       "    +&#x27;&lt;/table&gt;&#x27;;\n",
       "    div.innerHTML=table;\n",
       "    \n",
       "    return div\n",
       "    }\n",
       "    ,{&quot;className&quot;: &quot;foliumtooltip&quot;, &quot;sticky&quot;: true});\n",
       "                     \n",
       "&lt;/script&gt;\n",
       "&lt;/html&gt;\" style=\"position:absolute;width:100%;height:100%;left:0;top:0;border:none !important;\" allowfullscreen webkitallowfullscreen mozallowfullscreen></iframe></div></div>"
      ],
      "text/plain": [
       "<folium.folium.Map at 0x1b198abbd90>"
      ]
     },
     "execution_count": 32,
     "metadata": {},
     "output_type": "execute_result"
    }
   ],
   "source": [
    "import folium\n",
    "\n",
    "# Create a map centered at the H3 cell's center coordinates\n",
    "m = folium.Map(\n",
    "    location=[\n",
    "        h3_geojson[\"features\"][0][\"properties\"][\"center_lat\"],\n",
    "        h3_geojson[\"features\"][0][\"properties\"][\"center_lon\"],\n",
    "    ],\n",
    "    tiles=\"CartoDB positron\",\n",
    "    zoom_start=17,\n",
    ")\n",
    "# Add the GeoJSON to the map with a popup showing H3 properties\n",
    "folium.GeoJson(\n",
    "    h3_geojson,\n",
    "    style_function=lambda x: {\n",
    "        \"fillColor\": \"blue\",\n",
    "        \"color\": \"black\",\n",
    "        \"fillOpacity\": 0.3,\n",
    "        \"weight\": 1,\n",
    "    },\n",
    "    tooltip=folium.GeoJsonTooltip(\n",
    "        fields=[\"h3\", \"resolution\", \"cell_area\"],\n",
    "        aliases=[\"H3 ID\", \"Resolution\", \"Area (m²)\"],\n",
    "        style=\"\"\"\n",
    "            background-color: white;\n",
    "            border: 2px solid black;\n",
    "            border-radius: 3px;\n",
    "            box-shadow: 3px;\n",
    "        \"\"\",\n",
    "    ),\n",
    ").add_to(m)\n",
    "\n",
    "# Display the map\n",
    "m"
   ]
  },
  {
   "cell_type": "markdown",
   "id": "3bd09ad5",
   "metadata": {},
   "source": [
    "### Visualize H3 cells using leafmap[maplibre]\n",
    "Install leafmap[maplibre]"
   ]
  },
  {
   "cell_type": "code",
   "execution_count": 33,
   "id": "da28740f",
   "metadata": {},
   "outputs": [
    {
     "name": "stdout",
     "output_type": "stream",
     "text": [
      "Requirement already satisfied: leafmap[maplibre] in c:\\users\\techcraft-qdthang\\appdata\\local\\packages\\pythonsoftwarefoundation.python.3.11_qbz5n2kfra8p0\\localcache\\local-packages\\python311\\site-packages (0.47.2)\n",
      "Requirement already satisfied: anywidget in c:\\users\\techcraft-qdthang\\appdata\\local\\packages\\pythonsoftwarefoundation.python.3.11_qbz5n2kfra8p0\\localcache\\local-packages\\python311\\site-packages (from leafmap[maplibre]) (0.9.13)\n",
      "Requirement already satisfied: bqplot in c:\\users\\techcraft-qdthang\\appdata\\local\\packages\\pythonsoftwarefoundation.python.3.11_qbz5n2kfra8p0\\localcache\\local-packages\\python311\\site-packages (from leafmap[maplibre]) (0.12.42)\n",
      "Requirement already satisfied: duckdb in c:\\users\\techcraft-qdthang\\appdata\\local\\packages\\pythonsoftwarefoundation.python.3.11_qbz5n2kfra8p0\\localcache\\local-packages\\python311\\site-packages (from leafmap[maplibre]) (1.1.3)\n",
      "Requirement already satisfied: folium in c:\\users\\techcraft-qdthang\\appdata\\local\\packages\\pythonsoftwarefoundation.python.3.11_qbz5n2kfra8p0\\localcache\\local-packages\\python311\\site-packages (from leafmap[maplibre]) (0.14.0)\n",
      "Requirement already satisfied: gdown in c:\\users\\techcraft-qdthang\\appdata\\local\\packages\\pythonsoftwarefoundation.python.3.11_qbz5n2kfra8p0\\localcache\\local-packages\\python311\\site-packages (from leafmap[maplibre]) (4.7.3)\n",
      "Requirement already satisfied: geojson in c:\\users\\techcraft-qdthang\\appdata\\local\\packages\\pythonsoftwarefoundation.python.3.11_qbz5n2kfra8p0\\localcache\\local-packages\\python311\\site-packages (from leafmap[maplibre]) (3.0.1)\n",
      "Requirement already satisfied: geopandas in c:\\users\\techcraft-qdthang\\appdata\\local\\packages\\pythonsoftwarefoundation.python.3.11_qbz5n2kfra8p0\\localcache\\local-packages\\python311\\site-packages (from leafmap[maplibre]) (0.14.0)\n",
      "Requirement already satisfied: h5netcdf in c:\\users\\techcraft-qdthang\\appdata\\local\\packages\\pythonsoftwarefoundation.python.3.11_qbz5n2kfra8p0\\localcache\\local-packages\\python311\\site-packages (from leafmap[maplibre]) (1.3.0)\n",
      "Requirement already satisfied: h5py in c:\\users\\techcraft-qdthang\\appdata\\local\\packages\\pythonsoftwarefoundation.python.3.11_qbz5n2kfra8p0\\localcache\\local-packages\\python311\\site-packages (from leafmap[maplibre]) (3.10.0)\n",
      "Requirement already satisfied: ipyevents in c:\\users\\techcraft-qdthang\\appdata\\local\\packages\\pythonsoftwarefoundation.python.3.11_qbz5n2kfra8p0\\localcache\\local-packages\\python311\\site-packages (from leafmap[maplibre]) (2.0.2)\n",
      "Requirement already satisfied: ipyfilechooser in c:\\users\\techcraft-qdthang\\appdata\\local\\packages\\pythonsoftwarefoundation.python.3.11_qbz5n2kfra8p0\\localcache\\local-packages\\python311\\site-packages (from leafmap[maplibre]) (0.6.0)\n",
      "Requirement already satisfied: ipyleaflet in c:\\users\\techcraft-qdthang\\appdata\\local\\packages\\pythonsoftwarefoundation.python.3.11_qbz5n2kfra8p0\\localcache\\local-packages\\python311\\site-packages (from leafmap[maplibre]) (0.18.1)\n",
      "Requirement already satisfied: ipyvuetify in c:\\users\\techcraft-qdthang\\appdata\\local\\packages\\pythonsoftwarefoundation.python.3.11_qbz5n2kfra8p0\\localcache\\local-packages\\python311\\site-packages (from leafmap[maplibre]) (1.11.2)\n",
      "Requirement already satisfied: ipywidgets in c:\\users\\techcraft-qdthang\\appdata\\local\\packages\\pythonsoftwarefoundation.python.3.11_qbz5n2kfra8p0\\localcache\\local-packages\\python311\\site-packages (from leafmap[maplibre]) (8.1.7)\n",
      "Requirement already satisfied: localtileserver in c:\\users\\techcraft-qdthang\\appdata\\local\\packages\\pythonsoftwarefoundation.python.3.11_qbz5n2kfra8p0\\localcache\\local-packages\\python311\\site-packages (from leafmap[maplibre]) (0.10.6)\n",
      "Requirement already satisfied: matplotlib in c:\\users\\techcraft-qdthang\\appdata\\local\\packages\\pythonsoftwarefoundation.python.3.11_qbz5n2kfra8p0\\localcache\\local-packages\\python311\\site-packages (from leafmap[maplibre]) (3.8.4)\n",
      "Requirement already satisfied: numpy in c:\\users\\techcraft-qdthang\\appdata\\local\\packages\\pythonsoftwarefoundation.python.3.11_qbz5n2kfra8p0\\localcache\\local-packages\\python311\\site-packages (from leafmap[maplibre]) (1.26.4)\n",
      "Requirement already satisfied: opera-utils in c:\\users\\techcraft-qdthang\\appdata\\local\\packages\\pythonsoftwarefoundation.python.3.11_qbz5n2kfra8p0\\localcache\\local-packages\\python311\\site-packages (from leafmap[maplibre]) (0.22.1)\n",
      "Requirement already satisfied: pandas in c:\\users\\techcraft-qdthang\\appdata\\local\\packages\\pythonsoftwarefoundation.python.3.11_qbz5n2kfra8p0\\localcache\\local-packages\\python311\\site-packages (from leafmap[maplibre]) (2.0.3)\n",
      "Requirement already satisfied: plotly in c:\\users\\techcraft-qdthang\\appdata\\local\\packages\\pythonsoftwarefoundation.python.3.11_qbz5n2kfra8p0\\localcache\\local-packages\\python311\\site-packages (from leafmap[maplibre]) (5.18.0)\n",
      "Requirement already satisfied: psutil in c:\\users\\techcraft-qdthang\\appdata\\local\\packages\\pythonsoftwarefoundation.python.3.11_qbz5n2kfra8p0\\localcache\\local-packages\\python311\\site-packages (from leafmap[maplibre]) (5.9.5)\n",
      "Requirement already satisfied: pyshp in c:\\users\\techcraft-qdthang\\appdata\\local\\packages\\pythonsoftwarefoundation.python.3.11_qbz5n2kfra8p0\\localcache\\local-packages\\python311\\site-packages (from leafmap[maplibre]) (2.3.1)\n",
      "Requirement already satisfied: pystac-client in c:\\users\\techcraft-qdthang\\appdata\\local\\packages\\pythonsoftwarefoundation.python.3.11_qbz5n2kfra8p0\\localcache\\local-packages\\python311\\site-packages (from leafmap[maplibre]) (0.7.5)\n",
      "Requirement already satisfied: python-box in c:\\users\\techcraft-qdthang\\appdata\\local\\packages\\pythonsoftwarefoundation.python.3.11_qbz5n2kfra8p0\\localcache\\local-packages\\python311\\site-packages (from leafmap[maplibre]) (7.1.1)\n",
      "Requirement already satisfied: rioxarray in c:\\users\\techcraft-qdthang\\appdata\\local\\packages\\pythonsoftwarefoundation.python.3.11_qbz5n2kfra8p0\\localcache\\local-packages\\python311\\site-packages (from leafmap[maplibre]) (0.14.1)\n",
      "Requirement already satisfied: scooby in c:\\users\\techcraft-qdthang\\appdata\\local\\packages\\pythonsoftwarefoundation.python.3.11_qbz5n2kfra8p0\\localcache\\local-packages\\python311\\site-packages (from leafmap[maplibre]) (0.9.2)\n",
      "Requirement already satisfied: whiteboxgui in c:\\users\\techcraft-qdthang\\appdata\\local\\packages\\pythonsoftwarefoundation.python.3.11_qbz5n2kfra8p0\\localcache\\local-packages\\python311\\site-packages (from leafmap[maplibre]) (2.3.0)\n",
      "Requirement already satisfied: xyzservices in c:\\users\\techcraft-qdthang\\appdata\\local\\packages\\pythonsoftwarefoundation.python.3.11_qbz5n2kfra8p0\\localcache\\local-packages\\python311\\site-packages (from leafmap[maplibre]) (2023.10.0)\n",
      "Requirement already satisfied: fiona in c:\\users\\techcraft-qdthang\\appdata\\local\\packages\\pythonsoftwarefoundation.python.3.11_qbz5n2kfra8p0\\localcache\\local-packages\\python311\\site-packages (from leafmap[maplibre]) (1.10.0)\n",
      "Requirement already satisfied: h3 in c:\\users\\techcraft-qdthang\\appdata\\local\\packages\\pythonsoftwarefoundation.python.3.11_qbz5n2kfra8p0\\localcache\\local-packages\\python311\\site-packages (from leafmap[maplibre]) (4.1.1)\n",
      "Requirement already satisfied: mapclassify in c:\\users\\techcraft-qdthang\\appdata\\local\\packages\\pythonsoftwarefoundation.python.3.11_qbz5n2kfra8p0\\localcache\\local-packages\\python311\\site-packages (from leafmap[maplibre]) (2.8.1)\n",
      "Requirement already satisfied: maplibre>=0.3.1 in c:\\users\\techcraft-qdthang\\appdata\\local\\packages\\pythonsoftwarefoundation.python.3.11_qbz5n2kfra8p0\\localcache\\local-packages\\python311\\site-packages (from leafmap[maplibre]) (0.3.4)\n",
      "Requirement already satisfied: pmtiles in c:\\users\\techcraft-qdthang\\appdata\\local\\packages\\pythonsoftwarefoundation.python.3.11_qbz5n2kfra8p0\\localcache\\local-packages\\python311\\site-packages (from leafmap[maplibre]) (3.4.1)\n",
      "Requirement already satisfied: xarray in c:\\users\\techcraft-qdthang\\appdata\\local\\packages\\pythonsoftwarefoundation.python.3.11_qbz5n2kfra8p0\\localcache\\local-packages\\python311\\site-packages (from leafmap[maplibre]) (2023.6.0)\n",
      "Requirement already satisfied: branca in c:\\users\\techcraft-qdthang\\appdata\\local\\packages\\pythonsoftwarefoundation.python.3.11_qbz5n2kfra8p0\\localcache\\local-packages\\python311\\site-packages (from maplibre>=0.3.1->leafmap[maplibre]) (0.6.0)\n",
      "Requirement already satisfied: eval-type-backport in c:\\users\\techcraft-qdthang\\appdata\\local\\packages\\pythonsoftwarefoundation.python.3.11_qbz5n2kfra8p0\\localcache\\local-packages\\python311\\site-packages (from maplibre>=0.3.1->leafmap[maplibre]) (0.2.2)\n",
      "Requirement already satisfied: jinja2>=3.1.6 in c:\\users\\techcraft-qdthang\\appdata\\local\\packages\\pythonsoftwarefoundation.python.3.11_qbz5n2kfra8p0\\localcache\\local-packages\\python311\\site-packages (from maplibre>=0.3.1->leafmap[maplibre]) (3.1.6)\n",
      "Requirement already satisfied: pydantic>=2.5.3 in c:\\users\\techcraft-qdthang\\appdata\\local\\packages\\pythonsoftwarefoundation.python.3.11_qbz5n2kfra8p0\\localcache\\local-packages\\python311\\site-packages (from maplibre>=0.3.1->leafmap[maplibre]) (2.10.6)\n",
      "Requirement already satisfied: MarkupSafe>=2.0 in c:\\users\\techcraft-qdthang\\appdata\\local\\packages\\pythonsoftwarefoundation.python.3.11_qbz5n2kfra8p0\\localcache\\local-packages\\python311\\site-packages (from jinja2>=3.1.6->maplibre>=0.3.1->leafmap[maplibre]) (2.1.3)\n",
      "Requirement already satisfied: annotated-types>=0.6.0 in c:\\users\\techcraft-qdthang\\appdata\\local\\packages\\pythonsoftwarefoundation.python.3.11_qbz5n2kfra8p0\\localcache\\local-packages\\python311\\site-packages (from pydantic>=2.5.3->maplibre>=0.3.1->leafmap[maplibre]) (0.7.0)\n",
      "Requirement already satisfied: pydantic-core==2.27.2 in c:\\users\\techcraft-qdthang\\appdata\\local\\packages\\pythonsoftwarefoundation.python.3.11_qbz5n2kfra8p0\\localcache\\local-packages\\python311\\site-packages (from pydantic>=2.5.3->maplibre>=0.3.1->leafmap[maplibre]) (2.27.2)\n",
      "Requirement already satisfied: typing-extensions>=4.12.2 in c:\\users\\techcraft-qdthang\\appdata\\local\\packages\\pythonsoftwarefoundation.python.3.11_qbz5n2kfra8p0\\localcache\\local-packages\\python311\\site-packages (from pydantic>=2.5.3->maplibre>=0.3.1->leafmap[maplibre]) (4.14.0)\n",
      "Requirement already satisfied: psygnal>=0.8.1 in c:\\users\\techcraft-qdthang\\appdata\\local\\packages\\pythonsoftwarefoundation.python.3.11_qbz5n2kfra8p0\\localcache\\local-packages\\python311\\site-packages (from anywidget->leafmap[maplibre]) (0.11.1)\n",
      "Requirement already satisfied: comm>=0.1.3 in c:\\users\\techcraft-qdthang\\appdata\\local\\packages\\pythonsoftwarefoundation.python.3.11_qbz5n2kfra8p0\\localcache\\local-packages\\python311\\site-packages (from ipywidgets->leafmap[maplibre]) (0.1.4)\n",
      "Requirement already satisfied: ipython>=6.1.0 in c:\\users\\techcraft-qdthang\\appdata\\local\\packages\\pythonsoftwarefoundation.python.3.11_qbz5n2kfra8p0\\localcache\\local-packages\\python311\\site-packages (from ipywidgets->leafmap[maplibre]) (8.16.1)\n",
      "Requirement already satisfied: traitlets>=4.3.1 in c:\\users\\techcraft-qdthang\\appdata\\local\\packages\\pythonsoftwarefoundation.python.3.11_qbz5n2kfra8p0\\localcache\\local-packages\\python311\\site-packages (from ipywidgets->leafmap[maplibre]) (5.11.2)\n",
      "Requirement already satisfied: widgetsnbextension~=4.0.14 in c:\\users\\techcraft-qdthang\\appdata\\local\\packages\\pythonsoftwarefoundation.python.3.11_qbz5n2kfra8p0\\localcache\\local-packages\\python311\\site-packages (from ipywidgets->leafmap[maplibre]) (4.0.14)\n",
      "Requirement already satisfied: jupyterlab_widgets~=3.0.15 in c:\\users\\techcraft-qdthang\\appdata\\local\\packages\\pythonsoftwarefoundation.python.3.11_qbz5n2kfra8p0\\localcache\\local-packages\\python311\\site-packages (from ipywidgets->leafmap[maplibre]) (3.0.15)\n",
      "Requirement already satisfied: backcall in c:\\users\\techcraft-qdthang\\appdata\\local\\packages\\pythonsoftwarefoundation.python.3.11_qbz5n2kfra8p0\\localcache\\local-packages\\python311\\site-packages (from ipython>=6.1.0->ipywidgets->leafmap[maplibre]) (0.2.0)\n",
      "Requirement already satisfied: decorator in c:\\users\\techcraft-qdthang\\appdata\\local\\packages\\pythonsoftwarefoundation.python.3.11_qbz5n2kfra8p0\\localcache\\local-packages\\python311\\site-packages (from ipython>=6.1.0->ipywidgets->leafmap[maplibre]) (5.1.1)\n",
      "Requirement already satisfied: jedi>=0.16 in c:\\users\\techcraft-qdthang\\appdata\\local\\packages\\pythonsoftwarefoundation.python.3.11_qbz5n2kfra8p0\\localcache\\local-packages\\python311\\site-packages (from ipython>=6.1.0->ipywidgets->leafmap[maplibre]) (0.19.1)\n",
      "Requirement already satisfied: matplotlib-inline in c:\\users\\techcraft-qdthang\\appdata\\local\\packages\\pythonsoftwarefoundation.python.3.11_qbz5n2kfra8p0\\localcache\\local-packages\\python311\\site-packages (from ipython>=6.1.0->ipywidgets->leafmap[maplibre]) (0.1.6)\n",
      "Requirement already satisfied: pickleshare in c:\\users\\techcraft-qdthang\\appdata\\local\\packages\\pythonsoftwarefoundation.python.3.11_qbz5n2kfra8p0\\localcache\\local-packages\\python311\\site-packages (from ipython>=6.1.0->ipywidgets->leafmap[maplibre]) (0.7.5)\n",
      "Requirement already satisfied: prompt-toolkit!=3.0.37,<3.1.0,>=3.0.30 in c:\\users\\techcraft-qdthang\\appdata\\local\\packages\\pythonsoftwarefoundation.python.3.11_qbz5n2kfra8p0\\localcache\\local-packages\\python311\\site-packages (from ipython>=6.1.0->ipywidgets->leafmap[maplibre]) (3.0.39)\n",
      "Requirement already satisfied: pygments>=2.4.0 in c:\\users\\techcraft-qdthang\\appdata\\local\\packages\\pythonsoftwarefoundation.python.3.11_qbz5n2kfra8p0\\localcache\\local-packages\\python311\\site-packages (from ipython>=6.1.0->ipywidgets->leafmap[maplibre]) (2.17.2)\n",
      "Requirement already satisfied: stack-data in c:\\users\\techcraft-qdthang\\appdata\\local\\packages\\pythonsoftwarefoundation.python.3.11_qbz5n2kfra8p0\\localcache\\local-packages\\python311\\site-packages (from ipython>=6.1.0->ipywidgets->leafmap[maplibre]) (0.6.3)\n",
      "Requirement already satisfied: colorama in c:\\users\\techcraft-qdthang\\appdata\\local\\packages\\pythonsoftwarefoundation.python.3.11_qbz5n2kfra8p0\\localcache\\local-packages\\python311\\site-packages (from ipython>=6.1.0->ipywidgets->leafmap[maplibre]) (0.4.4)\n",
      "Requirement already satisfied: wcwidth in c:\\users\\techcraft-qdthang\\appdata\\local\\packages\\pythonsoftwarefoundation.python.3.11_qbz5n2kfra8p0\\localcache\\local-packages\\python311\\site-packages (from prompt-toolkit!=3.0.37,<3.1.0,>=3.0.30->ipython>=6.1.0->ipywidgets->leafmap[maplibre]) (0.2.8)\n",
      "Requirement already satisfied: parso<0.9.0,>=0.8.3 in c:\\users\\techcraft-qdthang\\appdata\\local\\packages\\pythonsoftwarefoundation.python.3.11_qbz5n2kfra8p0\\localcache\\local-packages\\python311\\site-packages (from jedi>=0.16->ipython>=6.1.0->ipywidgets->leafmap[maplibre]) (0.8.3)\n",
      "Requirement already satisfied: traittypes>=0.0.6 in c:\\users\\techcraft-qdthang\\appdata\\local\\packages\\pythonsoftwarefoundation.python.3.11_qbz5n2kfra8p0\\localcache\\local-packages\\python311\\site-packages (from bqplot->leafmap[maplibre]) (0.2.1)\n",
      "Requirement already satisfied: python-dateutil>=2.8.2 in c:\\users\\techcraft-qdthang\\appdata\\local\\packages\\pythonsoftwarefoundation.python.3.11_qbz5n2kfra8p0\\localcache\\local-packages\\python311\\site-packages (from pandas->leafmap[maplibre]) (2.8.2)\n",
      "Requirement already satisfied: pytz>=2020.1 in c:\\users\\techcraft-qdthang\\appdata\\local\\packages\\pythonsoftwarefoundation.python.3.11_qbz5n2kfra8p0\\localcache\\local-packages\\python311\\site-packages (from pandas->leafmap[maplibre]) (2025.2)\n",
      "Requirement already satisfied: tzdata>=2022.1 in c:\\users\\techcraft-qdthang\\appdata\\local\\packages\\pythonsoftwarefoundation.python.3.11_qbz5n2kfra8p0\\localcache\\local-packages\\python311\\site-packages (from pandas->leafmap[maplibre]) (2023.3)\n",
      "Requirement already satisfied: six>=1.5 in c:\\users\\techcraft-qdthang\\appdata\\local\\packages\\pythonsoftwarefoundation.python.3.11_qbz5n2kfra8p0\\localcache\\local-packages\\python311\\site-packages (from python-dateutil>=2.8.2->pandas->leafmap[maplibre]) (1.16.0)\n",
      "Requirement already satisfied: attrs>=19.2.0 in c:\\users\\techcraft-qdthang\\appdata\\local\\packages\\pythonsoftwarefoundation.python.3.11_qbz5n2kfra8p0\\localcache\\local-packages\\python311\\site-packages (from fiona->leafmap[maplibre]) (24.3.0)\n",
      "Requirement already satisfied: certifi in c:\\users\\techcraft-qdthang\\appdata\\local\\packages\\pythonsoftwarefoundation.python.3.11_qbz5n2kfra8p0\\localcache\\local-packages\\python311\\site-packages (from fiona->leafmap[maplibre]) (2024.8.30)\n",
      "Requirement already satisfied: click~=8.0 in c:\\users\\techcraft-qdthang\\appdata\\local\\packages\\pythonsoftwarefoundation.python.3.11_qbz5n2kfra8p0\\localcache\\local-packages\\python311\\site-packages (from fiona->leafmap[maplibre]) (8.1.7)\n",
      "Requirement already satisfied: click-plugins>=1.0 in c:\\users\\techcraft-qdthang\\appdata\\local\\packages\\pythonsoftwarefoundation.python.3.11_qbz5n2kfra8p0\\localcache\\local-packages\\python311\\site-packages (from fiona->leafmap[maplibre]) (1.1.1)\n",
      "Requirement already satisfied: cligj>=0.5 in c:\\users\\techcraft-qdthang\\appdata\\local\\packages\\pythonsoftwarefoundation.python.3.11_qbz5n2kfra8p0\\localcache\\local-packages\\python311\\site-packages (from fiona->leafmap[maplibre]) (0.7.2)\n",
      "Requirement already satisfied: requests in c:\\users\\techcraft-qdthang\\appdata\\local\\packages\\pythonsoftwarefoundation.python.3.11_qbz5n2kfra8p0\\localcache\\local-packages\\python311\\site-packages (from folium->leafmap[maplibre]) (2.31.0)\n",
      "Requirement already satisfied: filelock in c:\\users\\techcraft-qdthang\\appdata\\local\\packages\\pythonsoftwarefoundation.python.3.11_qbz5n2kfra8p0\\localcache\\local-packages\\python311\\site-packages (from gdown->leafmap[maplibre]) (3.13.1)\n",
      "Requirement already satisfied: tqdm in c:\\users\\techcraft-qdthang\\appdata\\local\\packages\\pythonsoftwarefoundation.python.3.11_qbz5n2kfra8p0\\localcache\\local-packages\\python311\\site-packages (from gdown->leafmap[maplibre]) (4.66.2)\n",
      "Requirement already satisfied: beautifulsoup4 in c:\\users\\techcraft-qdthang\\appdata\\local\\packages\\pythonsoftwarefoundation.python.3.11_qbz5n2kfra8p0\\localcache\\local-packages\\python311\\site-packages (from gdown->leafmap[maplibre]) (4.12.2)\n",
      "Requirement already satisfied: soupsieve>1.2 in c:\\users\\techcraft-qdthang\\appdata\\local\\packages\\pythonsoftwarefoundation.python.3.11_qbz5n2kfra8p0\\localcache\\local-packages\\python311\\site-packages (from beautifulsoup4->gdown->leafmap[maplibre]) (2.5)\n",
      "Requirement already satisfied: packaging in c:\\users\\techcraft-qdthang\\appdata\\local\\packages\\pythonsoftwarefoundation.python.3.11_qbz5n2kfra8p0\\localcache\\local-packages\\python311\\site-packages (from geopandas->leafmap[maplibre]) (24.0)\n",
      "Requirement already satisfied: pyproj>=3.3.0 in c:\\users\\techcraft-qdthang\\appdata\\local\\packages\\pythonsoftwarefoundation.python.3.11_qbz5n2kfra8p0\\localcache\\local-packages\\python311\\site-packages (from geopandas->leafmap[maplibre]) (3.6.1)\n",
      "Requirement already satisfied: shapely>=1.8.0 in c:\\users\\techcraft-qdthang\\appdata\\local\\packages\\pythonsoftwarefoundation.python.3.11_qbz5n2kfra8p0\\localcache\\local-packages\\python311\\site-packages (from geopandas->leafmap[maplibre]) (2.0.4)\n",
      "Requirement already satisfied: ipyvue<2,>=1.7 in c:\\users\\techcraft-qdthang\\appdata\\local\\packages\\pythonsoftwarefoundation.python.3.11_qbz5n2kfra8p0\\localcache\\local-packages\\python311\\site-packages (from ipyvuetify->leafmap[maplibre]) (1.11.2)\n",
      "Requirement already satisfied: flask<4,>=2.0.0 in c:\\users\\techcraft-qdthang\\appdata\\local\\packages\\pythonsoftwarefoundation.python.3.11_qbz5n2kfra8p0\\localcache\\local-packages\\python311\\site-packages (from localtileserver->leafmap[maplibre]) (3.0.3)\n",
      "Requirement already satisfied: Flask-Caching in c:\\users\\techcraft-qdthang\\appdata\\local\\packages\\pythonsoftwarefoundation.python.3.11_qbz5n2kfra8p0\\localcache\\local-packages\\python311\\site-packages (from localtileserver->leafmap[maplibre]) (2.3.1)\n",
      "Requirement already satisfied: flask-cors in c:\\users\\techcraft-qdthang\\appdata\\local\\packages\\pythonsoftwarefoundation.python.3.11_qbz5n2kfra8p0\\localcache\\local-packages\\python311\\site-packages (from localtileserver->leafmap[maplibre]) (5.0.0)\n",
      "Requirement already satisfied: flask-restx>=1.3.0 in c:\\users\\techcraft-qdthang\\appdata\\local\\packages\\pythonsoftwarefoundation.python.3.11_qbz5n2kfra8p0\\localcache\\local-packages\\python311\\site-packages (from localtileserver->leafmap[maplibre]) (1.3.0)\n",
      "Requirement already satisfied: rio-tiler in c:\\users\\techcraft-qdthang\\appdata\\local\\packages\\pythonsoftwarefoundation.python.3.11_qbz5n2kfra8p0\\localcache\\local-packages\\python311\\site-packages (from localtileserver->leafmap[maplibre]) (7.8.0)\n",
      "Requirement already satisfied: rio-cogeo in c:\\users\\techcraft-qdthang\\appdata\\local\\packages\\pythonsoftwarefoundation.python.3.11_qbz5n2kfra8p0\\localcache\\local-packages\\python311\\site-packages (from localtileserver->leafmap[maplibre]) (5.4.1)\n",
      "Requirement already satisfied: server-thread in c:\\users\\techcraft-qdthang\\appdata\\local\\packages\\pythonsoftwarefoundation.python.3.11_qbz5n2kfra8p0\\localcache\\local-packages\\python311\\site-packages (from localtileserver->leafmap[maplibre]) (0.3.0)\n",
      "Requirement already satisfied: werkzeug in c:\\users\\techcraft-qdthang\\appdata\\local\\packages\\pythonsoftwarefoundation.python.3.11_qbz5n2kfra8p0\\localcache\\local-packages\\python311\\site-packages (from localtileserver->leafmap[maplibre]) (3.0.1)\n",
      "Requirement already satisfied: itsdangerous>=2.1.2 in c:\\users\\techcraft-qdthang\\appdata\\local\\packages\\pythonsoftwarefoundation.python.3.11_qbz5n2kfra8p0\\localcache\\local-packages\\python311\\site-packages (from flask<4,>=2.0.0->localtileserver->leafmap[maplibre]) (2.1.2)\n",
      "Requirement already satisfied: blinker>=1.6.2 in c:\\users\\techcraft-qdthang\\appdata\\local\\packages\\pythonsoftwarefoundation.python.3.11_qbz5n2kfra8p0\\localcache\\local-packages\\python311\\site-packages (from flask<4,>=2.0.0->localtileserver->leafmap[maplibre]) (1.6.3)\n",
      "Requirement already satisfied: aniso8601>=0.82 in c:\\users\\techcraft-qdthang\\appdata\\local\\packages\\pythonsoftwarefoundation.python.3.11_qbz5n2kfra8p0\\localcache\\local-packages\\python311\\site-packages (from flask-restx>=1.3.0->localtileserver->leafmap[maplibre]) (10.0.1)\n",
      "Requirement already satisfied: jsonschema in c:\\users\\techcraft-qdthang\\appdata\\local\\packages\\pythonsoftwarefoundation.python.3.11_qbz5n2kfra8p0\\localcache\\local-packages\\python311\\site-packages (from flask-restx>=1.3.0->localtileserver->leafmap[maplibre]) (4.19.1)\n",
      "Requirement already satisfied: importlib-resources in c:\\users\\techcraft-qdthang\\appdata\\local\\packages\\pythonsoftwarefoundation.python.3.11_qbz5n2kfra8p0\\localcache\\local-packages\\python311\\site-packages (from flask-restx>=1.3.0->localtileserver->leafmap[maplibre]) (5.13.0)\n",
      "Requirement already satisfied: cachelib>=0.9.0 in c:\\users\\techcraft-qdthang\\appdata\\local\\packages\\pythonsoftwarefoundation.python.3.11_qbz5n2kfra8p0\\localcache\\local-packages\\python311\\site-packages (from Flask-Caching->localtileserver->leafmap[maplibre]) (0.13.0)\n",
      "Requirement already satisfied: jsonschema-specifications>=2023.03.6 in c:\\users\\techcraft-qdthang\\appdata\\local\\packages\\pythonsoftwarefoundation.python.3.11_qbz5n2kfra8p0\\localcache\\local-packages\\python311\\site-packages (from jsonschema->flask-restx>=1.3.0->localtileserver->leafmap[maplibre]) (2023.7.1)\n",
      "Requirement already satisfied: referencing>=0.28.4 in c:\\users\\techcraft-qdthang\\appdata\\local\\packages\\pythonsoftwarefoundation.python.3.11_qbz5n2kfra8p0\\localcache\\local-packages\\python311\\site-packages (from jsonschema->flask-restx>=1.3.0->localtileserver->leafmap[maplibre]) (0.30.2)\n",
      "Requirement already satisfied: rpds-py>=0.7.1 in c:\\users\\techcraft-qdthang\\appdata\\local\\packages\\pythonsoftwarefoundation.python.3.11_qbz5n2kfra8p0\\localcache\\local-packages\\python311\\site-packages (from jsonschema->flask-restx>=1.3.0->localtileserver->leafmap[maplibre]) (0.10.4)\n",
      "Requirement already satisfied: networkx>=2.7 in c:\\users\\techcraft-qdthang\\appdata\\local\\packages\\pythonsoftwarefoundation.python.3.11_qbz5n2kfra8p0\\localcache\\local-packages\\python311\\site-packages (from mapclassify->leafmap[maplibre]) (3.4.2)\n",
      "Requirement already satisfied: scikit-learn>=1.0 in c:\\users\\techcraft-qdthang\\appdata\\local\\packages\\pythonsoftwarefoundation.python.3.11_qbz5n2kfra8p0\\localcache\\local-packages\\python311\\site-packages (from mapclassify->leafmap[maplibre]) (1.5.2)\n",
      "Requirement already satisfied: scipy>=1.8 in c:\\users\\techcraft-qdthang\\appdata\\local\\packages\\pythonsoftwarefoundation.python.3.11_qbz5n2kfra8p0\\localcache\\local-packages\\python311\\site-packages (from mapclassify->leafmap[maplibre]) (1.12.0)\n",
      "Requirement already satisfied: joblib>=1.2.0 in c:\\users\\techcraft-qdthang\\appdata\\local\\packages\\pythonsoftwarefoundation.python.3.11_qbz5n2kfra8p0\\localcache\\local-packages\\python311\\site-packages (from scikit-learn>=1.0->mapclassify->leafmap[maplibre]) (1.3.2)\n",
      "Requirement already satisfied: threadpoolctl>=3.1.0 in c:\\users\\techcraft-qdthang\\appdata\\local\\packages\\pythonsoftwarefoundation.python.3.11_qbz5n2kfra8p0\\localcache\\local-packages\\python311\\site-packages (from scikit-learn>=1.0->mapclassify->leafmap[maplibre]) (3.2.0)\n",
      "Requirement already satisfied: contourpy>=1.0.1 in c:\\users\\techcraft-qdthang\\appdata\\local\\packages\\pythonsoftwarefoundation.python.3.11_qbz5n2kfra8p0\\localcache\\local-packages\\python311\\site-packages (from matplotlib->leafmap[maplibre]) (1.3.0)\n",
      "Requirement already satisfied: cycler>=0.10 in c:\\users\\techcraft-qdthang\\appdata\\local\\packages\\pythonsoftwarefoundation.python.3.11_qbz5n2kfra8p0\\localcache\\local-packages\\python311\\site-packages (from matplotlib->leafmap[maplibre]) (0.11.0)\n",
      "Requirement already satisfied: fonttools>=4.22.0 in c:\\users\\techcraft-qdthang\\appdata\\local\\packages\\pythonsoftwarefoundation.python.3.11_qbz5n2kfra8p0\\localcache\\local-packages\\python311\\site-packages (from matplotlib->leafmap[maplibre]) (4.48.1)\n",
      "Requirement already satisfied: kiwisolver>=1.3.1 in c:\\users\\techcraft-qdthang\\appdata\\local\\packages\\pythonsoftwarefoundation.python.3.11_qbz5n2kfra8p0\\localcache\\local-packages\\python311\\site-packages (from matplotlib->leafmap[maplibre]) (1.4.7)\n",
      "Requirement already satisfied: pillow>=8 in c:\\users\\techcraft-qdthang\\appdata\\local\\packages\\pythonsoftwarefoundation.python.3.11_qbz5n2kfra8p0\\localcache\\local-packages\\python311\\site-packages (from matplotlib->leafmap[maplibre]) (10.4.0)\n",
      "Requirement already satisfied: pyparsing>=2.3.1 in c:\\users\\techcraft-qdthang\\appdata\\local\\packages\\pythonsoftwarefoundation.python.3.11_qbz5n2kfra8p0\\localcache\\local-packages\\python311\\site-packages (from matplotlib->leafmap[maplibre]) (3.0.7)\n",
      "Requirement already satisfied: pooch>=1.7 in c:\\users\\techcraft-qdthang\\appdata\\local\\packages\\pythonsoftwarefoundation.python.3.11_qbz5n2kfra8p0\\localcache\\local-packages\\python311\\site-packages (from opera-utils->leafmap[maplibre]) (1.8.1)\n",
      "Requirement already satisfied: tyro>=0.9 in c:\\users\\techcraft-qdthang\\appdata\\local\\packages\\pythonsoftwarefoundation.python.3.11_qbz5n2kfra8p0\\localcache\\local-packages\\python311\\site-packages (from opera-utils->leafmap[maplibre]) (0.9.24)\n",
      "Requirement already satisfied: platformdirs>=2.5.0 in c:\\users\\techcraft-qdthang\\appdata\\local\\packages\\pythonsoftwarefoundation.python.3.11_qbz5n2kfra8p0\\localcache\\local-packages\\python311\\site-packages (from pooch>=1.7->opera-utils->leafmap[maplibre]) (3.11.0)\n",
      "Requirement already satisfied: charset-normalizer<4,>=2 in c:\\users\\techcraft-qdthang\\appdata\\local\\packages\\pythonsoftwarefoundation.python.3.11_qbz5n2kfra8p0\\localcache\\local-packages\\python311\\site-packages (from requests->folium->leafmap[maplibre]) (3.3.0)\n",
      "Requirement already satisfied: idna<4,>=2.5 in c:\\users\\techcraft-qdthang\\appdata\\local\\packages\\pythonsoftwarefoundation.python.3.11_qbz5n2kfra8p0\\localcache\\local-packages\\python311\\site-packages (from requests->folium->leafmap[maplibre]) (2.10)\n",
      "Requirement already satisfied: urllib3<3,>=1.21.1 in c:\\users\\techcraft-qdthang\\appdata\\local\\packages\\pythonsoftwarefoundation.python.3.11_qbz5n2kfra8p0\\localcache\\local-packages\\python311\\site-packages (from requests->folium->leafmap[maplibre]) (2.2.3)\n",
      "Requirement already satisfied: docstring-parser>=0.15 in c:\\users\\techcraft-qdthang\\appdata\\local\\packages\\pythonsoftwarefoundation.python.3.11_qbz5n2kfra8p0\\localcache\\local-packages\\python311\\site-packages (from tyro>=0.9->opera-utils->leafmap[maplibre]) (0.16)\n",
      "Requirement already satisfied: rich>=11.1.0 in c:\\users\\techcraft-qdthang\\appdata\\local\\packages\\pythonsoftwarefoundation.python.3.11_qbz5n2kfra8p0\\localcache\\local-packages\\python311\\site-packages (from tyro>=0.9->opera-utils->leafmap[maplibre]) (13.6.0)\n",
      "Requirement already satisfied: shtab>=1.5.6 in c:\\users\\techcraft-qdthang\\appdata\\local\\packages\\pythonsoftwarefoundation.python.3.11_qbz5n2kfra8p0\\localcache\\local-packages\\python311\\site-packages (from tyro>=0.9->opera-utils->leafmap[maplibre]) (1.7.1)\n",
      "Requirement already satisfied: typeguard>=4.0.0 in c:\\users\\techcraft-qdthang\\appdata\\local\\packages\\pythonsoftwarefoundation.python.3.11_qbz5n2kfra8p0\\localcache\\local-packages\\python311\\site-packages (from tyro>=0.9->opera-utils->leafmap[maplibre]) (4.2.1)\n",
      "Requirement already satisfied: markdown-it-py>=2.2.0 in c:\\users\\techcraft-qdthang\\appdata\\local\\packages\\pythonsoftwarefoundation.python.3.11_qbz5n2kfra8p0\\localcache\\local-packages\\python311\\site-packages (from rich>=11.1.0->tyro>=0.9->opera-utils->leafmap[maplibre]) (3.0.0)\n",
      "Requirement already satisfied: mdurl~=0.1 in c:\\users\\techcraft-qdthang\\appdata\\local\\packages\\pythonsoftwarefoundation.python.3.11_qbz5n2kfra8p0\\localcache\\local-packages\\python311\\site-packages (from markdown-it-py>=2.2.0->rich>=11.1.0->tyro>=0.9->opera-utils->leafmap[maplibre]) (0.1.2)\n",
      "Requirement already satisfied: tenacity>=6.2.0 in c:\\users\\techcraft-qdthang\\appdata\\local\\packages\\pythonsoftwarefoundation.python.3.11_qbz5n2kfra8p0\\localcache\\local-packages\\python311\\site-packages (from plotly->leafmap[maplibre]) (8.2.3)\n",
      "Requirement already satisfied: pystac>=1.8.2 in c:\\users\\techcraft-qdthang\\appdata\\local\\packages\\pythonsoftwarefoundation.python.3.11_qbz5n2kfra8p0\\localcache\\local-packages\\python311\\site-packages (from pystac[validation]>=1.8.2->pystac-client->leafmap[maplibre]) (1.9.0)\n",
      "Requirement already satisfied: PySocks!=1.5.7,>=1.5.6 in c:\\users\\techcraft-qdthang\\appdata\\local\\packages\\pythonsoftwarefoundation.python.3.11_qbz5n2kfra8p0\\localcache\\local-packages\\python311\\site-packages (from requests[socks]->gdown->leafmap[maplibre]) (1.7.1)\n",
      "Requirement already satisfied: rasterio>=1.3.3 in c:\\users\\techcraft-qdthang\\appdata\\local\\packages\\pythonsoftwarefoundation.python.3.11_qbz5n2kfra8p0\\localcache\\local-packages\\python311\\site-packages (from rio-cogeo->localtileserver->leafmap[maplibre]) (1.4.3)\n",
      "Requirement already satisfied: morecantile<7.0,>=5.0 in c:\\users\\techcraft-qdthang\\appdata\\local\\packages\\pythonsoftwarefoundation.python.3.11_qbz5n2kfra8p0\\localcache\\local-packages\\python311\\site-packages (from rio-cogeo->localtileserver->leafmap[maplibre]) (6.2.0)\n",
      "Requirement already satisfied: affine in c:\\users\\techcraft-qdthang\\appdata\\local\\packages\\pythonsoftwarefoundation.python.3.11_qbz5n2kfra8p0\\localcache\\local-packages\\python311\\site-packages (from rasterio>=1.3.3->rio-cogeo->localtileserver->leafmap[maplibre]) (2.3.1)\n",
      "Requirement already satisfied: cachetools in c:\\users\\techcraft-qdthang\\appdata\\local\\packages\\pythonsoftwarefoundation.python.3.11_qbz5n2kfra8p0\\localcache\\local-packages\\python311\\site-packages (from rio-tiler->localtileserver->leafmap[maplibre]) (5.3.1)\n",
      "Requirement already satisfied: color-operations in c:\\users\\techcraft-qdthang\\appdata\\local\\packages\\pythonsoftwarefoundation.python.3.11_qbz5n2kfra8p0\\localcache\\local-packages\\python311\\site-packages (from rio-tiler->localtileserver->leafmap[maplibre]) (0.2.0)\n",
      "Requirement already satisfied: httpx in c:\\users\\techcraft-qdthang\\appdata\\local\\packages\\pythonsoftwarefoundation.python.3.11_qbz5n2kfra8p0\\localcache\\local-packages\\python311\\site-packages (from rio-tiler->localtileserver->leafmap[maplibre]) (0.27.0)\n",
      "Requirement already satisfied: numexpr in c:\\users\\techcraft-qdthang\\appdata\\local\\packages\\pythonsoftwarefoundation.python.3.11_qbz5n2kfra8p0\\localcache\\local-packages\\python311\\site-packages (from rio-tiler->localtileserver->leafmap[maplibre]) (2.10.2)\n",
      "Requirement already satisfied: anyio in c:\\users\\techcraft-qdthang\\appdata\\local\\packages\\pythonsoftwarefoundation.python.3.11_qbz5n2kfra8p0\\localcache\\local-packages\\python311\\site-packages (from httpx->rio-tiler->localtileserver->leafmap[maplibre]) (4.9.0)\n",
      "Requirement already satisfied: httpcore==1.* in c:\\users\\techcraft-qdthang\\appdata\\local\\packages\\pythonsoftwarefoundation.python.3.11_qbz5n2kfra8p0\\localcache\\local-packages\\python311\\site-packages (from httpx->rio-tiler->localtileserver->leafmap[maplibre]) (1.0.4)\n",
      "Requirement already satisfied: sniffio in c:\\users\\techcraft-qdthang\\appdata\\local\\packages\\pythonsoftwarefoundation.python.3.11_qbz5n2kfra8p0\\localcache\\local-packages\\python311\\site-packages (from httpx->rio-tiler->localtileserver->leafmap[maplibre]) (1.3.0)\n",
      "Requirement already satisfied: h11<0.15,>=0.13 in c:\\users\\techcraft-qdthang\\appdata\\local\\packages\\pythonsoftwarefoundation.python.3.11_qbz5n2kfra8p0\\localcache\\local-packages\\python311\\site-packages (from httpcore==1.*->httpx->rio-tiler->localtileserver->leafmap[maplibre]) (0.14.0)\n",
      "Requirement already satisfied: uvicorn in c:\\users\\techcraft-qdthang\\appdata\\local\\packages\\pythonsoftwarefoundation.python.3.11_qbz5n2kfra8p0\\localcache\\local-packages\\python311\\site-packages (from server-thread->localtileserver->leafmap[maplibre]) (0.31.0)\n",
      "Requirement already satisfied: executing>=1.2.0 in c:\\users\\techcraft-qdthang\\appdata\\local\\packages\\pythonsoftwarefoundation.python.3.11_qbz5n2kfra8p0\\localcache\\local-packages\\python311\\site-packages (from stack-data->ipython>=6.1.0->ipywidgets->leafmap[maplibre]) (2.0.0)\n",
      "Requirement already satisfied: asttokens>=2.1.0 in c:\\users\\techcraft-qdthang\\appdata\\local\\packages\\pythonsoftwarefoundation.python.3.11_qbz5n2kfra8p0\\localcache\\local-packages\\python311\\site-packages (from stack-data->ipython>=6.1.0->ipywidgets->leafmap[maplibre]) (2.4.0)\n",
      "Requirement already satisfied: pure-eval in c:\\users\\techcraft-qdthang\\appdata\\local\\packages\\pythonsoftwarefoundation.python.3.11_qbz5n2kfra8p0\\localcache\\local-packages\\python311\\site-packages (from stack-data->ipython>=6.1.0->ipywidgets->leafmap[maplibre]) (0.2.2)\n",
      "Requirement already satisfied: ipytree in c:\\users\\techcraft-qdthang\\appdata\\local\\packages\\pythonsoftwarefoundation.python.3.11_qbz5n2kfra8p0\\localcache\\local-packages\\python311\\site-packages (from whiteboxgui->leafmap[maplibre]) (0.2.2)\n",
      "Requirement already satisfied: whitebox in c:\\users\\techcraft-qdthang\\appdata\\local\\packages\\pythonsoftwarefoundation.python.3.11_qbz5n2kfra8p0\\localcache\\local-packages\\python311\\site-packages (from whiteboxgui->leafmap[maplibre]) (2.3.1)\n",
      "Note: you may need to restart the kernel to use updated packages.\n"
     ]
    }
   ],
   "source": [
    "%pip install \"leafmap[maplibre]\""
   ]
  },
  {
   "cell_type": "markdown",
   "id": "a110e30e",
   "metadata": {},
   "source": [
    "Initialize the map and visualize H3 GeoJSON         "
   ]
  },
  {
   "cell_type": "code",
   "execution_count": 40,
   "id": "948d6e1a",
   "metadata": {},
   "outputs": [
    {
     "data": {
      "application/vnd.jupyter.widget-view+json": {
       "model_id": "c996f445b7964da08b10a71dfb9ca071",
       "version_major": 2,
       "version_minor": 0
      },
      "text/plain": [
       "Container(children=[Row(children=[Col(children=[Map(calls=[['addControl', ('NavigationControl', {'showCompass'…"
      ]
     },
     "metadata": {},
     "output_type": "display_data"
    }
   ],
   "source": [
    "import leafmap.maplibregl as leafmap\n",
    "\n",
    "m = leafmap.Map(style=\"positron\")\n",
    "m.add_geojson(\n",
    "    h3_geojson,\n",
    "    layer_type=\"fill\",\n",
    "    name=\"H3\",\n",
    "    paint={\"fill-color\": \"darkred\", \"fill-opacity\": 0.8},\n",
    ")\n",
    "m"
   ]
  }
 ],
 "metadata": {
  "kernelspec": {
   "display_name": "Python 3",
   "language": "python",
   "name": "python3"
  },
  "language_info": {
   "codemirror_mode": {
    "name": "ipython",
    "version": 3
   },
   "file_extension": ".py",
   "mimetype": "text/x-python",
   "name": "python",
   "nbconvert_exporter": "python",
   "pygments_lexer": "ipython3",
   "version": "3.11.9"
  }
 },
 "nbformat": 4,
 "nbformat_minor": 5
}
