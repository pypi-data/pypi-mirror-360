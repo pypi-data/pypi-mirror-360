{
 "cells": [
  {
   "cell_type": "markdown",
   "id": "31b03bdf",
   "metadata": {},
   "source": [
    "# Vgrid Tutorial\n",
    "\n",
    "This tutorial demonstrates the main features and functionality of the `vgrid` package, a comprehensive toolkit for working with Discrete Global Grid Systems (DGGS) and cell-based geocoding.\n",
    "\n",
    "## Installation\n",
    "\n",
    "First, let's install the package:"
   ]
  },
  {
   "cell_type": "code",
   "execution_count": 11,
   "id": "447c9607",
   "metadata": {},
   "outputs": [
    {
     "name": "stdout",
     "output_type": "stream",
     "text": [
      "Note: you may need to restart the kernel to use updated packages.\n"
     ]
    },
    {
     "name": "stderr",
     "output_type": "stream",
     "text": [
      "d:\\Github\\vgrid\\.venv\\Scripts\\python.exe: No module named pip\n"
     ]
    }
   ],
   "source": [
    "pip install vgrid --upgrade"
   ]
  },
  {
   "cell_type": "markdown",
   "id": "80cea1e0",
   "metadata": {},
   "source": [
    "---\n",
    "\n",
    "## 1. DGGS Conversion\n",
    "\n",
    "### 1.1 Converting Latitude/Longitude to DGGS\n",
    "\n",
    "Let's start with converting coordinates to different DGGS formats:"
   ]
  },
  {
   "cell_type": "code",
   "execution_count": 17,
   "id": "d87176d6",
   "metadata": {},
   "outputs": [
    {
     "name": "stdout",
     "output_type": "stream",
     "text": [
      "H3 cell: 8d65b56628e46bf\n",
      "S2 cell: 31752f45cc94\n",
      "rHEALPix cell: R31260362553552\n"
     ]
    }
   ],
   "source": [
    "from vgrid.conversion.latlon2dggs import latlon2h3, latlon2s2, latlon2rhealpix\n",
    "\n",
    "# Example coordinates (Ho Chi Minh City)\n",
    "lat, lon = 10.775276, 106.706797\n",
    "\n",
    "# Convert to H3\n",
    "h3_cell = latlon2h3(lat, lon, 13)\n",
    "print(f\"H3 cell: {h3_cell}\")\n",
    "\n",
    "# Convert to S2\n",
    "s2_cell = latlon2s2(lat, lon, 21)\n",
    "print(f\"S2 cell: {s2_cell}\")\n",
    "\n",
    "# Convert to rHEALPix\n",
    "rhealpix_cell = latlon2rhealpix(lat, lon, 14)\n",
    "print(f\"rHEALPix cell: {rhealpix_cell}\")"
   ]
  },
  {
   "cell_type": "markdown",
   "id": "fb967f59",
   "metadata": {},
   "source": [
    "---\n",
    "\n",
    "### 1.2 Converting DGGS to GeoJSON\n",
    "\n",
    "Let's convert DGGS cells to GeoJSON format for visualization:"
   ]
  },
  {
   "cell_type": "code",
   "execution_count": 18,
   "id": "07cdbc0f",
   "metadata": {},
   "outputs": [
    {
     "name": "stdout",
     "output_type": "stream",
     "text": [
      "H3 GeoJSON:\n",
      "{\"type\": \"FeatureCollection\", \"features\": [{\"type\": \"Feature\", \"geometry\": {\"type\": \"Polygon\", \"coordinates\": [[[106.70685294676993, 10.775282577331044], [106.70684396753691, 10.775321497336487], [106.70680574541893, 10.77533326670508], [106.7067765025362, 10.775306116058893], [106.70678548178074, 10.775267196047302], [106.70682370389648, 10.775255426688052], [106.70685294676993, 10.775282577331044]]]}, \"properties\": {\"h3\": \"8d65b56628e46bf\", \"resolution\": 13, \"center_lat\": 10.7752943, \"center_lon\": 106.7068147, \"avg_edge_len\": 4.394, \"cell_area\": 50.154}}]}\n",
      "\n",
      "S2 GeoJSON:\n",
      "{\"type\": \"FeatureCollection\", \"features\": [{\"type\": \"Feature\", \"geometry\": {\"type\": \"Polygon\", \"coordinates\": [[[106.70678675163612, 10.77525494295967], [106.70683281935317, 10.775252403494054], [106.70683281935317, 10.775294941745283], [106.70678675163612, 10.775297481220445], [106.70678675163612, 10.77525494295967]]]}, \"properties\": {\"s2\": \"31752f45cc94\", \"resolution\": 21, \"center_lat\": 10.7752749, \"center_lon\": 106.7068098, \"avg_edge_len\": 4.876, \"cell_area\": 23.707}}]}\n"
     ]
    }
   ],
   "source": [
    "from vgrid.conversion.dggs2geojson import h32geojson, s22geojson\n",
    "import json\n",
    "\n",
    "# Convert H3 cell to GeoJSON\n",
    "h3_geojson = h32geojson(h3_cell)\n",
    "print(\"H3 GeoJSON:\")\n",
    "print(json.dumps(h3_geojson))\n",
    "\n",
    "# Convert S2 cell to GeoJSON\n",
    "s2_geojson = s22geojson(s2_cell)\n",
    "print(\"\\nS2 GeoJSON:\")\n",
    "print(json.dumps(s2_geojson))"
   ]
  },
  {
   "cell_type": "markdown",
   "id": "d3ab64a0",
   "metadata": {},
   "source": [
    "---\n",
    "\n",
    "### 1.3 Vector to DGGS Conversion\n",
    "\n",
    "Let's convert a polygon to DGGS cells:"
   ]
  },
  {
   "cell_type": "markdown",
   "id": "743fce52",
   "metadata": {},
   "source": [
    "---\n",
    "\n",
    "## 2. DGGS Operations\n",
    "\n",
    "### 2.1 DGGS Compaction\n",
    "\n",
    "Let's demonstrate how to compact DGGS cells:"
   ]
  },
  {
   "cell_type": "code",
   "execution_count": 14,
   "id": "5b84ad6a",
   "metadata": {},
   "outputs": [],
   "source": [
    "# from vgrid.conversion.dggscompact import h3compact\n",
    "\n",
    "# # Compact H3 cells\n",
    "# compacted_cells = h3compact(h3_cells)\n",
    "# print(f\"Number of cells before compaction: {len(h3_cells)}\")\n",
    "# print(f\"Number of cells after compaction: {len(compacted_cells)}\")"
   ]
  },
  {
   "cell_type": "markdown",
   "id": "e55d2895",
   "metadata": {},
   "source": [
    "---\n",
    "\n",
    "### 2.2 DGGS Expansion\n",
    "\n",
    "Let's demonstrate how to expand DGGS cells to a higher resolution:"
   ]
  },
  {
   "cell_type": "code",
   "execution_count": 15,
   "id": "74556b77",
   "metadata": {},
   "outputs": [],
   "source": [
    "# from vgrid.conversion.dggscompact import h3expand\n",
    "\n",
    "# # Expand H3 cells to a higher resolution\n",
    "# expanded_cells = h3expand(h3_cells, resolution=12)\n",
    "# print(f\"Number of cells before expansion: {len(h3_cells)}\")\n",
    "# print(f\"Number of cells after expansion: {len(expanded_cells)}\")"
   ]
  },
  {
   "cell_type": "markdown",
   "id": "e6f18d71",
   "metadata": {},
   "source": [
    "---\n",
    "\n",
    "## 3. DGGS Binning\n",
    "\n",
    "Let's demonstrate how to bin points into DGGS cells:"
   ]
  },
  {
   "cell_type": "code",
   "execution_count": 19,
   "id": "aab1a3b7",
   "metadata": {},
   "outputs": [
    {
     "ename": "TypeError",
     "evalue": "'module' object is not callable",
     "output_type": "error",
     "traceback": [
      "\u001b[31m---------------------------------------------------------------------------\u001b[39m",
      "\u001b[31mTypeError\u001b[39m                                 Traceback (most recent call last)",
      "\u001b[36mCell\u001b[39m\u001b[36m \u001b[39m\u001b[32mIn[19]\u001b[39m\u001b[32m, line 27\u001b[39m\n\u001b[32m     11\u001b[39m points_geojson = {\n\u001b[32m     12\u001b[39m     \u001b[33m\"\u001b[39m\u001b[33mtype\u001b[39m\u001b[33m\"\u001b[39m: \u001b[33m\"\u001b[39m\u001b[33mFeatureCollection\u001b[39m\u001b[33m\"\u001b[39m,\n\u001b[32m     13\u001b[39m     \u001b[33m\"\u001b[39m\u001b[33mfeatures\u001b[39m\u001b[33m\"\u001b[39m: [\n\u001b[32m   (...)\u001b[39m\u001b[32m     23\u001b[39m     ],\n\u001b[32m     24\u001b[39m }\n\u001b[32m     26\u001b[39m \u001b[38;5;66;03m# Bin points into H3 cells\u001b[39;00m\n\u001b[32m---> \u001b[39m\u001b[32m27\u001b[39m binned_cells = \u001b[43mh3bin\u001b[49m\u001b[43m(\u001b[49m\u001b[43mpoints_geojson\u001b[49m\u001b[43m,\u001b[49m\u001b[43m \u001b[49m\u001b[43mresolution\u001b[49m\u001b[43m=\u001b[49m\u001b[32;43m8\u001b[39;49m\u001b[43m,\u001b[49m\u001b[43m \u001b[49m\u001b[43mstats\u001b[49m\u001b[43m=\u001b[49m\u001b[33;43m\"\u001b[39;49m\u001b[33;43mcount\u001b[39;49m\u001b[33;43m\"\u001b[39;49m\u001b[43m,\u001b[49m\u001b[43m \u001b[49m\u001b[43mfield\u001b[49m\u001b[43m=\u001b[49m\u001b[33;43m\"\u001b[39;49m\u001b[33;43mvalue\u001b[39;49m\u001b[33;43m\"\u001b[39;49m\u001b[43m)\u001b[49m\n\u001b[32m     28\u001b[39m \u001b[38;5;28mprint\u001b[39m(\u001b[33m\"\u001b[39m\u001b[33mBinned cells:\u001b[39m\u001b[33m\"\u001b[39m)\n\u001b[32m     29\u001b[39m \u001b[38;5;28mprint\u001b[39m(json.dumps(binned_cells, indent=\u001b[32m2\u001b[39m))\n",
      "\u001b[31mTypeError\u001b[39m: 'module' object is not callable"
     ]
    }
   ],
   "source": [
    "# from vgrid.binning import h3bin\n",
    "# import pandas as pd\n",
    "# import json\n",
    "\n",
    "# # Create sample points\n",
    "# points = pd.DataFrame(\n",
    "#     {\"lat\": [10.7, 10.75, 10.8], \"lon\": [106.7, 106.75, 106.8], \"value\": [1, 2, 3]}\n",
    "# )\n",
    "\n",
    "# # Convert to GeoJSON\n",
    "# points_geojson = {\n",
    "#     \"type\": \"FeatureCollection\",\n",
    "#     \"features\": [\n",
    "#         {\n",
    "#             \"type\": \"Feature\",\n",
    "#             \"geometry\": {\n",
    "#                 \"type\": \"Point\",\n",
    "#                 \"coordinates\": [row[\"lon\"], row[\"lat\"]],\n",
    "#             },\n",
    "#             \"properties\": {\"value\": row[\"value\"]},\n",
    "#         }\n",
    "#         for _, row in points.iterrows()\n",
    "#     ],\n",
    "# }\n",
    "\n",
    "# # Bin points into H3 cells\n",
    "# binned_cells = h3bin(points_geojson, resolution=8, stats=\"count\", field=\"value\")\n",
    "# print(\"Binned cells:\")\n",
    "# print(json.dumps(binned_cells, indent=2))"
   ]
  },
  {
   "cell_type": "markdown",
   "id": "f204c9b0",
   "metadata": {},
   "source": [
    "---\n",
    "\n",
    "## 4. DGGS Resampling\n",
    "\n",
    "Let's demonstrate how to resample between different DGGS types:"
   ]
  },
  {
   "cell_type": "markdown",
   "id": "eaad117a",
   "metadata": {},
   "source": [
    "---\n",
    "\n",
    "## 5. Visualization\n",
    "\n",
    "Let's visualize some of our DGGS cells using folium:"
   ]
  },
  {
   "cell_type": "code",
   "execution_count": 3,
   "id": "51a3ab77",
   "metadata": {},
   "outputs": [
    {
     "ename": "ModuleNotFoundError",
     "evalue": "No module named 'folium'",
     "output_type": "error",
     "traceback": [
      "\u001b[31m---------------------------------------------------------------------------\u001b[39m",
      "\u001b[31mModuleNotFoundError\u001b[39m                       Traceback (most recent call last)",
      "\u001b[36mCell\u001b[39m\u001b[36m \u001b[39m\u001b[32mIn[3]\u001b[39m\u001b[32m, line 1\u001b[39m\n\u001b[32m----> \u001b[39m\u001b[32m1\u001b[39m \u001b[38;5;28;01mimport\u001b[39;00m\u001b[38;5;250m \u001b[39m\u001b[34;01mfolium\u001b[39;00m\n\u001b[32m      2\u001b[39m \u001b[38;5;28;01mfrom\u001b[39;00m\u001b[38;5;250m \u001b[39m\u001b[34;01mvgrid\u001b[39;00m\u001b[34;01m.\u001b[39;00m\u001b[34;01mconversion\u001b[39;00m\u001b[34;01m.\u001b[39;00m\u001b[34;01mlatlon2dggs\u001b[39;00m\u001b[38;5;250m \u001b[39m\u001b[38;5;28;01mimport\u001b[39;00m latlon2h3, latlon2s2, latlon2rhealpix\n\u001b[32m      3\u001b[39m \u001b[38;5;28;01mfrom\u001b[39;00m\u001b[38;5;250m \u001b[39m\u001b[34;01mvgrid\u001b[39;00m\u001b[34;01m.\u001b[39;00m\u001b[34;01mconversion\u001b[39;00m\u001b[34;01m.\u001b[39;00m\u001b[34;01mdggs2geojson\u001b[39;00m\u001b[38;5;250m \u001b[39m\u001b[38;5;28;01mimport\u001b[39;00m h32geojson, s22geojson\n",
      "\u001b[31mModuleNotFoundError\u001b[39m: No module named 'folium'"
     ]
    }
   ],
   "source": [
    "# import folium\n",
    "# from vgrid.conversion.latlon2dggs import latlon2h3, latlon2s2, latlon2rhealpix\n",
    "# from vgrid.conversion.dggs2geojson import h32geojson, s22geojson\n",
    "\n",
    "# lat, lon = 10.775276, 106.706797\n",
    "\n",
    "# # Convert to H3\n",
    "# h3_cell = latlon2h3(lat, lon, 3)\n",
    "# cell_geojson = h32geojson(h3_cell)\n",
    "# # Create a map centered on Ho Chi Minh City\n",
    "# m = folium.Map(location=[10.775276, 106.706797], zoom_start=12)\n",
    "# # Add H3 cells\n",
    "# folium.GeoJson(\n",
    "#     cell_geojson,\n",
    "#     style_function=lambda x: {\n",
    "#         \"fillColor\": \"blue\",\n",
    "#         \"color\": \"black\",\n",
    "#         \"weight\": 1,\n",
    "#         \"fillOpacity\": 0.3,\n",
    "#     },\n",
    "# ).add_to(m)\n",
    "\n",
    "# # Display the map\n",
    "# m"
   ]
  },
  {
   "cell_type": "markdown",
   "id": "f403a004",
   "metadata": {},
   "source": [
    "---\n",
    "\n",
    "## Tips\n",
    "- You may need to install extra dependencies:\n",
    "  ```bash\n",
    "  pip install folium geopandas pandas\n",
    "  ```\n",
    "- If you want to add more examples (e.g., raster conversion, other DGGS types), just add more code blocks following the same pattern. "
   ]
  }
 ],
 "metadata": {
  "jupytext": {
   "cell_metadata_filter": "-all",
   "main_language": "python",
   "notebook_metadata_filter": "-all"
  },
  "kernelspec": {
   "display_name": ".venv",
   "language": "python",
   "name": "python3"
  },
  "language_info": {
   "codemirror_mode": {
    "name": "ipython",
    "version": 3
   },
   "file_extension": ".py",
   "mimetype": "text/x-python",
   "name": "python",
   "nbconvert_exporter": "python",
   "pygments_lexer": "ipython3",
   "version": "3.12.11"
  }
 },
 "nbformat": 4,
 "nbformat_minor": 5
}
