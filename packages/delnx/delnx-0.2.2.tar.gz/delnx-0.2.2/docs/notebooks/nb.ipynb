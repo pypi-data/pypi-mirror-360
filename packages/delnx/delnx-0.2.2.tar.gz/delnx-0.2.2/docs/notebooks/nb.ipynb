{
 "cells": [
  {
   "cell_type": "markdown",
   "id": "caea21b3",
   "metadata": {},
   "source": [
    "# Negative binomial models with dispersion estimates\n",
    "\n",
    "`delnx` implements a negative binomial model as well as size factor and dispersion estimation for differential expression analysis. This is heavily inspired by [DESeq2](https://bioconductor.org/packages/release/bioc/html/DESeq2.html) / [PyDESeq2](https://pydeseq2.readthedocs.io/en/stable/) and [edgeR](https://bioconductor.org/packages/release/bioc/html/edgeR.html). While it's not an exact reimplementation of these methods, it achieves very similar results and is a lot quicker (especially on GPUs), thanks to [JAX](https://jax.readthedocs.io/en/latest/). Here's a quick example of the basic workflow:"
   ]
  },
  {
   "cell_type": "code",
   "execution_count": null,
   "id": "8f70ef7c",
   "metadata": {},
   "outputs": [
    {
     "name": "stderr",
     "output_type": "stream",
     "text": [
      "100%|██████████| 8/8 [00:00<00:00, 14.66it/s]\n"
     ]
    },
    {
     "name": "stdout",
     "output_type": "stream",
     "text": [
      "AnnData object with n_obs × n_vars = 28 × 16199\n",
      "    obs: 'psbulk_replicate', 'cell_type', 'organoid', 'GLI3_KO', 'psbulk_cells', 'psbulk_counts', 'size_factor'\n",
      "    var: 'dispersion'\n",
      "    layers: 'psbulk_props'\n"
     ]
    }
   ],
   "source": [
    "import delnx as dx\n",
    "import scanpy as sc\n",
    "\n",
    "# Load example data\n",
    "adata = sc.read_h5ad(\"data/GLI3_KO_45d_pseudobulk.h5ad\")\n",
    "\n",
    "# Use DESeq2-style median-of-ratios to compute size factors\n",
    "dx.pp.size_factors(adata, method=\"ratio\")\n",
    "\n",
    "# Estimate dispersion using DESeq2-inspired shrinkage\n",
    "dx.pp.dispersion(adata, size_factor_key=\"size_factor\", method=\"deseq2\")\n",
    "\n",
    "print(adata)"
   ]
  },
  {
   "cell_type": "markdown",
   "id": "762e3a62",
   "metadata": {},
   "source": [
    "Now we have size factors for each cell and dispersion estimates for each gene stored in `adata.obs['size_factors']` and `adata.var['dispersion']`, respectively. We can use these to perform differential expression analysis with a negative binomial model."
   ]
  },
  {
   "cell_type": "code",
   "execution_count": null,
   "id": "e428869e",
   "metadata": {},
   "outputs": [
    {
     "name": "stdout",
     "output_type": "stream",
     "text": [
      "Inferred data type: counts\n",
      "14462 features passed log2fc threshold of 0.0\n"
     ]
    },
    {
     "name": "stderr",
     "output_type": "stream",
     "text": [
      "100%|██████████| 8/8 [00:01<00:00,  7.03it/s]\n"
     ]
    },
    {
     "name": "stdout",
     "output_type": "stream",
     "text": [
      "Inferred data type: counts\n",
      "14906 features passed log2fc threshold of 0.0\n"
     ]
    },
    {
     "name": "stderr",
     "output_type": "stream",
     "text": [
      "100%|██████████| 8/8 [00:01<00:00,  6.83it/s]\n"
     ]
    },
    {
     "name": "stdout",
     "output_type": "stream",
     "text": [
      "Inferred data type: counts\n",
      "15320 features passed log2fc threshold of 0.0\n"
     ]
    },
    {
     "name": "stderr",
     "output_type": "stream",
     "text": [
      "100%|██████████| 8/8 [00:00<00:00, 11.46it/s]\n"
     ]
    },
    {
     "name": "stdout",
     "output_type": "stream",
     "text": [
      "Inferred data type: counts\n",
      "15443 features passed log2fc threshold of 0.0\n"
     ]
    },
    {
     "name": "stderr",
     "output_type": "stream",
     "text": [
      "100%|██████████| 8/8 [00:00<00:00, 12.60it/s]"
     ]
    },
    {
     "name": "stdout",
     "output_type": "stream",
     "text": [
      "      feature  test_condition  ref_condition     group     log2fc     auroc  \\\n",
      "0      TGFBR2           False           True     ge_in  10.000000  0.666667   \n",
      "1         CCK           False           True     ge_in -10.000000  0.000000   \n",
      "2         OTP           False           True     ge_in -10.000000  0.000000   \n",
      "3      NKX2-1           False           True    ge_npc -10.000000  0.000000   \n",
      "4        LHX8           False           True    ge_npc -10.000000  0.000000   \n",
      "...       ...             ...            ...       ...        ...       ...   \n",
      "60126  GPRC5A           False           True    ge_npc  10.000000  0.666667   \n",
      "60127   HOXC8           False           True  mesen_ex  10.000000  0.666667   \n",
      "60128  ADRA1A           False           True     ge_in  10.000000  0.833333   \n",
      "60129   APOC3           False           True     ge_in  10.000000  0.666667   \n",
      "60130   PGBD1           False           True  mesen_ex  -0.000167  0.583333   \n",
      "\n",
      "            coef          pval          padj  \n",
      "0     -26.040070  1.000000e-50  1.610796e-49  \n",
      "1     -24.487532  1.000000e-50  1.610796e-49  \n",
      "2     -20.406530  1.000000e-50  1.610796e-49  \n",
      "3     -19.888319  1.000000e-50  1.610796e-49  \n",
      "4     -19.316784  1.000000e-50  1.610796e-49  \n",
      "...          ...           ...           ...  \n",
      "60126  13.498735  9.734026e-01  9.999720e-01  \n",
      "60127  13.786176  9.374164e-01  9.999720e-01  \n",
      "60128  13.882776  9.674897e-01  9.999720e-01  \n",
      "60129  14.138321  9.596878e-01  9.999720e-01  \n",
      "60130   0.000013  9.999918e-01  9.999918e-01  \n",
      "\n",
      "[60131 rows x 9 columns]\n"
     ]
    },
    {
     "name": "stderr",
     "output_type": "stream",
     "text": [
      "\n"
     ]
    }
   ],
   "source": [
    "# Run differential expression analysis with negative binomial model\n",
    "de_results = dx.tl.de(\n",
    "    adata,\n",
    "    method=\"negbinom\",  # Use negative binomial model for DE analysis\n",
    "    condition_key=\"GLI3_KO\",  # Key for condition variable\n",
    "    group_key=\"cell_type\",  # Key for grouping variable\n",
    "    size_factor_key=\"size_factor\",  # Key for size factors\n",
    "    dispersion_key=\"dispersion\",  # Key for dispersion estimates\n",
    ")\n",
    "\n",
    "print(de_results)"
   ]
  }
 ],
 "metadata": {
  "kernelspec": {
   "display_name": "py312_de",
   "language": "python",
   "name": "python3"
  },
  "language_info": {
   "codemirror_mode": {
    "name": "ipython",
    "version": 3
   },
   "file_extension": ".py",
   "mimetype": "text/x-python",
   "name": "python",
   "nbconvert_exporter": "python",
   "pygments_lexer": "ipython3",
   "version": "3.12.0"
  }
 },
 "nbformat": 4,
 "nbformat_minor": 5
}
