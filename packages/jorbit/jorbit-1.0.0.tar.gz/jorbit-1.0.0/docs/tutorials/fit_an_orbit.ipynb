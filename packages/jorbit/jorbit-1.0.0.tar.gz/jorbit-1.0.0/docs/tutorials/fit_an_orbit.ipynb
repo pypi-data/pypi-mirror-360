{
 "cells": [
  {
   "cell_type": "markdown",
   "metadata": {},
   "source": [
    "# Fit an orbit"
   ]
  },
  {
   "cell_type": "markdown",
   "metadata": {},
   "source": [
    "This title is something of a bait-and-switch, since `jorbit` does not contain any self-contained code to \"fit\" an orbit in a Bayesian sense. It does, however, have the ability to easily evaluate the *likelihood* of a given state vector compared to a set of observations, the *derivative* of that likelihood with respect to each componet of that state vector, and a wrapper for finding the maximum likelihood state vector using the L-BFGS-B algorithm. Actually computing the posterior distribution of each orbital element is on you: feel free to use your favorite MCMC or nested sampling package!\n",
    "\n",
    "Below demonstrates some of the functions that might be useful in that process."
   ]
  },
  {
   "cell_type": "code",
   "execution_count": 1,
   "metadata": {},
   "outputs": [],
   "source": [
    "import jax\n",
    "jax.config.update(\"jax_enable_x64\", True)\n",
    "import jax.numpy as jnp\n",
    "\n",
    "import astropy.units as u\n",
    "import matplotlib.pyplot as plt\n",
    "from astropy.coordinates import SkyCoord\n",
    "from astropy.time import Time\n",
    "from astroquery.jplhorizons import Horizons\n",
    "\n",
    "from jorbit import Particle, Observations\n",
    "from jorbit.data.constants import SPEED_OF_LIGHT\n",
    "from jorbit.utils.states import KeplerianState, CartesianState"
   ]
  },
  {
   "cell_type": "markdown",
   "metadata": {},
   "source": [
    "First, let's use Horizons to generate some fake obersvations of an asteroid:"
   ]
  },
  {
   "cell_type": "code",
   "execution_count": 2,
   "metadata": {},
   "outputs": [
    {
     "data": {
      "image/png": "[encoded data removed]",
      "text/plain": [
       "<Figure size 711.1x400 with 1 Axes>"
      ]
     },
     "metadata": {},
     "output_type": "display_data"
    }
   ],
   "source": [
    "nights = [Time(\"2025-01-01 07:00\"), Time(\"2025-01-02 07:00\"), Time(\"2025-01-05 07:00\")]\n",
    "\n",
    "times = []\n",
    "for n in nights:\n",
    "    times.extend([n + i * 1 * u.hour for i in range(3)])\n",
    "times = Time(times)\n",
    "\n",
    "obj = Horizons(id=\"274301\", location=\"695@399\", epochs=times.utc.jd)\n",
    "pts = obj.ephemerides(extra_precision=True, quantities=\"1\")\n",
    "\n",
    "coords = SkyCoord(pts[\"RA\"], pts[\"DEC\"], unit=(u.deg, u.deg))\n",
    "times = Time(pts[\"datetime_jd\"], format=\"jd\", scale=\"utc\")\n",
    "\n",
    "fig, ax = plt.subplots()\n",
    "ax.scatter(coords.ra.deg, coords.dec.deg, marker=\"x\")\n",
    "ax.invert_xaxis()"
   ]
  },
  {
   "cell_type": "markdown",
   "metadata": {},
   "source": [
    "Now we can use those to create an `Observations` object:"
   ]
  },
  {
   "cell_type": "code",
   "execution_count": 3,
   "metadata": {},
   "outputs": [],
   "source": [
    "obs = Observations(\n",
    "    observed_coordinates=coords,\n",
    "    times=times,\n",
    "    observatories=\"kitt peak\",\n",
    "    astrometric_uncertainties=1 * u.arcsec,\n",
    ")"
   ]
  },
  {
   "cell_type": "markdown",
   "metadata": {},
   "source": [
    "This pre-computes the appropriate covariance matrices of the observations and caches the barycentric positions of the observer according to Horizons. Note that all of the likelihood calculations within `Particle` are built on the assumption that the observer's position is known exactly, and that the planets/major asteroids are exactly where Horizons says they are.\n",
    "\n",
    "\n",
    "Let's now create two `Particle` objects, one with the \"correct\" underlying state accoridng to Horizons and one that's slightly perturbed:"
   ]
  },
  {
   "cell_type": "code",
   "execution_count": 4,
   "metadata": {},
   "outputs": [],
   "source": [
    "obj = Horizons(id=\"274301\", location=\"500@0\", epochs=times.tdb.jd[0])\n",
    "vecs = obj.vectors(refplane=\"earth\")\n",
    "true_x0 = jnp.array([vecs[\"x\"], vecs[\"y\"], vecs[\"z\"]]).T[0]\n",
    "true_v0 = jnp.array([vecs[\"vx\"], vecs[\"vy\"], vecs[\"vz\"]]).T[0]\n",
    "\n",
    "\n",
    "p_true = Particle(\n",
    "    x=true_x0, v=true_v0, time=times[0], name=\"274301 Wikipedia\", observations=obs\n",
    ")\n",
    "\n",
    "p_perturbed = Particle(\n",
    "    x=true_x0 + jnp.ones(3) * 1e-1,\n",
    "    v=true_v0 - jnp.ones(3) * 1e-3,\n",
    "    time=times[0],\n",
    "    name=\"274301 Perturbed\",\n",
    "    observations=obs,\n",
    ")"
   ]
  },
  {
   "cell_type": "markdown",
   "metadata": {},
   "source": [
    "We can take a look at the differences between these particles by examining their orbital elements:"
   ]
  },
  {
   "cell_type": "code",
   "execution_count": 5,
   "metadata": {},
   "outputs": [
    {
     "name": "stdout",
     "output_type": "stream",
     "text": [
      "KeplerianState(semi=Array([2.37859645], dtype=float64), ecc=Array([0.14924503], dtype=float64), inc=Array([6.73363597], dtype=float64), Omega=Array([183.37294141], dtype=float64), omega=Array([140.26387023], dtype=float64), nu=Array([173.6546239], dtype=float64), acceleration_func_kwargs={'c2': 29979.063823897617}, time=np.float64(2460676.792467407))\n",
      "KeplerianState(semi=Array([3.3054992], dtype=float64), ecc=Array([0.17673654], dtype=float64), inc=Array([3.87846549], dtype=float64), Omega=Array([208.08713233], dtype=float64), omega=Array([306.18499065], dtype=float64), nu=Array([339.74157202], dtype=float64), acceleration_func_kwargs={'c2': 29979.063823897617}, time=np.float64(2460676.792467407))\n"
     ]
    }
   ],
   "source": [
    "print(p_true._keplerian_state)\n",
    "print(p_perturbed._keplerian_state)"
   ]
  },
  {
   "cell_type": "markdown",
   "metadata": {},
   "source": [
    "The highest-level built in function that's relevant here is `max_likelihood`, which will create a new `Particle` object that's represents maximum likelihood of the observations:"
   ]
  },
  {
   "cell_type": "code",
   "execution_count": 6,
   "metadata": {},
   "outputs": [
    {
     "name": "stdout",
     "output_type": "stream",
     "text": [
      "RUNNING THE L-BFGS-B CODE\n",
      "\n",
      "           * * *\n",
      "\n",
      "Machine precision = 2.220D-16\n",
      " N =            6     M =          100\n",
      "\n",
      "At X0         0 variables are exactly at the bounds\n",
      "\n",
      "At iterate    0    f=  3.07889D+02    |proj g|=  5.53857D+06\n"
     ]
    },
    {
     "name": "stderr",
     "output_type": "stream",
     "text": [
      " This problem is unconstrained.\n"
     ]
    },
    {
     "name": "stdout",
     "output_type": "stream",
     "text": [
      "\n",
      "At iterate    1    f=  2.31464D+02    |proj g|=  3.66558D+06\n",
      "\n",
      "At iterate    2    f=  1.87597D+02    |proj g|=  3.28397D+06\n",
      "\n",
      "At iterate    3    f=  1.65411D+01    |proj g|=  6.58753D+03\n",
      "\n",
      "At iterate    4    f=  1.65411D+01    |proj g|=  1.15698D+01\n",
      "\n",
      "At iterate    5    f=  1.65411D+01    |proj g|=  6.97983D+00\n",
      "\n",
      "At iterate    6    f=  1.65411D+01    |proj g|=  7.57028D+00\n",
      "\n",
      "At iterate    7    f=  1.65411D+01    |proj g|=  2.20083D+01\n",
      "\n",
      "At iterate    8    f=  1.65411D+01    |proj g|=  3.73082D+01\n",
      "\n",
      "At iterate    9    f=  1.65411D+01    |proj g|=  5.48973D+01\n",
      "\n",
      "At iterate   10    f=  1.65411D+01    |proj g|=  6.55468D+01\n",
      "\n",
      "At iterate   11    f=  1.65411D+01    |proj g|=  8.32795D+01\n",
      "\n",
      "At iterate   12    f=  1.65411D+01    |proj g|=  1.18063D+02\n",
      "\n",
      "At iterate   13    f=  1.65411D+01    |proj g|=  1.69347D+02\n",
      "\n",
      "At iterate   14    f=  1.65411D+01    |proj g|=  2.54788D+02\n",
      "\n",
      "At iterate   15    f=  1.65411D+01    |proj g|=  3.91337D+02\n",
      "\n",
      "At iterate   16    f=  1.65411D+01    |proj g|=  6.05951D+02\n",
      "\n",
      "At iterate   17    f=  1.65411D+01    |proj g|=  9.31268D+02\n",
      "\n",
      "At iterate   18    f=  1.65410D+01    |proj g|=  1.37375D+03\n",
      "\n",
      "At iterate   19    f=  1.65410D+01    |proj g|=  1.80201D+03\n",
      "\n",
      "At iterate   20    f=  1.65410D+01    |proj g|=  1.78969D+03\n",
      "\n",
      "At iterate   21    f=  1.65410D+01    |proj g|=  1.68374D+03\n",
      "\n",
      "At iterate   22    f=  1.65409D+01    |proj g|=  9.33273D+02\n",
      "\n",
      "At iterate   23    f=  1.65409D+01    |proj g|=  2.41019D+02\n",
      "\n",
      "At iterate   24    f=  1.65409D+01    |proj g|=  2.95754D+01\n",
      "\n",
      "At iterate   25    f=  1.65409D+01    |proj g|=  2.48302D+00\n",
      "\n",
      "At iterate   26    f=  1.65409D+01    |proj g|=  1.76951D-01\n",
      "\n",
      "At iterate   27    f=  1.65409D+01    |proj g|=  2.79469D-02\n",
      "\n",
      "At iterate   28    f=  1.65409D+01    |proj g|=  2.72638D-02\n",
      "\n",
      "           * * *\n",
      "\n",
      "Tit   = total number of iterations\n",
      "Tnf   = total number of function evaluations\n",
      "Tnint = total number of segments explored during Cauchy searches\n",
      "Skip  = number of BFGS updates skipped\n",
      "Nact  = number of active bounds at final generalized Cauchy point\n",
      "Projg = norm of the final projected gradient\n",
      "F     = final function value\n",
      "\n",
      "           * * *\n",
      "\n",
      "   N    Tit     Tnf  Tnint  Skip  Nact     Projg        F\n",
      "    6     28     35      1     0     0   2.726D-02   1.654D+01\n",
      "  F =   16.540895415318207     \n",
      "\n",
      "CONVERGENCE: REL_REDUCTION_OF_F_<=_FACTR*EPSMCH             \n"
     ]
    }
   ],
   "source": [
    "p_best_fit = p_perturbed.max_likelihood(verbose=True)"
   ]
  },
  {
   "cell_type": "markdown",
   "metadata": {},
   "source": [
    "Qualitatively, we can see how well this worked by again examining the orbital elements:"
   ]
  },
  {
   "cell_type": "code",
   "execution_count": 7,
   "metadata": {},
   "outputs": [
    {
     "name": "stdout",
     "output_type": "stream",
     "text": [
      "KeplerianState(semi=Array([2.37859645], dtype=float64), ecc=Array([0.14924503], dtype=float64), inc=Array([6.73363597], dtype=float64), Omega=Array([183.37294141], dtype=float64), omega=Array([140.26387023], dtype=float64), nu=Array([173.6546239], dtype=float64), acceleration_func_kwargs={'c2': 29979.063823897617}, time=np.float64(2460676.792467407))\n",
      "KeplerianState(semi=Array([2.37724545], dtype=float64), ecc=Array([0.14982439], dtype=float64), inc=Array([6.73733031], dtype=float64), Omega=Array([183.3443555], dtype=float64), omega=Array([139.77665851], dtype=float64), nu=Array([174.17190431], dtype=float64), acceleration_func_kwargs={'c2': 29979.063823897617}, time=np.float64(2460676.792467407))\n"
     ]
    }
   ],
   "source": [
    "print(p_true._keplerian_state)\n",
    "print(p_best_fit._keplerian_state)"
   ]
  },
  {
   "cell_type": "markdown",
   "metadata": {},
   "source": [
    "Quantitatively, we can see how well this worked by examining the residuals and likelihoods:"
   ]
  },
  {
   "cell_type": "code",
   "execution_count": 8,
   "metadata": {},
   "outputs": [
    {
     "data": {
      "text/plain": [
       "<matplotlib.legend.Legend at 0x3430ed940>"
      ]
     },
     "execution_count": 8,
     "metadata": {},
     "output_type": "execute_result"
    },
    {
     "data": {
      "image/png": "[encoded data removed]",
      "text/plain": [
       "<Figure size 711.1x400 with 1 Axes>"
      ]
     },
     "metadata": {},
     "output_type": "display_data"
    }
   ],
   "source": [
    "res_true = p_true.residuals(p_true._keplerian_state)\n",
    "res_perturbed = p_perturbed.residuals(p_perturbed._keplerian_state)\n",
    "res_best_fit = p_best_fit.residuals(p_best_fit._keplerian_state)\n",
    "\n",
    "fig, ax = plt.subplots()\n",
    "ax.scatter(res_true[:, 0] * 1e3, res_true[:, 1] * 1e3, label=\"True\")\n",
    "ax.scatter(res_best_fit[:, 0] * 1e3, res_best_fit[:, 1] * 1e3, label=\"Best Fit\")\n",
    "w = 2\n",
    "ax.set(\n",
    "    xlim=(-w, w),\n",
    "    ylim=(-w, w),\n",
    "    aspect=\"equal\",\n",
    "    xlabel=\"RA Residual (mas)\",\n",
    "    ylabel=\"Dec Residual (mas)\",\n",
    ")\n",
    "ax.legend()"
   ]
  },
  {
   "cell_type": "markdown",
   "metadata": {},
   "source": [
    "Naturally if we had added noise to the observations the residuals wouldn't be this small, but it's reassuring that we can go from $>$ degree errors to sub-arcsecond residuals without too much trouble.\n",
    "\n",
    "Next let's take a look at the likelihoods:"
   ]
  },
  {
   "cell_type": "code",
   "execution_count": 9,
   "metadata": {},
   "outputs": [
    {
     "name": "stdout",
     "output_type": "stream",
     "text": [
      "p_true: -16.540893597690737\n",
      "p_perturbed: -1354314046.0156972\n",
      "p_best_fit: -16.540895415316562\n"
     ]
    }
   ],
   "source": [
    "print(f\"p_true: {p_true.loglike(p_true._keplerian_state)}\")\n",
    "print(f\"p_perturbed: {p_perturbed.loglike(p_perturbed._keplerian_state)}\")\n",
    "print(f\"p_best_fit: {p_best_fit.loglike(p_best_fit._keplerian_state)}\")"
   ]
  },
  {
   "cell_type": "markdown",
   "metadata": {},
   "source": [
    "This confirms that our `max_likelihood` function is doing what we expect: increasing the loglikelihood to about as high as it can go.\n",
    "\n",
    "This gives us an excuse to consider the loglike function some more. It will compute the log likelihood of either a given KeplerianState or CartesianState without modifying the actual particle's state:"
   ]
  },
  {
   "cell_type": "code",
   "execution_count": 10,
   "metadata": {},
   "outputs": [
    {
     "data": {
      "text/plain": [
       "Array(-16.54123861, dtype=float64)"
      ]
     },
     "execution_count": 10,
     "metadata": {},
     "output_type": "execute_result"
    }
   ],
   "source": [
    "test_kep_state = KeplerianState(\n",
    "    semi=jnp.array([2.37859645]),\n",
    "    ecc=jnp.array([0.14924503]),\n",
    "    inc=jnp.array([6.733637]),\n",
    "    Omega=jnp.array([183.37294715]),\n",
    "    omega=jnp.array([140.26386151]),\n",
    "    nu=jnp.array([173.65462561]),\n",
    "    time=2460676.792467407,\n",
    "    acceleration_func_kwargs={\"c2\" : SPEED_OF_LIGHT**2},\n",
    ")\n",
    "\n",
    "p_true.loglike(test_kep_state)"
   ]
  },
  {
   "cell_type": "code",
   "execution_count": 11,
   "metadata": {},
   "outputs": [
    {
     "data": {
      "text/plain": [
       "CartesianState(x=Array([[-2.00572342,  1.77860129,  0.51974071]], dtype=float64), v=Array([[-0.00665991, -0.00662871, -0.00203885]], dtype=float64), acceleration_func_kwargs={'c2': 29979.063823897617}, time=2460676.792467407)"
      ]
     },
     "execution_count": 11,
     "metadata": {},
     "output_type": "execute_result"
    }
   ],
   "source": [
    "test_cart_state = test_kep_state.to_cartesian()\n",
    "test_cart_state"
   ]
  },
  {
   "cell_type": "code",
   "execution_count": 12,
   "metadata": {},
   "outputs": [
    {
     "data": {
      "text/plain": [
       "Array(-16.54123861, dtype=float64)"
      ]
     },
     "execution_count": 12,
     "metadata": {},
     "output_type": "execute_result"
    }
   ],
   "source": [
    "p_true.loglike(test_cart_state)"
   ]
  },
  {
   "cell_type": "markdown",
   "metadata": {},
   "source": [
    "The neat thing is, since all of this is in JAX, we can compute the derivative of the likelihood with respect to each of the components of these states through the magic of automatic differentiation:"
   ]
  },
  {
   "cell_type": "code",
   "execution_count": 13,
   "metadata": {},
   "outputs": [
    {
     "name": "stdout",
     "output_type": "stream",
     "text": [
      "KeplerianState(semi=Array([-1600.20875228], dtype=float64), ecc=Array([-3339.28705866], dtype=float64), inc=Array([-186.48958337], dtype=float64), Omega=Array([253.25278114], dtype=float64), omega=Array([276.47364179], dtype=float64), nu=Array([275.23984272], dtype=float64), acceleration_func_kwargs={'c2': Array(5.56893297e-14, dtype=float64)}, time=Array(-49.49283628, dtype=float64))\n",
      "CartesianState(x=Array([[-2956.97592334, -6534.88661122,  3720.80764545]], dtype=float64), v=Array([[ -5136.17695089, -11301.2528607 ,   6410.91253671]], dtype=float64), acceleration_func_kwargs={'c2': Array(5.56893297e-14, dtype=float64)}, time=Array(-49.49283628, dtype=float64))\n"
     ]
    }
   ],
   "source": [
    "print(jax.grad(p_true.loglike)(test_kep_state))\n",
    "print(jax.grad(p_true.loglike)(test_cart_state))"
   ]
  },
  {
   "cell_type": "markdown",
   "metadata": {},
   "source": [
    "This is pretty cool! This is the true gradient propagated all the way through all of the predictor-corrector iterations of IAS15 and all of the convergent iterations of the PPN-gravity function. Note that since we use jax.while loops in parts of the model, we can't use reverse-mode autodiff: even when you call jax.grad, it's really doing forward-mode autodiff via a custom_vjp.\n",
    "\n",
    "Finally, for convenience, we also include a function that takes simple 1D arrays as inputs, which might be easier if using fitters like [emcee](https://emcee.readthedocs.io/en/stable/) or [dynesty](https://dynesty.readthedocs.io/en/stable/). These 1D arrays assume the first 3 elements are the barycentric ICRS x, y, and z positions in AU, and the next 3 are the barycentric ICRS x, y, and z velocities in AU/day. Note that the signs here are flipped: we assume that they're \"objective\" functions to be minimized rather than \"log likelihoods\" to be maximized."
   ]
  },
  {
   "cell_type": "code",
   "execution_count": 14,
   "metadata": {},
   "outputs": [
    {
     "data": {
      "text/plain": [
       "Array([-2.00572342,  1.77860129,  0.51974071, -0.00665991, -0.00662871,\n",
       "       -0.00203885], dtype=float64)"
      ]
     },
     "execution_count": 14,
     "metadata": {},
     "output_type": "execute_result"
    }
   ],
   "source": [
    "one_d = jnp.concatenate([test_cart_state.x.flatten(), test_cart_state.v.flatten()])\n",
    "one_d"
   ]
  },
  {
   "cell_type": "code",
   "execution_count": 15,
   "metadata": {},
   "outputs": [
    {
     "name": "stdout",
     "output_type": "stream",
     "text": [
      "16.54123860653777\n",
      "[ 2956.97592334  6534.88661122 -3720.80764545  5136.17695089\n",
      " 11301.2528607  -6410.91253671]\n"
     ]
    }
   ],
   "source": [
    "print(p_true.scipy_objective(one_d))\n",
    "print(p_true.scipy_objective_grad(one_d))"
   ]
  }
 ],
 "metadata": {
  "kernelspec": {
   "display_name": "jorbit",
   "language": "python",
   "name": "jorbit"
  },
  "language_info": {
   "codemirror_mode": {
    "name": "ipython",
    "version": 3
   },
   "file_extension": ".py",
   "mimetype": "text/x-python",
   "name": "python",
   "nbconvert_exporter": "python",
   "pygments_lexer": "ipython3",
   "version": "3.13.2"
  }
 },
 "nbformat": 4,
 "nbformat_minor": 2
}
