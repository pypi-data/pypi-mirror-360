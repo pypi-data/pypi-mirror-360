{
 "cells": [
  {
   "cell_type": "markdown",
   "metadata": {},
   "source": [
    "# Local MPChecker"
   ]
  },
  {
   "cell_type": "markdown",
   "metadata": {},
   "source": [
    "We can use `jorbit` to mimic the MPC's \"MPChecker\" service. This is a service that, when given a sky coordinate and time, will return a list of all known objects that are in the field of view of a given telescope. This is useful for identifying observed objects in a given field, or for checking for contamination of another science target by solar system objects.\n",
    "\n",
    "The `jorbit` version is not guaranteed to successfully flag every object: there are a number of simplifications where a particle could fall through the cracks. However, it offers a chance for a rapid first pass, and the the ability to run all computations locally (after downloading some cached data, which is done automatically using Astropy)."
   ]
  },
  {
   "cell_type": "code",
   "execution_count": 1,
   "metadata": {},
   "outputs": [],
   "source": [
    "import astropy.units as u\n",
    "from astropy.coordinates import SkyCoord\n",
    "from astropy.time import Time\n",
    "\n",
    "from jorbit.mpchecker import mpchecker"
   ]
  },
  {
   "cell_type": "markdown",
   "metadata": {},
   "source": [
    "For the fastest but crudest check, we can run:"
   ]
  },
  {
   "cell_type": "code",
   "execution_count": 2,
   "metadata": {},
   "outputs": [
    {
     "data": {
      "text/html": [
       "<div><i>Table length=14</i>\n",
       "<table id=\"table5472780912\" class=\"table-striped table-bordered table-condensed\">\n",
       "<thead><tr><th>Unpacked Name</th><th>separation</th><th>ra</th><th>dec</th><th>Packed designation</th><th>H</th><th>G</th><th>Epoch</th><th>M</th><th>Peri</th><th>Node</th><th>Incl.</th><th>e</th><th>n</th><th>a</th><th>U</th><th>Reference</th><th>#Obs</th><th>#Opp</th><th>Arc</th><th>rms</th><th>Coarse Perts</th><th>Precise Perts</th><th>Computer</th><th>Flags</th><th>last obs</th></tr></thead>\n",
       "<thead><tr><th></th><th>arcsec</th><th>deg</th><th>deg</th><th></th><th></th><th></th><th></th><th></th><th></th><th></th><th></th><th></th><th></th><th></th><th></th><th></th><th></th><th></th><th></th><th></th><th></th><th></th><th></th><th></th><th></th></tr></thead>\n",
       "<thead><tr><th>str19</th><th>float64</th><th>float64</th><th>float64</th><th>str7</th><th>float64</th><th>float64</th><th>str5</th><th>float64</th><th>float64</th><th>float64</th><th>float64</th><th>float64</th><th>float64</th><th>float64</th><th>str1</th><th>str9</th><th>float64</th><th>float64</th><th>str9</th><th>float64</th><th>str3</th><th>str3</th><th>str8</th><th>str4</th><th>str8</th></tr></thead>\n",
       "<tr><td>2011 UE381</td><td>248.51519282838578</td><td>359.9353047057922</td><td>0.024081858375017095</td><td>K11Uc1E</td><td>18.09</td><td>0.15</td><td>K2555</td><td>65.96611</td><td>125.73907</td><td>204.52407</td><td>13.88006</td><td>0.1853965</td><td>0.22360622</td><td>2.6883149</td><td>0</td><td>MPO893282</td><td>97.0</td><td>7.0</td><td>2010-2024</td><td>0.47</td><td>M-v</td><td>3Ek</td><td>MPCLINUX</td><td>0000</td><td>20241122</td></tr>\n",
       "<tr><td>2016 BK84</td><td>270.42781198032526</td><td>359.9281601096067</td><td>-0.021951538035610858</td><td>K16B84K</td><td>17.32</td><td>0.15</td><td>K2555</td><td>255.37314</td><td>140.798</td><td>15.97159</td><td>10.97567</td><td>0.172949</td><td>0.17929154</td><td>3.1147953</td><td>0</td><td>E2024-TN4</td><td>84.0</td><td>7.0</td><td>2010-2024</td><td>0.42</td><td>M-v</td><td>3Ek</td><td>MPCLINUX</td><td>0000</td><td>20241010</td></tr>\n",
       "<tr><td>(243996) 2001 RP149</td><td>299.5286772173218</td><td>0.034387214576621715</td><td>-0.07576385186187751</td><td>O3996</td><td>17.8</td><td>0.15</td><td>K2555</td><td>31.43209</td><td>190.53068</td><td>205.56806</td><td>1.35343</td><td>0.0988646</td><td>0.30001667</td><td>2.2098992</td><td>0</td><td>MPO889888</td><td>396.0</td><td>15.0</td><td>2000-2024</td><td>0.89</td><td>M-v</td><td>3Ek</td><td>MPCLINUX</td><td>0000</td><td>20241109</td></tr>\n",
       "<tr><td>(328594) 2009 SU69</td><td>328.03233241021195</td><td>0.040290737741438314</td><td>0.08172838417960507</td><td>W8594</td><td>16.75</td><td>0.15</td><td>K2555</td><td>178.62152</td><td>23.55454</td><td>199.3523</td><td>5.64506</td><td>0.0341326</td><td>0.19680507</td><td>2.9271515</td><td>0</td><td>E2024-TI9</td><td>223.0</td><td>13.0</td><td>1994-2024</td><td>0.99</td><td>M-v</td><td>3Ek</td><td>MPCLINUX</td><td>0000</td><td>20241006</td></tr>\n",
       "<tr><td>(192469) 1998 FF48</td><td>362.6266227767734</td><td>0.044893084395516265</td><td>-0.09017243739974345</td><td>J2469</td><td>15.66</td><td>0.15</td><td>K2555</td><td>207.7489</td><td>2.37492</td><td>199.18862</td><td>8.44388</td><td>0.1112137</td><td>0.24058623</td><td>2.5602883</td><td>0</td><td>E2025-BC9</td><td>880.0</td><td>18.0</td><td>1994-2025</td><td>0.79</td><td>M-v</td><td>3Ek</td><td>MPCLINUX</td><td>0000</td><td>20250124</td></tr>\n",
       "<tr><td>2020 SE100</td><td>365.93508442844364</td><td>0.005957379884145937</td><td>-0.10147391078813246</td><td>K20SA0E</td><td>18.59</td><td>0.15</td><td>K2555</td><td>37.22087</td><td>170.49025</td><td>203.82952</td><td>2.42053</td><td>0.1632445</td><td>0.23272611</td><td>2.6176162</td><td>0</td><td>E2024-TA7</td><td>49.0</td><td>4.0</td><td>2003-2024</td><td>0.38</td><td>M-v</td><td>3Ek</td><td>MPCLINUX</td><td>0000</td><td>20241004</td></tr>\n",
       "<tr><td>(572408) 2008 GD168</td><td>394.4635076095755</td><td>359.890512021332</td><td>-0.004320642764798248</td><td>v2408</td><td>14.52</td><td>0.15</td><td>K2555</td><td>83.14212</td><td>274.6067</td><td>10.43473</td><td>5.36024</td><td>0.1147046</td><td>0.08322819</td><td>5.1954409</td><td>0</td><td>E2024-U66</td><td>109.0</td><td>9.0</td><td>2008-2024</td><td>0.98</td><td>M-v</td><td>3Ek</td><td>MPCLINUX</td><td>0009</td><td>20241023</td></tr>\n",
       "<tr><td>(167818) 2005 CH8</td><td>479.06228574214134</td><td>0.13284005307666424</td><td>-0.007868018793499496</td><td>G7818</td><td>16.15</td><td>0.15</td><td>K2555</td><td>155.50455</td><td>219.06687</td><td>21.24485</td><td>2.00217</td><td>0.1476283</td><td>0.22873664</td><td>2.6479649</td><td>0</td><td>E2025-B02</td><td>650.0</td><td>19.0</td><td>1971-2025</td><td>0.86</td><td>M-v</td><td>3Ek</td><td>MPCLINUX</td><td>0000</td><td>20250116</td></tr>\n",
       "<tr><td>(123177) 2000 TD66</td><td>500.059325832315</td><td>0.0267746341221638</td><td>-0.13630048297350528</td><td>C3177</td><td>16.31</td><td>0.15</td><td>K2555</td><td>332.26177</td><td>53.61751</td><td>23.80473</td><td>2.18869</td><td>0.045633</td><td>0.20283618</td><td>2.8688363</td><td>0</td><td>E2025-B02</td><td>395.0</td><td>17.0</td><td>1996-2025</td><td>0.93</td><td>M-v</td><td>3Ek</td><td>MPCLINUX</td><td>0000</td><td>20250116</td></tr>\n",
       "<tr><td>2014 TA19</td><td>513.8346854367059</td><td>359.862074684597</td><td>0.0367286400260175</td><td>K14T19A</td><td>17.65</td><td>0.15</td><td>K2555</td><td>29.10049</td><td>358.01092</td><td>16.08806</td><td>1.18333</td><td>0.0730638</td><td>0.19128549</td><td>2.9831931</td><td>1</td><td>MPO893503</td><td>65.0</td><td>6.0</td><td>2009-2024</td><td>0.49</td><td>M-v</td><td>3Ek</td><td>MPCLINUX</td><td>0000</td><td>20241204</td></tr>\n",
       "<tr><td>2019 SP145</td><td>517.459510856261</td><td>359.9312053518237</td><td>-0.12620670804327605</td><td>K19SE5P</td><td>17.84</td><td>0.15</td><td>K2555</td><td>71.54598</td><td>126.65465</td><td>196.78813</td><td>1.55365</td><td>0.0971268</td><td>0.19205759</td><td>2.9751925</td><td>1</td><td>MPO894068</td><td>42.0</td><td>3.0</td><td>2017-2024</td><td>0.7</td><td>M-v</td><td>3Ek</td><td>MPCLINUX</td><td>0000</td><td>20241204</td></tr>\n",
       "<tr><td>2024 SO14</td><td>529.2693688240147</td><td>359.9840793510098</td><td>0.146154709049784</td><td>K24S14O</td><td>17.27</td><td>0.15</td><td>K2555</td><td>55.74173</td><td>139.49595</td><td>199.57701</td><td>9.88502</td><td>0.075036</td><td>0.1718675</td><td>3.2038601</td><td>0</td><td>MPO872824</td><td>39.0</td><td>8.0</td><td>2007-2024</td><td>0.44</td><td>M-v</td><td>3Ek</td><td>MPCLINUX</td><td>0000</td><td>20241024</td></tr>\n",
       "<tr><td>(361919) 2008 GK103</td><td>542.0887079906245</td><td>359.8789050327811</td><td>0.08950092998907434</td><td>a1919</td><td>16.86</td><td>0.15</td><td>K2555</td><td>8.70382</td><td>19.86951</td><td>19.56714</td><td>5.86819</td><td>0.0317285</td><td>0.21105087</td><td>2.7939028</td><td>0</td><td>MPO890789</td><td>225.0</td><td>14.0</td><td>1999-2024</td><td>0.92</td><td>M-v</td><td>3Ek</td><td>MPCLINUX</td><td>0000</td><td>20241204</td></tr>\n",
       "<tr><td>(222437) 2001 QZ19</td><td>553.5473924963453</td><td>359.89379174977296</td><td>-0.11118872481666336</td><td>M2437</td><td>16.52</td><td>0.15</td><td>K2555</td><td>46.46319</td><td>336.89055</td><td>30.11625</td><td>1.93058</td><td>0.1825252</td><td>0.25680916</td><td>2.4512957</td><td>0</td><td>E2025-BI6</td><td>751.0</td><td>15.0</td><td>2001-2024</td><td>0.85</td><td>M-v</td><td>3Ek</td><td>MPCLINUX</td><td>0000</td><td>20241214</td></tr>\n",
       "</table></div>"
      ],
      "text/plain": [
       "<Table length=14>\n",
       "   Unpacked Name        separation              ra          ... Flags last obs\n",
       "                          arcsec               deg          ...               \n",
       "       str19             float64             float64        ...  str4   str8  \n",
       "------------------- ------------------ -------------------- ... ----- --------\n",
       "         2011 UE381 248.51519282838578    359.9353047057922 ...  0000 20241122\n",
       "          2016 BK84 270.42781198032526    359.9281601096067 ...  0000 20241010\n",
       "(243996) 2001 RP149  299.5286772173218 0.034387214576621715 ...  0000 20241109\n",
       " (328594) 2009 SU69 328.03233241021195 0.040290737741438314 ...  0000 20241006\n",
       " (192469) 1998 FF48  362.6266227767734 0.044893084395516265 ...  0000 20250124\n",
       "         2020 SE100 365.93508442844364 0.005957379884145937 ...  0000 20241004\n",
       "(572408) 2008 GD168  394.4635076095755     359.890512021332 ...  0009 20241023\n",
       "  (167818) 2005 CH8 479.06228574214134  0.13284005307666424 ...  0000 20250116\n",
       " (123177) 2000 TD66   500.059325832315   0.0267746341221638 ...  0000 20250116\n",
       "          2014 TA19  513.8346854367059     359.862074684597 ...  0000 20241204\n",
       "         2019 SP145   517.459510856261    359.9312053518237 ...  0000 20241204\n",
       "          2024 SO14  529.2693688240147    359.9840793510098 ...  0000 20241024\n",
       "(361919) 2008 GK103  542.0887079906245    359.8789050327811 ...  0000 20241204\n",
       " (222437) 2001 QZ19  553.5473924963453   359.89379174977296 ...  0000 20241214"
      ]
     },
     "execution_count": 2,
     "metadata": {},
     "output_type": "execute_result"
    }
   ],
   "source": [
    "mpchecker(\n",
    "    coordinate=SkyCoord(ra=0 * u.deg, dec=0 * u.deg),\n",
    "    time=Time(\"2025-01-01\"),\n",
    "    radius=10 * u.arcmin,\n",
    "    extra_precision=False,\n",
    ")"
   ]
  },
  {
   "cell_type": "markdown",
   "metadata": {},
   "source": [
    "This should take less than a second (if the appropriate files are downloaded), but makes a few simplifications. First, the true underlying positions of the objects here were integrated using only Newtonian gravity and perturbations from the planets and major asteroids. By neglecting effects like GR, we introduce a ~arsec level error (usually much smaller, but we'll be conservative). Second, when converting these positions into sky coordinates, we've assumed that the observer is located at the geocenter. Depending on the observer's true location, this can introduce $>$arcsec level errors, especially if the object is nearby and the observer is actually a spacecraft like TESS or JWST.\n",
    "\n",
    "So, for a more accurate check, we can run:"
   ]
  },
  {
   "cell_type": "code",
   "execution_count": 3,
   "metadata": {},
   "outputs": [
    {
     "data": {
      "text/html": [
       "<div><i>Table length=14</i>\n",
       "<table id=\"table5472845008\" class=\"table-striped table-bordered table-condensed\">\n",
       "<thead><tr><th>Unpacked Name</th><th>separation</th><th>ra</th><th>dec</th><th>est. Vmag</th><th>Packed designation</th><th>H</th><th>G</th><th>Epoch</th><th>M</th><th>Peri</th><th>Node</th><th>Incl.</th><th>e</th><th>n</th><th>a</th><th>U</th><th>Reference</th><th>#Obs</th><th>#Opp</th><th>Arc</th><th>rms</th><th>Coarse Perts</th><th>Precise Perts</th><th>Computer</th><th>Flags</th><th>last obs</th></tr></thead>\n",
       "<thead><tr><th></th><th>arcsec</th><th>deg</th><th>deg</th><th>mag</th><th></th><th></th><th></th><th></th><th></th><th></th><th></th><th></th><th></th><th></th><th></th><th></th><th></th><th></th><th></th><th></th><th></th><th></th><th></th><th></th><th></th><th></th></tr></thead>\n",
       "<thead><tr><th>str19</th><th>float64</th><th>float64</th><th>float64</th><th>float64[1]</th><th>str7</th><th>float64</th><th>float64</th><th>str5</th><th>float64</th><th>float64</th><th>float64</th><th>float64</th><th>float64</th><th>float64</th><th>float64</th><th>str1</th><th>str9</th><th>float64</th><th>float64</th><th>str9</th><th>float64</th><th>str3</th><th>str3</th><th>str8</th><th>str4</th><th>str8</th></tr></thead>\n",
       "<tr><td>2011 UE381</td><td>246.9656208508839</td><td>359.9355513614736</td><td>0.023506327753215366</td><td>22.883896504489698</td><td>K11Uc1E</td><td>18.09</td><td>0.15</td><td>K2555</td><td>65.96611</td><td>125.73907</td><td>204.52407</td><td>13.88006</td><td>0.1853965</td><td>0.22360622</td><td>2.6883149</td><td>0</td><td>MPO893282</td><td>97.0</td><td>7.0</td><td>2010-2024</td><td>0.47</td><td>M-v</td><td>3Ek</td><td>MPCLINUX</td><td>0000</td><td>20241122</td></tr>\n",
       "<tr><td>2016 BK84</td><td>270.2729766259403</td><td>359.92832146895455</td><td>-0.022328641316682874</td><td>23.638583994023666</td><td>K16B84K</td><td>17.32</td><td>0.15</td><td>K2555</td><td>255.37314</td><td>140.798</td><td>15.97159</td><td>10.97567</td><td>0.172949</td><td>0.17929154</td><td>3.1147953</td><td>0</td><td>E2024-TN4</td><td>84.0</td><td>7.0</td><td>2010-2024</td><td>0.42</td><td>M-v</td><td>3Ek</td><td>MPCLINUX</td><td>0000</td><td>20241010</td></tr>\n",
       "<tr><td>(243996) 2001 RP149</td><td>302.24899998086346</td><td>0.03468578623390513</td><td>-0.07645817182783533</td><td>21.977731393251847</td><td>O3996</td><td>17.8</td><td>0.15</td><td>K2555</td><td>31.43209</td><td>190.53068</td><td>205.56806</td><td>1.35343</td><td>0.0988646</td><td>0.30001667</td><td>2.2098992</td><td>0</td><td>MPO889888</td><td>396.0</td><td>15.0</td><td>2000-2024</td><td>0.89</td><td>M-v</td><td>3Ek</td><td>MPCLINUX</td><td>0000</td><td>20241109</td></tr>\n",
       "<tr><td>(328594) 2009 SU69</td><td>326.9228844814677</td><td>0.04047974093849042</td><td>0.08129080574573799</td><td>22.51069623801466</td><td>W8594</td><td>16.75</td><td>0.15</td><td>K2555</td><td>178.62152</td><td>23.55454</td><td>199.3523</td><td>5.64506</td><td>0.0341326</td><td>0.19680507</td><td>2.9271515</td><td>0</td><td>E2024-TI9</td><td>223.0</td><td>13.0</td><td>1994-2024</td><td>0.99</td><td>M-v</td><td>3Ek</td><td>MPCLINUX</td><td>0000</td><td>20241006</td></tr>\n",
       "<tr><td>(192469) 1998 FF48</td><td>364.4560548639444</td><td>0.045094190751591455</td><td>-0.09063998230313255</td><td>21.195954694999276</td><td>J2469</td><td>15.66</td><td>0.15</td><td>K2555</td><td>207.7489</td><td>2.37492</td><td>199.18862</td><td>8.44388</td><td>0.1112137</td><td>0.24058623</td><td>2.5602883</td><td>0</td><td>E2025-BC9</td><td>880.0</td><td>18.0</td><td>1994-2025</td><td>0.79</td><td>M-v</td><td>3Ek</td><td>MPCLINUX</td><td>0000</td><td>20250124</td></tr>\n",
       "<tr><td>2020 SE100</td><td>368.2213767355501</td><td>0.006223493738215968</td><td>-0.10209420491061076</td><td>23.140906345759323</td><td>K20SA0E</td><td>18.59</td><td>0.15</td><td>K2555</td><td>37.22087</td><td>170.49025</td><td>203.82952</td><td>2.42053</td><td>0.1632445</td><td>0.23272611</td><td>2.6176162</td><td>0</td><td>E2024-TA7</td><td>49.0</td><td>4.0</td><td>2003-2024</td><td>0.38</td><td>M-v</td><td>3Ek</td><td>MPCLINUX</td><td>0000</td><td>20241004</td></tr>\n",
       "<tr><td>(572408) 2008 GD168</td><td>394.10565757630127</td><td>359.89062197241026</td><td>-0.004578059489983028</td><td>22.300205354650778</td><td>v2408</td><td>14.52</td><td>0.15</td><td>K2555</td><td>83.14212</td><td>274.6067</td><td>10.43473</td><td>5.36024</td><td>0.1147046</td><td>0.08322819</td><td>5.1954409</td><td>0</td><td>E2024-U66</td><td>109.0</td><td>9.0</td><td>2008-2024</td><td>0.98</td><td>M-v</td><td>3Ek</td><td>MPCLINUX</td><td>0009</td><td>20241023</td></tr>\n",
       "<tr><td>(167818) 2005 CH8</td><td>479.87000405465443</td><td>0.13303713743147835</td><td>-0.008322856537808272</td><td>21.779069200118897</td><td>G7818</td><td>16.15</td><td>0.15</td><td>K2555</td><td>155.50455</td><td>219.06687</td><td>21.24485</td><td>2.00217</td><td>0.1476283</td><td>0.22873664</td><td>2.6479649</td><td>0</td><td>E2025-B02</td><td>650.0</td><td>19.0</td><td>1971-2025</td><td>0.86</td><td>M-v</td><td>3Ek</td><td>MPCLINUX</td><td>0000</td><td>20250116</td></tr>\n",
       "<tr><td>(123177) 2000 TD66</td><td>501.88680344362643</td><td>0.02697937786657424</td><td>-0.13677755440255807</td><td>21.77721147859559</td><td>C3177</td><td>16.31</td><td>0.15</td><td>K2555</td><td>332.26177</td><td>53.61751</td><td>23.80473</td><td>2.18869</td><td>0.045633</td><td>0.20283618</td><td>2.8688363</td><td>0</td><td>E2025-B02</td><td>395.0</td><td>17.0</td><td>1996-2025</td><td>0.93</td><td>M-v</td><td>3Ek</td><td>MPCLINUX</td><td>0000</td><td>20250116</td></tr>\n",
       "<tr><td>2014 TA19</td><td>512.6801078905258</td><td>359.86227944474354</td><td>0.03624892128533017</td><td>23.080491147080792</td><td>K14T19A</td><td>17.65</td><td>0.15</td><td>K2555</td><td>29.10049</td><td>358.01092</td><td>16.08806</td><td>1.18333</td><td>0.0730638</td><td>0.19128549</td><td>2.9831931</td><td>1</td><td>MPO893503</td><td>65.0</td><td>6.0</td><td>2009-2024</td><td>0.49</td><td>M-v</td><td>3Ek</td><td>MPCLINUX</td><td>0000</td><td>20241204</td></tr>\n",
       "<tr><td>2019 SP145</td><td>518.6160587083641</td><td>359.93140851117585</td><td>-0.12668268873929658</td><td>23.313600727536528</td><td>K19SE5P</td><td>17.84</td><td>0.15</td><td>K2555</td><td>71.54598</td><td>126.65465</td><td>196.78813</td><td>1.55365</td><td>0.0971268</td><td>0.19205759</td><td>2.9751925</td><td>1</td><td>MPO894068</td><td>42.0</td><td>3.0</td><td>2017-2024</td><td>0.7</td><td>M-v</td><td>3Ek</td><td>MPCLINUX</td><td>0000</td><td>20241204</td></tr>\n",
       "<tr><td>2024 SO14</td><td>527.6296855604523</td><td>359.9842680754415</td><td>0.14571703746124898</td><td>23.02358424744523</td><td>K24S14O</td><td>17.27</td><td>0.15</td><td>K2555</td><td>55.74173</td><td>139.49595</td><td>199.57701</td><td>9.88502</td><td>0.075036</td><td>0.1718675</td><td>3.2038601</td><td>0</td><td>MPO872824</td><td>39.0</td><td>8.0</td><td>2007-2024</td><td>0.44</td><td>M-v</td><td>3Ek</td><td>MPCLINUX</td><td>0000</td><td>20241024</td></tr>\n",
       "<tr><td>(361919) 2008 GK103</td><td>540.4345248810323</td><td>359.87911463258234</td><td>0.08901103682197088</td><td>22.211024418202538</td><td>a1919</td><td>16.86</td><td>0.15</td><td>K2555</td><td>8.70382</td><td>19.86951</td><td>19.56714</td><td>5.86819</td><td>0.0317285</td><td>0.21105087</td><td>2.7939028</td><td>0</td><td>MPO890789</td><td>225.0</td><td>14.0</td><td>1999-2024</td><td>0.92</td><td>M-v</td><td>3Ek</td><td>MPCLINUX</td><td>0000</td><td>20241204</td></tr>\n",
       "<tr><td>(222437) 2001 QZ19</td><td>554.603940516459</td><td>359.8940818051939</td><td>-0.11186957458788112</td><td>20.762323469970326</td><td>M2437</td><td>16.52</td><td>0.15</td><td>K2555</td><td>46.46319</td><td>336.89055</td><td>30.11625</td><td>1.93058</td><td>0.1825252</td><td>0.25680916</td><td>2.4512957</td><td>0</td><td>E2025-BI6</td><td>751.0</td><td>15.0</td><td>2001-2024</td><td>0.85</td><td>M-v</td><td>3Ek</td><td>MPCLINUX</td><td>0000</td><td>20241214</td></tr>\n",
       "</table></div>"
      ],
      "text/plain": [
       "<Table length=14>\n",
       "   Unpacked Name        separation              ra          ... Flags last obs\n",
       "                          arcsec               deg          ...               \n",
       "       str19             float64             float64        ...  str4   str8  \n",
       "------------------- ------------------ -------------------- ... ----- --------\n",
       "         2011 UE381  246.9656208508839    359.9355513614736 ...  0000 20241122\n",
       "          2016 BK84  270.2729766259403   359.92832146895455 ...  0000 20241010\n",
       "(243996) 2001 RP149 302.24899998086346  0.03468578623390513 ...  0000 20241109\n",
       " (328594) 2009 SU69  326.9228844814677  0.04047974093849042 ...  0000 20241006\n",
       " (192469) 1998 FF48  364.4560548639444 0.045094190751591455 ...  0000 20250124\n",
       "         2020 SE100  368.2213767355501 0.006223493738215968 ...  0000 20241004\n",
       "(572408) 2008 GD168 394.10565757630127   359.89062197241026 ...  0009 20241023\n",
       "  (167818) 2005 CH8 479.87000405465443  0.13303713743147835 ...  0000 20250116\n",
       " (123177) 2000 TD66 501.88680344362643  0.02697937786657424 ...  0000 20250116\n",
       "          2014 TA19  512.6801078905258   359.86227944474354 ...  0000 20241204\n",
       "         2019 SP145  518.6160587083641   359.93140851117585 ...  0000 20241204\n",
       "          2024 SO14  527.6296855604523    359.9842680754415 ...  0000 20241024\n",
       "(361919) 2008 GK103  540.4345248810323   359.87911463258234 ...  0000 20241204\n",
       " (222437) 2001 QZ19   554.603940516459    359.8940818051939 ...  0000 20241214"
      ]
     },
     "execution_count": 3,
     "metadata": {},
     "output_type": "execute_result"
    }
   ],
   "source": [
    "mpchecker(\n",
    "    coordinate=SkyCoord(ra=0 * u.deg, dec=0 * u.deg),\n",
    "    time=Time(\"2025-01-01\"),\n",
    "    radius=10 * u.arcmin,\n",
    "    extra_precision=True,\n",
    "    observer=\"palomar\",\n",
    ")"
   ]
  },
  {
   "cell_type": "markdown",
   "metadata": {},
   "source": [
    "This will take longer, but should remedy the above issues. Under the hood, this first runs the approximate version to flag which objects were in the field of view, then runs a fresh N-body integration for each on that fully accounts for the observer's location and relativistic effects. The final coordinates should agree to ~1 mas with horizons for times 2010-2030. \n",
    "\n",
    "As a plus, we now also can add an extra column, \"est. Vmag\": since we now know the true distance to the object and its phase angle, we might as well convert its absolute magnitude into an estimated V-band magnitude.\n",
    "\n",
    "Note though that if any of our above assumptions were egregiously wrong and a particle wasn't flagged, we'll still be out of luck. Also note that this now requires a connection to the internet to request the locations of the observer from Horizons (though the initial positions of the objects are still cached locally)."
   ]
  }
 ],
 "metadata": {
  "kernelspec": {
   "display_name": "jorbit",
   "language": "python",
   "name": "jorbit"
  },
  "language_info": {
   "codemirror_mode": {
    "name": "ipython",
    "version": 3
   },
   "file_extension": ".py",
   "mimetype": "text/x-python",
   "name": "python",
   "nbconvert_exporter": "python",
   "pygments_lexer": "ipython3",
   "version": "3.13.2"
  }
 },
 "nbformat": 4,
 "nbformat_minor": 2
}
