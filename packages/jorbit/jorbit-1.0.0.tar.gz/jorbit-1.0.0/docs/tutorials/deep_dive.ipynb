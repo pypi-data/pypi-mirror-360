{
 "cells": [
  {
   "cell_type": "markdown",
   "metadata": {},
   "source": [
    "# Deep Dive"
   ]
  },
  {
   "cell_type": "markdown",
   "metadata": {},
   "source": [
    "The `Particle` and `System` classes are convenient for simple simulations, but they are built on top of much more flexible individual functions. Here's we'll demonstrate how some of them come together to move our particles around."
   ]
  },
  {
   "cell_type": "code",
   "execution_count": 1,
   "metadata": {},
   "outputs": [],
   "source": [
    "import jax\n",
    "jax.config.update(\"jax_enable_x64\", True)\n",
    "import jax.numpy as jnp\n",
    "\n",
    "from astropy.time import Time\n",
    "\n",
    "from jorbit.accelerations import create_newtonian_ephemeris_acceleration_func\n",
    "from jorbit.accelerations.newtonian import newtonian_gravity\n",
    "from jorbit.accelerations.gr import ppn_gravity\n",
    "from jorbit.ephemeris import Ephemeris\n",
    "from jorbit.integrators.ias15 import ias15_evolve, initialize_ias15_integrator_state\n",
    "from jorbit.utils.states import SystemState, IAS15IntegratorState\n"
   ]
  },
  {
   "cell_type": "markdown",
   "metadata": {},
   "source": [
    "Here's a simple situation involving a handful of small particles and a few massive ones. I guarantee the system will drift since we're not in the center of mass frame, and it's likely that some of these particles are unbounded. But for our purposes, we're just going to let them go and see what happens."
   ]
  },
  {
   "cell_type": "code",
   "execution_count": 2,
   "metadata": {},
   "outputs": [],
   "source": [
    "n_tracer_particles = 10\n",
    "n_massive_particles = 3\n",
    "\n",
    "# the underlying state representation behind Particle and System\n",
    "s = SystemState(\n",
    "    tracer_positions=jax.random.uniform(jax.random.PRNGKey(0), (n_tracer_particles, 3))*10,\n",
    "    tracer_velocities=jax.random.uniform(jax.random.PRNGKey(1), (n_tracer_particles, 3)),\n",
    "    massive_positions=jax.random.uniform(jax.random.PRNGKey(2), (n_massive_particles, 3))*10,\n",
    "    massive_velocities=jax.random.uniform(jax.random.PRNGKey(3), (n_massive_particles, 3)),\n",
    "    log_gms=jnp.log(jax.random.uniform(jax.random.PRNGKey(3), (n_massive_particles,))*1e-3),\n",
    "    acceleration_func_kwargs={},\n",
    "    time=0.0\n",
    ")\n",
    "\n",
    "# ias15_evolve requires any jax partialized function that takes in a SystemState and\n",
    "# returns a vector of accelerations of the same shape as the positions, ordered by\n",
    "# massive particles first. This function can be time-dependent and/or include\n",
    "# time-dependent parameters: that's why we include acceleration_func_kwargs and time\n",
    "# in the SystemState. In the usual solar system integration case, we use the time\n",
    "# attribute to compute the positions of the perturbing planets/asteriods at the timestep\n",
    "# in question\n",
    "acceleration_func = jax.tree_util.Partial(newtonian_gravity)\n",
    "\n",
    "# we need to initialize the integrator with the starting acceleration values\n",
    "a0 = acceleration_func(s)\n",
    "init_integrator = initialize_ias15_integrator_state(a0=a0)\n",
    "\n",
    "# now we run it\n",
    "positions, velocities, final_system_state, final_integrator_state = ias15_evolve(\n",
    "    initial_system_state=s,\n",
    "    times=jnp.linspace(0, 10, 10), # actual end times--not timesteps. it picks the timesteps\n",
    "    acceleration_func=acceleration_func,\n",
    "    initial_integrator_state=init_integrator,\n",
    ")"
   ]
  },
  {
   "cell_type": "markdown",
   "metadata": {},
   "source": [
    "Right now, the `newtonian_acceleration` function is the only built-in that's optimized for large systems. It splits the massless tracer particles from the massive ones to avoid unnecessary pairwise calculations, which lets us evaluate the accelerations of much larger systems without a problem. However actually *integrating* those accelerations is still slower than ideal, so keep your systems small for now"
   ]
  },
  {
   "cell_type": "code",
   "execution_count": 3,
   "metadata": {},
   "outputs": [
    {
     "name": "stdout",
     "output_type": "stream",
     "text": [
      "10.2 ms ± 286 μs per loop (mean ± std. dev. of 7 runs, 100 loops each)\n"
     ]
    }
   ],
   "source": [
    "# same as before, but now way more tracer particles\n",
    "\n",
    "n_tracer_particles = int(1e6)\n",
    "n_massive_particles = 3\n",
    "\n",
    "s = SystemState(\n",
    "    tracer_positions=jax.random.uniform(jax.random.PRNGKey(0), (n_tracer_particles, 3))*10,\n",
    "    tracer_velocities=jax.random.uniform(jax.random.PRNGKey(1), (n_tracer_particles, 3)),\n",
    "    massive_positions=jax.random.uniform(jax.random.PRNGKey(2), (n_massive_particles, 3))*10,\n",
    "    massive_velocities=jax.random.uniform(jax.random.PRNGKey(3), (n_massive_particles, 3)),\n",
    "    log_gms=jnp.log(jax.random.uniform(jax.random.PRNGKey(3), (n_massive_particles,))*1e-3),\n",
    "    acceleration_func_kwargs={},\n",
    "    time=0.0\n",
    ")\n",
    "\n",
    "acceleration_func = jax.tree_util.Partial(newtonian_gravity)\n",
    "\n",
    "a0 = acceleration_func(s) # run it once to compile\n",
    "\n",
    "%timeit acceleration_func(s).block_until_ready()"
   ]
  },
  {
   "cell_type": "markdown",
   "metadata": {},
   "source": [
    "When we're within the solar system, instead of using these vanilla gravitational acceleration functions, we instead use ones that take into account the perturbations of all the planets as set by the DE440 ephemeris. This happens automatically in the `Particle` and `System` classes, but here we'll do it manually.\n",
    "\n",
    "First, let's create an `Ephemeris` object that can extract data from our local copy of the DE440 ephemeris:"
   ]
  },
  {
   "cell_type": "code",
   "execution_count": 4,
   "metadata": {},
   "outputs": [],
   "source": [
    "eph = Ephemeris(\n",
    "    ssos=\"default planets\",\n",
    "    earliest_time=Time(\"1980-01-01\"),\n",
    "    latest_time=Time(\"2050-01-01\"),\n",
    ")"
   ]
  },
  {
   "cell_type": "markdown",
   "metadata": {},
   "source": [
    "This creates the nicely-facing public object that can serve up the positions and velocities of the planets at any time:"
   ]
  },
  {
   "cell_type": "code",
   "execution_count": 5,
   "metadata": {},
   "outputs": [
    {
     "data": {
      "text/plain": [
       "{'sun': {'x': <Quantity [-0.00713986, -0.00264396, -0.00092139] AU>,\n",
       "  'v': <Quantity [ 5.37426823e-06, -6.76193952e-06, -3.03437408e-06] AU / d>,\n",
       "  'log_gm': Array(-8.12544774, dtype=float64, weak_type=True)},\n",
       " 'mercury': {'x': <Quantity [-0.14785222, -0.40063289, -0.198918  ] AU>,\n",
       "  'v': <Quantity [ 0.02117455, -0.00551464, -0.00514067] AU / d>,\n",
       "  'log_gm': Array(-23.73665301, dtype=float64, weak_type=True)},\n",
       " 'venus': {'x': <Quantity [-0.7257697 , -0.03968176,  0.02789532] AU>,\n",
       "  'v': <Quantity [ 0.00051933, -0.01851507, -0.0083622 ] AU / d>,\n",
       "  'log_gm': Array(-21.045753, dtype=float64, weak_type=True)},\n",
       " 'earth': {'x': <Quantity [-0.17567731,  0.88619693,  0.3844338 ] AU>,\n",
       "  'v': <Quantity [-0.01722853, -0.00276646, -0.00119947] AU / d>,\n",
       "  'log_gm': Array(-20.84118348, dtype=float64, weak_type=True)},\n",
       " 'moon': {'x': <Quantity [-0.17780043,  0.88461595,  0.3840147 ] AU>,\n",
       "  'v': <Quantity [-0.01690458, -0.0031899 , -0.0013841 ] AU / d>,\n",
       "  'log_gm': Array(-25.23933649, dtype=float64, weak_type=True)},\n",
       " 'mars': {'x': <Quantity [ 1.38322176, -0.00813949, -0.0410353 ] AU>,\n",
       "  'v': <Quantity [0.00075319, 0.01380716, 0.00631275] AU / d>,\n",
       "  'log_gm': Array(-23.07194211, dtype=float64, weak_type=True)},\n",
       " 'jupiter': {'x': <Quantity [3.99631685, 2.73099757, 1.07327637] AU>,\n",
       "  'v': <Quantity [-0.00455811,  0.005878  ,  0.00263057] AU / d>,\n",
       "  'log_gm': Array(-15.07946488, dtype=float64, weak_type=True)},\n",
       " 'saturn': {'x': <Quantity [6.40141168, 6.17025198, 2.27302953] AU>,\n",
       "  'v': <Quantity [-0.00428575,  0.00352277,  0.00163933] AU / d>,\n",
       "  'log_gm': Array(-16.28536632, dtype=float64, weak_type=True)},\n",
       " 'uranus': {'x': <Quantity [ 14.42337962, -12.51013934,  -5.68313086] AU>,\n",
       "  'v': <Quantity [0.00268375, 0.00245501, 0.00103727] AU / d>,\n",
       "  'log_gm': Array(-18.16446878, dtype=float64, weak_type=True)},\n",
       " 'neptune': {'x': <Quantity [ 16.80361936, -22.98357741,  -9.82565798] AU>,\n",
       "  'v': <Quantity [0.00258474, 0.00166154, 0.00061573] AU / d>,\n",
       "  'log_gm': Array(-17.99910783, dtype=float64, weak_type=True)},\n",
       " 'pluto': {'x': <Quantity [ -9.88400421, -27.98094909,  -5.75398118] AU>,\n",
       "  'v': <Quantity [ 0.00303408, -0.0011345 , -0.00126819] AU / d>,\n",
       "  'log_gm': Array(-26.8539481, dtype=float64, weak_type=True)}}"
      ]
     },
     "execution_count": 5,
     "metadata": {},
     "output_type": "execute_result"
    }
   ],
   "source": [
    "eph.state(Time(\"2000-01-01\"))"
   ]
  },
  {
   "cell_type": "markdown",
   "metadata": {},
   "source": [
    "But, it also contains a pytree-compatible JAX class with the same functionality called an EphemerisProcessor:"
   ]
  },
  {
   "cell_type": "code",
   "execution_count": 6,
   "metadata": {},
   "outputs": [
    {
     "data": {
      "text/plain": [
       "(Array([[-7.13986335e-03, -2.64396337e-03, -9.21394198e-04],\n",
       "        [-1.47852217e-01, -4.00632892e-01, -1.98918003e-01],\n",
       "        [-7.25769699e-01, -3.96817640e-02,  2.78953240e-02],\n",
       "        [-1.75677314e-01,  8.86196930e-01,  3.84433804e-01],\n",
       "        [-1.77800434e-01,  8.84615947e-01,  3.84014702e-01],\n",
       "        [ 1.38322176e+00, -8.13948942e-03, -4.10352972e-02],\n",
       "        [ 3.99631685e+00,  2.73099757e+00,  1.07327637e+00],\n",
       "        [ 6.40141168e+00,  6.17025198e+00,  2.27302953e+00],\n",
       "        [ 1.44233796e+01, -1.25101393e+01, -5.68313086e+00],\n",
       "        [ 1.68036194e+01, -2.29835774e+01, -9.82565798e+00],\n",
       "        [-9.88400421e+00, -2.79809491e+01, -5.75398118e+00]],      dtype=float64),\n",
       " Array([[ 5.37426823e-06, -6.76193952e-06, -3.03437408e-06],\n",
       "        [ 2.11745508e-02, -5.51463941e-03, -5.14066968e-03],\n",
       "        [ 5.19329969e-04, -1.85150738e-02, -8.36219771e-03],\n",
       "        [-1.72285335e-02, -2.76645660e-03, -1.19946950e-03],\n",
       "        [-1.69045775e-02, -3.18990180e-03, -1.38409671e-03],\n",
       "        [ 7.53187821e-04,  1.38071602e-02,  6.31274981e-03],\n",
       "        [-4.55810624e-03,  5.87800299e-03,  2.63056670e-03],\n",
       "        [-4.28574727e-03,  3.52276973e-03,  1.63933448e-03],\n",
       "        [ 2.68375383e-03,  2.45501219e-03,  1.03727032e-03],\n",
       "        [ 2.58474369e-03,  1.66154265e-03,  6.15729144e-04],\n",
       "        [ 3.03407638e-03, -1.13450133e-03, -1.26819304e-03]],      dtype=float64))"
      ]
     },
     "execution_count": 6,
     "metadata": {},
     "output_type": "execute_result"
    }
   ],
   "source": [
    "eph.processor.state(Time(\"2000-01-01\").tdb.jd)"
   ]
  },
  {
   "cell_type": "markdown",
   "metadata": {},
   "source": [
    "We can use this `EphemerisProcessor` to build an acceleration function:"
   ]
  },
  {
   "cell_type": "code",
   "execution_count": 7,
   "metadata": {},
   "outputs": [],
   "source": [
    "def func(inputs: SystemState) -> jnp.ndarray:\n",
    "    perturber_xs, perturber_vs = ephem_processor.state(inputs.time)\n",
    "    perturber_log_gms = ephem_processor.log_gms\n",
    "\n",
    "    new_state = SystemState(\n",
    "        massive_positions=jnp.concatenate([perturber_xs, inputs.massive_positions]),\n",
    "        massive_velocities=jnp.concatenate(\n",
    "            [perturber_vs, inputs.massive_velocities]\n",
    "        ),\n",
    "        tracer_positions=inputs.tracer_positions,\n",
    "        tracer_velocities=inputs.tracer_velocities,\n",
    "        log_gms=jnp.concatenate([perturber_log_gms, inputs.log_gms]),\n",
    "        time=inputs.time,\n",
    "        acceleration_func_kwargs=inputs.acceleration_func_kwargs,\n",
    "    )\n",
    "\n",
    "    accs = newtonian_gravity(new_state)\n",
    "\n",
    "    num_perturbers = perturber_xs.shape[0]\n",
    "    return accs[num_perturbers:]\n",
    "\n",
    "acceleration_func = jax.tree_util.Partial(func)"
   ]
  },
  {
   "cell_type": "markdown",
   "metadata": {},
   "source": [
    "This can now be used in with `ias15_evolve` just like the simpler `newtonian_gravity` function: now whenever we ask for the acceleration of a `SystemState` of particles, it'll compute the positions and velocities of the perturbing planets at that time, tack them onto the SystemState, compute self-consistent accelerations for everything, then cleave off the perturbers again at the end."
   ]
  }
 ],
 "metadata": {
  "kernelspec": {
   "display_name": "jorbit",
   "language": "python",
   "name": "jorbit"
  },
  "language_info": {
   "codemirror_mode": {
    "name": "ipython",
    "version": 3
   },
   "file_extension": ".py",
   "mimetype": "text/x-python",
   "name": "python",
   "nbconvert_exporter": "python",
   "pygments_lexer": "ipython3",
   "version": "3.13.2"
  }
 },
 "nbformat": 4,
 "nbformat_minor": 2
}
