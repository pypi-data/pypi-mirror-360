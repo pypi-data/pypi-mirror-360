{
 "cells": [
  {
   "cell_type": "code",
   "execution_count": null,
   "metadata": {},
   "outputs": [
    {
     "name": "stdout",
     "output_type": "stream",
     "text": [
      "55.3 μs ± 1.89 μs per loop (mean ± std. dev. of 7 runs, 10,000 loops each)\n"
     ]
    }
   ],
   "source": [
    "from astropy.time import Time\n",
    "\n",
    "from jorbit import Ephemeris\n",
    "\n",
    "eph = Ephemeris(\n",
    "    ssos=\"default planets\",\n",
    "    earliest_time=Time(\"1980-01-01\"),\n",
    "    latest_time=Time(\"2050-01-01\"),\n",
    ")\n",
    "\n",
    "t = Time(\"2025-01-01\").tdb.jd\n",
    "_ = eph.processor.state(t)\n",
    "\n",
    "%timeit eph.processor.state(t)[0].block_until_ready()"
   ]
  },
  {
   "cell_type": "code",
   "execution_count": null,
   "metadata": {},
   "outputs": [
    {
     "name": "stdout",
     "output_type": "stream",
     "text": [
      "610 μs ± 11 μs per loop (mean ± std. dev. of 7 runs, 1,000 loops each)\n"
     ]
    }
   ],
   "source": [
    "import jax\n",
    "\n",
    "jax.config.update(\"jax_enable_x64\", True)\n",
    "import jax.numpy as jnp\n",
    "from astropy.time import Time\n",
    "\n",
    "from jorbit import Ephemeris\n",
    "\n",
    "eph = Ephemeris(\n",
    "    ssos=\"default planets\",\n",
    "    earliest_time=Time(\"1980-01-01\"),\n",
    "    latest_time=Time(\"2050-01-01\"),\n",
    ")\n",
    "\n",
    "t = Time(\"2025-01-01\").tdb.jd + jnp.linspace(0, 100, 100)\n",
    "_ = jax.vmap(eph.processor.state)(t)\n",
    "\n",
    "%timeit jax.vmap(eph.processor.state)(t)[0].block_until_ready()"
   ]
  },
  {
   "cell_type": "code",
   "execution_count": null,
   "metadata": {},
   "outputs": [],
   "source": []
  }
 ],
 "metadata": {
  "kernelspec": {
   "display_name": "jorbit",
   "language": "python",
   "name": "python3"
  },
  "language_info": {
   "codemirror_mode": {
    "name": "ipython",
    "version": 3
   },
   "file_extension": ".py",
   "mimetype": "text/x-python",
   "name": "python",
   "nbconvert_exporter": "python",
   "pygments_lexer": "ipython3",
   "version": "3.13.0"
  }
 },
 "nbformat": 4,
 "nbformat_minor": 2
}
