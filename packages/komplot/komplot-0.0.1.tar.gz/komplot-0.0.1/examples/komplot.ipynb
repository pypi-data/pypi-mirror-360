{
 "cells": [
  {
   "cell_type": "markdown",
   "metadata": {},
   "source": [
    "KomPlot Usage Examples\n",
    "======================\n",
    "\n",
    "This example demonstrates the use of the main [komplot](https://github.com/bwohlberg/komplot) plotting functions."
   ]
  },
  {
   "cell_type": "code",
   "execution_count": null,
   "metadata": {},
   "outputs": [],
   "source": [
    "# Configure environment when running in google colab\n",
    "try:\n",
    "    from google.colab import output\n",
    "    import os\n",
    "    os.environ[\"MPLBACKEND\"] = \"notebook\"  # workaround for install failure of unknown origin\n",
    "    os.environ[\"MATPLOTLIB_IPYNB_BACKEND\"] = \"inline\"  # ipympl broken on colab ( see googlecolab/colabtools#5425 )\n",
    "    %pip install \"komplot[examples] @ git+https://github.com/bwohlberg/komplot\"\n",
    "except ImportError:\n",
    "    pass"
   ]
  },
  {
   "cell_type": "code",
   "execution_count": null,
   "metadata": {
    "collapsed": false,
    "jupyter": {
     "outputs_hidden": false
    }
   },
   "outputs": [],
   "source": [
    "import numpy as np\n",
    "from imageio.v3 import imread\n",
    "\n",
    "import komplot as kplt\n",
    "kplt.config_notebook_plotting()  # Configure Jupyter notebook plotting\n",
    "kplt.rcParams['figure.max_open_warning'] = 0  # Suppress too many open figures warning"
   ]
  },
  {
   "cell_type": "markdown",
   "metadata": {},
   "source": [
    "## Two-Dimensional Plots"
   ]
  },
  {
   "cell_type": "markdown",
   "metadata": {},
   "source": [
    "Define an `x` array and three 1-d functions of it."
   ]
  },
  {
   "cell_type": "code",
   "execution_count": null,
   "metadata": {
    "collapsed": false,
    "jupyter": {
     "outputs_hidden": false
    }
   },
   "outputs": [],
   "source": [
    "x = np.linspace(-1, 1, 101)\n",
    "y1 = np.abs(x)\n",
    "y2 = np.abs(x)**1.5\n",
    "y3 = x**2"
   ]
  },
  {
   "cell_type": "markdown",
   "metadata": {},
   "source": [
    "Plot the three functions on the same axes. Note the use of the function `plot_`, which is a variant of `plot` that\n",
    "discards its return value to avoid cluttering the following output cell. All of the main `komplot` plotting functions\n",
    "have corresponding return-value-discarding variants. The same effect can be achieved by using the primary plotting\n",
    "function call, followed by a semi-colon, as in some of the following examples."
   ]
  },
  {
   "cell_type": "code",
   "execution_count": null,
   "metadata": {
    "collapsed": false,
    "jupyter": {
     "outputs_hidden": false
    }
   },
   "outputs": [],
   "source": [
    "kplt.plot_(x, np.stack((y1, y2, y3)).T, xlabel='x', ylabel='y', title='Plot Example',\n",
    "           legend=('$|x|$', '$|x|^{(3/2)}$', '$x^2$'), legend_loc='upper center')"
   ]
  },
  {
   "cell_type": "markdown",
   "metadata": {},
   "source": [
    "We can also create a plot and then add to it. In this case we need to create the figure object separately and pass it as argument to the [komplot.plot](http://komplot.rtfd.org/en/latest/_autosummary/komplot.html#komplot.plot) function so that it doesn't automatically call `fig.show` after the first plot call."
   ]
  },
  {
   "cell_type": "code",
   "execution_count": null,
   "metadata": {
    "collapsed": false,
    "jupyter": {
     "outputs_hidden": false
    }
   },
   "outputs": [],
   "source": [
    "fig, ax = kplt.subplots()\n",
    "kplt.plot(x, np.stack((y1, y2, y3)).T, xlabel='x', ylabel='y', title='Plot Example',\n",
    "           legend=('$|x|$', '$|x|^{(3/2)}$', '$x^2$'), legend_loc='upper center', ax=ax);\n",
    "kplt.plot(x[::5], y1[::5], lw=0, ms=8.0, marker='o', ax=ax);\n",
    "fig.show()"
   ]
  },
  {
   "cell_type": "markdown",
   "metadata": {},
   "source": [
    "## Surface and Contour Plots"
   ]
  },
  {
   "cell_type": "markdown",
   "metadata": {},
   "source": [
    "Define `x` and `y` arrays and a 2-d surface on `x`, `y`."
   ]
  },
  {
   "cell_type": "code",
   "execution_count": null,
   "metadata": {
    "collapsed": false,
    "jupyter": {
     "outputs_hidden": false
    }
   },
   "outputs": [],
   "source": [
    "x = np.linspace(0, 2, 50)[np.newaxis, :]\n",
    "y = np.linspace(-1, 1, 51)[:, np.newaxis]\n",
    "z = np.sin(y) * np.cos(2*x*y)"
   ]
  },
  {
   "cell_type": "markdown",
   "metadata": {},
   "source": [
    "Plot a surface plot of the surface, including contour lines at the bottom of the `z` axis."
   ]
  },
  {
   "cell_type": "code",
   "execution_count": null,
   "metadata": {
    "collapsed": false,
    "jupyter": {
     "outputs_hidden": false
    }
   },
   "outputs": [],
   "source": [
    "kplt.surface(z, x, y, elev=25, azim=-25, xlabel='x', ylabel='y', zlabel='z',\n",
    "             title='Surface Plot Example', levels=5, figsize=(7, 6));"
   ]
  },
  {
   "cell_type": "markdown",
   "metadata": {},
   "source": [
    "Plot a contour plot of the same surface."
   ]
  },
  {
   "cell_type": "code",
   "execution_count": null,
   "metadata": {
    "collapsed": false,
    "jupyter": {
     "outputs_hidden": false
    }
   },
   "outputs": [],
   "source": [
    "kplt.contour(z, x, y, xlabel='x', ylabel='y', title='Contour Plot Example', figsize=(6, 5));"
   ]
  },
  {
   "cell_type": "markdown",
   "metadata": {},
   "source": [
    "We can also plot within subplots of the same figure."
   ]
  },
  {
   "cell_type": "code",
   "execution_count": null,
   "metadata": {
    "collapsed": false,
    "jupyter": {
     "outputs_hidden": false
    },
    "scrolled": false
   },
   "outputs": [],
   "source": [
    "fig, ax = kplt.subplots(nrows=1, ncols=2, figsize=(10.0, 4.5))\n",
    "fig.suptitle('Figure Title', fontsize=14)\n",
    "kplt.surface(z, x, y, xlabel='x', ylabel='y', zlabel='z', title='Surface Plot Example',\n",
    "             ax=ax[0]);\n",
    "kplt.contour(z, x, y, xlabel='x', ylabel='y', title='Contour Plot Example', ax=ax[1]);\n",
    "fig.tight_layout()\n",
    "fig.subplots_adjust(wspace=0.4)\n",
    "fig.show()"
   ]
  },
  {
   "cell_type": "markdown",
   "metadata": {},
   "source": [
    "## Image Display"
   ]
  },
  {
   "cell_type": "markdown",
   "metadata": {},
   "source": [
    "Load an example colour image and create a corresponding grayscale version."
   ]
  },
  {
   "cell_type": "code",
   "execution_count": null,
   "metadata": {
    "collapsed": false,
    "jupyter": {
     "outputs_hidden": false
    }
   },
   "outputs": [],
   "source": [
    "img = imread(\"imageio:camera.png\")\n",
    "imc = imread(\"imageio:immunohistochemistry.png\")"
   ]
  },
  {
   "cell_type": "markdown",
   "metadata": {},
   "source": [
    "Display the example colour image."
   ]
  },
  {
   "cell_type": "code",
   "execution_count": null,
   "metadata": {
    "collapsed": false,
    "jupyter": {
     "outputs_hidden": false
    }
   },
   "outputs": [],
   "source": [
    "kplt.imview_(imc, title='Image View Example', figsize=(6, 6))"
   ]
  },
  {
   "cell_type": "markdown",
   "metadata": {},
   "source": [
    "Display the grayscale image with a false-colour colour map, with a\n",
    "colour bar display of the color map."
   ]
  },
  {
   "cell_type": "code",
   "execution_count": null,
   "metadata": {
    "collapsed": false,
    "jupyter": {
     "outputs_hidden": false
    }
   },
   "outputs": [],
   "source": [
    "kplt.imview(img, cmap=kplt.cm.coolwarm, title='Image View Example', show_cbar=True,\n",
    "            figsize=(7, 6));"
   ]
  },
  {
   "cell_type": "markdown",
   "metadata": {},
   "source": [
    "We can view both images as subplots within the same figure, but the colour bar on the second image changes its aspect ratio, which has the undesirable result of the two images being displayed with different sizes."
   ]
  },
  {
   "cell_type": "code",
   "execution_count": null,
   "metadata": {
    "collapsed": false,
    "jupyter": {
     "outputs_hidden": false
    }
   },
   "outputs": [],
   "source": [
    "fig, ax = kplt.subplots(nrows=1, ncols=2, figsize=(10, 5))\n",
    "fig.suptitle('Figure Title', fontsize=14)\n",
    "kplt.imview(imc, title='Colour Image', ax=ax[0]);\n",
    "kplt.imview(img, cmap=kplt.cm.coolwarm, title='Monochrome Image', show_cbar=True, ax=ax[1]);\n",
    "fig.show()"
   ]
  },
  {
   "cell_type": "markdown",
   "metadata": {},
   "source": [
    "One solution is to adjust the ratios of the widths of the two subplots. We can also share x and y axes so that a zoom in one image is replicated in the other (this is, of course, only possible in the interactive version of this demonstration script)."
   ]
  },
  {
   "cell_type": "code",
   "execution_count": null,
   "metadata": {
    "collapsed": false,
    "jupyter": {
     "outputs_hidden": false
    }
   },
   "outputs": [],
   "source": [
    "fig, ax = kplt.subplots(nrows=1, ncols=2, sharex=True, sharey=True,\n",
    "                        gridspec_kw={'width_ratios': [1, 1.07]}, figsize=(10, 4))\n",
    "fig.suptitle('Figure Title', fontsize=14)\n",
    "kplt.imview(imc, title='Colour Image', ax=ax[0]);\n",
    "kplt.imview(img, cmap=kplt.cm.coolwarm, title='Monochrome Image', show_cbar=True, ax=ax[1]);\n",
    "fig.show()"
   ]
  },
  {
   "cell_type": "markdown",
   "metadata": {},
   "source": [
    "An alternative solution is to add an invisible colorbar to the first image so that they have the same size. This can be achieved by setting `show_cbar=None` instead of `show_cbar=True`."
   ]
  },
  {
   "cell_type": "code",
   "execution_count": null,
   "metadata": {
    "collapsed": false,
    "jupyter": {
     "outputs_hidden": false
    }
   },
   "outputs": [],
   "source": [
    "fig, ax = kplt.subplots(nrows=1, ncols=2, sharex=True, sharey=True, figsize=(10, 4))\n",
    "fig.suptitle('Figure Title', fontsize=14)\n",
    "kplt.imview(imc, title='Colour Image', show_cbar=None, ax=ax[0]);\n",
    "kplt.imview(img, cmap=kplt.cm.coolwarm, title='Monochrome Image', show_cbar=True, ax=ax[1]);\n",
    "fig.show()"
   ]
  },
  {
   "cell_type": "markdown",
   "metadata": {},
   "source": [
    "## Volume Slice Display"
   ]
  },
  {
   "cell_type": "markdown",
   "metadata": {},
   "source": [
    "Load example volume."
   ]
  },
  {
   "cell_type": "code",
   "execution_count": null,
   "metadata": {},
   "outputs": [],
   "source": [
    "vol = imread(\"imageio:stent.npz\")"
   ]
  },
  {
   "cell_type": "markdown",
   "metadata": {},
   "source": [
    "Display slice of the volume."
   ]
  },
  {
   "cell_type": "code",
   "execution_count": null,
   "metadata": {},
   "outputs": [],
   "source": [
    "iv = kplt.volview(vol, slice_axis=0, vmin_quantile=1e-2, cmap=\"viridis\")\n",
    "iv.set_volume_slice(128)"
   ]
  },
  {
   "cell_type": "markdown",
   "metadata": {},
   "source": [
    "Display slice of the transposed volume with colorbar."
   ]
  },
  {
   "cell_type": "code",
   "execution_count": null,
   "metadata": {},
   "outputs": [],
   "source": [
    "iv = kplt.volview(vol.transpose((1, 2, 0)), slice_axis=0, cmap=\"viridis\", show_cbar=True)\n",
    "iv.set_volume_slice(110)"
   ]
  },
  {
   "cell_type": "markdown",
   "metadata": {},
   "source": [
    "Plot slices of two different axes as subplots of the same figure. This is only feasible because the  volume has the same dimensions on these two axes: plot axes should not be slice-shared across volume axes of different dimensions."
   ]
  },
  {
   "cell_type": "code",
   "execution_count": null,
   "metadata": {},
   "outputs": [],
   "source": [
    "fig, ax = kplt.subplots(nrows=1, ncols=2, sharex=True, sharey=True, figsize=(10, 8))\n",
    "kplt.volview(vol, slice_axis=2, title=\"Axis 0-1 slices\", vmin_quantile=1e-2, cmap=\"viridis\",\n",
    "             show_cbar=True, ax=ax[0]);\n",
    "kplt.volview(vol, slice_axis=1, title=\"Axis 0-2 slices\", vmin_quantile=1e-2, cmap=\"viridis\",\n",
    "             show_cbar=True, ax=ax[1]);\n",
    "fem = kplt.figure_event_manager(fig, error=True)\n",
    "fem.set_slice_share(ax)\n",
    "fem.set_cmap_share(ax)\n",
    "fem.get_axevman_for_axes(ax[0]).plot.set_volume_slice(100)\n",
    "fig.show()"
   ]
  }
 ],
 "metadata": {
  "kernelspec": {
   "display_name": "Python 3 (ipykernel)",
   "language": "python",
   "name": "python3"
  },
  "language_info": {
   "codemirror_mode": {
    "name": "ipython",
    "version": 3
   },
   "file_extension": ".py",
   "mimetype": "text/x-python",
   "name": "python",
   "nbconvert_exporter": "python",
   "pygments_lexer": "ipython3",
   "version": "3.13.2"
  }
 },
 "nbformat": 4,
 "nbformat_minor": 4
}
