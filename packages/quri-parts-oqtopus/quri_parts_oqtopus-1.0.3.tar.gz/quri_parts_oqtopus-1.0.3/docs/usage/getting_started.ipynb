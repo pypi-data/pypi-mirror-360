{
 "cells": [
  {
   "cell_type": "markdown",
   "id": "9c0a699a",
   "metadata": {},
   "source": [
    "<div class=\"admonition info\">\n",
    "    <p class=\"admonition-title\">Info</p>\n",
    "    <p>Click <a href=\"https://mybinder.org/v2/gh/oqtopus-team/quri-parts-oqtopus/HEAD?labpath=docs/usage/getting_started.ipynb\" target=\"_blank\">here</a> to run this notebook interactively on Binder.</p>\n",
    "</div>\n",
    "\n",
    "# Getting started\n",
    "\n",
    "Welcome to QURI Parts OQTOPUS!\n",
    "\n",
    "This page explains how to install QURI Parts OQTOPUS and use it with basic operations."
   ]
  },
  {
   "cell_type": "markdown",
   "id": "0396c2a7",
   "metadata": {},
   "source": [
    "# Sampling on OQTOPUS Cloud\n",
    "\n",
    "This section requires topics described in QURI Parts document ([Sampling simulation](https://quri-parts.qunasys.com/docs/tutorials/basics/sampler/)), so you need to read it before this section.\n",
    "\n",
    "In QURI Parts document ([Sampling simulation](https://quri-parts.qunasys.com/docs/tutorials/basics/sampler/)), it is described how to estimate expectation value of operators using sampling measurements on a quantum circuit simulator. Since QURI Parts is designed to be platform independent, you can execute almost the same code on a real quantum computer."
   ]
  },
  {
   "attachments": {},
   "cell_type": "markdown",
   "id": "f0ff7af6",
   "metadata": {},
   "source": [
    "## Prerequisite\n",
    "\n",
    "**QURI Parts OQTOPUS** is a library that allows QURI Parts users to run quantum computers using the User API of OQTOPUS Cloud.\n",
    "\n",
    "- **Provides a Backend for QURI Parts**: QURI Parts users can execute quantum programs on quantum computers in OQTOPUS Cloud using the backend provided by QURI Parts OQTOPUS.\n",
    "- **Utilizes the User API of OQTOPUS Cloud**: QURI Parts OQTOPUS executes quantum programs via the User API of OQTOPUS Cloud and handles communication with the cloud. This allows users to run quantum computers without having to be aware of the communication protocols of OQTOPUS Cloud.\n",
    "\n",
    "The User API of OQTOPUS Cloud is a REST interface, and post requests of jobs include OpenQASM 3 format quantum circuits.\n",
    "However, this API currently supports only a subset of OpenQASM 3, such as basic gates and measurements.\n",
    "\n",
    "In order to use OQTOPUS Cloud, you need to sign up for OQTOPUS Cloud. Please contact OQTOPUS Cloud operator for information on how to sign up. In this section, instead, we perform quantum circuits on the OQTOPUS Cloud.\n",
    "\n",
    "You can install `quri-parts-oqtopus` as follows:"
   ]
  },
  {
   "cell_type": "code",
   "execution_count": null,
   "id": "cdf46a7a",
   "metadata": {},
   "outputs": [],
   "source": [
    "!pip install quri-parts-oqtopus"
   ]
  },
  {
   "attachments": {},
   "cell_type": "markdown",
   "id": "b6f5ddab",
   "metadata": {},
   "source": [
    "## Prepare ``~/.oqtopus`` configuration file\n",
    "\n",
    "Create a configuration file in path ``~/.oqtopus``.\n",
    "Replace ``<base URL>`` and ``<API token>`` with your settings for OQTOPUS Cloud server and execute the following code:"
   ]
  },
  {
   "cell_type": "code",
   "execution_count": 1,
   "id": "f1d44aaa",
   "metadata": {},
   "outputs": [
    {
     "name": "stdout",
     "output_type": "stream",
     "text": [
      "Configuration saved.\n"
     ]
    }
   ],
   "source": [
    "from pathlib import Path\n",
    "\n",
    "config = \"\"\"[default]\n",
    "url=<base URL>\n",
    "api_token=<API token>\n",
    "\"\"\"\n",
    "Path(\"~/.oqtopus\").expanduser().write_text(config)\n",
    "print(\"Configuration saved.\")"
   ]
  },
  {
   "cell_type": "markdown",
   "id": "8aaa543b",
   "metadata": {},
   "source": [
    "## Prepare a circuit\n",
    "\n",
    "As a preparation, we create a circuit to be sampled:"
   ]
  },
  {
   "cell_type": "code",
   "execution_count": 2,
   "id": "89fd8970",
   "metadata": {},
   "outputs": [],
   "source": [
    "from quri_parts.circuit import QuantumCircuit\n",
    "\n",
    "circuit = QuantumCircuit(2)\n",
    "circuit.add_H_gate(0)\n",
    "circuit.add_CNOT_gate(0, 1)"
   ]
  },
  {
   "attachments": {},
   "cell_type": "markdown",
   "id": "ddbcded0",
   "metadata": {},
   "source": [
    "## OqtopusSamplingBackend\n",
    "\n",
    "In order to use a real device, you need to create a `OqtopusSamplingBackend` object. "
   ]
  },
  {
   "cell_type": "code",
   "execution_count": 3,
   "id": "c6e85888",
   "metadata": {},
   "outputs": [],
   "source": [
    "from quri_parts_oqtopus.backend import OqtopusSamplingBackend\n",
    "\n",
    "# Create a SamplingBackend with the device\n",
    "backend = OqtopusSamplingBackend()"
   ]
  },
  {
   "cell_type": "markdown",
   "id": "d552513b",
   "metadata": {},
   "source": [
    "The `OqtopusSamplingBackend` has `sample()` function, which returns a `OqtopusSamplingJob` object, and you can extract a result of the sampling job.\n",
    "Please replace `device_id` with the one used in your system."
   ]
  },
  {
   "cell_type": "code",
   "execution_count": 4,
   "id": "e0e34af0",
   "metadata": {},
   "outputs": [
    {
     "name": "stdout",
     "output_type": "stream",
     "text": [
      "Counter({0: 503, 3: 497})\n"
     ]
    }
   ],
   "source": [
    "job = backend.sample(\n",
    "    circuit,\n",
    "    device_id=\"Kawasaki\",\n",
    "    shots=1000,\n",
    ")\n",
    "\n",
    "result = job.result()\n",
    "print(result.counts)"
   ]
  },
  {
   "cell_type": "markdown",
   "id": "c92513e7",
   "metadata": {},
   "source": [
    "## Sampling with transpiler\n",
    "\n",
    "Specify information about the transpiler in the `transpiler_info` parameter of the sample function as a `dict`.\n",
    "Set the name of transpiler library in `transpiler_lib` and the options to pass to the transpiler in `transpiler_options`.\n",
    "\n",
    "For example, to apply Qiskit's transpiler with `optimization_level=2`, specify it as follows:"
   ]
  },
  {
   "cell_type": "code",
   "execution_count": 5,
   "id": "a51055a3",
   "metadata": {},
   "outputs": [
    {
     "name": "stdout",
     "output_type": "stream",
     "text": [
      "Counter({3: 502, 0: 498})\n"
     ]
    }
   ],
   "source": [
    "job = backend.sample(\n",
    "    circuit,\n",
    "    device_id=\"Kawasaki\",\n",
    "    shots=1000,\n",
    "    transpiler_info={\n",
    "        \"transpiler_lib\": \"qiskit\",\n",
    "        \"transpiler_options\": {\"optimization_level\": 2},\n",
    "    },\n",
    ")\n",
    "\n",
    "result = job.result()\n",
    "print(result.counts)"
   ]
  },
  {
   "cell_type": "markdown",
   "id": "6a75871c",
   "metadata": {},
   "source": [
    "To disable the transpiler, set `transpiler_lib` to `None`."
   ]
  },
  {
   "cell_type": "code",
   "execution_count": 6,
   "id": "083521e5",
   "metadata": {},
   "outputs": [
    {
     "name": "stdout",
     "output_type": "stream",
     "text": [
      "Counter({3: 512, 0: 488})\n"
     ]
    }
   ],
   "source": [
    "import math\n",
    "\n",
    "circuit = QuantumCircuit(2)\n",
    "circuit.add_RZ_gate(0, math.pi / 2)\n",
    "circuit.add_SqrtX_gate(0)\n",
    "circuit.add_RZ_gate(0, math.pi / 2)\n",
    "circuit.add_CNOT_gate(0, 1)\n",
    "\n",
    "job = backend.sample(\n",
    "    circuit,\n",
    "    device_id=\"Kawasaki\",\n",
    "    shots=1000,\n",
    "    transpiler_info={\n",
    "        \"transpiler_lib\": None,\n",
    "    },\n",
    ")\n",
    "\n",
    "result = job.result()\n",
    "print(result.counts)"
   ]
  },
  {
   "attachments": {},
   "cell_type": "markdown",
   "id": "99617015",
   "metadata": {},
   "source": [
    "## Sampler\n",
    "\n",
    "Instead of using the backend directly, you can create a `Sampler` from it.\n",
    "See the [document](https://quri-parts.qunasys.com/docs/tutorials/basics/sampler/) in QURI Parts document for more details."
   ]
  },
  {
   "cell_type": "markdown",
   "id": "adea03a2",
   "metadata": {},
   "source": [
    "# Estimation on OQTOPUS Cloud\n",
    "\n",
    "## OqtopusEstimationBackend\n",
    "\n",
    "In order to use a real device, you need to create a `OqtopusEstimationBackend` object. "
   ]
  },
  {
   "cell_type": "code",
   "execution_count": 7,
   "id": "8b386018",
   "metadata": {},
   "outputs": [],
   "source": [
    "from quri_parts_oqtopus.backend import OqtopusEstimationBackend\n",
    "\n",
    "# Create a OqtopusEstimationBackend with the device\n",
    "backend = OqtopusEstimationBackend()"
   ]
  },
  {
   "cell_type": "code",
   "execution_count": 8,
   "id": "482e65ac",
   "metadata": {},
   "outputs": [
    {
     "name": "stdout",
     "output_type": "stream",
     "text": [
      "2.0\n"
     ]
    }
   ],
   "source": [
    "from quri_parts.circuit import QuantumCircuit\n",
    "from quri_parts.core.operator import Operator, pauli_label\n",
    "\n",
    "circuit = QuantumCircuit(2)\n",
    "circuit.add_H_gate(0)\n",
    "circuit.add_CNOT_gate(0, 1)\n",
    "\n",
    "operator = Operator({\n",
    "    pauli_label(\"X0 X1\"): 1.0,\n",
    "    pauli_label(\"Z0 Z1\"): 1.0,\n",
    "})\n",
    "\n",
    "job = backend.estimate(\n",
    "    circuit,\n",
    "    operator=operator,\n",
    "    device_id=\"Kawasaki\",\n",
    "    shots=10000,\n",
    ")\n",
    "\n",
    "result = job.result()\n",
    "print(result.exp_value)"
   ]
  },
  {
   "cell_type": "markdown",
   "id": "be42f717",
   "metadata": {},
   "source": [
    "# QURI Parts OQTOPUS Examples\n",
    "\n",
    "If you would like to view more examples, please refer to the following URL.\n",
    "[https://github.com/oqtopus-team/quri-parts-oqtopus/tree/main/examples](https://github.com/oqtopus-team/quri-parts-oqtopus/tree/main/examples)"
   ]
  },
  {
   "cell_type": "markdown",
   "id": "1b779be0",
   "metadata": {},
   "source": []
  }
 ],
 "metadata": {
  "kernelspec": {
   "display_name": ".venv",
   "language": "python",
   "name": "python3"
  },
  "language_info": {
   "codemirror_mode": {
    "name": "ipython",
    "version": 3
   },
   "file_extension": ".py",
   "mimetype": "text/x-python",
   "name": "python",
   "nbconvert_exporter": "python",
   "pygments_lexer": "ipython3",
   "version": "3.10.15"
  }
 },
 "nbformat": 4,
 "nbformat_minor": 5
}
