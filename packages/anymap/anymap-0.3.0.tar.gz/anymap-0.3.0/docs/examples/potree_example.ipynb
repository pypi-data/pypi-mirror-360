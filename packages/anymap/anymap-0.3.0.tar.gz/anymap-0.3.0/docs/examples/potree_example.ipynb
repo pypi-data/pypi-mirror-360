{
 "cells": [
  {
   "cell_type": "markdown",
   "metadata": {},
   "source": [
    "# Potree Point Cloud Viewer Example\n",
    "\n",
    "This notebook demonstrates the capabilities of the anymap PotreeMap widget for creating interactive point cloud visualizations.\n",
    "\n",
    "## What is Potree?\n",
    "\n",
    "Potree is a free open-source WebGL based point cloud renderer for large point clouds. It's particularly useful for:\n",
    "- LiDAR data visualization\n",
    "- 3D scanning results\n",
    "- Large-scale point cloud datasets\n",
    "- Archaeological documentation\n",
    "- Building and infrastructure modeling\n",
    "\n",
    "## Setup\n",
    "\n",
    "First, import the PotreeMap widget from anymap:"
   ]
  },
  {
   "cell_type": "code",
   "execution_count": null,
   "metadata": {},
   "outputs": [],
   "source": [
    "import os\n",
    "from anymap import PotreeMap\n",
    "\n",
    "print(\"Potree backend loaded successfully!\")"
   ]
  },
  {
   "cell_type": "markdown",
   "metadata": {},
   "source": [
    "## Basic Point Cloud Viewer\n",
    "\n",
    "Create a basic Potree viewer. Note that you'll need a converted Potree point cloud dataset (with metadata.json) to load actual data:"
   ]
  },
  {
   "cell_type": "code",
   "execution_count": null,
   "metadata": {},
   "outputs": [],
   "source": [
    "# Create a basic Potree viewer\n",
    "viewer = PotreeMap(\n",
    "    width=\"100%\",\n",
    "    height=\"600px\",\n",
    "    background_color=\"#1a1a1a\",  # Dark background\n",
    "    point_size=1.5,\n",
    "    point_size_type=\"adaptive\",  # Adaptive point sizing\n",
    "    point_shape=\"square\",\n",
    "    camera_position=[0, 0, 50],\n",
    "    camera_target=[0, 0, 0],\n",
    "    fov=60,\n",
    "    edl_enabled=True,  # Eye Dome Lighting for better depth perception\n",
    "    show_grid=True,\n",
    "    grid_size=10,\n",
    "    grid_color=\"#444444\",\n",
    ")\n",
    "\n",
    "viewer"
   ]
  },
  {
   "cell_type": "markdown",
   "metadata": {},
   "source": [
    "## Loading Point Cloud Data\n",
    "\n",
    "To load actual point cloud data, you need a Potree-converted dataset. You can convert LAS/LAZ files using PotreeConverter:\n",
    "\n",
    "```bash\n",
    "# Example conversion command (not run in this notebook)\n",
    "PotreeConverter input.las -o output_directory --output-format LAZ\n",
    "```\n",
    "\n",
    "For demonstration purposes, here's how you would load a point cloud:"
   ]
  },
  {
   "cell_type": "code",
   "execution_count": null,
   "metadata": {},
   "outputs": [],
   "source": [
    "# Example of loading a point cloud (requires actual converted data)\n",
    "# Replace with the URL to your Potree-converted point cloud metadata.json\n",
    "# viewer.load_point_cloud(\n",
    "#     \"https://example.com/pointclouds/your_pointcloud/metadata.json\",\n",
    "#     \"My Point Cloud\"\n",
    "# )\n",
    "\n",
    "print(\"To load actual point cloud data, you need a Potree-converted dataset.\")\n",
    "print(\"Point the load_point_cloud method to your metadata.json file.\")"
   ]
  },
  {
   "cell_type": "markdown",
   "metadata": {},
   "source": [
    "## Point Rendering Settings\n",
    "\n",
    "Customize how points are rendered in the viewer:"
   ]
  },
  {
   "cell_type": "code",
   "execution_count": null,
   "metadata": {},
   "outputs": [],
   "source": [
    "# Adjust point size\n",
    "viewer.set_point_size(2.0)\n",
    "print(\"Point size set to 2.0\")\n",
    "\n",
    "# Change point size type\n",
    "viewer.set_point_size_type(\"fixed\")  # Options: \"fixed\", \"adaptive\", \"attenuation\"\n",
    "print(\"Point size type set to fixed\")\n",
    "\n",
    "# Change point shape\n",
    "viewer.set_point_shape(\"circle\")  # Options: \"square\", \"circle\"\n",
    "print(\"Point shape set to circle\")"
   ]
  },
  {
   "cell_type": "markdown",
   "metadata": {},
   "source": [
    "## Camera Controls\n",
    "\n",
    "Control the camera position and viewing angle:"
   ]
  },
  {
   "cell_type": "code",
   "execution_count": null,
   "metadata": {},
   "outputs": [],
   "source": [
    "# Set camera position and target\n",
    "viewer.set_camera_position(position=[20, 20, 30], target=[0, 0, 0])\n",
    "print(\"Camera position updated\")\n",
    "\n",
    "# Adjust field of view\n",
    "viewer.set_fov(75)\n",
    "print(\"Field of view set to 75 degrees\")\n",
    "\n",
    "# Set clipping distances\n",
    "viewer.set_clip_distances(near=0.1, far=1000)\n",
    "print(\"Clipping distances updated\")"
   ]
  },
  {
   "cell_type": "markdown",
   "metadata": {},
   "source": [
    "## Visual Enhancements\n",
    "\n",
    "Configure visual effects and enhancements:"
   ]
  },
  {
   "cell_type": "code",
   "execution_count": null,
   "metadata": {},
   "outputs": [],
   "source": [
    "# Configure Eye Dome Lighting (EDL) for better depth perception\n",
    "viewer.enable_edl(True)\n",
    "viewer.set_edl_settings(radius=1.5, strength=1.2)\n",
    "print(\"Eye Dome Lighting configured\")\n",
    "\n",
    "# Show coordinate grid\n",
    "viewer.show_coordinate_grid(show=True, size=20, color=\"#666666\")\n",
    "print(\"Coordinate grid enabled\")\n",
    "\n",
    "# Change background color\n",
    "viewer.set_background_color(\"#2a2a2a\")\n",
    "print(\"Background color changed\")"
   ]
  },
  {
   "cell_type": "markdown",
   "metadata": {},
   "source": [
    "## Quality Settings\n",
    "\n",
    "Adjust rendering quality for performance optimization:"
   ]
  },
  {
   "cell_type": "code",
   "execution_count": null,
   "metadata": {},
   "outputs": [],
   "source": [
    "# Set rendering quality\n",
    "viewer.set_quality(\"high\")  # Options: \"low\", \"medium\", \"high\"\n",
    "print(\"Rendering quality set to high\")\n",
    "\n",
    "# For large datasets, you might want to use \"medium\" or \"low\" for better performance"
   ]
  },
  {
   "cell_type": "markdown",
   "metadata": {},
   "source": [
    "## Multiple Point Clouds\n",
    "\n",
    "Load and manage multiple point cloud datasets:"
   ]
  },
  {
   "cell_type": "code",
   "execution_count": null,
   "metadata": {},
   "outputs": [],
   "source": [
    "# Example of loading multiple point clouds\n",
    "point_clouds = [\n",
    "    {\n",
    "        \"url\": \"https://example.com/pointclouds/scan1/metadata.json\",\n",
    "        \"name\": \"Building Scan\",\n",
    "    },\n",
    "    {\n",
    "        \"url\": \"https://example.com/pointclouds/scan2/metadata.json\",\n",
    "        \"name\": \"Terrain Scan\",\n",
    "    },\n",
    "]\n",
    "\n",
    "# viewer.load_multiple_point_clouds(point_clouds)\n",
    "print(\"Multiple point clouds can be loaded simultaneously\")"
   ]
  },
  {
   "cell_type": "markdown",
   "metadata": {},
   "source": [
    "## Point Cloud Filtering\n",
    "\n",
    "Filter points based on various criteria:"
   ]
  },
  {
   "cell_type": "code",
   "execution_count": null,
   "metadata": {},
   "outputs": [],
   "source": [
    "# Filter points by elevation\n",
    "viewer.filter_by_elevation(min_elevation=0, max_elevation=50)\n",
    "print(\"Elevation filter applied (0-50 units)\")\n",
    "\n",
    "# Filter by classification (LAS classification codes)\n",
    "# Common classifications: 1=Unclassified, 2=Ground, 3=Low Vegetation, 4=Medium Vegetation, 5=High Vegetation, 6=Building\n",
    "classifications = {\n",
    "    1: True,  # Show unclassified\n",
    "    2: True,  # Show ground\n",
    "    3: False,  # Hide low vegetation\n",
    "    4: False,  # Hide medium vegetation\n",
    "    5: False,  # Hide high vegetation\n",
    "    6: True,  # Show buildings\n",
    "}\n",
    "viewer.set_classification_visibility(classifications)\n",
    "print(\"Classification filter applied\")\n",
    "\n",
    "# Clear all filters\n",
    "# viewer.clear_filters()\n",
    "# print(\"All filters cleared\")"
   ]
  },
  {
   "cell_type": "markdown",
   "metadata": {},
   "source": [
    "## Measurement Tools\n",
    "\n",
    "Add measurement capabilities to the viewer:"
   ]
  },
  {
   "cell_type": "code",
   "execution_count": null,
   "metadata": {},
   "outputs": [],
   "source": [
    "# Add distance measurement tool\n",
    "viewer.add_measurement(\"distance\")\n",
    "print(\"Distance measurement tool added\")\n",
    "\n",
    "# Add area measurement tool\n",
    "viewer.add_measurement(\"area\")\n",
    "print(\"Area measurement tool added\")\n",
    "\n",
    "# Add volume measurement tool\n",
    "viewer.add_measurement(\"volume\")\n",
    "print(\"Volume measurement tool added\")\n",
    "\n",
    "# Clear all measurements\n",
    "# viewer.clear_measurements()\n",
    "# print(\"All measurements cleared\")"
   ]
  },
  {
   "cell_type": "markdown",
   "metadata": {},
   "source": [
    "## Utility Functions\n",
    "\n",
    "Demonstrate various utility functions:"
   ]
  },
  {
   "cell_type": "code",
   "execution_count": null,
   "metadata": {},
   "outputs": [],
   "source": [
    "# Fit point clouds to screen\n",
    "viewer.fit_to_screen()\n",
    "print(\"View fitted to point cloud bounds\")\n",
    "\n",
    "# Take a screenshot\n",
    "viewer.take_screenshot()\n",
    "print(\"Screenshot captured\")\n",
    "\n",
    "# Get current camera position\n",
    "camera_pos = viewer.get_camera_position()\n",
    "camera_target = viewer.get_camera_target()\n",
    "print(f\"Camera position: {camera_pos}\")\n",
    "print(f\"Camera target: {camera_target}\")"
   ]
  },
  {
   "cell_type": "markdown",
   "metadata": {},
   "source": [
    "## Multi-cell Rendering Test\n",
    "\n",
    "Test that the viewer works correctly when displayed in multiple cells:"
   ]
  },
  {
   "cell_type": "code",
   "execution_count": null,
   "metadata": {},
   "outputs": [],
   "source": [
    "# Display the same viewer instance again\n",
    "# This should maintain all the settings and state from above\n",
    "viewer"
   ]
  },
  {
   "cell_type": "code",
   "execution_count": null,
   "metadata": {},
   "outputs": [],
   "source": [
    "# Change settings while displayed in multiple cells\n",
    "viewer.set_background_color(\"#0a0a0a\")\n",
    "viewer.set_point_size(3.0)\n",
    "viewer.set_point_shape(\"square\")\n",
    "\n",
    "print(\"Settings changed! Updates should appear on all viewer instances above.\")"
   ]
  },
  {
   "cell_type": "markdown",
   "metadata": {},
   "source": [
    "## Creating a Second Viewer Instance\n",
    "\n",
    "Create a separate viewer to verify independence:"
   ]
  },
  {
   "cell_type": "code",
   "execution_count": null,
   "metadata": {},
   "outputs": [],
   "source": [
    "# Create a second, independent viewer with different settings\n",
    "viewer2 = PotreeMap(\n",
    "    width=\"100%\",\n",
    "    height=\"500px\",\n",
    "    background_color=\"#003366\",  # Blue background\n",
    "    point_size=1.0,\n",
    "    point_size_type=\"attenuation\",\n",
    "    point_shape=\"circle\",\n",
    "    camera_position=[10, 10, 20],\n",
    "    edl_enabled=False,\n",
    "    show_grid=False,\n",
    ")\n",
    "\n",
    "# Load different point cloud data (if available)\n",
    "# viewer2.load_point_cloud(\n",
    "#     \"https://example.com/pointclouds/another_scan/metadata.json\",\n",
    "#     \"Another Point Cloud\"\n",
    "# )\n",
    "\n",
    "viewer2"
   ]
  },
  {
   "cell_type": "markdown",
   "metadata": {},
   "source": [
    "## Cleanup\n",
    "\n",
    "Clear point clouds and reset viewers:"
   ]
  },
  {
   "cell_type": "code",
   "execution_count": null,
   "metadata": {},
   "outputs": [],
   "source": [
    "# Clear all point clouds from the first viewer\n",
    "viewer.clear_point_clouds()\n",
    "print(\"Point clouds cleared from first viewer\")\n",
    "\n",
    "# Clear measurements\n",
    "viewer.clear_measurements()\n",
    "print(\"Measurements cleared\")\n",
    "\n",
    "# Clear filters\n",
    "viewer.clear_filters()\n",
    "print(\"Filters cleared\")"
   ]
  },
  {
   "cell_type": "markdown",
   "metadata": {},
   "source": [
    "## Working with Real Data\n",
    "\n",
    "To work with real point cloud data in Potree:\n",
    "\n",
    "### 1. Convert your data\n",
    "Use PotreeConverter to convert LAS/LAZ files:\n",
    "```bash\n",
    "PotreeConverter input.las -o output_directory --output-format LAZ\n",
    "```\n",
    "\n",
    "### 2. Host the data\n",
    "Upload the converted point cloud directory to a web server that supports CORS.\n",
    "\n",
    "### 3. Load in the viewer\n",
    "```python\n",
    "viewer.load_point_cloud(\n",
    "    \"https://your-server.com/pointclouds/your_data/metadata.json\",\n",
    "    \"Your Point Cloud Name\"\n",
    ")\n",
    "```\n",
    "\n",
    "### Sample Data Sources\n",
    "You can find sample Potree-compatible datasets at:\n",
    "- [Potree Examples](http://potree.org/potree/examples/)\n",
    "- [OpenTopography](https://www.opentopography.org/)\n",
    "- [3D BAG (Netherlands)](https://3dbag.nl/)\n",
    "\n",
    "## Summary\n",
    "\n",
    "This notebook demonstrated the key features of the anymap PotreeMap widget:\n",
    "\n",
    "1. **Point Cloud Visualization**: Interactive rendering of large point cloud datasets\n",
    "2. **Rendering Controls**: Point size, shape, and quality settings\n",
    "3. **Camera Controls**: Position, target, field of view, and clipping\n",
    "4. **Visual Effects**: Eye Dome Lighting, coordinate grid, background\n",
    "5. **Data Management**: Loading single and multiple point clouds\n",
    "6. **Filtering**: Elevation and classification-based filtering\n",
    "7. **Measurements**: Distance, area, and volume measurement tools\n",
    "8. **Multi-cell Rendering**: Persistent state across notebook cells\n",
    "9. **Multiple Instances**: Independent viewer widgets\n",
    "\n",
    "The PotreeMap widget provides a powerful platform for interactive point cloud visualization with the full capabilities of Potree.js in a Jupyter environment."
   ]
  }
 ],
 "metadata": {
  "kernelspec": {
   "display_name": "Python 3",
   "language": "python",
   "name": "python3"
  },
  "language_info": {
   "codemirror_mode": {
    "name": "ipython",
    "version": 3
   },
   "file_extension": ".py",
   "mimetype": "text/x-python",
   "name": "python",
   "nbconvert_exporter": "python",
   "pygments_lexer": "ipython3",
   "version": "3.12.2"
  }
 },
 "nbformat": 4,
 "nbformat_minor": 4
}
