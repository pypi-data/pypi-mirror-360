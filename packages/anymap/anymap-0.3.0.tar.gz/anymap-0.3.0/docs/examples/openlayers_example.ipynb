{
 "cells": [
  {
   "cell_type": "markdown",
   "metadata": {},
   "source": [
    "# OpenLayers Map Examples\n",
    "\n",
    "This notebook demonstrates how to use the OpenLayersMap widget from the anymap package.\n",
    "\n",
    "## Installation\n",
    "\n",
    "First, make sure you have the anymap package installed:\n",
    "\n",
    "```bash\n",
    "pip install anymap\n",
    "```"
   ]
  },
  {
   "cell_type": "code",
   "execution_count": null,
   "metadata": {},
   "outputs": [],
   "source": [
    "import anymap\n",
    "import json"
   ]
  },
  {
   "cell_type": "markdown",
   "metadata": {},
   "source": [
    "## Basic OpenLayers Map\n",
    "\n",
    "Create a basic OpenLayers map with default settings. Note that OpenLayers uses [longitude, latitude] coordinate order."
   ]
  },
  {
   "cell_type": "code",
   "execution_count": null,
   "metadata": {},
   "outputs": [],
   "source": [
    "# Create a basic OpenLayers map\n",
    "ol_map = anymap.OpenLayersMap(\n",
    "    center=[-0.09, 51.505],  # [longitude, latitude] - London coordinates\n",
    "    zoom=10,\n",
    "    width=\"100%\",\n",
    "    height=\"400px\",\n",
    ")\n",
    "\n",
    "ol_map"
   ]
  },
  {
   "cell_type": "markdown",
   "metadata": {},
   "source": [
    "## Different Tile Layers\n",
    "\n",
    "OpenLayers supports various tile layer providers:"
   ]
  },
  {
   "cell_type": "code",
   "execution_count": null,
   "metadata": {},
   "outputs": [],
   "source": [
    "# OpenStreetMap (default)\n",
    "osm_map = anymap.OpenLayersMap(\n",
    "    center=[-74.0060, 40.7128],  # [longitude, latitude] - New York\n",
    "    zoom=10,\n",
    "    tile_layer=\"OSM\",\n",
    ")\n",
    "\n",
    "osm_map"
   ]
  },
  {
   "cell_type": "code",
   "execution_count": null,
   "metadata": {},
   "outputs": [],
   "source": [
    "# CartoDB Positron (light theme)\n",
    "positron_map = anymap.OpenLayersMap(\n",
    "    center=[-74.0060, 40.7128], zoom=10, tile_layer=\"CartoDB.Positron\"\n",
    ")\n",
    "\n",
    "positron_map"
   ]
  },
  {
   "cell_type": "code",
   "execution_count": null,
   "metadata": {},
   "outputs": [],
   "source": [
    "# CartoDB Dark Matter (dark theme)\n",
    "dark_map = anymap.OpenLayersMap(\n",
    "    center=[-74.0060, 40.7128], zoom=10, tile_layer=\"CartoDB.DarkMatter\"\n",
    ")\n",
    "\n",
    "dark_map"
   ]
  },
  {
   "cell_type": "markdown",
   "metadata": {},
   "source": [
    "## Adding Markers\n",
    "\n",
    "Add markers to your map with popups and tooltips:"
   ]
  },
  {
   "cell_type": "code",
   "execution_count": null,
   "metadata": {},
   "outputs": [],
   "source": [
    "# Create a map with markers\n",
    "marker_map = anymap.OpenLayersMap(\n",
    "    center=[-0.1278, 51.5074], zoom=12  # [longitude, latitude] - London\n",
    ")\n",
    "\n",
    "# Add markers for famous London landmarks\n",
    "marker_map.add_marker(\n",
    "    [-0.1278, 51.5074],\n",
    "    popup=\"<b>London</b><br>Capital of the United Kingdom\",\n",
    "    tooltip=\"London City Center\",\n",
    ")\n",
    "\n",
    "marker_map.add_marker(\n",
    "    [-0.1246, 51.5007], popup=\"<b>Big Ben</b><br>Famous clock tower\", tooltip=\"Big Ben\"\n",
    ")\n",
    "\n",
    "marker_map.add_marker(\n",
    "    [-0.1195, 51.5033],\n",
    "    popup=\"<b>London Eye</b><br>Giant Ferris wheel\",\n",
    "    tooltip=\"London Eye\",\n",
    ")\n",
    "\n",
    "marker_map"
   ]
  },
  {
   "cell_type": "markdown",
   "metadata": {},
   "source": [
    "## Adding Shapes\n",
    "\n",
    "Add various shapes like circles, polygons, and line strings:"
   ]
  },
  {
   "cell_type": "code",
   "execution_count": null,
   "metadata": {},
   "outputs": [],
   "source": [
    "# Create a map with shapes\n",
    "shapes_map = anymap.OpenLayersMap(\n",
    "    center=[-74.0060, 40.7128], zoom=11  # [longitude, latitude] - New York\n",
    ")\n",
    "\n",
    "# Add a circle around Central Park\n",
    "shapes_map.add_circle(\n",
    "    [-73.9654, 40.7829],  # [longitude, latitude] - Central Park\n",
    "    radius=1000,  # 1km radius\n",
    "    color=\"green\",\n",
    "    fillColor=\"lightgreen\",\n",
    "    fillOpacity=0.3,\n",
    ")\n",
    "\n",
    "# Add a polygon for Manhattan (simplified)\n",
    "manhattan_coords = [\n",
    "    [\n",
    "        [-73.9712, 40.7831],\n",
    "        [-73.9441, 40.7489],\n",
    "        [-73.9969, 40.7061],\n",
    "        [-74.0113, 40.7194],\n",
    "        [-73.9712, 40.7831],\n",
    "    ]\n",
    "]\n",
    "\n",
    "shapes_map.add_polygon(\n",
    "    manhattan_coords, color=\"blue\", fillColor=\"lightblue\", fillOpacity=0.2\n",
    ")\n",
    "\n",
    "# Add a line string for Broadway\n",
    "broadway_coords = [\n",
    "    [-73.9776, 40.7614],\n",
    "    [-73.9851, 40.7589],\n",
    "    [-73.9926, 40.7565],\n",
    "    [-74.0014, 40.7505],\n",
    "]\n",
    "\n",
    "shapes_map.add_linestring(broadway_coords, color=\"red\", strokeWidth=5)\n",
    "\n",
    "shapes_map"
   ]
  },
  {
   "cell_type": "markdown",
   "metadata": {},
   "source": [
    "## GeoJSON Data\n",
    "\n",
    "Load and display GeoJSON data:"
   ]
  },
  {
   "cell_type": "code",
   "execution_count": null,
   "metadata": {},
   "outputs": [],
   "source": [
    "# Sample GeoJSON data\n",
    "geojson_data = {\n",
    "    \"type\": \"FeatureCollection\",\n",
    "    \"features\": [\n",
    "        {\n",
    "            \"type\": \"Feature\",\n",
    "            \"geometry\": {\"type\": \"Point\", \"coordinates\": [-74.0060, 40.7128]},\n",
    "            \"properties\": {\"name\": \"New York City\", \"population\": 8175133},\n",
    "        },\n",
    "        {\n",
    "            \"type\": \"Feature\",\n",
    "            \"geometry\": {\"type\": \"Point\", \"coordinates\": [-87.6298, 41.8781]},\n",
    "            \"properties\": {\"name\": \"Chicago\", \"population\": 2693976},\n",
    "        },\n",
    "    ],\n",
    "}\n",
    "\n",
    "# Create map with GeoJSON data\n",
    "geojson_map = anymap.OpenLayersMap(center=[-80.0, 40.0], zoom=5)\n",
    "\n",
    "geojson_map.add_geojson(\n",
    "    geojson_data,\n",
    "    style={\"fill\": {\"color\": \"purple\"}, \"stroke\": {\"color\": \"purple\", \"width\": 2}},\n",
    ")\n",
    "\n",
    "geojson_map"
   ]
  },
  {
   "cell_type": "markdown",
   "metadata": {},
   "source": [
    "## Map Controls and Interactions\n",
    "\n",
    "Demonstrate various map control methods:"
   ]
  },
  {
   "cell_type": "code",
   "execution_count": null,
   "metadata": {},
   "outputs": [],
   "source": [
    "# Create a map for demonstrations\n",
    "control_map = anymap.OpenLayersMap(\n",
    "    center=[-122.4194, 37.7749], zoom=10  # [longitude, latitude] - San Francisco\n",
    ")\n",
    "\n",
    "control_map"
   ]
  },
  {
   "cell_type": "code",
   "execution_count": null,
   "metadata": {},
   "outputs": [],
   "source": [
    "# Fly to a different location\n",
    "control_map.fly_to(-118.2437, 34.0522, 12)  # Los Angeles"
   ]
  },
  {
   "cell_type": "code",
   "execution_count": null,
   "metadata": {},
   "outputs": [],
   "source": [
    "# Set center and zoom\n",
    "control_map.set_center(-80.1918, 25.7617)  # Miami\n",
    "control_map.set_zoom(11)"
   ]
  },
  {
   "cell_type": "code",
   "execution_count": null,
   "metadata": {},
   "outputs": [],
   "source": [
    "# Fit extent to a specific area\n",
    "# [minX, minY, maxX, maxY] in map projection coordinates\n",
    "control_map.fit_extent([-80.3, 25.7, -80.1, 25.9])"
   ]
  },
  {
   "cell_type": "markdown",
   "metadata": {},
   "source": [
    "## Vector Layers\n",
    "\n",
    "Create vector layers with custom features:"
   ]
  },
  {
   "cell_type": "code",
   "execution_count": null,
   "metadata": {},
   "outputs": [],
   "source": [
    "# Create a map with vector layers\n",
    "vector_map = anymap.OpenLayersMap(\n",
    "    center=[2.3522, 48.8566], zoom=12  # [longitude, latitude] - Paris\n",
    ")\n",
    "\n",
    "# Define features\n",
    "features = [\n",
    "    {\n",
    "        \"geometry\": {\"type\": \"Point\", \"coordinates\": [2.3522, 48.8566]},\n",
    "        \"properties\": {\"name\": \"Paris\", \"type\": \"city\"},\n",
    "    },\n",
    "    {\n",
    "        \"geometry\": {\"type\": \"Point\", \"coordinates\": [2.2945, 48.8584]},\n",
    "        \"properties\": {\"name\": \"Eiffel Tower\", \"type\": \"landmark\"},\n",
    "    },\n",
    "]\n",
    "\n",
    "vector_map.add_vector_layer(\n",
    "    features,\n",
    "    style={\n",
    "        \"image\": {\n",
    "            \"circle\": {\n",
    "                \"radius\": 8,\n",
    "                \"fill\": {\"color\": \"red\"},\n",
    "                \"stroke\": {\"color\": \"white\", \"width\": 2},\n",
    "            }\n",
    "        }\n",
    "    },\n",
    ")\n",
    "\n",
    "vector_map"
   ]
  },
  {
   "cell_type": "markdown",
   "metadata": {},
   "source": [
    "## Adding Multiple Tile Layers\n",
    "\n",
    "You can add multiple tile layers to the same map:"
   ]
  },
  {
   "cell_type": "code",
   "execution_count": null,
   "metadata": {},
   "outputs": [],
   "source": [
    "# Create a map with multiple tile layers\n",
    "multi_layer_map = anymap.OpenLayersMap(\n",
    "    center=[2.3522, 48.8566], zoom=12  # [longitude, latitude] - Paris\n",
    ")\n",
    "\n",
    "# Add a custom tile layer\n",
    "multi_layer_map.add_tile_layer(\n",
    "    \"https://stamen-tiles-{a-c}.a.ssl.fastly.net/watercolor/{z}/{x}/{y}.jpg\",\n",
    "    attribution=\"Map tiles by Stamen Design, under CC BY 3.0. Data by OpenStreetMap, under ODbL.\",\n",
    "    layer_id=\"watercolor\",\n",
    ")\n",
    "\n",
    "multi_layer_map"
   ]
  },
  {
   "cell_type": "markdown",
   "metadata": {},
   "source": [
    "## Projections\n",
    "\n",
    "OpenLayers supports different projections:"
   ]
  },
  {
   "cell_type": "code",
   "execution_count": null,
   "metadata": {},
   "outputs": [],
   "source": [
    "# Create a map with a different projection\n",
    "projection_map = anymap.OpenLayersMap(\n",
    "    center=[0, 0],  # [longitude, latitude]\n",
    "    zoom=2,\n",
    "    projection=\"EPSG:4326\",  # WGS84 geographic projection\n",
    ")\n",
    "\n",
    "projection_map"
   ]
  },
  {
   "cell_type": "markdown",
   "metadata": {},
   "source": [
    "## Exporting to HTML\n",
    "\n",
    "Export your map to a standalone HTML file:"
   ]
  },
  {
   "cell_type": "code",
   "execution_count": null,
   "metadata": {},
   "outputs": [],
   "source": [
    "# Create a map for export\n",
    "export_map = anymap.OpenLayersMap(\n",
    "    center=[139.6503, 35.6762],  # [longitude, latitude] - Tokyo\n",
    "    zoom=10,\n",
    "    tile_layer=\"OSM\",\n",
    ")\n",
    "\n",
    "# Add some features\n",
    "export_map.add_marker(\n",
    "    [139.6503, 35.6762], popup=\"<b>Tokyo</b><br>Capital of Japan\", tooltip=\"Tokyo\"\n",
    ")\n",
    "\n",
    "export_map.add_circle(\n",
    "    [139.6503, 35.6762], radius=5000, color=\"red\", fillColor=\"pink\", fillOpacity=0.3\n",
    ")\n",
    "\n",
    "# Export to HTML\n",
    "html_content = export_map.to_html(\n",
    "    title=\"Tokyo Map - OpenLayers Example\", width=\"100%\", height=\"600px\"\n",
    ")\n",
    "\n",
    "# Save to file\n",
    "with open(\"tokyo_openlayers_map.html\", \"w\") as f:\n",
    "    f.write(html_content)\n",
    "\n",
    "print(\"Map exported to tokyo_openlayers_map.html\")\n",
    "export_map"
   ]
  },
  {
   "cell_type": "markdown",
   "metadata": {},
   "source": [
    "## Layer Management\n",
    "\n",
    "Demonstrate layer management capabilities:"
   ]
  },
  {
   "cell_type": "code",
   "execution_count": null,
   "metadata": {},
   "outputs": [],
   "source": [
    "# Create a map for layer management\n",
    "layer_map = anymap.OpenLayersMap(\n",
    "    center=[13.4050, 52.5200], zoom=11  # [longitude, latitude] - Berlin\n",
    ")\n",
    "\n",
    "# Add several layers\n",
    "marker_id = layer_map.add_marker(\n",
    "    [13.4050, 52.5200], popup=\"Berlin\", tooltip=\"German Capital\"\n",
    ")\n",
    "\n",
    "circle_id = layer_map.add_circle(\n",
    "    [13.4050, 52.5200],\n",
    "    radius=3000,\n",
    "    color=\"blue\",\n",
    "    fillColor=\"lightblue\",\n",
    "    fillOpacity=0.2,\n",
    ")\n",
    "\n",
    "print(f\"Added marker with ID: {marker_id}\")\n",
    "print(f\"Added circle with ID: {circle_id}\")\n",
    "\n",
    "layer_map"
   ]
  },
  {
   "cell_type": "code",
   "execution_count": null,
   "metadata": {},
   "outputs": [],
   "source": [
    "# Get current layers\n",
    "layers = layer_map.get_layers()\n",
    "print(\"Current layers:\")\n",
    "for layer_id, layer_config in layers.items():\n",
    "    print(f\"  {layer_id}: {layer_config['type']}\")"
   ]
  },
  {
   "cell_type": "code",
   "execution_count": null,
   "metadata": {},
   "outputs": [],
   "source": [
    "# Remove a layer\n",
    "layer_map.remove_layer(circle_id)\n",
    "print(f\"Removed circle layer: {circle_id}\")"
   ]
  },
  {
   "cell_type": "code",
   "execution_count": null,
   "metadata": {},
   "outputs": [],
   "source": [
    "# Clear all layers\n",
    "layer_map.clear_layers()\n",
    "print(\"All layers cleared\")"
   ]
  },
  {
   "cell_type": "markdown",
   "metadata": {},
   "source": [
    "## OpenLayers vs Other Libraries\n",
    "\n",
    "Key differences when using OpenLayers:\n",
    "\n",
    "1. **Coordinate Order**: OpenLayers uses [longitude, latitude] (x, y) order, unlike Leaflet which uses [latitude, longitude]\n",
    "2. **Projections**: Built-in support for multiple coordinate systems and projections\n",
    "3. **Vector Layers**: Powerful vector layer capabilities with custom styling\n",
    "4. **Performance**: Optimized for large datasets and complex geometries\n",
    "5. **Flexibility**: Highly modular and customizable architecture\n",
    "\n",
    "## Conclusion\n",
    "\n",
    "This notebook demonstrated the key features of the OpenLayersMap widget:\n",
    "\n",
    "1. **Basic map creation** with different tile layers\n",
    "2. **Adding markers** with popups and tooltips\n",
    "3. **Drawing shapes** (circles, polygons, line strings)\n",
    "4. **Loading GeoJSON data**\n",
    "5. **Vector layers** with custom features\n",
    "6. **Map controls** (fly to, set center/zoom, fit extent)\n",
    "7. **Layer management** (add, remove, clear)\n",
    "8. **Projection support** for different coordinate systems\n",
    "9. **HTML export** for sharing standalone maps\n",
    "\n",
    "The OpenLayersMap widget provides a powerful, flexible mapping solution that integrates seamlessly with Jupyter notebooks and supports OpenLayers' advanced geospatial capabilities."
   ]
  }
 ],
 "metadata": {
  "kernelspec": {
   "display_name": "Python 3",
   "language": "python",
   "name": "python3"
  },
  "language_info": {
   "codemirror_mode": {
    "name": "ipython",
    "version": 3
   },
   "file_extension": ".py",
   "mimetype": "text/x-python",
   "name": "python",
   "nbconvert_exporter": "python",
   "pygments_lexer": "ipython3",
   "version": "3.12.2"
  }
 },
 "nbformat": 4,
 "nbformat_minor": 4
}
