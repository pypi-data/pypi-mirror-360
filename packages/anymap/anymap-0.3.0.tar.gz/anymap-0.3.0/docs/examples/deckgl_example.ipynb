{
 "cells": [
  {
   "cell_type": "markdown",
   "metadata": {},
   "source": [
    "# DeckGL Backend Example\n",
    "\n",
    "This notebook demonstrates how to use the DeckGL backend in anymap, which builds upon the MapLibre backend to provide advanced data visualization capabilities using DeckGL layers.\n",
    "\n",
    "## Installation\n",
    "\n",
    "Make sure you have anymap installed:\n",
    "\n",
    "```bash\n",
    "pip install anymap\n",
    "```\n",
    "\n",
    "## Troubleshooting\n",
    "\n",
    "If you encounter widget loading issues:\n",
    "\n",
    "1. **Restart the kernel** and clear all outputs\n",
    "2. **Check internet connectivity** - DeckGL loads from CDN\n",
    "3. **Open browser console** (F12) to see any JavaScript errors\n",
    "4. **Try a simple example first** before complex visualizations\n",
    "\n",
    "The widget dynamically loads DeckGL and MapLibre from CDN, so it requires an internet connection."
   ]
  },
  {
   "cell_type": "markdown",
   "metadata": {},
   "source": [
    "## Basic Setup\n",
    "\n",
    "First, let's import the necessary modules and create a basic DeckGL map:"
   ]
  },
  {
   "cell_type": "code",
   "execution_count": null,
   "metadata": {},
   "outputs": [],
   "source": [
    "from anymap import DeckGLMap\n",
    "import json\n",
    "import requests"
   ]
  },
  {
   "cell_type": "markdown",
   "metadata": {},
   "source": [
    "## Simple Test First\n",
    "\n",
    "Let's start with a very simple DeckGL map to ensure the widget loads correctly:"
   ]
  },
  {
   "cell_type": "code",
   "execution_count": null,
   "metadata": {},
   "outputs": [],
   "source": [
    "# Create a simple test map first\n",
    "simple_map = DeckGLMap(center=[0, 0], zoom=2, height=\"600px\")\n",
    "print(\"✓ Simple DeckGL map created successfully\")\n",
    "print(f\"Center: {simple_map.center}, Zoom: {simple_map.zoom}\")\n",
    "\n",
    "# Display the simple map\n",
    "simple_map"
   ]
  },
  {
   "cell_type": "code",
   "execution_count": null,
   "metadata": {},
   "outputs": [],
   "source": [
    "# Create a basic DeckGL map\n",
    "m = DeckGLMap(\n",
    "    center=[51.47, 0.45],  # London\n",
    "    zoom=4,\n",
    "    bearing=0,\n",
    "    pitch=30,\n",
    "    height=\"600px\",\n",
    "    map_style=\"https://basemaps.cartocdn.com/gl/positron-nolabels-gl-style/style.json\",\n",
    ")\n",
    "\n",
    "print(f\"Created DeckGL map with center: {m.center}, zoom: {m.zoom}\")\n",
    "print(f\"Map style: {m.map_style}\")\n",
    "print(f\"Current DeckGL layers: {len(m.deckgl_layers)}\")"
   ]
  },
  {
   "cell_type": "code",
   "execution_count": null,
   "metadata": {},
   "outputs": [],
   "source": [
    "m"
   ]
  },
  {
   "cell_type": "markdown",
   "metadata": {},
   "source": [
    "## Adding GeoJSON Layer\n",
    "\n",
    "Let's add a GeoJSON layer showing airports around the world:"
   ]
  },
  {
   "cell_type": "code",
   "execution_count": null,
   "metadata": {},
   "outputs": [],
   "source": [
    "# Add airports GeoJSON layer\n",
    "airports_url = (\n",
    "    \"https://d2ad6b4ur7yvpq.cloudfront.net/naturalearth-3.3.0/ne_10m_airports.geojson\"\n",
    ")\n",
    "\n",
    "m.add_geojson_layer(\n",
    "    layer_id=\"airports\",\n",
    "    geojson_data=airports_url,\n",
    "    filled=True,\n",
    "    pointRadiusMinPixels=2,\n",
    "    pointRadiusScale=2000,\n",
    "    getPointRadius=\"@@=11 - f.properties.scalerank\",  # DeckGL expression\n",
    "    getFillColor=[200, 0, 80, 180],\n",
    "    pickable=True,\n",
    "    autoHighlight=True,\n",
    ")\n",
    "\n",
    "print(f\"Added airports layer. Total layers: {len(m.deckgl_layers)}\")"
   ]
  },
  {
   "cell_type": "markdown",
   "metadata": {},
   "source": [
    "## Adding Arc Layer\n",
    "\n",
    "Now let's add an Arc layer showing connections from London to major airports. This will display curved lines connecting London to airports with scalerank < 4:"
   ]
  },
  {
   "cell_type": "code",
   "execution_count": null,
   "metadata": {},
   "outputs": [],
   "source": [
    "# Add arc layer showing connections from London\n",
    "m.add_arc_layer(\n",
    "    layer_id=\"arcs\",\n",
    "    data=airports_url,\n",
    "    dataTransform=\"@@=d => d.features.filter(f => f.properties.scalerank < 4)\",  # Filter major airports\n",
    "    getSourcePosition=\"@@=f => [-0.4531566, 51.4709959]\",  # London coordinates (function)\n",
    "    getTargetPosition=\"@@=f => f.geometry.coordinates\",  # Target airport coordinates\n",
    "    getSourceColor=[0, 128, 200],\n",
    "    getTargetColor=[200, 0, 80],\n",
    "    getWidth=1,\n",
    "    pickable=True,\n",
    ")\n",
    "\n",
    "print(f\"Added arcs layer. Total layers: {len(m.deckgl_layers)}\")"
   ]
  },
  {
   "cell_type": "markdown",
   "metadata": {},
   "source": [
    "## Adding Scatterplot Layer\n",
    "\n",
    "Let's also add a scatterplot layer with custom styling:"
   ]
  },
  {
   "cell_type": "code",
   "execution_count": null,
   "metadata": {},
   "outputs": [],
   "source": [
    "# Create sample data for scatterplot\n",
    "sample_data = [\n",
    "    {\"position\": [-0.1276, 51.5074], \"name\": \"London\", \"size\": 1000},\n",
    "    {\"position\": [2.3522, 48.8566], \"name\": \"Paris\", \"size\": 800},\n",
    "    {\"position\": [13.4050, 52.5200], \"name\": \"Berlin\", \"size\": 600},\n",
    "    {\"position\": [12.4964, 41.9028], \"name\": \"Rome\", \"size\": 700},\n",
    "    {\"position\": [-3.7038, 40.4168], \"name\": \"Madrid\", \"size\": 650},\n",
    "]\n",
    "\n",
    "m.add_scatterplot_layer(\n",
    "    layer_id=\"cities\",\n",
    "    data=sample_data,\n",
    "    get_position=\"@@=d.position\",\n",
    "    get_radius=\"@@=d.size\",\n",
    "    get_fill_color=[255, 140, 0, 200],\n",
    "    radiusMinPixels=10,\n",
    "    radiusMaxPixels=100,\n",
    "    pickable=True,\n",
    ")\n",
    "\n",
    "print(f\"Added cities scatterplot layer. Total layers: {len(m.deckgl_layers)}\")"
   ]
  },
  {
   "cell_type": "markdown",
   "metadata": {},
   "source": [
    "## Display the Map\n",
    "\n",
    "Now let's display the interactive map (note: this will only work in a Jupyter environment with widget support):"
   ]
  },
  {
   "cell_type": "code",
   "execution_count": null,
   "metadata": {},
   "outputs": [],
   "source": [
    "# Display the map\n",
    "m"
   ]
  },
  {
   "cell_type": "markdown",
   "metadata": {},
   "source": [
    "## Export to HTML\n",
    "\n",
    "Let's export the map to a standalone HTML file that can be opened in any browser:"
   ]
  },
  {
   "cell_type": "code",
   "execution_count": null,
   "metadata": {},
   "outputs": [],
   "source": [
    "# Export to HTML\n",
    "html_content = m.to_html(\n",
    "    filename=\"deckgl_example_export.html\",\n",
    "    title=\"DeckGL Map Example - Airports and Cities\",\n",
    "    width=\"100%\",\n",
    "    height=\"600px\",\n",
    ")\n",
    "\n",
    "print(f\"HTML exported successfully!\")\n",
    "print(f\"File saved as: deckgl_example_export.html\")\n",
    "print(f\"HTML content length: {len(html_content)} characters\")"
   ]
  },
  {
   "cell_type": "markdown",
   "metadata": {},
   "source": [
    "## Map Interaction Methods\n",
    "\n",
    "The DeckGL map supports various interaction methods inherited from the MapLibre backend:"
   ]
  },
  {
   "cell_type": "code",
   "execution_count": null,
   "metadata": {},
   "outputs": [],
   "source": [
    "# Change map view\n",
    "print(\"Current center:\", m.center)\n",
    "print(\"Current zoom:\", m.zoom)\n",
    "\n",
    "# Update map center and zoom\n",
    "m.set_center(48.8566, 2.3522)  # Paris\n",
    "m.set_zoom(6)\n",
    "\n",
    "print(\"New center:\", m.center)\n",
    "print(\"New zoom:\", m.zoom)"
   ]
  },
  {
   "cell_type": "code",
   "execution_count": null,
   "metadata": {},
   "outputs": [],
   "source": [
    "# Change bearing and pitch\n",
    "m.set_bearing(45)\n",
    "m.set_pitch(60)\n",
    "\n",
    "print(\"New bearing:\", m.bearing)\n",
    "print(\"New pitch:\", m.pitch)"
   ]
  },
  {
   "cell_type": "markdown",
   "metadata": {},
   "source": [
    "## Layer Management\n",
    "\n",
    "You can manage DeckGL layers dynamically:"
   ]
  },
  {
   "cell_type": "code",
   "execution_count": null,
   "metadata": {},
   "outputs": [],
   "source": [
    "# Show current layers\n",
    "print(\"Current DeckGL layers:\")\n",
    "for i, layer in enumerate(m.deckgl_layers):\n",
    "    print(\n",
    "        f\"  {i+1}. {layer.get('id', 'Unknown')} ({layer.get('@@type', 'Unknown type')})\"\n",
    "    )\n",
    "\n",
    "# Remove a layer\n",
    "m.remove_deckgl_layer(\"cities\")\n",
    "print(f\"\\nAfter removing cities layer: {len(m.deckgl_layers)} layers remaining\")"
   ]
  },
  {
   "cell_type": "code",
   "execution_count": null,
   "metadata": {},
   "outputs": [],
   "source": [
    "# Add the cities layer back with different styling\n",
    "m.add_scatterplot_layer(\n",
    "    layer_id=\"cities_styled\",\n",
    "    data=sample_data,\n",
    "    get_position=\"@@=d.position\",\n",
    "    get_radius=\"@@=d.size * 0.5\",\n",
    "    get_fill_color=[0, 255, 0, 180],  # Green color\n",
    "    radiusMinPixels=5,\n",
    "    radiusMaxPixels=50,\n",
    "    pickable=True,\n",
    ")\n",
    "\n",
    "print(f\"Added styled cities layer. Total layers: {len(m.deckgl_layers)}\")"
   ]
  },
  {
   "cell_type": "markdown",
   "metadata": {},
   "source": [
    "## Export Final Version\n",
    "\n",
    "Let's export the final version with all our changes:"
   ]
  },
  {
   "cell_type": "code",
   "execution_count": null,
   "metadata": {},
   "outputs": [],
   "source": [
    "# Export final version\n",
    "final_html = m.to_html(\n",
    "    filename=\"deckgl_final_example.html\",\n",
    "    title=\"Final DeckGL Map - Airports, Arcs, and Cities\",\n",
    "    width=\"100%\",\n",
    "    height=\"800px\",\n",
    ")\n",
    "\n",
    "print(\"Final HTML exported successfully!\")\n",
    "print(\"File saved as: deckgl_final_example.html\")\n",
    "print(f\"Final map has {len(m.deckgl_layers)} DeckGL layers\")\n",
    "print(\n",
    "    f\"Final view: center={m.center}, zoom={m.zoom}, bearing={m.bearing}, pitch={m.pitch}\"\n",
    ")"
   ]
  },
  {
   "cell_type": "markdown",
   "metadata": {},
   "source": [
    "## Summary\n",
    "\n",
    "This notebook demonstrated:\n",
    "\n",
    "1. **Basic DeckGL Map Creation**: Creating a DeckGL map with custom styling and view settings\n",
    "2. **GeoJSON Layer**: Adding interactive airport data with custom styling\n",
    "3. **Arc Layer**: Visualizing connections between geographic points\n",
    "4. **Scatterplot Layer**: Displaying point data with custom sizing and colors\n",
    "5. **Map Interaction**: Changing view, bearing, and pitch programmatically\n",
    "6. **Layer Management**: Adding and removing layers dynamically\n",
    "7. **HTML Export**: Exporting interactive maps to standalone HTML files\n",
    "\n",
    "The DeckGL backend provides powerful visualization capabilities while maintaining compatibility with the anymap framework. The exported HTML files can be shared and viewed in any modern web browser without requiring a Python environment."
   ]
  }
 ],
 "metadata": {
  "kernelspec": {
   "display_name": "Python 3",
   "language": "python",
   "name": "python3"
  },
  "language_info": {
   "codemirror_mode": {
    "name": "ipython",
    "version": 3
   },
   "file_extension": ".py",
   "mimetype": "text/x-python",
   "name": "python",
   "nbconvert_exporter": "python",
   "pygments_lexer": "ipython3",
   "version": "3.12.2"
  }
 },
 "nbformat": 4,
 "nbformat_minor": 4
}
