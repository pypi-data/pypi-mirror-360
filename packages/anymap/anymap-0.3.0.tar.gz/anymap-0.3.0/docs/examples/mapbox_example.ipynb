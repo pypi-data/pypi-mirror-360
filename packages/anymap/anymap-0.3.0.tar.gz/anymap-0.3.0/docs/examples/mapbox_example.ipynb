{
 "cells": [
  {
   "cell_type": "markdown",
   "metadata": {},
   "source": [
    "# AnyMap Mapbox GL JS Examples\n",
    "\n",
    "This notebook demonstrates the Mapbox GL JS backend for anymap, showcasing advanced mapping features including 3D terrain, 3D buildings, custom controls, and atmospheric fog effects."
   ]
  },
  {
   "cell_type": "code",
   "execution_count": null,
   "metadata": {},
   "outputs": [],
   "source": [
    "# Import required modules\n",
    "from anymap import MapboxMap\n",
    "import json\n",
    "import os\n",
    "\n",
    "# Note: You need a Mapbox access token to use the Mapbox backend\n",
    "# Get a free token at https://account.mapbox.com/access-tokens/\n",
    "# Set it as an environment variable: export MAPBOX_TOKEN=\"your_token_here\"\n",
    "# Or pass it directly when creating the map: MapboxMap(access_token=\"your_token\")\n",
    "\n",
    "print(\"AnyMap with Mapbox backend loaded successfully!\")"
   ]
  },
  {
   "cell_type": "markdown",
   "metadata": {},
   "source": [
    "## Basic Mapbox Map\n",
    "\n",
    "Let's start with a basic Mapbox map. The access token is automatically handled."
   ]
  },
  {
   "cell_type": "code",
   "execution_count": null,
   "metadata": {},
   "outputs": [],
   "source": [
    "# Create a basic Mapbox map\n",
    "# NOTE: Replace \"your_token_here\" with your actual Mapbox access token\n",
    "# or set the MAPBOX_TOKEN environment variable\n",
    "\n",
    "m = MapboxMap(\n",
    "    center=[37.7749, -122.4194],  # San Francisco\n",
    "    zoom=12,\n",
    "    height=\"500px\",\n",
    "    map_style=\"mapbox://styles/mapbox/streets-v12\",\n",
    "    # access_token=\"your_token_here\"  # Replace with your actual token\n",
    ")\n",
    "\n",
    "print(f\"Access token set: {bool(m.access_token)}\")\n",
    "print(f\"Map style: {m.map_style}\")\n",
    "m"
   ]
  },
  {
   "cell_type": "markdown",
   "metadata": {},
   "source": [
    "## Mapbox Styles\n",
    "\n",
    "Mapbox offers various built-in styles. Let's try the satellite style."
   ]
  },
  {
   "cell_type": "code",
   "execution_count": null,
   "metadata": {},
   "outputs": [],
   "source": [
    "# Change to satellite style\n",
    "m.set_style(\"mapbox://styles/mapbox/satellite-v9\")\n",
    "m"
   ]
  },
  {
   "cell_type": "markdown",
   "metadata": {},
   "source": [
    "## 3D Terrain and Buildings\n",
    "\n",
    "One of Mapbox's powerful features is 3D terrain and building visualization."
   ]
  },
  {
   "cell_type": "code",
   "execution_count": null,
   "metadata": {},
   "outputs": [],
   "source": [
    "# Create a new map focused on a mountainous area\n",
    "m3d = MapboxMap(\n",
    "    center=[46.8182, 8.2275],  # Swiss Alps\n",
    "    zoom=12,\n",
    "    pitch=60,\n",
    "    bearing=45,\n",
    "    height=\"600px\",\n",
    "    map_style=\"mapbox://styles/mapbox/satellite-v9\",\n",
    ")\n",
    "\n",
    "# Add 3D terrain\n",
    "terrain_config = {\"source\": \"mapbox-dem\", \"exaggeration\": 1.5}\n",
    "m3d.set_terrain(terrain_config)\n",
    "\n",
    "# Add atmospheric fog for realism\n",
    "fog_config = {\n",
    "    \"color\": \"rgb(186, 210, 235)\",\n",
    "    \"high-color\": \"rgb(36, 92, 223)\",\n",
    "    \"horizon-blend\": 0.02,\n",
    "    \"space-color\": \"rgb(11, 11, 25)\",\n",
    "    \"star-intensity\": 0.6,\n",
    "}\n",
    "m3d.set_fog(fog_config)\n",
    "\n",
    "print(\"3D terrain and fog added to the map\")\n",
    "m3d"
   ]
  },
  {
   "cell_type": "markdown",
   "metadata": {},
   "source": [
    "## Adding Controls\n",
    "\n",
    "Mapbox provides various interactive controls."
   ]
  },
  {
   "cell_type": "code",
   "execution_count": null,
   "metadata": {},
   "outputs": [],
   "source": [
    "# Add various controls to the map\n",
    "m3d.add_control(\"navigation\", \"top-left\")\n",
    "m3d.add_control(\"scale\", \"bottom-left\")\n",
    "m3d.add_control(\"fullscreen\", \"top-right\")\n",
    "\n",
    "print(\"Navigation, scale, and fullscreen controls added\")"
   ]
  },
  {
   "cell_type": "markdown",
   "metadata": {},
   "source": [
    "## Urban 3D Buildings\n",
    "\n",
    "Let's create a map showcasing 3D buildings in a urban environment."
   ]
  },
  {
   "cell_type": "code",
   "execution_count": null,
   "metadata": {},
   "outputs": [],
   "source": [
    "# Create a map focused on New York City\n",
    "nyc_map = MapboxMap(\n",
    "    center=[40.7589, -73.9851],  # Times Square\n",
    "    zoom=16,\n",
    "    pitch=60,\n",
    "    bearing=30,\n",
    "    height=\"600px\",\n",
    "    map_style=\"mapbox://styles/mapbox/streets-v12\",\n",
    ")\n",
    "\n",
    "# Add 3D buildings\n",
    "nyc_map.add_3d_buildings()\n",
    "\n",
    "# Add navigation control\n",
    "nyc_map.add_control(\"navigation\", \"top-left\")\n",
    "\n",
    "print(\"3D buildings added to NYC map\")\n",
    "nyc_map"
   ]
  },
  {
   "cell_type": "markdown",
   "metadata": {},
   "source": [
    "## Adding Data Layers\n",
    "\n",
    "Let's add some GeoJSON data to visualize points of interest."
   ]
  },
  {
   "cell_type": "code",
   "execution_count": null,
   "metadata": {},
   "outputs": [],
   "source": [
    "# Sample data for NYC landmarks\n",
    "nyc_landmarks = {\n",
    "    \"type\": \"FeatureCollection\",\n",
    "    \"features\": [\n",
    "        {\n",
    "            \"type\": \"Feature\",\n",
    "            \"geometry\": {\"type\": \"Point\", \"coordinates\": [-74.0445, 40.6892]},\n",
    "            \"properties\": {\"name\": \"Statue of Liberty\", \"type\": \"monument\"},\n",
    "        },\n",
    "        {\n",
    "            \"type\": \"Feature\",\n",
    "            \"geometry\": {\"type\": \"Point\", \"coordinates\": [-74.0060, 40.7128]},\n",
    "            \"properties\": {\"name\": \"One World Trade Center\", \"type\": \"building\"},\n",
    "        },\n",
    "        {\n",
    "            \"type\": \"Feature\",\n",
    "            \"geometry\": {\"type\": \"Point\", \"coordinates\": [-73.9857, 40.7484]},\n",
    "            \"properties\": {\"name\": \"Central Park\", \"type\": \"park\"},\n",
    "        },\n",
    "        {\n",
    "            \"type\": \"Feature\",\n",
    "            \"geometry\": {\"type\": \"Point\", \"coordinates\": [-73.9442, 40.8176]},\n",
    "            \"properties\": {\"name\": \"Yankee Stadium\", \"type\": \"stadium\"},\n",
    "        },\n",
    "    ],\n",
    "}\n",
    "\n",
    "# Add the landmarks as a circle layer\n",
    "nyc_map.add_geojson_layer(\n",
    "    layer_id=\"landmarks\",\n",
    "    geojson_data=nyc_landmarks,\n",
    "    layer_type=\"circle\",\n",
    "    paint={\n",
    "        \"circle-radius\": 8,\n",
    "        \"circle-color\": \"#FF6B6B\",\n",
    "        \"circle-stroke-width\": 2,\n",
    "        \"circle-stroke-color\": \"#FFFFFF\",\n",
    "        \"circle-opacity\": 0.8,\n",
    "    },\n",
    ")\n",
    "\n",
    "# Add markers with popups\n",
    "nyc_map.add_marker(\n",
    "    40.6892,\n",
    "    -74.0445,\n",
    "    \"<h3>Statue of Liberty</h3><p>Symbol of freedom and democracy</p>\",\n",
    ")\n",
    "nyc_map.add_marker(\n",
    "    40.7484, -73.9857, \"<h3>Central Park</h3><p>Manhattan's green oasis</p>\"\n",
    ")\n",
    "\n",
    "print(\"NYC landmarks added to the map\")\n",
    "print(f\"Current layers: {list(nyc_map.get_layers().keys())}\")"
   ]
  },
  {
   "cell_type": "markdown",
   "metadata": {},
   "source": [
    "## Multi-Cell Rendering Test\n",
    "\n",
    "Test that the same map instance renders correctly in multiple cells."
   ]
  },
  {
   "cell_type": "code",
   "execution_count": null,
   "metadata": {},
   "outputs": [],
   "source": [
    "# Display the NYC map again - should show all layers\n",
    "print(\"Displaying NYC map again with all layers:\")\n",
    "print(f\"Layers: {list(nyc_map.get_layers().keys())}\")\n",
    "print(f\"Sources: {list(nyc_map.get_sources().keys())}\")\n",
    "nyc_map"
   ]
  },
  {
   "cell_type": "markdown",
   "metadata": {},
   "source": [
    "## Event Handling\n",
    "\n",
    "Set up event handlers to capture user interactions."
   ]
  },
  {
   "cell_type": "code",
   "execution_count": null,
   "metadata": {},
   "outputs": [],
   "source": [
    "# Store events for demonstration\n",
    "map_events = []\n",
    "\n",
    "\n",
    "def on_map_click(event):\n",
    "    lat, lng = event[\"lngLat\"]\n",
    "    map_events.append(f\"Clicked at: {lat:.4f}, {lng:.4f}\")\n",
    "    print(f\"Map clicked at: {lat:.4f}, {lng:.4f}\")\n",
    "\n",
    "\n",
    "def on_map_move(event):\n",
    "    center = event.get(\"center\", [0, 0])\n",
    "    zoom = event.get(\"zoom\", 0)\n",
    "    print(f\"Map moved to: {center[0]:.4f}, {center[1]:.4f} at zoom {zoom:.2f}\")\n",
    "\n",
    "\n",
    "# Register event handlers\n",
    "nyc_map.on_map_event(\"click\", on_map_click)\n",
    "nyc_map.on_map_event(\"moveend\", on_map_move)\n",
    "\n",
    "print(\"Event handlers registered. Try clicking and moving the map!\")"
   ]
  },
  {
   "cell_type": "markdown",
   "metadata": {},
   "source": [
    "## Comparison with MapLibre\n",
    "\n",
    "Let's create a side-by-side comparison with MapLibre to show both backends work independently."
   ]
  },
  {
   "cell_type": "code",
   "execution_count": null,
   "metadata": {},
   "outputs": [],
   "source": [
    "from anymap import MapLibreMap\n",
    "\n",
    "# Create a MapLibre map for comparison\n",
    "maplibre_map = MapLibreMap(\n",
    "    center=[37.7749, -122.4194],  # San Francisco\n",
    "    zoom=12,\n",
    "    height=\"400px\",\n",
    "    map_style=\"https://demotiles.maplibre.org/style.json\",\n",
    ")\n",
    "\n",
    "# Add some data to differentiate\n",
    "sf_data = {\n",
    "    \"type\": \"FeatureCollection\",\n",
    "    \"features\": [\n",
    "        {\n",
    "            \"type\": \"Feature\",\n",
    "            \"geometry\": {\"type\": \"Point\", \"coordinates\": [-122.4194, 37.7749]},\n",
    "            \"properties\": {\"name\": \"San Francisco City Hall\"},\n",
    "        }\n",
    "    ],\n",
    "}\n",
    "\n",
    "maplibre_map.add_geojson_layer(\n",
    "    \"sf_poi\", sf_data, \"circle\", {\"circle-color\": \"#50C878\", \"circle-radius\": 10}\n",
    ")\n",
    "\n",
    "print(\"MapLibre map (San Francisco):\")\n",
    "maplibre_map"
   ]
  },
  {
   "cell_type": "code",
   "execution_count": null,
   "metadata": {},
   "outputs": [],
   "source": [
    "# Create a Mapbox map of the same location for comparison\n",
    "mapbox_sf = MapboxMap(\n",
    "    center=[37.7749, -122.4194],  # San Francisco\n",
    "    zoom=12,\n",
    "    height=\"400px\",\n",
    "    map_style=\"mapbox://styles/mapbox/streets-v12\",\n",
    ")\n",
    "\n",
    "mapbox_sf.add_geojson_layer(\n",
    "    \"sf_poi_mapbox\", sf_data, \"circle\", {\"circle-color\": \"#FF6B6B\", \"circle-radius\": 10}\n",
    ")\n",
    "\n",
    "print(\"Mapbox map (San Francisco):\")\n",
    "mapbox_sf"
   ]
  },
  {
   "cell_type": "markdown",
   "metadata": {},
   "source": [
    "## Advanced Mapbox Features\n",
    "\n",
    "Let's showcase some advanced Mapbox-specific features like custom terrain sources."
   ]
  },
  {
   "cell_type": "code",
   "execution_count": null,
   "metadata": {},
   "outputs": [],
   "source": [
    "# Create a map of the Grand Canyon with enhanced terrain\n",
    "canyon_map = MapboxMap(\n",
    "    center=[36.1069, -112.1129],  # Grand Canyon\n",
    "    zoom=13,\n",
    "    pitch=70,\n",
    "    bearing=150,\n",
    "    height=\"600px\",\n",
    "    map_style=\"mapbox://styles/mapbox/satellite-v9\",\n",
    ")\n",
    "\n",
    "# Add terrain with higher exaggeration for dramatic effect\n",
    "canyon_terrain = {\"source\": \"mapbox-dem\", \"exaggeration\": 2.0}\n",
    "canyon_map.set_terrain(canyon_terrain)\n",
    "\n",
    "# Add enhanced atmospheric fog\n",
    "canyon_fog = {\n",
    "    \"color\": \"rgb(255, 255, 255)\",\n",
    "    \"high-color\": \"rgb(200, 200, 255)\",\n",
    "    \"horizon-blend\": 0.1,\n",
    "    \"space-color\": \"rgb(11, 11, 25)\",\n",
    "    \"star-intensity\": 0.0,\n",
    "}\n",
    "canyon_map.set_fog(canyon_fog)\n",
    "\n",
    "# Add controls\n",
    "canyon_map.add_control(\"navigation\", \"top-left\")\n",
    "canyon_map.add_control(\"scale\", \"bottom-left\")\n",
    "\n",
    "print(\"Grand Canyon with enhanced 3D terrain\")\n",
    "canyon_map"
   ]
  },
  {
   "cell_type": "markdown",
   "metadata": {},
   "source": [
    "## Layer Management\n",
    "\n",
    "Demonstrate layer management capabilities."
   ]
  },
  {
   "cell_type": "code",
   "execution_count": null,
   "metadata": {},
   "outputs": [],
   "source": [
    "# Create a simple map for layer management demo\n",
    "layer_demo = MapboxMap(center=[40.7128, -74.0060], zoom=10, height=\"400px\")  # NYC\n",
    "\n",
    "# Add multiple layers\n",
    "demo_data = {\n",
    "    \"type\": \"FeatureCollection\",\n",
    "    \"features\": [\n",
    "        {\n",
    "            \"type\": \"Feature\",\n",
    "            \"geometry\": {\"type\": \"Point\", \"coordinates\": [-74.0060, 40.7128]},\n",
    "            \"properties\": {\"name\": \"Point 1\"},\n",
    "        }\n",
    "    ],\n",
    "}\n",
    "\n",
    "layer_demo.add_geojson_layer(\"layer1\", demo_data, \"circle\", {\"circle-color\": \"red\"})\n",
    "layer_demo.add_geojson_layer(\"layer2\", demo_data, \"circle\", {\"circle-color\": \"blue\"})\n",
    "layer_demo.add_geojson_layer(\"layer3\", demo_data, \"circle\", {\"circle-color\": \"green\"})\n",
    "\n",
    "print(f\"Layers before cleanup: {list(layer_demo.get_layers().keys())}\")\n",
    "layer_demo"
   ]
  },
  {
   "cell_type": "code",
   "execution_count": null,
   "metadata": {},
   "outputs": [],
   "source": [
    "# Clear some layers\n",
    "layer_demo.remove_layer(\"layer2\")\n",
    "print(f\"After removing layer2: {list(layer_demo.get_layers().keys())}\")\n",
    "\n",
    "# Clear all layers\n",
    "layer_demo.clear_layers()\n",
    "print(f\"After clearing all layers: {list(layer_demo.get_layers().keys())}\")\n",
    "print(f\"Sources still exist: {list(layer_demo.get_sources().keys())}\")\n",
    "\n",
    "# Display the map without layers\n",
    "layer_demo"
   ]
  },
  {
   "cell_type": "markdown",
   "metadata": {},
   "source": [
    "## Summary\n",
    "\n",
    "This notebook demonstrated the key features of AnyMap's Mapbox GL JS backend:\n",
    "\n",
    "✅ **Mapbox Integration**: Full integration with Mapbox GL JS v3.13.0  \n",
    "✅ **Access Token Management**: Automatic token handling with fallbacks  \n",
    "✅ **3D Terrain & Buildings**: Support for 3D terrain exaggeration and building visualization  \n",
    "✅ **Atmospheric Effects**: Fog and lighting effects for realistic mapping  \n",
    "✅ **Interactive Controls**: Navigation, scale, fullscreen, and geolocation controls  \n",
    "✅ **Multi-cell Rendering**: Persistent layer state across Jupyter cells  \n",
    "✅ **Event Handling**: Click and move event capture  \n",
    "✅ **Layer Management**: Full CRUD operations for map layers and sources  \n",
    "✅ **Style Flexibility**: Support for built-in Mapbox styles and custom styles  \n",
    "✅ **Independence**: Works alongside MapLibre backend without conflicts  \n",
    "\n",
    "The Mapbox backend provides access to Mapbox's premium features while maintaining the same simple API as the MapLibre backend."
   ]
  }
 ],
 "metadata": {
  "kernelspec": {
   "display_name": "Python 3",
   "language": "python",
   "name": "python3"
  },
  "language_info": {
   "codemirror_mode": {
    "name": "ipython",
    "version": 3
   },
   "file_extension": ".py",
   "mimetype": "text/x-python",
   "name": "python",
   "nbconvert_exporter": "python",
   "pygments_lexer": "ipython3",
   "version": "3.12.2"
  }
 },
 "nbformat": 4,
 "nbformat_minor": 4
}
