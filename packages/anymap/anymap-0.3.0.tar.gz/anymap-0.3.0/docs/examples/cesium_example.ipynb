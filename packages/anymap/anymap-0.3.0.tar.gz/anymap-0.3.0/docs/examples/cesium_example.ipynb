{
 "cells": [
  {
   "cell_type": "markdown",
   "metadata": {},
   "source": [
    "# Cesium 3D Globe Example\n",
    "\n",
    "This notebook demonstrates the capabilities of the anymap CesiumMap widget for creating interactive 3D globe visualizations.\n",
    "\n",
    "## Setup\n",
    "\n",
    "First, make sure you have a Cesium ion access token. You can get a free one at https://cesium.com/ion/signup"
   ]
  },
  {
   "cell_type": "code",
   "execution_count": null,
   "metadata": {},
   "outputs": [],
   "source": [
    "import os\n",
    "from anymap import CesiumMap\n",
    "\n",
    "# Set your Cesium token (get a free one at https://cesium.com/ion/signup)\n",
    "# You can either set it as an environment variable CESIUM_TOKEN or pass it directly\n",
    "# os.environ['CESIUM_TOKEN'] = 'your_token_here'\n",
    "\n",
    "print(\"Cesium backend loaded successfully!\")"
   ]
  },
  {
   "cell_type": "markdown",
   "metadata": {},
   "source": [
    "## Basic 3D Globe\n",
    "\n",
    "Create a basic 3D globe centered on a specific location:"
   ]
  },
  {
   "cell_type": "code",
   "execution_count": null,
   "metadata": {},
   "outputs": [],
   "source": [
    "from anymap import CesiumMap\n",
    "\n",
    "# Create a basic Cesium map centered on New York City\n",
    "globe = CesiumMap(\n",
    "    center=[40.7128, -74.0060],  # NYC coordinates\n",
    "    camera_height=2000000,  # 2000 km above surface\n",
    "    width=\"100%\",\n",
    "    height=\"600px\",\n",
    "    navigation_help_button=False,\n",
    ")\n",
    "\n",
    "globe"
   ]
  },
  {
   "cell_type": "markdown",
   "metadata": {},
   "source": [
    "## Adding Points and Markers\n",
    "\n",
    "Add various points and billboards to the globe:"
   ]
  },
  {
   "cell_type": "code",
   "execution_count": null,
   "metadata": {},
   "outputs": [],
   "source": [
    "# Add some famous landmarks as points\n",
    "globe.add_point(\n",
    "    40.7128,\n",
    "    -74.0060,\n",
    "    height=200000,  # 200 km above NYC\n",
    "    name=\"New York City\",\n",
    "    description=\"The Big Apple\",\n",
    "    color=\"#ff0000\",\n",
    "    pixel_size=20,\n",
    ")\n",
    "\n",
    "globe.add_point(\n",
    "    51.5074,\n",
    "    -0.1278,\n",
    "    height=150000,  # 150 km above London\n",
    "    name=\"London\",\n",
    "    description=\"Capital of England\",\n",
    "    color=\"#0000ff\",\n",
    "    pixel_size=15,\n",
    ")\n",
    "\n",
    "globe.add_point(\n",
    "    35.6762,\n",
    "    139.6503,\n",
    "    height=100000,  # 100 km above Tokyo\n",
    "    name=\"Tokyo\",\n",
    "    description=\"Capital of Japan\",\n",
    "    color=\"#00ff00\",\n",
    "    pixel_size=18,\n",
    ")\n",
    "\n",
    "print(\"Added landmark points to the globe!\")"
   ]
  },
  {
   "cell_type": "markdown",
   "metadata": {},
   "source": [
    "## Camera Controls and Navigation\n",
    "\n",
    "Demonstrate camera movement and positioning:"
   ]
  },
  {
   "cell_type": "code",
   "execution_count": null,
   "metadata": {},
   "outputs": [],
   "source": [
    "# Fly to different locations with smooth transitions\n",
    "globe.fly_to(\n",
    "    51.5074,\n",
    "    -0.1278,  # London\n",
    "    height=5000000,  # 5000 km above\n",
    "    duration=3.0,\n",
    "    heading=45,\n",
    "    pitch=-30,\n",
    ")\n",
    "\n",
    "print(\"Flying to London...\")"
   ]
  },
  {
   "cell_type": "code",
   "execution_count": null,
   "metadata": {},
   "outputs": [],
   "source": [
    "# Fly to Tokyo with different camera angle\n",
    "globe.fly_to(\n",
    "    35.6762,\n",
    "    139.6503,  # Tokyo\n",
    "    height=3000000,  # 3000 km above\n",
    "    duration=4.0,\n",
    "    heading=90,\n",
    "    pitch=-45,\n",
    ")\n",
    "\n",
    "print(\"Flying to Tokyo...\")"
   ]
  },
  {
   "cell_type": "markdown",
   "metadata": {},
   "source": [
    "## Adding 3D Geometries\n",
    "\n",
    "Add polylines and polygons to show connections and regions:"
   ]
  },
  {
   "cell_type": "code",
   "execution_count": null,
   "metadata": {},
   "outputs": [],
   "source": [
    "# Add a flight path polyline from NYC to London\n",
    "flight_path = [\n",
    "    [40.7128, -74.0060, 10000],  # NYC at 10km altitude\n",
    "    [45.0, -30.0, 12000],  # Midpoint over Atlantic\n",
    "    [51.5074, -0.1278, 10000],  # London at 10km altitude\n",
    "]\n",
    "\n",
    "globe.add_polyline(\n",
    "    flight_path,\n",
    "    width=3,\n",
    "    color=\"#ffff00\",\n",
    "    name=\"NYC to London Flight Path\",\n",
    "    description=\"Transatlantic flight route\",\n",
    ")\n",
    "\n",
    "print(\"Added flight path polyline!\")"
   ]
  },
  {
   "cell_type": "code",
   "execution_count": null,
   "metadata": {},
   "outputs": [],
   "source": [
    "# Add a polygon area around the Mediterranean Sea\n",
    "mediterranean_bounds = [\n",
    "    [30.0, -6.0, 0],  # Gibraltar area\n",
    "    [30.0, 36.0, 0],  # Eastern Mediterranean\n",
    "    [46.0, 36.0, 0],  # Turkey area\n",
    "    [46.0, -6.0, 0],  # Spain area\n",
    "    [30.0, -6.0, 0],  # Close the polygon\n",
    "]\n",
    "\n",
    "globe.add_polygon(\n",
    "    mediterranean_bounds,\n",
    "    color=\"rgba(0, 100, 255, 0.3)\",  # Semi-transparent blue\n",
    "    outline_color=\"#0064ff\",\n",
    "    name=\"Mediterranean Region\",\n",
    "    description=\"Mediterranean Sea region\",\n",
    ")\n",
    "\n",
    "print(\"Added Mediterranean polygon!\")"
   ]
  },
  {
   "cell_type": "markdown",
   "metadata": {},
   "source": [
    "## Working with GeoJSON Data\n",
    "\n",
    "Load and display GeoJSON data on the globe:"
   ]
  },
  {
   "cell_type": "code",
   "execution_count": null,
   "metadata": {},
   "outputs": [],
   "source": [
    "# Sample GeoJSON data with world capitals\n",
    "world_capitals_geojson = {\n",
    "    \"type\": \"FeatureCollection\",\n",
    "    \"features\": [\n",
    "        {\n",
    "            \"type\": \"Feature\",\n",
    "            \"geometry\": {\n",
    "                \"type\": \"Point\",\n",
    "                \"coordinates\": [-77.0369, 38.9072],  # Washington DC\n",
    "            },\n",
    "            \"properties\": {\n",
    "                \"name\": \"Washington DC\",\n",
    "                \"country\": \"USA\",\n",
    "                \"population\": 705749,\n",
    "            },\n",
    "        },\n",
    "        {\n",
    "            \"type\": \"Feature\",\n",
    "            \"geometry\": {\"type\": \"Point\", \"coordinates\": [2.3522, 48.8566]},  # Paris\n",
    "            \"properties\": {\"name\": \"Paris\", \"country\": \"France\", \"population\": 2161000},\n",
    "        },\n",
    "        {\n",
    "            \"type\": \"Feature\",\n",
    "            \"geometry\": {\n",
    "                \"type\": \"Point\",\n",
    "                \"coordinates\": [116.4074, 39.9042],  # Beijing\n",
    "            },\n",
    "            \"properties\": {\n",
    "                \"name\": \"Beijing\",\n",
    "                \"country\": \"China\",\n",
    "                \"population\": 21540000,\n",
    "            },\n",
    "        },\n",
    "    ],\n",
    "}\n",
    "\n",
    "# Add GeoJSON data to the globe\n",
    "globe.add_geojson(\n",
    "    world_capitals_geojson, options={\"name\": \"World Capitals\", \"clampToGround\": True}\n",
    ")\n",
    "\n",
    "print(\"Added world capitals GeoJSON data!\")"
   ]
  },
  {
   "cell_type": "markdown",
   "metadata": {},
   "source": [
    "## Terrain and Imagery\n",
    "\n",
    "Configure terrain and satellite imagery:"
   ]
  },
  {
   "cell_type": "code",
   "execution_count": null,
   "metadata": {},
   "outputs": [],
   "source": [
    "# Enable Cesium World Terrain for realistic 3D terrain\n",
    "globe.set_cesium_world_terrain(request_water_mask=True, request_vertex_normals=True)\n",
    "\n",
    "print(\"Enabled Cesium World Terrain!\")"
   ]
  },
  {
   "cell_type": "code",
   "execution_count": null,
   "metadata": {},
   "outputs": [],
   "source": [
    "# Switch to satellite imagery (requires Bing Maps key for best results)\n",
    "# You can get a Bing Maps key at https://www.bingmapsportal.com/\n",
    "globe.set_imagery(\n",
    "    {\n",
    "        \"type\": \"osm\",  # Using OpenStreetMap as fallback\n",
    "        \"url\": \"https://tile.openstreetmap.org/\",\n",
    "    }\n",
    ")\n",
    "\n",
    "print(\"Changed to OpenStreetMap imagery!\")"
   ]
  },
  {
   "cell_type": "markdown",
   "metadata": {},
   "source": [
    "## Scene Modes and Effects\n",
    "\n",
    "Experiment with different viewing modes and atmospheric effects:"
   ]
  },
  {
   "cell_type": "code",
   "execution_count": null,
   "metadata": {},
   "outputs": [],
   "source": [
    "# Enable atmospheric effects\n",
    "globe.enable_lighting(True)\n",
    "globe.enable_fog(True)\n",
    "\n",
    "print(\"Enabled lighting and atmospheric fog!\")"
   ]
  },
  {
   "cell_type": "code",
   "execution_count": null,
   "metadata": {},
   "outputs": [],
   "source": [
    "# Switch to 2D mode for flat map view\n",
    "globe.set_scene_mode_2d()\n",
    "\n",
    "print(\"Switched to 2D mode!\")"
   ]
  },
  {
   "cell_type": "code",
   "execution_count": null,
   "metadata": {},
   "outputs": [],
   "source": [
    "# Switch to Columbus view (2.5D)\n",
    "globe.set_scene_mode_columbus()\n",
    "\n",
    "print(\"Switched to Columbus view!\")"
   ]
  },
  {
   "cell_type": "code",
   "execution_count": null,
   "metadata": {},
   "outputs": [],
   "source": [
    "# Back to full 3D mode\n",
    "globe.set_scene_mode_3d()\n",
    "\n",
    "print(\"Switched back to 3D mode!\")"
   ]
  },
  {
   "cell_type": "markdown",
   "metadata": {},
   "source": [
    "## Event Handling\n",
    "\n",
    "Set up event handlers to respond to user interactions:"
   ]
  },
  {
   "cell_type": "code",
   "execution_count": null,
   "metadata": {},
   "outputs": [],
   "source": [
    "# Define event handler functions\n",
    "def on_click(event):\n",
    "    print(\n",
    "        f\"Globe clicked at: Lat {event['latitude']:.4f}, Lon {event['longitude']:.4f}, Height {event['height']:.0f}m\"\n",
    "    )\n",
    "    if event.get(\"pickedObject\"):\n",
    "        print(f\"Clicked on object: {event['pickedObject']}\")\n",
    "\n",
    "\n",
    "def on_camera_move(event):\n",
    "    print(\n",
    "        f\"Camera moved to: Lat {event['latitude']:.4f}, Lon {event['longitude']:.4f}, Height {event['height']:.0f}m\"\n",
    "    )\n",
    "\n",
    "\n",
    "# Register event handlers\n",
    "globe.on_map_event(\"click\", on_click)\n",
    "globe.on_map_event(\"moveend\", on_camera_move)\n",
    "\n",
    "print(\"Event handlers registered! Click on the globe or move the camera to see events.\")"
   ]
  },
  {
   "cell_type": "markdown",
   "metadata": {},
   "source": [
    "## Multi-cell Rendering Test\n",
    "\n",
    "Test that the globe works correctly when displayed in multiple cells:"
   ]
  },
  {
   "cell_type": "code",
   "execution_count": null,
   "metadata": {},
   "outputs": [],
   "source": [
    "# Display the same globe instance again\n",
    "# This should maintain all the data and state from above\n",
    "globe"
   ]
  },
  {
   "cell_type": "code",
   "execution_count": null,
   "metadata": {},
   "outputs": [],
   "source": [
    "# Add another point while displayed in multiple cells\n",
    "globe.add_point(\n",
    "    -33.8688,\n",
    "    151.2093,  # Sydney\n",
    "    height=500000,\n",
    "    name=\"Sydney\",\n",
    "    description=\"Largest city in Australia\",\n",
    "    color=\"#ff8800\",\n",
    "    pixel_size=16,\n",
    ")\n",
    "\n",
    "print(\"Added Sydney! The point should appear on all globe instances above.\")"
   ]
  },
  {
   "cell_type": "markdown",
   "metadata": {},
   "source": [
    "## Creating a Second Globe Instance\n",
    "\n",
    "Create a separate globe to verify independence:"
   ]
  },
  {
   "cell_type": "code",
   "execution_count": null,
   "metadata": {},
   "outputs": [],
   "source": [
    "# Create a second, independent globe\n",
    "globe2 = CesiumMap(\n",
    "    center=[-33.8688, 151.2093],  # Centered on Sydney\n",
    "    camera_height=1000000,  # 1000 km above\n",
    "    width=\"100%\",\n",
    "    height=\"500px\",\n",
    "    timeline=False,  # Disable timeline for cleaner look\n",
    "    animation=False,  # Disable animation controls\n",
    ")\n",
    "\n",
    "# Add different content to the second globe\n",
    "globe2.add_point(\n",
    "    -33.8688,\n",
    "    151.2093,\n",
    "    height=50000,\n",
    "    name=\"Sydney Opera House Area\",\n",
    "    color=\"#9900ff\",\n",
    "    pixel_size=25,\n",
    ")\n",
    "\n",
    "globe2.add_point(\n",
    "    -37.8136,\n",
    "    144.9631,  # Melbourne\n",
    "    height=40000,\n",
    "    name=\"Melbourne\",\n",
    "    color=\"#00ffff\",\n",
    "    pixel_size=20,\n",
    ")\n",
    "\n",
    "globe2"
   ]
  },
  {
   "cell_type": "markdown",
   "metadata": {},
   "source": [
    "## Reset and Home View\n",
    "\n",
    "Return to the home view:"
   ]
  },
  {
   "cell_type": "code",
   "execution_count": null,
   "metadata": {},
   "outputs": [],
   "source": [
    "# Reset camera to home position\n",
    "globe.home()\n",
    "\n",
    "print(\"Camera reset to home position!\")"
   ]
  },
  {
   "cell_type": "markdown",
   "metadata": {},
   "source": [
    "## Summary\n",
    "\n",
    "This notebook demonstrated the key features of the anymap CesiumMap widget:\n",
    "\n",
    "1. **3D Globe Visualization**: Interactive 3D globe with realistic Earth rendering\n",
    "2. **Points and Markers**: Adding labeled points at various heights\n",
    "3. **3D Geometries**: Polylines and polygons for paths and regions\n",
    "4. **GeoJSON Support**: Loading external geographic data\n",
    "5. **Terrain and Imagery**: Realistic 3D terrain and satellite imagery\n",
    "6. **Scene Modes**: 3D, 2D, and Columbus view modes\n",
    "7. **Camera Controls**: Smooth fly-to animations and positioning\n",
    "8. **Event Handling**: Responding to user interactions\n",
    "9. **Multi-cell Rendering**: Persistent state across notebook cells\n",
    "10. **Multiple Instances**: Independent globe widgets\n",
    "\n",
    "The CesiumMap widget provides a powerful platform for creating interactive 3D geospatial visualizations with the full capabilities of Cesium.js in a Jupyter environment."
   ]
  }
 ],
 "metadata": {
  "kernelspec": {
   "display_name": "Python 3",
   "language": "python",
   "name": "python3"
  },
  "language_info": {
   "codemirror_mode": {
    "name": "ipython",
    "version": 3
   },
   "file_extension": ".py",
   "mimetype": "text/x-python",
   "name": "python",
   "nbconvert_exporter": "python",
   "pygments_lexer": "ipython3",
   "version": "3.12.2"
  }
 },
 "nbformat": 4,
 "nbformat_minor": 4
}
