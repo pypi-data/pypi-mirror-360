{
 "cells": [
  {
   "cell_type": "markdown",
   "metadata": {},
   "source": [
    "# Map Comparison Example\n",
    "\n",
    "This notebook demonstrates the map comparison functionality in anymap using the MapCompare widget. You can compare two maps side-by-side with different styles, data layers, or temporal states.\n",
    "\n",
    "## Features\n",
    "\n",
    "- Side-by-side map comparison with swipe control\n",
    "- Support for both MapLibre and Mapbox backends\n",
    "- Configurable orientation (vertical/horizontal)\n",
    "- Map synchronization options\n",
    "- Interactive slider control"
   ]
  },
  {
   "cell_type": "code",
   "execution_count": null,
   "metadata": {},
   "outputs": [],
   "source": [
    "import anymap"
   ]
  },
  {
   "cell_type": "markdown",
   "metadata": {},
   "source": [
    "## Basic MapLibre Comparison\n",
    "\n",
    "Let's start with a basic comparison of two different MapLibre styles."
   ]
  },
  {
   "cell_type": "code",
   "execution_count": null,
   "metadata": {},
   "outputs": [],
   "source": [
    "# Basic MapLibre comparison with different styles\n",
    "compare = anymap.MapCompare(\n",
    "    left_map={\n",
    "        \"center\": [37.7749, -122.4194],  # San Francisco\n",
    "        \"zoom\": 12,\n",
    "        \"style\": \"https://demotiles.maplibre.org/style.json\",\n",
    "    },\n",
    "    right_map={\n",
    "        \"center\": [37.7749, -122.4194],\n",
    "        \"zoom\": 12,\n",
    "        \"style\": \"https://tiles.stadiamaps.com/styles/alidade_smooth.json\",\n",
    "    },\n",
    "    backend=\"maplibre\",\n",
    "    orientation=\"vertical\",\n",
    "    mousemove=False,\n",
    "    height=\"600px\",\n",
    ")\n",
    "\n",
    "compare"
   ]
  },
  {
   "cell_type": "markdown",
   "metadata": {},
   "source": [
    "## Controlling the Slider Position\n",
    "\n",
    "You can programmatically control the slider position."
   ]
  },
  {
   "cell_type": "code",
   "execution_count": null,
   "metadata": {},
   "outputs": [],
   "source": [
    "# Move slider to 25% position (more of the left map visible)\n",
    "compare.set_slider_position(0.25)"
   ]
  },
  {
   "cell_type": "code",
   "execution_count": null,
   "metadata": {},
   "outputs": [],
   "source": [
    "# Move slider to 75% position (more of the right map visible)\n",
    "compare.set_slider_position(0.75)"
   ]
  },
  {
   "cell_type": "code",
   "execution_count": null,
   "metadata": {},
   "outputs": [],
   "source": [
    "# Center the slider\"\n",
    "compare.set_slider_position(0.5)"
   ]
  },
  {
   "cell_type": "markdown",
   "metadata": {},
   "source": [
    "## Changing Orientation\n",
    "\n",
    "You can switch between vertical and horizontal orientations."
   ]
  },
  {
   "cell_type": "code",
   "execution_count": null,
   "metadata": {},
   "outputs": [],
   "source": [
    "# Switch to horizontal orientation (top/bottom comparison)\n",
    "compare.set_orientation(\"horizontal\")"
   ]
  },
  {
   "cell_type": "code",
   "execution_count": null,
   "metadata": {},
   "outputs": [],
   "source": [
    "# Switch back to vertical orientation (left/right comparison)\n",
    "compare.set_orientation(\"vertical\")"
   ]
  },
  {
   "cell_type": "markdown",
   "metadata": {},
   "source": [
    "## Enabling/Disabling Mouse Move\n",
    "\n",
    "You can control whether the slider follows mouse movement or requires dragging."
   ]
  },
  {
   "cell_type": "code",
   "execution_count": null,
   "metadata": {},
   "outputs": [],
   "source": [
    "# Disable mouse move (slider must be dragged)\n",
    "compare.enable_mousemove(False)"
   ]
  },
  {
   "cell_type": "code",
   "execution_count": null,
   "metadata": {},
   "outputs": [],
   "source": [
    "# Re-enable mouse move\n",
    "compare.enable_mousemove(True)"
   ]
  },
  {
   "cell_type": "markdown",
   "metadata": {},
   "source": [
    "## Updating Map Styles\n",
    "\n",
    "You can dynamically update the styles of either map."
   ]
  },
  {
   "cell_type": "code",
   "execution_count": null,
   "metadata": {},
   "outputs": [],
   "source": [
    "# Update the left map to a different style\n",
    "compare.update_left_map({\"style\": \"https://tiles.stadiamaps.com/styles/outdoors.json\"})"
   ]
  },
  {
   "cell_type": "code",
   "execution_count": null,
   "metadata": {},
   "outputs": [],
   "source": [
    "# Update the right map to a satellite style\n",
    "compare.update_right_map(\n",
    "    {\"style\": \"https://tiles.stadiamaps.com/styles/alidade_satellite.json\"}\n",
    ")"
   ]
  },
  {
   "cell_type": "markdown",
   "metadata": {},
   "source": [
    "## Flying to Different Locations\n",
    "\n",
    "You can fly both maps to a new location simultaneously."
   ]
  },
  {
   "cell_type": "code",
   "execution_count": null,
   "metadata": {},
   "outputs": [],
   "source": [
    "# Fly to New York City\n",
    "compare.fly_to(40.7128, -74.0060, zoom=13)"
   ]
  },
  {
   "cell_type": "code",
   "execution_count": null,
   "metadata": {},
   "outputs": [],
   "source": [
    "# Fly to London\n",
    "compare.fly_to(51.5074, -0.1278, zoom=12)"
   ]
  },
  {
   "cell_type": "markdown",
   "metadata": {},
   "source": [
    "## Synchronization Options\n",
    "\n",
    "You can control which aspects of the maps are synchronized."
   ]
  },
  {
   "cell_type": "code",
   "execution_count": null,
   "metadata": {},
   "outputs": [],
   "source": [
    "# Disable center synchronization but keep zoom sync\n",
    "compare.set_sync_options(center=False, zoom=True, bearing=True, pitch=True)"
   ]
  },
  {
   "cell_type": "code",
   "execution_count": null,
   "metadata": {},
   "outputs": [],
   "source": [
    "# Re-enable all synchronization\n",
    "compare.set_sync_options(center=True, zoom=True, bearing=True, pitch=True)"
   ]
  },
  {
   "cell_type": "markdown",
   "metadata": {},
   "source": [
    "## Mapbox Comparison (requires access token)\n",
    "\n",
    "If you have a Mapbox access token, you can use Mapbox styles for comparison."
   ]
  },
  {
   "cell_type": "code",
   "execution_count": null,
   "metadata": {},
   "outputs": [],
   "source": [
    "# Uncomment and set your Mapbox access token\n",
    "# import os\n",
    "# os.environ['MAPBOX_ACCESS_TOKEN'] = 'your_mapbox_token_here'\n",
    "\n",
    "# mapbox_compare = anymap.MapCompare(\n",
    "#     left_map={\n",
    "#         \"center\": [37.7749, -122.4194],\n",
    "#         \"zoom\": 12,\n",
    "#         \"style\": \"mapbox://styles/mapbox/streets-v12\"\n",
    "#     },\n",
    "#     right_map={\n",
    "#         \"center\": [37.7749, -122.4194],\n",
    "#         \"zoom\": 12,\n",
    "#         \"style\": \"mapbox://styles/mapbox/satellite-v9\"\n",
    "#     },\n",
    "#     backend=\"mapbox\",\n",
    "#     orientation=\"vertical\",\n",
    "#     mousemove=True,\n",
    "#     height=\"500px\"\n",
    "# )\n",
    "\n",
    "# mapbox_compare"
   ]
  },
  {
   "cell_type": "markdown",
   "metadata": {},
   "source": [
    "## Event Handling\n",
    "\n",
    "You can listen to events from the comparison widget."
   ]
  },
  {
   "cell_type": "code",
   "execution_count": null,
   "metadata": {},
   "outputs": [],
   "source": [
    "# Define an event handler\n",
    "def on_slide_end(event):\n",
    "    print(f\"Slider moved to position: {event.get('position', 'unknown')}\")\n",
    "\n",
    "\n",
    "# Register the event handler\n",
    "compare.on_event(\"slideend\", on_slide_end)"
   ]
  },
  {
   "cell_type": "markdown",
   "metadata": {},
   "source": [
    "## Conclusion\n",
    "\n",
    "The MapCompare widget provides a powerful way to compare different map styles, data layers, or temporal states side-by-side. Key features include:\n",
    "\n",
    "1. **Interactive Swipe Control**: Easily compare maps by dragging the slider or moving the mouse\n",
    "2. **Multiple Backends**: Support for both MapLibre and Mapbox\n",
    "3. **Flexible Orientation**: Choose between vertical and horizontal comparisons\n",
    "4. **Synchronization Options**: Control which map properties are synchronized\n",
    "5. **Dynamic Updates**: Change styles and settings programmatically\n",
    "6. **Multiple Widgets**: Create multiple comparisons in the same notebook\n",
    "7. **HTML Export**: Export comparisons to standalone HTML files\n",
    "\n",
    "This makes it ideal for:\n",
    "- Comparing different map styles\n",
    "- Before/after visualizations\n",
    "- Temporal data comparisons\n",
    "- A/B testing of map designs\n",
    "- Educational demonstrations\n",
    "- Sharing interactive comparisons as HTML files"
   ]
  },
  {
   "cell_type": "code",
   "execution_count": null,
   "metadata": {},
   "outputs": [],
   "source": [
    "# Second comparison with different settings\n",
    "compare2 = anymap.MapCompare(\n",
    "    left_map={\n",
    "        \"center\": [51.5074, -0.1278],  # London\n",
    "        \"zoom\": 10,\n",
    "        \"style\": \"https://demotiles.maplibre.org/style.json\",\n",
    "    },\n",
    "    right_map={\n",
    "        \"center\": [51.5074, -0.1278],\n",
    "        \"zoom\": 10,\n",
    "        \"style\": \"https://tiles.stadiamaps.com/styles/alidade_smooth_dark.json\",\n",
    "    },\n",
    "    backend=\"maplibre\",\n",
    "    orientation=\"horizontal\",\n",
    "    mousemove=False,\n",
    "    height=\"400px\",\n",
    ")\n",
    "\n",
    "compare2"
   ]
  },
  {
   "cell_type": "markdown",
   "metadata": {},
   "source": [
    "## HTML Export\n",
    "\n",
    "You can export any comparison widget to a standalone HTML file."
   ]
  },
  {
   "cell_type": "code",
   "execution_count": null,
   "metadata": {},
   "outputs": [],
   "source": [
    "# You can also get the HTML content without saving to file\n",
    "html_content = compare.to_html(title=\"My Map Comparison\")\n",
    "print(\"HTML content generated (first 500 characters):\")\n",
    "print(html_content[:500] + \"...\")"
   ]
  },
  {
   "cell_type": "code",
   "execution_count": null,
   "metadata": {},
   "outputs": [],
   "source": [
    "# Export to HTML file\n",
    "html_content = compare.to_html(\n",
    "    filename=\"map_comparison.html\", title=\"San Francisco Map Style Comparison\"\n",
    ")\n",
    "\n",
    "print(\"Map comparison exported to map_comparison.html\")\n",
    "print(f\"HTML file size: {len(html_content)} characters\")"
   ]
  },
  {
   "cell_type": "markdown",
   "metadata": {},
   "source": [
    "## Conclusion\n",
    "\n",
    "The MapCompare widget provides a powerful way to compare different map styles, data layers, or temporal states side-by-side. Key features include:\n",
    "\n",
    "1. **Interactive Swipe Control**: Easily compare maps by dragging the slider or moving the mouse\n",
    "2. **Multiple Backends**: Support for both MapLibre and Mapbox\n",
    "3. **Flexible Orientation**: Choose between vertical and horizontal comparisons\n",
    "4. **Synchronization Options**: Control which map properties are synchronized\n",
    "5. **Dynamic Updates**: Change styles and settings programmatically\n",
    "6. **Multiple Widgets**: Create multiple comparisons in the same notebook\n",
    "\n",
    "This makes it ideal for:\n",
    "- Comparing different map styles\n",
    "- Before/after visualizations\n",
    "- Temporal data comparisons\n",
    "- A/B testing of map designs\n",
    "- Educational demonstrations"
   ]
  }
 ],
 "metadata": {
  "kernelspec": {
   "display_name": "Python 3",
   "language": "python",
   "name": "python3"
  },
  "language_info": {
   "codemirror_mode": {
    "name": "ipython",
    "version": 3
   },
   "file_extension": ".py",
   "mimetype": "text/x-python",
   "name": "python",
   "nbconvert_exporter": "python",
   "pygments_lexer": "ipython3",
   "version": "3.12.2"
  }
 },
 "nbformat": 4,
 "nbformat_minor": 4
}
