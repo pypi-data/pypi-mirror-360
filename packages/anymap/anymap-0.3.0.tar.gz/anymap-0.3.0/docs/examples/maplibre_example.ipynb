{
 "cells": [
  {
   "cell_type": "markdown",
   "metadata": {},
   "source": [
    "# AnyMap Multi-Cell Rendering Test\n",
    "\n",
    "This notebook thoroughly tests the anymap package's ability to render interactive maps across multiple cells without issues. It also tests layer persistence, bidirectional communication, and various MapLibre features."
   ]
  },
  {
   "cell_type": "code",
   "execution_count": null,
   "metadata": {},
   "outputs": [],
   "source": [
    "# Import required modules\n",
    "from anymap import MapLibreMap\n",
    "import json\n",
    "import time\n",
    "\n",
    "print(\"AnyMap version loaded successfully!\")"
   ]
  },
  {
   "cell_type": "markdown",
   "metadata": {},
   "source": [
    "## Test 1: Basic Map Creation and Multi-Cell Rendering\n",
    "\n",
    "Let's create a map and test that it renders correctly across multiple cells."
   ]
  },
  {
   "cell_type": "code",
   "execution_count": null,
   "metadata": {},
   "outputs": [],
   "source": [
    "# Create the main test map\n",
    "m = MapLibreMap(\n",
    "    center=[37.7749, -122.4194], zoom=12, height=\"500px\", width=\"100%\"  # San Francisco\n",
    ")\n",
    "\n",
    "print(\"Map created. Displaying first time...\")\n",
    "m"
   ]
  },
  {
   "cell_type": "code",
   "execution_count": null,
   "metadata": {},
   "outputs": [],
   "source": [
    "# Display the same map instance again - should render without issues\n",
    "print(\"Displaying the SAME map instance in a second cell...\")\n",
    "m"
   ]
  },
  {
   "cell_type": "markdown",
   "metadata": {},
   "source": [
    "## Test 2: Layer Persistence\n",
    "\n",
    "Now let's add some layers and verify they persist when the map is rendered in multiple cells."
   ]
  },
  {
   "cell_type": "code",
   "execution_count": null,
   "metadata": {},
   "outputs": [],
   "source": [
    "# Add a GeoJSON layer with points of interest in San Francisco\n",
    "sf_poi = {\n",
    "    \"type\": \"FeatureCollection\",\n",
    "    \"features\": [\n",
    "        {\n",
    "            \"type\": \"Feature\",\n",
    "            \"geometry\": {\"type\": \"Point\", \"coordinates\": [-122.4194, 37.7749]},\n",
    "            \"properties\": {\"name\": \"San Francisco City Hall\", \"type\": \"government\"},\n",
    "        },\n",
    "        {\n",
    "            \"type\": \"Feature\",\n",
    "            \"geometry\": {\"type\": \"Point\", \"coordinates\": [-122.4183, 37.7793]},\n",
    "            \"properties\": {\"name\": \"Golden Gate Park\", \"type\": \"park\"},\n",
    "        },\n",
    "        {\n",
    "            \"type\": \"Feature\",\n",
    "            \"geometry\": {\"type\": \"Point\", \"coordinates\": [-122.3959, 37.7937]},\n",
    "            \"properties\": {\"name\": \"Fisherman's Wharf\", \"type\": \"attraction\"},\n",
    "        },\n",
    "    ],\n",
    "}\n",
    "\n",
    "# Add the layer\n",
    "m.add_geojson_layer(\n",
    "    layer_id=\"sf_poi\",\n",
    "    geojson_data=sf_poi,\n",
    "    layer_type=\"circle\",\n",
    "    paint={\n",
    "        \"circle-radius\": 8,\n",
    "        \"circle-color\": \"#ff6b6b\",\n",
    "        \"circle-stroke-width\": 2,\n",
    "        \"circle-stroke-color\": \"#ffffff\",\n",
    "    },\n",
    ")\n",
    "\n",
    "# Add markers\n",
    "m.add_marker(37.7749, -122.4194, popup=\"<b>City Hall</b><br>Government building\")\n",
    "m.add_marker(37.7793, -122.4183, popup=\"<b>Golden Gate Park</b><br>Beautiful park\")\n",
    "\n",
    "print(\"Added GeoJSON layer and markers. Current layers:\", list(m.get_layers().keys()))"
   ]
  },
  {
   "cell_type": "code",
   "execution_count": null,
   "metadata": {},
   "outputs": [],
   "source": [
    "# Render the map again - layers should persist\n",
    "print(\"Rendering map with layers in a new cell...\")\n",
    "print(\"Layers should be visible:\", list(m.get_layers().keys()))\n",
    "print(\"Sources should include:\", list(m.get_sources().keys()))\n",
    "m"
   ]
  },
  {
   "cell_type": "code",
   "execution_count": null,
   "metadata": {},
   "outputs": [],
   "source": [
    "m"
   ]
  },
  {
   "cell_type": "markdown",
   "metadata": {},
   "source": [
    "## Test 3: Dynamic Map Modifications\n",
    "\n",
    "Test that modifications to the map work correctly across cells."
   ]
  },
  {
   "cell_type": "code",
   "execution_count": null,
   "metadata": {},
   "outputs": [],
   "source": [
    "# Modify map properties\n",
    "m.fly_to(37.8044, -122.2712, zoom=15)  # Fly to Berkeley\n",
    "m.set_bearing(45)  # Rotate the map\n",
    "m.set_pitch(45)  # Tilt the map\n",
    "\n",
    "print(\"Modified map view - flying to Berkeley with rotation and tilt\")"
   ]
  },
  {
   "cell_type": "code",
   "execution_count": null,
   "metadata": {},
   "outputs": [],
   "source": [
    "# Add more layers to test different layer types\n",
    "berkeley_area = {\n",
    "    \"type\": \"FeatureCollection\",\n",
    "    \"features\": [\n",
    "        {\n",
    "            \"type\": \"Feature\",\n",
    "            \"geometry\": {\n",
    "                \"type\": \"Polygon\",\n",
    "                \"coordinates\": [\n",
    "                    [\n",
    "                        [-122.2850, 37.8000],\n",
    "                        [-122.2700, 37.8000],\n",
    "                        [-122.2700, 37.8100],\n",
    "                        [-122.2850, 37.8100],\n",
    "                        [-122.2850, 37.8000],\n",
    "                    ]\n",
    "                ],\n",
    "            },\n",
    "            \"properties\": {\"name\": \"Berkeley Area\"},\n",
    "        }\n",
    "    ],\n",
    "}\n",
    "\n",
    "# Add polygon layer\n",
    "m.add_geojson_layer(\n",
    "    layer_id=\"berkeley_area\",\n",
    "    geojson_data=berkeley_area,\n",
    "    layer_type=\"fill\",\n",
    "    paint={\"fill-color\": \"#4a90e2\", \"fill-opacity\": 0.3},\n",
    ")\n",
    "\n",
    "print(\"Added Berkeley area polygon layer\")"
   ]
  },
  {
   "cell_type": "code",
   "execution_count": null,
   "metadata": {},
   "outputs": [],
   "source": [
    "m"
   ]
  },
  {
   "cell_type": "code",
   "execution_count": null,
   "metadata": {},
   "outputs": [],
   "source": [
    "m"
   ]
  },
  {
   "cell_type": "code",
   "execution_count": null,
   "metadata": {},
   "outputs": [],
   "source": [
    "# Display map again with all modifications\n",
    "print(\"Displaying map with all modifications and layers:\")\n",
    "print(\"Current layers:\", list(m.get_layers().keys()))\n",
    "m"
   ]
  },
  {
   "cell_type": "markdown",
   "metadata": {},
   "source": [
    "## Test 4: Multiple Independent Map Instances\n",
    "\n",
    "Test creating multiple independent map instances that work independently."
   ]
  },
  {
   "cell_type": "code",
   "execution_count": null,
   "metadata": {},
   "outputs": [],
   "source": [
    "# Create a second independent map\n",
    "m2 = MapLibreMap(center=[40.7128, -74.0060], zoom=12, height=\"600px\")  # New York City\n",
    "\n",
    "# Add different data to the second map\n",
    "nyc_poi = {\n",
    "    \"type\": \"FeatureCollection\",\n",
    "    \"features\": [\n",
    "        {\n",
    "            \"type\": \"Feature\",\n",
    "            \"geometry\": {\"type\": \"Point\", \"coordinates\": [-74.0060, 40.7128]},\n",
    "            \"properties\": {\"name\": \"Times Square\", \"type\": \"attraction\"},\n",
    "        },\n",
    "        {\n",
    "            \"type\": \"Feature\",\n",
    "            \"geometry\": {\"type\": \"Point\", \"coordinates\": [-73.9857, 40.7484]},\n",
    "            \"properties\": {\"name\": \"Central Park\", \"type\": \"park\"},\n",
    "        },\n",
    "    ],\n",
    "}\n",
    "\n",
    "m2.add_geojson_layer(\n",
    "    layer_id=\"nyc_poi\",\n",
    "    geojson_data=nyc_poi,\n",
    "    layer_type=\"circle\",\n",
    "    paint={\n",
    "        \"circle-radius\": 10,\n",
    "        \"circle-color\": \"#50C878\",\n",
    "        \"circle-stroke-width\": 2,\n",
    "        \"circle-stroke-color\": \"#ffffff\",\n",
    "    },\n",
    ")\n",
    "\n",
    "print(\"Created second map (NYC) with different layers\")\n",
    "print(\"Map 1 layers:\", list(m.get_layers().keys()))\n",
    "print(\"Map 2 layers:\", list(m2.get_layers().keys()))\n",
    "m2"
   ]
  },
  {
   "cell_type": "code",
   "execution_count": null,
   "metadata": {},
   "outputs": [],
   "source": [
    "# Display both maps side by side to verify independence\n",
    "print(\"Original map (San Francisco/Berkeley area):\")\n",
    "print(\"Layers:\", list(m.get_layers().keys()))\n",
    "m"
   ]
  },
  {
   "cell_type": "code",
   "execution_count": null,
   "metadata": {},
   "outputs": [],
   "source": [
    "# Second map again\n",
    "print(\"Second map (New York City):\")\n",
    "print(\"Layers:\", list(m2.get_layers().keys()))\n",
    "m2"
   ]
  },
  {
   "cell_type": "markdown",
   "metadata": {},
   "source": [
    "## Test 5: Event Handling and Bidirectional Communication\n",
    "\n",
    "Test the event handling system and bidirectional communication."
   ]
  },
  {
   "cell_type": "code",
   "execution_count": null,
   "metadata": {},
   "outputs": [],
   "source": [
    "# Set up event handlers\n",
    "click_events = []\n",
    "move_events = []\n",
    "\n",
    "\n",
    "def on_map_click(event):\n",
    "    lat, lng = event[\"lngLat\"]\n",
    "    click_events.append(f\"Clicked at: {lat:.4f}, {lng:.4f}\")\n",
    "    print(f\"Map clicked at: {lat:.4f}, {lng:.4f}\")\n",
    "\n",
    "\n",
    "def on_map_move(event):\n",
    "    center = event.get(\"center\", [0, 0])\n",
    "    zoom = event.get(\"zoom\", 0)\n",
    "    move_events.append(f\"Moved to: {center[0]:.4f}, {center[1]:.4f} at zoom {zoom:.2f}\")\n",
    "    print(f\"Map moved to: {center[0]:.4f}, {center[1]:.4f} at zoom {zoom:.2f}\")\n",
    "\n",
    "\n",
    "# Register event handlers\n",
    "m.on_map_event(\"click\", on_map_click)\n",
    "m.on_map_event(\"moveend\", on_map_move)\n",
    "\n",
    "print(\"Event handlers registered. Click and move the map to test!\")\n",
    "print(\"Events will be captured and displayed here.\")"
   ]
  },
  {
   "cell_type": "code",
   "execution_count": null,
   "metadata": {},
   "outputs": [],
   "source": [
    "# Display the map with event handlers\n",
    "print(\"Interactive map with event handlers - try clicking and panning!\")\n",
    "m"
   ]
  },
  {
   "cell_type": "code",
   "execution_count": null,
   "metadata": {},
   "outputs": [],
   "source": [
    "# Check collected events\n",
    "print(\"Recent click events:\")\n",
    "for event in click_events[-5:]:  # Show last 5\n",
    "    print(f\"  {event}\")\n",
    "\n",
    "print(\"\\nRecent move events:\")\n",
    "for event in move_events[-5:]:  # Show last 5\n",
    "    print(f\"  {event}\")\n",
    "\n",
    "print(f\"\\nTotal click events: {len(click_events)}\")\n",
    "print(f\"Total move events: {len(move_events)}\")"
   ]
  },
  {
   "cell_type": "markdown",
   "metadata": {},
   "source": [
    "## Test 6: Layer Management Methods\n",
    "\n",
    "Test the enhanced layer management functionality."
   ]
  },
  {
   "cell_type": "code",
   "execution_count": null,
   "metadata": {},
   "outputs": [],
   "source": [
    "# Test layer management methods\n",
    "print(\"Current layers before cleanup:\", list(m.get_layers().keys()))\n",
    "print(\"Current sources before cleanup:\", list(m.get_sources().keys()))\n",
    "\n",
    "# Create a new map for testing layer management\n",
    "m3 = MapLibreMap(center=[51.5074, -0.1278], zoom=12, height=\"600px\")  # London\n",
    "\n",
    "# Add multiple test layers\n",
    "test_data = {\n",
    "    \"type\": \"FeatureCollection\",\n",
    "    \"features\": [\n",
    "        {\n",
    "            \"type\": \"Feature\",\n",
    "            \"geometry\": {\"type\": \"Point\", \"coordinates\": [-0.1278, 51.5074]},\n",
    "            \"properties\": {\"name\": \"Big Ben\"},\n",
    "        }\n",
    "    ],\n",
    "}\n",
    "\n",
    "m3.add_geojson_layer(\"test1\", test_data, \"circle\", {\"circle-color\": \"red\"})\n",
    "m3.add_geojson_layer(\"test2\", test_data, \"circle\", {\"circle-color\": \"blue\"})\n",
    "m3.add_geojson_layer(\"test3\", test_data, \"circle\", {\"circle-color\": \"green\"})\n",
    "\n",
    "print(\"\\nLayers after adding test layers:\", list(m3.get_layers().keys()))\n",
    "m3"
   ]
  },
  {
   "cell_type": "code",
   "execution_count": null,
   "metadata": {},
   "outputs": [],
   "source": [
    "# Test clearing layers\n",
    "print(\"Before clearing - Layers:\", list(m3.get_layers().keys()))\n",
    "m3.clear_layers()\n",
    "print(\"After clearing layers - Layers:\", list(m3.get_layers().keys()))\n",
    "print(\"Sources still exist:\", list(m3.get_sources().keys()))\n",
    "\n",
    "# Display map after clearing layers\n",
    "m3"
   ]
  },
  {
   "cell_type": "markdown",
   "metadata": {},
   "source": [
    "## Test 7: Final Multi-Cell Persistence Test\n",
    "\n",
    "Let's do a final comprehensive test to ensure everything works across cells."
   ]
  },
  {
   "cell_type": "code",
   "execution_count": null,
   "metadata": {},
   "outputs": [],
   "source": [
    "# Final test - render all three maps in sequence\n",
    "print(\"=== FINAL MULTI-CELL TEST ===\")\n",
    "print(\"\\n1. Original map (San Francisco area):\")\n",
    "print(\"   Layers:\", list(m.get_layers().keys()))\n",
    "print(\"   Center:\", m.center, \"Zoom:\", m.zoom)\n",
    "m"
   ]
  },
  {
   "cell_type": "code",
   "execution_count": null,
   "metadata": {},
   "outputs": [],
   "source": [
    "print(\"2. Second map (New York City):\")\n",
    "print(\"   Layers:\", list(m2.get_layers().keys()))\n",
    "print(\"   Center:\", m2.center, \"Zoom:\", m2.zoom)\n",
    "m2"
   ]
  },
  {
   "cell_type": "code",
   "execution_count": null,
   "metadata": {},
   "outputs": [],
   "source": [
    "print(\"3. Third map (London - after layer clearing):\")\n",
    "print(\"   Layers:\", list(m3.get_layers().keys()))\n",
    "print(\"   Center:\", m3.center, \"Zoom:\", m3.zoom)\n",
    "m3"
   ]
  },
  {
   "cell_type": "markdown",
   "metadata": {},
   "source": [
    "## Test Summary\n",
    "\n",
    "If all the above tests worked correctly, you should observe:\n",
    "\n",
    "1. ✅ **Multi-cell rendering**: The same map instance renders correctly in multiple cells\n",
    "2. ✅ **Layer persistence**: Layers added to a map persist when the map is rendered in different cells  \n",
    "3. ✅ **Independent instances**: Multiple map instances work independently without interfering with each other\n",
    "4. ✅ **Dynamic modifications**: Map property changes (zoom, center, bearing, pitch) work correctly\n",
    "5. ✅ **Event handling**: Click and move events are captured and handled properly\n",
    "6. ✅ **Layer management**: Adding, removing, and clearing layers works as expected\n",
    "7. ✅ **State synchronization**: The JavaScript frontend and Python backend maintain synchronized state\n",
    "\n",
    "### Compatibility Notes\n",
    "\n",
    "This implementation should work in:\n",
    "- **JupyterLab** (Classic and modern)\n",
    "- **Jupyter Notebook** (Classic)\n",
    "- **VS Code** with Jupyter extension\n",
    "- **Google Colab** \n",
    "- **Other Jupyter-compatible environments**\n",
    "\n",
    "The anywidget framework ensures broad compatibility across different Jupyter environments."
   ]
  }
 ],
 "metadata": {
  "kernelspec": {
   "display_name": "Python 3",
   "language": "python",
   "name": "python3"
  },
  "language_info": {
   "codemirror_mode": {
    "name": "ipython",
    "version": 3
   },
   "file_extension": ".py",
   "mimetype": "text/x-python",
   "name": "python",
   "nbconvert_exporter": "python",
   "pygments_lexer": "ipython3",
   "version": "3.12.2"
  }
 },
 "nbformat": 4,
 "nbformat_minor": 4
}
