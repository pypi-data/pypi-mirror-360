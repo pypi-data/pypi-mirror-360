{
 "cells": [
  {
   "cell_type": "markdown",
   "metadata": {},
   "source": [
    "# Leaflet Map Examples\n",
    "\n",
    "This notebook demonstrates how to use the LeafletMap widget from the anymap package.\n",
    "\n",
    "## Installation\n",
    "\n",
    "First, make sure you have the anymap package installed:\n",
    "\n",
    "```bash\n",
    "pip install anymap\n",
    "```"
   ]
  },
  {
   "cell_type": "code",
   "execution_count": null,
   "metadata": {},
   "outputs": [],
   "source": [
    "import anymap\n",
    "import json"
   ]
  },
  {
   "cell_type": "markdown",
   "metadata": {},
   "source": [
    "## Basic Leaflet Map\n",
    "\n",
    "Create a basic Leaflet map with default settings:"
   ]
  },
  {
   "cell_type": "code",
   "execution_count": null,
   "metadata": {},
   "outputs": [],
   "source": [
    "# Create a basic Leaflet map\n",
    "leaflet_map = anymap.LeafletMap(\n",
    "    center=[51.505, -0.09], zoom=13, width=\"100%\", height=\"600px\"  # London coordinates\n",
    ")\n",
    "\n",
    "leaflet_map"
   ]
  },
  {
   "cell_type": "markdown",
   "metadata": {},
   "source": [
    "## Different Tile Layers\n",
    "\n",
    "Leaflet supports various tile layer providers:"
   ]
  },
  {
   "cell_type": "code",
   "execution_count": null,
   "metadata": {},
   "outputs": [],
   "source": [
    "# OpenStreetMap (default)\n",
    "osm_map = anymap.LeafletMap(\n",
    "    center=[40.7128, -74.0060], zoom=10, tile_layer=\"OpenStreetMap\"  # New York\n",
    ")\n",
    "\n",
    "osm_map"
   ]
  },
  {
   "cell_type": "code",
   "execution_count": null,
   "metadata": {},
   "outputs": [],
   "source": [
    "# CartoDB Positron (light theme)\n",
    "positron_map = anymap.LeafletMap(\n",
    "    center=[40.7128, -74.0060], zoom=10, tile_layer=\"CartoDB.Positron\"\n",
    ")\n",
    "\n",
    "positron_map"
   ]
  },
  {
   "cell_type": "code",
   "execution_count": null,
   "metadata": {},
   "outputs": [],
   "source": [
    "# CartoDB Dark Matter (dark theme)\n",
    "dark_map = anymap.LeafletMap(\n",
    "    center=[40.7128, -74.0060], zoom=10, tile_layer=\"CartoDB.DarkMatter\"\n",
    ")\n",
    "\n",
    "dark_map"
   ]
  },
  {
   "cell_type": "markdown",
   "metadata": {},
   "source": [
    "## Adding Markers\n",
    "\n",
    "Add markers to your map with popups and tooltips:"
   ]
  },
  {
   "cell_type": "code",
   "execution_count": null,
   "metadata": {},
   "outputs": [],
   "source": [
    "# Create a map with markers\n",
    "marker_map = anymap.LeafletMap(center=[51.5074, -0.1278], zoom=12)  # London\n",
    "\n",
    "# Add markers for famous London landmarks\n",
    "marker_map.add_marker(\n",
    "    [51.5074, -0.1278],\n",
    "    popup=\"<b>London</b><br>Capital of the United Kingdom\",\n",
    "    tooltip=\"London City Center\",\n",
    ")\n",
    "\n",
    "marker_map.add_marker(\n",
    "    [51.5007, -0.1246],\n",
    "    popup=\"<b>Big Ben</b><br>Famous clock tower\",\n",
    "    tooltip=\"Big Ben's permanent tooltip\",\n",
    "    # https://leafletjs.com/reference.html#tooltip-option\n",
    "    tooltip_options=dict(permanent=True, direction=\"right\", opacity=0.7),\n",
    ")\n",
    "\n",
    "marker_map.add_marker(\n",
    "    [51.5033, -0.1195],\n",
    "    popup=\"<b>London Eye</b><br>Giant Ferris wheel\",\n",
    "    tooltip=\"London Eye\",\n",
    ")\n",
    "\n",
    "marker_map"
   ]
  },
  {
   "cell_type": "markdown",
   "metadata": {},
   "source": [
    "## Adding Shapes\n",
    "\n",
    "Add various shapes like circles, polygons, and polylines:"
   ]
  },
  {
   "cell_type": "code",
   "execution_count": null,
   "metadata": {},
   "outputs": [],
   "source": [
    "# Create a map with shapes\n",
    "shapes_map = anymap.LeafletMap(center=[40.7128, -74.0060], zoom=11)  # New York\n",
    "\n",
    "# Add a circle around Central Park\n",
    "shapes_map.add_circle(\n",
    "    [40.7829, -73.9654],  # Central Park\n",
    "    radius=1000,  # 1km radius\n",
    "    color=\"green\",\n",
    "    fillColor=\"lightgreen\",\n",
    "    fillOpacity=0.3,\n",
    "    tooltip=\"Central Park🌳<br />Permanent tooltip\",\n",
    "    tooltip_options=dict(permanent=True, direction=\"top\"),\n",
    ")\n",
    "\n",
    "# Add a polygon for Manhattan (simplified)\n",
    "manhattan_coords = [\n",
    "    [40.7831, -73.9712],\n",
    "    [40.7489, -73.9441],\n",
    "    [40.7061, -73.9969],\n",
    "    [40.7194, -74.0113],\n",
    "    [40.7831, -73.9712],\n",
    "]\n",
    "\n",
    "shapes_map.add_polygon(\n",
    "    manhattan_coords,\n",
    "    color=\"blue\",\n",
    "    fillColor=\"lightblue\",\n",
    "    fillOpacity=0.2,\n",
    "    tooltip=\"Sticky tooltip (stays with mouse)\",\n",
    "    tooltip_options=dict(sticky=True),\n",
    ")\n",
    "\n",
    "# Add a polyline for Broadway\n",
    "broadway_coords = [\n",
    "    [40.7614, -73.9776],\n",
    "    [40.7589, -73.9851],\n",
    "    [40.7565, -73.9926],\n",
    "    [40.7505, -74.0014],\n",
    "]\n",
    "\n",
    "shapes_map.add_polyline(broadway_coords, color=\"red\", weight=5)\n",
    "\n",
    "shapes_map"
   ]
  },
  {
   "cell_type": "markdown",
   "metadata": {},
   "source": [
    "## GeoJSON Data\n",
    "\n",
    "Load and display GeoJSON data:"
   ]
  },
  {
   "cell_type": "code",
   "execution_count": null,
   "metadata": {},
   "outputs": [],
   "source": [
    "# Sample GeoJSON data\n",
    "geojson_data = {\n",
    "    \"type\": \"FeatureCollection\",\n",
    "    \"features\": [\n",
    "        {\n",
    "            \"type\": \"Feature\",\n",
    "            \"geometry\": {\"type\": \"Point\", \"coordinates\": [-74.0060, 40.7128]},\n",
    "            \"properties\": {\"name\": \"New York City\", \"population\": 8175133},\n",
    "        },\n",
    "        {\n",
    "            \"type\": \"Feature\",\n",
    "            \"geometry\": {\"type\": \"Point\", \"coordinates\": [-87.6298, 41.8781]},\n",
    "            \"properties\": {\"name\": \"Chicago\", \"population\": 2693976},\n",
    "        },\n",
    "    ],\n",
    "}\n",
    "\n",
    "# Create map with GeoJSON data\n",
    "geojson_map = anymap.LeafletMap(center=[40.0, -80.0], zoom=5)\n",
    "\n",
    "geojson_map.add_geojson(\n",
    "    geojson_data, style={\"color\": \"purple\", \"weight\": 2, \"fillOpacity\": 0.7}\n",
    ")\n",
    "\n",
    "geojson_map"
   ]
  },
  {
   "cell_type": "markdown",
   "metadata": {},
   "source": [
    "## Map Controls and Interactions\n",
    "\n",
    "Demonstrate various map control methods:"
   ]
  },
  {
   "cell_type": "code",
   "execution_count": null,
   "metadata": {},
   "outputs": [],
   "source": [
    "# Create a map for demonstrations\n",
    "control_map = anymap.LeafletMap(center=[37.7749, -122.4194], zoom=10)  # San Francisco\n",
    "\n",
    "control_map"
   ]
  },
  {
   "cell_type": "code",
   "execution_count": null,
   "metadata": {},
   "outputs": [],
   "source": [
    "# Fly to a different location\n",
    "control_map.fly_to(34.0522, -118.2437, 12)  # Los Angeles"
   ]
  },
  {
   "cell_type": "code",
   "execution_count": null,
   "metadata": {},
   "outputs": [],
   "source": [
    "# Set center and zoom\n",
    "control_map.set_center(25.7617, -80.1918)  # Miami\n",
    "control_map.set_zoom(11)"
   ]
  },
  {
   "cell_type": "code",
   "execution_count": null,
   "metadata": {},
   "outputs": [],
   "source": [
    "# Fit bounds to a specific area\n",
    "# Southwest and Northeast corners of the bounding box\n",
    "control_map.fit_bounds([[25.7617, -80.1918], [25.7907, -80.1310]])"
   ]
  },
  {
   "cell_type": "markdown",
   "metadata": {},
   "source": [
    "## Adding Multiple Tile Layers\n",
    "\n",
    "You can add multiple tile layers to the same map:"
   ]
  },
  {
   "cell_type": "code",
   "execution_count": null,
   "metadata": {},
   "outputs": [],
   "source": [
    "# Create a map with multiple tile layers\n",
    "multi_layer_map = anymap.LeafletMap(center=[48.8566, 2.3522], zoom=12)  # Paris\n",
    "\n",
    "# Add a custom tile layer\n",
    "multi_layer_map.add_tile_layer(\n",
    "    \"https://stamen-tiles-{s}.a.ssl.fastly.net/watercolor/{z}/{x}/{y}.jpg\",\n",
    "    attribution=\"Map tiles by Stamen Design, under CC BY 3.0. Data by OpenStreetMap, under ODbL.\",\n",
    "    layer_id=\"watercolor\",\n",
    ")\n",
    "\n",
    "multi_layer_map"
   ]
  },
  {
   "cell_type": "markdown",
   "metadata": {},
   "source": [
    "## Exporting to HTML\n",
    "\n",
    "Export your map to a standalone HTML file:"
   ]
  },
  {
   "cell_type": "code",
   "execution_count": null,
   "metadata": {},
   "outputs": [],
   "source": [
    "# Create a map for export\n",
    "export_map = anymap.LeafletMap(\n",
    "    center=[35.6762, 139.6503], zoom=10, tile_layer=\"CartoDB.Positron\"  # Tokyo\n",
    ")\n",
    "\n",
    "# Add some markers\n",
    "export_map.add_marker(\n",
    "    [35.6762, 139.6503], popup=\"<b>Tokyo</b><br>Capital of Japan\", tooltip=\"Tokyo\"\n",
    ")\n",
    "\n",
    "export_map.add_circle(\n",
    "    [35.6762, 139.6503], radius=5000, color=\"red\", fillColor=\"pink\", fillOpacity=0.3\n",
    ")\n",
    "\n",
    "# Export to HTML\n",
    "html_content = export_map.to_html(\n",
    "    title=\"Tokyo Map - Leaflet Example\", width=\"100%\", height=\"600px\"\n",
    ")\n",
    "\n",
    "# Save to file\n",
    "with open(\"tokyo_map.html\", \"w\") as f:\n",
    "    f.write(html_content)\n",
    "\n",
    "print(\"Map exported to tokyo_map.html\")\n",
    "export_map"
   ]
  },
  {
   "cell_type": "markdown",
   "metadata": {},
   "source": [
    "## Layer Management\n",
    "\n",
    "Demonstrate layer management capabilities:"
   ]
  },
  {
   "cell_type": "code",
   "execution_count": null,
   "metadata": {},
   "outputs": [],
   "source": [
    "# Create a map for layer management\n",
    "layer_map = anymap.LeafletMap(center=[52.5200, 13.4050], zoom=11)  # Berlin\n",
    "\n",
    "# Add several layers\n",
    "marker_id = layer_map.add_marker(\n",
    "    [52.5200, 13.4050], popup=\"Berlin\", tooltip=\"German Capital\"\n",
    ")\n",
    "\n",
    "circle_id = layer_map.add_circle(\n",
    "    [52.5200, 13.4050],\n",
    "    radius=3000,\n",
    "    color=\"blue\",\n",
    "    fillColor=\"lightblue\",\n",
    "    fillOpacity=0.2,\n",
    ")\n",
    "\n",
    "print(f\"Added marker with ID: {marker_id}\")\n",
    "print(f\"Added circle with ID: {circle_id}\")\n",
    "\n",
    "layer_map"
   ]
  },
  {
   "cell_type": "code",
   "execution_count": null,
   "metadata": {},
   "outputs": [],
   "source": [
    "# Get current layers\n",
    "layers = layer_map.get_layers()\n",
    "print(\"Current layers:\")\n",
    "for layer_id, layer_config in layers.items():\n",
    "    print(f\"  {layer_id}: {layer_config['type']}\")"
   ]
  },
  {
   "cell_type": "code",
   "execution_count": null,
   "metadata": {},
   "outputs": [],
   "source": [
    "# Remove a layer\n",
    "layer_map.remove_layer(circle_id)\n",
    "print(f\"Removed circle layer: {circle_id}\")"
   ]
  },
  {
   "cell_type": "code",
   "execution_count": null,
   "metadata": {},
   "outputs": [],
   "source": [
    "# Clear all layers\n",
    "layer_map.clear_layers()\n",
    "print(\"All layers cleared\")"
   ]
  },
  {
   "cell_type": "markdown",
   "metadata": {},
   "source": [
    "## Conclusion\n",
    "\n",
    "This notebook demonstrated the key features of the LeafletMap widget:\n",
    "\n",
    "1. **Basic map creation** with different tile layers\n",
    "2. **Adding markers** with popups and tooltips\n",
    "3. **Drawing shapes** (circles, polygons, polylines)\n",
    "4. **Loading GeoJSON data**\n",
    "5. **Map controls** (fly to, set center/zoom, fit bounds)\n",
    "6. **Layer management** (add, remove, clear)\n",
    "7. **HTML export** for sharing standalone maps\n",
    "\n",
    "The LeafletMap widget provides a lightweight, flexible mapping solution that integrates seamlessly with Jupyter notebooks and supports the full Leaflet ecosystem."
   ]
  }
 ],
 "metadata": {
  "kernelspec": {
   "display_name": "Python 3",
   "language": "python",
   "name": "python3"
  },
  "language_info": {
   "codemirror_mode": {
    "name": "ipython",
    "version": 3
   },
   "file_extension": ".py",
   "mimetype": "text/x-python",
   "name": "python",
   "nbconvert_exporter": "python",
   "pygments_lexer": "ipython3",
   "version": "3.12.2"
  }
 },
 "nbformat": 4,
 "nbformat_minor": 4
}
