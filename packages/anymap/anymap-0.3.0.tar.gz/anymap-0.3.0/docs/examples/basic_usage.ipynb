{
 "cells": [
  {
   "cell_type": "markdown",
   "metadata": {},
   "source": [
    "# AnyMap Basic Usage Examples\n",
    "\n",
    "This notebook demonstrates the basic usage of the AnyMap package for creating interactive maps with MapLibre GL JS."
   ]
  },
  {
   "cell_type": "code",
   "execution_count": null,
   "metadata": {},
   "outputs": [],
   "source": [
    "# Import the required modules\n",
    "from anymap import MapLibreMap\n",
    "import json"
   ]
  },
  {
   "cell_type": "markdown",
   "metadata": {},
   "source": [
    "## Creating a Basic Map\n",
    "\n",
    "Let's start by creating a simple map centered on San Francisco."
   ]
  },
  {
   "cell_type": "code",
   "execution_count": null,
   "metadata": {},
   "outputs": [],
   "source": [
    "# Create a basic map\n",
    "m = MapLibreMap(\n",
    "    center=[37.7749, -122.4194],  # San Francisco coordinates [lat, lng]\n",
    "    zoom=12,\n",
    "    height=\"500px\",\n",
    ")\n",
    "m"
   ]
  },
  {
   "cell_type": "markdown",
   "metadata": {},
   "source": [
    "## Changing Map Properties\n",
    "\n",
    "You can dynamically change map properties after creation:"
   ]
  },
  {
   "cell_type": "code",
   "execution_count": null,
   "metadata": {},
   "outputs": [],
   "source": [
    "# Change the center and zoom\n",
    "m.set_center(40.7128, -74.0060)  # New York City\n",
    "m.set_zoom(10)"
   ]
  },
  {
   "cell_type": "code",
   "execution_count": null,
   "metadata": {},
   "outputs": [],
   "source": [
    "# Use fly_to for smooth animation\n",
    "m.fly_to(51.5074, -0.1278, zoom=14)  # London"
   ]
  },
  {
   "cell_type": "code",
   "execution_count": null,
   "metadata": {},
   "outputs": [],
   "source": [
    "m"
   ]
  },
  {
   "cell_type": "markdown",
   "metadata": {},
   "source": [
    "## Adding Markers\n",
    "\n",
    "You can add markers to the map with optional popups:"
   ]
  },
  {
   "cell_type": "code",
   "execution_count": null,
   "metadata": {},
   "outputs": [],
   "source": [
    "# Add a marker with popup\n",
    "m.add_marker(\n",
    "    lat=51.5074,\n",
    "    lng=-0.1278,\n",
    "    popup=\"<h3>London</h3><p>Capital of the United Kingdom</p>\",\n",
    ")"
   ]
  },
  {
   "cell_type": "markdown",
   "metadata": {},
   "source": [
    "## Working with GeoJSON Data\n",
    "\n",
    "Let's add some GeoJSON data to the map:"
   ]
  },
  {
   "cell_type": "code",
   "execution_count": null,
   "metadata": {},
   "outputs": [],
   "source": [
    "# Sample GeoJSON data\n",
    "geojson_data = {\n",
    "    \"type\": \"FeatureCollection\",\n",
    "    \"features\": [\n",
    "        {\n",
    "            \"type\": \"Feature\",\n",
    "            \"geometry\": {\"type\": \"Point\", \"coordinates\": [-0.1278, 51.5074]},\n",
    "            \"properties\": {\"name\": \"London\", \"population\": 8900000},\n",
    "        },\n",
    "        {\n",
    "            \"type\": \"Feature\",\n",
    "            \"geometry\": {\"type\": \"Point\", \"coordinates\": [2.3522, 48.8566]},\n",
    "            \"properties\": {\"name\": \"Paris\", \"population\": 2141000},\n",
    "        },\n",
    "    ],\n",
    "}\n",
    "\n",
    "# Add GeoJSON layer\n",
    "m.add_geojson_layer(\n",
    "    layer_id=\"cities\",\n",
    "    geojson_data=geojson_data,\n",
    "    layer_type=\"circle\",\n",
    "    paint={\n",
    "        \"circle-radius\": 8,\n",
    "        \"circle-color\": \"#ff0000\",\n",
    "        \"circle-stroke-width\": 2,\n",
    "        \"circle-stroke-color\": \"#ffffff\",\n",
    "    },\n",
    ")"
   ]
  },
  {
   "cell_type": "markdown",
   "metadata": {},
   "source": [
    "## Event Handling\n",
    "\n",
    "You can register event handlers for map interactions:"
   ]
  },
  {
   "cell_type": "code",
   "execution_count": null,
   "metadata": {},
   "outputs": [],
   "source": [
    "# Define event handler\n",
    "def on_map_click(event):\n",
    "    lat, lng = event[\"lngLat\"]\n",
    "    print(f\"Map clicked at: {lat:.4f}, {lng:.4f}\")\n",
    "\n",
    "\n",
    "# Register the event handler\n",
    "m.on_map_event(\"click\", on_map_click)"
   ]
  },
  {
   "cell_type": "markdown",
   "metadata": {},
   "source": [
    "## Multi-cell Rendering Test\n",
    "\n",
    "Let's test that the same map can be displayed in multiple cells without issues:"
   ]
  },
  {
   "cell_type": "code",
   "execution_count": null,
   "metadata": {},
   "outputs": [],
   "source": [
    "# Display the same map instance again\n",
    "m"
   ]
  },
  {
   "cell_type": "code",
   "execution_count": null,
   "metadata": {},
   "outputs": [],
   "source": [
    "# Create a new map instance\n",
    "m2 = MapLibreMap(\n",
    "    center=[35.6762, 139.6503],  # Tokyo\n",
    "    zoom=10,\n",
    "    height=\"600px\",\n",
    "    map_style=\"https://demotiles.maplibre.org/style.json\",\n",
    ")\n",
    "m2"
   ]
  },
  {
   "cell_type": "code",
   "execution_count": null,
   "metadata": {},
   "outputs": [],
   "source": [
    "# Both maps should work independently\n",
    "m2.add_marker(35.6762, 139.6503, popup=\"Tokyo, Japan\")"
   ]
  },
  {
   "cell_type": "markdown",
   "metadata": {},
   "source": [
    "## Changing Map Styles\n",
    "\n",
    "You can change the map style dynamically:"
   ]
  },
  {
   "cell_type": "code",
   "execution_count": null,
   "metadata": {},
   "outputs": [],
   "source": [
    "# Change to a different style\n",
    "m2.set_style(\"https://demotiles.maplibre.org/style.json\")"
   ]
  },
  {
   "cell_type": "markdown",
   "metadata": {},
   "source": [
    "## Calling JavaScript Methods\n",
    "\n",
    "You can call any MapLibre GL JS methods directly:"
   ]
  },
  {
   "cell_type": "code",
   "execution_count": null,
   "metadata": {},
   "outputs": [],
   "source": [
    "# Set bearing and pitch for 3D effect\n",
    "m2.set_bearing(45)\n",
    "m2.set_pitch(60)"
   ]
  },
  {
   "cell_type": "code",
   "execution_count": null,
   "metadata": {},
   "outputs": [],
   "source": [
    "# Reset to default view\n",
    "m2.set_bearing(0)\n",
    "m2.set_pitch(0)"
   ]
  },
  {
   "cell_type": "code",
   "execution_count": null,
   "metadata": {},
   "outputs": [],
   "source": []
  },
  {
   "cell_type": "code",
   "execution_count": null,
   "metadata": {},
   "outputs": [],
   "source": []
  }
 ],
 "metadata": {
  "kernelspec": {
   "display_name": "Python 3",
   "language": "python",
   "name": "python3"
  },
  "language_info": {
   "codemirror_mode": {
    "name": "ipython",
    "version": 3
   },
   "file_extension": ".py",
   "mimetype": "text/x-python",
   "name": "python",
   "nbconvert_exporter": "python",
   "pygments_lexer": "ipython3",
   "version": "3.12.2"
  }
 },
 "nbformat": 4,
 "nbformat_minor": 4
}
