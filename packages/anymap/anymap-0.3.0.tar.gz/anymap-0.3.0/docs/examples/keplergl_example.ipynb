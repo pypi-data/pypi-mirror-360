{
 "cells": [
  {
   "cell_type": "raw",
   "metadata": {
    "vscode": {
     "languageId": "raw"
    }
   },
   "source": [
    "# Real KeplerGL Interactive Map Test\n",
    "\n",
    "Testing the updated KeplerGL widget that displays an actual interactive map."
   ]
  },
  {
   "cell_type": "code",
   "execution_count": null,
   "metadata": {},
   "outputs": [],
   "source": [
    "import anymap\n",
    "\n",
    "# Create KeplerGL map with data\n",
    "kepler = anymap.KeplerGLMap(center=[37.7749, -122.4194], zoom=10, height=\"600px\")\n",
    "\n",
    "# Add sample data\n",
    "sample_data = {\n",
    "    \"type\": \"FeatureCollection\",\n",
    "    \"features\": [\n",
    "        {\n",
    "            \"type\": \"Feature\",\n",
    "            \"geometry\": {\"type\": \"Point\", \"coordinates\": [-122.4194, 37.7749]},\n",
    "            \"properties\": {\"name\": \"San Francisco\", \"population\": 874961},\n",
    "        },\n",
    "        {\n",
    "            \"type\": \"Feature\",\n",
    "            \"geometry\": {\"type\": \"Point\", \"coordinates\": [-122.0832, 37.4221]},\n",
    "            \"properties\": {\"name\": \"Palo Alto\", \"population\": 66666},\n",
    "        },\n",
    "    ],\n",
    "}\n",
    "\n",
    "kepler.add_geojson(sample_data, \"cities\")\n",
    "\n",
    "# Display the interactive map\n",
    "kepler"
   ]
  }
 ],
 "metadata": {
  "kernelspec": {
   "display_name": "geo",
   "language": "python",
   "name": "python3"
  },
  "language_info": {
   "codemirror_mode": {
    "name": "ipython",
    "version": 3
   },
   "file_extension": ".py",
   "mimetype": "text/x-python",
   "name": "python",
   "nbconvert_exporter": "python",
   "pygments_lexer": "ipython3",
   "version": "3.12.2"
  }
 },
 "nbformat": 4,
 "nbformat_minor": 4
}
