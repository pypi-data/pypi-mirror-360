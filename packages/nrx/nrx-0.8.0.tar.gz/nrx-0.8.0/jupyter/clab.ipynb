{
 "cells": [
  {
   "attachments": {},
   "cell_type": "markdown",
   "id": "8faf0f4e",
   "metadata": {},
   "source": [
    "# Create Containerlab topology from CYJS graph"
   ]
  },
  {
   "attachments": {},
   "cell_type": "markdown",
   "id": "03e966c8",
   "metadata": {},
   "source": [
    "Initialize parameters   "
   ]
  },
  {
   "cell_type": "code",
   "execution_count": 25,
   "id": "e7c932b9",
   "metadata": {},
   "outputs": [],
   "source": [
    "topology_name = \"nr-1\""
   ]
  },
  {
   "attachments": {},
   "cell_type": "markdown",
   "id": "1c9eaf40",
   "metadata": {},
   "source": [
    "Read CYJS graph data into a dictonary and initialize networkx graph from it"
   ]
  },
  {
   "cell_type": "code",
   "execution_count": 26,
   "id": "37303650",
   "metadata": {},
   "outputs": [
    {
     "name": "stdout",
     "output_type": "stream",
     "text": [
      "{'name': 'nr-1'}\n"
     ]
    }
   ],
   "source": [
    "import json\n",
    "import networkx as nx\n",
    "\n",
    "cyjs = {}\n",
    "with open(topology_name + \".cyjs\", 'r', encoding='utf-8') as f:\n",
    "    cyjs = json.load(f)\n",
    "G = nx.cytoscape_graph(cyjs)\n",
    "print(G.graph)"
   ]
  },
  {
   "attachments": {},
   "cell_type": "markdown",
   "id": "2de9d144",
   "metadata": {},
   "source": [
    "Parse graph G into lists of: nodes and links. Keep a list of interfaces per device in `device_interfaces_map`."
   ]
  },
  {
   "cell_type": "code",
   "execution_count": 27,
   "id": "9f7b8835",
   "metadata": {},
   "outputs": [
    {
     "name": "stdout",
     "output_type": "stream",
     "text": [
      "[{'id': 112, 'type': 'device', 'name': 'nr-rtr-01', 'node_id': 0}, {'id': 113, 'type': 'device', 'name': 'nr-sw-01', 'node_id': 3}, {'id': 114, 'type': 'device', 'name': 'nr-sw-02', 'node_id': 6}]\n",
      "{'nr-rtr-01': {'Ethernet1/1': '', 'Ethernet1/2': ''}, 'nr-sw-01': {'Ethernet1/1': '', 'Ethernet1/2': ''}, 'nr-sw-02': {'Ethernet1/1': '', 'Ethernet1/2': ''}}\n",
      "[{'a': {'node': 'nr-rtr-01', 'node_id': 0, 'interface': 'Ethernet1/1'}, 'b': {'node': 'nr-sw-01', 'node_id': 3, 'interface': 'Ethernet1/1'}}, {'a': {'node': 'nr-rtr-01', 'node_id': 0, 'interface': 'Ethernet1/2'}, 'b': {'node': 'nr-sw-02', 'node_id': 6, 'interface': 'Ethernet1/1'}}, {'a': {'node': 'nr-sw-01', 'node_id': 3, 'interface': 'Ethernet1/2'}, 'b': {'node': 'nr-sw-02', 'node_id': 6, 'interface': 'Ethernet1/2'}}]\n"
     ]
    }
   ],
   "source": [
    "nodes, links = [], []\n",
    "device_interfaces_map = {}\n",
    "for n in G.nodes:\n",
    "    if G.nodes[n]['type'] == 'device':\n",
    "        dev = G.nodes[n]['device']\n",
    "        nodes.append(dev)\n",
    "        device_interfaces_map[dev['name']] = {}\n",
    "    elif G.nodes[n]['type'] == 'interface':\n",
    "        int_name = G.nodes[n]['interface']['name']\n",
    "        dev_name, dev_node_id = None, None\n",
    "        peer_name, peer_dev_name, peer_dev_node_id = None, None, None\n",
    "        for a_adj in G.adj[n].items():\n",
    "            if G.nodes[a_adj[0]]['type'] == 'device':\n",
    "                dev_name = G.nodes[a_adj[0]]['device']['name']\n",
    "                dev_node_id = G.nodes[a_adj[0]]['device']['node_id']\n",
    "                device_interfaces_map[dev_name][int_name] = \"\"\n",
    "            elif G.nodes[a_adj[0]]['type'] == 'interface' and G.nodes[n]['side'] == 'a':\n",
    "                peer_name = G.nodes[a_adj[0]]['interface']['name']\n",
    "                for b_adj in G.adj[a_adj[0]].items():\n",
    "                    if G.nodes[b_adj[0]]['type'] == 'device':\n",
    "                        peer_dev_name = G.nodes[b_adj[0]]['device']['name']\n",
    "                        peer_dev_node_id = G.nodes[b_adj[0]]['device']['node_id']\n",
    "        if G.nodes[n]['side'] == 'a':\n",
    "            links.append({\n",
    "                'a': {\n",
    "                    'node': dev_name,\n",
    "                    'node_id': dev_node_id,\n",
    "                    'interface': int_name,\n",
    "                },\n",
    "                'b': {\n",
    "                    'node': peer_dev_name,\n",
    "                    'node_id': peer_dev_node_id,\n",
    "                    'interface': peer_name,\n",
    "                },\n",
    "            })\n",
    "\n",
    "print(nodes)\n",
    "print(device_interfaces_map)\n",
    "print(links)"
   ]
  },
  {
   "attachments": {},
   "cell_type": "markdown",
   "id": "70dbe815",
   "metadata": {},
   "source": [
    "Create container-compatible interface names for each device. We assume interface with index `0` is reserved for management, and start with `1`"
   ]
  },
  {
   "cell_type": "code",
   "execution_count": 28,
   "id": "fdbeb44c",
   "metadata": {},
   "outputs": [
    {
     "name": "stdout",
     "output_type": "stream",
     "text": [
      "{'nr-rtr-01': {'Ethernet1/1': 'eth1', 'Ethernet1/2': 'eth2'}, 'nr-sw-01': {'Ethernet1/1': 'eth1', 'Ethernet1/2': 'eth2'}, 'nr-sw-02': {'Ethernet1/1': 'eth1', 'Ethernet1/2': 'eth2'}}\n",
      "[{'a': {'node': 'nr-rtr-01', 'node_id': 0, 'interface': 'Ethernet1/1', 'c_interface': 'eth1'}, 'b': {'node': 'nr-sw-01', 'node_id': 3, 'interface': 'Ethernet1/1', 'c_interface': 'eth1'}}, {'a': {'node': 'nr-rtr-01', 'node_id': 0, 'interface': 'Ethernet1/2', 'c_interface': 'eth2'}, 'b': {'node': 'nr-sw-02', 'node_id': 6, 'interface': 'Ethernet1/1', 'c_interface': 'eth1'}}, {'a': {'node': 'nr-sw-01', 'node_id': 3, 'interface': 'Ethernet1/2', 'c_interface': 'eth2'}, 'b': {'node': 'nr-sw-02', 'node_id': 6, 'interface': 'Ethernet1/2', 'c_interface': 'eth2'}}]\n"
     ]
    }
   ],
   "source": [
    "for node, map in device_interfaces_map.items():\n",
    "    # sort keys (interface names) in the map\n",
    "    map_keys = list(map.keys())\n",
    "    map_keys.sort()\n",
    "    sorted_map = {k: f\"eth{map_keys.index(k)+1}\" for k in map_keys}\n",
    "    device_interfaces_map[node] = sorted_map\n",
    "\n",
    "print(device_interfaces_map)\n",
    "\n",
    "for l in links:\n",
    "    l['a']['c_interface'] = device_interfaces_map[l['a']['node']][l['a']['interface']]\n",
    "    l['b']['c_interface'] = device_interfaces_map[l['b']['node']][l['b']['interface']]\n",
    "\n",
    "print(links)"
   ]
  },
  {
   "attachments": {},
   "cell_type": "markdown",
   "id": "09e8a198",
   "metadata": {},
   "source": [
    "Generate clab topology. Using this gist as inspiration https://gist.github.com/renatoalmeidaoliveira/fdb772a5a02f3cfc0b5fbe7e8b7586a2"
   ]
  },
  {
   "cell_type": "code",
   "execution_count": 29,
   "id": "ffa72824",
   "metadata": {},
   "outputs": [
    {
     "name": "stdout",
     "output_type": "stream",
     "text": [
      "{\n",
      "    \"name\": \"nr-1\",\n",
      "    \"nodes\": [\n",
      "        \"nr-rtr-01\",\n",
      "        \"nr-sw-01\",\n",
      "        \"nr-sw-02\"\n",
      "    ],\n",
      "    \"links\": [\n",
      "        \"[\\\"nr-rtr-01:eth1\\\", \\\"nr-sw-01:eth1\\\"]\",\n",
      "        \"[\\\"nr-rtr-01:eth2\\\", \\\"nr-sw-02:eth1\\\"]\",\n",
      "        \"[\\\"nr-sw-01:eth2\\\", \\\"nr-sw-02:eth2\\\"]\"\n",
      "    ]\n",
      "}\n"
     ]
    }
   ],
   "source": [
    "topology = {\n",
    "    'name': G.name,\n",
    "    'nodes': [f\"{n['name']}\" for n in nodes],\n",
    "    'links': [f\"[\\\"{l['a']['node']}:{l['a']['c_interface']}\\\", \\\"{l['b']['node']}:{l['b']['c_interface']}\\\"]\" for l in links],\n",
    "}\n",
    "\n",
    "print(json.dumps(topology, indent=4))"
   ]
  },
  {
   "attachments": {},
   "cell_type": "markdown",
   "id": "074a56a5",
   "metadata": {},
   "source": [
    "Load Jinja2 template for Containerlab to run the topology through"
   ]
  },
  {
   "cell_type": "code",
   "execution_count": 30,
   "id": "4c9c5d6b",
   "metadata": {},
   "outputs": [],
   "source": [
    "from jinja2 import Environment, FileSystemLoader\n",
    "env = Environment(\n",
    "            loader=FileSystemLoader(f\".\"),\n",
    "            line_statement_prefix='#'\n",
    "        )\n",
    "templ = env.get_template(f\"clab.j2\")"
   ]
  },
  {
   "attachments": {},
   "cell_type": "markdown",
   "id": "d6cf8d93",
   "metadata": {},
   "source": [
    "Run the topology through jinja2 template to get the final result"
   ]
  },
  {
   "cell_type": "code",
   "execution_count": 31,
   "id": "19a9bf4d",
   "metadata": {},
   "outputs": [
    {
     "name": "stdout",
     "output_type": "stream",
     "text": [
      "name: nr-1\n",
      "topology:\n",
      "    nodes:\n",
      "        graphite:\n",
      "            kind: linux\n",
      "            image: netreplica/graphite:nanog86\n",
      "            env:\n",
      "                CLAB_SSH_CONNECTION: ${SSH_CONNECTION}\n",
      "            binds:\n",
      "                - __clabDir__/topology-data.json:/htdocs/lab/default/topology-data.json:ro\n",
      "                - __clabDir__/ansible-inventory.yml:/htdocs/lab/default/ansible-inventory.yml:ro\n",
      "            ports:\n",
      "                - 8080:80\n",
      "            exec:\n",
      "                - sh -c 'graphite_motd.sh 8080'\n",
      "            labels:\n",
      "                graph-hide: yes\n",
      "\n",
      "        nr-rtr-01:\n",
      "            kind: ceos\n",
      "            image: ceos\n",
      "            binds:\n",
      "                - nr-rtr-01_interface_map.json:/mnt/flash/EosIntfMapping.json:ro\n",
      "        nr-sw-01:\n",
      "            kind: ceos\n",
      "            image: ceos\n",
      "            binds:\n",
      "                - nr-sw-01_interface_map.json:/mnt/flash/EosIntfMapping.json:ro\n",
      "        nr-sw-02:\n",
      "            kind: ceos\n",
      "            image: ceos\n",
      "            binds:\n",
      "                - nr-sw-02_interface_map.json:/mnt/flash/EosIntfMapping.json:ro\n",
      "    links:\n",
      "        - endpoints: [\"nr-rtr-01:eth1\", \"nr-sw-01:eth1\"]\n",
      "        - endpoints: [\"nr-rtr-01:eth2\", \"nr-sw-02:eth1\"]\n",
      "        - endpoints: [\"nr-sw-01:eth2\", \"nr-sw-02:eth2\"]\n",
      "\n"
     ]
    }
   ],
   "source": [
    "topo = templ.render(topology)\n",
    "print(topo)\n",
    "with open(topology_name + \".clab.yml\", \"w\") as f:\n",
    "    f.write(topo)"
   ]
  },
  {
   "attachments": {},
   "cell_type": "markdown",
   "id": "834f3f49",
   "metadata": {},
   "source": [
    "Interface mapping file for cEOS"
   ]
  },
  {
   "cell_type": "code",
   "execution_count": 32,
   "id": "09df1504",
   "metadata": {},
   "outputs": [
    {
     "name": "stdout",
     "output_type": "stream",
     "text": [
      "nr-rtr-01\n",
      "{'Ethernet1/1': 'eth1', 'Ethernet1/2': 'eth2'}\n",
      "{\n",
      "  \"ManagementIntf\": {\n",
      "    \"eth0\": \"Management0\"\n",
      "  },\n",
      "  \"EthernetIntf\": {\n",
      "    \"eth1\": \"Ethernet1/1\",\n",
      "    \"eth2\": \"Ethernet1/2\"\n",
      "  }\n",
      "}\n",
      "nr-sw-01\n",
      "{'Ethernet1/1': 'eth1', 'Ethernet1/2': 'eth2'}\n",
      "{\n",
      "  \"ManagementIntf\": {\n",
      "    \"eth0\": \"Management0\"\n",
      "  },\n",
      "  \"EthernetIntf\": {\n",
      "    \"eth1\": \"Ethernet1/1\",\n",
      "    \"eth2\": \"Ethernet1/2\"\n",
      "  }\n",
      "}\n",
      "nr-sw-02\n",
      "{'Ethernet1/1': 'eth1', 'Ethernet1/2': 'eth2'}\n",
      "{\n",
      "  \"ManagementIntf\": {\n",
      "    \"eth0\": \"Management0\"\n",
      "  },\n",
      "  \"EthernetIntf\": {\n",
      "    \"eth1\": \"Ethernet1/1\",\n",
      "    \"eth2\": \"Ethernet1/2\"\n",
      "  }\n",
      "}\n"
     ]
    }
   ],
   "source": [
    "ceos_interfaces_templ = env.get_template(f\"interface_maps/ceos.j2\")\n",
    "for d, m in device_interfaces_map.items():\n",
    "    print(d)\n",
    "    print(m)\n",
    "    ceos_interface_map = ceos_interfaces_templ.render({'map': m})\n",
    "    print(ceos_interface_map)\n",
    "    with open(d + \"_interface_map.json\", \"w\") as f:\n",
    "        f.write(ceos_interface_map)"
   ]
  }
 ],
 "metadata": {
  "kernelspec": {
   "display_name": "ntopex-jup39",
   "language": "python",
   "name": "python3"
  },
  "language_info": {
   "codemirror_mode": {
    "name": "ipython",
    "version": 3
   },
   "file_extension": ".py",
   "mimetype": "text/x-python",
   "name": "python",
   "nbconvert_exporter": "python",
   "pygments_lexer": "ipython3",
   "version": "3.9.16"
  },
  "vscode": {
   "interpreter": {
    "hash": "568b08ca310b1b904f83b2ecd4409024a56cc9b7c274a5491afb76ab6ca4db38"
   }
  }
 },
 "nbformat": 4,
 "nbformat_minor": 5
}
