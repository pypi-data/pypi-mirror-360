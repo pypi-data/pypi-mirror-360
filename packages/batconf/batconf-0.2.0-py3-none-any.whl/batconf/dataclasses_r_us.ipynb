{
 "cells": [
  {
   "cell_type": "code",
   "execution_count": 1,
   "id": "2bd8798c-ce47-4eae-9a96-9d18d459e408",
   "metadata": {},
   "outputs": [],
   "source": [
    "from dataclasses import dataclass"
   ]
  },
  {
   "cell_type": "code",
   "execution_count": 2,
   "id": "19d0a4ee-7b33-41fd-9cc3-e5d330460341",
   "metadata": {},
   "outputs": [],
   "source": [
    "@dataclass\n",
    "class MyClass:\n",
    "    first: str\n",
    "    second: str = 'the default value for second'"
   ]
  },
  {
   "cell_type": "code",
   "execution_count": 3,
   "id": "87fca287-c270-475d-a57c-9a1051428dfd",
   "metadata": {},
   "outputs": [
    {
     "data": {
      "text/plain": [
       "__main__.MyClass"
      ]
     },
     "execution_count": 3,
     "metadata": {},
     "output_type": "execute_result"
    }
   ],
   "source": [
    "MyClass"
   ]
  },
  {
   "cell_type": "code",
   "execution_count": 4,
   "id": "4122b2be-e1b2-467d-b5e5-37d1101e8588",
   "metadata": {},
   "outputs": [],
   "source": [
    "my_inst = MyClass(first='my given value for first')"
   ]
  },
  {
   "cell_type": "code",
   "execution_count": 5,
   "id": "a5db6bc2-b974-4051-bc7e-e4b4f973f789",
   "metadata": {},
   "outputs": [
    {
     "data": {
      "text/plain": [
       "'my given value for first'"
      ]
     },
     "execution_count": 5,
     "metadata": {},
     "output_type": "execute_result"
    }
   ],
   "source": [
    "my_inst.first"
   ]
  },
  {
   "cell_type": "code",
   "execution_count": 6,
   "id": "53441858-b141-40b0-9987-b4b67dfc475b",
   "metadata": {},
   "outputs": [
    {
     "data": {
      "text/plain": [
       "'the default value for second'"
      ]
     },
     "execution_count": 6,
     "metadata": {},
     "output_type": "execute_result"
    }
   ],
   "source": [
    "my_inst.second"
   ]
  },
  {
   "cell_type": "code",
   "execution_count": 7,
   "id": "db80d599-0733-44a6-abda-8e2f09f469af",
   "metadata": {},
   "outputs": [
    {
     "data": {
      "text/plain": [
       "{'first': Field(name='first',type=<class 'str'>,default=<dataclasses._MISSING_TYPE object at 0x76db08fa5910>,default_factory=<dataclasses._MISSING_TYPE object at 0x76db08fa5910>,init=True,repr=True,hash=None,compare=True,metadata=mappingproxy({}),kw_only=False,_field_type=_FIELD),\n",
       " 'second': Field(name='second',type=<class 'str'>,default='the default value for second',default_factory=<dataclasses._MISSING_TYPE object at 0x76db08fa5910>,init=True,repr=True,hash=None,compare=True,metadata=mappingproxy({}),kw_only=False,_field_type=_FIELD)}"
      ]
     },
     "execution_count": 7,
     "metadata": {},
     "output_type": "execute_result"
    }
   ],
   "source": [
    "MyClass.__dataclass_fields__"
   ]
  },
  {
   "cell_type": "code",
   "execution_count": 8,
   "id": "72aa1673-8e42-4101-85c3-d3e0956f8808",
   "metadata": {},
   "outputs": [],
   "source": [
    "from batconf.manager import Configuration "
   ]
  },
  {
   "cell_type": "code",
   "execution_count": 9,
   "id": "9e05542b-acfb-43cf-9cb4-8bf1b6a2fa27",
   "metadata": {},
   "outputs": [
    {
     "name": "stdout",
     "output_type": "stream",
     "text": [
      "Help on class Configuration in module batconf.manager:\n",
      "\n",
      "class Configuration(builtins.object)\n",
      " |  Configuration(source_list: batconf.source.SourceList, config_class: Union[batconf.manager.ConfigProtocol, Any], path: Optional[str] = None)\n",
      " |\n",
      " |  Input: an application config in dictionary form\n",
      " |\n",
      " |  Configuration Hierarchy:\n",
      " |  1. Command line arguments\n",
      " |      any argument passed in via command line superseeds all other configs\n",
      " |      this must be passed to the Configuration object by the cli parser\n",
      " |  2. Environment Variables\n",
      " |      Any environment variable with the format BAT_SECTION_SUBSECTION_KEY\n",
      " |      will override the value of configuration.section.subsection.key\n",
      " |  3. Config File\n",
      " |      User defined config file,\n",
      " |      a default file in the current working directory may be set\n",
      " |      the config file may be specified as a cli arg\n",
      " |      the config file path may be set to the BAT_CONFIG_FILE ENV variable\n",
      " |  4. Default Values\n",
      " |      default values may be set in the config specification\n",
      " |\n",
      " |  Methods defined here:\n",
      " |\n",
      " |  __getattr__(self, name: str)\n",
      " |\n",
      " |  __init__(self, source_list: batconf.source.SourceList, config_class: Union[batconf.manager.ConfigProtocol, Any], path: Optional[str] = None)\n",
      " |      Initialize self.  See help(type(self)) for accurate signature.\n",
      " |\n",
      " |  __repr__(self) -> str\n",
      " |      Return repr(self).\n",
      " |\n",
      " |  __str__(self) -> str\n",
      " |      Return str(self).\n",
      " |\n",
      " |  ----------------------------------------------------------------------\n",
      " |  Data descriptors defined here:\n",
      " |\n",
      " |  __dict__\n",
      " |      dictionary for instance variables\n",
      " |\n",
      " |  __weakref__\n",
      " |      list of weak references to the object\n",
      "\n"
     ]
    }
   ],
   "source": [
    "help(Configuration)"
   ]
  },
  {
   "cell_type": "code",
   "execution_count": 10,
   "id": "6b967dd4-bfba-4a3e-b460-7eabb78ef5b4",
   "metadata": {},
   "outputs": [],
   "source": [
    "from batconf.source import SourceList"
   ]
  },
  {
   "cell_type": "code",
   "execution_count": 11,
   "id": "6560beca-c2a1-4467-972b-52862a2a25de",
   "metadata": {},
   "outputs": [],
   "source": [
    "cfg = Configuration(source_list=SourceList([]), config_class=MyClass, path='root')"
   ]
  },
  {
   "cell_type": "code",
   "execution_count": 12,
   "id": "ac38ed08-412e-428d-8f19-c6b475113c4a",
   "metadata": {},
   "outputs": [
    {
     "data": {
      "text/plain": [
       "'the default value for second'"
      ]
     },
     "execution_count": 12,
     "metadata": {},
     "output_type": "execute_result"
    }
   ],
   "source": [
    "cfg.second"
   ]
  },
  {
   "cell_type": "code",
   "execution_count": 13,
   "id": "ec65c7bb-ac8a-44da-bc65-e9cf057d4ab8",
   "metadata": {},
   "outputs": [
    {
     "ename": "AttributeError",
     "evalue": "required configuration value not found.\n please provide first as a commandline argument\n or add root.first to your config file\n or add ROOT_FIRST to your Environment",
     "output_type": "error",
     "traceback": [
      "\u001b[31m---------------------------------------------------------------------------\u001b[39m",
      "\u001b[31mAttributeError\u001b[39m                            Traceback (most recent call last)",
      "\u001b[36mCell\u001b[39m\u001b[36m \u001b[39m\u001b[32mIn[13]\u001b[39m\u001b[32m, line 1\u001b[39m\n\u001b[32m----> \u001b[39m\u001b[32m1\u001b[39m cfg.first\n",
      "\u001b[36mFile \u001b[39m\u001b[32m~/Projects/batconf/batconf/manager.py:82\u001b[39m, in \u001b[36mConfiguration.__getattr__\u001b[39m\u001b[34m(self, name)\u001b[39m\n\u001b[32m     80\u001b[39m \u001b[38;5;28;01mif\u001b[39;00m cfg := \u001b[38;5;28mself\u001b[39m._sub_configs.get(name, \u001b[38;5;28;01mNone\u001b[39;00m):\n\u001b[32m     81\u001b[39m     \u001b[38;5;28;01mreturn\u001b[39;00m cfg\n\u001b[32m---> \u001b[39m\u001b[32m82\u001b[39m \u001b[38;5;28;01mreturn\u001b[39;00m \u001b[38;5;28mself\u001b[39m._get_config_opt(name)\n",
      "\u001b[36mFile \u001b[39m\u001b[32m~/Projects/batconf/batconf/manager.py:91\u001b[39m, in \u001b[36mConfiguration._get_config_opt\u001b[39m\u001b[34m(self, key)\u001b[39m\n\u001b[32m     88\u001b[39m \u001b[38;5;28;01mif\u001b[39;00m value := \u001b[38;5;28mself\u001b[39m._default_values.get(key, \u001b[38;5;28;01mNone\u001b[39;00m):\n\u001b[32m     89\u001b[39m     \u001b[38;5;28;01mreturn\u001b[39;00m value\n\u001b[32m---> \u001b[39m\u001b[32m91\u001b[39m \u001b[38;5;28;01mraise\u001b[39;00m \u001b[38;5;167;01mAttributeError\u001b[39;00m(\n\u001b[32m     92\u001b[39m     \u001b[33m'\u001b[39m\u001b[33mrequired configuration value not found.\u001b[39m\u001b[38;5;130;01m\\n\u001b[39;00m\u001b[33m'\u001b[39m\n\u001b[32m     93\u001b[39m     \u001b[33mf\u001b[39m\u001b[33m'\u001b[39m\u001b[33m please provide \u001b[39m\u001b[38;5;132;01m{\u001b[39;00mkey\u001b[38;5;132;01m}\u001b[39;00m\u001b[33m'\u001b[39m\n\u001b[32m     94\u001b[39m     \u001b[33m'\u001b[39m\u001b[33m as a commandline argument\u001b[39m\u001b[38;5;130;01m\\n\u001b[39;00m\u001b[33m'\u001b[39m\n\u001b[32m     95\u001b[39m     \u001b[33mf\u001b[39m\u001b[33m'\u001b[39m\u001b[33m or add \u001b[39m\u001b[38;5;132;01m{\u001b[39;00m\u001b[38;5;28mself\u001b[39m._path\u001b[38;5;132;01m}\u001b[39;00m\u001b[33m.\u001b[39m\u001b[38;5;132;01m{\u001b[39;00mkey\u001b[38;5;132;01m}\u001b[39;00m\u001b[33m'\u001b[39m\n\u001b[32m     96\u001b[39m     \u001b[33m'\u001b[39m\u001b[33m to your config file\u001b[39m\u001b[38;5;130;01m\\n\u001b[39;00m\u001b[33m'\u001b[39m\n\u001b[32m     97\u001b[39m     \u001b[33mf\u001b[39m\u001b[33m'\u001b[39m\u001b[33m or add \u001b[39m\u001b[38;5;132;01m{\u001b[39;00m\u001b[38;5;28mself\u001b[39m._path.replace(\u001b[33m\"\u001b[39m\u001b[33m.\u001b[39m\u001b[33m\"\u001b[39m,\u001b[38;5;250m \u001b[39m\u001b[33m\"\u001b[39m\u001b[33m_\u001b[39m\u001b[33m\"\u001b[39m).upper()\u001b[38;5;132;01m}\u001b[39;00m\u001b[33m_\u001b[39m\u001b[38;5;132;01m{\u001b[39;00mkey.upper()\u001b[38;5;132;01m}\u001b[39;00m\u001b[33m'\u001b[39m\n\u001b[32m     98\u001b[39m     \u001b[33m'\u001b[39m\u001b[33m to your Environment\u001b[39m\u001b[33m'\u001b[39m\n\u001b[32m     99\u001b[39m )\n",
      "\u001b[31mAttributeError\u001b[39m: required configuration value not found.\n please provide first as a commandline argument\n or add root.first to your config file\n or add ROOT_FIRST to your Environment"
     ]
    }
   ],
   "source": [
    "cfg.first"
   ]
  },
  {
   "cell_type": "code",
   "execution_count": 15,
   "id": "ce7a38e4-21f0-4e60-8016-007c2bdf3bf7",
   "metadata": {},
   "outputs": [
    {
     "name": "stdout",
     "output_type": "stream",
     "text": [
      "root <class '__main__.MyClass'>:\n",
      "    |- first: \"MISSING_VALUE\"\n",
      "    |- second: \"the default value for second\"\n",
      "SourceList=[\n",
      "    \n",
      "]\n"
     ]
    }
   ],
   "source": [
    "print(cfg)"
   ]
  },
  {
   "cell_type": "code",
   "execution_count": null,
   "id": "3f8b3034-3f5e-4a48-a6ca-48d8ccdd81c2",
   "metadata": {},
   "outputs": [],
   "source": []
  }
 ],
 "metadata": {
  "kernelspec": {
   "display_name": "Python Batconf",
   "language": "python",
   "name": "batconf"
  },
  "language_info": {
   "codemirror_mode": {
    "name": "ipython",
    "version": 3
   },
   "file_extension": ".py",
   "mimetype": "text/x-python",
   "name": "python",
   "nbconvert_exporter": "python",
   "pygments_lexer": "ipython3",
   "version": "3.12.4"
  }
 },
 "nbformat": 4,
 "nbformat_minor": 5
}
